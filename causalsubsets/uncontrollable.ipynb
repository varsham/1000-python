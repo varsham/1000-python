{
 "cells": [
  {
   "cell_type": "code",
   "execution_count": 1,
   "id": "6bc66f60-f3e4-4766-b2b6-e44ab9fe740f",
   "metadata": {},
   "outputs": [
    {
     "data": {
      "text/plain": [
       "'\\n!pip3 install numpy\\n!pip3 install pandas\\n!pip3 install graphviz\\n!pip3 install pydot\\n!pip3 install git+https://github.com/LeeKamentsky/python-javabridge.git#egg=javabridge\\n!pip3 install ipycytoscape\\n!pip3 install git+git://github.com/bd2kccd/py-causal\\n'"
      ]
     },
     "execution_count": 1,
     "metadata": {},
     "output_type": "execute_result"
    }
   ],
   "source": [
    "\"\"\"\n",
    "!pip3 install numpy\n",
    "!pip3 install pandas\n",
    "!pip3 install graphviz\n",
    "!pip3 install pydot\n",
    "!pip3 install git+https://github.com/LeeKamentsky/python-javabridge.git#egg=javabridge\n",
    "!pip3 install ipycytoscape\n",
    "!pip3 install git+git://github.com/bd2kccd/py-causal\n",
    "\"\"\""
   ]
  },
  {
   "cell_type": "code",
   "execution_count": 2,
   "id": "c1d07f2c-5ccf-41fb-bb02-07ccd91910f9",
   "metadata": {},
   "outputs": [],
   "source": [
    "import os\n",
    "import pandas as pd\n",
    "import graphviz\n",
    "import pydot\n",
    "import numpy as np\n",
    "from pycausal.pycausal import pycausal as pc\n",
    "from IPython.display import SVG \n",
    "import ipycytoscape\n",
    "from ipycytoscape import cytoscape\n",
    "from ipycytoscape import CytoscapeWidget\n",
    "import ipywidgets as widgets"
   ]
  },
  {
   "cell_type": "code",
   "execution_count": 3,
   "id": "38d7dd94-a7a1-4735-a562-f7fe97b78ec7",
   "metadata": {},
   "outputs": [],
   "source": [
    "incols = pd.read_table('uncontrollable.txt')['attributes'].tolist()\n",
    "\n",
    "\n",
    "# Names of columns (eventually, names of nodes)\n",
    "df = pd.read_table('totaldata.csv', sep=',', usecols=lambda x: x in incols)\n",
    "df = df[df[\"num_deaths\"].notnull()]\n",
    "#df = pd.read_table('mask.csv', sep=',')\n",
    "#df = df[df[\"state\"] == \"Delaware\"]\n",
    "#df.head()\n",
    "#df.columns.tolist()"
   ]
  },
  {
   "cell_type": "code",
   "execution_count": 4,
   "id": "671dd912-3fb1-4b88-9161-6156901c63a2",
   "metadata": {},
   "outputs": [
    {
     "name": "stdout",
     "output_type": "stream",
     "text": [
      "Graph Nodes:\n",
      "num_deaths;percent_fair_or_poor_health;percent_low_birthweight;percent_children_in_poverty;num_households;percent_single_parent_households;age_adjusted_death_rate;child_mortality_rate;infant_mortality_rate;percent_disconnected_youth;percent_less_than_18_years_of_age;percent_65_and_over;percent_female;percent_rural\n",
      "\n",
      "Graph Edges:\n",
      "1. age_adjusted_death_rate --> percent_less_than_18_years_of_age\n",
      "2. num_deaths --> age_adjusted_death_rate\n",
      "3. num_deaths --- percent_female\n",
      "4. num_deaths --> percent_less_than_18_years_of_age\n",
      "5. num_households --> age_adjusted_death_rate\n",
      "6. num_households --- num_deaths\n",
      "7. num_households --> percent_65_and_over\n",
      "8. percent_65_and_over --> percent_children_in_poverty\n",
      "9. percent_65_and_over --> percent_less_than_18_years_of_age\n",
      "10. percent_65_and_over --> percent_single_parent_households\n",
      "11. percent_children_in_poverty --> age_adjusted_death_rate\n",
      "12. percent_children_in_poverty --> percent_less_than_18_years_of_age\n",
      "13. percent_children_in_poverty --> percent_single_parent_households\n",
      "14. percent_fair_or_poor_health --> age_adjusted_death_rate\n",
      "15. percent_fair_or_poor_health --> percent_65_and_over\n",
      "16. percent_fair_or_poor_health --> percent_children_in_poverty\n",
      "17. percent_female --> age_adjusted_death_rate\n",
      "18. percent_female --> percent_65_and_over\n",
      "19. percent_female --> percent_less_than_18_years_of_age\n",
      "20. percent_female --> percent_single_parent_households\n",
      "21. percent_single_parent_households --> percent_less_than_18_years_of_age\n",
      "\n",
      "Graph Attributes:\n",
      "BIC: NaN\n",
      "\n",
      "Graph Node Attributes:\n",
      "BIC: [num_deaths: -46574.217538;percent_fair_or_poor_health: -8969.018470;percent_low_birthweight: NaN;percent_children_in_poverty: -8796.570643;num_households: -73101.354603;percent_single_parent_households: -11195.936982;age_adjusted_death_rate: -24614.772723;child_mortality_rate: NaN;infant_mortality_rate: NaN;percent_disconnected_youth: NaN;percent_less_than_18_years_of_age: -5313.477834;percent_65_and_over: -8465.664728;percent_female: -4512.809787;percent_rural: NaN]\n",
      "\n"
     ]
    }
   ],
   "source": [
    "# Drops the column called \"state\"\n",
    "#new_df.head()\n",
    "# Prints the first five values of data frame, zero-indexed\n",
    "\n",
    "#df = new_df\n",
    "#!/usr/local/bin/python\n",
    "\n",
    "from pycausal.pycausal import pycausal as pc\n",
    "pc = pc()\n",
    "pc.start_vm()\n",
    "\n",
    "from pycausal import search as s\n",
    "tetrad = s.tetradrunner()\n",
    "\n",
    "\"\"\"\n",
    "tetrad.run(algoId = 'fges', dfs = df, scoreId = 'bdeu-score', dataType = 'discrete',\n",
    "           maxDegree = 3, faithfulnessAssumed = True, verbose = False, \n",
    "           numberResampling = 5, resamplingEnsemble = 1, addOriginalDataset = True)\n",
    "\n",
    "tetrad.run(algoId = 'gfci', dfs = df, testId = 'bdeu-test', scoreId = 'bdeu-score',  dataType = 'discrete',\n",
    "           maxDegree = 3, maxPathLength = -1, completeRuleSetUsed = False, \n",
    "           faithfulnessAssumed = True, verbose = False)\n",
    "\n",
    "           \n",
    "           tetrad.run(algoId = 'fges', dfs = df, scoreId = 'cg-bic-score', dataType = 'mixed', numCategoriesToDiscretize = 4,\n",
    "           maxDegree = 3, faithfulnessAssumed = True, verbose = False, \n",
    "           numberResampling = 5, resamplingEnsemble = 1, addOriginalDataset = True)\n",
    "\n",
    "\n",
    "tetrad.run(algoId = 'fges', dfs = df, scoreId = 'sem-bic', dataType = 'continuous',\n",
    "           maxDegree = -1, faithfulnessAssumed = True, verbose = False)\n",
    "\n",
    "\n",
    "tetrad.run(algoId = 'fges', dfs = df, scoreId = 'cg-bic-score', dataType = 'discrete',\n",
    "           maxDegree = 3, faithfulnessAssumed = True, \n",
    "           symmetricFirstStep = True, verbose = True)\n",
    "\"\"\"\n",
    "tetrad.run(algoId = 'fges', dfs = df, scoreId = 'sem-bic', dataType = 'continuous',\n",
    "           maxDegree = -1, faithfulnessAssumed = True, verbose = False)\n",
    "\n",
    "\n",
    "graph = tetrad.getTetradGraph()\n",
    "\n",
    "\"\"\"\n",
    "dot_str = pc.tetradGraphToDot(graph)\n",
    "graphs = pydot.graph_from_dot_data(dot_str)\n",
    "graphs[0].write_svg('us-county-health-data.svg')\n",
    "\"\"\"\n",
    "\n",
    "print(graph)\n",
    "#print('Graph BIC: {}'.format(graph.getAttribute('BIC')))"
   ]
  },
  {
   "cell_type": "code",
   "execution_count": 5,
   "id": "106b8799-adb7-4313-b8c5-49563255bd77",
   "metadata": {},
   "outputs": [],
   "source": [
    "def getGraphNodeByName(g, n):\n",
    "    nodes = g.getNodes()\n",
    "    nit = nodes.iterator()\n",
    "    while nit.hasNext():\n",
    "        node = nit.next()\n",
    "        if node.getName() == n:\n",
    "            return node\n",
    "    return None\n",
    "\n",
    "\n",
    "def buildWidget(g, w):\n",
    "    w.graph.clear()\n",
    "    \n",
    "    edges = g.getEdges()\n",
    "    eit = edges.iterator()\n",
    "    connectedNodes = []\n",
    "    while eit.hasNext():\n",
    "        edge= eit.next()\n",
    "        n1 = edge.getNode1().getName()\n",
    "        n2 = edge.getNode2().getName()\n",
    "        connectedNodes.append(n1)\n",
    "        connectedNodes.append(n2)\n",
    "\n",
    "    nodes = g.getNodes()\n",
    "    nit = nodes.iterator()\n",
    "    while nit.hasNext():\n",
    "        node = nit.next()\n",
    "        nodeName = node.getName()\n",
    "        if nodeName in connectedNodes:\n",
    "            w.graph.add_node(cytoscape.Node(data={\"id\":nodeName, \"label\":nodeName}))\n",
    "    \n",
    "    eit = edges.iterator()\n",
    "    while eit.hasNext():\n",
    "        edge= eit.next()\n",
    "        n1 = edge.getNode1().getName()\n",
    "        n2 = edge.getNode2().getName()\n",
    "        cEdge = cytoscape.Edge(data={\"id\":f'{n1}_{n2}',\"source\": n1, \"target\": n2})\n",
    "        w.graph.add_edge(cEdge, True, True)\n",
    "        \n",
    "    \n",
    "    #w.set_layout(name='dagre', nodeSpacing=10, edgeLengthVal=10)\n",
    "    w.set_style([\n",
    "            {\n",
    "            'selector': 'node',\n",
    "            'style': {\n",
    "                'font-family': 'arial',\n",
    "                'font-size': '10px',\n",
    "                'label': 'data(label)',\n",
    "                'background-color': 'blue'\n",
    "                }\n",
    "            },\n",
    "            {\n",
    "                'selector': 'edge',\n",
    "                'style': {\n",
    "                    'width': 4,\n",
    "                    'line-color': '#9dbaea',\n",
    "                    'target-arrow-shape': 'triangle',\n",
    "                    'target-arrow-color': '#9dbaea',\n",
    "                    'curve-style': 'bezier'\n",
    "                }\n",
    "            },\n",
    "                {\n",
    "          \"selector\": \"edge.selected\",\n",
    "          \"css\": {\n",
    "            \"line-color\": \"red\"\n",
    "          },\n",
    "        },\n",
    "        \n",
    "        {\n",
    "            \"selector\": \"node.selected\",\n",
    "            \"css\": {\n",
    "                \"background-color\": \"red\"\n",
    "            },\n",
    "        }\n",
    "    ])"
   ]
  },
  {
   "cell_type": "code",
   "execution_count": null,
   "id": "65f9429e-64c9-4238-b1c8-01ca26fc7b1c",
   "metadata": {},
   "outputs": [],
   "source": []
  },
  {
   "cell_type": "code",
   "execution_count": 6,
   "id": "0b768849-bce1-43c1-aad7-6cd7422b2999",
   "metadata": {},
   "outputs": [],
   "source": [
    "selectedNodes = []\n",
    "selectedEdges = []\n",
    "\n",
    "def getCytoGraphEdge(id):\n",
    "    for ne in widget1.graph.edges:\n",
    "        if ne.data[\"id\"] == id:\n",
    "            return ne\n",
    "    return None\n",
    "\n",
    "def getCytoGraphNode(id):\n",
    "    for nd in widget1.graph.nodes:\n",
    "        if nd.data[\"id\"] == id:\n",
    "            return nd\n",
    "    return None\n",
    "\n",
    "def toggleCytoGraphEdgeClass(id, className, add):\n",
    "    cEdge = getCytoGraphEdge(id)\n",
    "    toggleCytoGraphClass(cEdge, className, add)\n",
    "\n",
    "def toggleCytoGraphNodeClass(id, className, add):\n",
    "    cNode = getCytoGraphNode(id)\n",
    "    toggleCytoGraphClass(cNode, className, add)\n",
    "    \n",
    "def toggleCytoGraphClass(el, className, add):\n",
    "    classes = set(el.classes.split(\" \"))\n",
    "    if add:\n",
    "        classes.add(className)\n",
    "    else:\n",
    "        if className in classes:\n",
    "            classes.remove(className)\n",
    "        \n",
    "    el.classes = \" \".join(classes)\n",
    "\n",
    "graphbtn = widgets.Button(description=\"Generate original graph\", disabled=False)\n",
    "deletebtn = widgets.Button(description=\"Delete Edge\", disabled=True)\n",
    "changebtn = widgets.Button(description=\"Change Direction\", disabled=True)\n",
    "addbtn = widgets.Button(description=\"Add Edge\", disabled=True)\n",
    "widget1 = ipycytoscape.CytoscapeWidget()\n",
    "buildWidget(graph, widget1)"
   ]
  },
  {
   "cell_type": "code",
   "execution_count": 7,
   "id": "996e827d-d956-4ef8-b928-6c7b85396714",
   "metadata": {},
   "outputs": [],
   "source": [
    "from ipywidgets import Output\n",
    "from IPython.display import display\n",
    "from pprint import pformat\n",
    "\n",
    "out = Output()\n",
    "\n",
    "def edge_selected(e):\n",
    "    \n",
    "    if len(selectedEdges) == 0:\n",
    "        selectedEdges.append(e)\n",
    "        with out:\n",
    "            print(f'selected: {pformat(e[\"data\"])}')\n",
    "    else:\n",
    "        toggleCytoGraphEdgeClass(selectedEdges[0][\"data\"][\"id\"], \"selected\", False)\n",
    "        if selectedEdges[0][\"data\"][\"id\"] == e[\"data\"][\"id\"]:\n",
    "            selectedEdges.clear()\n",
    "        else:\n",
    "            selectedEdges[0] = e\n",
    "        \n",
    "        \n",
    "    empty = len(selectedEdges) == 0\n",
    "    if not empty:\n",
    "        toggleCytoGraphEdgeClass(selectedEdges[0][\"data\"][\"id\"], \"selected\", True)\n",
    "    \n",
    "    deletebtn.disabled = empty\n",
    "    changebtn.disabled = empty\n",
    "    addbtn.disabled = empty\n",
    "    \n",
    "def node_selected(n):\n",
    "    for nd in selectedNodes:\n",
    "        if nd[\"data\"][\"id\"] == n[\"data\"][\"id\"]:\n",
    "            toggleCytoGraphNodeClass(n[\"data\"][\"id\"], \"selected\", False)\n",
    "            selectedNodes.remove(nd)\n",
    "            return\n",
    "    if len(selectedNodes) < 2:\n",
    "        selectedNodes.append(n)\n",
    "        with out:\n",
    "            print(f'selected: {pformat(n[\"data\"])}')\n",
    "        toggleCytoGraphNodeClass(n[\"data\"][\"id\"], \"selected\", True)\n",
    "    if len(selectedNodes) == 2:\n",
    "        addbtn.disabled=False\n",
    "    \n",
    "def clearSelectedNodes():\n",
    "    for nd in selectedNodes:\n",
    "        toggleCytoGraphNodeClass(nd[\"data\"][\"id\"], \"selected\", False)\n",
    "    selectedNodes.clear()\n",
    "    addbtn.disabled = True\n",
    "    \n",
    "def clearSelectedEdges():\n",
    "    selectedEdges.clear()\n",
    "    deletebtn.disabled = True\n",
    "    changebtn.disabled = True\n",
    "\n",
    "def addEdge(b):\n",
    "    if len(selectedNodes) != 2:\n",
    "        return\n",
    "    n1id = selectedNodes[0][\"data\"][\"id\"]\n",
    "    n2id = selectedNodes[1][\"data\"][\"id\"]\n",
    "     \n",
    "    n1 = getGraphNodeByName(graph, n1id)\n",
    "    n2 = getGraphNodeByName(graph, n2id)\n",
    "    \n",
    "    exists = graph.existsDirectedPathFromTo(n1, n2) or graph.existsDirectedPathFromTo(n2, n1)\n",
    "    with out:\n",
    "        print(exists)\n",
    "    \n",
    "    if not exists:\n",
    "        graph.addDirectedEdge(n1, n2)\n",
    "        with out:\n",
    "            print(f'adding edge between: {n1id}, {n2id}')\n",
    "        buildWidget(graph, widget1)\n",
    "    else:\n",
    "        with out:\n",
    "            print(f'edge already exists between {n1id}, {n2id}')\n",
    "    clearSelectedNodes()\n",
    "    \n",
    "        \n",
    "    \n",
    "def log_clicks(node):\n",
    "    with out:\n",
    "        print(f'clicked: {pformat(node)}')\n",
    "    if length(newEdge) == 2:\n",
    "        deletebtn[disabled] = True\n",
    "    else:\n",
    "        newEdge.append(node[\"id\"])\n",
    "\n",
    "    \n",
    "def removeEdge(b):\n",
    "    if len(selectedEdges) == 1:\n",
    "        e = selectedEdges[0]\n",
    "        with out:\n",
    "            print(f'removing: {pformat(e[\"data\"])}')\n",
    "        graph.removeEdge(getGraphNodeByName(graph, e[\"data\"][\"source\"]), getGraphNodeByName(graph, e[\"data\"][\"target\"]))\n",
    "        clearSelectedEdges()\n",
    "        buildWidget(graph, widget1)\n",
    "        \n",
    "\n",
    "        \n",
    "def changeDirection(b):\n",
    "    if len(selectedEdges) == 1:\n",
    "        e = selectedEdges[0]\n",
    "        source = e[\"data\"][\"source\"]\n",
    "        target = e[\"data\"][\"target\"]\n",
    "        n1 = getGraphNodeByName(graph, source)\n",
    "        n2 = getGraphNodeByName(graph, target)\n",
    "        graph.removeEdge(n1, n2)\n",
    "        graph.addDirectedEdge(n2, n1)\n",
    "        clearSelectedEdges()\n",
    "        buildWidget(graph, widget1)\n",
    "        ne = getCytoGraphEdge(f'{target}_{source}')\n",
    "        with out:\n",
    "            print(f'edge with new direction: {pformat(ne.data)}')\n",
    "\n",
    "\"\"\"\n",
    "def log_mouseovers(node):\n",
    "    with out:\n",
    "        print(f'mouseover: {pformat(node)}')\n",
    "\"\"\"\n",
    "\n",
    "\n",
    "\n",
    "\n",
    "widget1.on('edge', 'click', edge_selected)\n",
    "widget1.on('node', 'click', node_selected)\n",
    "#widget1.on('node', 'mouseover', log_mouseovers)\n",
    "deletebtn.on_click(callback=removeEdge)\n",
    "changebtn.on_click(callback=changeDirection)\n",
    "addbtn.on_click(callback=addEdge)\n",
    "\n",
    "# pc.stop_vm()"
   ]
  },
  {
   "cell_type": "code",
   "execution_count": 8,
   "id": "34c71928-2bca-4ac9-87d0-498bbe47af45",
   "metadata": {},
   "outputs": [
    {
     "data": {
      "application/vnd.jupyter.widget-view+json": {
       "model_id": "aa6af1ba672e405586da50f2f5ee236a",
       "version_major": 2,
       "version_minor": 0
      },
      "text/plain": [
       "CytoscapeWidget(cytoscape_layout={'name': 'cola'}, cytoscape_style=[{'selector': 'node', 'style': {'font-famil…"
      ]
     },
     "metadata": {},
     "output_type": "display_data"
    },
    {
     "data": {
      "application/vnd.jupyter.widget-view+json": {
       "model_id": "848dce3e15574274b04d89cc02e4ad32",
       "version_major": 2,
       "version_minor": 0
      },
      "text/plain": [
       "Button(description='Delete Edge', disabled=True, style=ButtonStyle())"
      ]
     },
     "metadata": {},
     "output_type": "display_data"
    },
    {
     "data": {
      "application/vnd.jupyter.widget-view+json": {
       "model_id": "ee8676598c384a99bf841ed982869850",
       "version_major": 2,
       "version_minor": 0
      },
      "text/plain": [
       "Button(description='Change Direction', disabled=True, style=ButtonStyle())"
      ]
     },
     "metadata": {},
     "output_type": "display_data"
    },
    {
     "data": {
      "application/vnd.jupyter.widget-view+json": {
       "model_id": "5245574211534c6ca2effc3f289a3b21",
       "version_major": 2,
       "version_minor": 0
      },
      "text/plain": [
       "Button(description='Add Edge', disabled=True, style=ButtonStyle())"
      ]
     },
     "metadata": {},
     "output_type": "display_data"
    },
    {
     "data": {
      "application/vnd.jupyter.widget-view+json": {
       "model_id": "89f2b87cc0be4b7d9949647217bb6f5e",
       "version_major": 2,
       "version_minor": 0
      },
      "text/plain": [
       "Button(description='Generate original graph', style=ButtonStyle())"
      ]
     },
     "metadata": {},
     "output_type": "display_data"
    },
    {
     "data": {
      "application/vnd.jupyter.widget-view+json": {
       "model_id": "00df7d0120c04ffc9b3345838100f5a4",
       "version_major": 2,
       "version_minor": 0
      },
      "text/plain": [
       "Output()"
      ]
     },
     "metadata": {},
     "output_type": "display_data"
    },
    {
     "data": {
      "text/plain": [
       "'\\nOriginal graph:\\n\\nwww3.cs.stonybrook.edu/~mueller/papers/causalAnalyst.pdf\\n'"
      ]
     },
     "execution_count": 8,
     "metadata": {},
     "output_type": "execute_result"
    }
   ],
   "source": [
    "\n",
    "display(widget1)\n",
    "display(deletebtn)\n",
    "display(changebtn)\n",
    "display(addbtn)\n",
    "display(graphbtn)\n",
    "display(out)\n",
    "\n",
    "\"\"\"\n",
    "Original graph:\n",
    "\n",
    "www3.cs.stonybrook.edu/~mueller/papers/causalAnalyst.pdf\n",
    "\"\"\"\n",
    "\n"
   ]
  },
  {
   "cell_type": "code",
   "execution_count": null,
   "id": "584cc82d-2d21-4bb1-be2d-73512c7e8ac2",
   "metadata": {},
   "outputs": [],
   "source": []
  }
 ],
 "metadata": {
  "kernelspec": {
   "display_name": "Python 3 (ipykernel)",
   "language": "python",
   "name": "python3"
  },
  "language_info": {
   "codemirror_mode": {
    "name": "ipython",
    "version": 3
   },
   "file_extension": ".py",
   "mimetype": "text/x-python",
   "name": "python",
   "nbconvert_exporter": "python",
   "pygments_lexer": "ipython3",
   "version": "3.9.6"
  },
  "widgets": {
   "application/vnd.jupyter.widget-state+json": {
    "state": {
     "00df7d0120c04ffc9b3345838100f5a4": {
      "model_module": "@jupyter-widgets/output",
      "model_module_version": "1.0.0",
      "model_name": "OutputModel",
      "state": {
       "layout": "IPY_MODEL_eba535d127b747c89822b3b724042719"
      }
     },
     "0bc5975ae57d41e6a66030a439013157": {
      "model_module": "jupyter-cytoscape",
      "model_module_version": "^1.2.2",
      "model_name": "EdgeModel",
      "state": {
       "_model_module_version": "^1.2.2",
       "_view_module_version": "^1.2.2",
       "classes": " directed  multiple_edges ",
       "data": {
        "id": "percent_65_and_over_percent_children_in_poverty",
        "source": "percent_65_and_over",
        "target": "percent_children_in_poverty"
       },
       "selectable": false
      }
     },
     "0dbff1dcaaf04ba88e365650b3cf61d4": {
      "model_module": "@jupyter-widgets/base",
      "model_module_version": "1.2.0",
      "model_name": "LayoutModel",
      "state": {}
     },
     "2903fda4b6514999a679250d1cf680d4": {
      "model_module": "jupyter-cytoscape",
      "model_module_version": "^1.2.2",
      "model_name": "NodeModel",
      "state": {
       "_model_module_version": "^1.2.2",
       "_view_module_version": "^1.2.2",
       "data": {
        "id": "percent_female",
        "label": "percent_female"
       },
       "grabbable": true,
       "grabbed": false,
       "position": {
        "x": 387.00540031290006,
        "y": 252.01894303321944
       },
       "selectable": false
      }
     },
     "2c9d1f31a34d4dc9aaf98328c1fb1671": {
      "model_module": "@jupyter-widgets/base",
      "model_module_version": "1.2.0",
      "model_name": "LayoutModel",
      "state": {}
     },
     "2fccff6f12ca4b939b808f65fa12d771": {
      "model_module": "jupyter-cytoscape",
      "model_module_version": "^1.2.2",
      "model_name": "EdgeModel",
      "state": {
       "_model_module_version": "^1.2.2",
       "_view_module_version": "^1.2.2",
       "classes": " directed  multiple_edges ",
       "data": {
        "id": "num_households_num_deaths",
        "source": "num_households",
        "target": "num_deaths"
       },
       "selectable": false
      }
     },
     "3b91c6ed29304d4ea11a1902ea1d2808": {
      "model_module": "jupyter-cytoscape",
      "model_module_version": "^1.2.2",
      "model_name": "EdgeModel",
      "state": {
       "_model_module_version": "^1.2.2",
       "_view_module_version": "^1.2.2",
       "classes": " directed  multiple_edges ",
       "data": {
        "id": "percent_fair_or_poor_health_percent_65_and_over",
        "source": "percent_fair_or_poor_health",
        "target": "percent_65_and_over"
       },
       "selectable": false
      }
     },
     "411fa437afee48838ce460318b58ecfe": {
      "model_module": "jupyter-cytoscape",
      "model_module_version": "^1.2.2",
      "model_name": "EdgeModel",
      "state": {
       "_model_module_version": "^1.2.2",
       "_view_module_version": "^1.2.2",
       "classes": " directed  multiple_edges ",
       "data": {
        "id": "percent_female_percent_single_parent_households",
        "source": "percent_female",
        "target": "percent_single_parent_households"
       },
       "selectable": false
      }
     },
     "4c2185b7a3b64f398131125a9b417ece": {
      "model_module": "jupyter-cytoscape",
      "model_module_version": "^1.2.2",
      "model_name": "GraphModel",
      "state": {
       "_adj": {
        "age_adjusted_death_rate": {},
        "num_deaths": {},
        "num_households": {},
        "percent_65_and_over": {},
        "percent_children_in_poverty": {},
        "percent_fair_or_poor_health": {},
        "percent_female": {},
        "percent_less_than_18_years_of_age": {},
        "percent_single_parent_households": {}
       },
       "_model_module_version": "^1.2.2",
       "_view_module": "jupyter-cytoscape",
       "_view_module_version": "^1.2.2",
       "edges": [
        "IPY_MODEL_6cca9a9e912b4e20a73fddfb7b80bf37",
        "IPY_MODEL_8a588d56ac32462aa584bc108bf03c16",
        "IPY_MODEL_0bc5975ae57d41e6a66030a439013157",
        "IPY_MODEL_536bfe0c468f4d028b9c3cb5edfcf057",
        "IPY_MODEL_871fff1c0d724c67898b2f81a23f4690",
        "IPY_MODEL_979a523b2f29447f905682c691203314",
        "IPY_MODEL_cc65dde29b114c989dc0c1278f7878c7",
        "IPY_MODEL_e629c18c30154d4e809a9d904fcce169",
        "IPY_MODEL_e4e07b1474e54fc0abb037c5a0f30373",
        "IPY_MODEL_d4286b5edee7403abdeffa141d8e59e5",
        "IPY_MODEL_a6304c0fced3440e86e8552539663f67",
        "IPY_MODEL_e7fe3a917caa4ce6be770a52ed72811e",
        "IPY_MODEL_59e94097d4604dab96112c74114332e7",
        "IPY_MODEL_2fccff6f12ca4b939b808f65fa12d771",
        "IPY_MODEL_590414437fd44ed0998d97ef50adfd4d",
        "IPY_MODEL_3b91c6ed29304d4ea11a1902ea1d2808",
        "IPY_MODEL_ebcd22ef76d646eb9bb9377f111ef1ad",
        "IPY_MODEL_411fa437afee48838ce460318b58ecfe",
        "IPY_MODEL_a8d3e803811f420aa79df100a2b60d14",
        "IPY_MODEL_f9078d39b98149a29e956f01cb7205ae",
        "IPY_MODEL_cac9f68178c14d5e9fd2eb2800e3a87c"
       ],
       "nodes": [
        "IPY_MODEL_ba34b29a77ec47d5863ae055badeb55c",
        "IPY_MODEL_535555aad87e46fe878214de76d22904",
        "IPY_MODEL_c01dd5e1c59d4e56b5f95bc41adcf1fa",
        "IPY_MODEL_80f2bc839b3d49dd963e50abd296d955",
        "IPY_MODEL_692ff4b14aca4e20b9ae76a80a5e4eb3",
        "IPY_MODEL_9829039f12314e55a65d9055964b6615",
        "IPY_MODEL_a400f8d1ad5a47aaaeabe13468582003",
        "IPY_MODEL_ef52d7d9a5814c07934fc46bb14f4b90",
        "IPY_MODEL_2903fda4b6514999a679250d1cf680d4"
       ]
      }
     },
     "5245574211534c6ca2effc3f289a3b21": {
      "model_module": "@jupyter-widgets/controls",
      "model_module_version": "1.5.0",
      "model_name": "ButtonModel",
      "state": {
       "description": "Add Edge",
       "disabled": true,
       "layout": "IPY_MODEL_e32c8374d1864a249ee11f070b70b345",
       "style": "IPY_MODEL_a233afed0d2943f78534e4758a4fcaaa"
      }
     },
     "535555aad87e46fe878214de76d22904": {
      "model_module": "jupyter-cytoscape",
      "model_module_version": "^1.2.2",
      "model_name": "NodeModel",
      "state": {
       "_model_module_version": "^1.2.2",
       "_view_module_version": "^1.2.2",
       "data": {
        "id": "percent_fair_or_poor_health",
        "label": "percent_fair_or_poor_health"
       },
       "grabbable": true,
       "grabbed": false,
       "position": {
        "x": 198.67089700252214,
        "y": 191.74928656179773
       },
       "selectable": false
      }
     },
     "536bfe0c468f4d028b9c3cb5edfcf057": {
      "model_module": "jupyter-cytoscape",
      "model_module_version": "^1.2.2",
      "model_name": "EdgeModel",
      "state": {
       "_model_module_version": "^1.2.2",
       "_view_module_version": "^1.2.2",
       "classes": " directed  multiple_edges ",
       "data": {
        "id": "percent_65_and_over_percent_single_parent_households",
        "source": "percent_65_and_over",
        "target": "percent_single_parent_households"
       },
       "selectable": false
      }
     },
     "590414437fd44ed0998d97ef50adfd4d": {
      "model_module": "jupyter-cytoscape",
      "model_module_version": "^1.2.2",
      "model_name": "EdgeModel",
      "state": {
       "_model_module_version": "^1.2.2",
       "_view_module_version": "^1.2.2",
       "classes": " directed  multiple_edges ",
       "data": {
        "id": "percent_single_parent_households_percent_less_than_18_years_of_age",
        "source": "percent_single_parent_households",
        "target": "percent_less_than_18_years_of_age"
       },
       "selectable": false
      }
     },
     "59e94097d4604dab96112c74114332e7": {
      "model_module": "jupyter-cytoscape",
      "model_module_version": "^1.2.2",
      "model_name": "EdgeModel",
      "state": {
       "_model_module_version": "^1.2.2",
       "_view_module_version": "^1.2.2",
       "classes": " directed  multiple_edges ",
       "data": {
        "id": "percent_children_in_poverty_percent_less_than_18_years_of_age",
        "source": "percent_children_in_poverty",
        "target": "percent_less_than_18_years_of_age"
       },
       "selectable": false
      }
     },
     "6237e536b39149f4bbffe8f128651c1a": {
      "model_module": "jupyter-cytoscape",
      "model_module_version": "^1.2.2",
      "model_name": "GraphModel",
      "state": {
       "_adj": {},
       "_model_module_version": "^1.2.2",
       "_view_module": "jupyter-cytoscape",
       "_view_module_version": "^1.2.2"
      }
     },
     "692ff4b14aca4e20b9ae76a80a5e4eb3": {
      "model_module": "jupyter-cytoscape",
      "model_module_version": "^1.2.2",
      "model_name": "NodeModel",
      "state": {
       "_model_module_version": "^1.2.2",
       "_view_module_version": "^1.2.2",
       "data": {
        "id": "percent_single_parent_households",
        "label": "percent_single_parent_households"
       },
       "grabbable": true,
       "grabbed": false,
       "position": {
        "x": 318.3389880008525,
        "y": 323.46288067694576
       },
       "selectable": false
      }
     },
     "6cca9a9e912b4e20a73fddfb7b80bf37": {
      "model_module": "jupyter-cytoscape",
      "model_module_version": "^1.2.2",
      "model_name": "EdgeModel",
      "state": {
       "_model_module_version": "^1.2.2",
       "_view_module_version": "^1.2.2",
       "classes": " directed  multiple_edges ",
       "data": {
        "id": "num_deaths_age_adjusted_death_rate",
        "source": "num_deaths",
        "target": "age_adjusted_death_rate"
       },
       "selectable": false
      }
     },
     "80f2bc839b3d49dd963e50abd296d955": {
      "model_module": "jupyter-cytoscape",
      "model_module_version": "^1.2.2",
      "model_name": "NodeModel",
      "state": {
       "_model_module_version": "^1.2.2",
       "_view_module_version": "^1.2.2",
       "data": {
        "id": "num_households",
        "label": "num_households"
       },
       "grabbable": true,
       "grabbed": false,
       "position": {
        "x": 415.59443432165887,
        "y": 152.13495653798427
       },
       "selectable": false
      }
     },
     "8239b914f27d482d9c9f9ed8ea95b22e": {
      "model_module": "@jupyter-widgets/controls",
      "model_module_version": "1.5.0",
      "model_name": "ButtonStyleModel",
      "state": {}
     },
     "848dce3e15574274b04d89cc02e4ad32": {
      "model_module": "@jupyter-widgets/controls",
      "model_module_version": "1.5.0",
      "model_name": "ButtonModel",
      "state": {
       "description": "Delete Edge",
       "disabled": true,
       "layout": "IPY_MODEL_e8a7fd2d27d043a69d61a4a037862c43",
       "style": "IPY_MODEL_a06a5ffee18b4bb2b9e9d0a2186059c2"
      }
     },
     "871fff1c0d724c67898b2f81a23f4690": {
      "model_module": "jupyter-cytoscape",
      "model_module_version": "^1.2.2",
      "model_name": "EdgeModel",
      "state": {
       "_model_module_version": "^1.2.2",
       "_view_module_version": "^1.2.2",
       "classes": " directed  multiple_edges ",
       "data": {
        "id": "percent_fair_or_poor_health_percent_children_in_poverty",
        "source": "percent_fair_or_poor_health",
        "target": "percent_children_in_poverty"
       },
       "selectable": false
      }
     },
     "89f2b87cc0be4b7d9949647217bb6f5e": {
      "model_module": "@jupyter-widgets/controls",
      "model_module_version": "1.5.0",
      "model_name": "ButtonModel",
      "state": {
       "description": "Generate original graph",
       "layout": "IPY_MODEL_0dbff1dcaaf04ba88e365650b3cf61d4",
       "style": "IPY_MODEL_8239b914f27d482d9c9f9ed8ea95b22e"
      }
     },
     "8a588d56ac32462aa584bc108bf03c16": {
      "model_module": "jupyter-cytoscape",
      "model_module_version": "^1.2.2",
      "model_name": "EdgeModel",
      "state": {
       "_model_module_version": "^1.2.2",
       "_view_module_version": "^1.2.2",
       "classes": " directed  multiple_edges ",
       "data": {
        "id": "percent_female_percent_65_and_over",
        "source": "percent_female",
        "target": "percent_65_and_over"
       },
       "selectable": false
      }
     },
     "979a523b2f29447f905682c691203314": {
      "model_module": "jupyter-cytoscape",
      "model_module_version": "^1.2.2",
      "model_name": "EdgeModel",
      "state": {
       "_model_module_version": "^1.2.2",
       "_view_module_version": "^1.2.2",
       "classes": " directed  multiple_edges ",
       "data": {
        "id": "num_households_percent_65_and_over",
        "source": "num_households",
        "target": "percent_65_and_over"
       },
       "selectable": false
      }
     },
     "9829039f12314e55a65d9055964b6615": {
      "model_module": "jupyter-cytoscape",
      "model_module_version": "^1.2.2",
      "model_name": "NodeModel",
      "state": {
       "_model_module_version": "^1.2.2",
       "_view_module_version": "^1.2.2",
       "data": {
        "id": "age_adjusted_death_rate",
        "label": "age_adjusted_death_rate"
       },
       "grabbable": true,
       "grabbed": false,
       "position": {
        "x": 321.10119871849344,
        "y": 240.26927327981488
       },
       "selectable": false
      }
     },
     "a06a5ffee18b4bb2b9e9d0a2186059c2": {
      "model_module": "@jupyter-widgets/controls",
      "model_module_version": "1.5.0",
      "model_name": "ButtonStyleModel",
      "state": {}
     },
     "a233afed0d2943f78534e4758a4fcaaa": {
      "model_module": "@jupyter-widgets/controls",
      "model_module_version": "1.5.0",
      "model_name": "ButtonStyleModel",
      "state": {}
     },
     "a400f8d1ad5a47aaaeabe13468582003": {
      "model_module": "jupyter-cytoscape",
      "model_module_version": "^1.2.2",
      "model_name": "NodeModel",
      "state": {
       "_model_module_version": "^1.2.2",
       "_view_module_version": "^1.2.2",
       "data": {
        "id": "percent_less_than_18_years_of_age",
        "label": "percent_less_than_18_years_of_age"
       },
       "grabbable": true,
       "grabbed": false,
       "position": {
        "x": 260.2704131500186,
        "y": 234.96896377621536
       },
       "selectable": false
      }
     },
     "a6304c0fced3440e86e8552539663f67": {
      "model_module": "jupyter-cytoscape",
      "model_module_version": "^1.2.2",
      "model_name": "EdgeModel",
      "state": {
       "_model_module_version": "^1.2.2",
       "_view_module_version": "^1.2.2",
       "classes": " directed  multiple_edges ",
       "data": {
        "id": "percent_fair_or_poor_health_age_adjusted_death_rate",
        "source": "percent_fair_or_poor_health",
        "target": "age_adjusted_death_rate"
       },
       "selectable": false
      }
     },
     "a8d3e803811f420aa79df100a2b60d14": {
      "model_module": "jupyter-cytoscape",
      "model_module_version": "^1.2.2",
      "model_name": "EdgeModel",
      "state": {
       "_model_module_version": "^1.2.2",
       "_view_module_version": "^1.2.2",
       "classes": " directed  multiple_edges ",
       "data": {
        "id": "percent_children_in_poverty_age_adjusted_death_rate",
        "source": "percent_children_in_poverty",
        "target": "age_adjusted_death_rate"
       },
       "selectable": false
      }
     },
     "aa6af1ba672e405586da50f2f5ee236a": {
      "model_module": "jupyter-cytoscape",
      "model_module_version": "^1.2.2",
      "model_name": "CytoscapeModel",
      "state": {
       "_interaction_handlers": {
        "edge": [
         "click"
        ],
        "node": [
         "click"
        ]
       },
       "_model_module_version": "^1.2.2",
       "_view_module_version": "^1.2.2",
       "auto_ungrabify": false,
       "autolock": false,
       "cytoscape_layout": {
        "name": "cola"
       },
       "cytoscape_style": [
        {
         "selector": "node",
         "style": {
          "background-color": "blue",
          "font-family": "arial",
          "font-size": "10px",
          "label": "data(label)"
         }
        },
        {
         "selector": "edge",
         "style": {
          "curve-style": "bezier",
          "line-color": "#9dbaea",
          "target-arrow-color": "#9dbaea",
          "target-arrow-shape": "triangle",
          "width": 4
         }
        },
        {
         "css": {
          "line-color": "red"
         },
         "selector": "edge.selected"
        },
        {
         "css": {
          "background-color": "red"
         },
         "selector": "node.selected"
        }
       ],
       "desktop_tap_threshold": 4,
       "graph": "IPY_MODEL_4c2185b7a3b64f398131125a9b417ece",
       "headless": false,
       "hide_edges_on_viewport": false,
       "layout": "IPY_MODEL_2c9d1f31a34d4dc9aaf98328c1fb1671",
       "max_zoom": 1e+50,
       "min_zoom": 1e-50,
       "motion_blur": false,
       "motion_blur_opacity": 0.2,
       "panning_enabled": true,
       "pixel_ratio": "auto",
       "rendered_position": {
        "renderedPosition": {
         "x": 100,
         "y": 100
        }
       },
       "selection_type": "single",
       "style_enabled": true,
       "texture_on_viewport": false,
       "tooltip_source": "tooltip",
       "touch_tap_threshold": 8,
       "user_panning_enabled": true,
       "user_zooming_enabled": true,
       "wheel_sensitivity": 1,
       "zoom": 2,
       "zooming_enabled": true
      }
     },
     "b3c7291dc6a1414b9041aaaefc7d767c": {
      "model_module": "@jupyter-widgets/base",
      "model_module_version": "1.2.0",
      "model_name": "LayoutModel",
      "state": {}
     },
     "ba34b29a77ec47d5863ae055badeb55c": {
      "model_module": "jupyter-cytoscape",
      "model_module_version": "^1.2.2",
      "model_name": "NodeModel",
      "state": {
       "_model_module_version": "^1.2.2",
       "_view_module_version": "^1.2.2",
       "data": {
        "id": "num_deaths",
        "label": "num_deaths"
       },
       "grabbable": true,
       "grabbed": false,
       "position": {
        "x": 338.7814635842919,
        "y": 137.9165226753939
       },
       "selectable": false
      }
     },
     "c01dd5e1c59d4e56b5f95bc41adcf1fa": {
      "model_module": "jupyter-cytoscape",
      "model_module_version": "^1.2.2",
      "model_name": "NodeModel",
      "state": {
       "_model_module_version": "^1.2.2",
       "_view_module_version": "^1.2.2",
       "data": {
        "id": "percent_children_in_poverty",
        "label": "percent_children_in_poverty"
       },
       "grabbable": true,
       "grabbed": false,
       "position": {
        "x": 225.68067981888794,
        "y": 292.20423819046624
       },
       "selectable": false
      }
     },
     "cac9f68178c14d5e9fd2eb2800e3a87c": {
      "model_module": "jupyter-cytoscape",
      "model_module_version": "^1.2.2",
      "model_name": "EdgeModel",
      "state": {
       "_model_module_version": "^1.2.2",
       "_view_module_version": "^1.2.2",
       "classes": " directed  multiple_edges ",
       "data": {
        "id": "percent_female_age_adjusted_death_rate",
        "source": "percent_female",
        "target": "age_adjusted_death_rate"
       },
       "selectable": false
      }
     },
     "cc65dde29b114c989dc0c1278f7878c7": {
      "model_module": "jupyter-cytoscape",
      "model_module_version": "^1.2.2",
      "model_name": "EdgeModel",
      "state": {
       "_model_module_version": "^1.2.2",
       "_view_module_version": "^1.2.2",
       "classes": " directed  multiple_edges ",
       "data": {
        "id": "num_deaths_percent_female",
        "source": "num_deaths",
        "target": "percent_female"
       },
       "selectable": false
      }
     },
     "d4286b5edee7403abdeffa141d8e59e5": {
      "model_module": "jupyter-cytoscape",
      "model_module_version": "^1.2.2",
      "model_name": "EdgeModel",
      "state": {
       "_model_module_version": "^1.2.2",
       "_view_module_version": "^1.2.2",
       "classes": " directed  multiple_edges ",
       "data": {
        "id": "percent_65_and_over_percent_less_than_18_years_of_age",
        "source": "percent_65_and_over",
        "target": "percent_less_than_18_years_of_age"
       },
       "selectable": false
      }
     },
     "e32c8374d1864a249ee11f070b70b345": {
      "model_module": "@jupyter-widgets/base",
      "model_module_version": "1.2.0",
      "model_name": "LayoutModel",
      "state": {}
     },
     "e4e07b1474e54fc0abb037c5a0f30373": {
      "model_module": "jupyter-cytoscape",
      "model_module_version": "^1.2.2",
      "model_name": "EdgeModel",
      "state": {
       "_model_module_version": "^1.2.2",
       "_view_module_version": "^1.2.2",
       "classes": " directed  multiple_edges ",
       "data": {
        "id": "percent_children_in_poverty_percent_single_parent_households",
        "source": "percent_children_in_poverty",
        "target": "percent_single_parent_households"
       },
       "selectable": false
      }
     },
     "e629c18c30154d4e809a9d904fcce169": {
      "model_module": "jupyter-cytoscape",
      "model_module_version": "^1.2.2",
      "model_name": "EdgeModel",
      "state": {
       "_model_module_version": "^1.2.2",
       "_view_module_version": "^1.2.2",
       "classes": " directed  multiple_edges ",
       "data": {
        "id": "num_deaths_percent_less_than_18_years_of_age",
        "source": "num_deaths",
        "target": "percent_less_than_18_years_of_age"
       },
       "selectable": false
      }
     },
     "e7fe3a917caa4ce6be770a52ed72811e": {
      "model_module": "jupyter-cytoscape",
      "model_module_version": "^1.2.2",
      "model_name": "EdgeModel",
      "state": {
       "_model_module_version": "^1.2.2",
       "_view_module_version": "^1.2.2",
       "classes": " directed  multiple_edges ",
       "data": {
        "id": "percent_female_percent_less_than_18_years_of_age",
        "source": "percent_female",
        "target": "percent_less_than_18_years_of_age"
       },
       "selectable": false
      }
     },
     "e8a7fd2d27d043a69d61a4a037862c43": {
      "model_module": "@jupyter-widgets/base",
      "model_module_version": "1.2.0",
      "model_name": "LayoutModel",
      "state": {}
     },
     "eba535d127b747c89822b3b724042719": {
      "model_module": "@jupyter-widgets/base",
      "model_module_version": "1.2.0",
      "model_name": "LayoutModel",
      "state": {}
     },
     "ebcd22ef76d646eb9bb9377f111ef1ad": {
      "model_module": "jupyter-cytoscape",
      "model_module_version": "^1.2.2",
      "model_name": "EdgeModel",
      "state": {
       "_model_module_version": "^1.2.2",
       "_view_module_version": "^1.2.2",
       "classes": " directed  multiple_edges ",
       "data": {
        "id": "num_households_age_adjusted_death_rate",
        "source": "num_households",
        "target": "age_adjusted_death_rate"
       },
       "selectable": false
      }
     },
     "ee61f6791dda4db7b0111c35106f7b9b": {
      "model_module": "@jupyter-widgets/controls",
      "model_module_version": "1.5.0",
      "model_name": "ButtonStyleModel",
      "state": {}
     },
     "ee8676598c384a99bf841ed982869850": {
      "model_module": "@jupyter-widgets/controls",
      "model_module_version": "1.5.0",
      "model_name": "ButtonModel",
      "state": {
       "description": "Change Direction",
       "disabled": true,
       "layout": "IPY_MODEL_b3c7291dc6a1414b9041aaaefc7d767c",
       "style": "IPY_MODEL_ee61f6791dda4db7b0111c35106f7b9b"
      }
     },
     "ef52d7d9a5814c07934fc46bb14f4b90": {
      "model_module": "jupyter-cytoscape",
      "model_module_version": "^1.2.2",
      "model_name": "NodeModel",
      "state": {
       "_model_module_version": "^1.2.2",
       "_view_module_version": "^1.2.2",
       "data": {
        "id": "percent_65_and_over",
        "label": "percent_65_and_over"
       },
       "grabbable": true,
       "grabbed": false,
       "position": {
        "x": 310.27041415001867,
        "y": 190.26927227981483
       },
       "selectable": false
      }
     },
     "f9078d39b98149a29e956f01cb7205ae": {
      "model_module": "jupyter-cytoscape",
      "model_module_version": "^1.2.2",
      "model_name": "EdgeModel",
      "state": {
       "_model_module_version": "^1.2.2",
       "_view_module_version": "^1.2.2",
       "classes": " directed  multiple_edges ",
       "data": {
        "id": "age_adjusted_death_rate_percent_less_than_18_years_of_age",
        "source": "age_adjusted_death_rate",
        "target": "percent_less_than_18_years_of_age"
       },
       "selectable": false
      }
     }
    },
    "version_major": 2,
    "version_minor": 0
   }
  }
 },
 "nbformat": 4,
 "nbformat_minor": 5
}
