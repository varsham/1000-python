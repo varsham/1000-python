{
 "cells": [
  {
   "cell_type": "code",
   "execution_count": 10,
   "id": "6bc66f60-f3e4-4766-b2b6-e44ab9fe740f",
   "metadata": {},
   "outputs": [
    {
     "data": {
      "text/plain": [
       "'\\n!pip3 install numpy\\n!pip3 install pandas\\n!pip3 install graphviz\\n!pip3 install pydot\\n!pip3 install git+https://github.com/LeeKamentsky/python-javabridge.git#egg=javabridge\\n!pip3 install ipycytoscape\\n!pip3 install git+git://github.com/bd2kccd/py-causal\\n'"
      ]
     },
     "execution_count": 10,
     "metadata": {},
     "output_type": "execute_result"
    }
   ],
   "source": [
    "\"\"\"\n",
    "!pip3 install numpy\n",
    "!pip3 install pandas\n",
    "!pip3 install graphviz\n",
    "!pip3 install pydot\n",
    "!pip3 install git+https://github.com/LeeKamentsky/python-javabridge.git#egg=javabridge\n",
    "!pip3 install ipycytoscape\n",
    "!pip3 install git+git://github.com/bd2kccd/py-causal\n",
    "\"\"\""
   ]
  },
  {
   "cell_type": "code",
   "execution_count": 11,
   "id": "c1d07f2c-5ccf-41fb-bb02-07ccd91910f9",
   "metadata": {},
   "outputs": [],
   "source": [
    "import os\n",
    "import pandas as pd\n",
    "import graphviz\n",
    "import pydot\n",
    "import numpy as np\n",
    "from pycausal.pycausal import pycausal as pc\n",
    "from IPython.display import SVG \n",
    "import ipycytoscape\n",
    "from ipycytoscape import cytoscape\n",
    "from ipycytoscape import CytoscapeWidget\n",
    "import ipywidgets as widgets"
   ]
  },
  {
   "cell_type": "code",
   "execution_count": 12,
   "id": "38d7dd94-a7a1-4735-a562-f7fe97b78ec7",
   "metadata": {},
   "outputs": [
    {
     "name": "stderr",
     "output_type": "stream",
     "text": [
      "/Library/Frameworks/Python.framework/Versions/3.9/lib/python3.9/site-packages/IPython/core/interactiveshell.py:3441: DtypeWarning: Columns (514) have mixed types.Specify dtype option on import or set low_memory=False.\n",
      "  exec(code_obj, self.user_global_ns, self.user_ns)\n"
     ]
    }
   ],
   "source": [
    "incols = pd.read_table('controllable.txt')['attributes'].tolist()\n",
    "\n",
    "\n",
    "# Names of columns (eventually, names of nodes)\n",
    "df = pd.read_table('totaldata.csv', sep=',', usecols=lambda x: x in incols)\n",
    "df = df[df[\"num_deaths\"].notnull()]\n",
    "#df = pd.read_table('mask.csv', sep=',')\n",
    "#df = df[df[\"state\"] == \"Delaware\"]\n",
    "#df.head()\n",
    "#df.columns.tolist()"
   ]
  },
  {
   "cell_type": "code",
   "execution_count": 13,
   "id": "671dd912-3fb1-4b88-9161-6156901c63a2",
   "metadata": {},
   "outputs": [
    {
     "name": "stdout",
     "output_type": "stream",
     "text": [
      "Graph Nodes:\n",
      "num_deaths;chlamydia_rate;cohort_size;high_school_graduation_rate;population;percent_some_college;labor_force;percent_unemployed;income_ratio;percent_severe_housing_problems;severe_housing_cost_burden;overcrowding;percent_drive_alone_to_work;juvenile_arrest_rate;percent_homeowners;percent_severe_housing_cost_burden;candidatevotes;totalvotes;votes_percent\n",
      "\n",
      "Graph Edges:\n",
      "1. labor_force --> percent_severe_housing_problems\n",
      "2. num_deaths --> labor_force\n",
      "3. num_deaths --> percent_severe_housing_problems\n",
      "4. percent_homeowners --> labor_force\n",
      "5. percent_homeowners --> percent_severe_housing_problems\n",
      "6. percent_homeowners --> percent_some_college\n",
      "7. percent_some_college --> labor_force\n",
      "8. percent_unemployed --> percent_severe_housing_problems\n",
      "9. percent_unemployed --> percent_some_college\n",
      "10. population --> labor_force\n",
      "11. population --- num_deaths\n",
      "12. population --- percent_homeowners\n",
      "13. population --> percent_some_college\n",
      "14. totalvotes --> candidatevotes\n",
      "15. totalvotes --- percent_homeowners\n",
      "16. votes_percent --> candidatevotes\n",
      "\n",
      "Graph Attributes:\n",
      "BIC: NaN\n",
      "\n",
      "Graph Node Attributes:\n",
      "BIC: [num_deaths: -46938.098081;chlamydia_rate: NaN;cohort_size: NaN;high_school_graduation_rate: NaN;population: -74122.421429;percent_some_college: -13637.001953;labor_force: -60113.884481;percent_unemployed: -2240.299951;income_ratio: NaN;percent_severe_housing_problems: -7119.298133;severe_housing_cost_burden: NaN;overcrowding: NaN;percent_drive_alone_to_work: NaN;juvenile_arrest_rate: NaN;percent_homeowners: -12076.825735;percent_severe_housing_cost_burden: NaN;candidatevotes: -61293.347232;totalvotes: -69195.629652;votes_percent: -18724.840885]\n",
      "\n"
     ]
    }
   ],
   "source": [
    "# Drops the column called \"state\"\n",
    "#new_df.head()\n",
    "# Prints the first five values of data frame, zero-indexed\n",
    "\n",
    "#df = new_df\n",
    "#!/usr/local/bin/python\n",
    "\n",
    "from pycausal.pycausal import pycausal as pc\n",
    "pc = pc()\n",
    "pc.start_vm()\n",
    "\n",
    "from pycausal import search as s\n",
    "tetrad = s.tetradrunner()\n",
    "\n",
    "\"\"\"\n",
    "tetrad.run(algoId = 'fges', dfs = df, scoreId = 'bdeu-score', dataType = 'discrete',\n",
    "           maxDegree = 3, faithfulnessAssumed = True, verbose = False, \n",
    "           numberResampling = 5, resamplingEnsemble = 1, addOriginalDataset = True)\n",
    "\n",
    "tetrad.run(algoId = 'gfci', dfs = df, testId = 'bdeu-test', scoreId = 'bdeu-score',  dataType = 'discrete',\n",
    "           maxDegree = 3, maxPathLength = -1, completeRuleSetUsed = False, \n",
    "           faithfulnessAssumed = True, verbose = False)\n",
    "\n",
    "           \n",
    "           tetrad.run(algoId = 'fges', dfs = df, scoreId = 'cg-bic-score', dataType = 'mixed', numCategoriesToDiscretize = 4,\n",
    "           maxDegree = 3, faithfulnessAssumed = True, verbose = False, \n",
    "           numberResampling = 5, resamplingEnsemble = 1, addOriginalDataset = True)\n",
    "\n",
    "\n",
    "tetrad.run(algoId = 'fges', dfs = df, scoreId = 'sem-bic', dataType = 'continuous',\n",
    "           maxDegree = -1, faithfulnessAssumed = True, verbose = False)\n",
    "\n",
    "\n",
    "tetrad.run(algoId = 'fges', dfs = df, scoreId = 'cg-bic-score', dataType = 'discrete',\n",
    "           maxDegree = 3, faithfulnessAssumed = True, \n",
    "           symmetricFirstStep = True, verbose = True)\n",
    "\"\"\"\n",
    "tetrad.run(algoId = 'fges', dfs = df, scoreId = 'sem-bic', dataType = 'continuous',\n",
    "           maxDegree = -1, faithfulnessAssumed = True, verbose = False)\n",
    "\n",
    "\n",
    "graph = tetrad.getTetradGraph()\n",
    "\n",
    "\"\"\"\n",
    "dot_str = pc.tetradGraphToDot(graph)\n",
    "graphs = pydot.graph_from_dot_data(dot_str)\n",
    "graphs[0].write_svg('us-county-health-data.svg')\n",
    "\"\"\"\n",
    "\n",
    "print(graph)\n",
    "#print('Graph BIC: {}'.format(graph.getAttribute('BIC')))"
   ]
  },
  {
   "cell_type": "code",
   "execution_count": 14,
   "id": "106b8799-adb7-4313-b8c5-49563255bd77",
   "metadata": {},
   "outputs": [],
   "source": [
    "def getGraphNodeByName(g, n):\n",
    "    nodes = g.getNodes()\n",
    "    nit = nodes.iterator()\n",
    "    while nit.hasNext():\n",
    "        node = nit.next()\n",
    "        if node.getName() == n:\n",
    "            return node\n",
    "    return None\n",
    "\n",
    "\n",
    "def buildWidget(g, w):\n",
    "    w.graph.clear()\n",
    "    \n",
    "    edges = g.getEdges()\n",
    "    eit = edges.iterator()\n",
    "    connectedNodes = []\n",
    "    while eit.hasNext():\n",
    "        edge= eit.next()\n",
    "        n1 = edge.getNode1().getName()\n",
    "        n2 = edge.getNode2().getName()\n",
    "        connectedNodes.append(n1)\n",
    "        connectedNodes.append(n2)\n",
    "\n",
    "    nodes = g.getNodes()\n",
    "    nit = nodes.iterator()\n",
    "    while nit.hasNext():\n",
    "        node = nit.next()\n",
    "        nodeName = node.getName()\n",
    "        if nodeName in connectedNodes:\n",
    "            w.graph.add_node(cytoscape.Node(data={\"id\":nodeName, \"label\":nodeName}))\n",
    "    \n",
    "    eit = edges.iterator()\n",
    "    while eit.hasNext():\n",
    "        edge= eit.next()\n",
    "        n1 = edge.getNode1().getName()\n",
    "        n2 = edge.getNode2().getName()\n",
    "        cEdge = cytoscape.Edge(data={\"id\":f'{n1}_{n2}',\"source\": n1, \"target\": n2})\n",
    "        w.graph.add_edge(cEdge, True, True)\n",
    "        \n",
    "    \n",
    "    #w.set_layout(name='dagre', nodeSpacing=10, edgeLengthVal=10)\n",
    "    w.set_style([\n",
    "            {\n",
    "            'selector': 'node',\n",
    "            'style': {\n",
    "                'font-family': 'arial',\n",
    "                'font-size': '10px',\n",
    "                'label': 'data(label)',\n",
    "                'background-color': 'blue'\n",
    "                }\n",
    "            },\n",
    "            {\n",
    "                'selector': 'edge',\n",
    "                'style': {\n",
    "                    'width': 4,\n",
    "                    'line-color': '#9dbaea',\n",
    "                    'target-arrow-shape': 'triangle',\n",
    "                    'target-arrow-color': '#9dbaea',\n",
    "                    'curve-style': 'bezier'\n",
    "                }\n",
    "            },\n",
    "                {\n",
    "          \"selector\": \"edge.selected\",\n",
    "          \"css\": {\n",
    "            \"line-color\": \"red\"\n",
    "          },\n",
    "        },\n",
    "        \n",
    "        {\n",
    "            \"selector\": \"node.selected\",\n",
    "            \"css\": {\n",
    "                \"background-color\": \"red\"\n",
    "            },\n",
    "        }\n",
    "    ])"
   ]
  },
  {
   "cell_type": "code",
   "execution_count": null,
   "id": "65f9429e-64c9-4238-b1c8-01ca26fc7b1c",
   "metadata": {},
   "outputs": [],
   "source": []
  },
  {
   "cell_type": "code",
   "execution_count": 15,
   "id": "0b768849-bce1-43c1-aad7-6cd7422b2999",
   "metadata": {},
   "outputs": [],
   "source": [
    "selectedNodes = []\n",
    "selectedEdges = []\n",
    "\n",
    "def getCytoGraphEdge(id):\n",
    "    for ne in widget1.graph.edges:\n",
    "        if ne.data[\"id\"] == id:\n",
    "            return ne\n",
    "    return None\n",
    "\n",
    "def getCytoGraphNode(id):\n",
    "    for nd in widget1.graph.nodes:\n",
    "        if nd.data[\"id\"] == id:\n",
    "            return nd\n",
    "    return None\n",
    "\n",
    "def toggleCytoGraphEdgeClass(id, className, add):\n",
    "    cEdge = getCytoGraphEdge(id)\n",
    "    toggleCytoGraphClass(cEdge, className, add)\n",
    "\n",
    "def toggleCytoGraphNodeClass(id, className, add):\n",
    "    cNode = getCytoGraphNode(id)\n",
    "    toggleCytoGraphClass(cNode, className, add)\n",
    "    \n",
    "def toggleCytoGraphClass(el, className, add):\n",
    "    classes = set(el.classes.split(\" \"))\n",
    "    if add:\n",
    "        classes.add(className)\n",
    "    else:\n",
    "        if className in classes:\n",
    "            classes.remove(className)\n",
    "        \n",
    "    el.classes = \" \".join(classes)\n",
    "\n",
    "graphbtn = widgets.Button(description=\"Generate original graph\", disabled=False)\n",
    "deletebtn = widgets.Button(description=\"Delete Edge\", disabled=True)\n",
    "changebtn = widgets.Button(description=\"Change Direction\", disabled=True)\n",
    "addbtn = widgets.Button(description=\"Add Edge\", disabled=True)\n",
    "widget1 = ipycytoscape.CytoscapeWidget()\n",
    "buildWidget(graph, widget1)"
   ]
  },
  {
   "cell_type": "code",
   "execution_count": 16,
   "id": "996e827d-d956-4ef8-b928-6c7b85396714",
   "metadata": {},
   "outputs": [],
   "source": [
    "from ipywidgets import Output\n",
    "from IPython.display import display\n",
    "from pprint import pformat\n",
    "\n",
    "out = Output()\n",
    "\n",
    "def edge_selected(e):\n",
    "    \n",
    "    if len(selectedEdges) == 0:\n",
    "        selectedEdges.append(e)\n",
    "        with out:\n",
    "            print(f'selected: {pformat(e[\"data\"])}')\n",
    "    else:\n",
    "        toggleCytoGraphEdgeClass(selectedEdges[0][\"data\"][\"id\"], \"selected\", False)\n",
    "        if selectedEdges[0][\"data\"][\"id\"] == e[\"data\"][\"id\"]:\n",
    "            selectedEdges.clear()\n",
    "        else:\n",
    "            selectedEdges[0] = e\n",
    "        \n",
    "        \n",
    "    empty = len(selectedEdges) == 0\n",
    "    if not empty:\n",
    "        toggleCytoGraphEdgeClass(selectedEdges[0][\"data\"][\"id\"], \"selected\", True)\n",
    "    \n",
    "    deletebtn.disabled = empty\n",
    "    changebtn.disabled = empty\n",
    "    addbtn.disabled = empty\n",
    "    \n",
    "def node_selected(n):\n",
    "    for nd in selectedNodes:\n",
    "        if nd[\"data\"][\"id\"] == n[\"data\"][\"id\"]:\n",
    "            toggleCytoGraphNodeClass(n[\"data\"][\"id\"], \"selected\", False)\n",
    "            selectedNodes.remove(nd)\n",
    "            return\n",
    "    if len(selectedNodes) < 2:\n",
    "        selectedNodes.append(n)\n",
    "        with out:\n",
    "            print(f'selected: {pformat(n[\"data\"])}')\n",
    "        toggleCytoGraphNodeClass(n[\"data\"][\"id\"], \"selected\", True)\n",
    "    if len(selectedNodes) == 2:\n",
    "        addbtn.disabled=False\n",
    "    \n",
    "def clearSelectedNodes():\n",
    "    for nd in selectedNodes:\n",
    "        toggleCytoGraphNodeClass(nd[\"data\"][\"id\"], \"selected\", False)\n",
    "    selectedNodes.clear()\n",
    "    addbtn.disabled = True\n",
    "    \n",
    "def clearSelectedEdges():\n",
    "    selectedEdges.clear()\n",
    "    deletebtn.disabled = True\n",
    "    changebtn.disabled = True\n",
    "\n",
    "def addEdge(b):\n",
    "    if len(selectedNodes) != 2:\n",
    "        return\n",
    "    n1id = selectedNodes[0][\"data\"][\"id\"]\n",
    "    n2id = selectedNodes[1][\"data\"][\"id\"]\n",
    "     \n",
    "    n1 = getGraphNodeByName(graph, n1id)\n",
    "    n2 = getGraphNodeByName(graph, n2id)\n",
    "    \n",
    "    exists = graph.existsDirectedPathFromTo(n1, n2) or graph.existsDirectedPathFromTo(n2, n1)\n",
    "    with out:\n",
    "        print(exists)\n",
    "    \n",
    "    if not exists:\n",
    "        graph.addDirectedEdge(n1, n2)\n",
    "        with out:\n",
    "            print(f'adding edge between: {n1id}, {n2id}')\n",
    "        buildWidget(graph, widget1)\n",
    "    else:\n",
    "        with out:\n",
    "            print(f'edge already exists between {n1id}, {n2id}')\n",
    "    clearSelectedNodes()\n",
    "    \n",
    "        \n",
    "    \n",
    "def log_clicks(node):\n",
    "    with out:\n",
    "        print(f'clicked: {pformat(node)}')\n",
    "    if length(newEdge) == 2:\n",
    "        deletebtn[disabled] = True\n",
    "    else:\n",
    "        newEdge.append(node[\"id\"])\n",
    "\n",
    "    \n",
    "def removeEdge(b):\n",
    "    if len(selectedEdges) == 1:\n",
    "        e = selectedEdges[0]\n",
    "        with out:\n",
    "            print(f'removing: {pformat(e[\"data\"])}')\n",
    "        graph.removeEdge(getGraphNodeByName(graph, e[\"data\"][\"source\"]), getGraphNodeByName(graph, e[\"data\"][\"target\"]))\n",
    "        clearSelectedEdges()\n",
    "        buildWidget(graph, widget1)\n",
    "        \n",
    "\n",
    "        \n",
    "def changeDirection(b):\n",
    "    if len(selectedEdges) == 1:\n",
    "        e = selectedEdges[0]\n",
    "        source = e[\"data\"][\"source\"]\n",
    "        target = e[\"data\"][\"target\"]\n",
    "        n1 = getGraphNodeByName(graph, source)\n",
    "        n2 = getGraphNodeByName(graph, target)\n",
    "        graph.removeEdge(n1, n2)\n",
    "        graph.addDirectedEdge(n2, n1)\n",
    "        clearSelectedEdges()\n",
    "        buildWidget(graph, widget1)\n",
    "        ne = getCytoGraphEdge(f'{target}_{source}')\n",
    "        with out:\n",
    "            print(f'edge with new direction: {pformat(ne.data)}')\n",
    "\n",
    "\"\"\"\n",
    "def log_mouseovers(node):\n",
    "    with out:\n",
    "        print(f'mouseover: {pformat(node)}')\n",
    "\"\"\"\n",
    "\n",
    "\n",
    "\n",
    "\n",
    "widget1.on('edge', 'click', edge_selected)\n",
    "widget1.on('node', 'click', node_selected)\n",
    "#widget1.on('node', 'mouseover', log_mouseovers)\n",
    "deletebtn.on_click(callback=removeEdge)\n",
    "changebtn.on_click(callback=changeDirection)\n",
    "addbtn.on_click(callback=addEdge)\n",
    "\n",
    "# pc.stop_vm()"
   ]
  },
  {
   "cell_type": "code",
   "execution_count": 17,
   "id": "34c71928-2bca-4ac9-87d0-498bbe47af45",
   "metadata": {},
   "outputs": [
    {
     "data": {
      "application/vnd.jupyter.widget-view+json": {
       "model_id": "59f426a08bdf4db4966ef7652aa18bb8",
       "version_major": 2,
       "version_minor": 0
      },
      "text/plain": [
       "CytoscapeWidget(cytoscape_layout={'name': 'cola'}, cytoscape_style=[{'selector': 'node', 'style': {'font-famil…"
      ]
     },
     "metadata": {},
     "output_type": "display_data"
    },
    {
     "data": {
      "application/vnd.jupyter.widget-view+json": {
       "model_id": "4c21eb9923da4e05be3c0f27bf49a438",
       "version_major": 2,
       "version_minor": 0
      },
      "text/plain": [
       "Button(description='Delete Edge', disabled=True, style=ButtonStyle())"
      ]
     },
     "metadata": {},
     "output_type": "display_data"
    },
    {
     "data": {
      "application/vnd.jupyter.widget-view+json": {
       "model_id": "79578fcda348438c83f150b301bb8182",
       "version_major": 2,
       "version_minor": 0
      },
      "text/plain": [
       "Button(description='Change Direction', disabled=True, style=ButtonStyle())"
      ]
     },
     "metadata": {},
     "output_type": "display_data"
    },
    {
     "data": {
      "application/vnd.jupyter.widget-view+json": {
       "model_id": "07d2ee2e6e554dc89c57ef797a0ca145",
       "version_major": 2,
       "version_minor": 0
      },
      "text/plain": [
       "Button(description='Add Edge', disabled=True, style=ButtonStyle())"
      ]
     },
     "metadata": {},
     "output_type": "display_data"
    },
    {
     "data": {
      "application/vnd.jupyter.widget-view+json": {
       "model_id": "f9d62a6d84a5448fb550685ef1f6538d",
       "version_major": 2,
       "version_minor": 0
      },
      "text/plain": [
       "Button(description='Generate original graph', style=ButtonStyle())"
      ]
     },
     "metadata": {},
     "output_type": "display_data"
    },
    {
     "data": {
      "application/vnd.jupyter.widget-view+json": {
       "model_id": "ab12c52e6e45452eadbab94b30f73310",
       "version_major": 2,
       "version_minor": 0
      },
      "text/plain": [
       "Output()"
      ]
     },
     "metadata": {},
     "output_type": "display_data"
    },
    {
     "data": {
      "text/plain": [
       "'\\nOriginal graph:\\n\\nwww3.cs.stonybrook.edu/~mueller/papers/causalAnalyst.pdf\\n'"
      ]
     },
     "execution_count": 17,
     "metadata": {},
     "output_type": "execute_result"
    }
   ],
   "source": [
    "\n",
    "display(widget1)\n",
    "display(deletebtn)\n",
    "display(changebtn)\n",
    "display(addbtn)\n",
    "display(graphbtn)\n",
    "display(out)\n",
    "\n",
    "\"\"\"\n",
    "Original graph:\n",
    "\n",
    "www3.cs.stonybrook.edu/~mueller/papers/causalAnalyst.pdf\n",
    "\"\"\"\n",
    "\n"
   ]
  },
  {
   "cell_type": "code",
   "execution_count": null,
   "id": "584cc82d-2d21-4bb1-be2d-73512c7e8ac2",
   "metadata": {},
   "outputs": [],
   "source": []
  }
 ],
 "metadata": {
  "kernelspec": {
   "display_name": "Python 3 (ipykernel)",
   "language": "python",
   "name": "python3"
  },
  "language_info": {
   "codemirror_mode": {
    "name": "ipython",
    "version": 3
   },
   "file_extension": ".py",
   "mimetype": "text/x-python",
   "name": "python",
   "nbconvert_exporter": "python",
   "pygments_lexer": "ipython3",
   "version": "3.9.6"
  },
  "widgets": {
   "application/vnd.jupyter.widget-state+json": {
    "state": {
     "07d2ee2e6e554dc89c57ef797a0ca145": {
      "model_module": "@jupyter-widgets/controls",
      "model_module_version": "1.5.0",
      "model_name": "ButtonModel",
      "state": {
       "description": "Add Edge",
       "disabled": true,
       "layout": "IPY_MODEL_fbdefd4f73d4425daaec96d40f113308",
       "style": "IPY_MODEL_7b4bfd67438c4c27a843b4296dd03c2d"
      }
     },
     "14737f4858ed4f95992948eb585b718e": {
      "model_module": "@jupyter-widgets/base",
      "model_module_version": "1.2.0",
      "model_name": "LayoutModel",
      "state": {}
     },
     "1602304c089f43ca99cdfbc421fbd8a5": {
      "model_module": "jupyter-cytoscape",
      "model_module_version": "^1.2.2",
      "model_name": "NodeModel",
      "state": {
       "_model_module_version": "^1.2.2",
       "_view_module_version": "^1.2.2",
       "data": {
        "id": "percent_some_college",
        "label": "percent_some_college"
       },
       "grabbable": true,
       "grabbed": false,
       "position": {
        "x": 237.6211362213243,
        "y": 352.6154323885189
       },
       "selectable": false
      }
     },
     "19a481f193454769a543e414db6ba3b6": {
      "model_module": "jupyter-cytoscape",
      "model_module_version": "^1.2.2",
      "model_name": "GraphModel",
      "state": {
       "_adj": {},
       "_model_module_version": "^1.2.2",
       "_view_module": "jupyter-cytoscape",
       "_view_module_version": "^1.2.2"
      }
     },
     "1a11b7ea32f64e9880df0a2c4340677b": {
      "model_module": "jupyter-cytoscape",
      "model_module_version": "^1.2.2",
      "model_name": "NodeModel",
      "state": {
       "_model_module_version": "^1.2.2",
       "_view_module_version": "^1.2.2",
       "data": {
        "id": "percent_homeowners",
        "label": "percent_homeowners"
       },
       "grabbable": true,
       "grabbed": false,
       "position": {
        "x": 271.30818128364484,
        "y": 263.5210098694885
       },
       "selectable": false
      }
     },
     "1c5495e8febe43eaae42701751858ff7": {
      "model_module": "jupyter-cytoscape",
      "model_module_version": "^1.2.2",
      "model_name": "EdgeModel",
      "state": {
       "_model_module_version": "^1.2.2",
       "_view_module_version": "^1.2.2",
       "classes": " directed  multiple_edges ",
       "data": {
        "id": "percent_unemployed_percent_some_college",
        "source": "percent_unemployed",
        "target": "percent_some_college"
       },
       "selectable": false
      }
     },
     "35bf5b7ccc6748fa94083e171e406e10": {
      "model_module": "jupyter-cytoscape",
      "model_module_version": "^1.2.2",
      "model_name": "NodeModel",
      "state": {
       "_model_module_version": "^1.2.2",
       "_view_module_version": "^1.2.2",
       "data": {
        "id": "totalvotes",
        "label": "totalvotes"
       },
       "grabbable": true,
       "grabbed": false,
       "position": {
        "x": 367.2114771033154,
        "y": 144.01663395942379
       },
       "selectable": false
      }
     },
     "3659bd9005a24e9394503d8c94ac79e4": {
      "model_module": "jupyter-cytoscape",
      "model_module_version": "^1.2.2",
      "model_name": "EdgeModel",
      "state": {
       "_model_module_version": "^1.2.2",
       "_view_module_version": "^1.2.2",
       "classes": " directed  multiple_edges ",
       "data": {
        "id": "votes_percent_candidatevotes",
        "source": "votes_percent",
        "target": "candidatevotes"
       },
       "selectable": false
      }
     },
     "404526e2248d4922aa4225cbb82d2d6c": {
      "model_module": "jupyter-cytoscape",
      "model_module_version": "^1.2.2",
      "model_name": "EdgeModel",
      "state": {
       "_model_module_version": "^1.2.2",
       "_view_module_version": "^1.2.2",
       "classes": " directed  multiple_edges ",
       "data": {
        "id": "labor_force_percent_severe_housing_problems",
        "source": "labor_force",
        "target": "percent_severe_housing_problems"
       },
       "selectable": false
      }
     },
     "42cc31bc43d344efb2cf1d934d942be1": {
      "model_module": "@jupyter-widgets/controls",
      "model_module_version": "1.5.0",
      "model_name": "ButtonStyleModel",
      "state": {}
     },
     "4430f1b3082941859914f59a0df77da9": {
      "model_module": "jupyter-cytoscape",
      "model_module_version": "^1.2.2",
      "model_name": "EdgeModel",
      "state": {
       "_model_module_version": "^1.2.2",
       "_view_module_version": "^1.2.2",
       "classes": " directed  multiple_edges ",
       "data": {
        "id": "totalvotes_candidatevotes",
        "source": "totalvotes",
        "target": "candidatevotes"
       },
       "selectable": false
      }
     },
     "477610602e174bdd9d9603dd73570f8a": {
      "model_module": "jupyter-cytoscape",
      "model_module_version": "^1.2.2",
      "model_name": "EdgeModel",
      "state": {
       "_model_module_version": "^1.2.2",
       "_view_module_version": "^1.2.2",
       "classes": " directed  multiple_edges ",
       "data": {
        "id": "num_deaths_percent_severe_housing_problems",
        "source": "num_deaths",
        "target": "percent_severe_housing_problems"
       },
       "selectable": false
      }
     },
     "4c21eb9923da4e05be3c0f27bf49a438": {
      "model_module": "@jupyter-widgets/controls",
      "model_module_version": "1.5.0",
      "model_name": "ButtonModel",
      "state": {
       "description": "Delete Edge",
       "disabled": true,
       "layout": "IPY_MODEL_5db3fdc199b3417d9102518bf1f5fd5f",
       "style": "IPY_MODEL_f50b30f6c28f4ff4928b00e6d721b9b8"
      }
     },
     "4fb04600dc234b188a41ab3dafd62c92": {
      "model_module": "jupyter-cytoscape",
      "model_module_version": "^1.2.2",
      "model_name": "NodeModel",
      "state": {
       "_model_module_version": "^1.2.2",
       "_view_module_version": "^1.2.2",
       "data": {
        "id": "population",
        "label": "population"
       },
       "grabbable": true,
       "grabbed": false,
       "position": {
        "x": 164.3803533763963,
        "y": 304.9043630827326
       },
       "selectable": false
      }
     },
     "5379e1445c3d4e7e9f6365e0441bc130": {
      "model_module": "jupyter-cytoscape",
      "model_module_version": "^1.2.2",
      "model_name": "EdgeModel",
      "state": {
       "_model_module_version": "^1.2.2",
       "_view_module_version": "^1.2.2",
       "classes": " directed  multiple_edges ",
       "data": {
        "id": "population_num_deaths",
        "source": "population",
        "target": "num_deaths"
       },
       "selectable": false
      }
     },
     "59ed2bd5af23403494aaf7d7ed19f1ce": {
      "model_module": "@jupyter-widgets/base",
      "model_module_version": "1.2.0",
      "model_name": "LayoutModel",
      "state": {}
     },
     "59f426a08bdf4db4966ef7652aa18bb8": {
      "model_module": "jupyter-cytoscape",
      "model_module_version": "^1.2.2",
      "model_name": "CytoscapeModel",
      "state": {
       "_interaction_handlers": {
        "edge": [
         "click"
        ],
        "node": [
         "click"
        ]
       },
       "_model_module_version": "^1.2.2",
       "_view_module_version": "^1.2.2",
       "auto_ungrabify": false,
       "autolock": false,
       "cytoscape_layout": {
        "name": "cola"
       },
       "cytoscape_style": [
        {
         "selector": "node",
         "style": {
          "background-color": "blue",
          "font-family": "arial",
          "font-size": "10px",
          "label": "data(label)"
         }
        },
        {
         "selector": "edge",
         "style": {
          "curve-style": "bezier",
          "line-color": "#9dbaea",
          "target-arrow-color": "#9dbaea",
          "target-arrow-shape": "triangle",
          "width": 4
         }
        },
        {
         "css": {
          "line-color": "red"
         },
         "selector": "edge.selected"
        },
        {
         "css": {
          "background-color": "red"
         },
         "selector": "node.selected"
        }
       ],
       "desktop_tap_threshold": 4,
       "graph": "IPY_MODEL_caa5eb41f2734e778ce7fac72544cb11",
       "headless": false,
       "hide_edges_on_viewport": false,
       "layout": "IPY_MODEL_59ed2bd5af23403494aaf7d7ed19f1ce",
       "max_zoom": 1e+50,
       "min_zoom": 1e-50,
       "motion_blur": false,
       "motion_blur_opacity": 0.2,
       "panning_enabled": true,
       "pixel_ratio": "auto",
       "rendered_position": {
        "renderedPosition": {
         "x": 100,
         "y": 100
        }
       },
       "selection_type": "single",
       "style_enabled": true,
       "texture_on_viewport": false,
       "tooltip_source": "tooltip",
       "touch_tap_threshold": 8,
       "user_panning_enabled": true,
       "user_zooming_enabled": true,
       "wheel_sensitivity": 1,
       "zoom": 2,
       "zooming_enabled": true
      }
     },
     "5a328cf3536e4084a741a84a4a6fc675": {
      "model_module": "jupyter-cytoscape",
      "model_module_version": "^1.2.2",
      "model_name": "EdgeModel",
      "state": {
       "_model_module_version": "^1.2.2",
       "_view_module_version": "^1.2.2",
       "classes": " directed  multiple_edges ",
       "data": {
        "id": "percent_homeowners_labor_force",
        "source": "percent_homeowners",
        "target": "labor_force"
       },
       "selectable": false
      }
     },
     "5db3fdc199b3417d9102518bf1f5fd5f": {
      "model_module": "@jupyter-widgets/base",
      "model_module_version": "1.2.0",
      "model_name": "LayoutModel",
      "state": {}
     },
     "71392c19bf1a4bcbb6a38cb2f3b7da06": {
      "model_module": "jupyter-cytoscape",
      "model_module_version": "^1.2.2",
      "model_name": "EdgeModel",
      "state": {
       "_model_module_version": "^1.2.2",
       "_view_module_version": "^1.2.2",
       "classes": " directed  multiple_edges ",
       "data": {
        "id": "population_percent_some_college",
        "source": "population",
        "target": "percent_some_college"
       },
       "selectable": false
      }
     },
     "79578fcda348438c83f150b301bb8182": {
      "model_module": "@jupyter-widgets/controls",
      "model_module_version": "1.5.0",
      "model_name": "ButtonModel",
      "state": {
       "description": "Change Direction",
       "disabled": true,
       "layout": "IPY_MODEL_d30861a89e4e4fb5b962f013d24a5f72",
       "style": "IPY_MODEL_b6d731b7505d4430914264e5c3915fd0"
      }
     },
     "7a627958b2284d55b5c1687cf0c69cd5": {
      "model_module": "jupyter-cytoscape",
      "model_module_version": "^1.2.2",
      "model_name": "NodeModel",
      "state": {
       "_model_module_version": "^1.2.2",
       "_view_module_version": "^1.2.2",
       "data": {
        "id": "num_deaths",
        "label": "num_deaths"
       },
       "grabbable": true,
       "grabbed": false,
       "position": {
        "x": 158.55623265337192,
        "y": 226.48197204417974
       },
       "selectable": false
      }
     },
     "7b4bfd67438c4c27a843b4296dd03c2d": {
      "model_module": "@jupyter-widgets/controls",
      "model_module_version": "1.5.0",
      "model_name": "ButtonStyleModel",
      "state": {}
     },
     "893e38b90e8e4e2392f12963a8dbea76": {
      "model_module": "jupyter-cytoscape",
      "model_module_version": "^1.2.2",
      "model_name": "EdgeModel",
      "state": {
       "_model_module_version": "^1.2.2",
       "_view_module_version": "^1.2.2",
       "classes": " directed  multiple_edges ",
       "data": {
        "id": "percent_unemployed_percent_severe_housing_problems",
        "source": "percent_unemployed",
        "target": "percent_severe_housing_problems"
       },
       "selectable": false
      }
     },
     "ab12c52e6e45452eadbab94b30f73310": {
      "model_module": "@jupyter-widgets/output",
      "model_module_version": "1.0.0",
      "model_name": "OutputModel",
      "state": {
       "layout": "IPY_MODEL_14737f4858ed4f95992948eb585b718e"
      }
     },
     "afeb3eefad544612b867290244a95fad": {
      "model_module": "jupyter-cytoscape",
      "model_module_version": "^1.2.2",
      "model_name": "EdgeModel",
      "state": {
       "_model_module_version": "^1.2.2",
       "_view_module_version": "^1.2.2",
       "classes": " directed  multiple_edges ",
       "data": {
        "id": "population_labor_force",
        "source": "population",
        "target": "labor_force"
       },
       "selectable": false
      }
     },
     "b1c91a7602064ebc94483f81a2d36917": {
      "model_module": "jupyter-cytoscape",
      "model_module_version": "^1.2.2",
      "model_name": "NodeModel",
      "state": {
       "_model_module_version": "^1.2.2",
       "_view_module_version": "^1.2.2",
       "data": {
        "id": "candidatevotes",
        "label": "candidatevotes"
       },
       "grabbable": true,
       "grabbed": false,
       "position": {
        "x": 432.92081843294363,
        "y": 43.387030407459264
       },
       "selectable": false
      }
     },
     "b43fed3d7b7d45bbb1ddda4987ea376d": {
      "model_module": "jupyter-cytoscape",
      "model_module_version": "^1.2.2",
      "model_name": "EdgeModel",
      "state": {
       "_model_module_version": "^1.2.2",
       "_view_module_version": "^1.2.2",
       "classes": " directed  multiple_edges ",
       "data": {
        "id": "percent_some_college_labor_force",
        "source": "percent_some_college",
        "target": "labor_force"
       },
       "selectable": false
      }
     },
     "b6d731b7505d4430914264e5c3915fd0": {
      "model_module": "@jupyter-widgets/controls",
      "model_module_version": "1.5.0",
      "model_name": "ButtonStyleModel",
      "state": {}
     },
     "b7df323b797642ea97ee0a136cb2022a": {
      "model_module": "jupyter-cytoscape",
      "model_module_version": "^1.2.2",
      "model_name": "EdgeModel",
      "state": {
       "_model_module_version": "^1.2.2",
       "_view_module_version": "^1.2.2",
       "classes": " directed  multiple_edges ",
       "data": {
        "id": "percent_homeowners_percent_some_college",
        "source": "percent_homeowners",
        "target": "percent_some_college"
       },
       "selectable": false
      }
     },
     "bfec08469dc744ac86fd20f5a3b804cf": {
      "model_module": "jupyter-cytoscape",
      "model_module_version": "^1.2.2",
      "model_name": "EdgeModel",
      "state": {
       "_model_module_version": "^1.2.2",
       "_view_module_version": "^1.2.2",
       "classes": " directed  multiple_edges ",
       "data": {
        "id": "totalvotes_percent_homeowners",
        "source": "totalvotes",
        "target": "percent_homeowners"
       },
       "selectable": false
      }
     },
     "c522e0da9150434ab31ad64e773278ec": {
      "model_module": "jupyter-cytoscape",
      "model_module_version": "^1.2.2",
      "model_name": "NodeModel",
      "state": {
       "_model_module_version": "^1.2.2",
       "_view_module_version": "^1.2.2",
       "data": {
        "id": "percent_unemployed",
        "label": "percent_unemployed"
       },
       "grabbable": true,
       "grabbed": false,
       "position": {
        "x": 330.076029988928,
        "y": 402.6316051399797
       },
       "selectable": false
      }
     },
     "caa5eb41f2734e778ce7fac72544cb11": {
      "model_module": "jupyter-cytoscape",
      "model_module_version": "^1.2.2",
      "model_name": "GraphModel",
      "state": {
       "_adj": {
        "candidatevotes": {},
        "labor_force": {},
        "num_deaths": {},
        "percent_homeowners": {},
        "percent_severe_housing_problems": {},
        "percent_some_college": {},
        "percent_unemployed": {},
        "population": {},
        "totalvotes": {},
        "votes_percent": {}
       },
       "_model_module_version": "^1.2.2",
       "_view_module": "jupyter-cytoscape",
       "_view_module_version": "^1.2.2",
       "edges": [
        "IPY_MODEL_ff2e55798572403085695abf9caee2b7",
        "IPY_MODEL_404526e2248d4922aa4225cbb82d2d6c",
        "IPY_MODEL_3659bd9005a24e9394503d8c94ac79e4",
        "IPY_MODEL_b7df323b797642ea97ee0a136cb2022a",
        "IPY_MODEL_1c5495e8febe43eaae42701751858ff7",
        "IPY_MODEL_477610602e174bdd9d9603dd73570f8a",
        "IPY_MODEL_cfe8e6b872814fb2ad36fbd971ee8852",
        "IPY_MODEL_5379e1445c3d4e7e9f6365e0441bc130",
        "IPY_MODEL_afeb3eefad544612b867290244a95fad",
        "IPY_MODEL_4430f1b3082941859914f59a0df77da9",
        "IPY_MODEL_f3e37354975a401aa921fa2106ae47dc",
        "IPY_MODEL_71392c19bf1a4bcbb6a38cb2f3b7da06",
        "IPY_MODEL_bfec08469dc744ac86fd20f5a3b804cf",
        "IPY_MODEL_893e38b90e8e4e2392f12963a8dbea76",
        "IPY_MODEL_5a328cf3536e4084a741a84a4a6fc675",
        "IPY_MODEL_b43fed3d7b7d45bbb1ddda4987ea376d"
       ],
       "nodes": [
        "IPY_MODEL_7a627958b2284d55b5c1687cf0c69cd5",
        "IPY_MODEL_4fb04600dc234b188a41ab3dafd62c92",
        "IPY_MODEL_1602304c089f43ca99cdfbc421fbd8a5",
        "IPY_MODEL_f48212f8045b42899a2a46b886c87aa0",
        "IPY_MODEL_c522e0da9150434ab31ad64e773278ec",
        "IPY_MODEL_ec4e64ef361f401f8c5debcbeb30350c",
        "IPY_MODEL_1a11b7ea32f64e9880df0a2c4340677b",
        "IPY_MODEL_b1c91a7602064ebc94483f81a2d36917",
        "IPY_MODEL_35bf5b7ccc6748fa94083e171e406e10",
        "IPY_MODEL_d96595cd0d9a45199af170cb03fba1e8"
       ]
      }
     },
     "cfe8e6b872814fb2ad36fbd971ee8852": {
      "model_module": "jupyter-cytoscape",
      "model_module_version": "^1.2.2",
      "model_name": "EdgeModel",
      "state": {
       "_model_module_version": "^1.2.2",
       "_view_module_version": "^1.2.2",
       "classes": " directed  multiple_edges ",
       "data": {
        "id": "num_deaths_labor_force",
        "source": "num_deaths",
        "target": "labor_force"
       },
       "selectable": false
      }
     },
     "d30861a89e4e4fb5b962f013d24a5f72": {
      "model_module": "@jupyter-widgets/base",
      "model_module_version": "1.2.0",
      "model_name": "LayoutModel",
      "state": {}
     },
     "d96595cd0d9a45199af170cb03fba1e8": {
      "model_module": "jupyter-cytoscape",
      "model_module_version": "^1.2.2",
      "model_name": "NodeModel",
      "state": {
       "_model_module_version": "^1.2.2",
       "_view_module_version": "^1.2.2",
       "data": {
        "id": "votes_percent",
        "label": "votes_percent"
       },
       "grabbable": true,
       "grabbed": false,
       "position": {
        "x": 479.4363712140808,
        "y": -53.338592546427755
       },
       "selectable": false
      }
     },
     "ec4e64ef361f401f8c5debcbeb30350c": {
      "model_module": "jupyter-cytoscape",
      "model_module_version": "^1.2.2",
      "model_name": "NodeModel",
      "state": {
       "_model_module_version": "^1.2.2",
       "_view_module_version": "^1.2.2",
       "data": {
        "id": "percent_severe_housing_problems",
        "label": "percent_severe_housing_problems"
       },
       "grabbable": true,
       "grabbed": false,
       "position": {
        "x": 321.30818228364484,
        "y": 286.4850203787138
       },
       "selectable": false
      }
     },
     "f3e37354975a401aa921fa2106ae47dc": {
      "model_module": "jupyter-cytoscape",
      "model_module_version": "^1.2.2",
      "model_name": "EdgeModel",
      "state": {
       "_model_module_version": "^1.2.2",
       "_view_module_version": "^1.2.2",
       "classes": " directed  multiple_edges ",
       "data": {
        "id": "population_percent_homeowners",
        "source": "population",
        "target": "percent_homeowners"
       },
       "selectable": false
      }
     },
     "f48212f8045b42899a2a46b886c87aa0": {
      "model_module": "jupyter-cytoscape",
      "model_module_version": "^1.2.2",
      "model_name": "NodeModel",
      "state": {
       "_model_module_version": "^1.2.2",
       "_view_module_version": "^1.2.2",
       "data": {
        "id": "labor_force",
        "label": "labor_force"
       },
       "grabbable": true,
       "grabbed": false,
       "position": {
        "x": 229.24639311428678,
        "y": 213.52100886948855
       },
       "selectable": false
      }
     },
     "f50b30f6c28f4ff4928b00e6d721b9b8": {
      "model_module": "@jupyter-widgets/controls",
      "model_module_version": "1.5.0",
      "model_name": "ButtonStyleModel",
      "state": {}
     },
     "f9d62a6d84a5448fb550685ef1f6538d": {
      "model_module": "@jupyter-widgets/controls",
      "model_module_version": "1.5.0",
      "model_name": "ButtonModel",
      "state": {
       "description": "Generate original graph",
       "layout": "IPY_MODEL_fa2117b712ac49a3b66451b131038124",
       "style": "IPY_MODEL_42cc31bc43d344efb2cf1d934d942be1"
      }
     },
     "fa2117b712ac49a3b66451b131038124": {
      "model_module": "@jupyter-widgets/base",
      "model_module_version": "1.2.0",
      "model_name": "LayoutModel",
      "state": {}
     },
     "fbdefd4f73d4425daaec96d40f113308": {
      "model_module": "@jupyter-widgets/base",
      "model_module_version": "1.2.0",
      "model_name": "LayoutModel",
      "state": {}
     },
     "ff2e55798572403085695abf9caee2b7": {
      "model_module": "jupyter-cytoscape",
      "model_module_version": "^1.2.2",
      "model_name": "EdgeModel",
      "state": {
       "_model_module_version": "^1.2.2",
       "_view_module_version": "^1.2.2",
       "classes": " directed  multiple_edges ",
       "data": {
        "id": "percent_homeowners_percent_severe_housing_problems",
        "source": "percent_homeowners",
        "target": "percent_severe_housing_problems"
       },
       "selectable": false
      }
     }
    },
    "version_major": 2,
    "version_minor": 0
   }
  }
 },
 "nbformat": 4,
 "nbformat_minor": 5
}
