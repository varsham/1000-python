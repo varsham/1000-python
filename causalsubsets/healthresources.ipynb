{
 "cells": [
  {
   "cell_type": "code",
   "execution_count": 1,
   "id": "6bc66f60-f3e4-4766-b2b6-e44ab9fe740f",
   "metadata": {},
   "outputs": [
    {
     "data": {
      "text/plain": [
       "'\\n!pip3 install numpy\\n!pip3 install pandas\\n!pip3 install graphviz\\n!pip3 install pydot\\n!pip3 install git+https://github.com/LeeKamentsky/python-javabridge.git#egg=javabridge\\n!pip3 install ipycytoscape\\n!pip3 install git+git://github.com/bd2kccd/py-causal\\n'"
      ]
     },
     "execution_count": 1,
     "metadata": {},
     "output_type": "execute_result"
    }
   ],
   "source": [
    "\"\"\"\n",
    "!pip3 install numpy\n",
    "!pip3 install pandas\n",
    "!pip3 install graphviz\n",
    "!pip3 install pydot\n",
    "!pip3 install git+https://github.com/LeeKamentsky/python-javabridge.git#egg=javabridge\n",
    "!pip3 install ipycytoscape\n",
    "!pip3 install git+git://github.com/bd2kccd/py-causal\n",
    "\"\"\""
   ]
  },
  {
   "cell_type": "code",
   "execution_count": 2,
   "id": "c1d07f2c-5ccf-41fb-bb02-07ccd91910f9",
   "metadata": {},
   "outputs": [],
   "source": [
    "import os\n",
    "import pandas as pd\n",
    "import graphviz\n",
    "import pydot\n",
    "import numpy as np\n",
    "from pycausal.pycausal import pycausal as pc\n",
    "from IPython.display import SVG \n",
    "import ipycytoscape\n",
    "from ipycytoscape import cytoscape\n",
    "from ipycytoscape import CytoscapeWidget\n",
    "import ipywidgets as widgets"
   ]
  },
  {
   "cell_type": "code",
   "execution_count": 3,
   "id": "38d7dd94-a7a1-4735-a562-f7fe97b78ec7",
   "metadata": {},
   "outputs": [],
   "source": [
    "incols = pd.read_table('healthresources.txt')['attributes'].tolist()\n",
    "\n",
    "\n",
    "# Names of columns (eventually, names of nodes)\n",
    "df = pd.read_table('totaldata.csv', sep=',', usecols=lambda x: x in incols)\n",
    "df = df[df[\"num_deaths\"].notnull()]\n",
    "#df = pd.read_table('mask.csv', sep=',')\n",
    "#df = df[df[\"state\"] == \"Delaware\"]\n",
    "#df.head()\n",
    "#df.columns.tolist()"
   ]
  },
  {
   "cell_type": "code",
   "execution_count": 4,
   "id": "671dd912-3fb1-4b88-9161-6156901c63a2",
   "metadata": {},
   "outputs": [
    {
     "name": "stdout",
     "output_type": "stream",
     "text": [
      "Graph Nodes:\n",
      "num_deaths;percent_with_access_to_exercise_opportunities;teen_birth_rate;num_uninsured;num_primary_care_physicians;num_dentists;num_mental_health_providers;preventable_hospitalization_rate;percent_with_annual_mammogram;percent_vaccinated;num_associations;social_association_rate;inadequate_facilities;percent_food_insecure;num_limited_access;percent_limited_access_to_healthy_foods;percent_insufficient_sleep;percent_enrolled_in_free_or_reduced_lunch\n",
      "\n",
      "Graph Edges:\n",
      "1. num_associations --> num_deaths\n",
      "2. num_associations --> num_uninsured\n",
      "3. num_deaths --> num_uninsured\n",
      "4. percent_insufficient_sleep --- percent_food_insecure\n",
      "5. percent_insufficient_sleep --- social_association_rate\n",
      "6. social_association_rate --> num_deaths\n",
      "\n",
      "Graph Attributes:\n",
      "BIC: NaN\n",
      "\n",
      "Graph Node Attributes:\n",
      "BIC: [num_deaths: -45841.997920;percent_with_access_to_exercise_opportunities: NaN;teen_birth_rate: NaN;num_uninsured: -62974.498327;num_primary_care_physicians: NaN;num_dentists: NaN;num_mental_health_providers: NaN;preventable_hospitalization_rate: NaN;percent_with_annual_mammogram: NaN;percent_vaccinated: NaN;num_associations: -40448.061988;social_association_rate: -9018.662585;inadequate_facilities: NaN;percent_food_insecure: -7075.742900;num_limited_access: NaN;percent_limited_access_to_healthy_foods: NaN;percent_insufficient_sleep: -8025.657615;percent_enrolled_in_free_or_reduced_lunch: NaN]\n",
      "\n"
     ]
    }
   ],
   "source": [
    "# Drops the column called \"state\"\n",
    "#new_df.head()\n",
    "# Prints the first five values of data frame, zero-indexed\n",
    "\n",
    "#df = new_df\n",
    "#!/usr/local/bin/python\n",
    "\n",
    "from pycausal.pycausal import pycausal as pc\n",
    "pc = pc()\n",
    "pc.start_vm()\n",
    "\n",
    "from pycausal import search as s\n",
    "tetrad = s.tetradrunner()\n",
    "\n",
    "\"\"\"\n",
    "tetrad.run(algoId = 'fges', dfs = df, scoreId = 'bdeu-score', dataType = 'discrete',\n",
    "           maxDegree = 3, faithfulnessAssumed = True, verbose = False, \n",
    "           numberResampling = 5, resamplingEnsemble = 1, addOriginalDataset = True)\n",
    "\n",
    "tetrad.run(algoId = 'gfci', dfs = df, testId = 'bdeu-test', scoreId = 'bdeu-score',  dataType = 'discrete',\n",
    "           maxDegree = 3, maxPathLength = -1, completeRuleSetUsed = False, \n",
    "           faithfulnessAssumed = True, verbose = False)\n",
    "\n",
    "           \n",
    "           tetrad.run(algoId = 'fges', dfs = df, scoreId = 'cg-bic-score', dataType = 'mixed', numCategoriesToDiscretize = 4,\n",
    "           maxDegree = 3, faithfulnessAssumed = True, verbose = False, \n",
    "           numberResampling = 5, resamplingEnsemble = 1, addOriginalDataset = True)\n",
    "\n",
    "\n",
    "tetrad.run(algoId = 'fges', dfs = df, scoreId = 'sem-bic', dataType = 'continuous',\n",
    "           maxDegree = -1, faithfulnessAssumed = True, verbose = False)\n",
    "\n",
    "\n",
    "tetrad.run(algoId = 'fges', dfs = df, scoreId = 'cg-bic-score', dataType = 'discrete',\n",
    "           maxDegree = 3, faithfulnessAssumed = True, \n",
    "           symmetricFirstStep = True, verbose = True)\n",
    "\"\"\"\n",
    "tetrad.run(algoId = 'fges', dfs = df, scoreId = 'sem-bic', dataType = 'continuous',\n",
    "           maxDegree = -1, faithfulnessAssumed = True, verbose = False)\n",
    "\n",
    "\n",
    "graph = tetrad.getTetradGraph()\n",
    "\n",
    "\"\"\"\n",
    "dot_str = pc.tetradGraphToDot(graph)\n",
    "graphs = pydot.graph_from_dot_data(dot_str)\n",
    "graphs[0].write_svg('us-county-health-data.svg')\n",
    "\"\"\"\n",
    "\n",
    "print(graph)\n",
    "#print('Graph BIC: {}'.format(graph.getAttribute('BIC')))"
   ]
  },
  {
   "cell_type": "code",
   "execution_count": 5,
   "id": "106b8799-adb7-4313-b8c5-49563255bd77",
   "metadata": {},
   "outputs": [],
   "source": [
    "def getGraphNodeByName(g, n):\n",
    "    nodes = g.getNodes()\n",
    "    nit = nodes.iterator()\n",
    "    while nit.hasNext():\n",
    "        node = nit.next()\n",
    "        if node.getName() == n:\n",
    "            return node\n",
    "    return None\n",
    "\n",
    "\n",
    "def buildWidget(g, w):\n",
    "    w.graph.clear()\n",
    "    \n",
    "    edges = g.getEdges()\n",
    "    eit = edges.iterator()\n",
    "    connectedNodes = []\n",
    "    while eit.hasNext():\n",
    "        edge= eit.next()\n",
    "        n1 = edge.getNode1().getName()\n",
    "        n2 = edge.getNode2().getName()\n",
    "        connectedNodes.append(n1)\n",
    "        connectedNodes.append(n2)\n",
    "\n",
    "    nodes = g.getNodes()\n",
    "    nit = nodes.iterator()\n",
    "    while nit.hasNext():\n",
    "        node = nit.next()\n",
    "        nodeName = node.getName()\n",
    "        if nodeName in connectedNodes:\n",
    "            w.graph.add_node(cytoscape.Node(data={\"id\":nodeName, \"label\":nodeName}))\n",
    "    \n",
    "    eit = edges.iterator()\n",
    "    while eit.hasNext():\n",
    "        edge= eit.next()\n",
    "        n1 = edge.getNode1().getName()\n",
    "        n2 = edge.getNode2().getName()\n",
    "        cEdge = cytoscape.Edge(data={\"id\":f'{n1}_{n2}',\"source\": n1, \"target\": n2})\n",
    "        w.graph.add_edge(cEdge, True, True)\n",
    "        \n",
    "    \n",
    "    #w.set_layout(name='dagre', nodeSpacing=10, edgeLengthVal=10)\n",
    "    w.set_style([\n",
    "            {\n",
    "            'selector': 'node',\n",
    "            'style': {\n",
    "                'font-family': 'arial',\n",
    "                'font-size': '10px',\n",
    "                'label': 'data(label)',\n",
    "                'background-color': 'blue'\n",
    "                }\n",
    "            },\n",
    "            {\n",
    "                'selector': 'edge',\n",
    "                'style': {\n",
    "                    'width': 4,\n",
    "                    'line-color': '#9dbaea',\n",
    "                    'target-arrow-shape': 'triangle',\n",
    "                    'target-arrow-color': '#9dbaea',\n",
    "                    'curve-style': 'bezier'\n",
    "                }\n",
    "            },\n",
    "                {\n",
    "          \"selector\": \"edge.selected\",\n",
    "          \"css\": {\n",
    "            \"line-color\": \"red\"\n",
    "          },\n",
    "        },\n",
    "        \n",
    "        {\n",
    "            \"selector\": \"node.selected\",\n",
    "            \"css\": {\n",
    "                \"background-color\": \"red\"\n",
    "            },\n",
    "        }\n",
    "    ])"
   ]
  },
  {
   "cell_type": "code",
   "execution_count": null,
   "id": "65f9429e-64c9-4238-b1c8-01ca26fc7b1c",
   "metadata": {},
   "outputs": [],
   "source": []
  },
  {
   "cell_type": "code",
   "execution_count": 6,
   "id": "0b768849-bce1-43c1-aad7-6cd7422b2999",
   "metadata": {},
   "outputs": [],
   "source": [
    "selectedNodes = []\n",
    "selectedEdges = []\n",
    "\n",
    "def getCytoGraphEdge(id):\n",
    "    for ne in widget1.graph.edges:\n",
    "        if ne.data[\"id\"] == id:\n",
    "            return ne\n",
    "    return None\n",
    "\n",
    "def getCytoGraphNode(id):\n",
    "    for nd in widget1.graph.nodes:\n",
    "        if nd.data[\"id\"] == id:\n",
    "            return nd\n",
    "    return None\n",
    "\n",
    "def toggleCytoGraphEdgeClass(id, className, add):\n",
    "    cEdge = getCytoGraphEdge(id)\n",
    "    toggleCytoGraphClass(cEdge, className, add)\n",
    "\n",
    "def toggleCytoGraphNodeClass(id, className, add):\n",
    "    cNode = getCytoGraphNode(id)\n",
    "    toggleCytoGraphClass(cNode, className, add)\n",
    "    \n",
    "def toggleCytoGraphClass(el, className, add):\n",
    "    classes = set(el.classes.split(\" \"))\n",
    "    if add:\n",
    "        classes.add(className)\n",
    "    else:\n",
    "        if className in classes:\n",
    "            classes.remove(className)\n",
    "        \n",
    "    el.classes = \" \".join(classes)\n",
    "\n",
    "graphbtn = widgets.Button(description=\"Generate original graph\", disabled=False)\n",
    "deletebtn = widgets.Button(description=\"Delete Edge\", disabled=True)\n",
    "changebtn = widgets.Button(description=\"Change Direction\", disabled=True)\n",
    "addbtn = widgets.Button(description=\"Add Edge\", disabled=True)\n",
    "widget1 = ipycytoscape.CytoscapeWidget()\n",
    "buildWidget(graph, widget1)"
   ]
  },
  {
   "cell_type": "code",
   "execution_count": 7,
   "id": "996e827d-d956-4ef8-b928-6c7b85396714",
   "metadata": {},
   "outputs": [],
   "source": [
    "from ipywidgets import Output\n",
    "from IPython.display import display\n",
    "from pprint import pformat\n",
    "\n",
    "out = Output()\n",
    "\n",
    "def edge_selected(e):\n",
    "    \n",
    "    if len(selectedEdges) == 0:\n",
    "        selectedEdges.append(e)\n",
    "        with out:\n",
    "            print(f'selected: {pformat(e[\"data\"])}')\n",
    "    else:\n",
    "        toggleCytoGraphEdgeClass(selectedEdges[0][\"data\"][\"id\"], \"selected\", False)\n",
    "        if selectedEdges[0][\"data\"][\"id\"] == e[\"data\"][\"id\"]:\n",
    "            selectedEdges.clear()\n",
    "        else:\n",
    "            selectedEdges[0] = e\n",
    "        \n",
    "        \n",
    "    empty = len(selectedEdges) == 0\n",
    "    if not empty:\n",
    "        toggleCytoGraphEdgeClass(selectedEdges[0][\"data\"][\"id\"], \"selected\", True)\n",
    "    \n",
    "    deletebtn.disabled = empty\n",
    "    changebtn.disabled = empty\n",
    "    addbtn.disabled = empty\n",
    "    \n",
    "def node_selected(n):\n",
    "    for nd in selectedNodes:\n",
    "        if nd[\"data\"][\"id\"] == n[\"data\"][\"id\"]:\n",
    "            toggleCytoGraphNodeClass(n[\"data\"][\"id\"], \"selected\", False)\n",
    "            selectedNodes.remove(nd)\n",
    "            return\n",
    "    if len(selectedNodes) < 2:\n",
    "        selectedNodes.append(n)\n",
    "        with out:\n",
    "            print(f'selected: {pformat(n[\"data\"])}')\n",
    "        toggleCytoGraphNodeClass(n[\"data\"][\"id\"], \"selected\", True)\n",
    "    if len(selectedNodes) == 2:\n",
    "        addbtn.disabled=False\n",
    "    \n",
    "def clearSelectedNodes():\n",
    "    for nd in selectedNodes:\n",
    "        toggleCytoGraphNodeClass(nd[\"data\"][\"id\"], \"selected\", False)\n",
    "    selectedNodes.clear()\n",
    "    addbtn.disabled = True\n",
    "    \n",
    "def clearSelectedEdges():\n",
    "    selectedEdges.clear()\n",
    "    deletebtn.disabled = True\n",
    "    changebtn.disabled = True\n",
    "\n",
    "def addEdge(b):\n",
    "    if len(selectedNodes) != 2:\n",
    "        return\n",
    "    n1id = selectedNodes[0][\"data\"][\"id\"]\n",
    "    n2id = selectedNodes[1][\"data\"][\"id\"]\n",
    "     \n",
    "    n1 = getGraphNodeByName(graph, n1id)\n",
    "    n2 = getGraphNodeByName(graph, n2id)\n",
    "    \n",
    "    exists = graph.existsDirectedPathFromTo(n1, n2) or graph.existsDirectedPathFromTo(n2, n1)\n",
    "    with out:\n",
    "        print(exists)\n",
    "    \n",
    "    if not exists:\n",
    "        graph.addDirectedEdge(n1, n2)\n",
    "        with out:\n",
    "            print(f'adding edge between: {n1id}, {n2id}')\n",
    "        buildWidget(graph, widget1)\n",
    "    else:\n",
    "        with out:\n",
    "            print(f'edge already exists between {n1id}, {n2id}')\n",
    "    clearSelectedNodes()\n",
    "    \n",
    "        \n",
    "    \n",
    "def log_clicks(node):\n",
    "    with out:\n",
    "        print(f'clicked: {pformat(node)}')\n",
    "    if length(newEdge) == 2:\n",
    "        deletebtn[disabled] = True\n",
    "    else:\n",
    "        newEdge.append(node[\"id\"])\n",
    "\n",
    "    \n",
    "def removeEdge(b):\n",
    "    if len(selectedEdges) == 1:\n",
    "        e = selectedEdges[0]\n",
    "        with out:\n",
    "            print(f'removing: {pformat(e[\"data\"])}')\n",
    "        graph.removeEdge(getGraphNodeByName(graph, e[\"data\"][\"source\"]), getGraphNodeByName(graph, e[\"data\"][\"target\"]))\n",
    "        clearSelectedEdges()\n",
    "        buildWidget(graph, widget1)\n",
    "        \n",
    "\n",
    "        \n",
    "def changeDirection(b):\n",
    "    if len(selectedEdges) == 1:\n",
    "        e = selectedEdges[0]\n",
    "        source = e[\"data\"][\"source\"]\n",
    "        target = e[\"data\"][\"target\"]\n",
    "        n1 = getGraphNodeByName(graph, source)\n",
    "        n2 = getGraphNodeByName(graph, target)\n",
    "        graph.removeEdge(n1, n2)\n",
    "        graph.addDirectedEdge(n2, n1)\n",
    "        clearSelectedEdges()\n",
    "        buildWidget(graph, widget1)\n",
    "        ne = getCytoGraphEdge(f'{target}_{source}')\n",
    "        with out:\n",
    "            print(f'edge with new direction: {pformat(ne.data)}')\n",
    "\n",
    "\"\"\"\n",
    "def log_mouseovers(node):\n",
    "    with out:\n",
    "        print(f'mouseover: {pformat(node)}')\n",
    "\"\"\"\n",
    "\n",
    "\n",
    "\n",
    "\n",
    "widget1.on('edge', 'click', edge_selected)\n",
    "widget1.on('node', 'click', node_selected)\n",
    "#widget1.on('node', 'mouseover', log_mouseovers)\n",
    "deletebtn.on_click(callback=removeEdge)\n",
    "changebtn.on_click(callback=changeDirection)\n",
    "addbtn.on_click(callback=addEdge)\n",
    "\n",
    "# pc.stop_vm()"
   ]
  },
  {
   "cell_type": "code",
   "execution_count": 8,
   "id": "34c71928-2bca-4ac9-87d0-498bbe47af45",
   "metadata": {},
   "outputs": [
    {
     "data": {
      "application/vnd.jupyter.widget-view+json": {
       "model_id": "7ef3294828674bb59c282f2b1e1fd10b",
       "version_major": 2,
       "version_minor": 0
      },
      "text/plain": [
       "CytoscapeWidget(cytoscape_layout={'name': 'cola'}, cytoscape_style=[{'selector': 'node', 'style': {'font-famil…"
      ]
     },
     "metadata": {},
     "output_type": "display_data"
    },
    {
     "data": {
      "application/vnd.jupyter.widget-view+json": {
       "model_id": "a6858f51a9534c39afadef7950c49496",
       "version_major": 2,
       "version_minor": 0
      },
      "text/plain": [
       "Button(description='Delete Edge', disabled=True, style=ButtonStyle())"
      ]
     },
     "metadata": {},
     "output_type": "display_data"
    },
    {
     "data": {
      "application/vnd.jupyter.widget-view+json": {
       "model_id": "ba2ce1668f9d4be0b24de8ac5af977a3",
       "version_major": 2,
       "version_minor": 0
      },
      "text/plain": [
       "Button(description='Change Direction', disabled=True, style=ButtonStyle())"
      ]
     },
     "metadata": {},
     "output_type": "display_data"
    },
    {
     "data": {
      "application/vnd.jupyter.widget-view+json": {
       "model_id": "92abee75b4bb40c2bdf23098f8bd8751",
       "version_major": 2,
       "version_minor": 0
      },
      "text/plain": [
       "Button(description='Add Edge', disabled=True, style=ButtonStyle())"
      ]
     },
     "metadata": {},
     "output_type": "display_data"
    },
    {
     "data": {
      "application/vnd.jupyter.widget-view+json": {
       "model_id": "adaa6115960243f98a1210be90bde03e",
       "version_major": 2,
       "version_minor": 0
      },
      "text/plain": [
       "Button(description='Generate original graph', style=ButtonStyle())"
      ]
     },
     "metadata": {},
     "output_type": "display_data"
    },
    {
     "data": {
      "application/vnd.jupyter.widget-view+json": {
       "model_id": "37604af365b04e168d9358e27d2e2813",
       "version_major": 2,
       "version_minor": 0
      },
      "text/plain": [
       "Output()"
      ]
     },
     "metadata": {},
     "output_type": "display_data"
    },
    {
     "data": {
      "text/plain": [
       "'\\nOriginal graph:\\n\\nwww3.cs.stonybrook.edu/~mueller/papers/causalAnalyst.pdf\\n'"
      ]
     },
     "execution_count": 8,
     "metadata": {},
     "output_type": "execute_result"
    }
   ],
   "source": [
    "\n",
    "display(widget1)\n",
    "display(deletebtn)\n",
    "display(changebtn)\n",
    "display(addbtn)\n",
    "display(graphbtn)\n",
    "display(out)\n",
    "\n",
    "\"\"\"\n",
    "Original graph:\n",
    "\n",
    "www3.cs.stonybrook.edu/~mueller/papers/causalAnalyst.pdf\n",
    "\"\"\"\n",
    "\n"
   ]
  },
  {
   "cell_type": "code",
   "execution_count": null,
   "id": "584cc82d-2d21-4bb1-be2d-73512c7e8ac2",
   "metadata": {},
   "outputs": [],
   "source": []
  }
 ],
 "metadata": {
  "kernelspec": {
   "display_name": "Python 3 (ipykernel)",
   "language": "python",
   "name": "python3"
  },
  "language_info": {
   "codemirror_mode": {
    "name": "ipython",
    "version": 3
   },
   "file_extension": ".py",
   "mimetype": "text/x-python",
   "name": "python",
   "nbconvert_exporter": "python",
   "pygments_lexer": "ipython3",
   "version": "3.9.6"
  },
  "widgets": {
   "application/vnd.jupyter.widget-state+json": {
    "state": {
     "1698b2b4c183437394d440c157465fee": {
      "model_module": "jupyter-cytoscape",
      "model_module_version": "^1.2.2",
      "model_name": "NodeModel",
      "state": {
       "_model_module_version": "^1.2.2",
       "_view_module_version": "^1.2.2",
       "data": {
        "id": "percent_food_insecure",
        "label": "percent_food_insecure"
       },
       "grabbable": true,
       "grabbed": false,
       "position": {
        "x": 485.6321196101488,
        "y": 385.0676461528479
       },
       "selectable": false
      }
     },
     "24cb5b0520164351897e8b44759f4283": {
      "model_module": "@jupyter-widgets/base",
      "model_module_version": "1.2.0",
      "model_name": "LayoutModel",
      "state": {}
     },
     "37604af365b04e168d9358e27d2e2813": {
      "model_module": "@jupyter-widgets/output",
      "model_module_version": "1.0.0",
      "model_name": "OutputModel",
      "state": {
       "layout": "IPY_MODEL_d6c01e0cff0146aa83c043235b852aff"
      }
     },
     "4f587d5589404c16afc56978b926441f": {
      "model_module": "@jupyter-widgets/base",
      "model_module_version": "1.2.0",
      "model_name": "LayoutModel",
      "state": {}
     },
     "56a0a5c4d14a450c9397ef8b487de532": {
      "model_module": "@jupyter-widgets/base",
      "model_module_version": "1.2.0",
      "model_name": "LayoutModel",
      "state": {}
     },
     "57dc1f2de8f046f9b32d5995538cb2fa": {
      "model_module": "@jupyter-widgets/controls",
      "model_module_version": "1.5.0",
      "model_name": "ButtonStyleModel",
      "state": {}
     },
     "5904a4dc0b8e44beb27964e9520446a2": {
      "model_module": "jupyter-cytoscape",
      "model_module_version": "^1.2.2",
      "model_name": "NodeModel",
      "state": {
       "_model_module_version": "^1.2.2",
       "_view_module_version": "^1.2.2",
       "data": {
        "id": "num_uninsured",
        "label": "num_uninsured"
       },
       "grabbable": true,
       "grabbed": false,
       "position": {
        "x": 208.52534695335135,
        "y": 100.46364669678239
       },
       "selectable": false
      }
     },
     "5e1feb07fc2e442da022b7f597fb4ef1": {
      "model_module": "jupyter-cytoscape",
      "model_module_version": "^1.2.2",
      "model_name": "EdgeModel",
      "state": {
       "_model_module_version": "^1.2.2",
       "_view_module_version": "^1.2.2",
       "classes": " directed  multiple_edges ",
       "data": {
        "id": "num_associations_num_uninsured",
        "source": "num_associations",
        "target": "num_uninsured"
       },
       "selectable": false
      }
     },
     "5e23c29412d948479872f188434ed14f": {
      "model_module": "jupyter-cytoscape",
      "model_module_version": "^1.2.2",
      "model_name": "EdgeModel",
      "state": {
       "_model_module_version": "^1.2.2",
       "_view_module_version": "^1.2.2",
       "classes": " directed  multiple_edges ",
       "data": {
        "id": "num_deaths_num_uninsured",
        "source": "num_deaths",
        "target": "num_uninsured"
       },
       "selectable": false
      }
     },
     "66981638cd144a5caf634c92587ea0aa": {
      "model_module": "@jupyter-widgets/base",
      "model_module_version": "1.2.0",
      "model_name": "LayoutModel",
      "state": {}
     },
     "7ef3294828674bb59c282f2b1e1fd10b": {
      "model_module": "jupyter-cytoscape",
      "model_module_version": "^1.2.2",
      "model_name": "CytoscapeModel",
      "state": {
       "_interaction_handlers": {
        "edge": [
         "click"
        ],
        "node": [
         "click"
        ]
       },
       "_model_module_version": "^1.2.2",
       "_view_module_version": "^1.2.2",
       "auto_ungrabify": false,
       "autolock": false,
       "cytoscape_layout": {
        "name": "cola"
       },
       "cytoscape_style": [
        {
         "selector": "node",
         "style": {
          "background-color": "blue",
          "font-family": "arial",
          "font-size": "10px",
          "label": "data(label)"
         }
        },
        {
         "selector": "edge",
         "style": {
          "curve-style": "bezier",
          "line-color": "#9dbaea",
          "target-arrow-color": "#9dbaea",
          "target-arrow-shape": "triangle",
          "width": 4
         }
        },
        {
         "css": {
          "line-color": "red"
         },
         "selector": "edge.selected"
        },
        {
         "css": {
          "background-color": "red"
         },
         "selector": "node.selected"
        }
       ],
       "desktop_tap_threshold": 4,
       "graph": "IPY_MODEL_b8060a94b6f84c52b8a1396a964e19dd",
       "headless": false,
       "hide_edges_on_viewport": false,
       "layout": "IPY_MODEL_56a0a5c4d14a450c9397ef8b487de532",
       "max_zoom": 1e+50,
       "min_zoom": 1e-50,
       "motion_blur": false,
       "motion_blur_opacity": 0.2,
       "panning_enabled": true,
       "pixel_ratio": "auto",
       "rendered_position": {
        "renderedPosition": {
         "x": 100,
         "y": 100
        }
       },
       "selection_type": "single",
       "style_enabled": true,
       "texture_on_viewport": false,
       "tooltip_source": "tooltip",
       "touch_tap_threshold": 8,
       "user_panning_enabled": true,
       "user_zooming_enabled": true,
       "wheel_sensitivity": 1,
       "zoom": 2,
       "zooming_enabled": true
      }
     },
     "803a0ff152d74c94a6724f93153e146d": {
      "model_module": "jupyter-cytoscape",
      "model_module_version": "^1.2.2",
      "model_name": "NodeModel",
      "state": {
       "_model_module_version": "^1.2.2",
       "_view_module_version": "^1.2.2",
       "data": {
        "id": "num_associations",
        "label": "num_associations"
       },
       "grabbable": true,
       "grabbed": false,
       "position": {
        "x": 149.92770343714392,
        "y": 180.91153308754494
       },
       "selectable": false
      }
     },
     "8224bca7d8ae47bbb66db134bab12bcd": {
      "model_module": "jupyter-cytoscape",
      "model_module_version": "^1.2.2",
      "model_name": "EdgeModel",
      "state": {
       "_model_module_version": "^1.2.2",
       "_view_module_version": "^1.2.2",
       "classes": " directed  multiple_edges ",
       "data": {
        "id": "percent_insufficient_sleep_social_association_rate",
        "source": "percent_insufficient_sleep",
        "target": "social_association_rate"
       },
       "selectable": false
      }
     },
     "8a0ff7e9a83746c287ddec00dcf29f8e": {
      "model_module": "jupyter-cytoscape",
      "model_module_version": "^1.2.2",
      "model_name": "EdgeModel",
      "state": {
       "_model_module_version": "^1.2.2",
       "_view_module_version": "^1.2.2",
       "classes": " directed  multiple_edges ",
       "data": {
        "id": "num_associations_num_deaths",
        "source": "num_associations",
        "target": "num_deaths"
       },
       "selectable": false
      }
     },
     "90456a03e7dd40c0b08feb01ae6de2e7": {
      "model_module": "jupyter-cytoscape",
      "model_module_version": "^1.2.2",
      "model_name": "NodeModel",
      "state": {
       "_model_module_version": "^1.2.2",
       "_view_module_version": "^1.2.2",
       "data": {
        "id": "percent_insufficient_sleep",
        "label": "percent_insufficient_sleep"
       },
       "grabbable": true,
       "grabbed": false,
       "position": {
        "x": 415.4030316754407,
        "y": 313.0405103142952
       },
       "selectable": false
      }
     },
     "9098a2d315b745a8af5995daeb752647": {
      "model_module": "@jupyter-widgets/controls",
      "model_module_version": "1.5.0",
      "model_name": "ButtonStyleModel",
      "state": {}
     },
     "92abee75b4bb40c2bdf23098f8bd8751": {
      "model_module": "@jupyter-widgets/controls",
      "model_module_version": "1.5.0",
      "model_name": "ButtonModel",
      "state": {
       "description": "Add Edge",
       "disabled": true,
       "layout": "IPY_MODEL_b8de7db4a3654aac8be921884380100e",
       "style": "IPY_MODEL_57dc1f2de8f046f9b32d5995538cb2fa"
      }
     },
     "a00db79c9f264d5d927d39bd5f35286b": {
      "model_module": "jupyter-cytoscape",
      "model_module_version": "^1.2.2",
      "model_name": "NodeModel",
      "state": {
       "_model_module_version": "^1.2.2",
       "_view_module_version": "^1.2.2",
       "data": {
        "id": "num_deaths",
        "label": "num_deaths"
       },
       "grabbable": true,
       "grabbed": false,
       "position": {
        "x": 250.77495709617048,
        "y": 192.6982944460152
       },
       "selectable": false
      }
     },
     "a6858f51a9534c39afadef7950c49496": {
      "model_module": "@jupyter-widgets/controls",
      "model_module_version": "1.5.0",
      "model_name": "ButtonModel",
      "state": {
       "description": "Delete Edge",
       "disabled": true,
       "layout": "IPY_MODEL_24cb5b0520164351897e8b44759f4283",
       "style": "IPY_MODEL_fbd193be29f040b2a77c1f6077c9deaf"
      }
     },
     "aafd4f2519954d838e6daa634912660b": {
      "model_module": "jupyter-cytoscape",
      "model_module_version": "^1.2.2",
      "model_name": "GraphModel",
      "state": {
       "_adj": {},
       "_model_module_version": "^1.2.2",
       "_view_module": "jupyter-cytoscape",
       "_view_module_version": "^1.2.2"
      }
     },
     "adaa6115960243f98a1210be90bde03e": {
      "model_module": "@jupyter-widgets/controls",
      "model_module_version": "1.5.0",
      "model_name": "ButtonModel",
      "state": {
       "description": "Generate original graph",
       "layout": "IPY_MODEL_4f587d5589404c16afc56978b926441f",
       "style": "IPY_MODEL_9098a2d315b745a8af5995daeb752647"
      }
     },
     "b8060a94b6f84c52b8a1396a964e19dd": {
      "model_module": "jupyter-cytoscape",
      "model_module_version": "^1.2.2",
      "model_name": "GraphModel",
      "state": {
       "_adj": {
        "num_associations": {},
        "num_deaths": {},
        "num_uninsured": {},
        "percent_food_insecure": {},
        "percent_insufficient_sleep": {},
        "social_association_rate": {}
       },
       "_model_module_version": "^1.2.2",
       "_view_module": "jupyter-cytoscape",
       "_view_module_version": "^1.2.2",
       "edges": [
        "IPY_MODEL_bdaba5a8ca814986b094707aa7a66ffb",
        "IPY_MODEL_befa3af349494122b68f0618619114d7",
        "IPY_MODEL_5e1feb07fc2e442da022b7f597fb4ef1",
        "IPY_MODEL_5e23c29412d948479872f188434ed14f",
        "IPY_MODEL_8224bca7d8ae47bbb66db134bab12bcd",
        "IPY_MODEL_8a0ff7e9a83746c287ddec00dcf29f8e"
       ],
       "nodes": [
        "IPY_MODEL_a00db79c9f264d5d927d39bd5f35286b",
        "IPY_MODEL_5904a4dc0b8e44beb27964e9520446a2",
        "IPY_MODEL_803a0ff152d74c94a6724f93153e146d",
        "IPY_MODEL_d30d9aef7c884b3b8225ecdb80fdb9a1",
        "IPY_MODEL_1698b2b4c183437394d440c157465fee",
        "IPY_MODEL_90456a03e7dd40c0b08feb01ae6de2e7"
       ]
      }
     },
     "b8de7db4a3654aac8be921884380100e": {
      "model_module": "@jupyter-widgets/base",
      "model_module_version": "1.2.0",
      "model_name": "LayoutModel",
      "state": {}
     },
     "ba2ce1668f9d4be0b24de8ac5af977a3": {
      "model_module": "@jupyter-widgets/controls",
      "model_module_version": "1.5.0",
      "model_name": "ButtonModel",
      "state": {
       "description": "Change Direction",
       "disabled": true,
       "layout": "IPY_MODEL_66981638cd144a5caf634c92587ea0aa",
       "style": "IPY_MODEL_ee57f83d6a3947bc8cf9af213c16c355"
      }
     },
     "bdaba5a8ca814986b094707aa7a66ffb": {
      "model_module": "jupyter-cytoscape",
      "model_module_version": "^1.2.2",
      "model_name": "EdgeModel",
      "state": {
       "_model_module_version": "^1.2.2",
       "_view_module_version": "^1.2.2",
       "classes": " directed  multiple_edges ",
       "data": {
        "id": "social_association_rate_num_deaths",
        "source": "social_association_rate",
        "target": "num_deaths"
       },
       "selectable": false
      }
     },
     "befa3af349494122b68f0618619114d7": {
      "model_module": "jupyter-cytoscape",
      "model_module_version": "^1.2.2",
      "model_name": "EdgeModel",
      "state": {
       "_model_module_version": "^1.2.2",
       "_view_module_version": "^1.2.2",
       "classes": " directed  multiple_edges ",
       "data": {
        "id": "percent_insufficient_sleep_percent_food_insecure",
        "source": "percent_insufficient_sleep",
        "target": "percent_food_insecure"
       },
       "selectable": false
      }
     },
     "d30d9aef7c884b3b8225ecdb80fdb9a1": {
      "model_module": "jupyter-cytoscape",
      "model_module_version": "^1.2.2",
      "model_name": "NodeModel",
      "state": {
       "_model_module_version": "^1.2.2",
       "_view_module_version": "^1.2.2",
       "data": {
        "id": "social_association_rate",
        "label": "social_association_rate"
       },
       "grabbable": true,
       "grabbed": false,
       "position": {
        "x": 334.41121913274355,
        "y": 252.1211782025316
       },
       "selectable": false
      }
     },
     "d6c01e0cff0146aa83c043235b852aff": {
      "model_module": "@jupyter-widgets/base",
      "model_module_version": "1.2.0",
      "model_name": "LayoutModel",
      "state": {}
     },
     "ee57f83d6a3947bc8cf9af213c16c355": {
      "model_module": "@jupyter-widgets/controls",
      "model_module_version": "1.5.0",
      "model_name": "ButtonStyleModel",
      "state": {}
     },
     "fbd193be29f040b2a77c1f6077c9deaf": {
      "model_module": "@jupyter-widgets/controls",
      "model_module_version": "1.5.0",
      "model_name": "ButtonStyleModel",
      "state": {}
     }
    },
    "version_major": 2,
    "version_minor": 0
   }
  }
 },
 "nbformat": 4,
 "nbformat_minor": 5
}
