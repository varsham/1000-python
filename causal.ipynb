{
 "cells": [
  {
   "cell_type": "code",
   "execution_count": 4,
   "id": "6bc66f60-f3e4-4766-b2b6-e44ab9fe740f",
   "metadata": {},
   "outputs": [
    {
     "name": "stdout",
     "output_type": "stream",
     "text": [
      "Requirement already satisfied: numpy in /Users/latha/Library/Python/3.8/lib/python/site-packages (1.21.1)\n",
      "\u001b[33mWARNING: You are using pip version 19.2.3, however version 21.2.1 is available.\n",
      "You should consider upgrading via the 'pip install --upgrade pip' command.\u001b[0m\n",
      "Requirement already satisfied: pandas in /Users/latha/Library/Python/3.8/lib/python/site-packages (1.3.1)\n",
      "Requirement already satisfied: numpy>=1.17.3 in /Users/latha/Library/Python/3.8/lib/python/site-packages (from pandas) (1.21.1)\n",
      "Requirement already satisfied: pytz>=2017.3 in /Users/latha/Library/Python/3.8/lib/python/site-packages (from pandas) (2021.1)\n",
      "Requirement already satisfied: python-dateutil>=2.7.3 in /Users/latha/Library/Python/3.8/lib/python/site-packages (from pandas) (2.8.2)\n",
      "Requirement already satisfied: six>=1.5 in /Applications/Xcode.app/Contents/Developer/Library/Frameworks/Python3.framework/Versions/3.8/lib/python3.8/site-packages (from python-dateutil>=2.7.3->pandas) (1.15.0)\n",
      "\u001b[33mWARNING: You are using pip version 19.2.3, however version 21.2.1 is available.\n",
      "You should consider upgrading via the 'pip install --upgrade pip' command.\u001b[0m\n",
      "Requirement already satisfied: pydot in /Users/latha/Library/Python/3.8/lib/python/site-packages (1.4.2)\n",
      "Requirement already satisfied: pyparsing>=2.1.4 in /Users/latha/Library/Python/3.8/lib/python/site-packages (from pydot) (2.4.7)\n",
      "\u001b[33mWARNING: You are using pip version 19.2.3, however version 21.2.1 is available.\n",
      "You should consider upgrading via the 'pip install --upgrade pip' command.\u001b[0m\n",
      "Requirement already satisfied: javabridge from git+https://github.com/LeeKamentsky/python-javabridge.git#egg=javabridge in /Users/latha/Library/Python/3.8/lib/python/site-packages (1.0.19.post4+gbebed64)\n",
      "Requirement already satisfied: numpy in /Users/latha/Library/Python/3.8/lib/python/site-packages (from javabridge) (1.21.1)\n",
      "\u001b[33mWARNING: You are using pip version 19.2.3, however version 21.2.1 is available.\n",
      "You should consider upgrading via the 'pip install --upgrade pip' command.\u001b[0m\n",
      "Requirement already satisfied: ipycytoscape in /Users/latha/Library/Python/3.8/lib/python/site-packages (1.2.2)\n",
      "Requirement already satisfied: ipywidgets>=7.6.0 in /Users/latha/Library/Python/3.8/lib/python/site-packages (from ipycytoscape) (7.6.3)\n",
      "Requirement already satisfied: networkx in /Users/latha/Library/Python/3.8/lib/python/site-packages (from ipycytoscape) (2.6.2)\n",
      "Requirement already satisfied: spectate>=1.0.0 in /Users/latha/Library/Python/3.8/lib/python/site-packages (from ipycytoscape) (1.0.1)\n",
      "Requirement already satisfied: ipython>=4.0.0; python_version >= \"3.3\" in /Users/latha/Library/Python/3.8/lib/python/site-packages (from ipywidgets>=7.6.0->ipycytoscape) (7.25.0)\n",
      "Requirement already satisfied: ipykernel>=4.5.1 in /Users/latha/Library/Python/3.8/lib/python/site-packages (from ipywidgets>=7.6.0->ipycytoscape) (6.0.3)\n",
      "Requirement already satisfied: widgetsnbextension~=3.5.0 in /Users/latha/Library/Python/3.8/lib/python/site-packages (from ipywidgets>=7.6.0->ipycytoscape) (3.5.1)\n",
      "Requirement already satisfied: jupyterlab-widgets>=1.0.0; python_version >= \"3.6\" in /Users/latha/Library/Python/3.8/lib/python/site-packages (from ipywidgets>=7.6.0->ipycytoscape) (1.0.0)\n",
      "Requirement already satisfied: traitlets>=4.3.1 in /Users/latha/Library/Python/3.8/lib/python/site-packages (from ipywidgets>=7.6.0->ipycytoscape) (5.0.5)\n",
      "Requirement already satisfied: nbformat>=4.2.0 in /Users/latha/Library/Python/3.8/lib/python/site-packages (from ipywidgets>=7.6.0->ipycytoscape) (5.1.3)\n",
      "Requirement already satisfied: prompt-toolkit!=3.0.0,!=3.0.1,<3.1.0,>=2.0.0 in /Users/latha/Library/Python/3.8/lib/python/site-packages (from ipython>=4.0.0; python_version >= \"3.3\"->ipywidgets>=7.6.0->ipycytoscape) (3.0.19)\n",
      "Requirement already satisfied: pygments in /Users/latha/Library/Python/3.8/lib/python/site-packages (from ipython>=4.0.0; python_version >= \"3.3\"->ipywidgets>=7.6.0->ipycytoscape) (2.9.0)\n",
      "Requirement already satisfied: pexpect>4.3; sys_platform != \"win32\" in /Users/latha/Library/Python/3.8/lib/python/site-packages (from ipython>=4.0.0; python_version >= \"3.3\"->ipywidgets>=7.6.0->ipycytoscape) (4.8.0)\n",
      "Requirement already satisfied: pickleshare in /Users/latha/Library/Python/3.8/lib/python/site-packages (from ipython>=4.0.0; python_version >= \"3.3\"->ipywidgets>=7.6.0->ipycytoscape) (0.7.5)\n",
      "Requirement already satisfied: decorator in /Users/latha/Library/Python/3.8/lib/python/site-packages (from ipython>=4.0.0; python_version >= \"3.3\"->ipywidgets>=7.6.0->ipycytoscape) (5.0.9)\n",
      "Requirement already satisfied: appnope; sys_platform == \"darwin\" in /Users/latha/Library/Python/3.8/lib/python/site-packages (from ipython>=4.0.0; python_version >= \"3.3\"->ipywidgets>=7.6.0->ipycytoscape) (0.1.2)\n",
      "Requirement already satisfied: setuptools>=18.5 in /Applications/Xcode.app/Contents/Developer/Library/Frameworks/Python3.framework/Versions/3.8/lib/python3.8/site-packages (from ipython>=4.0.0; python_version >= \"3.3\"->ipywidgets>=7.6.0->ipycytoscape) (41.2.0)\n",
      "Requirement already satisfied: jedi>=0.16 in /Users/latha/Library/Python/3.8/lib/python/site-packages (from ipython>=4.0.0; python_version >= \"3.3\"->ipywidgets>=7.6.0->ipycytoscape) (0.18.0)\n",
      "Requirement already satisfied: backcall in /Users/latha/Library/Python/3.8/lib/python/site-packages (from ipython>=4.0.0; python_version >= \"3.3\"->ipywidgets>=7.6.0->ipycytoscape) (0.2.0)\n",
      "Requirement already satisfied: matplotlib-inline in /Users/latha/Library/Python/3.8/lib/python/site-packages (from ipython>=4.0.0; python_version >= \"3.3\"->ipywidgets>=7.6.0->ipycytoscape) (0.1.2)\n",
      "Requirement already satisfied: jupyter-client<7.0 in /Users/latha/Library/Python/3.8/lib/python/site-packages (from ipykernel>=4.5.1->ipywidgets>=7.6.0->ipycytoscape) (6.1.12)\n",
      "Requirement already satisfied: debugpy<2.0,>=1.0.0 in /Users/latha/Library/Python/3.8/lib/python/site-packages (from ipykernel>=4.5.1->ipywidgets>=7.6.0->ipycytoscape) (1.4.1)\n",
      "Requirement already satisfied: tornado<7.0,>=4.2 in /Users/latha/Library/Python/3.8/lib/python/site-packages (from ipykernel>=4.5.1->ipywidgets>=7.6.0->ipycytoscape) (6.1)\n",
      "Requirement already satisfied: notebook>=4.4.1 in /Users/latha/Library/Python/3.8/lib/python/site-packages (from widgetsnbextension~=3.5.0->ipywidgets>=7.6.0->ipycytoscape) (6.4.0)\n",
      "Requirement already satisfied: ipython-genutils in /Users/latha/Library/Python/3.8/lib/python/site-packages (from traitlets>=4.3.1->ipywidgets>=7.6.0->ipycytoscape) (0.2.0)\n",
      "Requirement already satisfied: jupyter-core in /Users/latha/Library/Python/3.8/lib/python/site-packages (from nbformat>=4.2.0->ipywidgets>=7.6.0->ipycytoscape) (4.7.1)\n",
      "Requirement already satisfied: jsonschema!=2.5.0,>=2.4 in /Users/latha/Library/Python/3.8/lib/python/site-packages (from nbformat>=4.2.0->ipywidgets>=7.6.0->ipycytoscape) (3.2.0)\n",
      "Requirement already satisfied: wcwidth in /Users/latha/Library/Python/3.8/lib/python/site-packages (from prompt-toolkit!=3.0.0,!=3.0.1,<3.1.0,>=2.0.0->ipython>=4.0.0; python_version >= \"3.3\"->ipywidgets>=7.6.0->ipycytoscape) (0.2.5)\n",
      "Requirement already satisfied: ptyprocess>=0.5 in /Users/latha/Library/Python/3.8/lib/python/site-packages (from pexpect>4.3; sys_platform != \"win32\"->ipython>=4.0.0; python_version >= \"3.3\"->ipywidgets>=7.6.0->ipycytoscape) (0.7.0)\n",
      "Requirement already satisfied: parso<0.9.0,>=0.8.0 in /Users/latha/Library/Python/3.8/lib/python/site-packages (from jedi>=0.16->ipython>=4.0.0; python_version >= \"3.3\"->ipywidgets>=7.6.0->ipycytoscape) (0.8.2)\n",
      "Requirement already satisfied: pyzmq>=13 in /Users/latha/Library/Python/3.8/lib/python/site-packages (from jupyter-client<7.0->ipykernel>=4.5.1->ipywidgets>=7.6.0->ipycytoscape) (22.1.0)\n",
      "Requirement already satisfied: python-dateutil>=2.1 in /Users/latha/Library/Python/3.8/lib/python/site-packages (from jupyter-client<7.0->ipykernel>=4.5.1->ipywidgets>=7.6.0->ipycytoscape) (2.8.2)\n",
      "Requirement already satisfied: terminado>=0.8.3 in /Users/latha/Library/Python/3.8/lib/python/site-packages (from notebook>=4.4.1->widgetsnbextension~=3.5.0->ipywidgets>=7.6.0->ipycytoscape) (0.10.1)\n",
      "Requirement already satisfied: jinja2 in /Users/latha/Library/Python/3.8/lib/python/site-packages (from notebook>=4.4.1->widgetsnbextension~=3.5.0->ipywidgets>=7.6.0->ipycytoscape) (3.0.1)\n",
      "Requirement already satisfied: nbconvert in /Users/latha/Library/Python/3.8/lib/python/site-packages (from notebook>=4.4.1->widgetsnbextension~=3.5.0->ipywidgets>=7.6.0->ipycytoscape) (6.1.0)\n",
      "Requirement already satisfied: prometheus-client in /Users/latha/Library/Python/3.8/lib/python/site-packages (from notebook>=4.4.1->widgetsnbextension~=3.5.0->ipywidgets>=7.6.0->ipycytoscape) (0.11.0)\n",
      "Requirement already satisfied: Send2Trash>=1.5.0 in /Users/latha/Library/Python/3.8/lib/python/site-packages (from notebook>=4.4.1->widgetsnbextension~=3.5.0->ipywidgets>=7.6.0->ipycytoscape) (1.7.1)\n",
      "Requirement already satisfied: argon2-cffi in /Users/latha/Library/Python/3.8/lib/python/site-packages (from notebook>=4.4.1->widgetsnbextension~=3.5.0->ipywidgets>=7.6.0->ipycytoscape) (20.1.0)\n",
      "Requirement already satisfied: attrs>=17.4.0 in /Users/latha/Library/Python/3.8/lib/python/site-packages (from jsonschema!=2.5.0,>=2.4->nbformat>=4.2.0->ipywidgets>=7.6.0->ipycytoscape) (21.2.0)\n",
      "Requirement already satisfied: pyrsistent>=0.14.0 in /Users/latha/Library/Python/3.8/lib/python/site-packages (from jsonschema!=2.5.0,>=2.4->nbformat>=4.2.0->ipywidgets>=7.6.0->ipycytoscape) (0.18.0)\n",
      "Requirement already satisfied: six>=1.11.0 in /Applications/Xcode.app/Contents/Developer/Library/Frameworks/Python3.framework/Versions/3.8/lib/python3.8/site-packages (from jsonschema!=2.5.0,>=2.4->nbformat>=4.2.0->ipywidgets>=7.6.0->ipycytoscape) (1.15.0)\n",
      "Requirement already satisfied: MarkupSafe>=2.0 in /Users/latha/Library/Python/3.8/lib/python/site-packages (from jinja2->notebook>=4.4.1->widgetsnbextension~=3.5.0->ipywidgets>=7.6.0->ipycytoscape) (2.0.1)\n",
      "Requirement already satisfied: defusedxml in /Users/latha/Library/Python/3.8/lib/python/site-packages (from nbconvert->notebook>=4.4.1->widgetsnbextension~=3.5.0->ipywidgets>=7.6.0->ipycytoscape) (0.7.1)\n",
      "Requirement already satisfied: jupyterlab-pygments in /Users/latha/Library/Python/3.8/lib/python/site-packages (from nbconvert->notebook>=4.4.1->widgetsnbextension~=3.5.0->ipywidgets>=7.6.0->ipycytoscape) (0.1.2)\n",
      "Requirement already satisfied: mistune<2,>=0.8.1 in /Users/latha/Library/Python/3.8/lib/python/site-packages (from nbconvert->notebook>=4.4.1->widgetsnbextension~=3.5.0->ipywidgets>=7.6.0->ipycytoscape) (0.8.4)\n",
      "Requirement already satisfied: bleach in /Users/latha/Library/Python/3.8/lib/python/site-packages (from nbconvert->notebook>=4.4.1->widgetsnbextension~=3.5.0->ipywidgets>=7.6.0->ipycytoscape) (3.3.1)\n",
      "Requirement already satisfied: nbclient<0.6.0,>=0.5.0 in /Users/latha/Library/Python/3.8/lib/python/site-packages (from nbconvert->notebook>=4.4.1->widgetsnbextension~=3.5.0->ipywidgets>=7.6.0->ipycytoscape) (0.5.3)\n",
      "Requirement already satisfied: pandocfilters>=1.4.1 in /Users/latha/Library/Python/3.8/lib/python/site-packages (from nbconvert->notebook>=4.4.1->widgetsnbextension~=3.5.0->ipywidgets>=7.6.0->ipycytoscape) (1.4.3)\n",
      "Requirement already satisfied: entrypoints>=0.2.2 in /Users/latha/Library/Python/3.8/lib/python/site-packages (from nbconvert->notebook>=4.4.1->widgetsnbextension~=3.5.0->ipywidgets>=7.6.0->ipycytoscape) (0.3)\n",
      "Requirement already satisfied: testpath in /Users/latha/Library/Python/3.8/lib/python/site-packages (from nbconvert->notebook>=4.4.1->widgetsnbextension~=3.5.0->ipywidgets>=7.6.0->ipycytoscape) (0.5.0)\n",
      "Requirement already satisfied: cffi>=1.0.0 in /Users/latha/Library/Python/3.8/lib/python/site-packages (from argon2-cffi->notebook>=4.4.1->widgetsnbextension~=3.5.0->ipywidgets>=7.6.0->ipycytoscape) (1.14.6)\n",
      "Requirement already satisfied: webencodings in /Users/latha/Library/Python/3.8/lib/python/site-packages (from bleach->nbconvert->notebook>=4.4.1->widgetsnbextension~=3.5.0->ipywidgets>=7.6.0->ipycytoscape) (0.5.1)\n",
      "Requirement already satisfied: packaging in /Users/latha/Library/Python/3.8/lib/python/site-packages (from bleach->nbconvert->notebook>=4.4.1->widgetsnbextension~=3.5.0->ipywidgets>=7.6.0->ipycytoscape) (21.0)\n",
      "Requirement already satisfied: async-generator in /Users/latha/Library/Python/3.8/lib/python/site-packages (from nbclient<0.6.0,>=0.5.0->nbconvert->notebook>=4.4.1->widgetsnbextension~=3.5.0->ipywidgets>=7.6.0->ipycytoscape) (1.10)\n",
      "Requirement already satisfied: nest-asyncio in /Users/latha/Library/Python/3.8/lib/python/site-packages (from nbclient<0.6.0,>=0.5.0->nbconvert->notebook>=4.4.1->widgetsnbextension~=3.5.0->ipywidgets>=7.6.0->ipycytoscape) (1.5.1)\n",
      "Requirement already satisfied: pycparser in /Users/latha/Library/Python/3.8/lib/python/site-packages (from cffi>=1.0.0->argon2-cffi->notebook>=4.4.1->widgetsnbextension~=3.5.0->ipywidgets>=7.6.0->ipycytoscape) (2.20)\n",
      "Requirement already satisfied: pyparsing>=2.0.2 in /Users/latha/Library/Python/3.8/lib/python/site-packages (from packaging->bleach->nbconvert->notebook>=4.4.1->widgetsnbextension~=3.5.0->ipywidgets>=7.6.0->ipycytoscape) (2.4.7)\n",
      "\u001b[33mWARNING: You are using pip version 19.2.3, however version 21.2.1 is available.\n",
      "You should consider upgrading via the 'pip install --upgrade pip' command.\u001b[0m\n",
      "Collecting git+git://github.com/bd2kccd/py-causal\n",
      "  Cloning git://github.com/bd2kccd/py-causal to /private/var/folders/zz/1dx49_5177v40p4nlqr0vrlr0000gn/T/pip-req-build-zyc7rg5h\n",
      "  Running command git clone -q git://github.com/bd2kccd/py-causal /private/var/folders/zz/1dx49_5177v40p4nlqr0vrlr0000gn/T/pip-req-build-zyc7rg5h\n",
      "Requirement already satisfied (use --upgrade to upgrade): pycausal==1.2.1 from git+git://github.com/bd2kccd/py-causal in /Users/latha/Library/Python/3.8/lib/python/site-packages\n",
      "Requirement already satisfied: javabridge>=1.0.11 in /Users/latha/Library/Python/3.8/lib/python/site-packages (from pycausal==1.2.1) (1.0.19.post4+gbebed64)\n",
      "Requirement already satisfied: numpy in /Users/latha/Library/Python/3.8/lib/python/site-packages (from pycausal==1.2.1) (1.21.1)\n",
      "Requirement already satisfied: pandas in /Users/latha/Library/Python/3.8/lib/python/site-packages (from pycausal==1.2.1) (1.3.1)\n",
      "Requirement already satisfied: pyparsing in /Users/latha/Library/Python/3.8/lib/python/site-packages (from pycausal==1.2.1) (2.4.7)\n",
      "Requirement already satisfied: pytz>=2017.3 in /Users/latha/Library/Python/3.8/lib/python/site-packages (from pandas->pycausal==1.2.1) (2021.1)\n",
      "Requirement already satisfied: python-dateutil>=2.7.3 in /Users/latha/Library/Python/3.8/lib/python/site-packages (from pandas->pycausal==1.2.1) (2.8.2)\n",
      "Requirement already satisfied: six>=1.5 in /Applications/Xcode.app/Contents/Developer/Library/Frameworks/Python3.framework/Versions/3.8/lib/python3.8/site-packages (from python-dateutil>=2.7.3->pandas->pycausal==1.2.1) (1.15.0)\n",
      "Building wheels for collected packages: pycausal\n",
      "  Building wheel for pycausal (setup.py) ... \u001b[?25ldone\n",
      "\u001b[?25h  Created wheel for pycausal: filename=pycausal-1.2.1-cp38-none-any.whl size=19162573 sha256=20e045376b759bfbd014555b898c1c2d0cd85a95d277b26a5c8c8a4f1f07c7a9\n",
      "  Stored in directory: /private/var/folders/zz/1dx49_5177v40p4nlqr0vrlr0000gn/T/pip-ephem-wheel-cache-amndk04_/wheels/30/8c/91/75c20642ca96aab7bed943728241eff33228770d7a8c97c4c2\n",
      "Successfully built pycausal\n",
      "\u001b[33mWARNING: You are using pip version 19.2.3, however version 21.2.1 is available.\n",
      "You should consider upgrading via the 'pip install --upgrade pip' command.\u001b[0m\n"
     ]
    }
   ],
   "source": [
    "# install JAVA Jdk\n",
    "# to check java jdk insall run the following\n",
    "# javac -version \n",
    "# Set JAVA_HOME environment in ~/.zshrc or ~/.bashrc \n",
    "# export JAVA_HOME=$(/usr/libexec/java_home)\n",
    "\n",
    "\n",
    "!pip3 install numpy\n",
    "!pip3 install pandas\n",
    "!pip3 install pydot\n",
    "#!pip3 install git+https://github.com/LeeKamentsky/python-javabridge.git#egg=javabridge\n",
    "!python3 -m pip install git+https://github.com/LeeKamentsky/python-javabridge.git#egg=javabridge\n",
    "!pip3 install ipycytoscape\n",
    "!pip3 install git+git://github.com/bd2kccd/py-causal\n",
    "\n"
   ]
  },
  {
   "cell_type": "code",
   "execution_count": 2,
   "id": "c1d07f2c-5ccf-41fb-bb02-07ccd91910f9",
   "metadata": {},
   "outputs": [],
   "source": [
    "\n"
   ]
  },
  {
   "cell_type": "code",
   "execution_count": 2,
   "id": "03ae6274-3e25-4f7a-89d0-568144738571",
   "metadata": {},
   "outputs": [
    {
     "name": "stderr",
     "output_type": "stream",
     "text": [
      "Traceback (most recent call last):\n",
      "  File \"/Users/latha/Library/Python/3.8/lib/python/site-packages/javabridge/jutil.py\", line 282, in start_thread\n",
      "    vm.create_mac(args, RQCLS, library_path, libjli_path)\n",
      "  File \"_javabridge.pyx\", line 709, in _javabridge.JB_VM.create_mac\n",
      "RuntimeError: Failed to create Java VM. Return code = -1\n",
      "Failed to create Java VM\n"
     ]
    },
    {
     "ename": "RuntimeError",
     "evalue": "Failed to start Java VM",
     "output_type": "error",
     "traceback": [
      "\u001b[0;31m---------------------------------------------------------------------------\u001b[0m",
      "\u001b[0;31mRuntimeError\u001b[0m                              Traceback (most recent call last)",
      "\u001b[0;32m/var/folders/zz/1dx49_5177v40p4nlqr0vrlr0000gn/T/ipykernel_15667/1062742804.py\u001b[0m in \u001b[0;36m<module>\u001b[0;34m\u001b[0m\n\u001b[1;32m     31\u001b[0m \u001b[0;32mfrom\u001b[0m \u001b[0mpycausal\u001b[0m\u001b[0;34m.\u001b[0m\u001b[0mpycausal\u001b[0m \u001b[0;32mimport\u001b[0m \u001b[0mpycausal\u001b[0m \u001b[0;32mas\u001b[0m \u001b[0mpc\u001b[0m\u001b[0;34m\u001b[0m\u001b[0;34m\u001b[0m\u001b[0m\n\u001b[1;32m     32\u001b[0m \u001b[0mpc\u001b[0m \u001b[0;34m=\u001b[0m \u001b[0mpc\u001b[0m\u001b[0;34m(\u001b[0m\u001b[0;34m)\u001b[0m\u001b[0;34m\u001b[0m\u001b[0;34m\u001b[0m\u001b[0m\n\u001b[0;32m---> 33\u001b[0;31m \u001b[0mpc\u001b[0m\u001b[0;34m.\u001b[0m\u001b[0mstart_vm\u001b[0m\u001b[0;34m(\u001b[0m\u001b[0;34m)\u001b[0m\u001b[0;34m\u001b[0m\u001b[0;34m\u001b[0m\u001b[0m\n\u001b[0m\u001b[1;32m     34\u001b[0m \u001b[0;34m\u001b[0m\u001b[0m\n\u001b[1;32m     35\u001b[0m \u001b[0;32mfrom\u001b[0m \u001b[0mpycausal\u001b[0m \u001b[0;32mimport\u001b[0m \u001b[0msearch\u001b[0m \u001b[0;32mas\u001b[0m \u001b[0ms\u001b[0m\u001b[0;34m\u001b[0m\u001b[0;34m\u001b[0m\u001b[0m\n",
      "\u001b[0;32m~/Library/Python/3.8/lib/python/site-packages/pycausal/pycausal.py\u001b[0m in \u001b[0;36mstart_vm\u001b[0;34m(self, java_max_heap_size)\u001b[0m\n\u001b[1;32m     46\u001b[0m             \u001b[0mjavabridge\u001b[0m\u001b[0;34m.\u001b[0m\u001b[0mJARS\u001b[0m\u001b[0;34m.\u001b[0m\u001b[0mappend\u001b[0m\u001b[0;34m(\u001b[0m\u001b[0mstr\u001b[0m\u001b[0;34m(\u001b[0m\u001b[0ml\u001b[0m\u001b[0;34m)\u001b[0m\u001b[0;34m)\u001b[0m\u001b[0;34m\u001b[0m\u001b[0;34m\u001b[0m\u001b[0m\n\u001b[1;32m     47\u001b[0m \u001b[0;34m\u001b[0m\u001b[0m\n\u001b[0;32m---> 48\u001b[0;31m         \u001b[0mjavabridge\u001b[0m\u001b[0;34m.\u001b[0m\u001b[0mstart_vm\u001b[0m\u001b[0;34m(\u001b[0m\u001b[0mrun_headless\u001b[0m\u001b[0;34m=\u001b[0m\u001b[0;32mTrue\u001b[0m\u001b[0;34m,\u001b[0m \u001b[0mmax_heap_size\u001b[0m \u001b[0;34m=\u001b[0m \u001b[0mjava_max_heap_size\u001b[0m\u001b[0;34m)\u001b[0m\u001b[0;34m\u001b[0m\u001b[0;34m\u001b[0m\u001b[0m\n\u001b[0m\u001b[1;32m     49\u001b[0m         \u001b[0mjavabridge\u001b[0m\u001b[0;34m.\u001b[0m\u001b[0mattach\u001b[0m\u001b[0;34m(\u001b[0m\u001b[0;34m)\u001b[0m\u001b[0;34m\u001b[0m\u001b[0;34m\u001b[0m\u001b[0m\n\u001b[1;32m     50\u001b[0m \u001b[0;34m\u001b[0m\u001b[0m\n",
      "\u001b[0;32m~/Library/Python/3.8/lib/python/site-packages/javabridge/jutil.py\u001b[0m in \u001b[0;36mstart_vm\u001b[0;34m(args, class_path, max_heap_size, run_headless)\u001b[0m\n\u001b[1;32m    317\u001b[0m     \u001b[0mstart_event\u001b[0m\u001b[0;34m.\u001b[0m\u001b[0mwait\u001b[0m\u001b[0;34m(\u001b[0m\u001b[0;34m)\u001b[0m\u001b[0;34m\u001b[0m\u001b[0;34m\u001b[0m\u001b[0m\n\u001b[1;32m    318\u001b[0m     \u001b[0;32mif\u001b[0m \u001b[0;32mnot\u001b[0m \u001b[0m_javabridge\u001b[0m\u001b[0;34m.\u001b[0m\u001b[0mget_vm\u001b[0m\u001b[0;34m(\u001b[0m\u001b[0;34m)\u001b[0m\u001b[0;34m.\u001b[0m\u001b[0mis_active\u001b[0m\u001b[0;34m(\u001b[0m\u001b[0;34m)\u001b[0m\u001b[0;34m:\u001b[0m\u001b[0;34m\u001b[0m\u001b[0;34m\u001b[0m\u001b[0m\n\u001b[0;32m--> 319\u001b[0;31m         \u001b[0;32mraise\u001b[0m \u001b[0mRuntimeError\u001b[0m\u001b[0;34m(\u001b[0m\u001b[0;34m\"Failed to start Java VM\"\u001b[0m\u001b[0;34m)\u001b[0m\u001b[0;34m\u001b[0m\u001b[0;34m\u001b[0m\u001b[0m\n\u001b[0m\u001b[1;32m    320\u001b[0m     \u001b[0mattach\u001b[0m\u001b[0;34m(\u001b[0m\u001b[0;34m)\u001b[0m\u001b[0;34m\u001b[0m\u001b[0;34m\u001b[0m\u001b[0m\n\u001b[1;32m    321\u001b[0m \u001b[0;34m\u001b[0m\u001b[0m\n",
      "\u001b[0;31mRuntimeError\u001b[0m: Failed to start Java VM"
     ]
    }
   ],
   "source": [
    "import os\n",
    "import pandas as pd\n",
    "import pydot\n",
    "import numpy as np\n",
    "from pycausal.pycausal import pycausal as pc\n",
    "from IPython.display import SVG \n",
    "import ipycytoscape\n",
    "from ipycytoscape import cytoscape\n",
    "from ipycytoscape import CytoscapeWidget\n",
    "import ipywidgets as widgets\n",
    "\n",
    "columns = ['mpg', 'cylinders', 'displacement', 'horsepower', 'weight', 'acceleration', 'model_year', 'origin', 'car_name']\n",
    "# Names of columns (eventually, names of nodes)\n",
    "df = pd.read_table('auto-mpg.data', delim_whitespace=True, names=columns)\n",
    "df.head()\n",
    "\n",
    "new_df = df.drop(['car_name'], axis=1)\n",
    "# Drops the column called \"car\"\n",
    "new_df.head()\n",
    "# Prints the first five values of data frame, zero-indexed\n",
    "\n",
    "new_df.loc[new_df.horsepower == '?'] = '0.0'\n",
    "# Change all of the \"?\" in the horsepower column to \"0.0\"\n",
    "new_df.describe()\n",
    "new_df.horsepower = pd.to_numeric(new_df.horsepower)\n",
    "# Change all string values in horsepower column to floats\n",
    "\n",
    "df = new_df\n",
    "#!/usr/local/bin/python\n",
    "\n",
    "from pycausal.pycausal import pycausal as pc\n",
    "pc = pc()\n",
    "pc.start_vm()\n",
    "\n",
    "from pycausal import search as s\n",
    "tetrad = s.tetradrunner()\n",
    "tetrad.run(algoId = 'fges', dfs = df, scoreId = 'sem-bic', dataType = 'continuous',\n",
    "           maxDegree = -1, faithfulnessAssumed = True, verbose = False)\n",
    "\n",
    "graph = tetrad.getTetradGraph()\n",
    "\n",
    "\n",
    "\n",
    "#print(graph)\n",
    "#print('Graph BIC: {}'.format(graph.getAttribute('BIC')))\n",
    "\n",
    "def getGraphNodeByName(g, n):\n",
    "    nodes = g.getNodes()\n",
    "    nit = nodes.iterator()\n",
    "    while nit.hasNext():\n",
    "        node = nit.next()\n",
    "        if node.getName() == n:\n",
    "            return node\n",
    "    return None\n",
    "\n",
    "def buildWidget(g, w):\n",
    "    w.graph.clear()\n",
    "    nodes = g.getNodes()\n",
    "    nit = nodes.iterator()\n",
    "    while nit.hasNext():\n",
    "        node = nit.next()\n",
    "        w.graph.add_node(cytoscape.Node(data={\"id\":node.getName(), \"label\":node.getName()}))\n",
    "        #print('Node {} BIC: {}'.format(node.getName(),node.getAttribute('BIC')))\n",
    "    \n",
    "    edges = g.getEdges()\n",
    "    eit = edges.iterator()\n",
    "\n",
    "    while eit.hasNext():\n",
    "        edge= eit.next()\n",
    "        n1 = edge.getNode1().getName()\n",
    "        n2 = edge.getNode2().getName()\n",
    "        cEdge = cytoscape.Edge(data={\"id\":f'{n1}_{n2}',\"source\": n1, \"target\": n2})\n",
    "        w.graph.add_edge(cEdge, True, True)\n",
    "    #w.set_layout(name='dagre', nodeSpacing=10, edgeLengthVal=10)\n",
    "    w.set_style([\n",
    "            {\n",
    "            'selector': 'node',\n",
    "            'style': {\n",
    "                'font-family': 'arial',\n",
    "                'font-size': '10px',\n",
    "                'label': 'data(label)',\n",
    "                'background-color': 'blue'\n",
    "                }\n",
    "            },\n",
    "            {\n",
    "                'selector': 'edge',\n",
    "                'style': {\n",
    "                    'width': 4,\n",
    "                    'line-color': '#9dbaea',\n",
    "                    'target-arrow-shape': 'triangle',\n",
    "                    'target-arrow-color': '#9dbaea',\n",
    "                    'curve-style': 'bezier'\n",
    "                }\n",
    "            },\n",
    "                {\n",
    "          \"selector\": \"edge.selected\",\n",
    "          \"css\": {\n",
    "            \"line-color\": \"red\"\n",
    "          },\n",
    "        },\n",
    "        \n",
    "        {\n",
    "            \"selector\": \"node.selected\",\n",
    "            \"css\": {\n",
    "                \"background-color\": \"red\"\n",
    "            },\n",
    "        }\n",
    "    ])\n"
   ]
  },
  {
   "cell_type": "code",
   "execution_count": null,
   "id": "65f9429e-64c9-4238-b1c8-01ca26fc7b1c",
   "metadata": {},
   "outputs": [],
   "source": []
  },
  {
   "cell_type": "code",
   "execution_count": null,
   "id": "0b768849-bce1-43c1-aad7-6cd7422b2999",
   "metadata": {},
   "outputs": [],
   "source": [
    "selectedNodes = []\n",
    "selectedEdges = []\n",
    "\n",
    "def getCytoGraphEdge(id):\n",
    "    for ne in widget1.graph.edges:\n",
    "        if ne.data[\"id\"] == id:\n",
    "            return ne\n",
    "    return None\n",
    "\n",
    "def getCytoGraphNode(id):\n",
    "    for nd in widget1.graph.nodes:\n",
    "        if nd.data[\"id\"] == id:\n",
    "            return nd\n",
    "    return None\n",
    "\n",
    "def toggleCytoGraphEdgeClass(id, className, add):\n",
    "    cEdge = getCytoGraphEdge(id)\n",
    "    toggleCytoGraphClass(cEdge, className, add)\n",
    "\n",
    "def toggleCytoGraphNodeClass(id, className, add):\n",
    "    cNode = getCytoGraphNode(id)\n",
    "    toggleCytoGraphClass(cNode, className, add)\n",
    "    \n",
    "def toggleCytoGraphClass(el, className, add):\n",
    "    classes = set(el.classes.split(\" \"))\n",
    "    if add:\n",
    "        classes.add(className)\n",
    "    else:\n",
    "        if className in classes:\n",
    "            classes.remove(className)\n",
    "        \n",
    "    el.classes = \" \".join(classes)\n",
    "\n",
    "graphbtn = widgets.Button(description=\"Generate original graph\", disabled=False)\n",
    "deletebtn = widgets.Button(description=\"Delete Edge\", disabled=True)\n",
    "changebtn = widgets.Button(description=\"Change Direction\", disabled=True)\n",
    "addbtn = widgets.Button(description=\"Add Edge\", disabled=True)\n",
    "widget1 = ipycytoscape.CytoscapeWidget()\n",
    "buildWidget(graph, widget1)"
   ]
  },
  {
   "cell_type": "code",
   "execution_count": null,
   "id": "996e827d-d956-4ef8-b928-6c7b85396714",
   "metadata": {},
   "outputs": [],
   "source": [
    "from ipywidgets import Output\n",
    "from IPython.display import display\n",
    "from pprint import pformat\n",
    "\n",
    "out = Output()\n",
    "\n",
    "def edge_selected(e):\n",
    "    \n",
    "    if len(selectedEdges) == 0:\n",
    "        selectedEdges.append(e)\n",
    "        with out:\n",
    "            print(f'selected: {pformat(e[\"data\"])}')\n",
    "    else:\n",
    "        toggleCytoGraphEdgeClass(selectedEdges[0][\"data\"][\"id\"], \"selected\", False)\n",
    "        if selectedEdges[0][\"data\"][\"id\"] == e[\"data\"][\"id\"]:\n",
    "            selectedEdges.clear()\n",
    "        else:\n",
    "            selectedEdges[0] = e\n",
    "        \n",
    "        \n",
    "    empty = len(selectedEdges) == 0\n",
    "    if not empty:\n",
    "        toggleCytoGraphEdgeClass(selectedEdges[0][\"data\"][\"id\"], \"selected\", True)\n",
    "    \n",
    "    deletebtn.disabled = empty\n",
    "    changebtn.disabled = empty\n",
    "    addbtn.disabled = empty\n",
    "    \n",
    "def node_selected(n):\n",
    "    for nd in selectedNodes:\n",
    "        if nd[\"data\"][\"id\"] == n[\"data\"][\"id\"]:\n",
    "            toggleCytoGraphNodeClass(n[\"data\"][\"id\"], \"selected\", False)\n",
    "            selectedNodes.remove(nd)\n",
    "            return\n",
    "    if len(selectedNodes) < 2:\n",
    "        selectedNodes.append(n)\n",
    "        with out:\n",
    "            print(f'selected: {pformat(n[\"data\"])}')\n",
    "        toggleCytoGraphNodeClass(n[\"data\"][\"id\"], \"selected\", True)\n",
    "    if len(selectedNodes) == 2:\n",
    "        addbtn.disabled=False\n",
    "    \n",
    "def clearSelectedNodes():\n",
    "    for nd in selectedNodes:\n",
    "        toggleCytoGraphNodeClass(nd[\"data\"][\"id\"], \"selected\", False)\n",
    "    selectedNodes.clear()\n",
    "    addbtn.disabled = True\n",
    "    \n",
    "def clearSelectedEdges():\n",
    "    selectedEdges.clear()\n",
    "    deletebtn.disabled = True\n",
    "    changebtn.disabled = True\n",
    "\n",
    "def addEdge(b):\n",
    "    if len(selectedNodes) != 2:\n",
    "        return\n",
    "    n1id = selectedNodes[0][\"data\"][\"id\"]\n",
    "    n2id = selectedNodes[1][\"data\"][\"id\"]\n",
    "     \n",
    "    n1 = getGraphNodeByName(graph, n1id)\n",
    "    n2 = getGraphNodeByName(graph, n2id)\n",
    "    \n",
    "    exists = graph.existsDirectedPathFromTo(n1, n2) or graph.existsDirectedPathFromTo(n2, n1)\n",
    "    with out:\n",
    "        print(exists)\n",
    "    \n",
    "    if not exists:\n",
    "        graph.addDirectedEdge(n1, n2)\n",
    "        with out:\n",
    "            print(f'adding edge between: {n1id}, {n2id}')\n",
    "        buildWidget(graph, widget1)\n",
    "    else:\n",
    "        with out:\n",
    "            print(f'edge already exists between {n1id}, {n2id}')\n",
    "    clearSelectedNodes()\n",
    "    \n",
    "        \n",
    "    \n",
    "def log_clicks(node):\n",
    "    with out:\n",
    "        print(f'clicked: {pformat(node)}')\n",
    "    if length(newEdge) == 2:\n",
    "        deletebtn[disabled] = True\n",
    "    else:\n",
    "        newEdge.append(node[\"id\"])\n",
    "\n",
    "    \n",
    "def removeEdge(b):\n",
    "    if len(selectedEdges) == 1:\n",
    "        e = selectedEdges[0]\n",
    "        with out:\n",
    "            print(f'removing: {pformat(e[\"data\"])}')\n",
    "        graph.removeEdge(getGraphNodeByName(graph, e[\"data\"][\"source\"]), getGraphNodeByName(graph, e[\"data\"][\"target\"]))\n",
    "        clearSelectedEdges()\n",
    "        buildWidget(graph, widget1)\n",
    "        \n",
    "\n",
    "        \n",
    "def changeDirection(b):\n",
    "    if len(selectedEdges) == 1:\n",
    "        e = selectedEdges[0]\n",
    "        source = e[\"data\"][\"source\"]\n",
    "        target = e[\"data\"][\"target\"]\n",
    "        n1 = getGraphNodeByName(graph, source)\n",
    "        n2 = getGraphNodeByName(graph, target)\n",
    "        graph.removeEdge(n1, n2)\n",
    "        graph.addDirectedEdge(n2, n1)\n",
    "        clearSelectedEdges()\n",
    "        buildWidget(graph, widget1)\n",
    "        ne = getCytoGraphEdge(f'{target}_{source}')\n",
    "        with out:\n",
    "            print(f'edge with new direction: {pformat(ne.data)}')\n",
    "\n",
    "\"\"\"\n",
    "def log_mouseovers(node):\n",
    "    with out:\n",
    "        print(f'mouseover: {pformat(node)}')\n",
    "\"\"\"\n",
    "\n",
    "\n",
    "dot_str = pc.tetradGraphToDot(graph)\n",
    "graphs = pydot.graph_from_dot_data(dot_str)\n",
    "graphs[0].write_svg('fges-continuous.svg')\n",
    "\n",
    "\n",
    "# 'mpg'(0), 'cylinders'(1), 'displacement'(2), 'horsepower'(3), 'weight'(4), 'acceleration'(5), 'model_year'(6), 'origin'(7)\n",
    "def generateOrigGraph(g):\n",
    "    graph.removeEdge(getGraphNodeByName(graph, \"model_year\"), getGraphNodeByName(graph, \"horsepower\"))\n",
    "    graph.removeEdge(getGraphNodeByName(graph, \"model_year\"), getGraphNodeByName(graph, \"acceleration\"))\n",
    "    graph.removeEdge(getGraphNodeByName(graph, \"model_year\"), getGraphNodeByName(graph, \"cylinders\"))\n",
    "    graph.removeEdge(getGraphNodeByName(graph, \"model_year\"), getGraphNodeByName(graph, \"weight\"))\n",
    "    \n",
    "    graph.removeEdge(getGraphNodeByName(graph, \"mpg\"), getGraphNodeByName(graph, \"origin\"))\n",
    "    graph.removeEdge(getGraphNodeByName(graph, \"origin\"), getGraphNodeByName(graph, \"mpg\"))\n",
    "\n",
    "    \n",
    "    graph.removeEdge(getGraphNodeByName(graph, \"origin\"), getGraphNodeByName(graph, \"cylinders\"))\n",
    "    graph.addDirectedEdge(getGraphNodeByName(graph, \"origin\"), getGraphNodeByName(graph, \"mpg\")) \n",
    "    \n",
    "    graph.removeEdge(getGraphNodeByName(graph, \"acceleration\"), getGraphNodeByName(graph, \"displacement\"))\n",
    "    \n",
    "    graph.removeEdge(getGraphNodeByName(graph, \"weight\"), getGraphNodeByName(graph, \"horsepower\"))\n",
    "    graph.addDirectedEdge(getGraphNodeByName(graph, \"horsepower\"), getGraphNodeByName(graph, \"weight\"))\n",
    "    graph.removeEdge(getGraphNodeByName(graph, \"origin\"), getGraphNodeByName(graph, \"horsepower\"))\n",
    "    \n",
    "    buildWidget(graph, widget1)\n",
    "    \n",
    "widget1.on('edge', 'click', edge_selected)\n",
    "widget1.on('node', 'click', node_selected)\n",
    "#widget1.on('node', 'mouseover', log_mouseovers)\n",
    "deletebtn.on_click(callback=removeEdge)\n",
    "changebtn.on_click(callback=changeDirection)\n",
    "addbtn.on_click(callback=addEdge)\n",
    "graphbtn.on_click(callback=generateOrigGraph)\n",
    "# pc.stop_vm()"
   ]
  },
  {
   "cell_type": "code",
   "execution_count": null,
   "id": "34c71928-2bca-4ac9-87d0-498bbe47af45",
   "metadata": {},
   "outputs": [],
   "source": [
    "\n",
    "display(widget1)\n",
    "display(deletebtn)\n",
    "display(changebtn)\n",
    "display(addbtn)\n",
    "display(graphbtn)\n",
    "display(out)\n",
    "\n",
    "\"\"\"\n",
    "Original graph:\n",
    "\n",
    "www3.cs.stonybrook.edu/~mueller/papers/causalAnalyst.pdf\n",
    "\"\"\"\n",
    "\n"
   ]
  },
  {
   "cell_type": "code",
   "execution_count": null,
   "id": "584cc82d-2d21-4bb1-be2d-73512c7e8ac2",
   "metadata": {},
   "outputs": [],
   "source": []
  }
 ],
 "metadata": {
  "kernelspec": {
   "display_name": "Python 3 (ipykernel)",
   "language": "python",
   "name": "python3"
  },
  "language_info": {
   "codemirror_mode": {
    "name": "ipython",
    "version": 3
   },
   "file_extension": ".py",
   "mimetype": "text/x-python",
   "name": "python",
   "nbconvert_exporter": "python",
   "pygments_lexer": "ipython3",
   "version": "3.8.2"
  },
  "widgets": {
   "application/vnd.jupyter.widget-state+json": {
    "state": {
     "01669797ce2f4474abcfc36168f86ebc": {
      "model_module": "@jupyter-widgets/base",
      "model_module_version": "1.2.0",
      "model_name": "LayoutModel",
      "state": {}
     },
     "175df7b82a1546b5a439bc38e79faf0f": {
      "model_module": "jupyter-cytoscape",
      "model_module_version": "^1.2.2",
      "model_name": "CytoscapeModel",
      "state": {
       "_interaction_handlers": {},
       "_model_module_version": "^1.2.2",
       "_view_module_version": "^1.2.2",
       "auto_ungrabify": false,
       "autolock": false,
       "cytoscape_layout": {
        "name": "cola"
       },
       "cytoscape_style": [
        {
         "selector": "node",
         "style": {
          "background-color": "blue",
          "font-family": "arial",
          "font-size": "10px",
          "label": "data(label)"
         }
        },
        {
         "selector": "edge",
         "style": {
          "curve-style": "bezier",
          "line-color": "#9dbaea",
          "target-arrow-color": "#9dbaea",
          "target-arrow-shape": "triangle",
          "width": 4
         }
        },
        {
         "css": {
          "line-color": "red"
         },
         "selector": "edge.selected"
        },
        {
         "css": {
          "background-color": "red"
         },
         "selector": "node.selected"
        }
       ],
       "desktop_tap_threshold": 4,
       "graph": "IPY_MODEL_773c3d04fc1a4a25bcc9dcef3cb629cf",
       "headless": false,
       "hide_edges_on_viewport": false,
       "layout": "IPY_MODEL_df5c1ff2699a48d1a1e082041d5da031",
       "max_zoom": 1e+50,
       "min_zoom": 1e-50,
       "motion_blur": false,
       "motion_blur_opacity": 0.2,
       "panning_enabled": true,
       "pixel_ratio": "auto",
       "rendered_position": {
        "renderedPosition": {
         "x": 100,
         "y": 100
        }
       },
       "selection_type": "single",
       "style_enabled": true,
       "texture_on_viewport": false,
       "tooltip_source": "tooltip",
       "touch_tap_threshold": 8,
       "user_panning_enabled": true,
       "user_zooming_enabled": true,
       "wheel_sensitivity": 1,
       "zoom": 2,
       "zooming_enabled": true
      }
     },
     "1b7eb3474be34f36a6758b505de6c98d": {
      "model_module": "jupyter-cytoscape",
      "model_module_version": "^1.2.2",
      "model_name": "EdgeModel",
      "state": {
       "_model_module_version": "^1.2.2",
       "_view_module_version": "^1.2.2",
       "classes": " directed  multiple_edges ",
       "data": {
        "id": "displacement_cylinders",
        "source": "displacement",
        "target": "cylinders"
       },
       "selectable": false
      }
     },
     "2cd6bd296aba42368d726f4997818f49": {
      "model_module": "jupyter-cytoscape",
      "model_module_version": "^1.2.2",
      "model_name": "EdgeModel",
      "state": {
       "_model_module_version": "^1.2.2",
       "_view_module_version": "^1.2.2",
       "classes": " directed  multiple_edges ",
       "data": {
        "id": "model_year_cylinders",
        "source": "model_year",
        "target": "cylinders"
       },
       "selectable": false
      }
     },
     "2deb6213ec3b47109493ba7746bee0cd": {
      "model_module": "jupyter-cytoscape",
      "model_module_version": "^1.2.2",
      "model_name": "NodeModel",
      "state": {
       "_model_module_version": "^1.2.2",
       "_view_module_version": "^1.2.2",
       "data": {
        "id": "mpg",
        "label": "mpg"
       },
       "grabbable": true,
       "grabbed": false,
       "selectable": false
      }
     },
     "324e101d3b6d4df980e5808fe8b63995": {
      "model_module": "jupyter-cytoscape",
      "model_module_version": "^1.2.2",
      "model_name": "NodeModel",
      "state": {
       "_model_module_version": "^1.2.2",
       "_view_module_version": "^1.2.2",
       "data": {
        "id": "cylinders",
        "label": "cylinders"
       },
       "grabbable": true,
       "grabbed": false,
       "selectable": false
      }
     },
     "3c2e163986334a1f88b4629904aa38c8": {
      "model_module": "@jupyter-widgets/controls",
      "model_module_version": "1.5.0",
      "model_name": "ButtonStyleModel",
      "state": {}
     },
     "4bb221b72b384fa585374c9c970cc8f8": {
      "model_module": "jupyter-cytoscape",
      "model_module_version": "^1.2.2",
      "model_name": "NodeModel",
      "state": {
       "_model_module_version": "^1.2.2",
       "_view_module_version": "^1.2.2",
       "data": {
        "id": "model_year",
        "label": "model_year"
       },
       "grabbable": true,
       "grabbed": false,
       "selectable": false
      }
     },
     "4bcb852b26814cf0819238a0f571afe3": {
      "model_module": "@jupyter-widgets/output",
      "model_module_version": "1.0.0",
      "model_name": "OutputModel",
      "state": {
       "layout": "IPY_MODEL_d30b44027139433caef55b58a84d904a"
      }
     },
     "57a3ea50667549cc84301cb976dd976e": {
      "model_module": "@jupyter-widgets/controls",
      "model_module_version": "1.5.0",
      "model_name": "ButtonStyleModel",
      "state": {}
     },
     "57d6f356f54d42e0a506d3c1857a7615": {
      "model_module": "jupyter-cytoscape",
      "model_module_version": "^1.2.2",
      "model_name": "EdgeModel",
      "state": {
       "_model_module_version": "^1.2.2",
       "_view_module_version": "^1.2.2",
       "classes": " directed  multiple_edges ",
       "data": {
        "id": "weight_mpg",
        "source": "weight",
        "target": "mpg"
       },
       "selectable": false
      }
     },
     "58c3429d6fbd404f924c8b2bc7e17968": {
      "model_module": "@jupyter-widgets/controls",
      "model_module_version": "1.5.0",
      "model_name": "ButtonModel",
      "state": {
       "description": "Change Direction",
       "disabled": true,
       "layout": "IPY_MODEL_a96cbafaaae1430698d05478eb7eb375",
       "style": "IPY_MODEL_8e688ad0d26d40eda312d210d1694f91"
      }
     },
     "5e6b11aa77164e619cfd6efbb3cdea0f": {
      "model_module": "jupyter-cytoscape",
      "model_module_version": "^1.2.2",
      "model_name": "EdgeModel",
      "state": {
       "_model_module_version": "^1.2.2",
       "_view_module_version": "^1.2.2",
       "classes": " directed  multiple_edges ",
       "data": {
        "id": "displacement_origin",
        "source": "displacement",
        "target": "origin"
       },
       "selectable": false
      }
     },
     "602f3721f8e94e189a693e5f826747aa": {
      "model_module": "jupyter-cytoscape",
      "model_module_version": "^1.2.2",
      "model_name": "EdgeModel",
      "state": {
       "_model_module_version": "^1.2.2",
       "_view_module_version": "^1.2.2",
       "classes": " directed  multiple_edges ",
       "data": {
        "id": "model_year_mpg",
        "source": "model_year",
        "target": "mpg"
       },
       "selectable": false
      }
     },
     "6166878789dd447a80b9bd7eaf5f5339": {
      "model_module": "@jupyter-widgets/controls",
      "model_module_version": "1.5.0",
      "model_name": "ButtonModel",
      "state": {
       "description": "Delete Edge",
       "disabled": true,
       "layout": "IPY_MODEL_e142fd3d982145f78e41babeb609f598",
       "style": "IPY_MODEL_e88a7dd8dd4c4d2da409811ef65fbc36"
      }
     },
     "664b9cbacfab47a7aa5feec7afd4d858": {
      "model_module": "jupyter-cytoscape",
      "model_module_version": "^1.2.2",
      "model_name": "EdgeModel",
      "state": {
       "_model_module_version": "^1.2.2",
       "_view_module_version": "^1.2.2",
       "classes": " directed  multiple_edges ",
       "data": {
        "id": "weight_horsepower",
        "source": "weight",
        "target": "horsepower"
       },
       "selectable": false
      }
     },
     "68b3d5f121904e16b5272086b53da5ee": {
      "model_module": "@jupyter-widgets/base",
      "model_module_version": "1.2.0",
      "model_name": "LayoutModel",
      "state": {}
     },
     "6f074610131d45a795ff51d30729f590": {
      "model_module": "jupyter-cytoscape",
      "model_module_version": "^1.2.2",
      "model_name": "EdgeModel",
      "state": {
       "_model_module_version": "^1.2.2",
       "_view_module_version": "^1.2.2",
       "classes": " directed  multiple_edges ",
       "data": {
        "id": "displacement_horsepower",
        "source": "displacement",
        "target": "horsepower"
       },
       "selectable": false
      }
     },
     "74ee58a77ec7427b96288e9105b63425": {
      "model_module": "jupyter-cytoscape",
      "model_module_version": "^1.2.2",
      "model_name": "NodeModel",
      "state": {
       "_model_module_version": "^1.2.2",
       "_view_module_version": "^1.2.2",
       "data": {
        "id": "origin",
        "label": "origin"
       },
       "grabbable": true,
       "grabbed": false,
       "selectable": false
      }
     },
     "77215a86bc8d416d905fd2c105d37f54": {
      "model_module": "jupyter-cytoscape",
      "model_module_version": "^1.2.2",
      "model_name": "GraphModel",
      "state": {
       "_adj": {},
       "_model_module_version": "^1.2.2",
       "_view_module": "jupyter-cytoscape",
       "_view_module_version": "^1.2.2"
      }
     },
     "773c3d04fc1a4a25bcc9dcef3cb629cf": {
      "model_module": "jupyter-cytoscape",
      "model_module_version": "^1.2.2",
      "model_name": "GraphModel",
      "state": {
       "_adj": {
        "acceleration": {},
        "cylinders": {
         "origin": 1
        },
        "displacement": {
         "acceleration": 1,
         "cylinders": 1,
         "horsepower": 1,
         "origin": 1,
         "weight": 1
        },
        "horsepower": {
         "acceleration": 1
        },
        "model_year": {
         "acceleration": 1,
         "cylinders": 1,
         "mpg": 1,
         "weight": 1
        },
        "mpg": {
         "origin": 1
        },
        "origin": {
         "horsepower": 1
        },
        "weight": {
         "acceleration": 1,
         "horsepower": 1,
         "mpg": 1
        }
       },
       "_model_module_version": "^1.2.2",
       "_view_module": "jupyter-cytoscape",
       "_view_module_version": "^1.2.2",
       "edges": [
        "IPY_MODEL_96e4e4d47e7c4915bcf89b7adfb7740e",
        "IPY_MODEL_6f074610131d45a795ff51d30729f590",
        "IPY_MODEL_eaef50a620d7450da6973a522e41fdb2",
        "IPY_MODEL_9370aea2b8204cfba7189a9214e547bc",
        "IPY_MODEL_1b7eb3474be34f36a6758b505de6c98d",
        "IPY_MODEL_d66cd06335bc49049181ae27a6104274",
        "IPY_MODEL_602f3721f8e94e189a693e5f826747aa",
        "IPY_MODEL_57d6f356f54d42e0a506d3c1857a7615",
        "IPY_MODEL_f009cd0dea40403b96c3ff2bc42a26e7",
        "IPY_MODEL_80faeb068797469583a1e257d9ec2bde",
        "IPY_MODEL_5e6b11aa77164e619cfd6efbb3cdea0f",
        "IPY_MODEL_af72d08b14be4021b397c9b05ba5d6f3",
        "IPY_MODEL_2cd6bd296aba42368d726f4997818f49",
        "IPY_MODEL_f230566e9c314b45a670d1b31e48159c",
        "IPY_MODEL_664b9cbacfab47a7aa5feec7afd4d858",
        "IPY_MODEL_b9735b9f4cc44d7c8a07845a0b94b581"
       ],
       "nodes": [
        "IPY_MODEL_2deb6213ec3b47109493ba7746bee0cd",
        "IPY_MODEL_324e101d3b6d4df980e5808fe8b63995",
        "IPY_MODEL_fc2d0c61da2c4ec7b0eb3e4cb0776ccf",
        "IPY_MODEL_b6f3d19b11c3475693352b0ebe2cf155",
        "IPY_MODEL_e3e404ca36ba40fbb660323e1c04eff5",
        "IPY_MODEL_963ba0c7bb8e414a8203e58b1acfb480",
        "IPY_MODEL_4bb221b72b384fa585374c9c970cc8f8",
        "IPY_MODEL_74ee58a77ec7427b96288e9105b63425"
       ]
      }
     },
     "80faeb068797469583a1e257d9ec2bde": {
      "model_module": "jupyter-cytoscape",
      "model_module_version": "^1.2.2",
      "model_name": "EdgeModel",
      "state": {
       "_model_module_version": "^1.2.2",
       "_view_module_version": "^1.2.2",
       "classes": " directed  multiple_edges ",
       "data": {
        "id": "cylinders_origin",
        "source": "cylinders",
        "target": "origin"
       },
       "selectable": false
      }
     },
     "8e688ad0d26d40eda312d210d1694f91": {
      "model_module": "@jupyter-widgets/controls",
      "model_module_version": "1.5.0",
      "model_name": "ButtonStyleModel",
      "state": {}
     },
     "9370aea2b8204cfba7189a9214e547bc": {
      "model_module": "jupyter-cytoscape",
      "model_module_version": "^1.2.2",
      "model_name": "EdgeModel",
      "state": {
       "_model_module_version": "^1.2.2",
       "_view_module_version": "^1.2.2",
       "classes": " directed  multiple_edges ",
       "data": {
        "id": "displacement_acceleration",
        "source": "displacement",
        "target": "acceleration"
       },
       "selectable": false
      }
     },
     "963ba0c7bb8e414a8203e58b1acfb480": {
      "model_module": "jupyter-cytoscape",
      "model_module_version": "^1.2.2",
      "model_name": "NodeModel",
      "state": {
       "_model_module_version": "^1.2.2",
       "_view_module_version": "^1.2.2",
       "data": {
        "id": "acceleration",
        "label": "acceleration"
       },
       "grabbable": true,
       "grabbed": false,
       "selectable": false
      }
     },
     "96e4e4d47e7c4915bcf89b7adfb7740e": {
      "model_module": "jupyter-cytoscape",
      "model_module_version": "^1.2.2",
      "model_name": "EdgeModel",
      "state": {
       "_model_module_version": "^1.2.2",
       "_view_module_version": "^1.2.2",
       "classes": " directed  multiple_edges ",
       "data": {
        "id": "origin_horsepower",
        "source": "origin",
        "target": "horsepower"
       },
       "selectable": false
      }
     },
     "a96cbafaaae1430698d05478eb7eb375": {
      "model_module": "@jupyter-widgets/base",
      "model_module_version": "1.2.0",
      "model_name": "LayoutModel",
      "state": {}
     },
     "ac65c05aa8574730a8428bc0b0ca9da3": {
      "model_module": "@jupyter-widgets/controls",
      "model_module_version": "1.5.0",
      "model_name": "ButtonModel",
      "state": {
       "description": "Add Edge",
       "disabled": true,
       "layout": "IPY_MODEL_01669797ce2f4474abcfc36168f86ebc",
       "style": "IPY_MODEL_3c2e163986334a1f88b4629904aa38c8"
      }
     },
     "af72d08b14be4021b397c9b05ba5d6f3": {
      "model_module": "jupyter-cytoscape",
      "model_module_version": "^1.2.2",
      "model_name": "EdgeModel",
      "state": {
       "_model_module_version": "^1.2.2",
       "_view_module_version": "^1.2.2",
       "classes": " directed  multiple_edges ",
       "data": {
        "id": "horsepower_acceleration",
        "source": "horsepower",
        "target": "acceleration"
       },
       "selectable": false
      }
     },
     "b6f3d19b11c3475693352b0ebe2cf155": {
      "model_module": "jupyter-cytoscape",
      "model_module_version": "^1.2.2",
      "model_name": "NodeModel",
      "state": {
       "_model_module_version": "^1.2.2",
       "_view_module_version": "^1.2.2",
       "data": {
        "id": "horsepower",
        "label": "horsepower"
       },
       "grabbable": true,
       "grabbed": false,
       "selectable": false
      }
     },
     "b9735b9f4cc44d7c8a07845a0b94b581": {
      "model_module": "jupyter-cytoscape",
      "model_module_version": "^1.2.2",
      "model_name": "EdgeModel",
      "state": {
       "_model_module_version": "^1.2.2",
       "_view_module_version": "^1.2.2",
       "classes": " directed  multiple_edges ",
       "data": {
        "id": "model_year_acceleration",
        "source": "model_year",
        "target": "acceleration"
       },
       "selectable": false
      }
     },
     "d30b44027139433caef55b58a84d904a": {
      "model_module": "@jupyter-widgets/base",
      "model_module_version": "1.2.0",
      "model_name": "LayoutModel",
      "state": {}
     },
     "d66cd06335bc49049181ae27a6104274": {
      "model_module": "jupyter-cytoscape",
      "model_module_version": "^1.2.2",
      "model_name": "EdgeModel",
      "state": {
       "_model_module_version": "^1.2.2",
       "_view_module_version": "^1.2.2",
       "classes": " directed  multiple_edges ",
       "data": {
        "id": "mpg_origin",
        "source": "mpg",
        "target": "origin"
       },
       "selectable": false
      }
     },
     "df5c1ff2699a48d1a1e082041d5da031": {
      "model_module": "@jupyter-widgets/base",
      "model_module_version": "1.2.0",
      "model_name": "LayoutModel",
      "state": {}
     },
     "df733c3f26a24812b22739f071f3493d": {
      "model_module": "@jupyter-widgets/controls",
      "model_module_version": "1.5.0",
      "model_name": "ButtonModel",
      "state": {
       "description": "Generate original graph",
       "layout": "IPY_MODEL_68b3d5f121904e16b5272086b53da5ee",
       "style": "IPY_MODEL_57a3ea50667549cc84301cb976dd976e"
      }
     },
     "e142fd3d982145f78e41babeb609f598": {
      "model_module": "@jupyter-widgets/base",
      "model_module_version": "1.2.0",
      "model_name": "LayoutModel",
      "state": {}
     },
     "e3e404ca36ba40fbb660323e1c04eff5": {
      "model_module": "jupyter-cytoscape",
      "model_module_version": "^1.2.2",
      "model_name": "NodeModel",
      "state": {
       "_model_module_version": "^1.2.2",
       "_view_module_version": "^1.2.2",
       "data": {
        "id": "weight",
        "label": "weight"
       },
       "grabbable": true,
       "grabbed": false,
       "selectable": false
      }
     },
     "e88a7dd8dd4c4d2da409811ef65fbc36": {
      "model_module": "@jupyter-widgets/controls",
      "model_module_version": "1.5.0",
      "model_name": "ButtonStyleModel",
      "state": {}
     },
     "eaef50a620d7450da6973a522e41fdb2": {
      "model_module": "jupyter-cytoscape",
      "model_module_version": "^1.2.2",
      "model_name": "EdgeModel",
      "state": {
       "_model_module_version": "^1.2.2",
       "_view_module_version": "^1.2.2",
       "classes": " directed  multiple_edges ",
       "data": {
        "id": "model_year_weight",
        "source": "model_year",
        "target": "weight"
       },
       "selectable": false
      }
     },
     "f009cd0dea40403b96c3ff2bc42a26e7": {
      "model_module": "jupyter-cytoscape",
      "model_module_version": "^1.2.2",
      "model_name": "EdgeModel",
      "state": {
       "_model_module_version": "^1.2.2",
       "_view_module_version": "^1.2.2",
       "classes": " directed  multiple_edges ",
       "data": {
        "id": "displacement_weight",
        "source": "displacement",
        "target": "weight"
       },
       "selectable": false
      }
     },
     "f230566e9c314b45a670d1b31e48159c": {
      "model_module": "jupyter-cytoscape",
      "model_module_version": "^1.2.2",
      "model_name": "EdgeModel",
      "state": {
       "_model_module_version": "^1.2.2",
       "_view_module_version": "^1.2.2",
       "classes": " directed  multiple_edges ",
       "data": {
        "id": "weight_acceleration",
        "source": "weight",
        "target": "acceleration"
       },
       "selectable": false
      }
     },
     "fc2d0c61da2c4ec7b0eb3e4cb0776ccf": {
      "model_module": "jupyter-cytoscape",
      "model_module_version": "^1.2.2",
      "model_name": "NodeModel",
      "state": {
       "_model_module_version": "^1.2.2",
       "_view_module_version": "^1.2.2",
       "data": {
        "id": "displacement",
        "label": "displacement"
       },
       "grabbable": true,
       "grabbed": false,
       "selectable": false
      }
     }
    },
    "version_major": 2,
    "version_minor": 0
   }
  }
 },
 "nbformat": 4,
 "nbformat_minor": 5
}
