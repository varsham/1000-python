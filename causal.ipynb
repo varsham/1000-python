{
 "cells": [
  {
   "cell_type": "code",
   "execution_count": 183,
   "id": "6bc66f60-f3e4-4766-b2b6-e44ab9fe740f",
   "metadata": {},
   "outputs": [
    {
     "data": {
      "text/plain": [
       "'\\n!pip3 install numpy\\n!pip3 install pandas\\n!pip3 install pydot\\n!pip3 install git+https://github.com/LeeKamentsky/python-javabridge.git#egg=javabridge\\n!pip3 install ipycytoscape\\n!pip3 install git+git://github.com/bd2kccd/py-causal\\n'"
      ]
     },
     "execution_count": 183,
     "metadata": {},
     "output_type": "execute_result"
    }
   ],
   "source": [
    "\"\"\"\n",
    "!pip3 install numpy\n",
    "!pip3 install pandas\n",
    "!pip3 install pydot\n",
    "!pip3 install git+https://github.com/LeeKamentsky/python-javabridge.git#egg=javabridge\n",
    "!pip3 install ipycytoscape\n",
    "!pip3 install git+git://github.com/bd2kccd/py-causal\n",
    "\"\"\""
   ]
  },
  {
   "cell_type": "code",
   "execution_count": 184,
   "id": "c1d07f2c-5ccf-41fb-bb02-07ccd91910f9",
   "metadata": {},
   "outputs": [],
   "source": [
    "import os\n",
    "import pandas as pd\n",
    "import pydot\n",
    "import numpy as np\n",
    "from pycausal.pycausal import pycausal as pc\n",
    "from IPython.display import SVG \n",
    "import ipycytoscape\n",
    "from ipycytoscape import cytoscape\n",
    "from ipycytoscape import CytoscapeWidget\n",
    "import ipywidgets as widgets\n"
   ]
  },
  {
   "cell_type": "code",
   "execution_count": 185,
   "id": "03ae6274-3e25-4f7a-89d0-568144738571",
   "metadata": {},
   "outputs": [
    {
     "name": "stdout",
     "output_type": "stream",
     "text": [
      "/Users/varsha/Sync/Varsha/causal/auto-mpg.data\n",
      "Elapsed initializeForwardEdgesFromEmptyGraph = 0 ms\n",
      "** FORWARD EQUIVALENCE SEARCH\n",
      "1. INSERT displacement --> cylinders [] 874.7463981673739 \n",
      "1. INSERT displacement --> cylinders [] 874.7463981673739  degree = 1 indegree = 1\n",
      "2. INSERT weight --> displacement [] 754.4059569436577 \n",
      "2. INSERT weight --> displacement [] 754.4059569436577  degree = 2 indegree = 1\n",
      "3. INSERT horsepower --> displacement [] 653.9306534108664 \n",
      "3. INSERT horsepower --> displacement [] 653.9306534108664  degree = 3 indegree = 1\n",
      "4. INSERT displacement --> mpg [] 218.94778871997664 \n",
      "4. INSERT displacement --> mpg [] 218.94778871997664  degree = 4 indegree = 0\n",
      "5. INSERT model_year --> mpg [displacement] 337.94988514713486 \n",
      "5. INSERT model_year --> mpg [displacement] 337.94988514713486  degree = 4 indegree = 0\n",
      "--- Directing displacement --> mpg\n",
      "6. INSERT model_year --> acceleration [] 182.92894496622716 \n",
      "6. INSERT model_year --> acceleration [] 182.92894496622716  degree = 4 indegree = 0\n",
      "7. INSERT horsepower --> acceleration [model_year] 153.79931850393018 \n",
      "7. INSERT horsepower --> acceleration [model_year] 153.79931850393018  degree = 4 indegree = 0\n",
      "--- Directing model_year --> acceleration\n",
      "8. INSERT weight --> mpg [] 115.86572540032239 \n",
      "8. INSERT weight --> mpg [] 115.86572540032239  degree = 4 indegree = 2\n",
      "9. INSERT model_year --> weight [displacement] 111.5747790908872 \n",
      "9. INSERT model_year --> weight [displacement] 111.5747790908872  degree = 4 indegree = 0\n",
      "--- Directing displacement --> weight\n",
      "10. INSERT model_year --> cylinders [displacement] 88.56811357620535 \n",
      "10. INSERT model_year --> cylinders [displacement] 88.56811357620535  degree = 4 indegree = 0\n",
      "--- Directing displacement --> cylinders\n",
      "11. INSERT origin --> horsepower [displacement] 46.29423908691024 \n",
      "11. INSERT origin --> horsepower [displacement] 46.29423908691024  degree = 4 indegree = 0\n",
      "--- Directing displacement --> horsepower\n",
      "12. INSERT mpg --> origin [] 167.12268064317902 \n",
      "12. INSERT mpg --> origin [] 167.12268064317902  degree = 4 indegree = 1\n",
      "13. INSERT mpg --> acceleration [] 30.00000240987731 \n",
      "13. INSERT mpg --> acceleration [] 30.00000240987731  degree = 5 indegree = 1\n",
      "14. INSERT weight --> horsepower [] 14.724658401845318 \n",
      "14. INSERT weight --> horsepower [] 14.724658401845318  degree = 5 indegree = 1\n",
      "15. INSERT displacement --> origin [] 13.177351887707687 \n",
      "15. INSERT displacement --> origin [] 13.177351887707687  degree = 5 indegree = 2\n",
      "16. INSERT cylinders --> origin [] 3.2007328437507 \n",
      "16. INSERT cylinders --> origin [] 3.2007328437507  degree = 5 indegree = 3\n",
      "** BACKWARD EQUIVALENCE SEARCH\n",
      "15. DELETE displacement-->mpg H = [] NaYX = [weight] diff = [weight] (7.9087788011750035) \n",
      "** FORWARD EQUIVALENCE SEARCH\n",
      "16. INSERT weight --> acceleration [] 45.90120800483112 \n",
      "16. INSERT weight --> acceleration [] 45.90120800483112  degree = 5 indegree = 4\n",
      "17. INSERT displacement --> acceleration [] 9.210358079422463 \n",
      "17. INSERT displacement --> acceleration [] 9.210358079422463  degree = 5 indegree = 5\n",
      "** BACKWARD EQUIVALENCE SEARCH\n",
      "16. DELETE mpg-->acceleration H = [] NaYX = [] diff = [] (7.688951162415492) \n"
     ]
    }
   ],
   "source": [
    "data_dir = os.path.join(os.getcwd(), 'auto-mpg.data')\n",
    "print(data_dir)\n",
    "columns = ['mpg', 'cylinders', 'displacement', 'horsepower', 'weight', 'acceleration', 'model_year', 'origin', 'car_name']\n",
    "# Names of columns (eventually, names of nodes)\n",
    "df = pd.read_table(data_dir, delim_whitespace=True, names=columns)\n",
    "df.head()\n",
    "\n",
    "new_df = df.drop(['car_name'], axis=1)\n",
    "# Drops the column called \"car\"\n",
    "new_df.head()\n",
    "# Prints the first five values of data frame, zero-indexed\n",
    "\n",
    "new_df.loc[new_df.horsepower == '?'] = '0.0'\n",
    "# Change all of the \"?\" in the horsepower column to \"0.0\"\n",
    "new_df.describe()\n",
    "new_df.horsepower = pd.to_numeric(new_df.horsepower)\n",
    "# Change all string values in horsepower column to floats\n",
    "\n",
    "df = new_df\n",
    "#!/usr/local/bin/python\n",
    "\n",
    "from pycausal.pycausal import pycausal as pc\n",
    "pc = pc()\n",
    "pc.start_vm()\n",
    "\n",
    "from pycausal import search as s\n",
    "tetrad = s.tetradrunner()\n",
    "tetrad.run(algoId = 'fges', dfs = df, scoreId = 'sem-bic', dataType = 'continuous',\n",
    "           maxDegree = -1, faithfulnessAssumed = True, verbose = True)\n",
    "\n",
    "graph = tetrad.getTetradGraph()\n",
    "\n",
    "\n",
    "\n",
    "#print(graph)\n",
    "#print('Graph BIC: {}'.format(graph.getAttribute('BIC')))\n",
    "\n",
    "def getGraphNodeByName(g, n):\n",
    "    nodes = g.getNodes()\n",
    "    nit = nodes.iterator()\n",
    "    while nit.hasNext():\n",
    "        node = nit.next()\n",
    "        if node.getName() == n:\n",
    "            return node\n",
    "    return None\n",
    "\n",
    "def buildWidget(g, w):\n",
    "    w.graph.clear()\n",
    "    nodes = g.getNodes()\n",
    "    nit = nodes.iterator()\n",
    "    while nit.hasNext():\n",
    "        node = nit.next()\n",
    "        w.graph.add_node(cytoscape.Node(data={\"id\":node.getName(), \"label\":node.getName()}))\n",
    "        #print('Node {} BIC: {}'.format(node.getName(),node.getAttribute('BIC')))\n",
    "    \n",
    "    edges = g.getEdges()\n",
    "    eit = edges.iterator()\n",
    "\n",
    "    while eit.hasNext():\n",
    "        edge= eit.next()\n",
    "        n1 = edge.getNode1().getName()\n",
    "        n2 = edge.getNode2().getName()\n",
    "        cEdge = cytoscape.Edge(data={\"id\":f'{n1}_{n2}',\"source\": n1, \"target\": n2})\n",
    "        w.graph.add_edge(cEdge, True, True)\n",
    "    #w.set_layout(name='dagre', nodeSpacing=10, edgeLengthVal=10)\n",
    "    w.set_style([\n",
    "            {\n",
    "            'selector': 'node',\n",
    "            'style': {\n",
    "                'font-family': 'arial',\n",
    "                'font-size': '10px',\n",
    "                'label': 'data(label)',\n",
    "                'background-color': 'blue'\n",
    "                }\n",
    "            },\n",
    "            {\n",
    "                'selector': 'edge',\n",
    "                'style': {\n",
    "                    'width': 4,\n",
    "                    'line-color': '#9dbaea',\n",
    "                    'target-arrow-shape': 'triangle',\n",
    "                    'target-arrow-color': '#9dbaea',\n",
    "                    'curve-style': 'bezier'\n",
    "                }\n",
    "            },\n",
    "                {\n",
    "          \"selector\": \"edge.selected\",\n",
    "          \"css\": {\n",
    "            \"line-color\": \"red\"\n",
    "          },\n",
    "        },\n",
    "        \n",
    "        {\n",
    "            \"selector\": \"node.selected\",\n",
    "            \"css\": {\n",
    "                \"background-color\": \"red\"\n",
    "            },\n",
    "        }\n",
    "    ])\n"
   ]
  },
  {
   "cell_type": "code",
   "execution_count": null,
   "id": "65f9429e-64c9-4238-b1c8-01ca26fc7b1c",
   "metadata": {},
   "outputs": [],
   "source": []
  },
  {
   "cell_type": "code",
   "execution_count": 186,
   "id": "0b768849-bce1-43c1-aad7-6cd7422b2999",
   "metadata": {},
   "outputs": [],
   "source": [
    "selectedNodes = []\n",
    "selectedEdges = []\n",
    "\n",
    "def getCytoGraphEdge(id):\n",
    "    for ne in widget1.graph.edges:\n",
    "        if ne.data[\"id\"] == id:\n",
    "            return ne\n",
    "    return None\n",
    "\n",
    "def getCytoGraphNode(id):\n",
    "    for nd in widget1.graph.nodes:\n",
    "        if nd.data[\"id\"] == id:\n",
    "            return nd\n",
    "    return None\n",
    "\n",
    "def toggleCytoGraphEdgeClass(id, className, add):\n",
    "    cEdge = getCytoGraphEdge(id)\n",
    "    toggleCytoGraphClass(cEdge, className, add)\n",
    "\n",
    "def toggleCytoGraphNodeClass(id, className, add):\n",
    "    cNode = getCytoGraphNode(id)\n",
    "    toggleCytoGraphClass(cNode, className, add)\n",
    "    \n",
    "def toggleCytoGraphClass(el, className, add):\n",
    "    classes = set(el.classes.split(\" \"))\n",
    "    if add:\n",
    "        classes.add(className)\n",
    "    else:\n",
    "        if className in classes:\n",
    "            classes.remove(className)\n",
    "        \n",
    "    el.classes = \" \".join(classes)\n",
    "\n",
    "graphbtn = widgets.Button(description=\"Generate original graph\", disabled=False)\n",
    "deletebtn = widgets.Button(description=\"Delete Edge\", disabled=True)\n",
    "changebtn = widgets.Button(description=\"Change Direction\", disabled=True)\n",
    "addbtn = widgets.Button(description=\"Add Edge\", disabled=True)\n",
    "widget1 = ipycytoscape.CytoscapeWidget()\n",
    "buildWidget(graph, widget1)"
   ]
  },
  {
   "cell_type": "code",
   "execution_count": 187,
   "id": "996e827d-d956-4ef8-b928-6c7b85396714",
   "metadata": {},
   "outputs": [],
   "source": [
    "from ipywidgets import Output\n",
    "from IPython.display import display\n",
    "from pprint import pformat\n",
    "\n",
    "out = Output()\n",
    "\n",
    "def edge_selected(e):\n",
    "    \n",
    "    if len(selectedEdges) == 0:\n",
    "        selectedEdges.append(e)\n",
    "        with out:\n",
    "            print(f'selected: {pformat(e[\"data\"])}')\n",
    "    else:\n",
    "        toggleCytoGraphEdgeClass(selectedEdges[0][\"data\"][\"id\"], \"selected\", False)\n",
    "        if selectedEdges[0][\"data\"][\"id\"] == e[\"data\"][\"id\"]:\n",
    "            selectedEdges.clear()\n",
    "        else:\n",
    "            selectedEdges[0] = e\n",
    "        \n",
    "        \n",
    "    empty = len(selectedEdges) == 0\n",
    "    if not empty:\n",
    "        toggleCytoGraphEdgeClass(selectedEdges[0][\"data\"][\"id\"], \"selected\", True)\n",
    "    \n",
    "    deletebtn.disabled = empty\n",
    "    changebtn.disabled = empty\n",
    "    addbtn.disabled = empty\n",
    "    \n",
    "def node_selected(n):\n",
    "    for nd in selectedNodes:\n",
    "        if nd[\"data\"][\"id\"] == n[\"data\"][\"id\"]:\n",
    "            toggleCytoGraphNodeClass(n[\"data\"][\"id\"], \"selected\", False)\n",
    "            selectedNodes.remove(nd)\n",
    "            return\n",
    "    if len(selectedNodes) < 2:\n",
    "        selectedNodes.append(n)\n",
    "        with out:\n",
    "            print(f'selected: {pformat(n[\"data\"])}')\n",
    "        toggleCytoGraphNodeClass(n[\"data\"][\"id\"], \"selected\", True)\n",
    "    if len(selectedNodes) == 2:\n",
    "        addbtn.disabled=False\n",
    "    \n",
    "def clearSelectedNodes():\n",
    "    for nd in selectedNodes:\n",
    "        toggleCytoGraphNodeClass(nd[\"data\"][\"id\"], \"selected\", False)\n",
    "    selectedNodes.clear()\n",
    "    addbtn.disabled = True\n",
    "    \n",
    "def clearSelectedEdges():\n",
    "    selectedEdges.clear()\n",
    "    deletebtn.disabled = True\n",
    "    changebtn.disabled = True\n",
    "\n",
    "def addEdge(b):\n",
    "    if len(selectedNodes) != 2:\n",
    "        return\n",
    "    n1id = selectedNodes[0][\"data\"][\"id\"]\n",
    "    n2id = selectedNodes[1][\"data\"][\"id\"]\n",
    "     \n",
    "    n1 = getGraphNodeByName(graph, n1id)\n",
    "    n2 = getGraphNodeByName(graph, n2id)\n",
    "    \n",
    "    exists = graph.existsDirectedPathFromTo(n1, n2) or graph.existsDirectedPathFromTo(n2, n1)\n",
    "    with out:\n",
    "        print(exists)\n",
    "    \n",
    "    if not exists:\n",
    "        graph.addDirectedEdge(n1, n2)\n",
    "        with out:\n",
    "            print(f'adding edge between: {n1id}, {n2id}')\n",
    "        buildWidget(graph, widget1)\n",
    "    else:\n",
    "        with out:\n",
    "            print(f'edge already exists between {n1id}, {n2id}')\n",
    "    clearSelectedNodes()\n",
    "    \n",
    "        \n",
    "    \n",
    "def log_clicks(node):\n",
    "    with out:\n",
    "        print(f'clicked: {pformat(node)}')\n",
    "    if length(newEdge) == 2:\n",
    "        deletebtn[disabled] = True\n",
    "    else:\n",
    "        newEdge.append(node[\"id\"])\n",
    "\n",
    "    \n",
    "def removeEdge(b):\n",
    "    if len(selectedEdges) == 1:\n",
    "        e = selectedEdges[0]\n",
    "        with out:\n",
    "            print(f'removing: {pformat(e[\"data\"])}')\n",
    "        graph.removeEdge(getGraphNodeByName(graph, e[\"data\"][\"source\"]), getGraphNodeByName(graph, e[\"data\"][\"target\"]))\n",
    "        clearSelectedEdges()\n",
    "        buildWidget(graph, widget1)\n",
    "        \n",
    "\n",
    "        \n",
    "def changeDirection(b):\n",
    "    if len(selectedEdges) == 1:\n",
    "        e = selectedEdges[0]\n",
    "        source = e[\"data\"][\"source\"]\n",
    "        target = e[\"data\"][\"target\"]\n",
    "        n1 = getGraphNodeByName(graph, source)\n",
    "        n2 = getGraphNodeByName(graph, target)\n",
    "        graph.removeEdge(n1, n2)\n",
    "        graph.addDirectedEdge(n2, n1)\n",
    "        clearSelectedEdges()\n",
    "        buildWidget(graph, widget1)\n",
    "        ne = getCytoGraphEdge(f'{target}_{source}')\n",
    "        with out:\n",
    "            print(f'edge with new direction: {pformat(ne.data)}')\n",
    "\n",
    "\"\"\"\n",
    "def log_mouseovers(node):\n",
    "    with out:\n",
    "        print(f'mouseover: {pformat(node)}')\n",
    "\"\"\"\n",
    "\n",
    "\"\"\"\n",
    "\n",
    "dot_str = pc.tetradGraphToDot(graph)\n",
    "graphs = pydot.graph_from_dot_data(dot_str)\n",
    "graphs[0].write_svg('fges-continuous.svg')\n",
    "\"\"\"\n",
    "\n",
    "# 'mpg'(0), 'cylinders'(1), 'displacement'(2), 'horsepower'(3), 'weight'(4), 'acceleration'(5), 'model_year'(6), 'origin'(7)\n",
    "def generateOrigGraph(g):\n",
    "    graph.removeEdge(getGraphNodeByName(graph, \"model_year\"), getGraphNodeByName(graph, \"horsepower\"))\n",
    "    graph.removeEdge(getGraphNodeByName(graph, \"model_year\"), getGraphNodeByName(graph, \"acceleration\"))\n",
    "    graph.removeEdge(getGraphNodeByName(graph, \"model_year\"), getGraphNodeByName(graph, \"cylinders\"))\n",
    "    graph.removeEdge(getGraphNodeByName(graph, \"model_year\"), getGraphNodeByName(graph, \"weight\"))\n",
    "    \n",
    "    graph.removeEdge(getGraphNodeByName(graph, \"mpg\"), getGraphNodeByName(graph, \"origin\"))\n",
    "    graph.removeEdge(getGraphNodeByName(graph, \"origin\"), getGraphNodeByName(graph, \"mpg\"))\n",
    "\n",
    "    \n",
    "    graph.removeEdge(getGraphNodeByName(graph, \"origin\"), getGraphNodeByName(graph, \"cylinders\"))\n",
    "    graph.addDirectedEdge(getGraphNodeByName(graph, \"origin\"), getGraphNodeByName(graph, \"mpg\")) \n",
    "    \n",
    "    graph.removeEdge(getGraphNodeByName(graph, \"acceleration\"), getGraphNodeByName(graph, \"displacement\"))\n",
    "    \n",
    "    graph.removeEdge(getGraphNodeByName(graph, \"weight\"), getGraphNodeByName(graph, \"horsepower\"))\n",
    "    graph.addDirectedEdge(getGraphNodeByName(graph, \"horsepower\"), getGraphNodeByName(graph, \"weight\"))\n",
    "    graph.removeEdge(getGraphNodeByName(graph, \"origin\"), getGraphNodeByName(graph, \"horsepower\"))\n",
    "    \n",
    "    buildWidget(graph, widget1)\n",
    "    \n",
    "widget1.on('edge', 'click', edge_selected)\n",
    "widget1.on('node', 'click', node_selected)\n",
    "#widget1.on('node', 'mouseover', log_mouseovers)\n",
    "deletebtn.on_click(callback=removeEdge)\n",
    "changebtn.on_click(callback=changeDirection)\n",
    "addbtn.on_click(callback=addEdge)\n",
    "graphbtn.on_click(callback=generateOrigGraph)\n",
    "# pc.stop_vm()"
   ]
  },
  {
   "cell_type": "code",
   "execution_count": 188,
   "id": "34c71928-2bca-4ac9-87d0-498bbe47af45",
   "metadata": {},
   "outputs": [
    {
     "data": {
      "application/vnd.jupyter.widget-view+json": {
       "model_id": "7162d929b9834d4fa56625f4f545d10e",
       "version_major": 2,
       "version_minor": 0
      },
      "text/plain": [
       "CytoscapeWidget(cytoscape_layout={'name': 'cola'}, cytoscape_style=[{'selector': 'node', 'style': {'font-famil…"
      ]
     },
     "metadata": {},
     "output_type": "display_data"
    },
    {
     "data": {
      "application/vnd.jupyter.widget-view+json": {
       "model_id": "d543858b22cc4a4c92588e4c9878be1d",
       "version_major": 2,
       "version_minor": 0
      },
      "text/plain": [
       "Button(description='Delete Edge', disabled=True, style=ButtonStyle())"
      ]
     },
     "metadata": {},
     "output_type": "display_data"
    },
    {
     "data": {
      "application/vnd.jupyter.widget-view+json": {
       "model_id": "17103e3253d54ef3bb0cd8fe52470bef",
       "version_major": 2,
       "version_minor": 0
      },
      "text/plain": [
       "Button(description='Change Direction', disabled=True, style=ButtonStyle())"
      ]
     },
     "metadata": {},
     "output_type": "display_data"
    },
    {
     "data": {
      "application/vnd.jupyter.widget-view+json": {
       "model_id": "6371277bd99a4946a502bc26f122cb33",
       "version_major": 2,
       "version_minor": 0
      },
      "text/plain": [
       "Button(description='Add Edge', disabled=True, style=ButtonStyle())"
      ]
     },
     "metadata": {},
     "output_type": "display_data"
    },
    {
     "data": {
      "application/vnd.jupyter.widget-view+json": {
       "model_id": "2e8652a7841a4c1f8a7f4265a172e8d8",
       "version_major": 2,
       "version_minor": 0
      },
      "text/plain": [
       "Button(description='Generate original graph', style=ButtonStyle())"
      ]
     },
     "metadata": {},
     "output_type": "display_data"
    },
    {
     "data": {
      "application/vnd.jupyter.widget-view+json": {
       "model_id": "3969d33d5e84468a98e64172ef542df1",
       "version_major": 2,
       "version_minor": 0
      },
      "text/plain": [
       "Output()"
      ]
     },
     "metadata": {},
     "output_type": "display_data"
    },
    {
     "data": {
      "text/plain": [
       "'\\nOriginal graph:\\n\\nwww3.cs.stonybrook.edu/~mueller/papers/causalAnalyst.pdf\\n'"
      ]
     },
     "execution_count": 188,
     "metadata": {},
     "output_type": "execute_result"
    }
   ],
   "source": [
    "\n",
    "display(widget1)\n",
    "display(deletebtn)\n",
    "display(changebtn)\n",
    "display(addbtn)\n",
    "display(graphbtn)\n",
    "display(out)\n",
    "\n",
    "\"\"\"\n",
    "Original graph:\n",
    "\n",
    "www3.cs.stonybrook.edu/~mueller/papers/causalAnalyst.pdf\n",
    "\"\"\"\n",
    "\n"
   ]
  },
  {
   "cell_type": "code",
   "execution_count": null,
   "id": "584cc82d-2d21-4bb1-be2d-73512c7e8ac2",
   "metadata": {},
   "outputs": [],
   "source": []
  }
 ],
 "metadata": {
  "kernelspec": {
   "display_name": "Python 3 (ipykernel)",
   "language": "python",
   "name": "python3"
  },
  "language_info": {
   "codemirror_mode": {
    "name": "ipython",
    "version": 3
   },
   "file_extension": ".py",
   "mimetype": "text/x-python",
   "name": "python",
   "nbconvert_exporter": "python",
   "pygments_lexer": "ipython3",
   "version": "3.9.6"
  },
  "widgets": {
   "application/vnd.jupyter.widget-state+json": {
    "state": {
     "0061fd18c6ec439297b70266ab4aa7b1": {
      "model_module": "jupyter-cytoscape",
      "model_module_version": "^1.2.2",
      "model_name": "NodeModel",
      "state": {
       "_model_module_version": "^1.2.2",
       "_view_module_version": "^1.2.2",
       "data": {
        "id": "horsepower",
        "label": "horsepower"
       },
       "grabbable": true,
       "grabbed": false,
       "position": {
        "x": 579.0624766836064,
        "y": 213.55132768320664
       },
       "selectable": false
      }
     },
     "0077d09c7fa54a508f15ef01129d3dca": {
      "model_module": "@jupyter-widgets/base",
      "model_module_version": "1.2.0",
      "model_name": "LayoutModel",
      "state": {}
     },
     "00aaec85a7c349a3835732a9e44a53fb": {
      "model_module": "jupyter-cytoscape",
      "model_module_version": "^1.2.2",
      "model_name": "EdgeModel",
      "state": {
       "_model_module_version": "^1.2.2",
       "_view_module_version": "^1.2.2",
       "classes": " directed  multiple_edges ",
       "data": {
        "id": "displacement_weight",
        "source": "displacement",
        "target": "weight"
       },
       "selectable": false
      }
     },
     "00d25f0f392d4c4bb289bf2dfab91929": {
      "model_module": "@jupyter-widgets/base",
      "model_module_version": "1.2.0",
      "model_name": "LayoutModel",
      "state": {}
     },
     "00e56f4916f54c94b1f3f923349b6dc7": {
      "model_module": "jupyter-cytoscape",
      "model_module_version": "^1.2.2",
      "model_name": "NodeModel",
      "state": {
       "_model_module_version": "^1.2.2",
       "_view_module_version": "^1.2.2",
       "data": {
        "id": "horsepower",
        "label": "horsepower"
       },
       "grabbable": true,
       "grabbed": false,
       "position": {
        "x": 1057.1051152147072,
        "y": 108.13394745454634
       },
       "removed": true,
       "selectable": false
      }
     },
     "00f1c9d67bf1428cb2628bc1ca37b99c": {
      "model_module": "jupyter-cytoscape",
      "model_module_version": "^1.2.2",
      "model_name": "NodeModel",
      "state": {
       "_model_module_version": "^1.2.2",
       "_view_module_version": "^1.2.2",
       "data": {
        "id": "cylinders",
        "label": "cylinders"
       },
       "grabbable": true,
       "grabbed": false,
       "position": {
        "x": 431.94658248135147,
        "y": 205.00607973359763
       },
       "removed": true,
       "selectable": false
      }
     },
     "013a92fc26c647e5965de0f9f943ffe7": {
      "model_module": "jupyter-cytoscape",
      "model_module_version": "^1.2.2",
      "model_name": "NodeModel",
      "state": {
       "_model_module_version": "^1.2.2",
       "_view_module_version": "^1.2.2",
       "data": {
        "id": "acceleration",
        "label": "acceleration"
       },
       "grabbable": true,
       "grabbed": false,
       "position": {
        "x": 1156.1201864309708,
        "y": 95.24513256002568
       },
       "removed": true,
       "selectable": false
      }
     },
     "01619ed4e0084d17a9baf6c9b64bd9fb": {
      "model_module": "jupyter-cytoscape",
      "model_module_version": "^1.2.2",
      "model_name": "CytoscapeModel",
      "state": {
       "_interaction_handlers": {
        "edge": [
         "click"
        ],
        "node": [
         "click"
        ]
       },
       "_model_module_version": "^1.2.2",
       "_view_module_version": "^1.2.2",
       "auto_ungrabify": false,
       "autolock": false,
       "cytoscape_layout": {
        "name": "cola"
       },
       "cytoscape_style": [
        {
         "selector": "node",
         "style": {
          "background-color": "blue",
          "font-family": "arial",
          "font-size": "10px",
          "label": "data(label)"
         }
        },
        {
         "selector": "edge",
         "style": {
          "curve-style": "bezier",
          "line-color": "#9dbaea",
          "target-arrow-color": "#9dbaea",
          "target-arrow-shape": "triangle",
          "width": 4
         }
        },
        {
         "css": {
          "line-color": "red"
         },
         "selector": "edge.selected"
        },
        {
         "css": {
          "background-color": "red"
         },
         "selector": "node.selected"
        }
       ],
       "desktop_tap_threshold": 4,
       "graph": "IPY_MODEL_ddeda596c59849d08c150acafbfd5134",
       "headless": false,
       "hide_edges_on_viewport": false,
       "layout": "IPY_MODEL_07eb542bee9a4fde841c683341b5847a",
       "max_zoom": 1e+50,
       "min_zoom": 1e-50,
       "motion_blur": false,
       "motion_blur_opacity": 0.2,
       "panning_enabled": true,
       "pixel_ratio": "auto",
       "rendered_position": {
        "renderedPosition": {
         "x": 100,
         "y": 100
        }
       },
       "selection_type": "single",
       "style_enabled": true,
       "texture_on_viewport": false,
       "tooltip_source": "tooltip",
       "touch_tap_threshold": 8,
       "user_panning_enabled": true,
       "user_zooming_enabled": true,
       "wheel_sensitivity": 1,
       "zoom": 2,
       "zooming_enabled": true
      }
     },
     "01b2b680b36f444ea30c1467b85e35ce": {
      "model_module": "@jupyter-widgets/base",
      "model_module_version": "1.2.0",
      "model_name": "LayoutModel",
      "state": {}
     },
     "01d82eb41cbd4a5fb9c4f3175553a19d": {
      "model_module": "@jupyter-widgets/controls",
      "model_module_version": "1.5.0",
      "model_name": "ButtonStyleModel",
      "state": {}
     },
     "01f565c12b104ec38fd842389dfa7dc3": {
      "model_module": "jupyter-cytoscape",
      "model_module_version": "^1.2.2",
      "model_name": "EdgeModel",
      "state": {
       "_model_module_version": "^1.2.2",
       "_view_module_version": "^1.2.2",
       "classes": " directed  multiple_edges ",
       "data": {
        "id": "mpg_origin",
        "source": "mpg",
        "target": "origin"
       },
       "removed": true,
       "selectable": false
      }
     },
     "021f91afa48049769db2a8e11f12e86a": {
      "model_module": "jupyter-cytoscape",
      "model_module_version": "^1.2.2",
      "model_name": "EdgeModel",
      "state": {
       "_model_module_version": "^1.2.2",
       "_view_module_version": "^1.2.2",
       "classes": " directed  multiple_edges ",
       "data": {
        "id": "weight_horsepower",
        "source": "weight",
        "target": "horsepower"
       },
       "removed": true,
       "selectable": false
      }
     },
     "02516d122b7b490fb965d725c06f706d": {
      "model_module": "jupyter-cytoscape",
      "model_module_version": "^1.2.2",
      "model_name": "NodeModel",
      "state": {
       "_model_module_version": "^1.2.2",
       "_view_module_version": "^1.2.2",
       "data": {
        "id": "mpg",
        "label": "mpg"
       },
       "grabbable": true,
       "grabbed": false,
       "position": {
        "x": 604.8409436213743,
        "y": 147.15280318553792
       },
       "selectable": false
      }
     },
     "0284277497c44948b74011f7522cc16f": {
      "model_module": "jupyter-cytoscape",
      "model_module_version": "^1.2.2",
      "model_name": "EdgeModel",
      "state": {
       "_model_module_version": "^1.2.2",
       "_view_module_version": "^1.2.2",
       "classes": " directed  multiple_edges ",
       "data": {
        "id": "displacement_horsepower",
        "source": "displacement",
        "target": "horsepower"
       },
       "removed": true,
       "selectable": false
      }
     },
     "02f08809f6f64cf39bfb45823cc18256": {
      "model_module": "jupyter-cytoscape",
      "model_module_version": "^1.2.2",
      "model_name": "EdgeModel",
      "state": {
       "_model_module_version": "^1.2.2",
       "_view_module_version": "^1.2.2",
       "classes": " directed  multiple_edges ",
       "data": {
        "id": "horsepower_acceleration",
        "source": "horsepower",
        "target": "acceleration"
       },
       "selectable": false
      }
     },
     "02ffa4709d234e64933d5ac6359210fa": {
      "model_module": "@jupyter-widgets/controls",
      "model_module_version": "1.5.0",
      "model_name": "ButtonStyleModel",
      "state": {}
     },
     "0304bd9c05744b04a9d17f9d67729eea": {
      "model_module": "jupyter-cytoscape",
      "model_module_version": "^1.2.2",
      "model_name": "EdgeModel",
      "state": {
       "_model_module_version": "^1.2.2",
       "_view_module_version": "^1.2.2",
       "classes": " directed  multiple_edges ",
       "data": {
        "id": "displacement_acceleration",
        "source": "displacement",
        "target": "acceleration"
       },
       "selectable": false
      }
     },
     "031609753a374dd3a235595c7a069973": {
      "model_module": "@jupyter-widgets/controls",
      "model_module_version": "1.5.0",
      "model_name": "ButtonModel",
      "state": {
       "description": "Delete Edge",
       "disabled": true,
       "layout": "IPY_MODEL_1ac7b7ff57644447839f8f12f95daab3",
       "style": "IPY_MODEL_9c3a1dda8b71462a8fd93f736fab2a9f"
      }
     },
     "0324d79c8d484655a1f65667ef6e9731": {
      "model_module": "jupyter-cytoscape",
      "model_module_version": "^1.2.2",
      "model_name": "EdgeModel",
      "state": {
       "_model_module_version": "^1.2.2",
       "_view_module_version": "^1.2.2",
       "classes": " directed  multiple_edges ",
       "data": {
        "id": "weight_acceleration",
        "source": "weight",
        "target": "acceleration"
       },
       "removed": true,
       "selectable": false
      }
     },
     "036fb26f8f16458dbe9f1ec81f1857de": {
      "model_module": "jupyter-cytoscape",
      "model_module_version": "^1.2.2",
      "model_name": "EdgeModel",
      "state": {
       "_model_module_version": "^1.2.2",
       "_view_module_version": "^1.2.2",
       "classes": " directed  multiple_edges ",
       "data": {
        "id": "model_year_weight",
        "source": "model_year",
        "target": "weight"
       },
       "selectable": false
      }
     },
     "03d75c259b0e44b68a95ff3fc88d70b6": {
      "model_module": "@jupyter-widgets/base",
      "model_module_version": "1.2.0",
      "model_name": "LayoutModel",
      "state": {}
     },
     "03d8110729cc46ee88337b00277bf0b8": {
      "model_module": "@jupyter-widgets/controls",
      "model_module_version": "1.5.0",
      "model_name": "ButtonStyleModel",
      "state": {}
     },
     "03dea97e8f9747bc9bccbfdad5b5f564": {
      "model_module": "jupyter-cytoscape",
      "model_module_version": "^1.2.2",
      "model_name": "NodeModel",
      "state": {
       "_model_module_version": "^1.2.2",
       "_view_module_version": "^1.2.2",
       "data": {
        "id": "displacement",
        "label": "displacement"
       },
       "grabbable": true,
       "grabbed": false,
       "position": {
        "x": 1012.3412849858775,
        "y": 284.24756931696896
       },
       "selectable": false
      }
     },
     "03ff5e4128cd4cfcbd51e57bef6d230c": {
      "model_module": "jupyter-cytoscape",
      "model_module_version": "^1.2.2",
      "model_name": "EdgeModel",
      "state": {
       "_model_module_version": "^1.2.2",
       "_view_module_version": "^1.2.2",
       "classes": " directed  multiple_edges ",
       "data": {
        "id": "model_year_weight",
        "source": "model_year",
        "target": "weight"
       },
       "selectable": false
      }
     },
     "040a5ceb0ab64840b5caa090eea26d8a": {
      "model_module": "@jupyter-widgets/controls",
      "model_module_version": "1.5.0",
      "model_name": "ButtonStyleModel",
      "state": {}
     },
     "04237ee578da4be19740184c5ff21196": {
      "model_module": "@jupyter-widgets/controls",
      "model_module_version": "1.5.0",
      "model_name": "ButtonModel",
      "state": {
       "description": "Change Direction",
       "disabled": true,
       "layout": "IPY_MODEL_e154b9abd3b74998849e72642a961665",
       "style": "IPY_MODEL_b1f9502870db4879b367c850ac273302"
      }
     },
     "04282c1393144d05b335ffcdb37287c2": {
      "model_module": "jupyter-cytoscape",
      "model_module_version": "^1.2.2",
      "model_name": "EdgeModel",
      "state": {
       "_model_module_version": "^1.2.2",
       "_view_module_version": "^1.2.2",
       "classes": " directed  multiple_edges ",
       "data": {
        "id": "weight_acceleration",
        "source": "weight",
        "target": "acceleration"
       },
       "removed": true,
       "selectable": false
      }
     },
     "0442d536ac604ba9b32313089d1e4604": {
      "model_module": "@jupyter-widgets/output",
      "model_module_version": "1.0.0",
      "model_name": "OutputModel",
      "state": {
       "layout": "IPY_MODEL_ddadefc09819475aa9b892cf0bb317f0",
       "outputs": [
        {
         "name": "stdout",
         "output_type": "stream",
         "text": "selected: {'id': 'model_year', 'label': 'model_year'}\nselected: {'id': 'displacement', 'label': 'displacement'}\nselected: {'id': 'displacement_cylinders',\n 'source': 'displacement',\n 'target': 'cylinders'}\n"
        }
       ]
      }
     },
     "046dba4bf96f4b98a8f91fefbde5ff34": {
      "model_module": "jupyter-cytoscape",
      "model_module_version": "^1.2.2",
      "model_name": "EdgeModel",
      "state": {
       "_model_module_version": "^1.2.2",
       "_view_module_version": "^1.2.2",
       "classes": " directed  multiple_edges ",
       "data": {
        "id": "model_year_acceleration",
        "source": "model_year",
        "target": "acceleration"
       },
       "selectable": false
      }
     },
     "0487f37c16c14ac9a89fa07da4b20bd5": {
      "model_module": "jupyter-cytoscape",
      "model_module_version": "^1.2.2",
      "model_name": "NodeModel",
      "state": {
       "_model_module_version": "^1.2.2",
       "_view_module_version": "^1.2.2",
       "data": {
        "id": "displacement",
        "label": "displacement"
       },
       "grabbable": true,
       "grabbed": false,
       "position": {
        "x": 1012.3412849858775,
        "y": 284.24756931696896
       },
       "selectable": false
      }
     },
     "04a80b0906a446499a78f2cd11325176": {
      "model_module": "@jupyter-widgets/controls",
      "model_module_version": "1.5.0",
      "model_name": "ButtonStyleModel",
      "state": {}
     },
     "0523cbfaa4224a84a4a1ccc88818289f": {
      "model_module": "jupyter-cytoscape",
      "model_module_version": "^1.2.2",
      "model_name": "EdgeModel",
      "state": {
       "_model_module_version": "^1.2.2",
       "_view_module_version": "^1.2.2",
       "classes": " directed  multiple_edges ",
       "data": {
        "id": "model_year_mpg",
        "source": "model_year",
        "target": "mpg"
       },
       "removed": true,
       "selectable": false
      }
     },
     "052fc36f78c84e00aeab9460baa039ee": {
      "model_module": "jupyter-cytoscape",
      "model_module_version": "^1.2.2",
      "model_name": "EdgeModel",
      "state": {
       "_model_module_version": "^1.2.2",
       "_view_module_version": "^1.2.2",
       "classes": " directed  multiple_edges ",
       "data": {
        "id": "model_year_cylinders",
        "source": "model_year",
        "target": "cylinders"
       },
       "selectable": false
      }
     },
     "05525fb85f09442da4068b5613c46759": {
      "model_module": "@jupyter-widgets/controls",
      "model_module_version": "1.5.0",
      "model_name": "ButtonStyleModel",
      "state": {}
     },
     "0565964c3e9e48da8176f89a416b0da2": {
      "model_module": "jupyter-cytoscape",
      "model_module_version": "^1.2.2",
      "model_name": "EdgeModel",
      "state": {
       "_model_module_version": "^1.2.2",
       "_view_module_version": "^1.2.2",
       "classes": " directed  multiple_edges ",
       "data": {
        "id": "weight_horsepower",
        "source": "weight",
        "target": "horsepower"
       },
       "removed": true,
       "selectable": false
      }
     },
     "057a2cd2e9d347deb4ae20821bb90d4f": {
      "model_module": "jupyter-cytoscape",
      "model_module_version": "^1.2.2",
      "model_name": "EdgeModel",
      "state": {
       "_model_module_version": "^1.2.2",
       "_view_module_version": "^1.2.2",
       "classes": " directed  multiple_edges ",
       "data": {
        "id": "weight_horsepower",
        "source": "weight",
        "target": "horsepower"
       },
       "removed": true,
       "selectable": false
      }
     },
     "057c33209f004564a70f7876d661aca5": {
      "model_module": "jupyter-cytoscape",
      "model_module_version": "^1.2.2",
      "model_name": "EdgeModel",
      "state": {
       "_model_module_version": "^1.2.2",
       "_view_module_version": "^1.2.2",
       "classes": " directed  multiple_edges ",
       "data": {
        "id": "displacement_horsepower",
        "source": "displacement",
        "target": "horsepower"
       },
       "removed": true,
       "selectable": false
      }
     },
     "05e9abbd86c2482b99b2cd874173fa66": {
      "model_module": "jupyter-cytoscape",
      "model_module_version": "^1.2.2",
      "model_name": "EdgeModel",
      "state": {
       "_model_module_version": "^1.2.2",
       "_view_module_version": "^1.2.2",
       "classes": " directed  multiple_edges ",
       "data": {
        "id": "weight_horsepower",
        "source": "weight",
        "target": "horsepower"
       },
       "removed": true,
       "selectable": false
      }
     },
     "05ec020132e24b16869c6f8658c5a1e6": {
      "model_module": "jupyter-cytoscape",
      "model_module_version": "^1.2.2",
      "model_name": "EdgeModel",
      "state": {
       "_model_module_version": "^1.2.2",
       "_view_module_version": "^1.2.2",
       "classes": " directed  multiple_edges ",
       "data": {
        "id": "displacement_horsepower",
        "source": "displacement",
        "target": "horsepower"
       },
       "selectable": false
      }
     },
     "066c69badc894677aea391a3e3285096": {
      "model_module": "@jupyter-widgets/base",
      "model_module_version": "1.2.0",
      "model_name": "LayoutModel",
      "state": {}
     },
     "067715a443954ce89afdf01c920cb7ad": {
      "model_module": "jupyter-cytoscape",
      "model_module_version": "^1.2.2",
      "model_name": "EdgeModel",
      "state": {
       "_model_module_version": "^1.2.2",
       "_view_module_version": "^1.2.2",
       "classes": " directed  multiple_edges ",
       "data": {
        "id": "displacement_acceleration",
        "source": "displacement",
        "target": "acceleration"
       },
       "selectable": false
      }
     },
     "068c90d2e5924047908fe973b055a739": {
      "model_module": "jupyter-cytoscape",
      "model_module_version": "^1.2.2",
      "model_name": "EdgeModel",
      "state": {
       "_model_module_version": "^1.2.2",
       "_view_module_version": "^1.2.2",
       "classes": " directed  multiple_edges ",
       "data": {
        "id": "model_year_mpg",
        "source": "model_year",
        "target": "mpg"
       },
       "selectable": false
      }
     },
     "06908984111940e0b94c004629276f82": {
      "model_module": "jupyter-cytoscape",
      "model_module_version": "^1.2.2",
      "model_name": "NodeModel",
      "state": {
       "_model_module_version": "^1.2.2",
       "_view_module_version": "^1.2.2",
       "data": {
        "id": "acceleration",
        "label": "acceleration"
       },
       "grabbable": true,
       "grabbed": false,
       "position": {
        "x": 1077.6018264060392,
        "y": 48.21118931595049
       },
       "removed": true,
       "selectable": false
      }
     },
     "0699748430c74075a6c06f126d1442ae": {
      "model_module": "@jupyter-widgets/output",
      "model_module_version": "1.0.0",
      "model_name": "OutputModel",
      "state": {
       "layout": "IPY_MODEL_ef32d9304f2c467faba565fccceab09d"
      }
     },
     "06c7a38091984920880f3dc8dd3fd950": {
      "model_module": "jupyter-cytoscape",
      "model_module_version": "^1.2.2",
      "model_name": "EdgeModel",
      "state": {
       "_model_module_version": "^1.2.2",
       "_view_module_version": "^1.2.2",
       "classes": " directed  multiple_edges ",
       "data": {
        "id": "origin_horsepower",
        "source": "origin",
        "target": "horsepower"
       },
       "removed": true,
       "selectable": false
      }
     },
     "071408f002f24640a0ba914e3c942738": {
      "model_module": "@jupyter-widgets/controls",
      "model_module_version": "1.5.0",
      "model_name": "ButtonModel",
      "state": {
       "description": "Change Direction",
       "disabled": true,
       "layout": "IPY_MODEL_1595ca7b6f314efaa9b11ffdf013b802",
       "style": "IPY_MODEL_6fb0855e742841228b82f1777abc5c1e"
      }
     },
     "0746a1872de44695bc44d38ed16720b3": {
      "model_module": "jupyter-cytoscape",
      "model_module_version": "^1.2.2",
      "model_name": "EdgeModel",
      "state": {
       "_model_module_version": "^1.2.2",
       "_view_module_version": "^1.2.2",
       "classes": " directed  multiple_edges ",
       "data": {
        "id": "displacement_horsepower",
        "source": "displacement",
        "target": "horsepower"
       },
       "removed": true,
       "selectable": false
      }
     },
     "07ac5f7e52fa43ddabfde45a1ee9e603": {
      "model_module": "jupyter-cytoscape",
      "model_module_version": "^1.2.2",
      "model_name": "NodeModel",
      "state": {
       "_model_module_version": "^1.2.2",
       "_view_module_version": "^1.2.2",
       "data": {
        "id": "acceleration",
        "label": "acceleration"
       },
       "grabbable": true,
       "grabbed": false,
       "position": {
        "x": 598.6565740712615,
        "y": 336.3251878079987
       },
       "selectable": false
      }
     },
     "07acef0b8cbd4018919858d270f6b2c6": {
      "model_module": "jupyter-cytoscape",
      "model_module_version": "^1.2.2",
      "model_name": "EdgeModel",
      "state": {
       "_model_module_version": "^1.2.2",
       "_view_module_version": "^1.2.2",
       "classes": " directed  multiple_edges ",
       "data": {
        "id": "origin_mpg",
        "source": "origin",
        "target": "mpg"
       },
       "selectable": false
      }
     },
     "07c7e561ff814e5f87d46317436ff6b3": {
      "model_module": "@jupyter-widgets/base",
      "model_module_version": "1.2.0",
      "model_name": "LayoutModel",
      "state": {}
     },
     "07eb542bee9a4fde841c683341b5847a": {
      "model_module": "@jupyter-widgets/base",
      "model_module_version": "1.2.0",
      "model_name": "LayoutModel",
      "state": {}
     },
     "07f94e130c24428c970cf8386200b5dd": {
      "model_module": "@jupyter-widgets/base",
      "model_module_version": "1.2.0",
      "model_name": "LayoutModel",
      "state": {}
     },
     "0805bdc03bcf4ab593f7167304cf4bac": {
      "model_module": "jupyter-cytoscape",
      "model_module_version": "^1.2.2",
      "model_name": "NodeModel",
      "state": {
       "_model_module_version": "^1.2.2",
       "_view_module_version": "^1.2.2",
       "data": {
        "id": "displacement",
        "label": "displacement"
       },
       "grabbable": true,
       "grabbed": false,
       "position": {
        "x": 509.3412849858755,
        "y": 284.2475693169692
       },
       "selectable": false
      }
     },
     "083433001a10482ca116856b61788ed5": {
      "model_module": "jupyter-cytoscape",
      "model_module_version": "^1.2.2",
      "model_name": "EdgeModel",
      "state": {
       "_model_module_version": "^1.2.2",
       "_view_module_version": "^1.2.2",
       "classes": " directed  multiple_edges ",
       "data": {
        "id": "horsepower_acceleration",
        "source": "horsepower",
        "target": "acceleration"
       },
       "selectable": false
      }
     },
     "08419ca7d9db48cc8ab03354fc404792": {
      "model_module": "jupyter-cytoscape",
      "model_module_version": "^1.2.2",
      "model_name": "NodeModel",
      "state": {
       "_model_module_version": "^1.2.2",
       "_view_module_version": "^1.2.2",
       "data": {
        "id": "mpg",
        "label": "mpg"
       },
       "grabbable": true,
       "grabbed": false,
       "position": {
        "x": 1107.840943621376,
        "y": 147.15280318553766
       },
       "selectable": false
      }
     },
     "0877a98f55d94314b7a97ed7775ea1ec": {
      "model_module": "jupyter-cytoscape",
      "model_module_version": "^1.2.2",
      "model_name": "EdgeModel",
      "state": {
       "_model_module_version": "^1.2.2",
       "_view_module_version": "^1.2.2",
       "classes": " directed  multiple_edges ",
       "data": {
        "id": "weight_horsepower",
        "source": "weight",
        "target": "horsepower"
       },
       "selectable": false
      }
     },
     "08b496012db14a7982f76840837a503f": {
      "model_module": "jupyter-cytoscape",
      "model_module_version": "^1.2.2",
      "model_name": "EdgeModel",
      "state": {
       "_model_module_version": "^1.2.2",
       "_view_module_version": "^1.2.2",
       "classes": " multiple_edges directed selected",
       "data": {
        "id": "displacement_origin",
        "source": "displacement",
        "target": "origin"
       },
       "removed": true,
       "selectable": false
      }
     },
     "08b975de97264198903dd5f195aa8d2a": {
      "model_module": "jupyter-cytoscape",
      "model_module_version": "^1.2.2",
      "model_name": "NodeModel",
      "state": {
       "_model_module_version": "^1.2.2",
       "_view_module_version": "^1.2.2",
       "data": {
        "id": "mpg",
        "label": "mpg"
       },
       "grabbable": true,
       "grabbed": false,
       "position": {
        "x": 604.8409436213743,
        "y": 147.15280318553792
       },
       "selectable": false
      }
     },
     "08cdc8f884494e919d1c2de9b85b9827": {
      "model_module": "jupyter-cytoscape",
      "model_module_version": "^1.2.2",
      "model_name": "EdgeModel",
      "state": {
       "_model_module_version": "^1.2.2",
       "_view_module_version": "^1.2.2",
       "classes": " directed  multiple_edges ",
       "data": {
        "id": "weight_mpg",
        "source": "weight",
        "target": "mpg"
       },
       "selectable": false
      }
     },
     "0917d7625c59474c9d7cd6c79f1123c3": {
      "model_module": "jupyter-cytoscape",
      "model_module_version": "^1.2.2",
      "model_name": "EdgeModel",
      "state": {
       "_model_module_version": "^1.2.2",
       "_view_module_version": "^1.2.2",
       "classes": " directed  multiple_edges ",
       "data": {
        "id": "displacement_weight",
        "source": "displacement",
        "target": "weight"
       },
       "selectable": false
      }
     },
     "09401c78034c4536a72f9d0a50b6c908": {
      "model_module": "jupyter-cytoscape",
      "model_module_version": "^1.2.2",
      "model_name": "NodeModel",
      "state": {
       "_model_module_version": "^1.2.2",
       "_view_module_version": "^1.2.2",
       "data": {
        "id": "horsepower",
        "label": "horsepower"
       },
       "grabbable": true,
       "grabbed": false,
       "position": {
        "x": 1098.4072363143414,
        "y": 106.80882163788613
       },
       "removed": true,
       "selectable": false
      }
     },
     "095f96eac91748e4bec0c1be8da7abc5": {
      "model_module": "jupyter-cytoscape",
      "model_module_version": "^1.2.2",
      "model_name": "NodeModel",
      "state": {
       "_model_module_version": "^1.2.2",
       "_view_module_version": "^1.2.2",
       "data": {
        "id": "acceleration",
        "label": "acceleration"
       },
       "grabbable": true,
       "grabbed": false,
       "position": {
        "x": 598.6565740712615,
        "y": 336.3251878079987
       },
       "selectable": false
      }
     },
     "0968a3d567d84caeaacc7f8c1d2a22f4": {
      "model_module": "jupyter-cytoscape",
      "model_module_version": "^1.2.2",
      "model_name": "EdgeModel",
      "state": {
       "_model_module_version": "^1.2.2",
       "_view_module_version": "^1.2.2",
       "classes": " directed  multiple_edges ",
       "data": {
        "id": "horsepower_origin",
        "source": "horsepower",
        "target": "origin"
       },
       "selectable": false
      }
     },
     "0969c6a97355498a957f9fc80678130e": {
      "model_module": "jupyter-cytoscape",
      "model_module_version": "^1.2.2",
      "model_name": "EdgeModel",
      "state": {
       "_model_module_version": "^1.2.2",
       "_view_module_version": "^1.2.2",
       "classes": " directed  multiple_edges ",
       "data": {
        "id": "weight_horsepower",
        "source": "weight",
        "target": "horsepower"
       },
       "selectable": false
      }
     },
     "096e24cb28b345c387155c425cd50cf2": {
      "model_module": "@jupyter-widgets/base",
      "model_module_version": "1.2.0",
      "model_name": "LayoutModel",
      "state": {}
     },
     "098cdb3efc174580afe2ee4869e77aed": {
      "model_module": "jupyter-cytoscape",
      "model_module_version": "^1.2.2",
      "model_name": "EdgeModel",
      "state": {
       "_model_module_version": "^1.2.2",
       "_view_module_version": "^1.2.2",
       "classes": " directed  multiple_edges ",
       "data": {
        "id": "horsepower_acceleration",
        "source": "horsepower",
        "target": "acceleration"
       },
       "selectable": false
      }
     },
     "099f80c6bb7f4fbeb092ffeb6dcccc76": {
      "model_module": "@jupyter-widgets/base",
      "model_module_version": "1.2.0",
      "model_name": "LayoutModel",
      "state": {}
     },
     "09a18a3ba775462a83b3d6f1f3a90d0d": {
      "model_module": "@jupyter-widgets/base",
      "model_module_version": "1.2.0",
      "model_name": "LayoutModel",
      "state": {}
     },
     "09d83210c64d4bd5979e208f1a9a57e0": {
      "model_module": "jupyter-cytoscape",
      "model_module_version": "^1.2.2",
      "model_name": "NodeModel",
      "state": {
       "_model_module_version": "^1.2.2",
       "_view_module_version": "^1.2.2",
       "data": {
        "id": "model_year",
        "label": "model_year"
       },
       "grabbable": true,
       "grabbed": false,
       "position": {
        "x": 559.3412859858755,
        "y": 263.5513286832067
       },
       "selectable": false
      }
     },
     "09f1985b47e24fb9b09ba866de253d57": {
      "model_module": "jupyter-cytoscape",
      "model_module_version": "^1.2.2",
      "model_name": "EdgeModel",
      "state": {
       "_model_module_version": "^1.2.2",
       "_view_module_version": "^1.2.2",
       "classes": " directed  multiple_edges ",
       "data": {
        "id": "weight_mpg",
        "source": "weight",
        "target": "mpg"
       },
       "selectable": false
      }
     },
     "0a1fd55f9d0c429fbe73972d2fc48b17": {
      "model_module": "jupyter-cytoscape",
      "model_module_version": "^1.2.2",
      "model_name": "NodeModel",
      "state": {
       "_model_module_version": "^1.2.2",
       "_view_module_version": "^1.2.2",
       "data": {
        "id": "displacement",
        "label": "displacement"
       },
       "grabbable": true,
       "grabbed": false,
       "position": {
        "x": 615.8860024472323,
        "y": 157.9708457546868
       },
       "selectable": false
      }
     },
     "0a58a8b076ee4e39b3c597283ec2c338": {
      "model_module": "@jupyter-widgets/base",
      "model_module_version": "1.2.0",
      "model_name": "LayoutModel",
      "state": {}
     },
     "0a7f12d621d14ef0a05ec7db443c5a36": {
      "model_module": "jupyter-cytoscape",
      "model_module_version": "^1.2.2",
      "model_name": "EdgeModel",
      "state": {
       "_model_module_version": "^1.2.2",
       "_view_module_version": "^1.2.2",
       "classes": " directed  multiple_edges ",
       "data": {
        "id": "displacement_cylinders",
        "source": "displacement",
        "target": "cylinders"
       },
       "selectable": false
      }
     },
     "0aa257cc086146e9b9a893b077d43cd8": {
      "model_module": "jupyter-cytoscape",
      "model_module_version": "^1.2.2",
      "model_name": "NodeModel",
      "state": {
       "_model_module_version": "^1.2.2",
       "_view_module_version": "^1.2.2",
       "data": {
        "id": "weight",
        "label": "weight"
       },
       "grabbable": true,
       "grabbed": false,
       "position": {
        "x": 1147.1038596983974,
        "y": 255.94921684087447
       },
       "selectable": false
      }
     },
     "0accfcbb9322426a9d810c28c0fb016b": {
      "model_module": "jupyter-cytoscape",
      "model_module_version": "^1.2.2",
      "model_name": "NodeModel",
      "state": {
       "_model_module_version": "^1.2.2",
       "_view_module_version": "^1.2.2",
       "data": {
        "id": "model_year",
        "label": "model_year"
       },
       "grabbable": true,
       "grabbed": false,
       "position": {
        "x": 849.3290098946818,
        "y": 219.9736966784859
       },
       "selectable": false
      }
     },
     "0aea5162b1424dd988c5083305cfbbf2": {
      "model_module": "@jupyter-widgets/controls",
      "model_module_version": "1.5.0",
      "model_name": "ButtonModel",
      "state": {
       "description": "Delete Edge",
       "disabled": true,
       "layout": "IPY_MODEL_d4355e769e06483b9ecd24ac00e754cb",
       "style": "IPY_MODEL_bd21541f75064914869547242161ff83"
      }
     },
     "0b060852cc624252bea388cb65e5ca0d": {
      "model_module": "@jupyter-widgets/base",
      "model_module_version": "1.2.0",
      "model_name": "LayoutModel",
      "state": {}
     },
     "0b30d4b5ee61404992abd65c128906c4": {
      "model_module": "@jupyter-widgets/base",
      "model_module_version": "1.2.0",
      "model_name": "LayoutModel",
      "state": {}
     },
     "0b4bab1477ea44f997c7ef3547374efb": {
      "model_module": "jupyter-cytoscape",
      "model_module_version": "^1.2.2",
      "model_name": "EdgeModel",
      "state": {
       "_model_module_version": "^1.2.2",
       "_view_module_version": "^1.2.2",
       "classes": " directed  multiple_edges ",
       "data": {
        "id": "model_year_weight",
        "source": "model_year",
        "target": "weight"
       },
       "selectable": false
      }
     },
     "0b54af37ebba4eba9450b2b5b3f920a5": {
      "model_module": "jupyter-cytoscape",
      "model_module_version": "^1.2.2",
      "model_name": "EdgeModel",
      "state": {
       "_model_module_version": "^1.2.2",
       "_view_module_version": "^1.2.2",
       "classes": " directed  multiple_edges ",
       "data": {
        "id": "displacement_cylinders",
        "source": "displacement",
        "target": "cylinders"
       },
       "removed": true,
       "selectable": false
      }
     },
     "0b5903c8baf941ae8c9cca9654e18b73": {
      "model_module": "jupyter-cytoscape",
      "model_module_version": "^1.2.2",
      "model_name": "NodeModel",
      "state": {
       "_model_module_version": "^1.2.2",
       "_view_module_version": "^1.2.2",
       "data": {
        "id": "displacement",
        "label": "displacement"
       },
       "grabbable": true,
       "grabbed": false,
       "position": {
        "x": 509.3412849858755,
        "y": 284.2475693169692
       },
       "selectable": false
      }
     },
     "0b781455bf3045be9a20242fd7a0445f": {
      "model_module": "jupyter-cytoscape",
      "model_module_version": "^1.2.2",
      "model_name": "EdgeModel",
      "state": {
       "_model_module_version": "^1.2.2",
       "_view_module_version": "^1.2.2",
       "classes": " directed  multiple_edges ",
       "data": {
        "id": "weight_acceleration",
        "source": "weight",
        "target": "acceleration"
       },
       "removed": true,
       "selectable": false
      }
     },
     "0b7df1a60b18430f8f902077bf114523": {
      "model_module": "jupyter-cytoscape",
      "model_module_version": "^1.2.2",
      "model_name": "EdgeModel",
      "state": {
       "_model_module_version": "^1.2.2",
       "_view_module_version": "^1.2.2",
       "classes": " multiple_edges directed selected",
       "data": {
        "id": "model_year_acceleration",
        "source": "model_year",
        "target": "acceleration"
       },
       "removed": true,
       "selectable": false
      }
     },
     "0bc384c82ac04395b9dc76f5c436e49f": {
      "model_module": "@jupyter-widgets/controls",
      "model_module_version": "1.5.0",
      "model_name": "ButtonModel",
      "state": {
       "description": "red edges",
       "layout": "IPY_MODEL_60aab14a79d74e6b894e7018d3a8ba5f",
       "style": "IPY_MODEL_d81a573d1f464a13b64b3f4c2516112b"
      }
     },
     "0bf150b6336947f0bc655d9a671b3025": {
      "model_module": "jupyter-cytoscape",
      "model_module_version": "^1.2.2",
      "model_name": "EdgeModel",
      "state": {
       "_model_module_version": "^1.2.2",
       "_view_module_version": "^1.2.2",
       "classes": " directed  multiple_edges ",
       "data": {
        "id": "displacement_weight",
        "source": "displacement",
        "target": "weight"
       },
       "removed": true,
       "selectable": false
      }
     },
     "0c0eaf3ab7034ad49b297bdcc462aae4": {
      "model_module": "@jupyter-widgets/controls",
      "model_module_version": "1.5.0",
      "model_name": "ButtonStyleModel",
      "state": {}
     },
     "0c6d6efbe9f84966b7d6b056aaa4516e": {
      "model_module": "jupyter-cytoscape",
      "model_module_version": "^1.2.2",
      "model_name": "EdgeModel",
      "state": {
       "_model_module_version": "^1.2.2",
       "_view_module_version": "^1.2.2",
       "classes": " directed  multiple_edges ",
       "data": {
        "id": "mpg_origin",
        "source": "mpg",
        "target": "origin"
       },
       "removed": true,
       "selectable": false
      }
     },
     "0c9270807022480589eced48c0e21aea": {
      "model_module": "@jupyter-widgets/controls",
      "model_module_version": "1.5.0",
      "model_name": "ButtonModel",
      "state": {
       "description": "Add Edge",
       "disabled": true,
       "layout": "IPY_MODEL_1b7aa530853c4252a8b05440f14b088c",
       "style": "IPY_MODEL_dc625913d5fd4423a8d334a54083e404"
      }
     },
     "0cfea289fa384751be05cea32f6b8bde": {
      "model_module": "jupyter-cytoscape",
      "model_module_version": "^1.2.2",
      "model_name": "NodeModel",
      "state": {
       "_model_module_version": "^1.2.2",
       "_view_module_version": "^1.2.2",
       "data": {
        "id": "model_year",
        "label": "model_year"
       },
       "grabbable": true,
       "grabbed": false,
       "position": {
        "x": 684.1635343662906,
        "y": 225.07364057090453
       },
       "removed": true,
       "selectable": false
      }
     },
     "0d2e155d8f624ddbbd7a61affd9258c7": {
      "model_module": "@jupyter-widgets/controls",
      "model_module_version": "1.5.0",
      "model_name": "ButtonModel",
      "state": {
       "description": "Add Edge",
       "disabled": true,
       "layout": "IPY_MODEL_6daa158663a04548a29fa0e51473f111",
       "style": "IPY_MODEL_201187fdfeaf4c90855a3da02c707a7e"
      }
     },
     "0d98f0b1a83a47cbbcdaa454260030be": {
      "model_module": "jupyter-cytoscape",
      "model_module_version": "^1.2.2",
      "model_name": "EdgeModel",
      "state": {
       "_model_module_version": "^1.2.2",
       "_view_module_version": "^1.2.2",
       "classes": " directed  multiple_edges ",
       "data": {
        "id": "displacement_origin",
        "source": "displacement",
        "target": "origin"
       },
       "removed": true,
       "selectable": false
      }
     },
     "0db32573bcca4098849b98ac6d09bfbf": {
      "model_module": "@jupyter-widgets/controls",
      "model_module_version": "1.5.0",
      "model_name": "ButtonStyleModel",
      "state": {}
     },
     "0de76ca627304edb87158687e2e5f4bd": {
      "model_module": "jupyter-cytoscape",
      "model_module_version": "^1.2.2",
      "model_name": "NodeModel",
      "state": {
       "_model_module_version": "^1.2.2",
       "_view_module_version": "^1.2.2",
       "data": {
        "id": "acceleration",
        "label": "acceleration"
       },
       "grabbable": true,
       "grabbed": false,
       "position": {
        "x": 598.6565740712615,
        "y": 336.3251878079987
       },
       "selectable": false
      }
     },
     "0df0aec8d9444c72b0e30c3d43d5e37b": {
      "model_module": "jupyter-cytoscape",
      "model_module_version": "^1.2.2",
      "model_name": "EdgeModel",
      "state": {
       "_model_module_version": "^1.2.2",
       "_view_module_version": "^1.2.2",
       "classes": " directed  multiple_edges ",
       "data": {
        "id": "displacement_acceleration",
        "source": "displacement",
        "target": "acceleration"
       },
       "selectable": false
      }
     },
     "0e3d2ff31cea4ae59acf173bda4dda8b": {
      "model_module": "jupyter-cytoscape",
      "model_module_version": "^1.2.2",
      "model_name": "NodeModel",
      "state": {
       "_model_module_version": "^1.2.2",
       "_view_module_version": "^1.2.2",
       "data": {
        "id": "acceleration",
        "label": "acceleration"
       },
       "grabbable": true,
       "grabbed": false,
       "position": {
        "x": 598.6565740712615,
        "y": 336.3251878079987
       },
       "selectable": false
      }
     },
     "0e530093126f478281000c8a8b8a6eac": {
      "model_module": "jupyter-cytoscape",
      "model_module_version": "^1.2.2",
      "model_name": "EdgeModel",
      "state": {
       "_model_module_version": "^1.2.2",
       "_view_module_version": "^1.2.2",
       "classes": " directed  multiple_edges ",
       "data": {
        "id": "displacement_cylinders",
        "source": "displacement",
        "target": "cylinders"
       },
       "selectable": false
      }
     },
     "0e54a5d1b7df48788e43a49e97490e6b": {
      "model_module": "jupyter-cytoscape",
      "model_module_version": "^1.2.2",
      "model_name": "EdgeModel",
      "state": {
       "_model_module_version": "^1.2.2",
       "_view_module_version": "^1.2.2",
       "classes": " directed  multiple_edges ",
       "data": {
        "id": "model_year_mpg",
        "source": "model_year",
        "target": "mpg"
       },
       "selectable": false
      }
     },
     "0efbb84cdce0444ba4484cb6066d9deb": {
      "model_module": "jupyter-cytoscape",
      "model_module_version": "^1.2.2",
      "model_name": "EdgeModel",
      "state": {
       "_model_module_version": "^1.2.2",
       "_view_module_version": "^1.2.2",
       "classes": " directed  multiple_edges ",
       "data": {
        "id": "origin_horsepower",
        "source": "origin",
        "target": "horsepower"
       },
       "selectable": false
      }
     },
     "0f22b74304604360b78bd7c510662ccd": {
      "model_module": "jupyter-cytoscape",
      "model_module_version": "^1.2.2",
      "model_name": "EdgeModel",
      "state": {
       "_model_module_version": "^1.2.2",
       "_view_module_version": "^1.2.2",
       "classes": " directed  multiple_edges ",
       "data": {
        "id": "displacement_origin",
        "source": "displacement",
        "target": "origin"
       },
       "removed": true,
       "selectable": false
      }
     },
     "0f40184441ed4b29bdab0f6894ea52b2": {
      "model_module": "jupyter-cytoscape",
      "model_module_version": "^1.2.2",
      "model_name": "NodeModel",
      "state": {
       "_model_module_version": "^1.2.2",
       "_view_module_version": "^1.2.2",
       "data": {
        "id": "horsepower",
        "label": "horsepower"
       },
       "grabbable": true,
       "grabbed": false,
       "position": {
        "x": 1047.018591159714,
        "y": 312.90315197982
       },
       "removed": true,
       "selectable": false
      }
     },
     "0f8f111e0f554b59b085476d8e28ede7": {
      "model_module": "jupyter-cytoscape",
      "model_module_version": "^1.2.2",
      "model_name": "NodeModel",
      "state": {
       "_model_module_version": "^1.2.2",
       "_view_module_version": "^1.2.2",
       "data": {
        "id": "model_year",
        "label": "model_year"
       },
       "grabbable": true,
       "grabbed": false,
       "position": {
        "x": 684.1635343662906,
        "y": 225.07364057090453
       },
       "removed": true,
       "selectable": false
      }
     },
     "0ff10741a8f943ba8685f95a859fc6c7": {
      "model_module": "@jupyter-widgets/output",
      "model_module_version": "1.0.0",
      "model_name": "OutputModel",
      "state": {
       "layout": "IPY_MODEL_23f832fefa574c45b22c608edc4c470d"
      }
     },
     "0ff7c21f9b7843829d0a7d23595dfe9d": {
      "model_module": "@jupyter-widgets/controls",
      "model_module_version": "1.5.0",
      "model_name": "ButtonModel",
      "state": {
       "description": "Change Direction",
       "disabled": true,
       "layout": "IPY_MODEL_5270dd2da3c64ef988dd1ccf2dfd96b8",
       "style": "IPY_MODEL_ac058097b4234575b3571bb9ddc78608"
      }
     },
     "10049b9d439b47e6a9aa91357d82ba59": {
      "model_module": "jupyter-cytoscape",
      "model_module_version": "^1.2.2",
      "model_name": "GraphModel",
      "state": {
       "_adj": {},
       "_model_module_version": "^1.2.2",
       "_view_module": "jupyter-cytoscape",
       "_view_module_version": "^1.2.2"
      }
     },
     "10126f64397146d581398df2ace4b2e3": {
      "model_module": "jupyter-cytoscape",
      "model_module_version": "^1.2.2",
      "model_name": "EdgeModel",
      "state": {
       "_model_module_version": "^1.2.2",
       "_view_module_version": "^1.2.2",
       "classes": " directed  multiple_edges ",
       "data": {
        "id": "weight_horsepower",
        "source": "weight",
        "target": "horsepower"
       },
       "selectable": false
      }
     },
     "10149b7f0b504e9fa46a69db42c877fb": {
      "model_module": "jupyter-cytoscape",
      "model_module_version": "^1.2.2",
      "model_name": "EdgeModel",
      "state": {
       "_model_module_version": "^1.2.2",
       "_view_module_version": "^1.2.2",
       "classes": " directed  multiple_edges ",
       "data": {
        "id": "displacement_horsepower",
        "source": "displacement",
        "target": "horsepower"
       },
       "selectable": false
      }
     },
     "1030de541bd040a3902d59d640dbd2f7": {
      "model_module": "jupyter-cytoscape",
      "model_module_version": "^1.2.2",
      "model_name": "NodeModel",
      "state": {
       "_model_module_version": "^1.2.2",
       "_view_module_version": "^1.2.2",
       "data": {
        "id": "model_year",
        "label": "model_year"
       },
       "grabbable": true,
       "grabbed": false,
       "position": {
        "x": 559.3412859858755,
        "y": 263.5513286832067
       },
       "selectable": false
      }
     },
     "104619fd39a7458e9401fea69f14b715": {
      "model_module": "jupyter-cytoscape",
      "model_module_version": "^1.2.2",
      "model_name": "NodeModel",
      "state": {
       "_model_module_version": "^1.2.2",
       "_view_module_version": "^1.2.2",
       "data": {
        "id": "horsepower",
        "label": "horsepower"
       },
       "grabbable": true,
       "grabbed": false,
       "position": {
        "x": 579.0624766836064,
        "y": 213.55132768320664
       },
       "selectable": false
      }
     },
     "1048f1029701460caecdd721cddae5ad": {
      "model_module": "jupyter-cytoscape",
      "model_module_version": "^1.2.2",
      "model_name": "NodeModel",
      "state": {
       "_model_module_version": "^1.2.2",
       "_view_module_version": "^1.2.2",
       "data": {
        "id": "model_year",
        "label": "model_year"
       },
       "grabbable": true,
       "grabbed": false,
       "position": {
        "x": 902.1635343662903,
        "y": 225.07364057090456
       },
       "removed": true,
       "selectable": false
      }
     },
     "105f464a17f34b69802e4cbed8e919a2": {
      "model_module": "jupyter-cytoscape",
      "model_module_version": "^1.2.2",
      "model_name": "NodeModel",
      "state": {
       "_model_module_version": "^1.2.2",
       "_view_module_version": "^1.2.2",
       "data": {
        "id": "displacement",
        "label": "displacement"
       },
       "grabbable": true,
       "grabbed": false,
       "position": {
        "x": 586.1497807717614,
        "y": 135.32025334908536
       },
       "selectable": false
      }
     },
     "106103109177487f80dc2cd9ea1e5a7d": {
      "model_module": "jupyter-cytoscape",
      "model_module_version": "^1.2.2",
      "model_name": "NodeModel",
      "state": {
       "_model_module_version": "^1.2.2",
       "_view_module_version": "^1.2.2",
       "data": {
        "id": "horsepower",
        "label": "horsepower"
       },
       "grabbable": true,
       "grabbed": false,
       "position": {
        "x": 946.3039622199349,
        "y": 103.90337540622617
       },
       "removed": true,
       "selectable": false
      }
     },
     "107085ebc1614e4e95986a060a7cf61f": {
      "model_module": "jupyter-cytoscape",
      "model_module_version": "^1.2.2",
      "model_name": "GraphModel",
      "state": {
       "_adj": {},
       "_model_module_version": "^1.2.2",
       "_view_module": "jupyter-cytoscape",
       "_view_module_version": "^1.2.2"
      }
     },
     "108615d6ffe547138900d2f5f3b68bc2": {
      "model_module": "jupyter-cytoscape",
      "model_module_version": "^1.2.2",
      "model_name": "GraphModel",
      "state": {
       "_adj": {},
       "_model_module_version": "^1.2.2",
       "_view_module": "jupyter-cytoscape",
       "_view_module_version": "^1.2.2"
      }
     },
     "10ba808622374538a29e75f20c3617c1": {
      "model_module": "@jupyter-widgets/controls",
      "model_module_version": "1.5.0",
      "model_name": "ButtonModel",
      "state": {
       "description": "Delete Edge",
       "disabled": true,
       "layout": "IPY_MODEL_fae029717f9c403187732db70eccd55d",
       "style": "IPY_MODEL_410c040e7a094f07b1901d95189c278e"
      }
     },
     "10bc0f5257d34bb3a8598c0d417a6f09": {
      "model_module": "@jupyter-widgets/controls",
      "model_module_version": "1.5.0",
      "model_name": "ButtonStyleModel",
      "state": {}
     },
     "10dd03d1bb7542b683f0aec9cb4ec628": {
      "model_module": "jupyter-cytoscape",
      "model_module_version": "^1.2.2",
      "model_name": "EdgeModel",
      "state": {
       "_model_module_version": "^1.2.2",
       "_view_module_version": "^1.2.2",
       "classes": " directed  multiple_edges ",
       "data": {
        "id": "horsepower_acceleration",
        "source": "horsepower",
        "target": "acceleration"
       },
       "removed": true,
       "selectable": false
      }
     },
     "10e908f2823643c4a09beeaaf75973e5": {
      "model_module": "@jupyter-widgets/base",
      "model_module_version": "1.2.0",
      "model_name": "LayoutModel",
      "state": {}
     },
     "11153520022d486489f246a0a593336c": {
      "model_module": "jupyter-cytoscape",
      "model_module_version": "^1.2.2",
      "model_name": "EdgeModel",
      "state": {
       "_model_module_version": "^1.2.2",
       "_view_module_version": "^1.2.2",
       "classes": " directed  multiple_edges ",
       "data": {
        "id": "displacement_acceleration",
        "source": "displacement",
        "target": "acceleration"
       },
       "selectable": false
      }
     },
     "115630da665c431d9c8f53c257028d5f": {
      "model_module": "jupyter-cytoscape",
      "model_module_version": "^1.2.2",
      "model_name": "EdgeModel",
      "state": {
       "_model_module_version": "^1.2.2",
       "_view_module_version": "^1.2.2",
       "classes": " directed  multiple_edges ",
       "data": {
        "id": "displacement_acceleration",
        "source": "displacement",
        "target": "acceleration"
       },
       "selectable": false
      }
     },
     "1169aff3b1984b2bb149b8f0e6571254": {
      "model_module": "@jupyter-widgets/controls",
      "model_module_version": "1.5.0",
      "model_name": "ButtonStyleModel",
      "state": {}
     },
     "117ac7ead5b146548135ea796d490bfd": {
      "model_module": "jupyter-cytoscape",
      "model_module_version": "^1.2.2",
      "model_name": "EdgeModel",
      "state": {
       "_model_module_version": "^1.2.2",
       "_view_module_version": "^1.2.2",
       "classes": " directed  multiple_edges ",
       "data": {
        "id": "model_year_weight",
        "source": "model_year",
        "target": "weight"
       },
       "selectable": false
      }
     },
     "119b49f6441649889dc20ca6ce894e21": {
      "model_module": "jupyter-cytoscape",
      "model_module_version": "^1.2.2",
      "model_name": "EdgeModel",
      "state": {
       "_model_module_version": "^1.2.2",
       "_view_module_version": "^1.2.2",
       "classes": " directed  multiple_edges ",
       "data": {
        "id": "displacement_horsepower",
        "source": "displacement",
        "target": "horsepower"
       },
       "selectable": false
      }
     },
     "11d17aba7e35459481787e2f7d5cb287": {
      "model_module": "@jupyter-widgets/controls",
      "model_module_version": "1.5.0",
      "model_name": "ButtonModel",
      "state": {
       "description": "Add Edge",
       "disabled": true,
       "layout": "IPY_MODEL_09a18a3ba775462a83b3d6f1f3a90d0d",
       "style": "IPY_MODEL_843bba3f6c144d8283fe95bb76498548"
      }
     },
     "11d22ae4c1794206b4cae2c76bd083fd": {
      "model_module": "jupyter-cytoscape",
      "model_module_version": "^1.2.2",
      "model_name": "CytoscapeModel",
      "state": {
       "_interaction_handlers": {
        "edge": [
         "click"
        ],
        "node": [
         "click"
        ]
       },
       "_model_module_version": "^1.2.2",
       "_view_module_version": "^1.2.2",
       "auto_ungrabify": false,
       "autolock": false,
       "cytoscape_layout": {
        "name": "cola"
       },
       "cytoscape_style": [
        {
         "selector": "node",
         "style": {
          "background-color": "blue",
          "font-family": "arial",
          "font-size": "10px",
          "label": "data(label)"
         }
        },
        {
         "selector": "edge",
         "style": {
          "curve-style": "bezier",
          "line-color": "#9dbaea",
          "target-arrow-color": "#9dbaea",
          "target-arrow-shape": "triangle",
          "width": 4
         }
        },
        {
         "css": {
          "line-color": "red"
         },
         "selector": "edge.selected"
        },
        {
         "css": {
          "background-color": "red"
         },
         "selector": "node.selected"
        }
       ],
       "desktop_tap_threshold": 4,
       "graph": "IPY_MODEL_4314e1f11c014e328a9e936fe9a77306",
       "headless": false,
       "hide_edges_on_viewport": false,
       "layout": "IPY_MODEL_4cd12382529e4dd8bc71b5d639a0dc91",
       "max_zoom": 1e+50,
       "min_zoom": 1e-50,
       "motion_blur": false,
       "motion_blur_opacity": 0.2,
       "panning_enabled": true,
       "pixel_ratio": "auto",
       "rendered_position": {
        "renderedPosition": {
         "x": 100,
         "y": 100
        }
       },
       "selection_type": "single",
       "style_enabled": true,
       "texture_on_viewport": false,
       "tooltip_source": "tooltip",
       "touch_tap_threshold": 8,
       "user_panning_enabled": true,
       "user_zooming_enabled": true,
       "wheel_sensitivity": 1,
       "zoom": 2,
       "zooming_enabled": true
      }
     },
     "121b03b68c7f4193b237c93d4c823a53": {
      "model_module": "@jupyter-widgets/controls",
      "model_module_version": "1.5.0",
      "model_name": "ButtonModel",
      "state": {
       "description": "Change Direction",
       "disabled": true,
       "layout": "IPY_MODEL_f3c5e99a411b4b509ad5448870517fb5",
       "style": "IPY_MODEL_48aba4ed1f494263905a44633ea15b21"
      }
     },
     "12718e81212344c7bad114e102dc8b5c": {
      "model_module": "@jupyter-widgets/base",
      "model_module_version": "1.2.0",
      "model_name": "LayoutModel",
      "state": {}
     },
     "127192c0b134495f9f9fe6460497dd2d": {
      "model_module": "jupyter-cytoscape",
      "model_module_version": "^1.2.2",
      "model_name": "NodeModel",
      "state": {
       "_model_module_version": "^1.2.2",
       "_view_module_version": "^1.2.2",
       "data": {
        "id": "cylinders",
        "label": "cylinders"
       },
       "grabbable": true,
       "grabbed": false,
       "position": {
        "x": 433.0988645297568,
        "y": 243.59005208886958
       },
       "selectable": false
      }
     },
     "12b77d83529f4e19a5d9903358657d1a": {
      "model_module": "@jupyter-widgets/controls",
      "model_module_version": "1.5.0",
      "model_name": "ButtonStyleModel",
      "state": {}
     },
     "12bcd8b04ebc4df98c759b1d43ff30dc": {
      "model_module": "@jupyter-widgets/base",
      "model_module_version": "1.2.0",
      "model_name": "LayoutModel",
      "state": {}
     },
     "12e7e4ee3fa04d61b44aa0db4ad00c3c": {
      "model_module": "@jupyter-widgets/controls",
      "model_module_version": "1.5.0",
      "model_name": "ButtonModel",
      "state": {
       "description": "red edges",
       "layout": "IPY_MODEL_cf0318474f00428f9e4b25eeef2fc394",
       "style": "IPY_MODEL_f9a949b503044e2fb6840e0cc2def4ec"
      }
     },
     "12f503c621a7464e8328eae937457c33": {
      "model_module": "jupyter-cytoscape",
      "model_module_version": "^1.2.2",
      "model_name": "NodeModel",
      "state": {
       "_model_module_version": "^1.2.2",
       "_view_module_version": "^1.2.2",
       "data": {
        "id": "model_year",
        "label": "model_year"
       },
       "grabbable": true,
       "grabbed": false,
       "position": {
        "x": 472.6355423344973,
        "y": 321.5276078825131
       },
       "selectable": false
      }
     },
     "132d80dd3dd6449d83be4c58062012d0": {
      "model_module": "jupyter-cytoscape",
      "model_module_version": "^1.2.2",
      "model_name": "EdgeModel",
      "state": {
       "_model_module_version": "^1.2.2",
       "_view_module_version": "^1.2.2",
       "classes": " directed  multiple_edges ",
       "data": {
        "id": "weight_mpg",
        "source": "weight",
        "target": "mpg"
       },
       "selectable": false
      }
     },
     "133fa98cc6c34a408de6f3a0c20f025f": {
      "model_module": "@jupyter-widgets/base",
      "model_module_version": "1.2.0",
      "model_name": "LayoutModel",
      "state": {}
     },
     "1380f6ca55904d049c465db391597b4f": {
      "model_module": "jupyter-cytoscape",
      "model_module_version": "^1.2.2",
      "model_name": "NodeModel",
      "state": {
       "_model_module_version": "^1.2.2",
       "_view_module_version": "^1.2.2",
       "data": {
        "id": "weight",
        "label": "weight"
       },
       "grabbable": true,
       "grabbed": false,
       "position": {
        "x": 768.9397278953298,
        "y": 217.53500807231808
       },
       "removed": true,
       "selectable": false
      }
     },
     "1389de3598c94394b568a510610db69a": {
      "model_module": "jupyter-cytoscape",
      "model_module_version": "^1.2.2",
      "model_name": "EdgeModel",
      "state": {
       "_model_module_version": "^1.2.2",
       "_view_module_version": "^1.2.2",
       "classes": " directed  multiple_edges ",
       "data": {
        "id": "horsepower_acceleration",
        "source": "horsepower",
        "target": "acceleration"
       },
       "removed": true,
       "selectable": false
      }
     },
     "139406a9d0614924908d236621439bad": {
      "model_module": "jupyter-cytoscape",
      "model_module_version": "^1.2.2",
      "model_name": "EdgeModel",
      "state": {
       "_model_module_version": "^1.2.2",
       "_view_module_version": "^1.2.2",
       "classes": " directed  multiple_edges ",
       "data": {
        "id": "weight_acceleration",
        "source": "weight",
        "target": "acceleration"
       },
       "selectable": false
      }
     },
     "139e46ab6c2d4dfb874eb9c4649ee728": {
      "model_module": "@jupyter-widgets/controls",
      "model_module_version": "1.5.0",
      "model_name": "ButtonStyleModel",
      "state": {}
     },
     "13a5fe84ff3a438dbf9ffbfddef97556": {
      "model_module": "jupyter-cytoscape",
      "model_module_version": "^1.2.2",
      "model_name": "EdgeModel",
      "state": {
       "_model_module_version": "^1.2.2",
       "_view_module_version": "^1.2.2",
       "classes": " directed  multiple_edges ",
       "data": {
        "id": "displacement_weight",
        "source": "displacement",
        "target": "weight"
       },
       "selectable": false
      }
     },
     "13d9f80a59a648309e3fdf0a345173bf": {
      "model_module": "@jupyter-widgets/controls",
      "model_module_version": "1.5.0",
      "model_name": "ButtonStyleModel",
      "state": {}
     },
     "141ddcba9eae42d88cc5d53f35449a58": {
      "model_module": "@jupyter-widgets/controls",
      "model_module_version": "1.5.0",
      "model_name": "ButtonStyleModel",
      "state": {}
     },
     "143f534373f148d39a50985a0cea0282": {
      "model_module": "jupyter-cytoscape",
      "model_module_version": "^1.2.2",
      "model_name": "EdgeModel",
      "state": {
       "_model_module_version": "^1.2.2",
       "_view_module_version": "^1.2.2",
       "classes": " multiple_edges directed selected",
       "data": {
        "id": "origin_horsepower",
        "source": "origin",
        "target": "horsepower"
       },
       "removed": true,
       "selectable": false
      }
     },
     "1456df56a1a1409aa8977fcf101c083e": {
      "model_module": "jupyter-cytoscape",
      "model_module_version": "^1.2.2",
      "model_name": "EdgeModel",
      "state": {
       "_model_module_version": "^1.2.2",
       "_view_module_version": "^1.2.2",
       "classes": " directed  multiple_edges ",
       "data": {
        "id": "weight_mpg",
        "source": "weight",
        "target": "mpg"
       },
       "removed": true,
       "selectable": false
      }
     },
     "1456e5ade3e041f485dc22c80cafa6fa": {
      "model_module": "jupyter-cytoscape",
      "model_module_version": "^1.2.2",
      "model_name": "EdgeModel",
      "state": {
       "_model_module_version": "^1.2.2",
       "_view_module_version": "^1.2.2",
       "classes": " directed  multiple_edges ",
       "data": {
        "id": "displacement_cylinders",
        "source": "displacement",
        "target": "cylinders"
       },
       "selectable": false
      }
     },
     "14681ab8b08448ffb335a932a9278435": {
      "model_module": "jupyter-cytoscape",
      "model_module_version": "^1.2.2",
      "model_name": "EdgeModel",
      "state": {
       "_model_module_version": "^1.2.2",
       "_view_module_version": "^1.2.2",
       "classes": " directed  multiple_edges ",
       "data": {
        "id": "model_year_mpg",
        "source": "model_year",
        "target": "mpg"
       },
       "selectable": false
      }
     },
     "14a584442cf6478f8241ca4e613ecabf": {
      "model_module": "jupyter-cytoscape",
      "model_module_version": "^1.2.2",
      "model_name": "GraphModel",
      "state": {
       "_adj": {},
       "_model_module_version": "^1.2.2",
       "_view_module": "jupyter-cytoscape",
       "_view_module_version": "^1.2.2"
      }
     },
     "1516c66c856142b7a493d34c94a17840": {
      "model_module": "jupyter-cytoscape",
      "model_module_version": "^1.2.2",
      "model_name": "EdgeModel",
      "state": {
       "_model_module_version": "^1.2.2",
       "_view_module_version": "^1.2.2",
       "classes": " directed  multiple_edges ",
       "data": {
        "id": "displacement_weight",
        "source": "displacement",
        "target": "weight"
       },
       "removed": true,
       "selectable": false
      }
     },
     "1525a063a9db435d9e3125d0dfc6f9e6": {
      "model_module": "jupyter-cytoscape",
      "model_module_version": "^1.2.2",
      "model_name": "NodeModel",
      "state": {
       "_model_module_version": "^1.2.2",
       "_view_module_version": "^1.2.2",
       "data": {
        "id": "mpg",
        "label": "mpg"
       },
       "grabbable": true,
       "grabbed": false,
       "position": {
        "x": 604.8409436213743,
        "y": 147.15280318553792
       },
       "selectable": false
      }
     },
     "153a043687e4482a901a3f524f234b11": {
      "model_module": "jupyter-cytoscape",
      "model_module_version": "^1.2.2",
      "model_name": "EdgeModel",
      "state": {
       "_model_module_version": "^1.2.2",
       "_view_module_version": "^1.2.2",
       "classes": " directed  multiple_edges ",
       "data": {
        "id": "displacement_weight",
        "source": "displacement",
        "target": "weight"
       },
       "selectable": false
      }
     },
     "15411d17c5a24879a28ab90151476f33": {
      "model_module": "jupyter-cytoscape",
      "model_module_version": "^1.2.2",
      "model_name": "GraphModel",
      "state": {
       "_adj": {},
       "_model_module_version": "^1.2.2",
       "_view_module": "jupyter-cytoscape",
       "_view_module_version": "^1.2.2"
      }
     },
     "1595ca7b6f314efaa9b11ffdf013b802": {
      "model_module": "@jupyter-widgets/base",
      "model_module_version": "1.2.0",
      "model_name": "LayoutModel",
      "state": {}
     },
     "1596348b69b549a3b0ee3eb070db27a3": {
      "model_module": "jupyter-cytoscape",
      "model_module_version": "^1.2.2",
      "model_name": "NodeModel",
      "state": {
       "_model_module_version": "^1.2.2",
       "_view_module_version": "^1.2.2",
       "data": {
        "id": "weight",
        "label": "weight"
       },
       "grabbable": true,
       "grabbed": false,
       "position": {
        "x": 1147.1038596983974,
        "y": 255.94921684087447
       },
       "selectable": false
      }
     },
     "15cae9869a8d49b7a5f98429615a16a8": {
      "model_module": "jupyter-cytoscape",
      "model_module_version": "^1.2.2",
      "model_name": "NodeModel",
      "state": {
       "_model_module_version": "^1.2.2",
       "_view_module_version": "^1.2.2",
       "data": {
        "id": "mpg",
        "label": "mpg"
       },
       "grabbable": true,
       "grabbed": false,
       "position": {
        "x": 1007.3215469105813,
        "y": 71.32636464484067
       },
       "removed": true,
       "selectable": false
      }
     },
     "15f80d3076e14aa79d9b13375de23477": {
      "model_module": "@jupyter-widgets/controls",
      "model_module_version": "1.5.0",
      "model_name": "ButtonStyleModel",
      "state": {}
     },
     "15fd9236686041a4a9b635f61d21fa91": {
      "model_module": "jupyter-cytoscape",
      "model_module_version": "^1.2.2",
      "model_name": "EdgeModel",
      "state": {
       "_model_module_version": "^1.2.2",
       "_view_module_version": "^1.2.2",
       "classes": " directed  multiple_edges ",
       "data": {
        "id": "weight_mpg",
        "source": "weight",
        "target": "mpg"
       },
       "selectable": false
      }
     },
     "1646879dbf204354bd0e223367c9cadc": {
      "model_module": "jupyter-cytoscape",
      "model_module_version": "^1.2.2",
      "model_name": "EdgeModel",
      "state": {
       "_model_module_version": "^1.2.2",
       "_view_module_version": "^1.2.2",
       "classes": " directed  multiple_edges ",
       "data": {
        "id": "origin_horsepower",
        "source": "origin",
        "target": "horsepower"
       },
       "removed": true,
       "selectable": false
      }
     },
     "1646bdc20d1f4dddb143e7be868549d6": {
      "model_module": "jupyter-cytoscape",
      "model_module_version": "^1.2.2",
      "model_name": "NodeModel",
      "state": {
       "_model_module_version": "^1.2.2",
       "_view_module_version": "^1.2.2",
       "data": {
        "id": "weight",
        "label": "weight"
       },
       "grabbable": true,
       "grabbed": false,
       "position": {
        "x": 986.9397278953298,
        "y": 217.53500807231845
       },
       "removed": true,
       "selectable": false
      }
     },
     "164caaed34254732a4183a772f332a89": {
      "model_module": "@jupyter-widgets/output",
      "model_module_version": "1.0.0",
      "model_name": "OutputModel",
      "state": {
       "layout": "IPY_MODEL_ed8e6bc5b0f64e458b8241973e0e4c60"
      }
     },
     "16551df2ac5d468dbb563e082a3557e6": {
      "model_module": "jupyter-cytoscape",
      "model_module_version": "^1.2.2",
      "model_name": "NodeModel",
      "state": {
       "_model_module_version": "^1.2.2",
       "_view_module_version": "^1.2.2",
       "data": {
        "id": "horsepower",
        "label": "horsepower"
       },
       "grabbable": true,
       "grabbed": false,
       "position": {
        "x": 985.2260068647391,
        "y": 275.4799684084076
       },
       "removed": true,
       "selectable": false
      }
     },
     "1662df46a3ab457eb5e94909b7d42954": {
      "model_module": "jupyter-cytoscape",
      "model_module_version": "^1.2.2",
      "model_name": "EdgeModel",
      "state": {
       "_model_module_version": "^1.2.2",
       "_view_module_version": "^1.2.2",
       "classes": " directed  multiple_edges ",
       "data": {
        "id": "model_year_cylinders",
        "source": "model_year",
        "target": "cylinders"
       },
       "selectable": false
      }
     },
     "169bab68fc294ab4867958195d4216a1": {
      "model_module": "jupyter-cytoscape",
      "model_module_version": "^1.2.2",
      "model_name": "EdgeModel",
      "state": {
       "_model_module_version": "^1.2.2",
       "_view_module_version": "^1.2.2",
       "classes": " directed  multiple_edges ",
       "data": {
        "id": "displacement_origin",
        "source": "displacement",
        "target": "origin"
       },
       "selectable": false
      }
     },
     "16be9767f9474f6f8399ee323f1e3290": {
      "model_module": "@jupyter-widgets/controls",
      "model_module_version": "1.5.0",
      "model_name": "ButtonStyleModel",
      "state": {}
     },
     "16fe6723f16c4d42a76be52de0e6d534": {
      "model_module": "@jupyter-widgets/base",
      "model_module_version": "1.2.0",
      "model_name": "LayoutModel",
      "state": {}
     },
     "17103e3253d54ef3bb0cd8fe52470bef": {
      "model_module": "@jupyter-widgets/controls",
      "model_module_version": "1.5.0",
      "model_name": "ButtonModel",
      "state": {
       "description": "Change Direction",
       "disabled": true,
       "layout": "IPY_MODEL_efd64749dfe64ee2929105a61fd009f0",
       "style": "IPY_MODEL_e3b18624b9f14fe38ca477b534f0feea"
      }
     },
     "173b691222f94dd084448cd38e14f95a": {
      "model_module": "jupyter-cytoscape",
      "model_module_version": "^1.2.2",
      "model_name": "EdgeModel",
      "state": {
       "_model_module_version": "^1.2.2",
       "_view_module_version": "^1.2.2",
       "classes": " directed  multiple_edges ",
       "data": {
        "id": "model_year_mpg",
        "source": "model_year",
        "target": "mpg"
       },
       "selectable": false
      }
     },
     "174b84dee8a24ef6a12f2c452904d281": {
      "model_module": "@jupyter-widgets/base",
      "model_module_version": "1.2.0",
      "model_name": "LayoutModel",
      "state": {}
     },
     "17a1826b423e4d4e985bc9de518b0e01": {
      "model_module": "@jupyter-widgets/controls",
      "model_module_version": "1.5.0",
      "model_name": "ButtonStyleModel",
      "state": {}
     },
     "17a998bc84034a9b9846381056ae48e5": {
      "model_module": "@jupyter-widgets/output",
      "model_module_version": "1.0.0",
      "model_name": "OutputModel",
      "state": {
       "layout": "IPY_MODEL_23644899ee3a4b7ca4c3515f1a9761bd"
      }
     },
     "17bd61aa91304db9bf3611c40ee9a98e": {
      "model_module": "jupyter-cytoscape",
      "model_module_version": "^1.2.2",
      "model_name": "EdgeModel",
      "state": {
       "_model_module_version": "^1.2.2",
       "_view_module_version": "^1.2.2",
       "classes": " directed  multiple_edges ",
       "data": {
        "id": "weight_mpg",
        "source": "weight",
        "target": "mpg"
       },
       "selectable": false
      }
     },
     "17c012a84bc4447286fc494b53effb42": {
      "model_module": "jupyter-cytoscape",
      "model_module_version": "^1.2.2",
      "model_name": "GraphModel",
      "state": {
       "_adj": {
        "acceleration": {},
        "cylinders": {},
        "displacement": {},
        "horsepower": {},
        "model_year": {},
        "mpg": {},
        "origin": {},
        "weight": {}
       },
       "_model_module_version": "^1.2.2",
       "_view_module": "jupyter-cytoscape",
       "_view_module_version": "^1.2.2",
       "edges": [
        "IPY_MODEL_3c0766e2c479439b9a0e398bc7988ea0",
        "IPY_MODEL_4b4a123e5a0245179c9715691c6e063b",
        "IPY_MODEL_ff7fee0c3a6d48bdbbc000c87cc7f13d",
        "IPY_MODEL_d45160ed1a174560bb71eb116187a668",
        "IPY_MODEL_e4ca03588c8f4b258b6545e315ff9ad7",
        "IPY_MODEL_e6cd1594a8f14b81b34ae5c7c68dea8d",
        "IPY_MODEL_cb7d09715b6042e9b4371bc2043ca0cf",
        "IPY_MODEL_fd9a82b1716e40f290456681fd0ce6f5",
        "IPY_MODEL_5f3653a977ee476dad19c4236ef7266b",
        "IPY_MODEL_b430b17e5dc74fa39ef148fa958e5299",
        "IPY_MODEL_72428bf52df349edb87aaebbb26a3bf7",
        "IPY_MODEL_8e72d0d81d70435fb9a8df54dc7390b8",
        "IPY_MODEL_35112f8195af4ef682174846406044d0",
        "IPY_MODEL_2300b9d3b1304d61b1f0a77a02d27338",
        "IPY_MODEL_a5b11827496e4f04a5f84cf564a6b9f0",
        "IPY_MODEL_d62b1145fe8b45b193e2f164c0fff3d2"
       ],
       "nodes": [
        "IPY_MODEL_c60c0de541b347478708b17e33145636",
        "IPY_MODEL_2d7efca366e94fd9912a7bf79abb56ca",
        "IPY_MODEL_9b483ca43ac24ced91cd293bf19059dc",
        "IPY_MODEL_bd42f5f3e5074d9c827c2cffb3e0f998",
        "IPY_MODEL_e4c4cf900b96435da44139072eae70c5",
        "IPY_MODEL_7f397fe82b78477692eac68ddae282d4",
        "IPY_MODEL_be4a4252e4544ac188ead3831cdf37a7",
        "IPY_MODEL_56827838c425424790334301fd87a260"
       ]
      }
     },
     "183b8e299e4d40fd9d958b949f35c378": {
      "model_module": "jupyter-cytoscape",
      "model_module_version": "^1.2.2",
      "model_name": "EdgeModel",
      "state": {
       "_model_module_version": "^1.2.2",
       "_view_module_version": "^1.2.2",
       "classes": " directed  multiple_edges ",
       "data": {
        "id": "weight_mpg",
        "source": "weight",
        "target": "mpg"
       },
       "selectable": false
      }
     },
     "185c8371d0124fc38b985e538a06ea74": {
      "model_module": "jupyter-cytoscape",
      "model_module_version": "^1.2.2",
      "model_name": "EdgeModel",
      "state": {
       "_model_module_version": "^1.2.2",
       "_view_module_version": "^1.2.2",
       "classes": " directed  multiple_edges ",
       "data": {
        "id": "weight_acceleration",
        "source": "weight",
        "target": "acceleration"
       },
       "removed": true,
       "selectable": false
      }
     },
     "189ed7e62b734682a0f90c5fba1ca5b1": {
      "model_module": "jupyter-cytoscape",
      "model_module_version": "^1.2.2",
      "model_name": "NodeModel",
      "state": {
       "_model_module_version": "^1.2.2",
       "_view_module_version": "^1.2.2",
       "data": {
        "id": "cylinders",
        "label": "cylinders"
       },
       "grabbable": true,
       "grabbed": false,
       "position": {
        "x": 983.0949511467562,
        "y": 298.226546468093
       },
       "removed": true,
       "selectable": false
      }
     },
     "18d63226e02546d0a563fa0fde67ae7e": {
      "model_module": "jupyter-cytoscape",
      "model_module_version": "^1.2.2",
      "model_name": "NodeModel",
      "state": {
       "_model_module_version": "^1.2.2",
       "_view_module_version": "^1.2.2",
       "data": {
        "id": "cylinders",
        "label": "cylinders"
       },
       "grabbable": true,
       "grabbed": false,
       "position": {
        "x": 865.4096034933356,
        "y": 304.1420619769289
       },
       "selectable": false
      }
     },
     "18f6279631d94958a3d7f790ff0a7961": {
      "model_module": "jupyter-cytoscape",
      "model_module_version": "^1.2.2",
      "model_name": "EdgeModel",
      "state": {
       "_model_module_version": "^1.2.2",
       "_view_module_version": "^1.2.2",
       "classes": " directed  multiple_edges ",
       "data": {
        "id": "displacement_origin",
        "source": "displacement",
        "target": "origin"
       },
       "removed": true,
       "selectable": false
      }
     },
     "1941b0707a464bfd8adb7b6a320a1100": {
      "model_module": "jupyter-cytoscape",
      "model_module_version": "^1.2.2",
      "model_name": "EdgeModel",
      "state": {
       "_model_module_version": "^1.2.2",
       "_view_module_version": "^1.2.2",
       "classes": " directed  multiple_edges ",
       "data": {
        "id": "model_year_weight",
        "source": "model_year",
        "target": "weight"
       },
       "removed": true,
       "selectable": false
      }
     },
     "194a86cc99a04cfe8da3c694d16db238": {
      "model_module": "@jupyter-widgets/controls",
      "model_module_version": "1.5.0",
      "model_name": "ButtonModel",
      "state": {
       "description": "Generate original graph",
       "layout": "IPY_MODEL_a9a2e0961a1a48158264d15e1957c6ce",
       "style": "IPY_MODEL_eeadd5149a3749eda8a6bd2af34e601f"
      }
     },
     "19547187257845438388253d17f7ef17": {
      "model_module": "jupyter-cytoscape",
      "model_module_version": "^1.2.2",
      "model_name": "GraphModel",
      "state": {
       "_adj": {
        "acceleration": {},
        "cylinders": {},
        "displacement": {},
        "horsepower": {},
        "model_year": {},
        "mpg": {},
        "origin": {},
        "weight": {}
       },
       "_model_module_version": "^1.2.2",
       "_view_module": "jupyter-cytoscape",
       "_view_module_version": "^1.2.2",
       "edges": [
        "IPY_MODEL_96df237a9cda4915afa6b8b896810711",
        "IPY_MODEL_5cd0df64ddb54e629d648ee07a32f38b",
        "IPY_MODEL_d785bd7fbce747418e59b532c7f55fde",
        "IPY_MODEL_8932e789bd2d4032b1c4234885b9daf7",
        "IPY_MODEL_5514a22afe354e9ca54174350a5a9962",
        "IPY_MODEL_11153520022d486489f246a0a593336c",
        "IPY_MODEL_77a28b7e871741a49e19b4d2ac683504",
        "IPY_MODEL_9bcd4ba8a2ea4d9a90b68c5c08eac1ac",
        "IPY_MODEL_bf3b636e350e4c68a57ee07274680d40",
        "IPY_MODEL_f4b3a2662a604db89cd949381815e75b",
        "IPY_MODEL_b9c7e794cc3e4dec95089ee9a35eab25"
       ],
       "nodes": [
        "IPY_MODEL_4eae40db2e0044748325d88d6ca763c0",
        "IPY_MODEL_adeeafd3a7864d59ae52449ad894f15c",
        "IPY_MODEL_0a1fd55f9d0c429fbe73972d2fc48b17",
        "IPY_MODEL_f498ad8333cb4675b9066610620c36e2",
        "IPY_MODEL_85bef3b777da42939e8e66c8a356f751",
        "IPY_MODEL_c0cd415a0ffc421eacfc5ca98ad45a30",
        "IPY_MODEL_77cadc46a98c4ae2927fe9881ac6441c",
        "IPY_MODEL_7f4b286e11c74346a00510c988874269"
       ]
      }
     },
     "19675b5e29984fdbacbd496243d20943": {
      "model_module": "jupyter-cytoscape",
      "model_module_version": "^1.2.2",
      "model_name": "NodeModel",
      "state": {
       "_model_module_version": "^1.2.2",
       "_view_module_version": "^1.2.2",
       "data": {
        "id": "weight",
        "label": "weight"
       },
       "grabbable": true,
       "grabbed": false,
       "position": {
        "x": 644.1038596983955,
        "y": 255.9492168408747
       },
       "selectable": false
      }
     },
     "197ef12ec5c84b239af727077a203552": {
      "model_module": "jupyter-cytoscape",
      "model_module_version": "^1.2.2",
      "model_name": "NodeModel",
      "state": {
       "_model_module_version": "^1.2.2",
       "_view_module_version": "^1.2.2",
       "data": {
        "id": "cylinders",
        "label": "cylinders"
       },
       "grabbable": true,
       "grabbed": false,
       "position": {
        "x": 433.0988645297568,
        "y": 243.59005208886958
       },
       "selectable": false
      }
     },
     "19910525fa2f4200a1a8818ee4ae1cdc": {
      "model_module": "jupyter-cytoscape",
      "model_module_version": "^1.2.2",
      "model_name": "NodeModel",
      "state": {
       "_model_module_version": "^1.2.2",
       "_view_module_version": "^1.2.2",
       "data": {
        "id": "origin",
        "label": "origin"
       },
       "grabbable": true,
       "grabbed": false,
       "position": {
        "x": 995.7354850880891,
        "y": 163.5432082464874
       },
       "selectable": false
      }
     },
     "19d2ac2dbb9443af875b6d383a1abf24": {
      "model_module": "jupyter-cytoscape",
      "model_module_version": "^1.2.2",
      "model_name": "NodeModel",
      "state": {
       "_model_module_version": "^1.2.2",
       "_view_module_version": "^1.2.2",
       "data": {
        "id": "cylinders",
        "label": "cylinders"
       },
       "grabbable": true,
       "grabbed": false,
       "position": {
        "x": 936.0988645297588,
        "y": 243.59005208886956
       },
       "selectable": false
      }
     },
     "19d58ce264c84e5a84850b2d6268f7ae": {
      "model_module": "jupyter-cytoscape",
      "model_module_version": "^1.2.2",
      "model_name": "EdgeModel",
      "state": {
       "_model_module_version": "^1.2.2",
       "_view_module_version": "^1.2.2",
       "classes": " directed  multiple_edges ",
       "data": {
        "id": "horsepower_acceleration",
        "source": "horsepower",
        "target": "acceleration"
       },
       "selectable": false
      }
     },
     "1a33df7d878d4797bd3f4759b846cf63": {
      "model_module": "@jupyter-widgets/controls",
      "model_module_version": "1.5.0",
      "model_name": "ButtonModel",
      "state": {
       "description": "Delete Edge",
       "disabled": true,
       "layout": "IPY_MODEL_b48ad07aaac54457a9eef4468e08beeb",
       "style": "IPY_MODEL_2d900515e1024dba9a9e02537a68672c"
      }
     },
     "1ac7b7ff57644447839f8f12f95daab3": {
      "model_module": "@jupyter-widgets/base",
      "model_module_version": "1.2.0",
      "model_name": "LayoutModel",
      "state": {}
     },
     "1b39d9b630a84f1aa499c319e7e8ee09": {
      "model_module": "jupyter-cytoscape",
      "model_module_version": "^1.2.2",
      "model_name": "EdgeModel",
      "state": {
       "_model_module_version": "^1.2.2",
       "_view_module_version": "^1.2.2",
       "classes": " directed  multiple_edges ",
       "data": {
        "id": "displacement_origin",
        "source": "displacement",
        "target": "origin"
       },
       "removed": true,
       "selectable": false
      }
     },
     "1b3bc3865e774a24b92ecc55d27723fa": {
      "model_module": "jupyter-cytoscape",
      "model_module_version": "^1.2.2",
      "model_name": "NodeModel",
      "state": {
       "_model_module_version": "^1.2.2",
       "_view_module_version": "^1.2.2",
       "data": {
        "id": "cylinders",
        "label": "cylinders"
       },
       "grabbable": true,
       "grabbed": false,
       "position": {
        "x": 795.4474791279353,
        "y": 284.8240606871562
       },
       "removed": true,
       "selectable": false
      }
     },
     "1b5275b823e8482c83c6e757e74829b5": {
      "model_module": "jupyter-cytoscape",
      "model_module_version": "^1.2.2",
      "model_name": "NodeModel",
      "state": {
       "_model_module_version": "^1.2.2",
       "_view_module_version": "^1.2.2",
       "data": {
        "id": "cylinders",
        "label": "cylinders"
       },
       "grabbable": true,
       "grabbed": false,
       "position": {
        "x": 879.8199508223781,
        "y": 23.746562177895534
       },
       "selectable": false
      }
     },
     "1b69e39dcc6e4dc1ac6088e9bb91875c": {
      "model_module": "jupyter-cytoscape",
      "model_module_version": "^1.2.2",
      "model_name": "NodeModel",
      "state": {
       "_model_module_version": "^1.2.2",
       "_view_module_version": "^1.2.2",
       "data": {
        "id": "acceleration",
        "label": "acceleration"
       },
       "grabbable": true,
       "grabbed": false,
       "position": {
        "x": 598.6565740712615,
        "y": 336.3251878079987
       },
       "selectable": false
      }
     },
     "1b7aa530853c4252a8b05440f14b088c": {
      "model_module": "@jupyter-widgets/base",
      "model_module_version": "1.2.0",
      "model_name": "LayoutModel",
      "state": {}
     },
     "1b7f1247359a4303a98ed56aa8bd4c99": {
      "model_module": "@jupyter-widgets/controls",
      "model_module_version": "1.5.0",
      "model_name": "ButtonStyleModel",
      "state": {}
     },
     "1bbb55b147fc4ae0b785695519bf2684": {
      "model_module": "jupyter-cytoscape",
      "model_module_version": "^1.2.2",
      "model_name": "NodeModel",
      "state": {
       "_model_module_version": "^1.2.2",
       "_view_module_version": "^1.2.2",
       "data": {
        "id": "weight",
        "label": "weight"
       },
       "grabbable": true,
       "grabbed": false,
       "position": {
        "x": 528.285097976375,
        "y": 220.8064958794495
       },
       "selectable": false
      }
     },
     "1bfa983e2e1e4bef9dbd4b07200458f9": {
      "model_module": "jupyter-cytoscape",
      "model_module_version": "^1.2.2",
      "model_name": "EdgeModel",
      "state": {
       "_model_module_version": "^1.2.2",
       "_view_module_version": "^1.2.2",
       "classes": " directed  multiple_edges ",
       "data": {
        "id": "model_year_mpg",
        "source": "model_year",
        "target": "mpg"
       },
       "removed": true,
       "selectable": false
      }
     },
     "1bfd48aecd0d4ea7a2cd99c206da3f45": {
      "model_module": "@jupyter-widgets/controls",
      "model_module_version": "1.5.0",
      "model_name": "ButtonModel",
      "state": {
       "description": "Delete Edge",
       "disabled": true,
       "layout": "IPY_MODEL_4b32e4b1222442d8a55345dce61cf3aa",
       "style": "IPY_MODEL_4a2e3a67fe6d43b19d3bf07aaf75b519"
      }
     },
     "1c2ef21abdb24eda8a1fa9ba27901b5f": {
      "model_module": "@jupyter-widgets/controls",
      "model_module_version": "1.5.0",
      "model_name": "ButtonStyleModel",
      "state": {}
     },
     "1c753b22bdb846848048cc73d25b9f2b": {
      "model_module": "jupyter-cytoscape",
      "model_module_version": "^1.2.2",
      "model_name": "EdgeModel",
      "state": {
       "_model_module_version": "^1.2.2",
       "_view_module_version": "^1.2.2",
       "classes": " directed  multiple_edges ",
       "data": {
        "id": "weight_acceleration",
        "source": "weight",
        "target": "acceleration"
       },
       "removed": true,
       "selectable": false
      }
     },
     "1caaa1e8e05f41cfb0cf8fe768d6530d": {
      "model_module": "@jupyter-widgets/base",
      "model_module_version": "1.2.0",
      "model_name": "LayoutModel",
      "state": {}
     },
     "1cc01959d29843d58397f9f49a9e2b6d": {
      "model_module": "jupyter-cytoscape",
      "model_module_version": "^1.2.2",
      "model_name": "NodeModel",
      "state": {
       "_model_module_version": "^1.2.2",
       "_view_module_version": "^1.2.2",
       "data": {
        "id": "origin",
        "label": "origin"
       },
       "grabbable": true,
       "grabbed": false,
       "position": {
        "x": 816.3397312291651,
        "y": 165.17939780635567
       },
       "removed": true,
       "selectable": false
      }
     },
     "1cc58c6c027941a3b917af520f563993": {
      "model_module": "jupyter-cytoscape",
      "model_module_version": "^1.2.2",
      "model_name": "GraphModel",
      "state": {
       "_adj": {},
       "_model_module_version": "^1.2.2",
       "_view_module": "jupyter-cytoscape",
       "_view_module_version": "^1.2.2"
      }
     },
     "1ccb34487c1c4c4abb5e3aaddb4f468f": {
      "model_module": "jupyter-cytoscape",
      "model_module_version": "^1.2.2",
      "model_name": "GraphModel",
      "state": {
       "_adj": {},
       "_model_module_version": "^1.2.2",
       "_view_module": "jupyter-cytoscape",
       "_view_module_version": "^1.2.2"
      }
     },
     "1cebbf34e9134182a05c8ebd87e05a08": {
      "model_module": "jupyter-cytoscape",
      "model_module_version": "^1.2.2",
      "model_name": "CytoscapeModel",
      "state": {
       "_interaction_handlers": {
        "edge": [
         "click"
        ],
        "node": [
         "click"
        ]
       },
       "_model_module_version": "^1.2.2",
       "_view_module_version": "^1.2.2",
       "auto_ungrabify": false,
       "autolock": false,
       "cytoscape_layout": {
        "name": "cola"
       },
       "cytoscape_style": [
        {
         "selector": "node",
         "style": {
          "background-color": "blue",
          "font-family": "arial",
          "font-size": "10px",
          "label": "data(label)"
         }
        },
        {
         "selector": "edge",
         "style": {
          "curve-style": "bezier",
          "line-color": "#9dbaea",
          "target-arrow-color": "#9dbaea",
          "target-arrow-shape": "triangle",
          "width": 4
         }
        },
        {
         "css": {
          "line-color": "red"
         },
         "selector": "edge.selected"
        },
        {
         "css": {
          "background-color": "red"
         },
         "selector": "node.selected"
        }
       ],
       "desktop_tap_threshold": 4,
       "graph": "IPY_MODEL_dfd19bce9ddf406e9e766af6ff324e4f",
       "headless": false,
       "hide_edges_on_viewport": false,
       "layout": "IPY_MODEL_07f94e130c24428c970cf8386200b5dd",
       "max_zoom": 1e+50,
       "min_zoom": 1e-50,
       "motion_blur": false,
       "motion_blur_opacity": 0.2,
       "panning_enabled": true,
       "pixel_ratio": "auto",
       "rendered_position": {
        "renderedPosition": {
         "x": 100,
         "y": 100
        }
       },
       "selection_type": "single",
       "style_enabled": true,
       "texture_on_viewport": false,
       "tooltip_source": "tooltip",
       "touch_tap_threshold": 8,
       "user_panning_enabled": true,
       "user_zooming_enabled": true,
       "wheel_sensitivity": 1,
       "zoom": 2,
       "zooming_enabled": true
      }
     },
     "1d14f107730a4536b505ae571f20cbee": {
      "model_module": "jupyter-cytoscape",
      "model_module_version": "^1.2.2",
      "model_name": "EdgeModel",
      "state": {
       "_model_module_version": "^1.2.2",
       "_view_module_version": "^1.2.2",
       "classes": " directed  multiple_edges ",
       "data": {
        "id": "origin_horsepower",
        "source": "origin",
        "target": "horsepower"
       },
       "removed": true,
       "selectable": false
      }
     },
     "1d5cfa48d6774561a7200f82ca93e049": {
      "model_module": "@jupyter-widgets/controls",
      "model_module_version": "1.5.0",
      "model_name": "ButtonStyleModel",
      "state": {}
     },
     "1d70c5b237924ebaab2721825c73c080": {
      "model_module": "@jupyter-widgets/controls",
      "model_module_version": "1.5.0",
      "model_name": "ButtonModel",
      "state": {
       "description": "Generate original graph",
       "layout": "IPY_MODEL_066c69badc894677aea391a3e3285096",
       "style": "IPY_MODEL_0c0eaf3ab7034ad49b297bdcc462aae4"
      }
     },
     "1d7bb7633ee44abf8206b0bc333ca325": {
      "model_module": "jupyter-cytoscape",
      "model_module_version": "^1.2.2",
      "model_name": "NodeModel",
      "state": {
       "_model_module_version": "^1.2.2",
       "_view_module_version": "^1.2.2",
       "data": {
        "id": "displacement",
        "label": "displacement"
       },
       "grabbable": true,
       "grabbed": false,
       "position": {
        "x": 509.3412849858755,
        "y": 284.2475693169692
       },
       "selectable": false
      }
     },
     "1d7cd0e912654cb0864271a2a0590b98": {
      "model_module": "jupyter-cytoscape",
      "model_module_version": "^1.2.2",
      "model_name": "NodeModel",
      "state": {
       "_model_module_version": "^1.2.2",
       "_view_module_version": "^1.2.2",
       "data": {
        "id": "cylinders",
        "label": "cylinders"
       },
       "grabbable": true,
       "grabbed": false,
       "position": {
        "x": 433.0988645297568,
        "y": 243.59005208886958
       },
       "selectable": false
      }
     },
     "1d8a7cfe301145798abccb5b502b232a": {
      "model_module": "jupyter-cytoscape",
      "model_module_version": "^1.2.2",
      "model_name": "EdgeModel",
      "state": {
       "_model_module_version": "^1.2.2",
       "_view_module_version": "^1.2.2",
       "classes": " directed  multiple_edges ",
       "data": {
        "id": "cylinders_displacement",
        "source": "cylinders",
        "target": "displacement"
       },
       "removed": true,
       "selectable": false
      }
     },
     "1d9b940bfa834a639888fc0f137ed5f4": {
      "model_module": "jupyter-cytoscape",
      "model_module_version": "^1.2.2",
      "model_name": "NodeModel",
      "state": {
       "_model_module_version": "^1.2.2",
       "_view_module_version": "^1.2.2",
       "data": {
        "id": "horsepower",
        "label": "horsepower"
       },
       "grabbable": true,
       "grabbed": false,
       "position": {
        "x": 1138.9604756153049,
        "y": 129.11663644100295
       },
       "selectable": false
      }
     },
     "1d9c474523494ac885fb39d0c608bf8c": {
      "model_module": "@jupyter-widgets/controls",
      "model_module_version": "1.5.0",
      "model_name": "ButtonModel",
      "state": {
       "description": "Generate original graph",
       "layout": "IPY_MODEL_07c7e561ff814e5f87d46317436ff6b3",
       "style": "IPY_MODEL_94e206baf459475f90453072c56296da"
      }
     },
     "1deb4da13ea044cb8f5b5c0f2ea11035": {
      "model_module": "jupyter-cytoscape",
      "model_module_version": "^1.2.2",
      "model_name": "EdgeModel",
      "state": {
       "_model_module_version": "^1.2.2",
       "_view_module_version": "^1.2.2",
       "classes": " directed  multiple_edges ",
       "data": {
        "id": "displacement_weight",
        "source": "displacement",
        "target": "weight"
       },
       "removed": true,
       "selectable": false
      }
     },
     "1dfa71bd167645468e89c2dcfcbd1f52": {
      "model_module": "jupyter-cytoscape",
      "model_module_version": "^1.2.2",
      "model_name": "EdgeModel",
      "state": {
       "_model_module_version": "^1.2.2",
       "_view_module_version": "^1.2.2",
       "classes": " directed  multiple_edges ",
       "data": {
        "id": "displacement_weight",
        "source": "displacement",
        "target": "weight"
       },
       "selectable": false
      }
     },
     "1e021f19f89c4b1eb192ef57a2a08ce1": {
      "model_module": "jupyter-cytoscape",
      "model_module_version": "^1.2.2",
      "model_name": "NodeModel",
      "state": {
       "_model_module_version": "^1.2.2",
       "_view_module_version": "^1.2.2",
       "data": {
        "id": "model_year",
        "label": "model_year"
       },
       "grabbable": true,
       "grabbed": false,
       "position": {
        "x": 428.6821168512669,
        "y": 417.11330408770385
       },
       "selectable": false
      }
     },
     "1e164a5efa2c4563955e1b19a795d16e": {
      "model_module": "jupyter-cytoscape",
      "model_module_version": "^1.2.2",
      "model_name": "EdgeModel",
      "state": {
       "_model_module_version": "^1.2.2",
       "_view_module_version": "^1.2.2",
       "classes": " directed  multiple_edges ",
       "data": {
        "id": "displacement_weight",
        "source": "displacement",
        "target": "weight"
       },
       "selectable": false
      }
     },
     "1e28bb585a9b4379b91ff0b0802f4d9d": {
      "model_module": "@jupyter-widgets/base",
      "model_module_version": "1.2.0",
      "model_name": "LayoutModel",
      "state": {}
     },
     "1e6628e5f4f14bd08cf5f059a849f3ce": {
      "model_module": "jupyter-cytoscape",
      "model_module_version": "^1.2.2",
      "model_name": "EdgeModel",
      "state": {
       "_model_module_version": "^1.2.2",
       "_view_module_version": "^1.2.2",
       "classes": " directed  multiple_edges ",
       "data": {
        "id": "model_year_cylinders",
        "source": "model_year",
        "target": "cylinders"
       },
       "removed": true,
       "selectable": false
      }
     },
     "1e6b693fa85c4738afbf9ccb3b232858": {
      "model_module": "jupyter-cytoscape",
      "model_module_version": "^1.2.2",
      "model_name": "NodeModel",
      "state": {
       "_model_module_version": "^1.2.2",
       "_view_module_version": "^1.2.2",
       "data": {
        "id": "origin",
        "label": "origin"
       },
       "grabbable": true,
       "grabbed": false,
       "position": {
        "x": 994.6486811751338,
        "y": 125.00565671664653
       },
       "removed": true,
       "selectable": false
      }
     },
     "1ef64ecfbe5040ff9cbdbe69ee5c82d1": {
      "model_module": "jupyter-cytoscape",
      "model_module_version": "^1.2.2",
      "model_name": "EdgeModel",
      "state": {
       "_model_module_version": "^1.2.2",
       "_view_module_version": "^1.2.2",
       "classes": " directed  multiple_edges ",
       "data": {
        "id": "cylinders_origin",
        "source": "cylinders",
        "target": "origin"
       },
       "removed": true,
       "selectable": false
      }
     },
     "1efdcbdf8b01406498a487d3b1305e47": {
      "model_module": "jupyter-cytoscape",
      "model_module_version": "^1.2.2",
      "model_name": "EdgeModel",
      "state": {
       "_model_module_version": "^1.2.2",
       "_view_module_version": "^1.2.2",
       "classes": " directed  multiple_edges ",
       "data": {
        "id": "weight_mpg",
        "source": "weight",
        "target": "mpg"
       },
       "removed": true,
       "selectable": false
      }
     },
     "1f048c0f1fbf4292b508398817e8a780": {
      "model_module": "jupyter-cytoscape",
      "model_module_version": "^1.2.2",
      "model_name": "NodeModel",
      "state": {
       "_model_module_version": "^1.2.2",
       "_view_module_version": "^1.2.2",
       "data": {
        "id": "weight",
        "label": "weight"
       },
       "grabbable": true,
       "grabbed": false,
       "position": {
        "x": 644.1038596983955,
        "y": 255.9492168408747
       },
       "selectable": false
      }
     },
     "1f1a118a04764cc8881fdbb9fe7ea9ba": {
      "model_module": "jupyter-cytoscape",
      "model_module_version": "^1.2.2",
      "model_name": "NodeModel",
      "state": {
       "_model_module_version": "^1.2.2",
       "_view_module_version": "^1.2.2",
       "data": {
        "id": "displacement",
        "label": "displacement"
       },
       "grabbable": true,
       "grabbed": false,
       "position": {
        "x": 509.3412849858755,
        "y": 284.2475693169692
       },
       "selectable": false
      }
     },
     "1f41d7d8cf6b475493a24d5ad2eb33f8": {
      "model_module": "jupyter-cytoscape",
      "model_module_version": "^1.2.2",
      "model_name": "EdgeModel",
      "state": {
       "_model_module_version": "^1.2.2",
       "_view_module_version": "^1.2.2",
       "classes": " directed  multiple_edges ",
       "data": {
        "id": "displacement_cylinders",
        "source": "displacement",
        "target": "cylinders"
       },
       "removed": true,
       "selectable": false
      }
     },
     "1f75633c78714b0a827800583c51f505": {
      "model_module": "jupyter-cytoscape",
      "model_module_version": "^1.2.2",
      "model_name": "EdgeModel",
      "state": {
       "_model_module_version": "^1.2.2",
       "_view_module_version": "^1.2.2",
       "classes": " directed  multiple_edges ",
       "data": {
        "id": "mpg_origin",
        "source": "mpg",
        "target": "origin"
       },
       "selectable": false
      }
     },
     "1f86c52c4df94e8ca8d246d91ee28219": {
      "model_module": "@jupyter-widgets/controls",
      "model_module_version": "1.5.0",
      "model_name": "ButtonModel",
      "state": {
       "description": "Add Edge",
       "disabled": true,
       "layout": "IPY_MODEL_c8d28ca3d5d74d4dbe4e96cfcdf95064",
       "style": "IPY_MODEL_88c0f77967fd432f9832abd465446bd6"
      }
     },
     "1f90ff725c364990befe87980fb9eedd": {
      "model_module": "@jupyter-widgets/base",
      "model_module_version": "1.2.0",
      "model_name": "LayoutModel",
      "state": {}
     },
     "1fdfb9d9b3ec44b5ba57f06efb267168": {
      "model_module": "jupyter-cytoscape",
      "model_module_version": "^1.2.2",
      "model_name": "EdgeModel",
      "state": {
       "_model_module_version": "^1.2.2",
       "_view_module_version": "^1.2.2",
       "classes": " directed  multiple_edges ",
       "data": {
        "id": "cylinders_origin",
        "source": "cylinders",
        "target": "origin"
       },
       "removed": true,
       "selectable": false
      }
     },
     "201187fdfeaf4c90855a3da02c707a7e": {
      "model_module": "@jupyter-widgets/controls",
      "model_module_version": "1.5.0",
      "model_name": "ButtonStyleModel",
      "state": {}
     },
     "2041fc936c514e7fb0276b3a32ad4b58": {
      "model_module": "@jupyter-widgets/controls",
      "model_module_version": "1.5.0",
      "model_name": "ButtonStyleModel",
      "state": {}
     },
     "20450bf444f74b1ebd7b01142a20ecc2": {
      "model_module": "jupyter-cytoscape",
      "model_module_version": "^1.2.2",
      "model_name": "EdgeModel",
      "state": {
       "_model_module_version": "^1.2.2",
       "_view_module_version": "^1.2.2",
       "classes": " directed  multiple_edges ",
       "data": {
        "id": "displacement_cylinders",
        "source": "displacement",
        "target": "cylinders"
       },
       "selectable": false
      }
     },
     "2085997253d242c89703c92ca25ef648": {
      "model_module": "@jupyter-widgets/output",
      "model_module_version": "1.0.0",
      "model_name": "OutputModel",
      "state": {
       "layout": "IPY_MODEL_10e908f2823643c4a09beeaaf75973e5"
      }
     },
     "20b5129f370d400f9e2fbdcfec297d83": {
      "model_module": "jupyter-cytoscape",
      "model_module_version": "^1.2.2",
      "model_name": "EdgeModel",
      "state": {
       "_model_module_version": "^1.2.2",
       "_view_module_version": "^1.2.2",
       "classes": " directed  multiple_edges ",
       "data": {
        "id": "displacement_weight",
        "source": "displacement",
        "target": "weight"
       },
       "removed": true,
       "selectable": false
      }
     },
     "20fdb2a2fdff4fe7ac37547fe6a5c72e": {
      "model_module": "@jupyter-widgets/base",
      "model_module_version": "1.2.0",
      "model_name": "LayoutModel",
      "state": {}
     },
     "2122f0d7922e414da438adfd652d53c5": {
      "model_module": "jupyter-cytoscape",
      "model_module_version": "^1.2.2",
      "model_name": "NodeModel",
      "state": {
       "_model_module_version": "^1.2.2",
       "_view_module_version": "^1.2.2",
       "data": {
        "id": "origin",
        "label": "origin"
       },
       "grabbable": true,
       "grabbed": false,
       "position": {
        "x": 492.73548508808767,
        "y": 163.54320824648752
       },
       "selectable": false
      }
     },
     "216e04f022e548e88ceab0964371ef3c": {
      "model_module": "jupyter-cytoscape",
      "model_module_version": "^1.2.2",
      "model_name": "NodeModel",
      "state": {
       "_model_module_version": "^1.2.2",
       "_view_module_version": "^1.2.2",
       "data": {
        "id": "displacement",
        "label": "displacement"
       },
       "grabbable": true,
       "grabbed": false,
       "position": {
        "x": 999.517130580014,
        "y": 153.02007757718562
       },
       "removed": true,
       "selectable": false
      }
     },
     "218a024be59d46f39513c20314999da2": {
      "model_module": "jupyter-cytoscape",
      "model_module_version": "^1.2.2",
      "model_name": "EdgeModel",
      "state": {
       "_model_module_version": "^1.2.2",
       "_view_module_version": "^1.2.2",
       "classes": " directed  multiple_edges ",
       "data": {
        "id": "weight_horsepower",
        "source": "weight",
        "target": "horsepower"
       },
       "selectable": false
      }
     },
     "218c6c5a5eb24db3b8c61174fa82eb24": {
      "model_module": "@jupyter-widgets/controls",
      "model_module_version": "1.5.0",
      "model_name": "ButtonModel",
      "state": {
       "description": "Generate original graph",
       "layout": "IPY_MODEL_758de813b3f2443aa1760f548a6e035b",
       "style": "IPY_MODEL_2aaf7cf3a6644490a5162c217abb4929"
      }
     },
     "219912ce3a164ab9b37ea714aa350cd7": {
      "model_module": "@jupyter-widgets/base",
      "model_module_version": "1.2.0",
      "model_name": "LayoutModel",
      "state": {}
     },
     "219f3c06d28041fbbf00b8fb52573784": {
      "model_module": "jupyter-cytoscape",
      "model_module_version": "^1.2.2",
      "model_name": "EdgeModel",
      "state": {
       "_model_module_version": "^1.2.2",
       "_view_module_version": "^1.2.2",
       "classes": " directed  multiple_edges ",
       "data": {
        "id": "weight_mpg",
        "source": "weight",
        "target": "mpg"
       },
       "removed": true,
       "selectable": false
      }
     },
     "219fcdfc434446f5bd89d72b09cd0d96": {
      "model_module": "@jupyter-widgets/controls",
      "model_module_version": "1.5.0",
      "model_name": "ButtonStyleModel",
      "state": {}
     },
     "21b3558133ec47e780b95ccab4574eeb": {
      "model_module": "@jupyter-widgets/controls",
      "model_module_version": "1.5.0",
      "model_name": "ButtonModel",
      "state": {
       "description": "Change Direction",
       "disabled": true,
       "layout": "IPY_MODEL_84f50c4200f2407282cf4075cb9dc697",
       "style": "IPY_MODEL_8a397c8ad2a648b2ac9768813a1ac72c"
      }
     },
     "21b4d4573b0446e2b68ed655588c89d6": {
      "model_module": "jupyter-cytoscape",
      "model_module_version": "^1.2.2",
      "model_name": "EdgeModel",
      "state": {
       "_model_module_version": "^1.2.2",
       "_view_module_version": "^1.2.2",
       "classes": " directed  multiple_edges ",
       "data": {
        "id": "displacement_acceleration",
        "source": "displacement",
        "target": "acceleration"
       },
       "removed": true,
       "selectable": false
      }
     },
     "2215a3d7e27141fa9233eaa2275e9750": {
      "model_module": "@jupyter-widgets/base",
      "model_module_version": "1.2.0",
      "model_name": "LayoutModel",
      "state": {}
     },
     "221cf5afbabb43acb1b6c4ac9543f50d": {
      "model_module": "jupyter-cytoscape",
      "model_module_version": "^1.2.2",
      "model_name": "EdgeModel",
      "state": {
       "_model_module_version": "^1.2.2",
       "_view_module_version": "^1.2.2",
       "classes": " directed  multiple_edges ",
       "data": {
        "id": "mpg_origin",
        "source": "mpg",
        "target": "origin"
       },
       "selectable": false
      }
     },
     "222cfe125a0d40899940d546f02b9951": {
      "model_module": "jupyter-cytoscape",
      "model_module_version": "^1.2.2",
      "model_name": "NodeModel",
      "state": {
       "_model_module_version": "^1.2.2",
       "_view_module_version": "^1.2.2",
       "data": {
        "id": "horsepower",
        "label": "horsepower"
       },
       "grabbable": true,
       "grabbed": false,
       "position": {
        "x": 498.1371175813375,
        "y": 58.16052461509015
       },
       "selectable": false
      }
     },
     "22586c5689d34248a0671ca2262b7d5d": {
      "model_module": "@jupyter-widgets/base",
      "model_module_version": "1.2.0",
      "model_name": "LayoutModel",
      "state": {}
     },
     "228a0a0bb95b46f0bf17ac82c68db2d5": {
      "model_module": "jupyter-cytoscape",
      "model_module_version": "^1.2.2",
      "model_name": "EdgeModel",
      "state": {
       "_model_module_version": "^1.2.2",
       "_view_module_version": "^1.2.2",
       "classes": " directed  multiple_edges ",
       "data": {
        "id": "displacement_acceleration",
        "source": "displacement",
        "target": "acceleration"
       },
       "selectable": false
      }
     },
     "2300b9d3b1304d61b1f0a77a02d27338": {
      "model_module": "jupyter-cytoscape",
      "model_module_version": "^1.2.2",
      "model_name": "EdgeModel",
      "state": {
       "_model_module_version": "^1.2.2",
       "_view_module_version": "^1.2.2",
       "classes": " directed  multiple_edges ",
       "data": {
        "id": "weight_acceleration",
        "source": "weight",
        "target": "acceleration"
       },
       "selectable": false
      }
     },
     "2305d52b38d74243b09bf13cc285b12e": {
      "model_module": "jupyter-cytoscape",
      "model_module_version": "^1.2.2",
      "model_name": "GraphModel",
      "state": {
       "_adj": {
        "acceleration": {},
        "cylinders": {},
        "displacement": {},
        "horsepower": {},
        "model_year": {},
        "mpg": {},
        "origin": {},
        "weight": {}
       },
       "_model_module_version": "^1.2.2",
       "_view_module": "jupyter-cytoscape",
       "_view_module_version": "^1.2.2",
       "edges": [
        "IPY_MODEL_ebc7dc18bfc34af99f14fc4a22281b73",
        "IPY_MODEL_706d0f016b63430f94ae1128ae6448ab",
        "IPY_MODEL_6449caf5c5cf4c10a6974b9bbb28c465",
        "IPY_MODEL_28f26c7b05914d668ad26eb04a80c53e",
        "IPY_MODEL_228a0a0bb95b46f0bf17ac82c68db2d5",
        "IPY_MODEL_8eb2bfd0a4034ca0ab68ce4028cc3fd0",
        "IPY_MODEL_139406a9d0614924908d236621439bad",
        "IPY_MODEL_a7dfb0dfcdeb453a9c41f9ee93d74f9e",
        "IPY_MODEL_b57cd6aa8f7249e8a2ed54915ac626d0",
        "IPY_MODEL_2ba9ef67b8b5442fa23746e7b594efa4"
       ],
       "nodes": [
        "IPY_MODEL_2f02a9cc7e394d6d8243844b2ff317b7",
        "IPY_MODEL_61c67c08dd98435990f56a43d8b6d5a6",
        "IPY_MODEL_2eb3a363c0d8440a830ff38182651905",
        "IPY_MODEL_3b4f15530f914212a6b7e8e08830f9d6",
        "IPY_MODEL_1bbb55b147fc4ae0b785695519bf2684",
        "IPY_MODEL_7f0aca8be8e84af188f330ab6de31216",
        "IPY_MODEL_1e021f19f89c4b1eb192ef57a2a08ce1",
        "IPY_MODEL_9660436dac4d4b31880c16593f91ff81"
       ]
      }
     },
     "23644899ee3a4b7ca4c3515f1a9761bd": {
      "model_module": "@jupyter-widgets/base",
      "model_module_version": "1.2.0",
      "model_name": "LayoutModel",
      "state": {}
     },
     "236ce4565d4340aab8be8f238a6791e0": {
      "model_module": "jupyter-cytoscape",
      "model_module_version": "^1.2.2",
      "model_name": "EdgeModel",
      "state": {
       "_model_module_version": "^1.2.2",
       "_view_module_version": "^1.2.2",
       "classes": " directed  multiple_edges ",
       "data": {
        "id": "model_year_mpg",
        "source": "model_year",
        "target": "mpg"
       },
       "removed": true,
       "selectable": false
      }
     },
     "23a70067c37045e5860c17b208443cfd": {
      "model_module": "jupyter-cytoscape",
      "model_module_version": "^1.2.2",
      "model_name": "EdgeModel",
      "state": {
       "_model_module_version": "^1.2.2",
       "_view_module_version": "^1.2.2",
       "classes": " directed  multiple_edges ",
       "data": {
        "id": "weight_mpg",
        "source": "weight",
        "target": "mpg"
       },
       "removed": true,
       "selectable": false
      }
     },
     "23b7f30debf74b6e85ff87b45aced497": {
      "model_module": "jupyter-cytoscape",
      "model_module_version": "^1.2.2",
      "model_name": "EdgeModel",
      "state": {
       "_model_module_version": "^1.2.2",
       "_view_module_version": "^1.2.2",
       "classes": " directed  multiple_edges ",
       "data": {
        "id": "weight_acceleration",
        "source": "weight",
        "target": "acceleration"
       },
       "selectable": false
      }
     },
     "23be95104c1642ecae357fa60d5c3396": {
      "model_module": "jupyter-cytoscape",
      "model_module_version": "^1.2.2",
      "model_name": "EdgeModel",
      "state": {
       "_model_module_version": "^1.2.2",
       "_view_module_version": "^1.2.2",
       "classes": " directed  multiple_edges ",
       "data": {
        "id": "displacement_weight",
        "source": "displacement",
        "target": "weight"
       },
       "removed": true,
       "selectable": false
      }
     },
     "23e8658c17a64a85b4e7caa3d3ec8b9e": {
      "model_module": "jupyter-cytoscape",
      "model_module_version": "^1.2.2",
      "model_name": "EdgeModel",
      "state": {
       "_model_module_version": "^1.2.2",
       "_view_module_version": "^1.2.2",
       "classes": " directed  multiple_edges ",
       "data": {
        "id": "weight_mpg",
        "source": "weight",
        "target": "mpg"
       },
       "selectable": false
      }
     },
     "23f832fefa574c45b22c608edc4c470d": {
      "model_module": "@jupyter-widgets/base",
      "model_module_version": "1.2.0",
      "model_name": "LayoutModel",
      "state": {}
     },
     "240539b44e334deaaf26ac92601e4f7b": {
      "model_module": "@jupyter-widgets/controls",
      "model_module_version": "1.5.0",
      "model_name": "ButtonModel",
      "state": {
       "description": "Delete Edge",
       "disabled": true,
       "layout": "IPY_MODEL_5fdb60170c6d42a6af33f718749c873d",
       "style": "IPY_MODEL_46887c4f7b2946e3846f3487556598da"
      }
     },
     "240b11e4461a4a488868cfee4688b4b6": {
      "model_module": "jupyter-cytoscape",
      "model_module_version": "^1.2.2",
      "model_name": "NodeModel",
      "state": {
       "_model_module_version": "^1.2.2",
       "_view_module_version": "^1.2.2",
       "data": {
        "id": "displacement",
        "label": "displacement"
       },
       "grabbable": true,
       "grabbed": false,
       "position": {
        "x": 1012.3412849858775,
        "y": 284.24756931696896
       },
       "selectable": false
      }
     },
     "243341d757324f90988745a8eaa231e4": {
      "model_module": "jupyter-cytoscape",
      "model_module_version": "^1.2.2",
      "model_name": "EdgeModel",
      "state": {
       "_model_module_version": "^1.2.2",
       "_view_module_version": "^1.2.2",
       "classes": " directed  multiple_edges ",
       "data": {
        "id": "horsepower_acceleration",
        "source": "horsepower",
        "target": "acceleration"
       },
       "selectable": false
      }
     },
     "24409b48cff64f668e5f3dbb4c5860fd": {
      "model_module": "@jupyter-widgets/controls",
      "model_module_version": "1.5.0",
      "model_name": "ButtonStyleModel",
      "state": {}
     },
     "24550e5c2a3a43e98be9b96f69ed00e3": {
      "model_module": "jupyter-cytoscape",
      "model_module_version": "^1.2.2",
      "model_name": "EdgeModel",
      "state": {
       "_model_module_version": "^1.2.2",
       "_view_module_version": "^1.2.2",
       "classes": " directed  multiple_edges ",
       "data": {
        "id": "model_year_mpg",
        "source": "model_year",
        "target": "mpg"
       },
       "selectable": false
      }
     },
     "24633c496c9a4f21a13266de30992758": {
      "model_module": "@jupyter-widgets/base",
      "model_module_version": "1.2.0",
      "model_name": "LayoutModel",
      "state": {}
     },
     "254f72dc0edd4b74911e72d9e7e7c9a8": {
      "model_module": "jupyter-cytoscape",
      "model_module_version": "^1.2.2",
      "model_name": "NodeModel",
      "state": {
       "_model_module_version": "^1.2.2",
       "_view_module_version": "^1.2.2",
       "data": {
        "id": "horsepower",
        "label": "horsepower"
       },
       "grabbable": true,
       "grabbed": false,
       "position": {
        "x": 579.0624766836064,
        "y": 213.55132768320664
       },
       "selectable": false
      }
     },
     "2562812b312d43a7aa3282c575ac8b32": {
      "model_module": "jupyter-cytoscape",
      "model_module_version": "^1.2.2",
      "model_name": "EdgeModel",
      "state": {
       "_model_module_version": "^1.2.2",
       "_view_module_version": "^1.2.2",
       "classes": " directed  multiple_edges ",
       "data": {
        "id": "displacement_weight",
        "source": "displacement",
        "target": "weight"
       },
       "selectable": false
      }
     },
     "25ee1b9594b648579abf98ed09e04ae0": {
      "model_module": "jupyter-cytoscape",
      "model_module_version": "^1.2.2",
      "model_name": "NodeModel",
      "state": {
       "_model_module_version": "^1.2.2",
       "_view_module_version": "^1.2.2",
       "data": {
        "id": "weight",
        "label": "weight"
       },
       "grabbable": true,
       "grabbed": false,
       "position": {
        "x": 1103.5735798481062,
        "y": 193.80477019364324
       },
       "removed": true,
       "selectable": false
      }
     },
     "25f438de361f44c1a09871d18d0e6a3e": {
      "model_module": "jupyter-cytoscape",
      "model_module_version": "^1.2.2",
      "model_name": "EdgeModel",
      "state": {
       "_model_module_version": "^1.2.2",
       "_view_module_version": "^1.2.2",
       "classes": " directed  multiple_edges ",
       "data": {
        "id": "model_year_cylinders",
        "source": "model_year",
        "target": "cylinders"
       },
       "removed": true,
       "selectable": false
      }
     },
     "25f5a3d6633b43729e3841d8826763ea": {
      "model_module": "jupyter-cytoscape",
      "model_module_version": "^1.2.2",
      "model_name": "EdgeModel",
      "state": {
       "_model_module_version": "^1.2.2",
       "_view_module_version": "^1.2.2",
       "classes": " directed  multiple_edges ",
       "data": {
        "id": "displacement_weight",
        "source": "displacement",
        "target": "weight"
       },
       "removed": true,
       "selectable": false
      }
     },
     "26c9936b35694189bb1942c224b4d8f6": {
      "model_module": "@jupyter-widgets/base",
      "model_module_version": "1.2.0",
      "model_name": "LayoutModel",
      "state": {}
     },
     "2732c471452f425d8a39050d4d731e31": {
      "model_module": "jupyter-cytoscape",
      "model_module_version": "^1.2.2",
      "model_name": "NodeModel",
      "state": {
       "_model_module_version": "^1.2.2",
       "_view_module_version": "^1.2.2",
       "data": {
        "id": "displacement",
        "label": "displacement"
       },
       "grabbable": true,
       "grabbed": false,
       "position": {
        "x": 1085.3844640285313,
        "y": 259.456770322571
       },
       "removed": true,
       "selectable": false
      }
     },
     "2735bd4604064855a6f66b08dcb8b324": {
      "model_module": "@jupyter-widgets/output",
      "model_module_version": "1.0.0",
      "model_name": "OutputModel",
      "state": {
       "layout": "IPY_MODEL_8f669d5e93274a89a31aacd6b6b19f71"
      }
     },
     "27462951702e4a1eb599f37919f9b389": {
      "model_module": "jupyter-cytoscape",
      "model_module_version": "^1.2.2",
      "model_name": "EdgeModel",
      "state": {
       "_model_module_version": "^1.2.2",
       "_view_module_version": "^1.2.2",
       "classes": " directed  multiple_edges ",
       "data": {
        "id": "weight_mpg",
        "source": "weight",
        "target": "mpg"
       },
       "removed": true,
       "selectable": false
      }
     },
     "274731acdbae42c8b751a43de2bd88a6": {
      "model_module": "jupyter-cytoscape",
      "model_module_version": "^1.2.2",
      "model_name": "NodeModel",
      "state": {
       "_model_module_version": "^1.2.2",
       "_view_module_version": "^1.2.2",
       "data": {
        "id": "cylinders",
        "label": "cylinders"
       },
       "grabbable": true,
       "grabbed": false,
       "position": {
        "x": 557.9465824813515,
        "y": 205.006079733598
       },
       "removed": true,
       "selectable": false
      }
     },
     "27a20abe897149819b4cc69788b0889f": {
      "model_module": "@jupyter-widgets/output",
      "model_module_version": "1.0.0",
      "model_name": "OutputModel",
      "state": {
       "layout": "IPY_MODEL_0a58a8b076ee4e39b3c597283ec2c338"
      }
     },
     "27eebab149ff4adb9a654646fb71ab9a": {
      "model_module": "jupyter-cytoscape",
      "model_module_version": "^1.2.2",
      "model_name": "NodeModel",
      "state": {
       "_model_module_version": "^1.2.2",
       "_view_module_version": "^1.2.2",
       "data": {
        "id": "acceleration",
        "label": "acceleration"
       },
       "grabbable": true,
       "grabbed": false,
       "position": {
        "x": 1101.656574071263,
        "y": 336.32518780799865
       },
       "selectable": false
      }
     },
     "27f941ad015a414f87b9c26d3d084049": {
      "model_module": "@jupyter-widgets/base",
      "model_module_version": "1.2.0",
      "model_name": "LayoutModel",
      "state": {}
     },
     "284a5c80013c49229e3cbb1595774888": {
      "model_module": "jupyter-cytoscape",
      "model_module_version": "^1.2.2",
      "model_name": "EdgeModel",
      "state": {
       "_model_module_version": "^1.2.2",
       "_view_module_version": "^1.2.2",
       "classes": " directed  multiple_edges ",
       "data": {
        "id": "displacement_horsepower",
        "source": "displacement",
        "target": "horsepower"
       },
       "removed": true,
       "selectable": false
      }
     },
     "289ea62cac104ae49b79430ce4284dec": {
      "model_module": "jupyter-cytoscape",
      "model_module_version": "^1.2.2",
      "model_name": "EdgeModel",
      "state": {
       "_model_module_version": "^1.2.2",
       "_view_module_version": "^1.2.2",
       "classes": " directed  multiple_edges ",
       "data": {
        "id": "cylinders_origin",
        "source": "cylinders",
        "target": "origin"
       },
       "selectable": false
      }
     },
     "28d8e8f8f218483897d0a30e4c20da37": {
      "model_module": "jupyter-cytoscape",
      "model_module_version": "^1.2.2",
      "model_name": "EdgeModel",
      "state": {
       "_model_module_version": "^1.2.2",
       "_view_module_version": "^1.2.2",
       "classes": " directed  multiple_edges ",
       "data": {
        "id": "cylinders_origin",
        "source": "cylinders",
        "target": "origin"
       },
       "removed": true,
       "selectable": false
      }
     },
     "28f26c7b05914d668ad26eb04a80c53e": {
      "model_module": "jupyter-cytoscape",
      "model_module_version": "^1.2.2",
      "model_name": "EdgeModel",
      "state": {
       "_model_module_version": "^1.2.2",
       "_view_module_version": "^1.2.2",
       "classes": " directed  multiple_edges ",
       "data": {
        "id": "horsepower_acceleration",
        "source": "horsepower",
        "target": "acceleration"
       },
       "selectable": false
      }
     },
     "28f8aa4e62b34bc38171a462314363e6": {
      "model_module": "@jupyter-widgets/base",
      "model_module_version": "1.2.0",
      "model_name": "LayoutModel",
      "state": {}
     },
     "2917cf8777f741b68422a89ab14a1cf1": {
      "model_module": "jupyter-cytoscape",
      "model_module_version": "^1.2.2",
      "model_name": "CytoscapeModel",
      "state": {
       "_interaction_handlers": {
        "edge": [
         "click"
        ],
        "node": [
         "click"
        ]
       },
       "_model_module_version": "^1.2.2",
       "_view_module_version": "^1.2.2",
       "auto_ungrabify": false,
       "autolock": false,
       "cytoscape_layout": {
        "name": "cola"
       },
       "cytoscape_style": [
        {
         "selector": "node",
         "style": {
          "background-color": "blue",
          "font-family": "arial",
          "font-size": "10px",
          "label": "data(label)"
         }
        },
        {
         "selector": "edge",
         "style": {
          "curve-style": "bezier",
          "line-color": "#9dbaea",
          "target-arrow-color": "#9dbaea",
          "target-arrow-shape": "triangle",
          "width": 4
         }
        },
        {
         "css": {
          "line-color": "red"
         },
         "selector": "edge.selected"
        },
        {
         "css": {
          "background-color": "red"
         },
         "selector": "node.selected"
        }
       ],
       "desktop_tap_threshold": 4,
       "graph": "IPY_MODEL_93bffe1e06b14dbd8425bfae6106acf8",
       "headless": false,
       "hide_edges_on_viewport": false,
       "layout": "IPY_MODEL_7596b96f15104754ae9b9f6151133357",
       "max_zoom": 1e+50,
       "min_zoom": 1e-50,
       "motion_blur": false,
       "motion_blur_opacity": 0.2,
       "panning_enabled": true,
       "pixel_ratio": "auto",
       "rendered_position": {
        "renderedPosition": {
         "x": 100,
         "y": 100
        }
       },
       "selection_type": "single",
       "style_enabled": true,
       "texture_on_viewport": false,
       "tooltip_source": "tooltip",
       "touch_tap_threshold": 8,
       "user_panning_enabled": true,
       "user_zooming_enabled": true,
       "wheel_sensitivity": 1,
       "zoom": 2,
       "zooming_enabled": true
      }
     },
     "294001eb483845b69e702cc91995a47c": {
      "model_module": "jupyter-cytoscape",
      "model_module_version": "^1.2.2",
      "model_name": "EdgeModel",
      "state": {
       "_model_module_version": "^1.2.2",
       "_view_module_version": "^1.2.2",
       "classes": " directed  multiple_edges ",
       "data": {
        "id": "mpg_origin",
        "source": "mpg",
        "target": "origin"
       },
       "selectable": false
      }
     },
     "294e850cf5364cada81afea581f2b955": {
      "model_module": "jupyter-cytoscape",
      "model_module_version": "^1.2.2",
      "model_name": "NodeModel",
      "state": {
       "_model_module_version": "^1.2.2",
       "_view_module_version": "^1.2.2",
       "data": {
        "id": "horsepower",
        "label": "horsepower"
       },
       "grabbable": true,
       "grabbed": false,
       "position": {
        "x": 564.5121272355872,
        "y": 212.50793387077
       },
       "selectable": false
      }
     },
     "29cbea4b92b24511a0acf2deb0fe1203": {
      "model_module": "jupyter-cytoscape",
      "model_module_version": "^1.2.2",
      "model_name": "EdgeModel",
      "state": {
       "_model_module_version": "^1.2.2",
       "_view_module_version": "^1.2.2",
       "classes": " directed  multiple_edges ",
       "data": {
        "id": "model_year_cylinders",
        "source": "model_year",
        "target": "cylinders"
       },
       "selectable": false
      }
     },
     "29cd25bda4954c5ebf68236718759467": {
      "model_module": "jupyter-cytoscape",
      "model_module_version": "^1.2.2",
      "model_name": "EdgeModel",
      "state": {
       "_model_module_version": "^1.2.2",
       "_view_module_version": "^1.2.2",
       "classes": " directed  multiple_edges ",
       "data": {
        "id": "weight_horsepower",
        "source": "weight",
        "target": "horsepower"
       },
       "removed": true,
       "selectable": false
      }
     },
     "29ed17cf74284191a107228ca1be9330": {
      "model_module": "jupyter-cytoscape",
      "model_module_version": "^1.2.2",
      "model_name": "NodeModel",
      "state": {
       "_model_module_version": "^1.2.2",
       "_view_module_version": "^1.2.2",
       "data": {
        "id": "displacement",
        "label": "displacement"
       },
       "grabbable": true,
       "grabbed": false,
       "position": {
        "x": 852.1635333662903,
        "y": 245.7259067769174
       },
       "removed": true,
       "selectable": false
      }
     },
     "2a351025d6b14e339ee3f7852c35ca2f": {
      "model_module": "jupyter-cytoscape",
      "model_module_version": "^1.2.2",
      "model_name": "EdgeModel",
      "state": {
       "_model_module_version": "^1.2.2",
       "_view_module_version": "^1.2.2",
       "classes": " directed  multiple_edges ",
       "data": {
        "id": "model_year_weight",
        "source": "model_year",
        "target": "weight"
       },
       "selectable": false
      }
     },
     "2a3c57abad604488be725efcaaa68224": {
      "model_module": "jupyter-cytoscape",
      "model_module_version": "^1.2.2",
      "model_name": "EdgeModel",
      "state": {
       "_model_module_version": "^1.2.2",
       "_view_module_version": "^1.2.2",
       "classes": " directed  multiple_edges ",
       "data": {
        "id": "displacement_cylinders",
        "source": "displacement",
        "target": "cylinders"
       },
       "selectable": false
      }
     },
     "2a3ddf8b26894aa5940bea5b2de7fe86": {
      "model_module": "jupyter-cytoscape",
      "model_module_version": "^1.2.2",
      "model_name": "NodeModel",
      "state": {
       "_model_module_version": "^1.2.2",
       "_view_module_version": "^1.2.2",
       "data": {
        "id": "mpg",
        "label": "mpg"
       },
       "grabbable": true,
       "grabbed": false,
       "position": {
        "x": 604.8409436213743,
        "y": 147.15280318553792
       },
       "selectable": false
      }
     },
     "2a983c35d3fb424fa8c75a3cc0c5c0c2": {
      "model_module": "jupyter-cytoscape",
      "model_module_version": "^1.2.2",
      "model_name": "EdgeModel",
      "state": {
       "_model_module_version": "^1.2.2",
       "_view_module_version": "^1.2.2",
       "classes": " directed  multiple_edges ",
       "data": {
        "id": "displacement_weight",
        "source": "displacement",
        "target": "weight"
       },
       "selectable": false
      }
     },
     "2aa0b5c80e3044bab8339056854594ad": {
      "model_module": "jupyter-cytoscape",
      "model_module_version": "^1.2.2",
      "model_name": "EdgeModel",
      "state": {
       "_model_module_version": "^1.2.2",
       "_view_module_version": "^1.2.2",
       "classes": " directed  multiple_edges ",
       "data": {
        "id": "model_year_mpg",
        "source": "model_year",
        "target": "mpg"
       },
       "removed": true,
       "selectable": false
      }
     },
     "2aaf7cf3a6644490a5162c217abb4929": {
      "model_module": "@jupyter-widgets/controls",
      "model_module_version": "1.5.0",
      "model_name": "ButtonStyleModel",
      "state": {}
     },
     "2aea8aed8b9744489a69681f905b283d": {
      "model_module": "jupyter-cytoscape",
      "model_module_version": "^1.2.2",
      "model_name": "EdgeModel",
      "state": {
       "_model_module_version": "^1.2.2",
       "_view_module_version": "^1.2.2",
       "classes": " directed  multiple_edges ",
       "data": {
        "id": "displacement_acceleration",
        "source": "displacement",
        "target": "acceleration"
       },
       "selectable": false
      }
     },
     "2b1c58c3eb6744a1925d652c33a6b50f": {
      "model_module": "jupyter-cytoscape",
      "model_module_version": "^1.2.2",
      "model_name": "NodeModel",
      "state": {
       "_model_module_version": "^1.2.2",
       "_view_module_version": "^1.2.2",
       "data": {
        "id": "model_year",
        "label": "model_year"
       },
       "grabbable": true,
       "grabbed": false,
       "position": {
        "x": 1062.3412859858774,
        "y": 263.55132868320646
       },
       "selectable": false
      }
     },
     "2b7bf3833e5c469fbac2a088cef6898a": {
      "model_module": "@jupyter-widgets/base",
      "model_module_version": "1.2.0",
      "model_name": "LayoutModel",
      "state": {}
     },
     "2b85d46e08cf41af8008b9536c14299e": {
      "model_module": "@jupyter-widgets/base",
      "model_module_version": "1.2.0",
      "model_name": "LayoutModel",
      "state": {}
     },
     "2b992a4a6ebf4da5ab78c303ad8d72d6": {
      "model_module": "@jupyter-widgets/controls",
      "model_module_version": "1.5.0",
      "model_name": "ButtonModel",
      "state": {
       "description": "Change Direction",
       "disabled": true,
       "layout": "IPY_MODEL_1e28bb585a9b4379b91ff0b0802f4d9d",
       "style": "IPY_MODEL_7d34a2e0c7bc4b14b7aa7311fcb2e561"
      }
     },
     "2ba83cb1e5444f7dae2eabe9b6c58f95": {
      "model_module": "jupyter-cytoscape",
      "model_module_version": "^1.2.2",
      "model_name": "GraphModel",
      "state": {
       "_adj": {},
       "_model_module_version": "^1.2.2",
       "_view_module": "jupyter-cytoscape",
       "_view_module_version": "^1.2.2"
      }
     },
     "2ba9ef67b8b5442fa23746e7b594efa4": {
      "model_module": "jupyter-cytoscape",
      "model_module_version": "^1.2.2",
      "model_name": "EdgeModel",
      "state": {
       "_model_module_version": "^1.2.2",
       "_view_module_version": "^1.2.2",
       "classes": " directed  multiple_edges ",
       "data": {
        "id": "weight_mpg",
        "source": "weight",
        "target": "mpg"
       },
       "selectable": false
      }
     },
     "2bb75536566748fb8914491edd9f21eb": {
      "model_module": "jupyter-cytoscape",
      "model_module_version": "^1.2.2",
      "model_name": "EdgeModel",
      "state": {
       "_model_module_version": "^1.2.2",
       "_view_module_version": "^1.2.2",
       "classes": " directed  multiple_edges ",
       "data": {
        "id": "mpg_origin",
        "source": "mpg",
        "target": "origin"
       },
       "removed": true,
       "selectable": false
      }
     },
     "2bf35b67f14a4582a8c18e5c85ee4258": {
      "model_module": "@jupyter-widgets/base",
      "model_module_version": "1.2.0",
      "model_name": "LayoutModel",
      "state": {}
     },
     "2c249d647f2344b5b6c5dac1d2f1f0a2": {
      "model_module": "@jupyter-widgets/controls",
      "model_module_version": "1.5.0",
      "model_name": "ButtonModel",
      "state": {
       "description": "Delete Edge",
       "disabled": true,
       "layout": "IPY_MODEL_0b060852cc624252bea388cb65e5ca0d",
       "style": "IPY_MODEL_a3df98ab9e224d3088a9219c756debc5"
      }
     },
     "2c49e52b315b4cf5beda6b428bfb1eb4": {
      "model_module": "@jupyter-widgets/controls",
      "model_module_version": "1.5.0",
      "model_name": "ButtonStyleModel",
      "state": {}
     },
     "2c7daefd91294fa4979a1a7adf3e0319": {
      "model_module": "@jupyter-widgets/controls",
      "model_module_version": "1.5.0",
      "model_name": "ButtonModel",
      "state": {
       "description": "Delete Edge",
       "disabled": true,
       "layout": "IPY_MODEL_b964bf96ffd24927aa675a965142d4b1",
       "style": "IPY_MODEL_02ffa4709d234e64933d5ac6359210fa"
      }
     },
     "2c8c3e1c1e8b45c5b4c05c15bb7617b2": {
      "model_module": "jupyter-cytoscape",
      "model_module_version": "^1.2.2",
      "model_name": "EdgeModel",
      "state": {
       "_model_module_version": "^1.2.2",
       "_view_module_version": "^1.2.2",
       "classes": " directed  multiple_edges ",
       "data": {
        "id": "origin_horsepower",
        "source": "origin",
        "target": "horsepower"
       },
       "removed": true,
       "selectable": false
      }
     },
     "2cbf562554e34bbab7278957839600bf": {
      "model_module": "jupyter-cytoscape",
      "model_module_version": "^1.2.2",
      "model_name": "EdgeModel",
      "state": {
       "_model_module_version": "^1.2.2",
       "_view_module_version": "^1.2.2",
       "classes": " multiple_edges directed",
       "data": {
        "id": "displacement_cylinders",
        "source": "displacement",
        "target": "cylinders"
       },
       "selectable": false
      }
     },
     "2cfa2865952d43ddaf7b3f0b3a162395": {
      "model_module": "jupyter-cytoscape",
      "model_module_version": "^1.2.2",
      "model_name": "NodeModel",
      "state": {
       "_model_module_version": "^1.2.2",
       "_view_module_version": "^1.2.2",
       "data": {
        "id": "displacement",
        "label": "displacement"
       },
       "grabbable": true,
       "grabbed": false,
       "position": {
        "x": 509.3412849858755,
        "y": 284.2475693169692
       },
       "selectable": false
      }
     },
     "2d7efca366e94fd9912a7bf79abb56ca": {
      "model_module": "jupyter-cytoscape",
      "model_module_version": "^1.2.2",
      "model_name": "NodeModel",
      "state": {
       "_model_module_version": "^1.2.2",
       "_view_module_version": "^1.2.2",
       "data": {
        "id": "cylinders",
        "label": "cylinders"
       },
       "grabbable": true,
       "grabbed": false,
       "position": {
        "x": 433.0988645297568,
        "y": 243.59005208886958
       },
       "selectable": false
      }
     },
     "2d900515e1024dba9a9e02537a68672c": {
      "model_module": "@jupyter-widgets/controls",
      "model_module_version": "1.5.0",
      "model_name": "ButtonStyleModel",
      "state": {}
     },
     "2dcd66bd8bc54030bf9531577b177c04": {
      "model_module": "jupyter-cytoscape",
      "model_module_version": "^1.2.2",
      "model_name": "NodeModel",
      "state": {
       "_model_module_version": "^1.2.2",
       "_view_module_version": "^1.2.2",
       "data": {
        "id": "displacement",
        "label": "displacement"
       },
       "grabbable": true,
       "grabbed": false,
       "position": {
        "x": 509.3412849858755,
        "y": 284.2475693169692
       },
       "selectable": false
      }
     },
     "2de696ec9f064ccabd96b417591d8fc0": {
      "model_module": "jupyter-cytoscape",
      "model_module_version": "^1.2.2",
      "model_name": "EdgeModel",
      "state": {
       "_model_module_version": "^1.2.2",
       "_view_module_version": "^1.2.2",
       "classes": " directed  multiple_edges ",
       "data": {
        "id": "cylinders_origin",
        "source": "cylinders",
        "target": "origin"
       },
       "selectable": false
      }
     },
     "2df5b4d27388430e8bcad5c7394cd290": {
      "model_module": "@jupyter-widgets/base",
      "model_module_version": "1.2.0",
      "model_name": "LayoutModel",
      "state": {}
     },
     "2df7e2a5334b41939ec303b4c792c2ab": {
      "model_module": "jupyter-cytoscape",
      "model_module_version": "^1.2.2",
      "model_name": "NodeModel",
      "state": {
       "_model_module_version": "^1.2.2",
       "_view_module_version": "^1.2.2",
       "data": {
        "id": "horsepower",
        "label": "horsepower"
       },
       "grabbable": true,
       "grabbed": false,
       "position": {
        "x": 1025.841052214569,
        "y": 298.37340003444973
       },
       "removed": true,
       "selectable": false
      }
     },
     "2e065e0913034153abaf779fd188bec2": {
      "model_module": "jupyter-cytoscape",
      "model_module_version": "^1.2.2",
      "model_name": "EdgeModel",
      "state": {
       "_model_module_version": "^1.2.2",
       "_view_module_version": "^1.2.2",
       "classes": " directed  multiple_edges ",
       "data": {
        "id": "horsepower_acceleration",
        "source": "horsepower",
        "target": "acceleration"
       },
       "selectable": false
      }
     },
     "2e2055a81cfb49f992d4ad5fcffa38ac": {
      "model_module": "jupyter-cytoscape",
      "model_module_version": "^1.2.2",
      "model_name": "EdgeModel",
      "state": {
       "_model_module_version": "^1.2.2",
       "_view_module_version": "^1.2.2",
       "classes": " directed  multiple_edges ",
       "data": {
        "id": "mpg_origin",
        "source": "mpg",
        "target": "origin"
       },
       "removed": true,
       "selectable": false
      }
     },
     "2e6f93059d2d473aa8b6f6fbe64f3cfa": {
      "model_module": "jupyter-cytoscape",
      "model_module_version": "^1.2.2",
      "model_name": "NodeModel",
      "state": {
       "_model_module_version": "^1.2.2",
       "_view_module_version": "^1.2.2",
       "data": {
        "id": "weight",
        "label": "weight"
       },
       "grabbable": true,
       "grabbed": false,
       "position": {
        "x": 999.0697025418257,
        "y": 242.16850483824552
       },
       "removed": true,
       "selectable": false
      }
     },
     "2e8652a7841a4c1f8a7f4265a172e8d8": {
      "model_module": "@jupyter-widgets/controls",
      "model_module_version": "1.5.0",
      "model_name": "ButtonModel",
      "state": {
       "description": "Generate original graph",
       "layout": "IPY_MODEL_f69d7de97abc4bea8325c54657e5f3c7",
       "style": "IPY_MODEL_e117bc172ae646c0929e5882cac53821"
      }
     },
     "2ea0cb0d756c42a299c4075246cc5bd1": {
      "model_module": "jupyter-cytoscape",
      "model_module_version": "^1.2.2",
      "model_name": "GraphModel",
      "state": {
       "_adj": {},
       "_model_module_version": "^1.2.2",
       "_view_module": "jupyter-cytoscape",
       "_view_module_version": "^1.2.2"
      }
     },
     "2eb2e4ed21ca47dba28432e88ac39c63": {
      "model_module": "jupyter-cytoscape",
      "model_module_version": "^1.2.2",
      "model_name": "NodeModel",
      "state": {
       "_model_module_version": "^1.2.2",
       "_view_module_version": "^1.2.2",
       "data": {
        "id": "displacement",
        "label": "displacement"
       },
       "grabbable": true,
       "grabbed": false,
       "position": {
        "x": 1011.1635333662907,
        "y": 245.72590677691755
       },
       "removed": true,
       "selectable": false
      }
     },
     "2eb3a363c0d8440a830ff38182651905": {
      "model_module": "jupyter-cytoscape",
      "model_module_version": "^1.2.2",
      "model_name": "NodeModel",
      "state": {
       "_model_module_version": "^1.2.2",
       "_view_module_version": "^1.2.2",
       "data": {
        "id": "displacement",
        "label": "displacement"
       },
       "grabbable": true,
       "grabbed": false,
       "position": {
        "x": 603.0367293464287,
        "y": 146.9822426831316
       },
       "selectable": false
      }
     },
     "2ed960640b6a49f4a4285b59d28789f2": {
      "model_module": "jupyter-cytoscape",
      "model_module_version": "^1.2.2",
      "model_name": "NodeModel",
      "state": {
       "_model_module_version": "^1.2.2",
       "_view_module_version": "^1.2.2",
       "data": {
        "id": "acceleration",
        "label": "acceleration"
       },
       "grabbable": true,
       "grabbed": false,
       "position": {
        "x": 515.891805613418,
        "y": 109.09186632179532
       },
       "selectable": false
      }
     },
     "2edef8d8c1fb4b4189f26d73918c85e6": {
      "model_module": "jupyter-cytoscape",
      "model_module_version": "^1.2.2",
      "model_name": "EdgeModel",
      "state": {
       "_model_module_version": "^1.2.2",
       "_view_module_version": "^1.2.2",
       "classes": " directed  multiple_edges ",
       "data": {
        "id": "displacement_weight",
        "source": "displacement",
        "target": "weight"
       },
       "selectable": false
      }
     },
     "2f02a9cc7e394d6d8243844b2ff317b7": {
      "model_module": "jupyter-cytoscape",
      "model_module_version": "^1.2.2",
      "model_name": "NodeModel",
      "state": {
       "_model_module_version": "^1.2.2",
       "_view_module_version": "^1.2.2",
       "data": {
        "id": "mpg",
        "label": "mpg"
       },
       "grabbable": true,
       "grabbed": false,
       "position": {
        "x": 480.4364488671131,
        "y": 325.0858560281159
       },
       "selectable": false
      }
     },
     "2f0bb5577016402d8490d9e0870ee617": {
      "model_module": "@jupyter-widgets/controls",
      "model_module_version": "1.5.0",
      "model_name": "ButtonModel",
      "state": {
       "description": "Add Edge",
       "disabled": true,
       "layout": "IPY_MODEL_c465a591865e4c4891479e84076f15ad",
       "style": "IPY_MODEL_b2d8150d5c35444fac14640a30dbb9a7"
      }
     },
     "2f0dc317dd10470d9adebfc3bbca3007": {
      "model_module": "jupyter-cytoscape",
      "model_module_version": "^1.2.2",
      "model_name": "EdgeModel",
      "state": {
       "_model_module_version": "^1.2.2",
       "_view_module_version": "^1.2.2",
       "classes": " multiple_edges directed selected",
       "data": {
        "id": "displacement_acceleration",
        "source": "displacement",
        "target": "acceleration"
       },
       "removed": true,
       "selectable": false
      }
     },
     "2f14beda1ce74bc9903291a21d18d286": {
      "model_module": "jupyter-cytoscape",
      "model_module_version": "^1.2.2",
      "model_name": "EdgeModel",
      "state": {
       "_model_module_version": "^1.2.2",
       "_view_module_version": "^1.2.2",
       "classes": " directed  multiple_edges ",
       "data": {
        "id": "displacement_origin",
        "source": "displacement",
        "target": "origin"
       },
       "selectable": false
      }
     },
     "2f5bedbfaa1c4045b60a7678726a5351": {
      "model_module": "jupyter-cytoscape",
      "model_module_version": "^1.2.2",
      "model_name": "EdgeModel",
      "state": {
       "_model_module_version": "^1.2.2",
       "_view_module_version": "^1.2.2",
       "classes": " directed  multiple_edges ",
       "data": {
        "id": "cylinders_origin",
        "source": "cylinders",
        "target": "origin"
       },
       "selectable": false
      }
     },
     "2fad9f7e49d54e8a83a873154a9a345d": {
      "model_module": "@jupyter-widgets/base",
      "model_module_version": "1.2.0",
      "model_name": "LayoutModel",
      "state": {}
     },
     "2fb835fe0016418bb73855af420a6dcf": {
      "model_module": "jupyter-cytoscape",
      "model_module_version": "^1.2.2",
      "model_name": "EdgeModel",
      "state": {
       "_model_module_version": "^1.2.2",
       "_view_module_version": "^1.2.2",
       "classes": " directed  multiple_edges ",
       "data": {
        "id": "displacement_horsepower",
        "source": "displacement",
        "target": "horsepower"
       },
       "selectable": false
      }
     },
     "3004b999571d440c8943ee564e772a63": {
      "model_module": "jupyter-cytoscape",
      "model_module_version": "^1.2.2",
      "model_name": "EdgeModel",
      "state": {
       "_model_module_version": "^1.2.2",
       "_view_module_version": "^1.2.2",
       "classes": " directed  multiple_edges ",
       "data": {
        "id": "weight_horsepower",
        "source": "weight",
        "target": "horsepower"
       },
       "selectable": false
      }
     },
     "300fd957f6d4405395a73097a23bfb7b": {
      "model_module": "jupyter-cytoscape",
      "model_module_version": "^1.2.2",
      "model_name": "EdgeModel",
      "state": {
       "_model_module_version": "^1.2.2",
       "_view_module_version": "^1.2.2",
       "classes": " directed  multiple_edges ",
       "data": {
        "id": "origin_horsepower",
        "source": "origin",
        "target": "horsepower"
       },
       "selectable": false
      }
     },
     "3018631e0740420e940ad9ddc0bf7bb2": {
      "model_module": "jupyter-cytoscape",
      "model_module_version": "^1.2.2",
      "model_name": "EdgeModel",
      "state": {
       "_model_module_version": "^1.2.2",
       "_view_module_version": "^1.2.2",
       "classes": " directed  multiple_edges ",
       "data": {
        "id": "weight_horsepower",
        "source": "weight",
        "target": "horsepower"
       },
       "selectable": false
      }
     },
     "303783e9a4fa49c0bec5ab0d6bb00bbd": {
      "model_module": "jupyter-cytoscape",
      "model_module_version": "^1.2.2",
      "model_name": "EdgeModel",
      "state": {
       "_model_module_version": "^1.2.2",
       "_view_module_version": "^1.2.2",
       "classes": " directed  multiple_edges ",
       "data": {
        "id": "mpg_origin",
        "source": "mpg",
        "target": "origin"
       },
       "selectable": false
      }
     },
     "3039f718e4364a17a1ddf569dbf9955f": {
      "model_module": "jupyter-cytoscape",
      "model_module_version": "^1.2.2",
      "model_name": "EdgeModel",
      "state": {
       "_model_module_version": "^1.2.2",
       "_view_module_version": "^1.2.2",
       "classes": " directed  multiple_edges ",
       "data": {
        "id": "weight_horsepower",
        "source": "weight",
        "target": "horsepower"
       },
       "removed": true,
       "selectable": false
      }
     },
     "3041627a4b904dd3a201d47fc7716d5b": {
      "model_module": "@jupyter-widgets/base",
      "model_module_version": "1.2.0",
      "model_name": "LayoutModel",
      "state": {}
     },
     "3077c491e08e4c4ab5ccb81d319f8b35": {
      "model_module": "jupyter-cytoscape",
      "model_module_version": "^1.2.2",
      "model_name": "EdgeModel",
      "state": {
       "_model_module_version": "^1.2.2",
       "_view_module_version": "^1.2.2",
       "classes": " directed  multiple_edges ",
       "data": {
        "id": "weight_horsepower",
        "source": "weight",
        "target": "horsepower"
       },
       "selectable": false
      }
     },
     "30f23d89ffb249e89799b9073ca5660b": {
      "model_module": "jupyter-cytoscape",
      "model_module_version": "^1.2.2",
      "model_name": "NodeModel",
      "state": {
       "_model_module_version": "^1.2.2",
       "_view_module_version": "^1.2.2",
       "data": {
        "id": "acceleration",
        "label": "acceleration"
       },
       "grabbable": true,
       "grabbed": false,
       "position": {
        "x": 1077.6825976745754,
        "y": 47.20935510704543
       },
       "selectable": false
      }
     },
     "31159fe69ba44f3195e26389a3c94db1": {
      "model_module": "jupyter-cytoscape",
      "model_module_version": "^1.2.2",
      "model_name": "EdgeModel",
      "state": {
       "_model_module_version": "^1.2.2",
       "_view_module_version": "^1.2.2",
       "classes": " directed  multiple_edges ",
       "data": {
        "id": "weight_acceleration",
        "source": "weight",
        "target": "acceleration"
       },
       "selectable": false
      }
     },
     "312ad75821044766aeb3717a05f65c33": {
      "model_module": "jupyter-cytoscape",
      "model_module_version": "^1.2.2",
      "model_name": "EdgeModel",
      "state": {
       "_model_module_version": "^1.2.2",
       "_view_module_version": "^1.2.2",
       "classes": " directed  multiple_edges ",
       "data": {
        "id": "model_year_mpg",
        "source": "model_year",
        "target": "mpg"
       },
       "selectable": false
      }
     },
     "313e6296d38b4d2eb5a90947af756e92": {
      "model_module": "jupyter-cytoscape",
      "model_module_version": "^1.2.2",
      "model_name": "EdgeModel",
      "state": {
       "_model_module_version": "^1.2.2",
       "_view_module_version": "^1.2.2",
       "classes": " directed  multiple_edges ",
       "data": {
        "id": "model_year_weight",
        "source": "model_year",
        "target": "weight"
       },
       "removed": true,
       "selectable": false
      }
     },
     "314a0400219f40e3a23df24c924d17c3": {
      "model_module": "jupyter-cytoscape",
      "model_module_version": "^1.2.2",
      "model_name": "NodeModel",
      "state": {
       "_model_module_version": "^1.2.2",
       "_view_module_version": "^1.2.2",
       "data": {
        "id": "cylinders",
        "label": "cylinders"
       },
       "grabbable": true,
       "grabbed": false,
       "position": {
        "x": 433.0988645297568,
        "y": 243.59005208886958
       },
       "selectable": false
      }
     },
     "31bba5b0ffff457f93b4922f8e28291a": {
      "model_module": "jupyter-cytoscape",
      "model_module_version": "^1.2.2",
      "model_name": "EdgeModel",
      "state": {
       "_model_module_version": "^1.2.2",
       "_view_module_version": "^1.2.2",
       "classes": " directed  multiple_edges ",
       "data": {
        "id": "displacement_weight",
        "source": "displacement",
        "target": "weight"
       },
       "selectable": false
      }
     },
     "31f90bcc324a49d98dedad96f0549bd3": {
      "model_module": "jupyter-cytoscape",
      "model_module_version": "^1.2.2",
      "model_name": "EdgeModel",
      "state": {
       "_model_module_version": "^1.2.2",
       "_view_module_version": "^1.2.2",
       "classes": " directed  multiple_edges ",
       "data": {
        "id": "model_year_weight",
        "source": "model_year",
        "target": "weight"
       },
       "selectable": false
      }
     },
     "32015ab308e84224991cbfe1f49572b5": {
      "model_module": "jupyter-cytoscape",
      "model_module_version": "^1.2.2",
      "model_name": "NodeModel",
      "state": {
       "_model_module_version": "^1.2.2",
       "_view_module_version": "^1.2.2",
       "data": {
        "id": "acceleration",
        "label": "acceleration"
       },
       "grabbable": true,
       "grabbed": false,
       "position": {
        "x": 466.7667332918622,
        "y": 23.53396358390865
       },
       "selectable": false
      }
     },
     "3242b611a51c433b9d5a6455a0f702bc": {
      "model_module": "jupyter-cytoscape",
      "model_module_version": "^1.2.2",
      "model_name": "EdgeModel",
      "state": {
       "_model_module_version": "^1.2.2",
       "_view_module_version": "^1.2.2",
       "classes": " directed  multiple_edges ",
       "data": {
        "id": "model_year_weight",
        "source": "model_year",
        "target": "weight"
       },
       "selectable": false
      }
     },
     "3246f76b58d1411697dbe5fe1af59812": {
      "model_module": "jupyter-cytoscape",
      "model_module_version": "^1.2.2",
      "model_name": "EdgeModel",
      "state": {
       "_model_module_version": "^1.2.2",
       "_view_module_version": "^1.2.2",
       "classes": " directed  multiple_edges ",
       "data": {
        "id": "weight_horsepower",
        "source": "weight",
        "target": "horsepower"
       },
       "selectable": false
      }
     },
     "32549e991e3349cb87abfef888c8b2ba": {
      "model_module": "jupyter-cytoscape",
      "model_module_version": "^1.2.2",
      "model_name": "EdgeModel",
      "state": {
       "_model_module_version": "^1.2.2",
       "_view_module_version": "^1.2.2",
       "classes": " directed  multiple_edges ",
       "data": {
        "id": "displacement_acceleration",
        "source": "displacement",
        "target": "acceleration"
       },
       "selectable": false
      }
     },
     "3294e6c8e623453383291c582f6163d8": {
      "model_module": "@jupyter-widgets/controls",
      "model_module_version": "1.5.0",
      "model_name": "ButtonModel",
      "state": {
       "description": "Generate original graph",
       "layout": "IPY_MODEL_0077d09c7fa54a508f15ef01129d3dca",
       "style": "IPY_MODEL_98effb167f81418fbb833f5551fc82c0"
      }
     },
     "3304be69ea094a97a12617c225a4843b": {
      "model_module": "jupyter-cytoscape",
      "model_module_version": "^1.2.2",
      "model_name": "EdgeModel",
      "state": {
       "_model_module_version": "^1.2.2",
       "_view_module_version": "^1.2.2",
       "classes": " directed  multiple_edges ",
       "data": {
        "id": "displacement_horsepower",
        "source": "displacement",
        "target": "horsepower"
       },
       "selectable": false
      }
     },
     "331dac86bf1b4a9ebb1fd97a05c98653": {
      "model_module": "@jupyter-widgets/base",
      "model_module_version": "1.2.0",
      "model_name": "LayoutModel",
      "state": {}
     },
     "3348b8106a834c4c8d7fd2c281f664a8": {
      "model_module": "@jupyter-widgets/base",
      "model_module_version": "1.2.0",
      "model_name": "LayoutModel",
      "state": {}
     },
     "335cfc6807454f10b7da6465c8feb139": {
      "model_module": "jupyter-cytoscape",
      "model_module_version": "^1.2.2",
      "model_name": "EdgeModel",
      "state": {
       "_model_module_version": "^1.2.2",
       "_view_module_version": "^1.2.2",
       "classes": " directed  multiple_edges ",
       "data": {
        "id": "origin_horsepower",
        "source": "origin",
        "target": "horsepower"
       },
       "selectable": false
      }
     },
     "33772bbdfc124b93b9272eb57b8aeb95": {
      "model_module": "jupyter-cytoscape",
      "model_module_version": "^1.2.2",
      "model_name": "NodeModel",
      "state": {
       "_model_module_version": "^1.2.2",
       "_view_module_version": "^1.2.2",
       "data": {
        "id": "mpg",
        "label": "mpg"
       },
       "grabbable": true,
       "grabbed": false,
       "position": {
        "x": 1106.7678640767556,
        "y": 108.70878986322505
       },
       "removed": true,
       "selectable": false
      }
     },
     "33d7744fae5144428743b31bd260a507": {
      "model_module": "jupyter-cytoscape",
      "model_module_version": "^1.2.2",
      "model_name": "EdgeModel",
      "state": {
       "_model_module_version": "^1.2.2",
       "_view_module_version": "^1.2.2",
       "classes": " directed  multiple_edges ",
       "data": {
        "id": "displacement_origin",
        "source": "displacement",
        "target": "origin"
       },
       "selectable": false
      }
     },
     "34065d5923f84af1bde75a015a03c214": {
      "model_module": "jupyter-cytoscape",
      "model_module_version": "^1.2.2",
      "model_name": "EdgeModel",
      "state": {
       "_model_module_version": "^1.2.2",
       "_view_module_version": "^1.2.2",
       "classes": " directed  multiple_edges ",
       "data": {
        "id": "model_year_acceleration",
        "source": "model_year",
        "target": "acceleration"
       },
       "selectable": false
      }
     },
     "34144005b5ce40c19dd236a870f3e742": {
      "model_module": "jupyter-cytoscape",
      "model_module_version": "^1.2.2",
      "model_name": "NodeModel",
      "state": {
       "_model_module_version": "^1.2.2",
       "_view_module_version": "^1.2.2",
       "data": {
        "id": "horsepower",
        "label": "horsepower"
       },
       "grabbable": true,
       "grabbed": false,
       "position": {
        "x": 577.9360436026988,
        "y": 175.07363957090456
       },
       "removed": true,
       "selectable": false
      }
     },
     "342d806f3c644e35b374812443880c56": {
      "model_module": "jupyter-cytoscape",
      "model_module_version": "^1.2.2",
      "model_name": "EdgeModel",
      "state": {
       "_model_module_version": "^1.2.2",
       "_view_module_version": "^1.2.2",
       "classes": " directed  multiple_edges ",
       "data": {
        "id": "model_year_weight",
        "source": "model_year",
        "target": "weight"
       },
       "removed": true,
       "selectable": false
      }
     },
     "342f1a51c1104579bf485687194bd200": {
      "model_module": "jupyter-cytoscape",
      "model_module_version": "^1.2.2",
      "model_name": "EdgeModel",
      "state": {
       "_model_module_version": "^1.2.2",
       "_view_module_version": "^1.2.2",
       "classes": " directed  multiple_edges ",
       "data": {
        "id": "model_year_mpg",
        "source": "model_year",
        "target": "mpg"
       },
       "selectable": false
      }
     },
     "343e7e27d1a942ce832bb3b93d39dbaf": {
      "model_module": "@jupyter-widgets/base",
      "model_module_version": "1.2.0",
      "model_name": "LayoutModel",
      "state": {}
     },
     "345b403fa3524f68ad911bb9068ab464": {
      "model_module": "@jupyter-widgets/controls",
      "model_module_version": "1.5.0",
      "model_name": "ButtonStyleModel",
      "state": {}
     },
     "34960cfd58004f7e8909f73ef4fa379f": {
      "model_module": "@jupyter-widgets/controls",
      "model_module_version": "1.5.0",
      "model_name": "ButtonStyleModel",
      "state": {}
     },
     "35109b4039c84c32bff9f55596fe27b5": {
      "model_module": "jupyter-cytoscape",
      "model_module_version": "^1.2.2",
      "model_name": "EdgeModel",
      "state": {
       "_model_module_version": "^1.2.2",
       "_view_module_version": "^1.2.2",
       "classes": " directed  multiple_edges ",
       "data": {
        "id": "model_year_mpg",
        "source": "model_year",
        "target": "mpg"
       },
       "selectable": false
      }
     },
     "35112f8195af4ef682174846406044d0": {
      "model_module": "jupyter-cytoscape",
      "model_module_version": "^1.2.2",
      "model_name": "EdgeModel",
      "state": {
       "_model_module_version": "^1.2.2",
       "_view_module_version": "^1.2.2",
       "classes": " directed  multiple_edges ",
       "data": {
        "id": "model_year_cylinders",
        "source": "model_year",
        "target": "cylinders"
       },
       "selectable": false
      }
     },
     "354ca26dcdea4f839f6c3522b614339c": {
      "model_module": "@jupyter-widgets/base",
      "model_module_version": "1.2.0",
      "model_name": "LayoutModel",
      "state": {}
     },
     "35ab615a122847c79f20c1486462aa4c": {
      "model_module": "jupyter-cytoscape",
      "model_module_version": "^1.2.2",
      "model_name": "EdgeModel",
      "state": {
       "_model_module_version": "^1.2.2",
       "_view_module_version": "^1.2.2",
       "classes": " directed  multiple_edges ",
       "data": {
        "id": "displacement_horsepower",
        "source": "displacement",
        "target": "horsepower"
       },
       "selectable": false
      }
     },
     "35b6e6a6b68a4ea7a7fab092bffa7996": {
      "model_module": "jupyter-cytoscape",
      "model_module_version": "^1.2.2",
      "model_name": "EdgeModel",
      "state": {
       "_model_module_version": "^1.2.2",
       "_view_module_version": "^1.2.2",
       "classes": " directed  multiple_edges ",
       "data": {
        "id": "origin_horsepower",
        "source": "origin",
        "target": "horsepower"
       },
       "selectable": false
      }
     },
     "35e2eb9e969848f4886711fdc265ca3d": {
      "model_module": "jupyter-cytoscape",
      "model_module_version": "^1.2.2",
      "model_name": "NodeModel",
      "state": {
       "_model_module_version": "^1.2.2",
       "_view_module_version": "^1.2.2",
       "data": {
        "id": "cylinders",
        "label": "cylinders"
       },
       "grabbable": true,
       "grabbed": false,
       "position": {
        "x": 433.0988645297568,
        "y": 243.59005208886958
       },
       "selectable": false
      }
     },
     "35f2b258d46d453486cf1aea0f7f5a2b": {
      "model_module": "jupyter-cytoscape",
      "model_module_version": "^1.2.2",
      "model_name": "EdgeModel",
      "state": {
       "_model_module_version": "^1.2.2",
       "_view_module_version": "^1.2.2",
       "classes": " directed  multiple_edges ",
       "data": {
        "id": "mpg_origin",
        "source": "mpg",
        "target": "origin"
       },
       "selectable": false
      }
     },
     "361a51ddd65b42d7a643e5ed59b464c4": {
      "model_module": "jupyter-cytoscape",
      "model_module_version": "^1.2.2",
      "model_name": "EdgeModel",
      "state": {
       "_model_module_version": "^1.2.2",
       "_view_module_version": "^1.2.2",
       "classes": " directed  multiple_edges ",
       "data": {
        "id": "displacement_cylinders",
        "source": "displacement",
        "target": "cylinders"
       },
       "selectable": false
      }
     },
     "361bf57eb611414cb908fecd938ef925": {
      "model_module": "jupyter-cytoscape",
      "model_module_version": "^1.2.2",
      "model_name": "EdgeModel",
      "state": {
       "_model_module_version": "^1.2.2",
       "_view_module_version": "^1.2.2",
       "classes": " directed  multiple_edges ",
       "data": {
        "id": "model_year_weight",
        "source": "model_year",
        "target": "weight"
       },
       "removed": true,
       "selectable": false
      }
     },
     "36af212dba4e4b10a4de7be011ada2f1": {
      "model_module": "jupyter-cytoscape",
      "model_module_version": "^1.2.2",
      "model_name": "EdgeModel",
      "state": {
       "_model_module_version": "^1.2.2",
       "_view_module_version": "^1.2.2",
       "classes": " directed  multiple_edges ",
       "data": {
        "id": "origin_horsepower",
        "source": "origin",
        "target": "horsepower"
       },
       "selectable": false
      }
     },
     "37611600c93e483b8ea51b3d7acce9e8": {
      "model_module": "jupyter-cytoscape",
      "model_module_version": "^1.2.2",
      "model_name": "CytoscapeModel",
      "state": {
       "_interaction_handlers": {
        "edge": [
         "click"
        ],
        "node": [
         "click"
        ]
       },
       "_model_module_version": "^1.2.2",
       "_view_module_version": "^1.2.2",
       "auto_ungrabify": false,
       "autolock": false,
       "cytoscape_layout": {
        "name": "cola"
       },
       "cytoscape_style": [
        {
         "selector": "node",
         "style": {
          "background-color": "blue",
          "font-family": "arial",
          "font-size": "10px",
          "label": "data(label)"
         }
        },
        {
         "selector": "edge",
         "style": {
          "curve-style": "bezier",
          "line-color": "#9dbaea",
          "target-arrow-color": "#9dbaea",
          "target-arrow-shape": "triangle",
          "width": 4
         }
        },
        {
         "css": {
          "line-color": "red"
         },
         "selector": "edge.selected"
        },
        {
         "css": {
          "background-color": "red"
         },
         "selector": "node.selected"
        }
       ],
       "desktop_tap_threshold": 4,
       "graph": "IPY_MODEL_a02f80e67c8e4a3499bbb74e5f87e40e",
       "headless": false,
       "hide_edges_on_viewport": false,
       "layout": "IPY_MODEL_571ad0eed42e40c59f4dbb40b33455e4",
       "max_zoom": 1e+50,
       "min_zoom": 1e-50,
       "motion_blur": false,
       "motion_blur_opacity": 0.2,
       "panning_enabled": true,
       "pixel_ratio": "auto",
       "rendered_position": {
        "renderedPosition": {
         "x": 100,
         "y": 100
        }
       },
       "selection_type": "single",
       "style_enabled": true,
       "texture_on_viewport": false,
       "tooltip_source": "tooltip",
       "touch_tap_threshold": 8,
       "user_panning_enabled": true,
       "user_zooming_enabled": true,
       "wheel_sensitivity": 1,
       "zoom": 2,
       "zooming_enabled": true
      }
     },
     "37b86c36cbb14da495049e9cebe56835": {
      "model_module": "jupyter-cytoscape",
      "model_module_version": "^1.2.2",
      "model_name": "EdgeModel",
      "state": {
       "_model_module_version": "^1.2.2",
       "_view_module_version": "^1.2.2",
       "classes": " directed  multiple_edges ",
       "data": {
        "id": "model_year_cylinders",
        "source": "model_year",
        "target": "cylinders"
       },
       "removed": true,
       "selectable": false
      }
     },
     "3801fabfda1641c78e38aa19522da6cb": {
      "model_module": "jupyter-cytoscape",
      "model_module_version": "^1.2.2",
      "model_name": "NodeModel",
      "state": {
       "_model_module_version": "^1.2.2",
       "_view_module_version": "^1.2.2",
       "data": {
        "id": "mpg",
        "label": "mpg"
       },
       "grabbable": true,
       "grabbed": false,
       "position": {
        "x": 955.6135635422594,
        "y": 216.36709342445963
       },
       "selectable": false
      }
     },
     "383a438ab80a463b90813e7d684efa48": {
      "model_module": "jupyter-cytoscape",
      "model_module_version": "^1.2.2",
      "model_name": "EdgeModel",
      "state": {
       "_model_module_version": "^1.2.2",
       "_view_module_version": "^1.2.2",
       "classes": " directed  multiple_edges ",
       "data": {
        "id": "displacement_acceleration",
        "source": "displacement",
        "target": "acceleration"
       },
       "selectable": false
      }
     },
     "3899e182db6346bbabc658203fb4e3d1": {
      "model_module": "jupyter-cytoscape",
      "model_module_version": "^1.2.2",
      "model_name": "EdgeModel",
      "state": {
       "_model_module_version": "^1.2.2",
       "_view_module_version": "^1.2.2",
       "classes": " directed  multiple_edges ",
       "data": {
        "id": "cylinders_origin",
        "source": "cylinders",
        "target": "origin"
       },
       "removed": true,
       "selectable": false
      }
     },
     "38d4e3a55f0142bcb0df3c78cdcdeefc": {
      "model_module": "jupyter-cytoscape",
      "model_module_version": "^1.2.2",
      "model_name": "EdgeModel",
      "state": {
       "_model_module_version": "^1.2.2",
       "_view_module_version": "^1.2.2",
       "classes": " directed  multiple_edges ",
       "data": {
        "id": "cylinders_origin",
        "source": "cylinders",
        "target": "origin"
       },
       "selectable": false
      }
     },
     "395d84de3c184d0cacf504dd2fee58f2": {
      "model_module": "jupyter-cytoscape",
      "model_module_version": "^1.2.2",
      "model_name": "EdgeModel",
      "state": {
       "_model_module_version": "^1.2.2",
       "_view_module_version": "^1.2.2",
       "classes": " directed  multiple_edges ",
       "data": {
        "id": "model_year_mpg",
        "source": "model_year",
        "target": "mpg"
       },
       "selectable": false
      }
     },
     "3969d33d5e84468a98e64172ef542df1": {
      "model_module": "@jupyter-widgets/output",
      "model_module_version": "1.0.0",
      "model_name": "OutputModel",
      "state": {
       "layout": "IPY_MODEL_e04d7ced45d2480e87a90a4c94ea86f3"
      }
     },
     "39ecf314e08b414f8d49c4edbc09df13": {
      "model_module": "jupyter-cytoscape",
      "model_module_version": "^1.2.2",
      "model_name": "NodeModel",
      "state": {
       "_model_module_version": "^1.2.2",
       "_view_module_version": "^1.2.2",
       "data": {
        "id": "acceleration",
        "label": "acceleration"
       },
       "grabbable": true,
       "grabbed": false,
       "position": {
        "x": 597.4340330361491,
        "y": 297.87127869548584
       },
       "removed": true,
       "selectable": false
      }
     },
     "3a26505315b2455ebaa664131bdf28ae": {
      "model_module": "jupyter-cytoscape",
      "model_module_version": "^1.2.2",
      "model_name": "EdgeModel",
      "state": {
       "_model_module_version": "^1.2.2",
       "_view_module_version": "^1.2.2",
       "classes": " directed  multiple_edges ",
       "data": {
        "id": "displacement_horsepower",
        "source": "displacement",
        "target": "horsepower"
       },
       "removed": true,
       "selectable": false
      }
     },
     "3a3a7b312c1642609cc1ba9e58346b17": {
      "model_module": "jupyter-cytoscape",
      "model_module_version": "^1.2.2",
      "model_name": "EdgeModel",
      "state": {
       "_model_module_version": "^1.2.2",
       "_view_module_version": "^1.2.2",
       "classes": " directed  multiple_edges ",
       "data": {
        "id": "displacement_origin",
        "source": "displacement",
        "target": "origin"
       },
       "selectable": false
      }
     },
     "3aa10223ee7e496e9b658421edd3c6a4": {
      "model_module": "@jupyter-widgets/base",
      "model_module_version": "1.2.0",
      "model_name": "LayoutModel",
      "state": {}
     },
     "3ababb6d9d9c49e6a21e8acf1411457c": {
      "model_module": "jupyter-cytoscape",
      "model_module_version": "^1.2.2",
      "model_name": "GraphModel",
      "state": {
       "_adj": {
        "acceleration": {},
        "cylinders": {},
        "displacement": {},
        "horsepower": {},
        "model_year": {},
        "mpg": {},
        "origin": {},
        "weight": {}
       },
       "_model_module_version": "^1.2.2",
       "_view_module": "jupyter-cytoscape",
       "_view_module_version": "^1.2.2",
       "edges": [
        "IPY_MODEL_300fd957f6d4405395a73097a23bfb7b",
        "IPY_MODEL_9470d92433c7484595e90a91e1daadbf",
        "IPY_MODEL_579724e68f8343429f2f4b67fda6f4f1",
        "IPY_MODEL_32549e991e3349cb87abfef888c8b2ba",
        "IPY_MODEL_303783e9a4fa49c0bec5ab0d6bb00bbd",
        "IPY_MODEL_fe47907d1c1a40f2b230d6bd6507187e",
        "IPY_MODEL_15fd9236686041a4a9b635f61d21fa91",
        "IPY_MODEL_ac775bfa61e94198a0208d98b377df03",
        "IPY_MODEL_d526e82dd1e240168f23b4a037a517c5",
        "IPY_MODEL_2f14beda1ce74bc9903291a21d18d286",
        "IPY_MODEL_098cdb3efc174580afe2ee4869e77aed",
        "IPY_MODEL_865d7aa9e5db496db94d5fe41a0e87e0",
        "IPY_MODEL_e0e0ea1c267b499c96526addd3cd218a",
        "IPY_MODEL_3f1b496de4424f5584f88356b217fdde"
       ],
       "nodes": [
        "IPY_MODEL_c460ab0cb03748a8a65d9313754b3313",
        "IPY_MODEL_18d63226e02546d0a563fa0fde67ae7e",
        "IPY_MODEL_7f3efeb4467a442c833ce5a61a09bf5c",
        "IPY_MODEL_52ce25ac629d4df8852e1cb566860b0d",
        "IPY_MODEL_711dfdd396e5437ca20b9d495f7d9b7d",
        "IPY_MODEL_47f9d26460d945d98689a7161f0f7dec",
        "IPY_MODEL_5c8c05be00bd44bdb15d763b8349f946",
        "IPY_MODEL_e0fcfc55b93e45b9ade77ad3fb69f11f"
       ]
      }
     },
     "3ae40c0773fa4862a216b498c7d9b90c": {
      "model_module": "jupyter-cytoscape",
      "model_module_version": "^1.2.2",
      "model_name": "CytoscapeModel",
      "state": {
       "_interaction_handlers": {
        "edge": [
         "click"
        ],
        "node": [
         "click"
        ]
       },
       "_model_module_version": "^1.2.2",
       "_view_module_version": "^1.2.2",
       "auto_ungrabify": false,
       "autolock": false,
       "cytoscape_layout": {
        "name": "cola"
       },
       "cytoscape_style": [
        {
         "selector": "node",
         "style": {
          "background-color": "blue",
          "font-family": "arial",
          "font-size": "10px",
          "label": "data(label)"
         }
        },
        {
         "selector": "edge",
         "style": {
          "curve-style": "bezier",
          "line-color": "#9dbaea",
          "target-arrow-color": "#9dbaea",
          "target-arrow-shape": "triangle",
          "width": 4
         }
        },
        {
         "css": {
          "line-color": "red"
         },
         "selector": "edge.selected"
        },
        {
         "css": {
          "background-color": "red"
         },
         "selector": "node.selected"
        }
       ],
       "desktop_tap_threshold": 4,
       "graph": "IPY_MODEL_e2fa8aec33f841408335365dc9e68d29",
       "headless": false,
       "hide_edges_on_viewport": false,
       "layout": "IPY_MODEL_a89f578f2f324645b5a8ace669fd163f",
       "max_zoom": 1e+50,
       "min_zoom": 1e-50,
       "motion_blur": false,
       "motion_blur_opacity": 0.2,
       "panning_enabled": true,
       "pixel_ratio": "auto",
       "rendered_position": {
        "renderedPosition": {
         "x": 100,
         "y": 100
        }
       },
       "selection_type": "single",
       "style_enabled": true,
       "texture_on_viewport": false,
       "tooltip_source": "tooltip",
       "touch_tap_threshold": 8,
       "user_panning_enabled": true,
       "user_zooming_enabled": true,
       "wheel_sensitivity": 1,
       "zoom": 2,
       "zooming_enabled": true
      }
     },
     "3af16d31425b4822ab7e230706924777": {
      "model_module": "@jupyter-widgets/controls",
      "model_module_version": "1.5.0",
      "model_name": "ButtonModel",
      "state": {
       "description": "Add Edge",
       "disabled": true,
       "layout": "IPY_MODEL_7be1c424631b48eeb4fac263269bb9c6",
       "style": "IPY_MODEL_f5fd73923cda485b99d71e349327e701"
      }
     },
     "3b061e6be4764b34a330502ce23e7287": {
      "model_module": "jupyter-cytoscape",
      "model_module_version": "^1.2.2",
      "model_name": "NodeModel",
      "state": {
       "_model_module_version": "^1.2.2",
       "_view_module_version": "^1.2.2",
       "data": {
        "id": "acceleration",
        "label": "acceleration"
       },
       "grabbable": true,
       "grabbed": false,
       "position": {
        "x": 926.3377602020022,
        "y": 283.1085107794279
       },
       "removed": true,
       "selectable": false
      }
     },
     "3b391612768e48d3b8152719fdf5dcaa": {
      "model_module": "jupyter-cytoscape",
      "model_module_version": "^1.2.2",
      "model_name": "EdgeModel",
      "state": {
       "_model_module_version": "^1.2.2",
       "_view_module_version": "^1.2.2",
       "classes": " directed  multiple_edges ",
       "data": {
        "id": "model_year_cylinders",
        "source": "model_year",
        "target": "cylinders"
       },
       "removed": true,
       "selectable": false
      }
     },
     "3b4f15530f914212a6b7e8e08830f9d6": {
      "model_module": "jupyter-cytoscape",
      "model_module_version": "^1.2.2",
      "model_name": "NodeModel",
      "state": {
       "_model_module_version": "^1.2.2",
       "_view_module_version": "^1.2.2",
       "data": {
        "id": "horsepower",
        "label": "horsepower"
       },
       "grabbable": true,
       "grabbed": false,
       "position": {
        "x": 475.71288914143923,
        "y": 150.82187160064277
       },
       "selectable": false
      }
     },
     "3b57c3aed94040698b095b7e5464c385": {
      "model_module": "jupyter-cytoscape",
      "model_module_version": "^1.2.2",
      "model_name": "NodeModel",
      "state": {
       "_model_module_version": "^1.2.2",
       "_view_module_version": "^1.2.2",
       "data": {
        "id": "horsepower",
        "label": "horsepower"
       },
       "grabbable": true,
       "grabbed": false,
       "position": {
        "x": 577.9148798505772,
        "y": 175.06249095156275
       },
       "removed": true,
       "selectable": false
      }
     },
     "3b67320d4e9b495f9cf50a391bd65b99": {
      "model_module": "jupyter-cytoscape",
      "model_module_version": "^1.2.2",
      "model_name": "NodeModel",
      "state": {
       "_model_module_version": "^1.2.2",
       "_view_module_version": "^1.2.2",
       "data": {
        "id": "acceleration",
        "label": "acceleration"
       },
       "grabbable": true,
       "grabbed": false,
       "position": {
        "x": 723.4340330361492,
        "y": 297.87127869548584
       },
       "removed": true,
       "selectable": false
      }
     },
     "3bb979e1f86742d7b7c101d5e2ba5de8": {
      "model_module": "jupyter-cytoscape",
      "model_module_version": "^1.2.2",
      "model_name": "NodeModel",
      "state": {
       "_model_module_version": "^1.2.2",
       "_view_module_version": "^1.2.2",
       "data": {
        "id": "origin",
        "label": "origin"
       },
       "grabbable": true,
       "grabbed": false,
       "position": {
        "x": 995.7354850880891,
        "y": 163.5432082464874
       },
       "selectable": false
      }
     },
     "3bcbb186b3324051a7c1ab772c75b990": {
      "model_module": "jupyter-cytoscape",
      "model_module_version": "^1.2.2",
      "model_name": "NodeModel",
      "state": {
       "_model_module_version": "^1.2.2",
       "_view_module_version": "^1.2.2",
       "data": {
        "id": "mpg",
        "label": "mpg"
       },
       "grabbable": true,
       "grabbed": false,
       "position": {
        "x": 604.8409436213743,
        "y": 147.15280318553792
       },
       "selectable": false
      }
     },
     "3c0766e2c479439b9a0e398bc7988ea0": {
      "model_module": "jupyter-cytoscape",
      "model_module_version": "^1.2.2",
      "model_name": "EdgeModel",
      "state": {
       "_model_module_version": "^1.2.2",
       "_view_module_version": "^1.2.2",
       "classes": " directed  multiple_edges ",
       "data": {
        "id": "origin_horsepower",
        "source": "origin",
        "target": "horsepower"
       },
       "selectable": false
      }
     },
     "3c183687fec14f3d9550a45ff668ed22": {
      "model_module": "jupyter-cytoscape",
      "model_module_version": "^1.2.2",
      "model_name": "EdgeModel",
      "state": {
       "_model_module_version": "^1.2.2",
       "_view_module_version": "^1.2.2",
       "classes": " directed  multiple_edges ",
       "data": {
        "id": "horsepower_acceleration",
        "source": "horsepower",
        "target": "acceleration"
       },
       "removed": true,
       "selectable": false
      }
     },
     "3c31633b4ccb45359796ad7ccd3cc494": {
      "model_module": "jupyter-cytoscape",
      "model_module_version": "^1.2.2",
      "model_name": "EdgeModel",
      "state": {
       "_model_module_version": "^1.2.2",
       "_view_module_version": "^1.2.2",
       "classes": " directed  multiple_edges ",
       "data": {
        "id": "weight_mpg",
        "source": "weight",
        "target": "mpg"
       },
       "selectable": false
      }
     },
     "3c49a87a7f134e71b9bf369036e057fc": {
      "model_module": "jupyter-cytoscape",
      "model_module_version": "^1.2.2",
      "model_name": "EdgeModel",
      "state": {
       "_model_module_version": "^1.2.2",
       "_view_module_version": "^1.2.2",
       "classes": " directed  multiple_edges ",
       "data": {
        "id": "model_year_mpg",
        "source": "model_year",
        "target": "mpg"
       },
       "removed": true,
       "selectable": false
      }
     },
     "3c8152013da94a619ddb8e520e7538f9": {
      "model_module": "@jupyter-widgets/controls",
      "model_module_version": "1.5.0",
      "model_name": "ButtonStyleModel",
      "state": {}
     },
     "3cc033f243a64872bba37325a7854fd1": {
      "model_module": "jupyter-cytoscape",
      "model_module_version": "^1.2.2",
      "model_name": "EdgeModel",
      "state": {
       "_model_module_version": "^1.2.2",
       "_view_module_version": "^1.2.2",
       "classes": " directed  multiple_edges ",
       "data": {
        "id": "weight_acceleration",
        "source": "weight",
        "target": "acceleration"
       },
       "selectable": false
      }
     },
     "3cd662bf9e414167b2a2abbe4839e65c": {
      "model_module": "jupyter-cytoscape",
      "model_module_version": "^1.2.2",
      "model_name": "EdgeModel",
      "state": {
       "_model_module_version": "^1.2.2",
       "_view_module_version": "^1.2.2",
       "classes": " directed  multiple_edges ",
       "data": {
        "id": "model_year_cylinders",
        "source": "model_year",
        "target": "cylinders"
       },
       "selectable": false
      }
     },
     "3d345796aba143508d90050ad0c9ab89": {
      "model_module": "jupyter-cytoscape",
      "model_module_version": "^1.2.2",
      "model_name": "NodeModel",
      "state": {
       "_model_module_version": "^1.2.2",
       "_view_module_version": "^1.2.2",
       "data": {
        "id": "displacement",
        "label": "displacement"
       },
       "grabbable": true,
       "grabbed": false,
       "position": {
        "x": 1122.963051817975,
        "y": 234.49557778363055
       },
       "selectable": false
      }
     },
     "3d3c3e07bc2c445f9cecfc2e2760f451": {
      "model_module": "@jupyter-widgets/controls",
      "model_module_version": "1.5.0",
      "model_name": "ButtonModel",
      "state": {
       "description": "Add Edge",
       "disabled": true,
       "layout": "IPY_MODEL_90f71833036b498b9c86a5f32ac9bd7c",
       "style": "IPY_MODEL_0db32573bcca4098849b98ac6d09bfbf"
      }
     },
     "3d644fab60414645a949c28152a59f10": {
      "model_module": "jupyter-cytoscape",
      "model_module_version": "^1.2.2",
      "model_name": "EdgeModel",
      "state": {
       "_model_module_version": "^1.2.2",
       "_view_module_version": "^1.2.2",
       "classes": " directed  multiple_edges ",
       "data": {
        "id": "weight_acceleration",
        "source": "weight",
        "target": "acceleration"
       },
       "selectable": false
      }
     },
     "3d707c4e7afb414996e779a89c55cbb6": {
      "model_module": "jupyter-cytoscape",
      "model_module_version": "^1.2.2",
      "model_name": "EdgeModel",
      "state": {
       "_model_module_version": "^1.2.2",
       "_view_module_version": "^1.2.2",
       "classes": " directed  multiple_edges ",
       "data": {
        "id": "model_year_mpg",
        "source": "model_year",
        "target": "mpg"
       },
       "selectable": false
      }
     },
     "3d91bc063d564a08a7fcba3225c0451d": {
      "model_module": "jupyter-cytoscape",
      "model_module_version": "^1.2.2",
      "model_name": "EdgeModel",
      "state": {
       "_model_module_version": "^1.2.2",
       "_view_module_version": "^1.2.2",
       "classes": " directed  multiple_edges ",
       "data": {
        "id": "model_year_mpg",
        "source": "model_year",
        "target": "mpg"
       },
       "removed": true,
       "selectable": false
      }
     },
     "3daddb27dd4c43639a23ccc941515b7a": {
      "model_module": "jupyter-cytoscape",
      "model_module_version": "^1.2.2",
      "model_name": "NodeModel",
      "state": {
       "_model_module_version": "^1.2.2",
       "_view_module_version": "^1.2.2",
       "data": {
        "id": "model_year",
        "label": "model_year"
       },
       "grabbable": true,
       "grabbed": false,
       "position": {
        "x": 559.3412859858755,
        "y": 263.5513286832067
       },
       "selectable": false
      }
     },
     "3daf180fedd64348bfdb1f165b119569": {
      "model_module": "jupyter-cytoscape",
      "model_module_version": "^1.2.2",
      "model_name": "EdgeModel",
      "state": {
       "_model_module_version": "^1.2.2",
       "_view_module_version": "^1.2.2",
       "classes": " directed  multiple_edges ",
       "data": {
        "id": "cylinders_origin",
        "source": "cylinders",
        "target": "origin"
       },
       "selectable": false
      }
     },
     "3db36558006849acaa85dcde7f7867bf": {
      "model_module": "jupyter-cytoscape",
      "model_module_version": "^1.2.2",
      "model_name": "EdgeModel",
      "state": {
       "_model_module_version": "^1.2.2",
       "_view_module_version": "^1.2.2",
       "classes": " directed  multiple_edges ",
       "data": {
        "id": "displacement_cylinders",
        "source": "displacement",
        "target": "cylinders"
       },
       "selectable": false
      }
     },
     "3dc15997e33d4b56af4a85ed3d9a78ea": {
      "model_module": "@jupyter-widgets/controls",
      "model_module_version": "1.5.0",
      "model_name": "ButtonModel",
      "state": {
       "description": "Change Direction",
       "disabled": true,
       "layout": "IPY_MODEL_83197bb369d34d40a6bf1eb97182f6ea",
       "style": "IPY_MODEL_cae5aa22999645c0acac38c907d6ce25"
      }
     },
     "3dcac400327a49a39421a9f5cb34b144": {
      "model_module": "jupyter-cytoscape",
      "model_module_version": "^1.2.2",
      "model_name": "EdgeModel",
      "state": {
       "_model_module_version": "^1.2.2",
       "_view_module_version": "^1.2.2",
       "classes": " directed  multiple_edges ",
       "data": {
        "id": "horsepower_acceleration",
        "source": "horsepower",
        "target": "acceleration"
       },
       "selectable": false
      }
     },
     "3e9c0bd3f5f8458fa06b7fe7f52abd54": {
      "model_module": "jupyter-cytoscape",
      "model_module_version": "^1.2.2",
      "model_name": "EdgeModel",
      "state": {
       "_model_module_version": "^1.2.2",
       "_view_module_version": "^1.2.2",
       "classes": " directed  multiple_edges ",
       "data": {
        "id": "weight_mpg",
        "source": "weight",
        "target": "mpg"
       },
       "selectable": false
      }
     },
     "3f0be8089c634300a8e4d094206d799e": {
      "model_module": "jupyter-cytoscape",
      "model_module_version": "^1.2.2",
      "model_name": "EdgeModel",
      "state": {
       "_model_module_version": "^1.2.2",
       "_view_module_version": "^1.2.2",
       "classes": " directed  multiple_edges ",
       "data": {
        "id": "displacement_horsepower",
        "source": "displacement",
        "target": "horsepower"
       },
       "selectable": false
      }
     },
     "3f1b496de4424f5584f88356b217fdde": {
      "model_module": "jupyter-cytoscape",
      "model_module_version": "^1.2.2",
      "model_name": "EdgeModel",
      "state": {
       "_model_module_version": "^1.2.2",
       "_view_module_version": "^1.2.2",
       "classes": " directed  multiple_edges ",
       "data": {
        "id": "model_year_acceleration",
        "source": "model_year",
        "target": "acceleration"
       },
       "selectable": false
      }
     },
     "3f2e42b12f714f4596e0da1ff4024f84": {
      "model_module": "jupyter-cytoscape",
      "model_module_version": "^1.2.2",
      "model_name": "EdgeModel",
      "state": {
       "_model_module_version": "^1.2.2",
       "_view_module_version": "^1.2.2",
       "classes": " directed  multiple_edges ",
       "data": {
        "id": "weight_horsepower",
        "source": "weight",
        "target": "horsepower"
       },
       "removed": true,
       "selectable": false
      }
     },
     "3f5bf264d23e479c9ae227ecf3fd8d54": {
      "model_module": "jupyter-cytoscape",
      "model_module_version": "^1.2.2",
      "model_name": "EdgeModel",
      "state": {
       "_model_module_version": "^1.2.2",
       "_view_module_version": "^1.2.2",
       "classes": " directed  multiple_edges ",
       "data": {
        "id": "weight_horsepower",
        "source": "weight",
        "target": "horsepower"
       },
       "removed": true,
       "selectable": false
      }
     },
     "3f70673dacb9445c82fa56a6328e3fb4": {
      "model_module": "jupyter-cytoscape",
      "model_module_version": "^1.2.2",
      "model_name": "EdgeModel",
      "state": {
       "_model_module_version": "^1.2.2",
       "_view_module_version": "^1.2.2",
       "classes": " multiple_edges directed selected",
       "data": {
        "id": "weight_horsepower",
        "source": "weight",
        "target": "horsepower"
       },
       "removed": true,
       "selectable": false
      }
     },
     "3fb445f76fde46c5971cb47518504fdf": {
      "model_module": "jupyter-cytoscape",
      "model_module_version": "^1.2.2",
      "model_name": "EdgeModel",
      "state": {
       "_model_module_version": "^1.2.2",
       "_view_module_version": "^1.2.2",
       "classes": " directed  multiple_edges ",
       "data": {
        "id": "displacement_acceleration",
        "source": "displacement",
        "target": "acceleration"
       },
       "selectable": false
      }
     },
     "3fd8acb99b284f528b1cf3ad4cf8547a": {
      "model_module": "jupyter-cytoscape",
      "model_module_version": "^1.2.2",
      "model_name": "EdgeModel",
      "state": {
       "_model_module_version": "^1.2.2",
       "_view_module_version": "^1.2.2",
       "classes": " directed  multiple_edges ",
       "data": {
        "id": "model_year_weight",
        "source": "model_year",
        "target": "weight"
       },
       "selectable": false
      }
     },
     "4021cf13e2c6456f8e2d1283b7cfa056": {
      "model_module": "jupyter-cytoscape",
      "model_module_version": "^1.2.2",
      "model_name": "EdgeModel",
      "state": {
       "_model_module_version": "^1.2.2",
       "_view_module_version": "^1.2.2",
       "classes": " directed  multiple_edges ",
       "data": {
        "id": "displacement_weight",
        "source": "displacement",
        "target": "weight"
       },
       "removed": true,
       "selectable": false
      }
     },
     "407938960760482dac7264b0681bd1fe": {
      "model_module": "jupyter-cytoscape",
      "model_module_version": "^1.2.2",
      "model_name": "EdgeModel",
      "state": {
       "_model_module_version": "^1.2.2",
       "_view_module_version": "^1.2.2",
       "classes": " directed  multiple_edges ",
       "data": {
        "id": "weight_horsepower",
        "source": "weight",
        "target": "horsepower"
       },
       "selectable": false
      }
     },
     "40a2a78873734e15a2c7222eb202ab38": {
      "model_module": "jupyter-cytoscape",
      "model_module_version": "^1.2.2",
      "model_name": "EdgeModel",
      "state": {
       "_model_module_version": "^1.2.2",
       "_view_module_version": "^1.2.2",
       "classes": " directed  multiple_edges ",
       "data": {
        "id": "model_year_acceleration",
        "source": "model_year",
        "target": "acceleration"
       },
       "selectable": false
      }
     },
     "40bae203cf554967a820b3a56b3cedaf": {
      "model_module": "jupyter-cytoscape",
      "model_module_version": "^1.2.2",
      "model_name": "EdgeModel",
      "state": {
       "_model_module_version": "^1.2.2",
       "_view_module_version": "^1.2.2",
       "classes": " directed  multiple_edges ",
       "data": {
        "id": "weight_acceleration",
        "source": "weight",
        "target": "acceleration"
       },
       "selectable": false
      }
     },
     "40d89b8b397747a7bd13e309cb5d804f": {
      "model_module": "jupyter-cytoscape",
      "model_module_version": "^1.2.2",
      "model_name": "EdgeModel",
      "state": {
       "_model_module_version": "^1.2.2",
       "_view_module_version": "^1.2.2",
       "classes": " directed  multiple_edges ",
       "data": {
        "id": "weight_mpg",
        "source": "weight",
        "target": "mpg"
       },
       "removed": true,
       "selectable": false
      }
     },
     "410c040e7a094f07b1901d95189c278e": {
      "model_module": "@jupyter-widgets/controls",
      "model_module_version": "1.5.0",
      "model_name": "ButtonStyleModel",
      "state": {}
     },
     "415c9bf415b04d5fa1f48c880bb29f11": {
      "model_module": "jupyter-cytoscape",
      "model_module_version": "^1.2.2",
      "model_name": "EdgeModel",
      "state": {
       "_model_module_version": "^1.2.2",
       "_view_module_version": "^1.2.2",
       "classes": " multiple_edges directed selected",
       "data": {
        "id": "displacement_cylinders",
        "source": "displacement",
        "target": "cylinders"
       },
       "removed": true,
       "selectable": false
      }
     },
     "41d869b0b65a4236a4f9c125abbff01a": {
      "model_module": "jupyter-cytoscape",
      "model_module_version": "^1.2.2",
      "model_name": "EdgeModel",
      "state": {
       "_model_module_version": "^1.2.2",
       "_view_module_version": "^1.2.2",
       "classes": " directed  multiple_edges ",
       "data": {
        "id": "horsepower_weight",
        "source": "horsepower",
        "target": "weight"
       },
       "selectable": false
      }
     },
     "41f10adda21345a88b9bb90e1d170c5b": {
      "model_module": "jupyter-cytoscape",
      "model_module_version": "^1.2.2",
      "model_name": "NodeModel",
      "state": {
       "_model_module_version": "^1.2.2",
       "_view_module_version": "^1.2.2",
       "data": {
        "id": "weight",
        "label": "weight"
       },
       "grabbable": true,
       "grabbed": false,
       "position": {
        "x": 768.9397278953298,
        "y": 217.53500807231808
       },
       "removed": true,
       "selectable": false
      }
     },
     "41f42276e9994a33a8142e00fcad3d27": {
      "model_module": "jupyter-cytoscape",
      "model_module_version": "^1.2.2",
      "model_name": "NodeModel",
      "state": {
       "_model_module_version": "^1.2.2",
       "_view_module_version": "^1.2.2",
       "classes": " selected",
       "data": {
        "id": "origin",
        "label": "origin"
       },
       "grabbable": true,
       "grabbed": false,
       "position": {
        "x": 879.7666441638345,
        "y": 146.56432876855445
       },
       "removed": true,
       "selectable": false
      }
     },
     "420153c9bdd6485bbd10a8fb29eaf477": {
      "model_module": "@jupyter-widgets/output",
      "model_module_version": "1.0.0",
      "model_name": "OutputModel",
      "state": {
       "layout": "IPY_MODEL_8301de8ae17445159c2c49902ba7d4b2"
      }
     },
     "421fd104ecff4cb39a574e9fe092f2cc": {
      "model_module": "@jupyter-widgets/base",
      "model_module_version": "1.2.0",
      "model_name": "LayoutModel",
      "state": {}
     },
     "42386189292c4f809780d412203d218d": {
      "model_module": "jupyter-cytoscape",
      "model_module_version": "^1.2.2",
      "model_name": "NodeModel",
      "state": {
       "_model_module_version": "^1.2.2",
       "_view_module_version": "^1.2.2",
       "data": {
        "id": "mpg",
        "label": "mpg"
       },
       "grabbable": true,
       "grabbed": false,
       "position": {
        "x": 604.8409436213743,
        "y": 147.15280318553792
       },
       "selectable": false
      }
     },
     "42399243d6d04b938ea6f1a340c1356e": {
      "model_module": "jupyter-cytoscape",
      "model_module_version": "^1.2.2",
      "model_name": "GraphModel",
      "state": {
       "_adj": {},
       "_model_module_version": "^1.2.2",
       "_view_module": "jupyter-cytoscape",
       "_view_module_version": "^1.2.2"
      }
     },
     "425b45c446e04724a423854912ae9c56": {
      "model_module": "jupyter-cytoscape",
      "model_module_version": "^1.2.2",
      "model_name": "GraphModel",
      "state": {
       "_adj": {
        "acceleration": {},
        "cylinders": {},
        "displacement": {},
        "horsepower": {},
        "model_year": {},
        "mpg": {},
        "origin": {},
        "weight": {}
       },
       "_model_module_version": "^1.2.2",
       "_view_module": "jupyter-cytoscape",
       "_view_module_version": "^1.2.2",
       "edges": [
        "IPY_MODEL_8a905fad14c646d8806844d0506223c6",
        "IPY_MODEL_2edef8d8c1fb4b4189f26d73918c85e6",
        "IPY_MODEL_52996ebf38e84ffb95dcdce7d86ebb2a",
        "IPY_MODEL_83baf31eabd34d7eb39849698514e80d",
        "IPY_MODEL_3dcac400327a49a39421a9f5cb34b144",
        "IPY_MODEL_7dba115fbdc64057818253bf8aeda271",
        "IPY_MODEL_474a48b760aa4e3e9821b30b87fb9254",
        "IPY_MODEL_b291bc9945c34171bf934a521326590e",
        "IPY_MODEL_f5a98be425004f16835649c1a2fd106a",
        "IPY_MODEL_73043d75a5a440e7a44225d426924f45",
        "IPY_MODEL_5ba13235deea4116986cbb5fbb225114"
       ],
       "nodes": [
        "IPY_MODEL_98b8841d59274b6a84c92f7cff299312",
        "IPY_MODEL_9661dda82a1a4017afb675f9e9339df0",
        "IPY_MODEL_aa13a5e5ba1540f2b58137ed727b100e",
        "IPY_MODEL_222cfe125a0d40899940d546f02b9951",
        "IPY_MODEL_a11fdad0b35845f9a014c7c97b93dbcf",
        "IPY_MODEL_f67efacf6469432e8e47b961654c1eca",
        "IPY_MODEL_ab69445752b240938be621d82066f05b",
        "IPY_MODEL_ce7112a71d034cba900e2abe075e134b"
       ]
      }
     },
     "430f03ce0c584a9bbd14290cff30f3f3": {
      "model_module": "jupyter-cytoscape",
      "model_module_version": "^1.2.2",
      "model_name": "NodeModel",
      "state": {
       "_model_module_version": "^1.2.2",
       "_view_module_version": "^1.2.2",
       "data": {
        "id": "acceleration",
        "label": "acceleration"
       },
       "grabbable": true,
       "grabbed": false,
       "position": {
        "x": 1101.656574071263,
        "y": 336.32518780799865
       },
       "selectable": false
      }
     },
     "4314e1f11c014e328a9e936fe9a77306": {
      "model_module": "jupyter-cytoscape",
      "model_module_version": "^1.2.2",
      "model_name": "GraphModel",
      "state": {
       "_adj": {
        "acceleration": {},
        "cylinders": {},
        "displacement": {},
        "horsepower": {},
        "model_year": {},
        "mpg": {},
        "origin": {},
        "weight": {}
       },
       "_model_module_version": "^1.2.2",
       "_view_module": "jupyter-cytoscape",
       "_view_module_version": "^1.2.2",
       "edges": [
        "IPY_MODEL_0968a3d567d84caeaacc7f8c1d2a22f4",
        "IPY_MODEL_928bb92987db4c2b89f6ad402638163b",
        "IPY_MODEL_4cf686e220534ae0803cc96a942c4720",
        "IPY_MODEL_f49756bb770749bb877a61d1df605718",
        "IPY_MODEL_02f08809f6f64cf39bfb45823cc18256",
        "IPY_MODEL_693f802a3b2341119850ad97f4942d3f",
        "IPY_MODEL_3d644fab60414645a949c28152a59f10",
        "IPY_MODEL_e57b35b7bd7c4edf9cd4df1fad03c8ce",
        "IPY_MODEL_41d869b0b65a4236a4f9c125abbff01a",
        "IPY_MODEL_23e8658c17a64a85b4e7caa3d3ec8b9e"
       ],
       "nodes": [
        "IPY_MODEL_77068c04ef1f471a8c7052a5af1849f7",
        "IPY_MODEL_1b5275b823e8482c83c6e757e74829b5",
        "IPY_MODEL_a2502a7598f046bc8fbc6620221c48f7",
        "IPY_MODEL_5747ccd3cd2045ce81d1dc35bb26b634",
        "IPY_MODEL_f6b0d43b02de499f9e1a84b869c85113",
        "IPY_MODEL_32015ab308e84224991cbfe1f49572b5",
        "IPY_MODEL_12f503c621a7464e8328eae937457c33",
        "IPY_MODEL_6c25e40edc2048f68c4cf1141d7eaad4"
       ]
      }
     },
     "436431882f62440d8afe252efdf80d7a": {
      "model_module": "@jupyter-widgets/base",
      "model_module_version": "1.2.0",
      "model_name": "LayoutModel",
      "state": {}
     },
     "439354a1ab1c4fb39e5697dc5a645324": {
      "model_module": "jupyter-cytoscape",
      "model_module_version": "^1.2.2",
      "model_name": "NodeModel",
      "state": {
       "_model_module_version": "^1.2.2",
       "_view_module_version": "^1.2.2",
       "data": {
        "id": "acceleration",
        "label": "acceleration"
       },
       "grabbable": true,
       "grabbed": false,
       "position": {
        "x": 598.6565740712615,
        "y": 336.3251878079987
       },
       "selectable": false
      }
     },
     "43c0cfff066d46d5bd54aa79d65f3ea2": {
      "model_module": "@jupyter-widgets/controls",
      "model_module_version": "1.5.0",
      "model_name": "ButtonModel",
      "state": {
       "description": "Generate original graph",
       "layout": "IPY_MODEL_00d25f0f392d4c4bb289bf2dfab91929",
       "style": "IPY_MODEL_bf59dc37df854bcdabff43aaa28285ce"
      }
     },
     "4461d26f384a41598654f014b044cf87": {
      "model_module": "jupyter-cytoscape",
      "model_module_version": "^1.2.2",
      "model_name": "EdgeModel",
      "state": {
       "_model_module_version": "^1.2.2",
       "_view_module_version": "^1.2.2",
       "classes": " directed  multiple_edges ",
       "data": {
        "id": "displacement_horsepower",
        "source": "displacement",
        "target": "horsepower"
       },
       "removed": true,
       "selectable": false
      }
     },
     "4470edfc47f047f09d1a2f62b79c62b6": {
      "model_module": "jupyter-cytoscape",
      "model_module_version": "^1.2.2",
      "model_name": "EdgeModel",
      "state": {
       "_model_module_version": "^1.2.2",
       "_view_module_version": "^1.2.2",
       "classes": " directed  multiple_edges ",
       "data": {
        "id": "weight_mpg",
        "source": "weight",
        "target": "mpg"
       },
       "removed": true,
       "selectable": false
      }
     },
     "447e3e9561fb4729a3c80e318a20a38e": {
      "model_module": "jupyter-cytoscape",
      "model_module_version": "^1.2.2",
      "model_name": "EdgeModel",
      "state": {
       "_model_module_version": "^1.2.2",
       "_view_module_version": "^1.2.2",
       "classes": " directed  multiple_edges ",
       "data": {
        "id": "weight_mpg",
        "source": "weight",
        "target": "mpg"
       },
       "removed": true,
       "selectable": false
      }
     },
     "44d1d78d8ba944b893e666f167537be5": {
      "model_module": "jupyter-cytoscape",
      "model_module_version": "^1.2.2",
      "model_name": "NodeModel",
      "state": {
       "_model_module_version": "^1.2.2",
       "_view_module_version": "^1.2.2",
       "data": {
        "id": "acceleration",
        "label": "acceleration"
       },
       "grabbable": true,
       "grabbed": false,
       "position": {
        "x": 902.7877854533126,
        "y": 217.71133730014526
       },
       "removed": true,
       "selectable": false
      }
     },
     "44dccf7f818b4b60b1f3292d3abdc516": {
      "model_module": "jupyter-cytoscape",
      "model_module_version": "^1.2.2",
      "model_name": "NodeModel",
      "state": {
       "_model_module_version": "^1.2.2",
       "_view_module_version": "^1.2.2",
       "data": {
        "id": "cylinders",
        "label": "cylinders"
       },
       "grabbable": true,
       "grabbed": false,
       "position": {
        "x": 775.9465824813514,
        "y": 205.0060797335974
       },
       "removed": true,
       "selectable": false
      }
     },
     "451d8edb88dc4882adf75eb806728075": {
      "model_module": "@jupyter-widgets/controls",
      "model_module_version": "1.5.0",
      "model_name": "ButtonStyleModel",
      "state": {}
     },
     "4525305c7f0d4d189b337f689a8b62e2": {
      "model_module": "jupyter-cytoscape",
      "model_module_version": "^1.2.2",
      "model_name": "NodeModel",
      "state": {
       "_model_module_version": "^1.2.2",
       "_view_module_version": "^1.2.2",
       "data": {
        "id": "cylinders",
        "label": "cylinders"
       },
       "grabbable": true,
       "grabbed": false,
       "position": {
        "x": 876.9334855975536,
        "y": 156.90277540592135
       },
       "removed": true,
       "selectable": false
      }
     },
     "4563369a03ea4f1d82adaf65a5c9a87e": {
      "model_module": "@jupyter-widgets/controls",
      "model_module_version": "1.5.0",
      "model_name": "ButtonModel",
      "state": {
       "description": "Delete Edge",
       "disabled": true,
       "layout": "IPY_MODEL_816149236a4547e1947f54fd7a9abd76",
       "style": "IPY_MODEL_db179cbe4d064060abfbd9f872f7088f"
      }
     },
     "45650000e0e540d68606e967c31d610d": {
      "model_module": "jupyter-cytoscape",
      "model_module_version": "^1.2.2",
      "model_name": "EdgeModel",
      "state": {
       "_model_module_version": "^1.2.2",
       "_view_module_version": "^1.2.2",
       "classes": " directed  multiple_edges ",
       "data": {
        "id": "horsepower_weight",
        "source": "horsepower",
        "target": "weight"
       },
       "selectable": false
      }
     },
     "46182fb44fb14cd8966b09ee65df1e20": {
      "model_module": "jupyter-cytoscape",
      "model_module_version": "^1.2.2",
      "model_name": "NodeModel",
      "state": {
       "_model_module_version": "^1.2.2",
       "_view_module_version": "^1.2.2",
       "data": {
        "id": "mpg",
        "label": "mpg"
       },
       "grabbable": true,
       "grabbed": false,
       "position": {
        "x": 1096.7177770115388,
        "y": 302.20819241606057
       },
       "removed": true,
       "selectable": false
      }
     },
     "46574fdcc67c4984b92fd1d45ae641f0": {
      "model_module": "jupyter-cytoscape",
      "model_module_version": "^1.2.2",
      "model_name": "GraphModel",
      "state": {
       "_adj": {},
       "_model_module_version": "^1.2.2",
       "_view_module": "jupyter-cytoscape",
       "_view_module_version": "^1.2.2"
      }
     },
     "46887c4f7b2946e3846f3487556598da": {
      "model_module": "@jupyter-widgets/controls",
      "model_module_version": "1.5.0",
      "model_name": "ButtonStyleModel",
      "state": {}
     },
     "46a490cb08ed4d44b3abee0afa8162ae": {
      "model_module": "jupyter-cytoscape",
      "model_module_version": "^1.2.2",
      "model_name": "EdgeModel",
      "state": {
       "_model_module_version": "^1.2.2",
       "_view_module_version": "^1.2.2",
       "classes": " directed  multiple_edges ",
       "data": {
        "id": "mpg_origin",
        "source": "mpg",
        "target": "origin"
       },
       "selectable": false
      }
     },
     "46d7968e49434f3abbdcceca83ded6ed": {
      "model_module": "jupyter-cytoscape",
      "model_module_version": "^1.2.2",
      "model_name": "EdgeModel",
      "state": {
       "_model_module_version": "^1.2.2",
       "_view_module_version": "^1.2.2",
       "classes": " directed  multiple_edges ",
       "data": {
        "id": "cylinders_origin",
        "source": "cylinders",
        "target": "origin"
       },
       "selectable": false
      }
     },
     "46e4cfe4a8d04e82bbb26dbf5679b279": {
      "model_module": "jupyter-cytoscape",
      "model_module_version": "^1.2.2",
      "model_name": "EdgeModel",
      "state": {
       "_model_module_version": "^1.2.2",
       "_view_module_version": "^1.2.2",
       "classes": " directed  multiple_edges ",
       "data": {
        "id": "displacement_cylinders",
        "source": "displacement",
        "target": "cylinders"
       },
       "selectable": false
      }
     },
     "46f4489e782a435793fcc4d9f80d0566": {
      "model_module": "jupyter-cytoscape",
      "model_module_version": "^1.2.2",
      "model_name": "GraphModel",
      "state": {
       "_adj": {},
       "_model_module_version": "^1.2.2",
       "_view_module": "jupyter-cytoscape",
       "_view_module_version": "^1.2.2"
      }
     },
     "470f3a558ae040338cf32c880c4a4f78": {
      "model_module": "jupyter-cytoscape",
      "model_module_version": "^1.2.2",
      "model_name": "EdgeModel",
      "state": {
       "_model_module_version": "^1.2.2",
       "_view_module_version": "^1.2.2",
       "classes": " directed  multiple_edges ",
       "data": {
        "id": "displacement_weight",
        "source": "displacement",
        "target": "weight"
       },
       "removed": true,
       "selectable": false
      }
     },
     "4721c346f9f94caba2a8b271ad8c9324": {
      "model_module": "jupyter-cytoscape",
      "model_module_version": "^1.2.2",
      "model_name": "NodeModel",
      "state": {
       "_model_module_version": "^1.2.2",
       "_view_module_version": "^1.2.2",
       "data": {
        "id": "acceleration",
        "label": "acceleration"
       },
       "grabbable": true,
       "grabbed": false,
       "position": {
        "x": 927.8950936473672,
        "y": 113.47198858381655
       },
       "removed": true,
       "selectable": false
      }
     },
     "4741a1b053c2485d9715d511bd71c812": {
      "model_module": "jupyter-cytoscape",
      "model_module_version": "^1.2.2",
      "model_name": "EdgeModel",
      "state": {
       "_model_module_version": "^1.2.2",
       "_view_module_version": "^1.2.2",
       "classes": " directed  multiple_edges ",
       "data": {
        "id": "weight_acceleration",
        "source": "weight",
        "target": "acceleration"
       },
       "removed": true,
       "selectable": false
      }
     },
     "474895d42a7646208ac076942758625d": {
      "model_module": "jupyter-cytoscape",
      "model_module_version": "^1.2.2",
      "model_name": "EdgeModel",
      "state": {
       "_model_module_version": "^1.2.2",
       "_view_module_version": "^1.2.2",
       "classes": " directed  multiple_edges ",
       "data": {
        "id": "model_year_weight",
        "source": "model_year",
        "target": "weight"
       },
       "removed": true,
       "selectable": false
      }
     },
     "474a48b760aa4e3e9821b30b87fb9254": {
      "model_module": "jupyter-cytoscape",
      "model_module_version": "^1.2.2",
      "model_name": "EdgeModel",
      "state": {
       "_model_module_version": "^1.2.2",
       "_view_module_version": "^1.2.2",
       "classes": " directed  multiple_edges ",
       "data": {
        "id": "origin_mpg",
        "source": "origin",
        "target": "mpg"
       },
       "selectable": false
      }
     },
     "474aff127566488a897523a3ed6bef2c": {
      "model_module": "jupyter-cytoscape",
      "model_module_version": "^1.2.2",
      "model_name": "EdgeModel",
      "state": {
       "_model_module_version": "^1.2.2",
       "_view_module_version": "^1.2.2",
       "classes": " directed  multiple_edges ",
       "data": {
        "id": "displacement_acceleration",
        "source": "displacement",
        "target": "acceleration"
       },
       "removed": true,
       "selectable": false
      }
     },
     "475345fdecc64b29a518c8bce2aa5974": {
      "model_module": "@jupyter-widgets/base",
      "model_module_version": "1.2.0",
      "model_name": "LayoutModel",
      "state": {}
     },
     "47f9d26460d945d98689a7161f0f7dec": {
      "model_module": "jupyter-cytoscape",
      "model_module_version": "^1.2.2",
      "model_name": "NodeModel",
      "state": {
       "_model_module_version": "^1.2.2",
       "_view_module_version": "^1.2.2",
       "data": {
        "id": "acceleration",
        "label": "acceleration"
       },
       "grabbable": true,
       "grabbed": false,
       "position": {
        "x": 942.4838916846435,
        "y": 248.19614833533706
       },
       "selectable": false
      }
     },
     "480f1ac253c64dbf951b36930dfc2ad7": {
      "model_module": "jupyter-cytoscape",
      "model_module_version": "^1.2.2",
      "model_name": "NodeModel",
      "state": {
       "_model_module_version": "^1.2.2",
       "_view_module_version": "^1.2.2",
       "data": {
        "id": "model_year",
        "label": "model_year"
       },
       "grabbable": true,
       "grabbed": false,
       "position": {
        "x": 1061.1635343662906,
        "y": 225.07364057090456
       },
       "removed": true,
       "selectable": false
      }
     },
     "4827e9a010c740c0a548633984ff0acf": {
      "model_module": "jupyter-cytoscape",
      "model_module_version": "^1.2.2",
      "model_name": "NodeModel",
      "state": {
       "_model_module_version": "^1.2.2",
       "_view_module_version": "^1.2.2",
       "data": {
        "id": "horsepower",
        "label": "horsepower"
       },
       "grabbable": true,
       "grabbed": false,
       "position": {
        "x": 579.0624766836064,
        "y": 213.55132768320664
       },
       "selectable": false
      }
     },
     "4859b287061140469a44ebb8f7cdc168": {
      "model_module": "jupyter-cytoscape",
      "model_module_version": "^1.2.2",
      "model_name": "NodeModel",
      "state": {
       "_model_module_version": "^1.2.2",
       "_view_module_version": "^1.2.2",
       "data": {
        "id": "acceleration",
        "label": "acceleration"
       },
       "grabbable": true,
       "grabbed": false,
       "position": {
        "x": 598.6565740712615,
        "y": 336.3251878079987
       },
       "selectable": false
      }
     },
     "486ea5cac60f4645b5dd4e97abeeef26": {
      "model_module": "@jupyter-widgets/controls",
      "model_module_version": "1.5.0",
      "model_name": "ButtonModel",
      "state": {
       "description": "Delete Edge",
       "disabled": true,
       "layout": "IPY_MODEL_6f3272c2abdf4619b994a0bef4177a48",
       "style": "IPY_MODEL_8833aee7b4f44f56b4cf6d8538a8fe51"
      }
     },
     "48a45cb4034b4899b994d612c5781322": {
      "model_module": "jupyter-cytoscape",
      "model_module_version": "^1.2.2",
      "model_name": "EdgeModel",
      "state": {
       "_model_module_version": "^1.2.2",
       "_view_module_version": "^1.2.2",
       "classes": " directed  multiple_edges ",
       "data": {
        "id": "weight_mpg",
        "source": "weight",
        "target": "mpg"
       },
       "selectable": false
      }
     },
     "48aba4ed1f494263905a44633ea15b21": {
      "model_module": "@jupyter-widgets/controls",
      "model_module_version": "1.5.0",
      "model_name": "ButtonStyleModel",
      "state": {}
     },
     "48cb02e4bf9441c9941cf48613d763c3": {
      "model_module": "jupyter-cytoscape",
      "model_module_version": "^1.2.2",
      "model_name": "NodeModel",
      "state": {
       "_model_module_version": "^1.2.2",
       "_view_module_version": "^1.2.2",
       "data": {
        "id": "mpg",
        "label": "mpg"
       },
       "grabbable": true,
       "grabbed": false,
       "position": {
        "x": 603.7678640767559,
        "y": 108.70878986322509
       },
       "removed": true,
       "selectable": false
      }
     },
     "48d4d3f759364ab898e67b5b3e5c9eae": {
      "model_module": "@jupyter-widgets/controls",
      "model_module_version": "1.5.0",
      "model_name": "ButtonStyleModel",
      "state": {}
     },
     "48f1119c5aad4791b1d5b54f3d5966a7": {
      "model_module": "jupyter-cytoscape",
      "model_module_version": "^1.2.2",
      "model_name": "EdgeModel",
      "state": {
       "_model_module_version": "^1.2.2",
       "_view_module_version": "^1.2.2",
       "classes": " directed  multiple_edges ",
       "data": {
        "id": "model_year_acceleration",
        "source": "model_year",
        "target": "acceleration"
       },
       "selectable": false
      }
     },
     "490d25fb8dcc4cad993be7ce54c6556c": {
      "model_module": "jupyter-cytoscape",
      "model_module_version": "^1.2.2",
      "model_name": "NodeModel",
      "state": {
       "_model_module_version": "^1.2.2",
       "_view_module_version": "^1.2.2",
       "data": {
        "id": "cylinders",
        "label": "cylinders"
       },
       "grabbable": true,
       "grabbed": false,
       "position": {
        "x": 1211.4480042822054,
        "y": 94.92194520656436
       },
       "removed": true,
       "selectable": false
      }
     },
     "497dd7a2ce5a41f88067548a58586bf9": {
      "model_module": "jupyter-cytoscape",
      "model_module_version": "^1.2.2",
      "model_name": "EdgeModel",
      "state": {
       "_model_module_version": "^1.2.2",
       "_view_module_version": "^1.2.2",
       "classes": " directed  multiple_edges ",
       "data": {
        "id": "model_year_weight",
        "source": "model_year",
        "target": "weight"
       },
       "removed": true,
       "selectable": false
      }
     },
     "49e043ce05b04135adad8f2c95425515": {
      "model_module": "jupyter-cytoscape",
      "model_module_version": "^1.2.2",
      "model_name": "EdgeModel",
      "state": {
       "_model_module_version": "^1.2.2",
       "_view_module_version": "^1.2.2",
       "classes": " directed  multiple_edges ",
       "data": {
        "id": "displacement_horsepower",
        "source": "displacement",
        "target": "horsepower"
       },
       "selectable": false
      }
     },
     "49f8ce8eb81f4daeafd7974935ce2ebc": {
      "model_module": "@jupyter-widgets/controls",
      "model_module_version": "1.5.0",
      "model_name": "ButtonStyleModel",
      "state": {}
     },
     "4a072dfa44044a4ea1c6d3d9f05235fa": {
      "model_module": "@jupyter-widgets/controls",
      "model_module_version": "1.5.0",
      "model_name": "ButtonModel",
      "state": {
       "description": "Delete Edge",
       "disabled": true,
       "layout": "IPY_MODEL_f968c5b0ed8f413db420d2ba9e316fa6",
       "style": "IPY_MODEL_10bc0f5257d34bb3a8598c0d417a6f09"
      }
     },
     "4a092a9c32e94b7897dfeb7eca1b469b": {
      "model_module": "jupyter-cytoscape",
      "model_module_version": "^1.2.2",
      "model_name": "EdgeModel",
      "state": {
       "_model_module_version": "^1.2.2",
       "_view_module_version": "^1.2.2",
       "classes": " directed  multiple_edges ",
       "data": {
        "id": "model_year_cylinders",
        "source": "model_year",
        "target": "cylinders"
       },
       "selectable": false
      }
     },
     "4a2996951f924f11a81b9284a675609d": {
      "model_module": "@jupyter-widgets/controls",
      "model_module_version": "1.5.0",
      "model_name": "ButtonModel",
      "state": {
       "description": "Generate original graph",
       "layout": "IPY_MODEL_9b2dc3d18b0a4c16acc9d998fc1a56b8",
       "style": "IPY_MODEL_970830544179497ebf1eeb7ddccc741d"
      }
     },
     "4a2e3a67fe6d43b19d3bf07aaf75b519": {
      "model_module": "@jupyter-widgets/controls",
      "model_module_version": "1.5.0",
      "model_name": "ButtonStyleModel",
      "state": {}
     },
     "4a7fb9f9ae464eb6b2058d3e37fd1a65": {
      "model_module": "jupyter-cytoscape",
      "model_module_version": "^1.2.2",
      "model_name": "EdgeModel",
      "state": {
       "_model_module_version": "^1.2.2",
       "_view_module_version": "^1.2.2",
       "classes": " multiple_edges directed selected",
       "data": {
        "id": "displacement_cylinders",
        "source": "displacement",
        "target": "cylinders"
       },
       "removed": true,
       "selectable": false
      }
     },
     "4a82a5223f7943a387c4713dae94e6aa": {
      "model_module": "jupyter-cytoscape",
      "model_module_version": "^1.2.2",
      "model_name": "EdgeModel",
      "state": {
       "_model_module_version": "^1.2.2",
       "_view_module_version": "^1.2.2",
       "classes": " directed  multiple_edges ",
       "data": {
        "id": "weight_horsepower",
        "source": "weight",
        "target": "horsepower"
       },
       "removed": true,
       "selectable": false
      }
     },
     "4ae61e81bbbb48ada14463344e409514": {
      "model_module": "jupyter-cytoscape",
      "model_module_version": "^1.2.2",
      "model_name": "NodeModel",
      "state": {
       "_model_module_version": "^1.2.2",
       "_view_module_version": "^1.2.2",
       "data": {
        "id": "origin",
        "label": "origin"
       },
       "grabbable": true,
       "grabbed": false,
       "position": {
        "x": 492.73548508808767,
        "y": 163.54320824648752
       },
       "selectable": false
      }
     },
     "4af7e6c7158648f392e93e3ea380aca1": {
      "model_module": "@jupyter-widgets/controls",
      "model_module_version": "1.5.0",
      "model_name": "ButtonModel",
      "state": {
       "description": "Delete Edge",
       "disabled": true,
       "layout": "IPY_MODEL_c68918457a6141f5a9ed8724ddd186f0",
       "style": "IPY_MODEL_345b403fa3524f68ad911bb9068ab464"
      }
     },
     "4b32e4b1222442d8a55345dce61cf3aa": {
      "model_module": "@jupyter-widgets/base",
      "model_module_version": "1.2.0",
      "model_name": "LayoutModel",
      "state": {}
     },
     "4b4a123e5a0245179c9715691c6e063b": {
      "model_module": "jupyter-cytoscape",
      "model_module_version": "^1.2.2",
      "model_name": "EdgeModel",
      "state": {
       "_model_module_version": "^1.2.2",
       "_view_module_version": "^1.2.2",
       "classes": " directed  multiple_edges ",
       "data": {
        "id": "displacement_horsepower",
        "source": "displacement",
        "target": "horsepower"
       },
       "selectable": false
      }
     },
     "4b5059c8a3974a469081990137a839fe": {
      "model_module": "jupyter-cytoscape",
      "model_module_version": "^1.2.2",
      "model_name": "EdgeModel",
      "state": {
       "_model_module_version": "^1.2.2",
       "_view_module_version": "^1.2.2",
       "classes": " directed  multiple_edges ",
       "data": {
        "id": "displacement_acceleration",
        "source": "displacement",
        "target": "acceleration"
       },
       "selectable": false
      }
     },
     "4b66833a762844a7b8cbe9096d08d454": {
      "model_module": "jupyter-cytoscape",
      "model_module_version": "^1.2.2",
      "model_name": "EdgeModel",
      "state": {
       "_model_module_version": "^1.2.2",
       "_view_module_version": "^1.2.2",
       "classes": " directed  multiple_edges ",
       "data": {
        "id": "weight_horsepower",
        "source": "weight",
        "target": "horsepower"
       },
       "selectable": false
      }
     },
     "4b73618ce4264e2992c1882868939486": {
      "model_module": "jupyter-cytoscape",
      "model_module_version": "^1.2.2",
      "model_name": "NodeModel",
      "state": {
       "_model_module_version": "^1.2.2",
       "_view_module_version": "^1.2.2",
       "data": {
        "id": "weight",
        "label": "weight"
       },
       "grabbable": true,
       "grabbed": false,
       "position": {
        "x": 642.9397278953301,
        "y": 217.53500807231822
       },
       "removed": true,
       "selectable": false
      }
     },
     "4b8feb3971e643798a5b81875fd8ffd4": {
      "model_module": "@jupyter-widgets/base",
      "model_module_version": "1.2.0",
      "model_name": "LayoutModel",
      "state": {}
     },
     "4b93df360a1745de999c0712cedd47d8": {
      "model_module": "jupyter-cytoscape",
      "model_module_version": "^1.2.2",
      "model_name": "EdgeModel",
      "state": {
       "_model_module_version": "^1.2.2",
       "_view_module_version": "^1.2.2",
       "classes": " directed  multiple_edges ",
       "data": {
        "id": "displacement_origin",
        "source": "displacement",
        "target": "origin"
       },
       "removed": true,
       "selectable": false
      }
     },
     "4c2081efef5a4948bf75ae68b2052aa0": {
      "model_module": "jupyter-cytoscape",
      "model_module_version": "^1.2.2",
      "model_name": "EdgeModel",
      "state": {
       "_model_module_version": "^1.2.2",
       "_view_module_version": "^1.2.2",
       "classes": " directed  multiple_edges ",
       "data": {
        "id": "model_year_mpg",
        "source": "model_year",
        "target": "mpg"
       },
       "removed": true,
       "selectable": false
      }
     },
     "4c71364f94bb4aae9062e7725435945d": {
      "model_module": "@jupyter-widgets/controls",
      "model_module_version": "1.5.0",
      "model_name": "ButtonStyleModel",
      "state": {}
     },
     "4ca40a5a892f4b4a8b6c3e97d2277673": {
      "model_module": "jupyter-cytoscape",
      "model_module_version": "^1.2.2",
      "model_name": "NodeModel",
      "state": {
       "_model_module_version": "^1.2.2",
       "_view_module_version": "^1.2.2",
       "data": {
        "id": "mpg",
        "label": "mpg"
       },
       "grabbable": true,
       "grabbed": false,
       "position": {
        "x": 729.7678640767557,
        "y": 108.708789863225
       },
       "removed": true,
       "selectable": false
      }
     },
     "4cabd0725efd4032920c36e057974a78": {
      "model_module": "jupyter-cytoscape",
      "model_module_version": "^1.2.2",
      "model_name": "NodeModel",
      "state": {
       "_model_module_version": "^1.2.2",
       "_view_module_version": "^1.2.2",
       "data": {
        "id": "horsepower",
        "label": "horsepower"
       },
       "grabbable": true,
       "grabbed": false,
       "position": {
        "x": 579.0624766836064,
        "y": 213.55132768320664
       },
       "selectable": false
      }
     },
     "4cb2bba357084c1bab9f90192b9a600a": {
      "model_module": "jupyter-cytoscape",
      "model_module_version": "^1.2.2",
      "model_name": "EdgeModel",
      "state": {
       "_model_module_version": "^1.2.2",
       "_view_module_version": "^1.2.2",
       "classes": " directed  multiple_edges ",
       "data": {
        "id": "displacement_cylinders",
        "source": "displacement",
        "target": "cylinders"
       },
       "selectable": false
      }
     },
     "4cce591a834b4652b9eee52ccc2960fe": {
      "model_module": "jupyter-cytoscape",
      "model_module_version": "^1.2.2",
      "model_name": "EdgeModel",
      "state": {
       "_model_module_version": "^1.2.2",
       "_view_module_version": "^1.2.2",
       "classes": " directed  multiple_edges ",
       "data": {
        "id": "weight_mpg",
        "source": "weight",
        "target": "mpg"
       },
       "selectable": false
      }
     },
     "4cd12382529e4dd8bc71b5d639a0dc91": {
      "model_module": "@jupyter-widgets/base",
      "model_module_version": "1.2.0",
      "model_name": "LayoutModel",
      "state": {}
     },
     "4cdd1b96344248d9a33a7fc52320b166": {
      "model_module": "jupyter-cytoscape",
      "model_module_version": "^1.2.2",
      "model_name": "NodeModel",
      "state": {
       "_model_module_version": "^1.2.2",
       "_view_module_version": "^1.2.2",
       "data": {
        "id": "acceleration",
        "label": "acceleration"
       },
       "grabbable": true,
       "grabbed": false,
       "position": {
        "x": 597.4340330361491,
        "y": 297.87127869548584
       },
       "removed": true,
       "selectable": false
      }
     },
     "4cf686e220534ae0803cc96a942c4720": {
      "model_module": "jupyter-cytoscape",
      "model_module_version": "^1.2.2",
      "model_name": "EdgeModel",
      "state": {
       "_model_module_version": "^1.2.2",
       "_view_module_version": "^1.2.2",
       "classes": " directed  multiple_edges ",
       "data": {
        "id": "displacement_origin",
        "source": "displacement",
        "target": "origin"
       },
       "selectable": false
      }
     },
     "4cf9f9dabdb54a3ba3d5044aaecc893e": {
      "model_module": "jupyter-cytoscape",
      "model_module_version": "^1.2.2",
      "model_name": "EdgeModel",
      "state": {
       "_model_module_version": "^1.2.2",
       "_view_module_version": "^1.2.2",
       "classes": " directed  multiple_edges ",
       "data": {
        "id": "model_year_cylinders",
        "source": "model_year",
        "target": "cylinders"
       },
       "removed": true,
       "selectable": false
      }
     },
     "4d046edfd32d4cfe8b8eaa4e334f4dc8": {
      "model_module": "jupyter-cytoscape",
      "model_module_version": "^1.2.2",
      "model_name": "EdgeModel",
      "state": {
       "_model_module_version": "^1.2.2",
       "_view_module_version": "^1.2.2",
       "classes": " directed  multiple_edges ",
       "data": {
        "id": "weight_mpg",
        "source": "weight",
        "target": "mpg"
       },
       "selectable": false
      }
     },
     "4d18a48c9f7e46e29b759c9a707614c0": {
      "model_module": "jupyter-cytoscape",
      "model_module_version": "^1.2.2",
      "model_name": "EdgeModel",
      "state": {
       "_model_module_version": "^1.2.2",
       "_view_module_version": "^1.2.2",
       "classes": " directed  multiple_edges ",
       "data": {
        "id": "horsepower_acceleration",
        "source": "horsepower",
        "target": "acceleration"
       },
       "removed": true,
       "selectable": false
      }
     },
     "4d3cc93af4044c8ab22a5a54e80627ae": {
      "model_module": "jupyter-cytoscape",
      "model_module_version": "^1.2.2",
      "model_name": "EdgeModel",
      "state": {
       "_model_module_version": "^1.2.2",
       "_view_module_version": "^1.2.2",
       "classes": " directed  multiple_edges ",
       "data": {
        "id": "model_year_cylinders",
        "source": "model_year",
        "target": "cylinders"
       },
       "selectable": false
      }
     },
     "4d7c344d33e743b19b560dd6e128c640": {
      "model_module": "jupyter-cytoscape",
      "model_module_version": "^1.2.2",
      "model_name": "EdgeModel",
      "state": {
       "_model_module_version": "^1.2.2",
       "_view_module_version": "^1.2.2",
       "classes": " directed  multiple_edges ",
       "data": {
        "id": "mpg_origin",
        "source": "mpg",
        "target": "origin"
       },
       "selectable": false
      }
     },
     "4ddeb8d8c4f84312aadd9bdcdfa6cd54": {
      "model_module": "jupyter-cytoscape",
      "model_module_version": "^1.2.2",
      "model_name": "EdgeModel",
      "state": {
       "_model_module_version": "^1.2.2",
       "_view_module_version": "^1.2.2",
       "classes": " directed  multiple_edges ",
       "data": {
        "id": "model_year_mpg",
        "source": "model_year",
        "target": "mpg"
       },
       "removed": true,
       "selectable": false
      }
     },
     "4de8c99558024b01b81c317397441853": {
      "model_module": "@jupyter-widgets/base",
      "model_module_version": "1.2.0",
      "model_name": "LayoutModel",
      "state": {}
     },
     "4df11c57a8cd4c2e99e4a83dbb593d92": {
      "model_module": "@jupyter-widgets/controls",
      "model_module_version": "1.5.0",
      "model_name": "ButtonModel",
      "state": {
       "description": "Delete Edge",
       "disabled": true,
       "layout": "IPY_MODEL_e4cba0902f804aeb8b18aae0dc8427e1",
       "style": "IPY_MODEL_139e46ab6c2d4dfb874eb9c4649ee728"
      }
     },
     "4dfefaed3c9b42d58f770883cb0bdbd1": {
      "model_module": "jupyter-cytoscape",
      "model_module_version": "^1.2.2",
      "model_name": "CytoscapeModel",
      "state": {
       "_interaction_handlers": {
        "edge": [
         "click"
        ],
        "node": [
         "click"
        ]
       },
       "_model_module_version": "^1.2.2",
       "_view_module_version": "^1.2.2",
       "auto_ungrabify": false,
       "autolock": false,
       "cytoscape_layout": {
        "name": "cola"
       },
       "cytoscape_style": [
        {
         "selector": "node",
         "style": {
          "background-color": "blue",
          "font-family": "arial",
          "font-size": "10px",
          "label": "data(label)"
         }
        },
        {
         "selector": "edge",
         "style": {
          "curve-style": "bezier",
          "line-color": "#9dbaea",
          "target-arrow-color": "#9dbaea",
          "target-arrow-shape": "triangle",
          "width": 4
         }
        },
        {
         "css": {
          "line-color": "red"
         },
         "selector": "edge.selected"
        },
        {
         "css": {
          "background-color": "red"
         },
         "selector": "node.selected"
        }
       ],
       "desktop_tap_threshold": 4,
       "graph": "IPY_MODEL_af11ccaff1a747b38762c27001794cc5",
       "headless": false,
       "hide_edges_on_viewport": false,
       "layout": "IPY_MODEL_92f5728273b04a76b0055d46fcb407c8",
       "max_zoom": 1e+50,
       "min_zoom": 1e-50,
       "motion_blur": false,
       "motion_blur_opacity": 0.2,
       "panning_enabled": true,
       "pixel_ratio": "auto",
       "rendered_position": {
        "renderedPosition": {
         "x": 100,
         "y": 100
        }
       },
       "selection_type": "single",
       "style_enabled": true,
       "texture_on_viewport": false,
       "tooltip_source": "tooltip",
       "touch_tap_threshold": 8,
       "user_panning_enabled": true,
       "user_zooming_enabled": true,
       "wheel_sensitivity": 1,
       "zoom": 2,
       "zooming_enabled": true
      }
     },
     "4e43e6dd3e6c44ba83ae0d4389064bf6": {
      "model_module": "jupyter-cytoscape",
      "model_module_version": "^1.2.2",
      "model_name": "EdgeModel",
      "state": {
       "_model_module_version": "^1.2.2",
       "_view_module_version": "^1.2.2",
       "classes": " directed  multiple_edges ",
       "data": {
        "id": "displacement_cylinders",
        "source": "displacement",
        "target": "cylinders"
       },
       "removed": true,
       "selectable": false
      }
     },
     "4e6a4e1b1f0142f89104793893efbd53": {
      "model_module": "jupyter-cytoscape",
      "model_module_version": "^1.2.2",
      "model_name": "NodeModel",
      "state": {
       "_model_module_version": "^1.2.2",
       "_view_module_version": "^1.2.2",
       "data": {
        "id": "horsepower",
        "label": "horsepower"
       },
       "grabbable": true,
       "grabbed": false,
       "position": {
        "x": 1138.9175363353618,
        "y": 130.08830671230896
       },
       "removed": true,
       "selectable": false
      }
     },
     "4e818cd409ca41a6a4c8caef50f99630": {
      "model_module": "jupyter-cytoscape",
      "model_module_version": "^1.2.2",
      "model_name": "EdgeModel",
      "state": {
       "_model_module_version": "^1.2.2",
       "_view_module_version": "^1.2.2",
       "classes": " directed  multiple_edges ",
       "data": {
        "id": "displacement_weight",
        "source": "displacement",
        "target": "weight"
       },
       "removed": true,
       "selectable": false
      }
     },
     "4e868fb1d50d4ccaa15c423b923d8f8a": {
      "model_module": "jupyter-cytoscape",
      "model_module_version": "^1.2.2",
      "model_name": "EdgeModel",
      "state": {
       "_model_module_version": "^1.2.2",
       "_view_module_version": "^1.2.2",
       "classes": " directed  multiple_edges ",
       "data": {
        "id": "weight_horsepower",
        "source": "weight",
        "target": "horsepower"
       },
       "selectable": false
      }
     },
     "4e8861a339ae4695942cd1cd0999d65c": {
      "model_module": "jupyter-cytoscape",
      "model_module_version": "^1.2.2",
      "model_name": "EdgeModel",
      "state": {
       "_model_module_version": "^1.2.2",
       "_view_module_version": "^1.2.2",
       "classes": " directed  multiple_edges ",
       "data": {
        "id": "horsepower_acceleration",
        "source": "horsepower",
        "target": "acceleration"
       },
       "selectable": false
      }
     },
     "4eae40db2e0044748325d88d6ca763c0": {
      "model_module": "jupyter-cytoscape",
      "model_module_version": "^1.2.2",
      "model_name": "NodeModel",
      "state": {
       "_model_module_version": "^1.2.2",
       "_view_module_version": "^1.2.2",
       "data": {
        "id": "mpg",
        "label": "mpg"
       },
       "grabbable": true,
       "grabbed": false,
       "position": {
        "x": 409.7548917435092,
        "y": 209.20976841619458
       },
       "selectable": false
      }
     },
     "4eb36a2f91664276bdd2867049e4d511": {
      "model_module": "jupyter-cytoscape",
      "model_module_version": "^1.2.2",
      "model_name": "GraphModel",
      "state": {
       "_adj": {},
       "_model_module_version": "^1.2.2",
       "_view_module": "jupyter-cytoscape",
       "_view_module_version": "^1.2.2"
      }
     },
     "4ef2e5e715cd485bb0d9031044f46cc8": {
      "model_module": "@jupyter-widgets/controls",
      "model_module_version": "1.5.0",
      "model_name": "ButtonStyleModel",
      "state": {}
     },
     "4efe3f219ee14c45945505ebf2298169": {
      "model_module": "jupyter-cytoscape",
      "model_module_version": "^1.2.2",
      "model_name": "NodeModel",
      "state": {
       "_model_module_version": "^1.2.2",
       "_view_module_version": "^1.2.2",
       "data": {
        "id": "mpg",
        "label": "mpg"
       },
       "grabbable": true,
       "grabbed": false,
       "position": {
        "x": 604.8409436213743,
        "y": 147.15280318553792
       },
       "selectable": false
      }
     },
     "4eff10c02c9743b4a2d94d11eefd56db": {
      "model_module": "jupyter-cytoscape",
      "model_module_version": "^1.2.2",
      "model_name": "EdgeModel",
      "state": {
       "_model_module_version": "^1.2.2",
       "_view_module_version": "^1.2.2",
       "classes": " directed  multiple_edges ",
       "data": {
        "id": "displacement_horsepower",
        "source": "displacement",
        "target": "horsepower"
       },
       "removed": true,
       "selectable": false
      }
     },
     "4f12292b1eb347b092d922f301046bfb": {
      "model_module": "@jupyter-widgets/controls",
      "model_module_version": "1.5.0",
      "model_name": "ButtonModel",
      "state": {
       "description": "Add Edge",
       "disabled": true,
       "layout": "IPY_MODEL_3aa10223ee7e496e9b658421edd3c6a4",
       "style": "IPY_MODEL_52b6f2ed9bcc443091ecabfd8c3395f3"
      }
     },
     "4f65c41178744109ad9a923d0e7035fd": {
      "model_module": "@jupyter-widgets/controls",
      "model_module_version": "1.5.0",
      "model_name": "ButtonModel",
      "state": {
       "description": "Add Edge",
       "disabled": true,
       "layout": "IPY_MODEL_d69aaa30f5294f61a29e28bd7f89bbed",
       "style": "IPY_MODEL_141ddcba9eae42d88cc5d53f35449a58"
      }
     },
     "4f7f050dcc6049e49c88fb40c2e90a5f": {
      "model_module": "@jupyter-widgets/base",
      "model_module_version": "1.2.0",
      "model_name": "LayoutModel",
      "state": {}
     },
     "4f8002eb1b8140939afe4cb77731d65a": {
      "model_module": "jupyter-cytoscape",
      "model_module_version": "^1.2.2",
      "model_name": "NodeModel",
      "state": {
       "_model_module_version": "^1.2.2",
       "_view_module_version": "^1.2.2",
       "data": {
        "id": "cylinders",
        "label": "cylinders"
       },
       "grabbable": true,
       "grabbed": false,
       "position": {
        "x": 1155.021483268408,
        "y": 142.06929145474962
       },
       "removed": true,
       "selectable": false
      }
     },
     "4fa90d7635af49a18c758f036bba648e": {
      "model_module": "jupyter-cytoscape",
      "model_module_version": "^1.2.2",
      "model_name": "EdgeModel",
      "state": {
       "_model_module_version": "^1.2.2",
       "_view_module_version": "^1.2.2",
       "classes": " directed  multiple_edges ",
       "data": {
        "id": "weight_mpg",
        "source": "weight",
        "target": "mpg"
       },
       "removed": true,
       "selectable": false
      }
     },
     "4fbd56930bd6402eb9a8410a0b91a99a": {
      "model_module": "jupyter-cytoscape",
      "model_module_version": "^1.2.2",
      "model_name": "GraphModel",
      "state": {
       "_adj": {
        "acceleration": {},
        "cylinders": {},
        "displacement": {},
        "horsepower": {},
        "model_year": {},
        "mpg": {},
        "origin": {},
        "weight": {}
       },
       "_model_module_version": "^1.2.2",
       "_view_module": "jupyter-cytoscape",
       "_view_module_version": "^1.2.2",
       "edges": [
        "IPY_MODEL_bad27cf4fcde4e579455cfcedf5ce99a",
        "IPY_MODEL_119b49f6441649889dc20ca6ce894e21",
        "IPY_MODEL_7f313d5367f14a69b5a1a9406e3596fa",
        "IPY_MODEL_934fabf2a28c4ae8925a240e36d2cf8e",
        "IPY_MODEL_77ef2abf946140428d8292e217e9297c",
        "IPY_MODEL_b7cf6146249b4d8688853bd951f45412",
        "IPY_MODEL_b7e9134525444bcc8582401d5ea87af2",
        "IPY_MODEL_4b66833a762844a7b8cbe9096d08d454",
        "IPY_MODEL_73f1ba5e8ea545b283c7767fe4049297"
       ],
       "nodes": [
        "IPY_MODEL_5840a15dcc8240b68ce6d99becb62a5c",
        "IPY_MODEL_565e52d6cdae476f96bc992e85481dc0",
        "IPY_MODEL_cbc729e697d04a2ba6fb67d67e301521",
        "IPY_MODEL_62d078dd59854103ae81fcf6b842fdd0",
        "IPY_MODEL_af66e072f85743858dd08017f0a11ef0",
        "IPY_MODEL_9d135b57bf98437db3303659d983d666",
        "IPY_MODEL_e684a89ce4a64ea1b63ad4a2ce885f28",
        "IPY_MODEL_d470bcbb20c6402cad43c565b5944c5c"
       ]
      }
     },
     "4fc5341a8cc44562a0c36e88e5d3bec1": {
      "model_module": "jupyter-cytoscape",
      "model_module_version": "^1.2.2",
      "model_name": "NodeModel",
      "state": {
       "_model_module_version": "^1.2.2",
       "_view_module_version": "^1.2.2",
       "data": {
        "id": "displacement",
        "label": "displacement"
       },
       "grabbable": true,
       "grabbed": false,
       "position": {
        "x": 509.3412849858755,
        "y": 284.2475693169692
       },
       "selectable": false
      }
     },
     "4fe6a258526843939e337dc6d8349858": {
      "model_module": "jupyter-cytoscape",
      "model_module_version": "^1.2.2",
      "model_name": "EdgeModel",
      "state": {
       "_model_module_version": "^1.2.2",
       "_view_module_version": "^1.2.2",
       "classes": " directed  multiple_edges ",
       "data": {
        "id": "mpg_origin",
        "source": "mpg",
        "target": "origin"
       },
       "selectable": false
      }
     },
     "50534c34c7864547b1bcf995adba4f47": {
      "model_module": "jupyter-cytoscape",
      "model_module_version": "^1.2.2",
      "model_name": "EdgeModel",
      "state": {
       "_model_module_version": "^1.2.2",
       "_view_module_version": "^1.2.2",
       "classes": " directed  multiple_edges ",
       "data": {
        "id": "weight_acceleration",
        "source": "weight",
        "target": "acceleration"
       },
       "removed": true,
       "selectable": false
      }
     },
     "507b2d6b95a343c98e3d9ee65c47d1f6": {
      "model_module": "jupyter-cytoscape",
      "model_module_version": "^1.2.2",
      "model_name": "EdgeModel",
      "state": {
       "_model_module_version": "^1.2.2",
       "_view_module_version": "^1.2.2",
       "classes": " directed  multiple_edges ",
       "data": {
        "id": "displacement_weight",
        "source": "displacement",
        "target": "weight"
       },
       "removed": true,
       "selectable": false
      }
     },
     "507f28df628e45c488bacc4555937342": {
      "model_module": "@jupyter-widgets/controls",
      "model_module_version": "1.5.0",
      "model_name": "ButtonModel",
      "state": {
       "description": "Generate original graph",
       "layout": "IPY_MODEL_893f37f8c57844198e56642f6d2f4a3a",
       "style": "IPY_MODEL_ce307f3458934352af4b0e1fdb15230f"
      }
     },
     "50cfdf3681134f60be906b6d954c1c6f": {
      "model_module": "jupyter-cytoscape",
      "model_module_version": "^1.2.2",
      "model_name": "EdgeModel",
      "state": {
       "_model_module_version": "^1.2.2",
       "_view_module_version": "^1.2.2",
       "classes": " multiple_edges directed highlighted",
       "data": {
        "id": "model_year_acceleration",
        "source": "model_year",
        "target": "acceleration"
       },
       "selectable": false
      }
     },
     "50d84ea15328485298bfb98701810cb7": {
      "model_module": "jupyter-cytoscape",
      "model_module_version": "^1.2.2",
      "model_name": "EdgeModel",
      "state": {
       "_model_module_version": "^1.2.2",
       "_view_module_version": "^1.2.2",
       "classes": " directed  multiple_edges ",
       "data": {
        "id": "weight_mpg",
        "source": "weight",
        "target": "mpg"
       },
       "selectable": false
      }
     },
     "50f9ed0b1a2743fba0c3a2ad3d820cf2": {
      "model_module": "jupyter-cytoscape",
      "model_module_version": "^1.2.2",
      "model_name": "NodeModel",
      "state": {
       "_model_module_version": "^1.2.2",
       "_view_module_version": "^1.2.2",
       "data": {
        "id": "displacement",
        "label": "displacement"
       },
       "grabbable": true,
       "grabbed": false,
       "position": {
        "x": 509.3412849858755,
        "y": 284.2475693169692
       },
       "selectable": false
      }
     },
     "51275ebe433a4e62ab43b32e9be57bf1": {
      "model_module": "jupyter-cytoscape",
      "model_module_version": "^1.2.2",
      "model_name": "EdgeModel",
      "state": {
       "_model_module_version": "^1.2.2",
       "_view_module_version": "^1.2.2",
       "classes": " directed  multiple_edges ",
       "data": {
        "id": "model_year_mpg",
        "source": "model_year",
        "target": "mpg"
       },
       "selectable": false
      }
     },
     "512a70de7b494fbc8fc460e82b4f93e0": {
      "model_module": "jupyter-cytoscape",
      "model_module_version": "^1.2.2",
      "model_name": "EdgeModel",
      "state": {
       "_model_module_version": "^1.2.2",
       "_view_module_version": "^1.2.2",
       "classes": " directed  multiple_edges ",
       "data": {
        "id": "displacement_acceleration",
        "source": "displacement",
        "target": "acceleration"
       },
       "selectable": false
      }
     },
     "5178ff16cc6544fab8726f00a5d26f38": {
      "model_module": "jupyter-cytoscape",
      "model_module_version": "^1.2.2",
      "model_name": "NodeModel",
      "state": {
       "_model_module_version": "^1.2.2",
       "_view_module_version": "^1.2.2",
       "data": {
        "id": "weight",
        "label": "weight"
       },
       "grabbable": true,
       "grabbed": false,
       "position": {
        "x": 642.9397278953301,
        "y": 217.53500807231822
       },
       "removed": true,
       "selectable": false
      }
     },
     "518583a82a7c4c2f9d314c9e07fbc990": {
      "model_module": "@jupyter-widgets/controls",
      "model_module_version": "1.5.0",
      "model_name": "ButtonStyleModel",
      "state": {}
     },
     "518ce7071ff0419dab96e7365dbd39a7": {
      "model_module": "jupyter-cytoscape",
      "model_module_version": "^1.2.2",
      "model_name": "NodeModel",
      "state": {
       "_model_module_version": "^1.2.2",
       "_view_module_version": "^1.2.2",
       "data": {
        "id": "horsepower",
        "label": "horsepower"
       },
       "grabbable": true,
       "grabbed": false,
       "position": {
        "x": 1082.0624766836083,
        "y": 213.55132768320644
       },
       "selectable": false
      }
     },
     "520e0c7a0a204e8fa8bf58758396c802": {
      "model_module": "jupyter-cytoscape",
      "model_module_version": "^1.2.2",
      "model_name": "EdgeModel",
      "state": {
       "_model_module_version": "^1.2.2",
       "_view_module_version": "^1.2.2",
       "classes": " directed  multiple_edges ",
       "data": {
        "id": "cylinders_origin",
        "source": "cylinders",
        "target": "origin"
       },
       "selectable": false
      }
     },
     "5225ab1f119f4762b62b698365d26f1c": {
      "model_module": "jupyter-cytoscape",
      "model_module_version": "^1.2.2",
      "model_name": "EdgeModel",
      "state": {
       "_model_module_version": "^1.2.2",
       "_view_module_version": "^1.2.2",
       "classes": " directed  multiple_edges ",
       "data": {
        "id": "displacement_origin",
        "source": "displacement",
        "target": "origin"
       },
       "selectable": false
      }
     },
     "52663e9201534f7ca5fca87dad87e8ad": {
      "model_module": "jupyter-cytoscape",
      "model_module_version": "^1.2.2",
      "model_name": "NodeModel",
      "state": {
       "_model_module_version": "^1.2.2",
       "_view_module_version": "^1.2.2",
       "data": {
        "id": "model_year",
        "label": "model_year"
       },
       "grabbable": true,
       "grabbed": false,
       "position": {
        "x": 931.6671251363705,
        "y": 291.97441008777105
       },
       "removed": true,
       "selectable": false
      }
     },
     "5270dd2da3c64ef988dd1ccf2dfd96b8": {
      "model_module": "@jupyter-widgets/base",
      "model_module_version": "1.2.0",
      "model_name": "LayoutModel",
      "state": {}
     },
     "52781ad9d4a44408a173a387569fe5d3": {
      "model_module": "jupyter-cytoscape",
      "model_module_version": "^1.2.2",
      "model_name": "EdgeModel",
      "state": {
       "_model_module_version": "^1.2.2",
       "_view_module_version": "^1.2.2",
       "classes": " directed  multiple_edges ",
       "data": {
        "id": "displacement_acceleration",
        "source": "displacement",
        "target": "acceleration"
       },
       "selectable": false
      }
     },
     "52996ebf38e84ffb95dcdce7d86ebb2a": {
      "model_module": "jupyter-cytoscape",
      "model_module_version": "^1.2.2",
      "model_name": "EdgeModel",
      "state": {
       "_model_module_version": "^1.2.2",
       "_view_module_version": "^1.2.2",
       "classes": " directed  multiple_edges ",
       "data": {
        "id": "displacement_origin",
        "source": "displacement",
        "target": "origin"
       },
       "selectable": false
      }
     },
     "52b6f2ed9bcc443091ecabfd8c3395f3": {
      "model_module": "@jupyter-widgets/controls",
      "model_module_version": "1.5.0",
      "model_name": "ButtonStyleModel",
      "state": {}
     },
     "52ce25ac629d4df8852e1cb566860b0d": {
      "model_module": "jupyter-cytoscape",
      "model_module_version": "^1.2.2",
      "model_name": "NodeModel",
      "state": {
       "_model_module_version": "^1.2.2",
       "_view_module_version": "^1.2.2",
       "data": {
        "id": "horsepower",
        "label": "horsepower"
       },
       "grabbable": true,
       "grabbed": false,
       "position": {
        "x": 996.0596300944776,
        "y": 121.83656973705018
       },
       "selectable": false
      }
     },
     "530b07754e4046c69fc0f1e56639d431": {
      "model_module": "jupyter-cytoscape",
      "model_module_version": "^1.2.2",
      "model_name": "NodeModel",
      "state": {
       "_model_module_version": "^1.2.2",
       "_view_module_version": "^1.2.2",
       "data": {
        "id": "displacement",
        "label": "displacement"
       },
       "grabbable": true,
       "grabbed": false,
       "position": {
        "x": 1072.1704455004149,
        "y": 122.8319500227866
       },
       "removed": true,
       "selectable": false
      }
     },
     "5329df6328a040cd996daa3fcba67557": {
      "model_module": "jupyter-cytoscape",
      "model_module_version": "^1.2.2",
      "model_name": "NodeModel",
      "state": {
       "_model_module_version": "^1.2.2",
       "_view_module_version": "^1.2.2",
       "data": {
        "id": "model_year",
        "label": "model_year"
       },
       "grabbable": true,
       "grabbed": false,
       "position": {
        "x": 1120.7663095110008,
        "y": 121.71500337514466
       },
       "removed": true,
       "selectable": false
      }
     },
     "532fb37aef8e45eea122f8e330d72f1d": {
      "model_module": "@jupyter-widgets/base",
      "model_module_version": "1.2.0",
      "model_name": "LayoutModel",
      "state": {}
     },
     "53460c266a074dfbac22fba3400e729e": {
      "model_module": "jupyter-cytoscape",
      "model_module_version": "^1.2.2",
      "model_name": "NodeModel",
      "state": {
       "_model_module_version": "^1.2.2",
       "_view_module_version": "^1.2.2",
       "data": {
        "id": "model_year",
        "label": "model_year"
       },
       "grabbable": true,
       "grabbed": false,
       "position": {
        "x": 559.3412859858755,
        "y": 263.5513286832067
       },
       "selectable": false
      }
     },
     "537d0b819df6430cbc5c4f124db52ca7": {
      "model_module": "jupyter-cytoscape",
      "model_module_version": "^1.2.2",
      "model_name": "EdgeModel",
      "state": {
       "_model_module_version": "^1.2.2",
       "_view_module_version": "^1.2.2",
       "classes": " directed  multiple_edges ",
       "data": {
        "id": "model_year_cylinders",
        "source": "model_year",
        "target": "cylinders"
       },
       "removed": true,
       "selectable": false
      }
     },
     "537e11b6b11f4d69a312d20139e19857": {
      "model_module": "jupyter-cytoscape",
      "model_module_version": "^1.2.2",
      "model_name": "NodeModel",
      "state": {
       "_model_module_version": "^1.2.2",
       "_view_module_version": "^1.2.2",
       "data": {
        "id": "origin",
        "label": "origin"
       },
       "grabbable": true,
       "grabbed": false,
       "position": {
        "x": 492.73548508808767,
        "y": 163.54320824648752
       },
       "selectable": false
      }
     },
     "53e2de6d8c674307af67d4f7ecfffb8e": {
      "model_module": "jupyter-cytoscape",
      "model_module_version": "^1.2.2",
      "model_name": "EdgeModel",
      "state": {
       "_model_module_version": "^1.2.2",
       "_view_module_version": "^1.2.2",
       "classes": " directed  multiple_edges ",
       "data": {
        "id": "weight_horsepower",
        "source": "weight",
        "target": "horsepower"
       },
       "selectable": false
      }
     },
     "5421156fd7f14130a291ed090a9cef33": {
      "model_module": "jupyter-cytoscape",
      "model_module_version": "^1.2.2",
      "model_name": "EdgeModel",
      "state": {
       "_model_module_version": "^1.2.2",
       "_view_module_version": "^1.2.2",
       "classes": " directed  multiple_edges ",
       "data": {
        "id": "mpg_origin",
        "source": "mpg",
        "target": "origin"
       },
       "selectable": false
      }
     },
     "542beb77e60145a5880228a8daaff503": {
      "model_module": "jupyter-cytoscape",
      "model_module_version": "^1.2.2",
      "model_name": "EdgeModel",
      "state": {
       "_model_module_version": "^1.2.2",
       "_view_module_version": "^1.2.2",
       "classes": " directed  multiple_edges ",
       "data": {
        "id": "displacement_weight",
        "source": "displacement",
        "target": "weight"
       },
       "selectable": false
      }
     },
     "54818bafce4e4f8496aa0e5a7ab604c7": {
      "model_module": "@jupyter-widgets/output",
      "model_module_version": "1.0.0",
      "model_name": "OutputModel",
      "state": {
       "layout": "IPY_MODEL_354ca26dcdea4f839f6c3522b614339c"
      }
     },
     "5514a22afe354e9ca54174350a5a9962": {
      "model_module": "jupyter-cytoscape",
      "model_module_version": "^1.2.2",
      "model_name": "EdgeModel",
      "state": {
       "_model_module_version": "^1.2.2",
       "_view_module_version": "^1.2.2",
       "classes": " directed  multiple_edges ",
       "data": {
        "id": "horsepower_acceleration",
        "source": "horsepower",
        "target": "acceleration"
       },
       "selectable": false
      }
     },
     "551de293e33a45dd803d7f71fbe93e36": {
      "model_module": "@jupyter-widgets/output",
      "model_module_version": "1.0.0",
      "model_name": "OutputModel",
      "state": {
       "layout": "IPY_MODEL_fa828a1f374d44f5889456179c097359"
      }
     },
     "5525d8e2114d4263ad7dbe784c64f7c7": {
      "model_module": "jupyter-cytoscape",
      "model_module_version": "^1.2.2",
      "model_name": "EdgeModel",
      "state": {
       "_model_module_version": "^1.2.2",
       "_view_module_version": "^1.2.2",
       "classes": " multiple_edges directed selected",
       "data": {
        "id": "model_year_weight",
        "source": "model_year",
        "target": "weight"
       },
       "removed": true,
       "selectable": false
      }
     },
     "555a65d99b1c40d1b5e58cbbf9e897c1": {
      "model_module": "@jupyter-widgets/controls",
      "model_module_version": "1.5.0",
      "model_name": "ButtonStyleModel",
      "state": {}
     },
     "5585272ad29c436e9b99fdf982bd7d2d": {
      "model_module": "jupyter-cytoscape",
      "model_module_version": "^1.2.2",
      "model_name": "NodeModel",
      "state": {
       "_model_module_version": "^1.2.2",
       "_view_module_version": "^1.2.2",
       "data": {
        "id": "origin",
        "label": "origin"
       },
       "grabbable": true,
       "grabbed": false,
       "position": {
        "x": 835.6486811751338,
        "y": 125.00565671664633
       },
       "removed": true,
       "selectable": false
      }
     },
     "559500619a8142878dd6566446b3a7c8": {
      "model_module": "jupyter-cytoscape",
      "model_module_version": "^1.2.2",
      "model_name": "EdgeModel",
      "state": {
       "_model_module_version": "^1.2.2",
       "_view_module_version": "^1.2.2",
       "classes": " directed  multiple_edges ",
       "data": {
        "id": "displacement_origin",
        "source": "displacement",
        "target": "origin"
       },
       "selectable": false
      }
     },
     "55defb99c86941e28d089e25cb09c617": {
      "model_module": "jupyter-cytoscape",
      "model_module_version": "^1.2.2",
      "model_name": "EdgeModel",
      "state": {
       "_model_module_version": "^1.2.2",
       "_view_module_version": "^1.2.2",
       "classes": " directed  multiple_edges ",
       "data": {
        "id": "origin_horsepower",
        "source": "origin",
        "target": "horsepower"
       },
       "selectable": false
      }
     },
     "565e52d6cdae476f96bc992e85481dc0": {
      "model_module": "jupyter-cytoscape",
      "model_module_version": "^1.2.2",
      "model_name": "NodeModel",
      "state": {
       "_model_module_version": "^1.2.2",
       "_view_module_version": "^1.2.2",
       "data": {
        "id": "cylinders",
        "label": "cylinders"
       },
       "grabbable": true,
       "grabbed": false,
       "position": {
        "x": 683.7213010814977,
        "y": 2.229372899218095
       },
       "selectable": false
      }
     },
     "567efcd11a17431e967db4f06e1cd883": {
      "model_module": "@jupyter-widgets/controls",
      "model_module_version": "1.5.0",
      "model_name": "ButtonStyleModel",
      "state": {}
     },
     "56827838c425424790334301fd87a260": {
      "model_module": "jupyter-cytoscape",
      "model_module_version": "^1.2.2",
      "model_name": "NodeModel",
      "state": {
       "_model_module_version": "^1.2.2",
       "_view_module_version": "^1.2.2",
       "data": {
        "id": "origin",
        "label": "origin"
       },
       "grabbable": true,
       "grabbed": false,
       "position": {
        "x": 492.73548508808767,
        "y": 163.54320824648752
       },
       "selectable": false
      }
     },
     "56963382a81b4b13a5c5d5dae0c1497d": {
      "model_module": "@jupyter-widgets/output",
      "model_module_version": "1.0.0",
      "model_name": "OutputModel",
      "state": {
       "layout": "IPY_MODEL_6646520c31e84bc2bb65934c4f5d5e3c"
      }
     },
     "56bda3e287c748c8a93bf91798b8f88c": {
      "model_module": "jupyter-cytoscape",
      "model_module_version": "^1.2.2",
      "model_name": "EdgeModel",
      "state": {
       "_model_module_version": "^1.2.2",
       "_view_module_version": "^1.2.2",
       "classes": " directed  multiple_edges ",
       "data": {
        "id": "model_year_weight",
        "source": "model_year",
        "target": "weight"
       },
       "selectable": false
      }
     },
     "5703ea1dd7d64f599dd1d8f1da8c8fd8": {
      "model_module": "jupyter-cytoscape",
      "model_module_version": "^1.2.2",
      "model_name": "EdgeModel",
      "state": {
       "_model_module_version": "^1.2.2",
       "_view_module_version": "^1.2.2",
       "classes": " directed  multiple_edges ",
       "data": {
        "id": "horsepower_acceleration",
        "source": "horsepower",
        "target": "acceleration"
       },
       "selectable": false
      }
     },
     "5710c6dee0ec40eda9be050fdc4c22d3": {
      "model_module": "jupyter-cytoscape",
      "model_module_version": "^1.2.2",
      "model_name": "EdgeModel",
      "state": {
       "_model_module_version": "^1.2.2",
       "_view_module_version": "^1.2.2",
       "classes": " directed  multiple_edges ",
       "data": {
        "id": "cylinders_origin",
        "source": "cylinders",
        "target": "origin"
       },
       "selectable": false
      }
     },
     "571ad0eed42e40c59f4dbb40b33455e4": {
      "model_module": "@jupyter-widgets/base",
      "model_module_version": "1.2.0",
      "model_name": "LayoutModel",
      "state": {}
     },
     "5747ccd3cd2045ce81d1dc35bb26b634": {
      "model_module": "jupyter-cytoscape",
      "model_module_version": "^1.2.2",
      "model_name": "NodeModel",
      "state": {
       "_model_module_version": "^1.2.2",
       "_view_module_version": "^1.2.2",
       "data": {
        "id": "horsepower",
        "label": "horsepower"
       },
       "grabbable": true,
       "grabbed": false,
       "position": {
        "x": 586.3698145765113,
        "y": 6.152745654659396
       },
       "selectable": false
      }
     },
     "577ba87413394264a18724c752ff1806": {
      "model_module": "jupyter-cytoscape",
      "model_module_version": "^1.2.2",
      "model_name": "NodeModel",
      "state": {
       "_model_module_version": "^1.2.2",
       "_view_module_version": "^1.2.2",
       "data": {
        "id": "weight",
        "label": "weight"
       },
       "grabbable": true,
       "grabbed": false,
       "position": {
        "x": 1006.2156055621695,
        "y": 186.95709111700785
       },
       "removed": true,
       "selectable": false
      }
     },
     "579724e68f8343429f2f4b67fda6f4f1": {
      "model_module": "jupyter-cytoscape",
      "model_module_version": "^1.2.2",
      "model_name": "EdgeModel",
      "state": {
       "_model_module_version": "^1.2.2",
       "_view_module_version": "^1.2.2",
       "classes": " directed  multiple_edges ",
       "data": {
        "id": "model_year_weight",
        "source": "model_year",
        "target": "weight"
       },
       "selectable": false
      }
     },
     "579e1b34c3b7484a8b5dda0a3b22932e": {
      "model_module": "jupyter-cytoscape",
      "model_module_version": "^1.2.2",
      "model_name": "EdgeModel",
      "state": {
       "_model_module_version": "^1.2.2",
       "_view_module_version": "^1.2.2",
       "classes": " directed  multiple_edges ",
       "data": {
        "id": "model_year_cylinders",
        "source": "model_year",
        "target": "cylinders"
       },
       "removed": true,
       "selectable": false
      }
     },
     "5840a15dcc8240b68ce6d99becb62a5c": {
      "model_module": "jupyter-cytoscape",
      "model_module_version": "^1.2.2",
      "model_name": "NodeModel",
      "state": {
       "_model_module_version": "^1.2.2",
       "_view_module_version": "^1.2.2",
       "data": {
        "id": "mpg",
        "label": "mpg"
       },
       "grabbable": true,
       "grabbed": false,
       "position": {
        "x": 462.10045651576473,
        "y": 268.7749120028184
       },
       "selectable": false
      }
     },
     "5881a8e8f40346108291e6cca9dd659e": {
      "model_module": "jupyter-cytoscape",
      "model_module_version": "^1.2.2",
      "model_name": "EdgeModel",
      "state": {
       "_model_module_version": "^1.2.2",
       "_view_module_version": "^1.2.2",
       "classes": " directed  multiple_edges ",
       "data": {
        "id": "model_year_acceleration",
        "source": "model_year",
        "target": "acceleration"
       },
       "removed": true,
       "selectable": false
      }
     },
     "58b26e58c0264b5380545d8677a3d7f9": {
      "model_module": "jupyter-cytoscape",
      "model_module_version": "^1.2.2",
      "model_name": "NodeModel",
      "state": {
       "_model_module_version": "^1.2.2",
       "_view_module_version": "^1.2.2",
       "data": {
        "id": "mpg",
        "label": "mpg"
       },
       "grabbable": true,
       "grabbed": false,
       "position": {
        "x": 1137.3958195070682,
        "y": 288.98297694818405
       },
       "removed": true,
       "selectable": false
      }
     },
     "58bab5911c83413599a5a0d9a20c414d": {
      "model_module": "@jupyter-widgets/base",
      "model_module_version": "1.2.0",
      "model_name": "LayoutModel",
      "state": {}
     },
     "58c441cd4b284d9ca7c7a0f16eddc9a8": {
      "model_module": "jupyter-cytoscape",
      "model_module_version": "^1.2.2",
      "model_name": "EdgeModel",
      "state": {
       "_model_module_version": "^1.2.2",
       "_view_module_version": "^1.2.2",
       "classes": " directed  multiple_edges ",
       "data": {
        "id": "weight_mpg",
        "source": "weight",
        "target": "mpg"
       },
       "selectable": false
      }
     },
     "58db9711ca4e468fab65710054738096": {
      "model_module": "jupyter-cytoscape",
      "model_module_version": "^1.2.2",
      "model_name": "EdgeModel",
      "state": {
       "_model_module_version": "^1.2.2",
       "_view_module_version": "^1.2.2",
       "classes": " directed  multiple_edges ",
       "data": {
        "id": "displacement_origin",
        "source": "displacement",
        "target": "origin"
       },
       "selectable": false
      }
     },
     "594229049988428da22204bac1444cfb": {
      "model_module": "jupyter-cytoscape",
      "model_module_version": "^1.2.2",
      "model_name": "EdgeModel",
      "state": {
       "_model_module_version": "^1.2.2",
       "_view_module_version": "^1.2.2",
       "classes": " directed  multiple_edges ",
       "data": {
        "id": "horsepower_acceleration",
        "source": "horsepower",
        "target": "acceleration"
       },
       "selectable": false
      }
     },
     "594c187c898a4cdf8115381941b221ff": {
      "model_module": "jupyter-cytoscape",
      "model_module_version": "^1.2.2",
      "model_name": "EdgeModel",
      "state": {
       "_model_module_version": "^1.2.2",
       "_view_module_version": "^1.2.2",
       "classes": " directed  multiple_edges ",
       "data": {
        "id": "displacement_weight",
        "source": "displacement",
        "target": "weight"
       },
       "selectable": false
      }
     },
     "59d4e44d92f943048c8bb3250b08206f": {
      "model_module": "jupyter-cytoscape",
      "model_module_version": "^1.2.2",
      "model_name": "EdgeModel",
      "state": {
       "_model_module_version": "^1.2.2",
       "_view_module_version": "^1.2.2",
       "classes": " directed  multiple_edges ",
       "data": {
        "id": "weight_acceleration",
        "source": "weight",
        "target": "acceleration"
       },
       "selectable": false
      }
     },
     "59f0f42d17914e9a86ff127733c4b690": {
      "model_module": "jupyter-cytoscape",
      "model_module_version": "^1.2.2",
      "model_name": "EdgeModel",
      "state": {
       "_model_module_version": "^1.2.2",
       "_view_module_version": "^1.2.2",
       "classes": " directed  multiple_edges ",
       "data": {
        "id": "cylinders_origin",
        "source": "cylinders",
        "target": "origin"
       },
       "removed": true,
       "selectable": false
      }
     },
     "5a58d53e16ce46f58e47bff3de238d09": {
      "model_module": "jupyter-cytoscape",
      "model_module_version": "^1.2.2",
      "model_name": "NodeModel",
      "state": {
       "_model_module_version": "^1.2.2",
       "_view_module_version": "^1.2.2",
       "data": {
        "id": "mpg",
        "label": "mpg"
       },
       "grabbable": true,
       "grabbed": false,
       "position": {
        "x": 395.2631676651256,
        "y": 219.8186456862439
       },
       "selectable": false
      }
     },
     "5a7ca8eafb664a408672de2c8da3f7d1": {
      "model_module": "@jupyter-widgets/base",
      "model_module_version": "1.2.0",
      "model_name": "LayoutModel",
      "state": {}
     },
     "5ac5474ad98642a3847181c456b2a77c": {
      "model_module": "jupyter-cytoscape",
      "model_module_version": "^1.2.2",
      "model_name": "EdgeModel",
      "state": {
       "_model_module_version": "^1.2.2",
       "_view_module_version": "^1.2.2",
       "classes": " directed  multiple_edges ",
       "data": {
        "id": "displacement_origin",
        "source": "displacement",
        "target": "origin"
       },
       "removed": true,
       "selectable": false
      }
     },
     "5ad123e55f05427f85000629dc1ccd06": {
      "model_module": "jupyter-cytoscape",
      "model_module_version": "^1.2.2",
      "model_name": "NodeModel",
      "state": {
       "_model_module_version": "^1.2.2",
       "_view_module_version": "^1.2.2",
       "data": {
        "id": "horsepower",
        "label": "horsepower"
       },
       "grabbable": true,
       "grabbed": false,
       "position": {
        "x": 579.0624766836064,
        "y": 213.55132768320664
       },
       "selectable": false
      }
     },
     "5affbd3149b74e0ea2c51ea89d3e06f0": {
      "model_module": "jupyter-cytoscape",
      "model_module_version": "^1.2.2",
      "model_name": "EdgeModel",
      "state": {
       "_model_module_version": "^1.2.2",
       "_view_module_version": "^1.2.2",
       "classes": " directed  multiple_edges ",
       "data": {
        "id": "displacement_cylinders",
        "source": "displacement",
        "target": "cylinders"
       },
       "removed": true,
       "selectable": false
      }
     },
     "5b50678a062346ffba616d517511b430": {
      "model_module": "jupyter-cytoscape",
      "model_module_version": "^1.2.2",
      "model_name": "NodeModel",
      "state": {
       "_model_module_version": "^1.2.2",
       "_view_module_version": "^1.2.2",
       "data": {
        "id": "displacement",
        "label": "displacement"
       },
       "grabbable": true,
       "grabbed": false,
       "position": {
        "x": 800.7865449749737,
        "y": 136.5398337445897
       },
       "selectable": false
      }
     },
     "5b5702bb99a64271905b1eb9355ce164": {
      "model_module": "jupyter-cytoscape",
      "model_module_version": "^1.2.2",
      "model_name": "NodeModel",
      "state": {
       "_model_module_version": "^1.2.2",
       "_view_module_version": "^1.2.2",
       "data": {
        "id": "weight",
        "label": "weight"
       },
       "grabbable": true,
       "grabbed": false,
       "position": {
        "x": 768.9397278953298,
        "y": 217.53500807231808
       },
       "removed": true,
       "selectable": false
      }
     },
     "5b6643ecb103431b9c5560c761114c32": {
      "model_module": "jupyter-cytoscape",
      "model_module_version": "^1.2.2",
      "model_name": "NodeModel",
      "state": {
       "_model_module_version": "^1.2.2",
       "_view_module_version": "^1.2.2",
       "data": {
        "id": "model_year",
        "label": "model_year"
       },
       "grabbable": true,
       "grabbed": false,
       "position": {
        "x": 559.3412859858755,
        "y": 263.5513286832067
       },
       "selectable": false
      }
     },
     "5b903768c8f548b7a3add89f7f4be4f3": {
      "model_module": "@jupyter-widgets/base",
      "model_module_version": "1.2.0",
      "model_name": "LayoutModel",
      "state": {}
     },
     "5ba13235deea4116986cbb5fbb225114": {
      "model_module": "jupyter-cytoscape",
      "model_module_version": "^1.2.2",
      "model_name": "EdgeModel",
      "state": {
       "_model_module_version": "^1.2.2",
       "_view_module_version": "^1.2.2",
       "classes": " directed  multiple_edges ",
       "data": {
        "id": "weight_mpg",
        "source": "weight",
        "target": "mpg"
       },
       "selectable": false
      }
     },
     "5c1be6222528490ea43ba6e8adbe90e3": {
      "model_module": "jupyter-cytoscape",
      "model_module_version": "^1.2.2",
      "model_name": "NodeModel",
      "state": {
       "_model_module_version": "^1.2.2",
       "_view_module_version": "^1.2.2",
       "data": {
        "id": "displacement",
        "label": "displacement"
       },
       "grabbable": true,
       "grabbed": false,
       "position": {
        "x": 1094.8764463949644,
        "y": 228.64104694410887
       },
       "removed": true,
       "selectable": false
      }
     },
     "5c32b7375b494d269068e236f72324dc": {
      "model_module": "jupyter-cytoscape",
      "model_module_version": "^1.2.2",
      "model_name": "GraphModel",
      "state": {
       "_adj": {
        "acceleration": {},
        "cylinders": {},
        "displacement": {},
        "horsepower": {},
        "model_year": {},
        "mpg": {},
        "origin": {},
        "weight": {}
       },
       "_model_module_version": "^1.2.2",
       "_view_module": "jupyter-cytoscape",
       "_view_module_version": "^1.2.2",
       "edges": [
        "IPY_MODEL_ea32078d3dfd414aa82c35c114ba75f1",
        "IPY_MODEL_2562812b312d43a7aa3282c575ac8b32",
        "IPY_MODEL_a5f9c4ed8de44d23b4ce01d0d449fa13",
        "IPY_MODEL_2fb835fe0016418bb73855af420a6dcf",
        "IPY_MODEL_e037012673bf48f898dcdc7c31ab9f0e",
        "IPY_MODEL_2aea8aed8b9744489a69681f905b283d",
        "IPY_MODEL_2a3c57abad604488be725efcaaa68224",
        "IPY_MODEL_40bae203cf554967a820b3a56b3cedaf",
        "IPY_MODEL_947b9af412f543dbb504707bf47cce6b",
        "IPY_MODEL_fbde6c385a8e4d95b5c73c4f75004871",
        "IPY_MODEL_67a45705dfc34a6994fb93b43e7d66c3"
       ],
       "nodes": [
        "IPY_MODEL_5a58d53e16ce46f58e47bff3de238d09",
        "IPY_MODEL_a632775e67ca43b1b06628a6fd4e5d08",
        "IPY_MODEL_105f464a17f34b69802e4cbed8e919a2",
        "IPY_MODEL_294e850cf5364cada81afea581f2b955",
        "IPY_MODEL_fc5481a0735a424caa36addc4e4c3dcb",
        "IPY_MODEL_2ed960640b6a49f4a4285b59d28789f2",
        "IPY_MODEL_774e6330570a45bd8c4e981456fb30e9",
        "IPY_MODEL_9cd23722b9214758bf3286cfa618e331"
       ]
      }
     },
     "5c3395402f7c4e2c949f160050ad86a6": {
      "model_module": "@jupyter-widgets/controls",
      "model_module_version": "1.5.0",
      "model_name": "ButtonStyleModel",
      "state": {}
     },
     "5c3d7cb282b94b719bbc17361d77aafc": {
      "model_module": "jupyter-cytoscape",
      "model_module_version": "^1.2.2",
      "model_name": "NodeModel",
      "state": {
       "_model_module_version": "^1.2.2",
       "_view_module_version": "^1.2.2",
       "data": {
        "id": "cylinders",
        "label": "cylinders"
       },
       "grabbable": true,
       "grabbed": false,
       "position": {
        "x": 433.0988645297568,
        "y": 243.59005208886958
       },
       "selectable": false
      }
     },
     "5c8c05be00bd44bdb15d763b8349f946": {
      "model_module": "jupyter-cytoscape",
      "model_module_version": "^1.2.2",
      "model_name": "NodeModel",
      "state": {
       "_model_module_version": "^1.2.2",
       "_view_module_version": "^1.2.2",
       "data": {
        "id": "model_year",
        "label": "model_year"
       },
       "grabbable": true,
       "grabbed": false,
       "position": {
        "x": 804.5132278920127,
        "y": 248.63329912079755
       },
       "selectable": false
      }
     },
     "5c9505ebf1fb4797a5eb9ec7ab7e6369": {
      "model_module": "jupyter-cytoscape",
      "model_module_version": "^1.2.2",
      "model_name": "EdgeModel",
      "state": {
       "_model_module_version": "^1.2.2",
       "_view_module_version": "^1.2.2",
       "classes": " directed  multiple_edges ",
       "data": {
        "id": "weight_mpg",
        "source": "weight",
        "target": "mpg"
       },
       "removed": true,
       "selectable": false
      }
     },
     "5cd0df64ddb54e629d648ee07a32f38b": {
      "model_module": "jupyter-cytoscape",
      "model_module_version": "^1.2.2",
      "model_name": "EdgeModel",
      "state": {
       "_model_module_version": "^1.2.2",
       "_view_module_version": "^1.2.2",
       "classes": " directed  multiple_edges ",
       "data": {
        "id": "displacement_weight",
        "source": "displacement",
        "target": "weight"
       },
       "selectable": false
      }
     },
     "5ce12578ec79472a92bc6ea642071c9b": {
      "model_module": "jupyter-cytoscape",
      "model_module_version": "^1.2.2",
      "model_name": "EdgeModel",
      "state": {
       "_model_module_version": "^1.2.2",
       "_view_module_version": "^1.2.2",
       "classes": " directed  multiple_edges ",
       "data": {
        "id": "model_year_weight",
        "source": "model_year",
        "target": "weight"
       },
       "removed": true,
       "selectable": false
      }
     },
     "5d074429db864d209c17d65fe35098a8": {
      "model_module": "jupyter-cytoscape",
      "model_module_version": "^1.2.2",
      "model_name": "NodeModel",
      "state": {
       "_model_module_version": "^1.2.2",
       "_view_module_version": "^1.2.2",
       "data": {
        "id": "model_year",
        "label": "model_year"
       },
       "grabbable": true,
       "grabbed": false,
       "position": {
        "x": 559.3412859858755,
        "y": 263.5513286832067
       },
       "selectable": false
      }
     },
     "5d1c1b22c3b446f4825f1c54edb36923": {
      "model_module": "@jupyter-widgets/controls",
      "model_module_version": "1.5.0",
      "model_name": "ButtonModel",
      "state": {
       "description": "Delete Edge",
       "disabled": true,
       "layout": "IPY_MODEL_133fa98cc6c34a408de6f3a0c20f025f",
       "style": "IPY_MODEL_eb46c3a89e0948caa871145ecbaa861d"
      }
     },
     "5d46a4f6880946ea9d0bf910d35ff889": {
      "model_module": "@jupyter-widgets/controls",
      "model_module_version": "1.5.0",
      "model_name": "ButtonStyleModel",
      "state": {}
     },
     "5d57db94d852459d829de4f870c3c3ed": {
      "model_module": "jupyter-cytoscape",
      "model_module_version": "^1.2.2",
      "model_name": "GraphModel",
      "state": {
       "_adj": {},
       "_model_module_version": "^1.2.2",
       "_view_module": "jupyter-cytoscape",
       "_view_module_version": "^1.2.2"
      }
     },
     "5d7838fbfff24a42b079168818720608": {
      "model_module": "jupyter-cytoscape",
      "model_module_version": "^1.2.2",
      "model_name": "NodeModel",
      "state": {
       "_model_module_version": "^1.2.2",
       "_view_module_version": "^1.2.2",
       "data": {
        "id": "mpg",
        "label": "mpg"
       },
       "grabbable": true,
       "grabbed": false,
       "position": {
        "x": 1107.840943621376,
        "y": 147.15280318553766
       },
       "selectable": false
      }
     },
     "5dabea3174014f9fbd97d1d91eabe3a2": {
      "model_module": "@jupyter-widgets/controls",
      "model_module_version": "1.5.0",
      "model_name": "ButtonModel",
      "state": {
       "description": "Change Direction",
       "disabled": true,
       "layout": "IPY_MODEL_3041627a4b904dd3a201d47fc7716d5b",
       "style": "IPY_MODEL_b63ae0f1618140e7836cf0e21b7cc5c8"
      }
     },
     "5db807630d0e4d2faf2e2b005db33877": {
      "model_module": "@jupyter-widgets/controls",
      "model_module_version": "1.5.0",
      "model_name": "ButtonModel",
      "state": {
       "description": "Generate original graph",
       "layout": "IPY_MODEL_c43a70b6e77f4461ad231eca409bcbea",
       "style": "IPY_MODEL_a932fd2c4dd146fd9ad301f6cdca6ff2"
      }
     },
     "5dda05d29b3d40eb942451d0da6fdc7a": {
      "model_module": "jupyter-cytoscape",
      "model_module_version": "^1.2.2",
      "model_name": "EdgeModel",
      "state": {
       "_model_module_version": "^1.2.2",
       "_view_module_version": "^1.2.2",
       "classes": " directed  multiple_edges ",
       "data": {
        "id": "displacement_cylinders",
        "source": "displacement",
        "target": "cylinders"
       },
       "selectable": false
      }
     },
     "5ddb820c6f0b4cdcad1ef5ffba80d949": {
      "model_module": "jupyter-cytoscape",
      "model_module_version": "^1.2.2",
      "model_name": "CytoscapeModel",
      "state": {
       "_interaction_handlers": {
        "edge": [
         "click"
        ],
        "node": [
         "click"
        ]
       },
       "_model_module_version": "^1.2.2",
       "_view_module_version": "^1.2.2",
       "auto_ungrabify": false,
       "autolock": false,
       "cytoscape_layout": {
        "name": "cola"
       },
       "cytoscape_style": [
        {
         "selector": "node",
         "style": {
          "background-color": "blue",
          "font-family": "arial",
          "font-size": "10px",
          "label": "data(label)"
         }
        },
        {
         "selector": "edge",
         "style": {
          "curve-style": "bezier",
          "line-color": "#9dbaea",
          "target-arrow-color": "#9dbaea",
          "target-arrow-shape": "triangle",
          "width": 4
         }
        },
        {
         "css": {
          "line-color": "red"
         },
         "selector": "edge.selected"
        },
        {
         "css": {
          "background-color": "red"
         },
         "selector": "node.selected"
        }
       ],
       "desktop_tap_threshold": 4,
       "graph": "IPY_MODEL_17c012a84bc4447286fc494b53effb42",
       "headless": false,
       "hide_edges_on_viewport": false,
       "layout": "IPY_MODEL_9596e2794a9d49088d0df0fd418f832b",
       "max_zoom": 1e+50,
       "min_zoom": 1e-50,
       "motion_blur": false,
       "motion_blur_opacity": 0.2,
       "panning_enabled": true,
       "pixel_ratio": "auto",
       "rendered_position": {
        "renderedPosition": {
         "x": 100,
         "y": 100
        }
       },
       "selection_type": "single",
       "style_enabled": true,
       "texture_on_viewport": false,
       "tooltip_source": "tooltip",
       "touch_tap_threshold": 8,
       "user_panning_enabled": true,
       "user_zooming_enabled": true,
       "wheel_sensitivity": 1,
       "zoom": 2,
       "zooming_enabled": true
      }
     },
     "5de4cb35219f4c64a5e65d4bff279508": {
      "model_module": "jupyter-cytoscape",
      "model_module_version": "^1.2.2",
      "model_name": "EdgeModel",
      "state": {
       "_model_module_version": "^1.2.2",
       "_view_module_version": "^1.2.2",
       "classes": " directed  multiple_edges ",
       "data": {
        "id": "weight_acceleration",
        "source": "weight",
        "target": "acceleration"
       },
       "removed": true,
       "selectable": false
      }
     },
     "5def1ee8b9534db4bb265c2012b5af80": {
      "model_module": "@jupyter-widgets/controls",
      "model_module_version": "1.5.0",
      "model_name": "ButtonStyleModel",
      "state": {}
     },
     "5e28980379d74a778af920506861cebf": {
      "model_module": "@jupyter-widgets/base",
      "model_module_version": "1.2.0",
      "model_name": "LayoutModel",
      "state": {}
     },
     "5e5b2bbfec7842b7ad08324b92bbfa31": {
      "model_module": "jupyter-cytoscape",
      "model_module_version": "^1.2.2",
      "model_name": "EdgeModel",
      "state": {
       "_model_module_version": "^1.2.2",
       "_view_module_version": "^1.2.2",
       "classes": " directed  multiple_edges ",
       "data": {
        "id": "displacement_origin",
        "source": "displacement",
        "target": "origin"
       },
       "removed": true,
       "selectable": false
      }
     },
     "5e61af2919f44e1d9d6611b982511bae": {
      "model_module": "jupyter-cytoscape",
      "model_module_version": "^1.2.2",
      "model_name": "EdgeModel",
      "state": {
       "_model_module_version": "^1.2.2",
       "_view_module_version": "^1.2.2",
       "classes": " directed  multiple_edges ",
       "data": {
        "id": "displacement_cylinders",
        "source": "displacement",
        "target": "cylinders"
       },
       "selectable": false
      }
     },
     "5e8680893a1043ca948793fab85f4d27": {
      "model_module": "jupyter-cytoscape",
      "model_module_version": "^1.2.2",
      "model_name": "EdgeModel",
      "state": {
       "_model_module_version": "^1.2.2",
       "_view_module_version": "^1.2.2",
       "classes": " directed  multiple_edges ",
       "data": {
        "id": "cylinders_displacement",
        "source": "cylinders",
        "target": "displacement"
       },
       "removed": true,
       "selectable": false
      }
     },
     "5e868fd626e449a98dc68a573ad49a56": {
      "model_module": "jupyter-cytoscape",
      "model_module_version": "^1.2.2",
      "model_name": "EdgeModel",
      "state": {
       "_model_module_version": "^1.2.2",
       "_view_module_version": "^1.2.2",
       "classes": " directed  multiple_edges ",
       "data": {
        "id": "cylinders_origin",
        "source": "cylinders",
        "target": "origin"
       },
       "selectable": false
      }
     },
     "5ed9e8ad3782445e8bc8ffa549c403b4": {
      "model_module": "jupyter-cytoscape",
      "model_module_version": "^1.2.2",
      "model_name": "NodeModel",
      "state": {
       "_model_module_version": "^1.2.2",
       "_view_module_version": "^1.2.2",
       "data": {
        "id": "mpg",
        "label": "mpg"
       },
       "grabbable": true,
       "grabbed": false,
       "position": {
        "x": 603.7678640767559,
        "y": 108.70878986322509
       },
       "removed": true,
       "selectable": false
      }
     },
     "5edb0af25d5148c9a65796069335ab95": {
      "model_module": "jupyter-cytoscape",
      "model_module_version": "^1.2.2",
      "model_name": "EdgeModel",
      "state": {
       "_model_module_version": "^1.2.2",
       "_view_module_version": "^1.2.2",
       "classes": " directed  multiple_edges ",
       "data": {
        "id": "weight_horsepower",
        "source": "weight",
        "target": "horsepower"
       },
       "selectable": false
      }
     },
     "5ee3fea44b3a4865a6c0acc4996ef382": {
      "model_module": "@jupyter-widgets/base",
      "model_module_version": "1.2.0",
      "model_name": "LayoutModel",
      "state": {}
     },
     "5f3653a977ee476dad19c4236ef7266b": {
      "model_module": "jupyter-cytoscape",
      "model_module_version": "^1.2.2",
      "model_name": "EdgeModel",
      "state": {
       "_model_module_version": "^1.2.2",
       "_view_module_version": "^1.2.2",
       "classes": " directed  multiple_edges ",
       "data": {
        "id": "displacement_weight",
        "source": "displacement",
        "target": "weight"
       },
       "selectable": false
      }
     },
     "5fb9ca29c4cd4d0f8c9c7385edfd07e6": {
      "model_module": "@jupyter-widgets/controls",
      "model_module_version": "1.5.0",
      "model_name": "ButtonModel",
      "state": {
       "description": "Delete Edge",
       "disabled": true,
       "layout": "IPY_MODEL_c5fab3a6a6e54fd58eac81e8dc6cb79a",
       "style": "IPY_MODEL_ff127057c15d4456ba8486bcf7db17e9"
      }
     },
     "5fdb60170c6d42a6af33f718749c873d": {
      "model_module": "@jupyter-widgets/base",
      "model_module_version": "1.2.0",
      "model_name": "LayoutModel",
      "state": {}
     },
     "5fed8ec57e6443c989ef0cd30a56fe82": {
      "model_module": "jupyter-cytoscape",
      "model_module_version": "^1.2.2",
      "model_name": "CytoscapeModel",
      "state": {
       "_interaction_handlers": {
        "edge": [
         "click"
        ],
        "node": [
         "click"
        ]
       },
       "_model_module_version": "^1.2.2",
       "_view_module_version": "^1.2.2",
       "auto_ungrabify": false,
       "autolock": false,
       "cytoscape_layout": {
        "name": "cola"
       },
       "cytoscape_style": [
        {
         "selector": "node",
         "style": {
          "background-color": "blue",
          "font-family": "arial",
          "font-size": "10px",
          "label": "data(label)"
         }
        },
        {
         "selector": "edge",
         "style": {
          "curve-style": "bezier",
          "line-color": "#9dbaea",
          "target-arrow-color": "#9dbaea",
          "target-arrow-shape": "triangle",
          "width": 4
         }
        },
        {
         "css": {
          "line-color": "red"
         },
         "selector": "edge.selected"
        },
        {
         "css": {
          "background-color": "red"
         },
         "selector": "node.selected"
        }
       ],
       "desktop_tap_threshold": 4,
       "graph": "IPY_MODEL_f97281a155814ac784c066e1fb634d38",
       "headless": false,
       "hide_edges_on_viewport": false,
       "layout": "IPY_MODEL_e892c034d8b841dd8329934b98fd8225",
       "max_zoom": 1e+50,
       "min_zoom": 1e-50,
       "motion_blur": false,
       "motion_blur_opacity": 0.2,
       "panning_enabled": true,
       "pixel_ratio": "auto",
       "rendered_position": {
        "renderedPosition": {
         "x": 100,
         "y": 100
        }
       },
       "selection_type": "single",
       "style_enabled": true,
       "texture_on_viewport": false,
       "tooltip_source": "tooltip",
       "touch_tap_threshold": 8,
       "user_panning_enabled": true,
       "user_zooming_enabled": true,
       "wheel_sensitivity": 1,
       "zoom": 2,
       "zooming_enabled": true
      }
     },
     "60193272294a48bbacfbf40aef949287": {
      "model_module": "jupyter-cytoscape",
      "model_module_version": "^1.2.2",
      "model_name": "EdgeModel",
      "state": {
       "_model_module_version": "^1.2.2",
       "_view_module_version": "^1.2.2",
       "classes": " directed  multiple_edges ",
       "data": {
        "id": "displacement_horsepower",
        "source": "displacement",
        "target": "horsepower"
       },
       "removed": true,
       "selectable": false
      }
     },
     "60429c28bdf344f8a2a8baadf35200f1": {
      "model_module": "@jupyter-widgets/controls",
      "model_module_version": "1.5.0",
      "model_name": "ButtonModel",
      "state": {
       "description": "Add Edge",
       "disabled": true,
       "layout": "IPY_MODEL_1caaa1e8e05f41cfb0cf8fe768d6530d",
       "style": "IPY_MODEL_c921e7d619aa457ca934cafd75e565a8"
      }
     },
     "6075e57243514404baa591976abbd01b": {
      "model_module": "jupyter-cytoscape",
      "model_module_version": "^1.2.2",
      "model_name": "NodeModel",
      "state": {
       "_model_module_version": "^1.2.2",
       "_view_module_version": "^1.2.2",
       "data": {
        "id": "weight",
        "label": "weight"
       },
       "grabbable": true,
       "grabbed": false,
       "position": {
        "x": 932.5932912450652,
        "y": 200.93208570003227
       },
       "removed": true,
       "selectable": false
      }
     },
     "60a38e015da0463fb385f19d8c3342c2": {
      "model_module": "@jupyter-widgets/controls",
      "model_module_version": "1.5.0",
      "model_name": "ButtonStyleModel",
      "state": {}
     },
     "60aab14a79d74e6b894e7018d3a8ba5f": {
      "model_module": "@jupyter-widgets/base",
      "model_module_version": "1.2.0",
      "model_name": "LayoutModel",
      "state": {}
     },
     "60d7e09179554514904a4ca1c29184d7": {
      "model_module": "@jupyter-widgets/controls",
      "model_module_version": "1.5.0",
      "model_name": "ButtonModel",
      "state": {
       "description": "Change Direction",
       "disabled": true,
       "layout": "IPY_MODEL_343e7e27d1a942ce832bb3b93d39dbaf",
       "style": "IPY_MODEL_b6252239076a493c82f83d2a9fed34a1"
      }
     },
     "610fab3e226a4a3c96852495b5c00126": {
      "model_module": "jupyter-cytoscape",
      "model_module_version": "^1.2.2",
      "model_name": "EdgeModel",
      "state": {
       "_model_module_version": "^1.2.2",
       "_view_module_version": "^1.2.2",
       "classes": " directed  multiple_edges ",
       "data": {
        "id": "cylinders_displacement",
        "source": "cylinders",
        "target": "displacement"
       },
       "removed": true,
       "selectable": false
      }
     },
     "616d83e07c8b45c4ab1e5caec1628e9c": {
      "model_module": "jupyter-cytoscape",
      "model_module_version": "^1.2.2",
      "model_name": "EdgeModel",
      "state": {
       "_model_module_version": "^1.2.2",
       "_view_module_version": "^1.2.2",
       "classes": " directed  multiple_edges ",
       "data": {
        "id": "model_year_mpg",
        "source": "model_year",
        "target": "mpg"
       },
       "selectable": false
      }
     },
     "61b5985ce0e04d97913a956977662a51": {
      "model_module": "jupyter-cytoscape",
      "model_module_version": "^1.2.2",
      "model_name": "EdgeModel",
      "state": {
       "_model_module_version": "^1.2.2",
       "_view_module_version": "^1.2.2",
       "classes": " directed  multiple_edges ",
       "data": {
        "id": "horsepower_acceleration",
        "source": "horsepower",
        "target": "acceleration"
       },
       "selectable": false
      }
     },
     "61c67c08dd98435990f56a43d8b6d5a6": {
      "model_module": "jupyter-cytoscape",
      "model_module_version": "^1.2.2",
      "model_name": "NodeModel",
      "state": {
       "_model_module_version": "^1.2.2",
       "_view_module_version": "^1.2.2",
       "data": {
        "id": "cylinders",
        "label": "cylinders"
       },
       "grabbable": true,
       "grabbed": false,
       "position": {
        "x": 726.1748958875327,
        "y": 274.8733179847211
       },
       "selectable": false
      }
     },
     "61d052b1f9234a4aa341142d7043214f": {
      "model_module": "jupyter-cytoscape",
      "model_module_version": "^1.2.2",
      "model_name": "EdgeModel",
      "state": {
       "_model_module_version": "^1.2.2",
       "_view_module_version": "^1.2.2",
       "classes": " directed  multiple_edges ",
       "data": {
        "id": "displacement_horsepower",
        "source": "displacement",
        "target": "horsepower"
       },
       "selectable": false
      }
     },
     "61f417d695a04a3db254f063389a84ca": {
      "model_module": "@jupyter-widgets/base",
      "model_module_version": "1.2.0",
      "model_name": "LayoutModel",
      "state": {}
     },
     "620ca7b0b258456b8fd9e20609f436d2": {
      "model_module": "@jupyter-widgets/controls",
      "model_module_version": "1.5.0",
      "model_name": "ButtonModel",
      "state": {
       "description": "red edges",
       "layout": "IPY_MODEL_f12c3ef7295c41f3ad6326d8f5a38469",
       "style": "IPY_MODEL_040a5ceb0ab64840b5caa090eea26d8a"
      }
     },
     "6214377a3fc64c47abd77afbbc0121e3": {
      "model_module": "@jupyter-widgets/base",
      "model_module_version": "1.2.0",
      "model_name": "LayoutModel",
      "state": {}
     },
     "624e5d16033343d6937c39518767d163": {
      "model_module": "jupyter-cytoscape",
      "model_module_version": "^1.2.2",
      "model_name": "EdgeModel",
      "state": {
       "_model_module_version": "^1.2.2",
       "_view_module_version": "^1.2.2",
       "classes": " directed  multiple_edges ",
       "data": {
        "id": "origin_horsepower",
        "source": "origin",
        "target": "horsepower"
       },
       "selectable": false
      }
     },
     "6277c813a9914aefb92afec0aba31ee8": {
      "model_module": "jupyter-cytoscape",
      "model_module_version": "^1.2.2",
      "model_name": "EdgeModel",
      "state": {
       "_model_module_version": "^1.2.2",
       "_view_module_version": "^1.2.2",
       "classes": " directed  multiple_edges ",
       "data": {
        "id": "displacement_acceleration",
        "source": "displacement",
        "target": "acceleration"
       },
       "removed": true,
       "selectable": false
      }
     },
     "62ac682511ac480eaf268a0c6c9043d7": {
      "model_module": "@jupyter-widgets/controls",
      "model_module_version": "1.5.0",
      "model_name": "ButtonModel",
      "state": {
       "description": "Generate original graph",
       "layout": "IPY_MODEL_820151a8aafd47ca91b5296f1219a722",
       "style": "IPY_MODEL_99cb1dce869240f99a09dd1713cfc23f"
      }
     },
     "62b31ee09de546799f99068fda52120c": {
      "model_module": "jupyter-cytoscape",
      "model_module_version": "^1.2.2",
      "model_name": "GraphModel",
      "state": {
       "_adj": {},
       "_model_module_version": "^1.2.2",
       "_view_module": "jupyter-cytoscape",
       "_view_module_version": "^1.2.2"
      }
     },
     "62b6621480874ca4a0db1db80a74e109": {
      "model_module": "@jupyter-widgets/controls",
      "model_module_version": "1.5.0",
      "model_name": "ButtonModel",
      "state": {
       "description": "Add Edge",
       "layout": "IPY_MODEL_2215a3d7e27141fa9233eaa2275e9750",
       "style": "IPY_MODEL_d5bcc1110758475bad251291020bf078"
      }
     },
     "62c9fa80992b418da7080e41d7152fff": {
      "model_module": "jupyter-cytoscape",
      "model_module_version": "^1.2.2",
      "model_name": "EdgeModel",
      "state": {
       "_model_module_version": "^1.2.2",
       "_view_module_version": "^1.2.2",
       "classes": " directed  multiple_edges ",
       "data": {
        "id": "model_year_acceleration",
        "source": "model_year",
        "target": "acceleration"
       },
       "selectable": false
      }
     },
     "62d078dd59854103ae81fcf6b842fdd0": {
      "model_module": "jupyter-cytoscape",
      "model_module_version": "^1.2.2",
      "model_name": "NodeModel",
      "state": {
       "_model_module_version": "^1.2.2",
       "_view_module_version": "^1.2.2",
       "data": {
        "id": "horsepower",
        "label": "horsepower"
       },
       "grabbable": true,
       "grabbed": false,
       "position": {
        "x": 527.4610233445989,
        "y": 96.49881537384933
       },
       "selectable": false
      }
     },
     "62f1f298691341e388ff1d8757b12d38": {
      "model_module": "jupyter-cytoscape",
      "model_module_version": "^1.2.2",
      "model_name": "NodeModel",
      "state": {
       "_model_module_version": "^1.2.2",
       "_view_module_version": "^1.2.2",
       "data": {
        "id": "acceleration",
        "label": "acceleration"
       },
       "grabbable": true,
       "grabbed": false,
       "position": {
        "x": 598.6565740712615,
        "y": 336.3251878079987
       },
       "selectable": false
      }
     },
     "62f7675d6bc141ee865d8ef8055f3482": {
      "model_module": "jupyter-cytoscape",
      "model_module_version": "^1.2.2",
      "model_name": "EdgeModel",
      "state": {
       "_model_module_version": "^1.2.2",
       "_view_module_version": "^1.2.2",
       "classes": " directed  multiple_edges ",
       "data": {
        "id": "mpg_origin",
        "source": "mpg",
        "target": "origin"
       },
       "selectable": false
      }
     },
     "62fc9e54764b413db7156403021b420b": {
      "model_module": "jupyter-cytoscape",
      "model_module_version": "^1.2.2",
      "model_name": "EdgeModel",
      "state": {
       "_model_module_version": "^1.2.2",
       "_view_module_version": "^1.2.2",
       "classes": " directed  multiple_edges ",
       "data": {
        "id": "cylinders_origin",
        "source": "cylinders",
        "target": "origin"
       },
       "selectable": false
      }
     },
     "630d71c01f1944fa9361183b4b8d42b9": {
      "model_module": "jupyter-cytoscape",
      "model_module_version": "^1.2.2",
      "model_name": "EdgeModel",
      "state": {
       "_model_module_version": "^1.2.2",
       "_view_module_version": "^1.2.2",
       "classes": " directed  multiple_edges ",
       "data": {
        "id": "displacement_origin",
        "source": "displacement",
        "target": "origin"
       },
       "selectable": false
      }
     },
     "636048d678cc4619b7677ede8fda26df": {
      "model_module": "jupyter-cytoscape",
      "model_module_version": "^1.2.2",
      "model_name": "EdgeModel",
      "state": {
       "_model_module_version": "^1.2.2",
       "_view_module_version": "^1.2.2",
       "classes": " directed  multiple_edges ",
       "data": {
        "id": "horsepower_acceleration",
        "source": "horsepower",
        "target": "acceleration"
       },
       "selectable": false
      }
     },
     "6371277bd99a4946a502bc26f122cb33": {
      "model_module": "@jupyter-widgets/controls",
      "model_module_version": "1.5.0",
      "model_name": "ButtonModel",
      "state": {
       "description": "Add Edge",
       "disabled": true,
       "layout": "IPY_MODEL_8f2a5901a73c459cbb5db233333598bf",
       "style": "IPY_MODEL_5c3395402f7c4e2c949f160050ad86a6"
      }
     },
     "63aeee852e2f4f5888637baf11423dff": {
      "model_module": "@jupyter-widgets/controls",
      "model_module_version": "1.5.0",
      "model_name": "ButtonStyleModel",
      "state": {}
     },
     "63b71ece494c43308e39f2aeb2eb861b": {
      "model_module": "jupyter-cytoscape",
      "model_module_version": "^1.2.2",
      "model_name": "NodeModel",
      "state": {
       "_model_module_version": "^1.2.2",
       "_view_module_version": "^1.2.2",
       "data": {
        "id": "acceleration",
        "label": "acceleration"
       },
       "grabbable": true,
       "grabbed": false,
       "position": {
        "x": 723.4340330361492,
        "y": 297.87127869548584
       },
       "removed": true,
       "selectable": false
      }
     },
     "63b9b636a57f46e29fe65b56b5824eda": {
      "model_module": "@jupyter-widgets/base",
      "model_module_version": "1.2.0",
      "model_name": "LayoutModel",
      "state": {}
     },
     "63dfd94d9e8e47f796fb41ef4ddfc46a": {
      "model_module": "jupyter-cytoscape",
      "model_module_version": "^1.2.2",
      "model_name": "NodeModel",
      "state": {
       "_model_module_version": "^1.2.2",
       "_view_module_version": "^1.2.2",
       "data": {
        "id": "acceleration",
        "label": "acceleration"
       },
       "grabbable": true,
       "grabbed": false,
       "position": {
        "x": 598.6565740712615,
        "y": 336.3251878079987
       },
       "selectable": false
      }
     },
     "64121504db4044e3878ea1274c45d532": {
      "model_module": "jupyter-cytoscape",
      "model_module_version": "^1.2.2",
      "model_name": "EdgeModel",
      "state": {
       "_model_module_version": "^1.2.2",
       "_view_module_version": "^1.2.2",
       "classes": " directed  multiple_edges ",
       "data": {
        "id": "weight_acceleration",
        "source": "weight",
        "target": "acceleration"
       },
       "selectable": false
      }
     },
     "6434eaf8645d46caa6e2fde45284994e": {
      "model_module": "jupyter-cytoscape",
      "model_module_version": "^1.2.2",
      "model_name": "CytoscapeModel",
      "state": {
       "_interaction_handlers": {
        "edge": [
         "click"
        ],
        "node": [
         "click"
        ]
       },
       "_model_module_version": "^1.2.2",
       "_view_module_version": "^1.2.2",
       "auto_ungrabify": false,
       "autolock": false,
       "cytoscape_layout": {
        "name": "cola"
       },
       "cytoscape_style": [
        {
         "selector": "node",
         "style": {
          "background-color": "blue",
          "font-family": "arial",
          "font-size": "10px",
          "label": "data(label)"
         }
        },
        {
         "selector": "edge",
         "style": {
          "curve-style": "bezier",
          "line-color": "#9dbaea",
          "target-arrow-color": "#9dbaea",
          "target-arrow-shape": "triangle",
          "width": 4
         }
        },
        {
         "css": {
          "line-color": "red"
         },
         "selector": "edge.selected"
        },
        {
         "css": {
          "background-color": "red"
         },
         "selector": "node.selected"
        }
       ],
       "desktop_tap_threshold": 4,
       "graph": "IPY_MODEL_dd23d409fd53430697409a95d00ba3c8",
       "headless": false,
       "hide_edges_on_viewport": false,
       "layout": "IPY_MODEL_ed3c5888d59841be93460ba990b4c3e9",
       "max_zoom": 1e+50,
       "min_zoom": 1e-50,
       "motion_blur": false,
       "motion_blur_opacity": 0.2,
       "panning_enabled": true,
       "pixel_ratio": "auto",
       "rendered_position": {
        "renderedPosition": {
         "x": 100,
         "y": 100
        }
       },
       "selection_type": "single",
       "style_enabled": true,
       "texture_on_viewport": false,
       "tooltip_source": "tooltip",
       "touch_tap_threshold": 8,
       "user_panning_enabled": true,
       "user_zooming_enabled": true,
       "wheel_sensitivity": 1,
       "zoom": 2,
       "zooming_enabled": true
      }
     },
     "6449caf5c5cf4c10a6974b9bbb28c465": {
      "model_module": "jupyter-cytoscape",
      "model_module_version": "^1.2.2",
      "model_name": "EdgeModel",
      "state": {
       "_model_module_version": "^1.2.2",
       "_view_module_version": "^1.2.2",
       "classes": " directed  multiple_edges ",
       "data": {
        "id": "displacement_horsepower",
        "source": "displacement",
        "target": "horsepower"
       },
       "selectable": false
      }
     },
     "64647c2631c94136a58b90a8637b59a7": {
      "model_module": "jupyter-cytoscape",
      "model_module_version": "^1.2.2",
      "model_name": "NodeModel",
      "state": {
       "_model_module_version": "^1.2.2",
       "_view_module_version": "^1.2.2",
       "data": {
        "id": "cylinders",
        "label": "cylinders"
       },
       "grabbable": true,
       "grabbed": false,
       "position": {
        "x": 936.0988645297588,
        "y": 243.59005208886956
       },
       "selectable": false
      }
     },
     "64ecbbde3f2a40cbb59188b200848551": {
      "model_module": "@jupyter-widgets/base",
      "model_module_version": "1.2.0",
      "model_name": "LayoutModel",
      "state": {}
     },
     "64fe01cebe2740b3b5e59836429cf1fc": {
      "model_module": "@jupyter-widgets/output",
      "model_module_version": "1.0.0",
      "model_name": "OutputModel",
      "state": {
       "layout": "IPY_MODEL_e4c23b6b797c4dca9b9a94f6ba12bcb6"
      }
     },
     "650be68da7e6405b9b82014fb48ed361": {
      "model_module": "jupyter-cytoscape",
      "model_module_version": "^1.2.2",
      "model_name": "NodeModel",
      "state": {
       "_model_module_version": "^1.2.2",
       "_view_module_version": "^1.2.2",
       "data": {
        "id": "mpg",
        "label": "mpg"
       },
       "grabbable": true,
       "grabbed": false,
       "position": {
        "x": 604.8409436213743,
        "y": 147.15280318553792
       },
       "selectable": false
      }
     },
     "650f88be8e434fb99e73f78eac28ce04": {
      "model_module": "jupyter-cytoscape",
      "model_module_version": "^1.2.2",
      "model_name": "EdgeModel",
      "state": {
       "_model_module_version": "^1.2.2",
       "_view_module_version": "^1.2.2",
       "classes": " directed  multiple_edges ",
       "data": {
        "id": "horsepower_acceleration",
        "source": "horsepower",
        "target": "acceleration"
       },
       "removed": true,
       "selectable": false
      }
     },
     "655a8b2dee2f4ad092b6289639b1eef6": {
      "model_module": "jupyter-cytoscape",
      "model_module_version": "^1.2.2",
      "model_name": "NodeModel",
      "state": {
       "_model_module_version": "^1.2.2",
       "_view_module_version": "^1.2.2",
       "data": {
        "id": "origin",
        "label": "origin"
       },
       "grabbable": true,
       "grabbed": false,
       "position": {
        "x": 1124.8858077337452,
        "y": 206.81610165996514
       },
       "removed": true,
       "selectable": false
      }
     },
     "65f74a7849ca40e492c88891ef9a97b3": {
      "model_module": "jupyter-cytoscape",
      "model_module_version": "^1.2.2",
      "model_name": "EdgeModel",
      "state": {
       "_model_module_version": "^1.2.2",
       "_view_module_version": "^1.2.2",
       "classes": " directed  multiple_edges ",
       "data": {
        "id": "mpg_origin",
        "source": "mpg",
        "target": "origin"
       },
       "selectable": false
      }
     },
     "6608909bf1e248c4985eb5367519645f": {
      "model_module": "jupyter-cytoscape",
      "model_module_version": "^1.2.2",
      "model_name": "EdgeModel",
      "state": {
       "_model_module_version": "^1.2.2",
       "_view_module_version": "^1.2.2",
       "classes": " directed  multiple_edges ",
       "data": {
        "id": "horsepower_acceleration",
        "source": "horsepower",
        "target": "acceleration"
       },
       "removed": true,
       "selectable": false
      }
     },
     "6646520c31e84bc2bb65934c4f5d5e3c": {
      "model_module": "@jupyter-widgets/base",
      "model_module_version": "1.2.0",
      "model_name": "LayoutModel",
      "state": {}
     },
     "665083201ed9407f93b5d3b14438aa65": {
      "model_module": "jupyter-cytoscape",
      "model_module_version": "^1.2.2",
      "model_name": "NodeModel",
      "state": {
       "_model_module_version": "^1.2.2",
       "_view_module_version": "^1.2.2",
       "data": {
        "id": "weight",
        "label": "weight"
       },
       "grabbable": true,
       "grabbed": false,
       "position": {
        "x": 1001.2459093809197,
        "y": 201.4968140342165
       },
       "removed": true,
       "selectable": false
      }
     },
     "6673d6981fef45fe9ce87498505511c8": {
      "model_module": "@jupyter-widgets/base",
      "model_module_version": "1.2.0",
      "model_name": "LayoutModel",
      "state": {}
     },
     "66b387c3b9e5415c8aebcc8a6397444a": {
      "model_module": "jupyter-cytoscape",
      "model_module_version": "^1.2.2",
      "model_name": "EdgeModel",
      "state": {
       "_model_module_version": "^1.2.2",
       "_view_module_version": "^1.2.2",
       "classes": " directed  multiple_edges ",
       "data": {
        "id": "model_year_mpg",
        "source": "model_year",
        "target": "mpg"
       },
       "selectable": false
      }
     },
     "66cab5c3882a4b558c345bd07201c80a": {
      "model_module": "jupyter-cytoscape",
      "model_module_version": "^1.2.2",
      "model_name": "NodeModel",
      "state": {
       "_model_module_version": "^1.2.2",
       "_view_module_version": "^1.2.2",
       "data": {
        "id": "horsepower",
        "label": "horsepower"
       },
       "grabbable": true,
       "grabbed": false,
       "position": {
        "x": 1047.1814364003374,
        "y": 212.18344375052916
       },
       "selectable": false
      }
     },
     "66e7faefc3544e689075e76966be1477": {
      "model_module": "jupyter-cytoscape",
      "model_module_version": "^1.2.2",
      "model_name": "NodeModel",
      "state": {
       "_model_module_version": "^1.2.2",
       "_view_module_version": "^1.2.2",
       "data": {
        "id": "cylinders",
        "label": "cylinders"
       },
       "grabbable": true,
       "grabbed": false,
       "position": {
        "x": 1197.308236085646,
        "y": 189.40014585444058
       },
       "removed": true,
       "selectable": false
      }
     },
     "674afe1729a54cef8fe86694937d27c2": {
      "model_module": "jupyter-cytoscape",
      "model_module_version": "^1.2.2",
      "model_name": "EdgeModel",
      "state": {
       "_model_module_version": "^1.2.2",
       "_view_module_version": "^1.2.2",
       "classes": " directed  multiple_edges ",
       "data": {
        "id": "model_year_acceleration",
        "source": "model_year",
        "target": "acceleration"
       },
       "removed": true,
       "selectable": false
      }
     },
     "67628f20d21a45a9b443f0ff6bc91b1a": {
      "model_module": "jupyter-cytoscape",
      "model_module_version": "^1.2.2",
      "model_name": "EdgeModel",
      "state": {
       "_model_module_version": "^1.2.2",
       "_view_module_version": "^1.2.2",
       "classes": " directed  multiple_edges ",
       "data": {
        "id": "origin_horsepower",
        "source": "origin",
        "target": "horsepower"
       },
       "removed": true,
       "selectable": false
      }
     },
     "676a96fc33d04865803c13be1c651e1a": {
      "model_module": "jupyter-cytoscape",
      "model_module_version": "^1.2.2",
      "model_name": "EdgeModel",
      "state": {
       "_model_module_version": "^1.2.2",
       "_view_module_version": "^1.2.2",
       "classes": " directed  multiple_edges ",
       "data": {
        "id": "origin_displacement",
        "source": "origin",
        "target": "displacement"
       },
       "selectable": false
      }
     },
     "67a45705dfc34a6994fb93b43e7d66c3": {
      "model_module": "jupyter-cytoscape",
      "model_module_version": "^1.2.2",
      "model_name": "EdgeModel",
      "state": {
       "_model_module_version": "^1.2.2",
       "_view_module_version": "^1.2.2",
       "classes": " directed  multiple_edges ",
       "data": {
        "id": "weight_mpg",
        "source": "weight",
        "target": "mpg"
       },
       "selectable": false
      }
     },
     "680b04e175e049bb86674ea0309f00fb": {
      "model_module": "jupyter-cytoscape",
      "model_module_version": "^1.2.2",
      "model_name": "EdgeModel",
      "state": {
       "_model_module_version": "^1.2.2",
       "_view_module_version": "^1.2.2",
       "classes": " directed  multiple_edges ",
       "data": {
        "id": "mpg_origin",
        "source": "mpg",
        "target": "origin"
       },
       "removed": true,
       "selectable": false
      }
     },
     "6850e79854ec4db08866c8348fbc4d75": {
      "model_module": "@jupyter-widgets/base",
      "model_module_version": "1.2.0",
      "model_name": "LayoutModel",
      "state": {}
     },
     "68e3b6ae51a84fa4a94c7f246f470c72": {
      "model_module": "@jupyter-widgets/controls",
      "model_module_version": "1.5.0",
      "model_name": "ButtonModel",
      "state": {
       "description": "Generate original graph",
       "layout": "IPY_MODEL_219912ce3a164ab9b37ea714aa350cd7",
       "style": "IPY_MODEL_daef90fca9ad4e99b9e61e42b8d928f4"
      }
     },
     "68eae8418f4f45ab93e6a927f457284a": {
      "model_module": "jupyter-cytoscape",
      "model_module_version": "^1.2.2",
      "model_name": "EdgeModel",
      "state": {
       "_model_module_version": "^1.2.2",
       "_view_module_version": "^1.2.2",
       "classes": " directed  multiple_edges ",
       "data": {
        "id": "weight_acceleration",
        "source": "weight",
        "target": "acceleration"
       },
       "removed": true,
       "selectable": false
      }
     },
     "693f802a3b2341119850ad97f4942d3f": {
      "model_module": "jupyter-cytoscape",
      "model_module_version": "^1.2.2",
      "model_name": "EdgeModel",
      "state": {
       "_model_module_version": "^1.2.2",
       "_view_module_version": "^1.2.2",
       "classes": " directed  multiple_edges ",
       "data": {
        "id": "displacement_cylinders",
        "source": "displacement",
        "target": "cylinders"
       },
       "selectable": false
      }
     },
     "69a198efce0644719e0672cdddb1c348": {
      "model_module": "jupyter-cytoscape",
      "model_module_version": "^1.2.2",
      "model_name": "EdgeModel",
      "state": {
       "_model_module_version": "^1.2.2",
       "_view_module_version": "^1.2.2",
       "classes": " directed  multiple_edges ",
       "data": {
        "id": "weight_mpg",
        "source": "weight",
        "target": "mpg"
       },
       "removed": true,
       "selectable": false
      }
     },
     "69d54609380041bf83e59486dea807dc": {
      "model_module": "jupyter-cytoscape",
      "model_module_version": "^1.2.2",
      "model_name": "EdgeModel",
      "state": {
       "_model_module_version": "^1.2.2",
       "_view_module_version": "^1.2.2",
       "classes": " directed  multiple_edges ",
       "data": {
        "id": "origin_horsepower",
        "source": "origin",
        "target": "horsepower"
       },
       "selectable": false
      }
     },
     "69e7d57f12e5409abf7d483669ed1f16": {
      "model_module": "jupyter-cytoscape",
      "model_module_version": "^1.2.2",
      "model_name": "EdgeModel",
      "state": {
       "_model_module_version": "^1.2.2",
       "_view_module_version": "^1.2.2",
       "classes": " directed  multiple_edges ",
       "data": {
        "id": "horsepower_acceleration",
        "source": "horsepower",
        "target": "acceleration"
       },
       "selectable": false
      }
     },
     "69eb6f43cee9470fb792c190c3ee27c6": {
      "model_module": "@jupyter-widgets/base",
      "model_module_version": "1.2.0",
      "model_name": "LayoutModel",
      "state": {}
     },
     "6a21a422ed6349dc9a023312182765e6": {
      "model_module": "jupyter-cytoscape",
      "model_module_version": "^1.2.2",
      "model_name": "EdgeModel",
      "state": {
       "_model_module_version": "^1.2.2",
       "_view_module_version": "^1.2.2",
       "classes": " directed  multiple_edges ",
       "data": {
        "id": "cylinders_origin",
        "source": "cylinders",
        "target": "origin"
       },
       "removed": true,
       "selectable": false
      }
     },
     "6a79874215114163b6af036b415beec7": {
      "model_module": "jupyter-cytoscape",
      "model_module_version": "^1.2.2",
      "model_name": "EdgeModel",
      "state": {
       "_model_module_version": "^1.2.2",
       "_view_module_version": "^1.2.2",
       "classes": " directed  multiple_edges ",
       "data": {
        "id": "origin_horsepower",
        "source": "origin",
        "target": "horsepower"
       },
       "selectable": false
      }
     },
     "6a968a906747496caf6834973deb4d51": {
      "model_module": "jupyter-cytoscape",
      "model_module_version": "^1.2.2",
      "model_name": "NodeModel",
      "state": {
       "_model_module_version": "^1.2.2",
       "_view_module_version": "^1.2.2",
       "data": {
        "id": "displacement",
        "label": "displacement"
       },
       "grabbable": true,
       "grabbed": false,
       "position": {
        "x": 509.3412849858755,
        "y": 284.2475693169692
       },
       "selectable": false
      }
     },
     "6a9cbbb771524995b71d05fdafc45372": {
      "model_module": "jupyter-cytoscape",
      "model_module_version": "^1.2.2",
      "model_name": "EdgeModel",
      "state": {
       "_model_module_version": "^1.2.2",
       "_view_module_version": "^1.2.2",
       "classes": " directed  multiple_edges ",
       "data": {
        "id": "weight_horsepower",
        "source": "weight",
        "target": "horsepower"
       },
       "selectable": false
      }
     },
     "6ac0db0cebb14af6a2f9c8022cdb64a8": {
      "model_module": "jupyter-cytoscape",
      "model_module_version": "^1.2.2",
      "model_name": "GraphModel",
      "state": {
       "_adj": {
        "acceleration": {},
        "cylinders": {},
        "displacement": {},
        "horsepower": {},
        "model_year": {},
        "mpg": {},
        "origin": {},
        "weight": {}
       },
       "_model_module_version": "^1.2.2",
       "_view_module": "jupyter-cytoscape",
       "_view_module_version": "^1.2.2",
       "edges": [
        "IPY_MODEL_8799fc92d42246babdc07918d6277ecd",
        "IPY_MODEL_10149b7f0b504e9fa46a69db42c877fb",
        "IPY_MODEL_036fb26f8f16458dbe9f1ec81f1857de",
        "IPY_MODEL_4b5059c8a3974a469081990137a839fe",
        "IPY_MODEL_46e4cfe4a8d04e82bbb26dbf5679b279",
        "IPY_MODEL_62f7675d6bc141ee865d8ef8055f3482",
        "IPY_MODEL_899aee2388914423a0fafa2578f6ca8a",
        "IPY_MODEL_08cdc8f884494e919d1c2de9b85b9827",
        "IPY_MODEL_13a5fe84ff3a438dbf9ffbfddef97556",
        "IPY_MODEL_f056a2a5800e4148ad6ba28b99ca86a4",
        "IPY_MODEL_c3f04863d62a45d4b113cf843f7d0d6c",
        "IPY_MODEL_5703ea1dd7d64f599dd1d8f1da8c8fd8",
        "IPY_MODEL_908d75b9581145ac85d78be24dfe499d",
        "IPY_MODEL_b8ef5eac2ac549ec93130233c8f1663a",
        "IPY_MODEL_7f93c932b234448d886d91b7b1d2da52",
        "IPY_MODEL_b5996ea1abb94b69b3cc692c36aa777d"
       ],
       "nodes": [
        "IPY_MODEL_5d7838fbfff24a42b079168818720608",
        "IPY_MODEL_cf34ee7514b44cf8923f1d3cb81f4644",
        "IPY_MODEL_8f36876a9f544f428bd6829468f9f706",
        "IPY_MODEL_f04e3e968e434e90b4a10db659581b0a",
        "IPY_MODEL_1596348b69b549a3b0ee3eb070db27a3",
        "IPY_MODEL_980f0ec808cd4190841a00d01fe0c503",
        "IPY_MODEL_fb32ef47583047b4a0396d2ed4f9a3ce",
        "IPY_MODEL_3bb979e1f86742d7b7c101d5e2ba5de8"
       ]
      }
     },
     "6ae25e268826481b894da4eba6e6bd8f": {
      "model_module": "jupyter-cytoscape",
      "model_module_version": "^1.2.2",
      "model_name": "EdgeModel",
      "state": {
       "_model_module_version": "^1.2.2",
       "_view_module_version": "^1.2.2",
       "classes": " directed  multiple_edges ",
       "data": {
        "id": "weight_acceleration",
        "source": "weight",
        "target": "acceleration"
       },
       "removed": true,
       "selectable": false
      }
     },
     "6af59bf1edec4e738d6f555299a19cd8": {
      "model_module": "jupyter-cytoscape",
      "model_module_version": "^1.2.2",
      "model_name": "GraphModel",
      "state": {
       "_adj": {
        "acceleration": {},
        "cylinders": {},
        "displacement": {},
        "horsepower": {},
        "model_year": {},
        "mpg": {},
        "origin": {},
        "weight": {}
       },
       "_model_module_version": "^1.2.2",
       "_view_module": "jupyter-cytoscape",
       "_view_module_version": "^1.2.2",
       "edges": [
        "IPY_MODEL_6a79874215114163b6af036b415beec7",
        "IPY_MODEL_ad92ccc10c9344d38012a080c16a4320",
        "IPY_MODEL_d021eae3ff934d1fa325766cad3ee07c",
        "IPY_MODEL_c5493ce5c27f4041bf392c0026ccfb15",
        "IPY_MODEL_0a7f12d621d14ef0a05ec7db443c5a36",
        "IPY_MODEL_75eecc5a933b4811a9becea34d03589e",
        "IPY_MODEL_91855dc1c828430faf04ff79e07b72a4",
        "IPY_MODEL_ac2675ae70434cc7901ba7068357d0c2",
        "IPY_MODEL_c0a1220a60b54b1b84605b319530bd7f",
        "IPY_MODEL_6c027311b2dd4493bfe599ae352a6f2e",
        "IPY_MODEL_7ec32ebce18c4240806d4e2b75d9856a",
        "IPY_MODEL_2e065e0913034153abaf779fd188bec2",
        "IPY_MODEL_76e7f19863d34569bde794aa8175d54d",
        "IPY_MODEL_fc548892474a47a187f627ccc8f163e6",
        "IPY_MODEL_4e868fb1d50d4ccaa15c423b923d8f8a",
        "IPY_MODEL_50cfdf3681134f60be906b6d954c1c6f"
       ],
       "nodes": [
        "IPY_MODEL_02516d122b7b490fb965d725c06f706d",
        "IPY_MODEL_fb30641b08344b11aa5270603a2752fb",
        "IPY_MODEL_2cfa2865952d43ddaf7b3f0b3a162395",
        "IPY_MODEL_b14bb276dad24b969ec88695447fc65d",
        "IPY_MODEL_b57b0e41723a466d8d6c0046b1bf4139",
        "IPY_MODEL_0de76ca627304edb87158687e2e5f4bd",
        "IPY_MODEL_b87d73d6ef554f18b76cf523d06bf48a",
        "IPY_MODEL_c9cd0024f01b49b2a749c0da81777d4c"
       ]
      }
     },
     "6afffed6c7934cecb302e103ca971417": {
      "model_module": "jupyter-cytoscape",
      "model_module_version": "^1.2.2",
      "model_name": "EdgeModel",
      "state": {
       "_model_module_version": "^1.2.2",
       "_view_module_version": "^1.2.2",
       "classes": " directed  multiple_edges ",
       "data": {
        "id": "displacement_weight",
        "source": "displacement",
        "target": "weight"
       },
       "selectable": false
      }
     },
     "6ba1a8c0b5ed4fa7b6821cbed65cacf0": {
      "model_module": "jupyter-cytoscape",
      "model_module_version": "^1.2.2",
      "model_name": "EdgeModel",
      "state": {
       "_model_module_version": "^1.2.2",
       "_view_module_version": "^1.2.2",
       "classes": " directed  multiple_edges ",
       "data": {
        "id": "displacement_weight",
        "source": "displacement",
        "target": "weight"
       },
       "selectable": false
      }
     },
     "6c027311b2dd4493bfe599ae352a6f2e": {
      "model_module": "jupyter-cytoscape",
      "model_module_version": "^1.2.2",
      "model_name": "EdgeModel",
      "state": {
       "_model_module_version": "^1.2.2",
       "_view_module_version": "^1.2.2",
       "classes": " directed  multiple_edges ",
       "data": {
        "id": "cylinders_origin",
        "source": "cylinders",
        "target": "origin"
       },
       "selectable": false
      }
     },
     "6c0eb75400a04a1184df4570e3494b1e": {
      "model_module": "jupyter-cytoscape",
      "model_module_version": "^1.2.2",
      "model_name": "NodeModel",
      "state": {
       "_model_module_version": "^1.2.2",
       "_view_module_version": "^1.2.2",
       "data": {
        "id": "cylinders",
        "label": "cylinders"
       },
       "grabbable": true,
       "grabbed": false,
       "position": {
        "x": 433.0988645297568,
        "y": 243.59005208886958
       },
       "selectable": false
      }
     },
     "6c25e40edc2048f68c4cf1141d7eaad4": {
      "model_module": "jupyter-cytoscape",
      "model_module_version": "^1.2.2",
      "model_name": "NodeModel",
      "state": {
       "_model_module_version": "^1.2.2",
       "_view_module_version": "^1.2.2",
       "data": {
        "id": "origin",
        "label": "origin"
       },
       "grabbable": true,
       "grabbed": false,
       "position": {
        "x": 681.2992833857229,
        "y": 265.17389915463673
       },
       "selectable": false
      }
     },
     "6c2e04e6179f4ba2991311b61884fadb": {
      "model_module": "jupyter-cytoscape",
      "model_module_version": "^1.2.2",
      "model_name": "EdgeModel",
      "state": {
       "_model_module_version": "^1.2.2",
       "_view_module_version": "^1.2.2",
       "classes": " directed  multiple_edges ",
       "data": {
        "id": "displacement_origin",
        "source": "displacement",
        "target": "origin"
       },
       "removed": true,
       "selectable": false
      }
     },
     "6c3ca9c4d6944c77a73397e792a7247f": {
      "model_module": "@jupyter-widgets/controls",
      "model_module_version": "1.5.0",
      "model_name": "ButtonModel",
      "state": {
       "description": "Add Edge",
       "disabled": true,
       "layout": "IPY_MODEL_dd341569def44eca912eb1ae6d6c8840",
       "style": "IPY_MODEL_81536d3bdcae4d5db9f4be2ff2092e6a"
      }
     },
     "6c71ee0c049d47e39d41ef724146e57f": {
      "model_module": "jupyter-cytoscape",
      "model_module_version": "^1.2.2",
      "model_name": "EdgeModel",
      "state": {
       "_model_module_version": "^1.2.2",
       "_view_module_version": "^1.2.2",
       "classes": " directed  multiple_edges ",
       "data": {
        "id": "weight_mpg",
        "source": "weight",
        "target": "mpg"
       },
       "selectable": false
      }
     },
     "6cc1cb37728f4daf93d312b1fd37a28a": {
      "model_module": "jupyter-cytoscape",
      "model_module_version": "^1.2.2",
      "model_name": "NodeModel",
      "state": {
       "_model_module_version": "^1.2.2",
       "_view_module_version": "^1.2.2",
       "data": {
        "id": "weight",
        "label": "weight"
       },
       "grabbable": true,
       "grabbed": false,
       "position": {
        "x": 478.4037561450773,
        "y": 224.49532119149777
       },
       "selectable": false
      }
     },
     "6cfca2f691054a2cabe85048e7020044": {
      "model_module": "@jupyter-widgets/controls",
      "model_module_version": "1.5.0",
      "model_name": "ButtonModel",
      "state": {
       "description": "Delete Edge",
       "disabled": true,
       "layout": "IPY_MODEL_12bcd8b04ebc4df98c759b1d43ff30dc",
       "style": "IPY_MODEL_90a7102ec58343f29a6b287f9db65653"
      }
     },
     "6d145afe08aa4cbcab8bde0f93f8cded": {
      "model_module": "jupyter-cytoscape",
      "model_module_version": "^1.2.2",
      "model_name": "NodeModel",
      "state": {
       "_model_module_version": "^1.2.2",
       "_view_module_version": "^1.2.2",
       "data": {
        "id": "acceleration",
        "label": "acceleration"
       },
       "grabbable": true,
       "grabbed": false,
       "position": {
        "x": 949.771147017378,
        "y": 309.5141415464861
       },
       "removed": true,
       "selectable": false
      }
     },
     "6d5ee56c0da44fb6b2636098cea69899": {
      "model_module": "jupyter-cytoscape",
      "model_module_version": "^1.2.2",
      "model_name": "NodeModel",
      "state": {
       "_model_module_version": "^1.2.2",
       "_view_module_version": "^1.2.2",
       "data": {
        "id": "horsepower",
        "label": "horsepower"
       },
       "grabbable": true,
       "grabbed": false,
       "position": {
        "x": 579.0624766836064,
        "y": 213.55132768320664
       },
       "selectable": false
      }
     },
     "6daa158663a04548a29fa0e51473f111": {
      "model_module": "@jupyter-widgets/base",
      "model_module_version": "1.2.0",
      "model_name": "LayoutModel",
      "state": {}
     },
     "6dc58d7eebe94c2eaf934b6ef20617fa": {
      "model_module": "jupyter-cytoscape",
      "model_module_version": "^1.2.2",
      "model_name": "NodeModel",
      "state": {
       "_model_module_version": "^1.2.2",
       "_view_module_version": "^1.2.2",
       "data": {
        "id": "cylinders",
        "label": "cylinders"
       },
       "grabbable": true,
       "grabbed": false,
       "position": {
        "x": 557.9465824813515,
        "y": 205.006079733598
       },
       "removed": true,
       "selectable": false
      }
     },
     "6e10e8ab98804856a43db03c226e3546": {
      "model_module": "jupyter-cytoscape",
      "model_module_version": "^1.2.2",
      "model_name": "EdgeModel",
      "state": {
       "_model_module_version": "^1.2.2",
       "_view_module_version": "^1.2.2",
       "classes": " directed  multiple_edges ",
       "data": {
        "id": "model_year_acceleration",
        "source": "model_year",
        "target": "acceleration"
       },
       "removed": true,
       "selectable": false
      }
     },
     "6e201740e6874eefa971990be22975c2": {
      "model_module": "jupyter-cytoscape",
      "model_module_version": "^1.2.2",
      "model_name": "NodeModel",
      "state": {
       "_model_module_version": "^1.2.2",
       "_view_module_version": "^1.2.2",
       "data": {
        "id": "acceleration",
        "label": "acceleration"
       },
       "grabbable": true,
       "grabbed": false,
       "position": {
        "x": 1101.656574071263,
        "y": 336.32518780799865
       },
       "selectable": false
      }
     },
     "6e7b25d192e84220a021378f7bd40105": {
      "model_module": "jupyter-cytoscape",
      "model_module_version": "^1.2.2",
      "model_name": "NodeModel",
      "state": {
       "_model_module_version": "^1.2.2",
       "_view_module_version": "^1.2.2",
       "data": {
        "id": "model_year",
        "label": "model_year"
       },
       "grabbable": true,
       "grabbed": false,
       "position": {
        "x": 1053.3235217616482,
        "y": 103.23513984885882
       },
       "removed": true,
       "selectable": false
      }
     },
     "6e7f5917d7034e67abb8cd90630b79fc": {
      "model_module": "@jupyter-widgets/controls",
      "model_module_version": "1.5.0",
      "model_name": "ButtonModel",
      "state": {
       "description": "Change Direction",
       "disabled": true,
       "layout": "IPY_MODEL_af6b8a72fe4f4f489c82ba1bf8899bd5",
       "style": "IPY_MODEL_d8c12995d46b430d8094c70acad7ae81"
      }
     },
     "6ec0bf5682554ab088c67eb46685f94b": {
      "model_module": "jupyter-cytoscape",
      "model_module_version": "^1.2.2",
      "model_name": "EdgeModel",
      "state": {
       "_model_module_version": "^1.2.2",
       "_view_module_version": "^1.2.2",
       "classes": " directed  multiple_edges ",
       "data": {
        "id": "cylinders_origin",
        "source": "cylinders",
        "target": "origin"
       },
       "selectable": false
      }
     },
     "6ec3ef91573a4fe8955614959a5fedf3": {
      "model_module": "jupyter-cytoscape",
      "model_module_version": "^1.2.2",
      "model_name": "NodeModel",
      "state": {
       "_model_module_version": "^1.2.2",
       "_view_module_version": "^1.2.2",
       "data": {
        "id": "mpg",
        "label": "mpg"
       },
       "grabbable": true,
       "grabbed": false,
       "position": {
        "x": 604.8409436213743,
        "y": 147.15280318553792
       },
       "selectable": false
      }
     },
     "6ed4639ff52047d6aa7f84c4de2a6670": {
      "model_module": "jupyter-cytoscape",
      "model_module_version": "^1.2.2",
      "model_name": "NodeModel",
      "state": {
       "_model_module_version": "^1.2.2",
       "_view_module_version": "^1.2.2",
       "data": {
        "id": "model_year",
        "label": "model_year"
       },
       "grabbable": true,
       "grabbed": false,
       "position": {
        "x": 1090.6235584425165,
        "y": 304.50880183903524
       },
       "removed": true,
       "selectable": false
      }
     },
     "6ed688c9a05b433aba75582c0e0508b5": {
      "model_module": "jupyter-cytoscape",
      "model_module_version": "^1.2.2",
      "model_name": "NodeModel",
      "state": {
       "_model_module_version": "^1.2.2",
       "_view_module_version": "^1.2.2",
       "data": {
        "id": "displacement",
        "label": "displacement"
       },
       "grabbable": true,
       "grabbed": false,
       "position": {
        "x": 1108.5391808306642,
        "y": 239.63542869275298
       },
       "removed": true,
       "selectable": false
      }
     },
     "6f036c22ee454aafa1be50396e4131a3": {
      "model_module": "jupyter-cytoscape",
      "model_module_version": "^1.2.2",
      "model_name": "EdgeModel",
      "state": {
       "_model_module_version": "^1.2.2",
       "_view_module_version": "^1.2.2",
       "classes": " directed  multiple_edges ",
       "data": {
        "id": "mpg_origin",
        "source": "mpg",
        "target": "origin"
       },
       "selectable": false
      }
     },
     "6f0cce71cad34ebb9975fef12c6ff9bb": {
      "model_module": "@jupyter-widgets/controls",
      "model_module_version": "1.5.0",
      "model_name": "ButtonModel",
      "state": {
       "description": "Delete Edge",
       "disabled": true,
       "layout": "IPY_MODEL_22586c5689d34248a0671ca2262b7d5d",
       "style": "IPY_MODEL_f417428a1a7c4e08bf6eac752dd3673b"
      }
     },
     "6f3272c2abdf4619b994a0bef4177a48": {
      "model_module": "@jupyter-widgets/base",
      "model_module_version": "1.2.0",
      "model_name": "LayoutModel",
      "state": {}
     },
     "6f62c79a5b39482792d3d6d231403978": {
      "model_module": "jupyter-cytoscape",
      "model_module_version": "^1.2.2",
      "model_name": "EdgeModel",
      "state": {
       "_model_module_version": "^1.2.2",
       "_view_module_version": "^1.2.2",
       "classes": " directed  multiple_edges ",
       "data": {
        "id": "weight_horsepower",
        "source": "weight",
        "target": "horsepower"
       },
       "selectable": false
      }
     },
     "6f76c99d1b7b4d15ba82969658e2c7c3": {
      "model_module": "jupyter-cytoscape",
      "model_module_version": "^1.2.2",
      "model_name": "EdgeModel",
      "state": {
       "_model_module_version": "^1.2.2",
       "_view_module_version": "^1.2.2",
       "classes": " directed  multiple_edges ",
       "data": {
        "id": "displacement_weight",
        "source": "displacement",
        "target": "weight"
       },
       "selectable": false
      }
     },
     "6f78cc40851949198dc57be910d927b2": {
      "model_module": "jupyter-cytoscape",
      "model_module_version": "^1.2.2",
      "model_name": "CytoscapeModel",
      "state": {
       "_interaction_handlers": {
        "edge": [
         "click"
        ],
        "node": [
         "click"
        ]
       },
       "_model_module_version": "^1.2.2",
       "_view_module_version": "^1.2.2",
       "auto_ungrabify": false,
       "autolock": false,
       "cytoscape_layout": {
        "name": "cola"
       },
       "cytoscape_style": [
        {
         "selector": "node",
         "style": {
          "background-color": "blue",
          "font-family": "arial",
          "font-size": "10px",
          "label": "data(label)"
         }
        },
        {
         "selector": "edge",
         "style": {
          "curve-style": "bezier",
          "line-color": "#9dbaea",
          "target-arrow-color": "#9dbaea",
          "target-arrow-shape": "triangle",
          "width": 4
         }
        },
        {
         "css": {
          "line-color": "red"
         },
         "selector": "edge.selected"
        },
        {
         "css": {
          "background-color": "red"
         },
         "selector": "node.selected"
        }
       ],
       "desktop_tap_threshold": 4,
       "graph": "IPY_MODEL_425b45c446e04724a423854912ae9c56",
       "headless": false,
       "hide_edges_on_viewport": false,
       "layout": "IPY_MODEL_ddfc7720281c4e30aed1ec8fa032e8fb",
       "max_zoom": 1e+50,
       "min_zoom": 1e-50,
       "motion_blur": false,
       "motion_blur_opacity": 0.2,
       "panning_enabled": true,
       "pixel_ratio": "auto",
       "rendered_position": {
        "renderedPosition": {
         "x": 100,
         "y": 100
        }
       },
       "selection_type": "single",
       "style_enabled": true,
       "texture_on_viewport": false,
       "tooltip_source": "tooltip",
       "touch_tap_threshold": 8,
       "user_panning_enabled": true,
       "user_zooming_enabled": true,
       "wheel_sensitivity": 1,
       "zoom": 2,
       "zooming_enabled": true
      }
     },
     "6f80b1c08246436f8e033b6a62616d9f": {
      "model_module": "jupyter-cytoscape",
      "model_module_version": "^1.2.2",
      "model_name": "NodeModel",
      "state": {
       "_model_module_version": "^1.2.2",
       "_view_module_version": "^1.2.2",
       "data": {
        "id": "horsepower",
        "label": "horsepower"
       },
       "grabbable": true,
       "grabbed": false,
       "position": {
        "x": 1051.6899400698933,
        "y": 108.15022200919425
       },
       "removed": true,
       "selectable": false
      }
     },
     "6fa56fc2d7df42f899656eb95c3fd339": {
      "model_module": "@jupyter-widgets/base",
      "model_module_version": "1.2.0",
      "model_name": "LayoutModel",
      "state": {}
     },
     "6fa7f7404fbb44349dcf19ab1ba934c0": {
      "model_module": "@jupyter-widgets/controls",
      "model_module_version": "1.5.0",
      "model_name": "ButtonModel",
      "state": {
       "description": "Change Direction",
       "disabled": true,
       "layout": "IPY_MODEL_888b1bcd4c2c47f39397915182a0f5a4",
       "style": "IPY_MODEL_88c32bc4305740d9b8741d399725ceb6"
      }
     },
     "6fb0855e742841228b82f1777abc5c1e": {
      "model_module": "@jupyter-widgets/controls",
      "model_module_version": "1.5.0",
      "model_name": "ButtonStyleModel",
      "state": {}
     },
     "6fef27e044ab4f1da840b523781ce35b": {
      "model_module": "jupyter-cytoscape",
      "model_module_version": "^1.2.2",
      "model_name": "NodeModel",
      "state": {
       "_model_module_version": "^1.2.2",
       "_view_module_version": "^1.2.2",
       "data": {
        "id": "origin",
        "label": "origin"
       },
       "grabbable": true,
       "grabbed": false,
       "position": {
        "x": 492.73548508808767,
        "y": 163.54320824648752
       },
       "selectable": false
      }
     },
     "7025b8572d2048a5822440ed60d91dc1": {
      "model_module": "jupyter-cytoscape",
      "model_module_version": "^1.2.2",
      "model_name": "EdgeModel",
      "state": {
       "_model_module_version": "^1.2.2",
       "_view_module_version": "^1.2.2",
       "classes": " directed  multiple_edges ",
       "data": {
        "id": "weight_mpg",
        "source": "weight",
        "target": "mpg"
       },
       "selectable": false
      }
     },
     "706d0f016b63430f94ae1128ae6448ab": {
      "model_module": "jupyter-cytoscape",
      "model_module_version": "^1.2.2",
      "model_name": "EdgeModel",
      "state": {
       "_model_module_version": "^1.2.2",
       "_view_module_version": "^1.2.2",
       "classes": " directed  multiple_edges ",
       "data": {
        "id": "displacement_origin",
        "source": "displacement",
        "target": "origin"
       },
       "selectable": false
      }
     },
     "70808e7d4b4c4aaaaac1bb82a48ebd9b": {
      "model_module": "@jupyter-widgets/controls",
      "model_module_version": "1.5.0",
      "model_name": "ButtonModel",
      "state": {
       "description": "Generate original graph",
       "layout": "IPY_MODEL_096e24cb28b345c387155c425cd50cf2",
       "style": "IPY_MODEL_f58b0ba12e314a28b13cd71ff1ad8cde"
      }
     },
     "708ec94b8f164d869cd9da2d891deb2c": {
      "model_module": "jupyter-cytoscape",
      "model_module_version": "^1.2.2",
      "model_name": "NodeModel",
      "state": {
       "_model_module_version": "^1.2.2",
       "_view_module_version": "^1.2.2",
       "data": {
        "id": "origin",
        "label": "origin"
       },
       "grabbable": true,
       "grabbed": false,
       "position": {
        "x": 1182.5495131495384,
        "y": 292.94097428218225
       },
       "removed": true,
       "selectable": false
      }
     },
     "70b5c3ae12fe406685139e26603cbcbc": {
      "model_module": "jupyter-cytoscape",
      "model_module_version": "^1.2.2",
      "model_name": "GraphModel",
      "state": {
       "_adj": {},
       "_model_module_version": "^1.2.2",
       "_view_module": "jupyter-cytoscape",
       "_view_module_version": "^1.2.2"
      }
     },
     "70bab8e5f21e46af94b276b3435d597a": {
      "model_module": "jupyter-cytoscape",
      "model_module_version": "^1.2.2",
      "model_name": "NodeModel",
      "state": {
       "_model_module_version": "^1.2.2",
       "_view_module_version": "^1.2.2",
       "data": {
        "id": "weight",
        "label": "weight"
       },
       "grabbable": true,
       "grabbed": false,
       "position": {
        "x": 1145.93972789533,
        "y": 217.53500807231828
       },
       "removed": true,
       "selectable": false
      }
     },
     "70c69ea28c194b368503ca4e29882436": {
      "model_module": "@jupyter-widgets/base",
      "model_module_version": "1.2.0",
      "model_name": "LayoutModel",
      "state": {}
     },
     "70e12acfedba4e278fd34b2bb2981d92": {
      "model_module": "@jupyter-widgets/base",
      "model_module_version": "1.2.0",
      "model_name": "LayoutModel",
      "state": {}
     },
     "71045e837a9243fba4dccf473205f68b": {
      "model_module": "@jupyter-widgets/base",
      "model_module_version": "1.2.0",
      "model_name": "LayoutModel",
      "state": {}
     },
     "711dfdd396e5437ca20b9d495f7d9b7d": {
      "model_module": "jupyter-cytoscape",
      "model_module_version": "^1.2.2",
      "model_name": "NodeModel",
      "state": {
       "_model_module_version": "^1.2.2",
       "_view_module_version": "^1.2.2",
       "data": {
        "id": "weight",
        "label": "weight"
       },
       "grabbable": true,
       "grabbed": false,
       "position": {
        "x": 870.1672697172313,
        "y": 196.3661108897683
       },
       "selectable": false
      }
     },
     "7138a0bdcaf846289c0c5e476f1b915d": {
      "model_module": "jupyter-cytoscape",
      "model_module_version": "^1.2.2",
      "model_name": "NodeModel",
      "state": {
       "_model_module_version": "^1.2.2",
       "_view_module_version": "^1.2.2",
       "data": {
        "id": "weight",
        "label": "weight"
       },
       "grabbable": true,
       "grabbed": false,
       "position": {
        "x": 644.1038596983955,
        "y": 255.9492168408747
       },
       "selectable": false
      }
     },
     "7162d929b9834d4fa56625f4f545d10e": {
      "model_module": "jupyter-cytoscape",
      "model_module_version": "^1.2.2",
      "model_name": "CytoscapeModel",
      "state": {
       "_interaction_handlers": {
        "edge": [
         "click"
        ],
        "node": [
         "click"
        ]
       },
       "_model_module_version": "^1.2.2",
       "_view_module_version": "^1.2.2",
       "auto_ungrabify": false,
       "autolock": false,
       "cytoscape_layout": {
        "name": "cola"
       },
       "cytoscape_style": [
        {
         "selector": "node",
         "style": {
          "background-color": "blue",
          "font-family": "arial",
          "font-size": "10px",
          "label": "data(label)"
         }
        },
        {
         "selector": "edge",
         "style": {
          "curve-style": "bezier",
          "line-color": "#9dbaea",
          "target-arrow-color": "#9dbaea",
          "target-arrow-shape": "triangle",
          "width": 4
         }
        },
        {
         "css": {
          "line-color": "red"
         },
         "selector": "edge.selected"
        },
        {
         "css": {
          "background-color": "red"
         },
         "selector": "node.selected"
        }
       ],
       "desktop_tap_threshold": 4,
       "graph": "IPY_MODEL_f226958fe8af4f5fab1954c32d8b34c8",
       "headless": false,
       "hide_edges_on_viewport": false,
       "layout": "IPY_MODEL_fc596bfbb4e44aa7a43c775445b01b4e",
       "max_zoom": 1e+50,
       "min_zoom": 1e-50,
       "motion_blur": false,
       "motion_blur_opacity": 0.2,
       "panning_enabled": true,
       "pixel_ratio": "auto",
       "rendered_position": {
        "renderedPosition": {
         "x": 100,
         "y": 100
        }
       },
       "selection_type": "single",
       "style_enabled": true,
       "texture_on_viewport": false,
       "tooltip_source": "tooltip",
       "touch_tap_threshold": 8,
       "user_panning_enabled": true,
       "user_zooming_enabled": true,
       "wheel_sensitivity": 1,
       "zoom": 2,
       "zooming_enabled": true
      }
     },
     "71d7275950d44692b03ce8fc6ae4c389": {
      "model_module": "jupyter-cytoscape",
      "model_module_version": "^1.2.2",
      "model_name": "NodeModel",
      "state": {
       "_model_module_version": "^1.2.2",
       "_view_module_version": "^1.2.2",
       "data": {
        "id": "displacement",
        "label": "displacement"
       },
       "grabbable": true,
       "grabbed": false,
       "position": {
        "x": 1122.9794911612553,
        "y": 235.47690353458026
       },
       "removed": true,
       "selectable": false
      }
     },
     "71dcea7c29c24ce29c9535b5fce5e669": {
      "model_module": "jupyter-cytoscape",
      "model_module_version": "^1.2.2",
      "model_name": "EdgeModel",
      "state": {
       "_model_module_version": "^1.2.2",
       "_view_module_version": "^1.2.2",
       "classes": " directed  multiple_edges ",
       "data": {
        "id": "weight_horsepower",
        "source": "weight",
        "target": "horsepower"
       },
       "removed": true,
       "selectable": false
      }
     },
     "722359fd24184c3fbc64cb4e9baee4fd": {
      "model_module": "jupyter-cytoscape",
      "model_module_version": "^1.2.2",
      "model_name": "EdgeModel",
      "state": {
       "_model_module_version": "^1.2.2",
       "_view_module_version": "^1.2.2",
       "classes": " directed  multiple_edges ",
       "data": {
        "id": "displacement_cylinders",
        "source": "displacement",
        "target": "cylinders"
       },
       "removed": true,
       "selectable": false
      }
     },
     "7234783515b445c4acd77f9a1637c34f": {
      "model_module": "@jupyter-widgets/base",
      "model_module_version": "1.2.0",
      "model_name": "LayoutModel",
      "state": {}
     },
     "72384bc59bb14210baec05867c6fe59a": {
      "model_module": "@jupyter-widgets/controls",
      "model_module_version": "1.5.0",
      "model_name": "ButtonStyleModel",
      "state": {}
     },
     "72428bf52df349edb87aaebbb26a3bf7": {
      "model_module": "jupyter-cytoscape",
      "model_module_version": "^1.2.2",
      "model_name": "EdgeModel",
      "state": {
       "_model_module_version": "^1.2.2",
       "_view_module_version": "^1.2.2",
       "classes": " directed  multiple_edges ",
       "data": {
        "id": "displacement_origin",
        "source": "displacement",
        "target": "origin"
       },
       "selectable": false
      }
     },
     "7252a1d7112a43cdbc352ea6bd48a5ed": {
      "model_module": "jupyter-cytoscape",
      "model_module_version": "^1.2.2",
      "model_name": "NodeModel",
      "state": {
       "_model_module_version": "^1.2.2",
       "_view_module_version": "^1.2.2",
       "data": {
        "id": "mpg",
        "label": "mpg"
       },
       "grabbable": true,
       "grabbed": false,
       "position": {
        "x": 947.7678640767557,
        "y": 108.70878986322515
       },
       "removed": true,
       "selectable": false
      }
     },
     "72561cd9ccbd46fabbc6fc222f4d5605": {
      "model_module": "jupyter-cytoscape",
      "model_module_version": "^1.2.2",
      "model_name": "EdgeModel",
      "state": {
       "_model_module_version": "^1.2.2",
       "_view_module_version": "^1.2.2",
       "classes": " directed  multiple_edges ",
       "data": {
        "id": "weight_acceleration",
        "source": "weight",
        "target": "acceleration"
       },
       "selectable": false
      }
     },
     "7277b5bb1d844fd7bdd2244be22f4f48": {
      "model_module": "jupyter-cytoscape",
      "model_module_version": "^1.2.2",
      "model_name": "NodeModel",
      "state": {
       "_model_module_version": "^1.2.2",
       "_view_module_version": "^1.2.2",
       "data": {
        "id": "cylinders",
        "label": "cylinders"
       },
       "grabbable": true,
       "grabbed": false,
       "position": {
        "x": 934.9465824813515,
        "y": 205.00607973359783
       },
       "removed": true,
       "selectable": false
      }
     },
     "72caca24c87e4b9a8a59b8788e395bde": {
      "model_module": "jupyter-cytoscape",
      "model_module_version": "^1.2.2",
      "model_name": "NodeModel",
      "state": {
       "_model_module_version": "^1.2.2",
       "_view_module_version": "^1.2.2",
       "data": {
        "id": "cylinders",
        "label": "cylinders"
       },
       "grabbable": true,
       "grabbed": false,
       "position": {
        "x": 1172.929687821065,
        "y": 205.56560651866562
       },
       "removed": true,
       "selectable": false
      }
     },
     "73043d75a5a440e7a44225d426924f45": {
      "model_module": "jupyter-cytoscape",
      "model_module_version": "^1.2.2",
      "model_name": "EdgeModel",
      "state": {
       "_model_module_version": "^1.2.2",
       "_view_module_version": "^1.2.2",
       "classes": " directed  multiple_edges ",
       "data": {
        "id": "horsepower_weight",
        "source": "horsepower",
        "target": "weight"
       },
       "selectable": false
      }
     },
     "73620ec568d2477ea5c66b8a0585af20": {
      "model_module": "@jupyter-widgets/base",
      "model_module_version": "1.2.0",
      "model_name": "LayoutModel",
      "state": {}
     },
     "7395f95891d047bc8a66f7815749be9b": {
      "model_module": "jupyter-cytoscape",
      "model_module_version": "^1.2.2",
      "model_name": "NodeModel",
      "state": {
       "_model_module_version": "^1.2.2",
       "_view_module_version": "^1.2.2",
       "data": {
        "id": "weight",
        "label": "weight"
       },
       "grabbable": true,
       "grabbed": false,
       "position": {
        "x": 1147.1038596983974,
        "y": 255.94921684087447
       },
       "selectable": false
      }
     },
     "73baebd4b1564743a0ef947dc7c9fb26": {
      "model_module": "jupyter-cytoscape",
      "model_module_version": "^1.2.2",
      "model_name": "EdgeModel",
      "state": {
       "_model_module_version": "^1.2.2",
       "_view_module_version": "^1.2.2",
       "classes": " directed  multiple_edges ",
       "data": {
        "id": "weight_mpg",
        "source": "weight",
        "target": "mpg"
       },
       "removed": true,
       "selectable": false
      }
     },
     "73c7cce61e1f4731a84472eb11b4a0ce": {
      "model_module": "jupyter-cytoscape",
      "model_module_version": "^1.2.2",
      "model_name": "EdgeModel",
      "state": {
       "_model_module_version": "^1.2.2",
       "_view_module_version": "^1.2.2",
       "classes": " directed  multiple_edges ",
       "data": {
        "id": "displacement_origin",
        "source": "displacement",
        "target": "origin"
       },
       "removed": true,
       "selectable": false
      }
     },
     "73c8e14253624bda817ebddfee9abdb4": {
      "model_module": "@jupyter-widgets/controls",
      "model_module_version": "1.5.0",
      "model_name": "ButtonStyleModel",
      "state": {}
     },
     "73f1ba5e8ea545b283c7767fe4049297": {
      "model_module": "jupyter-cytoscape",
      "model_module_version": "^1.2.2",
      "model_name": "EdgeModel",
      "state": {
       "_model_module_version": "^1.2.2",
       "_view_module_version": "^1.2.2",
       "classes": " directed  multiple_edges ",
       "data": {
        "id": "weight_mpg",
        "source": "weight",
        "target": "mpg"
       },
       "selectable": false
      }
     },
     "7400ff8351fd42e1908fda8d5ff12673": {
      "model_module": "@jupyter-widgets/base",
      "model_module_version": "1.2.0",
      "model_name": "LayoutModel",
      "state": {}
     },
     "744248688fab445c8f6ecd325af1c08c": {
      "model_module": "jupyter-cytoscape",
      "model_module_version": "^1.2.2",
      "model_name": "EdgeModel",
      "state": {
       "_model_module_version": "^1.2.2",
       "_view_module_version": "^1.2.2",
       "classes": " directed  multiple_edges ",
       "data": {
        "id": "model_year_cylinders",
        "source": "model_year",
        "target": "cylinders"
       },
       "selectable": false
      }
     },
     "744b558507344747b57ce484362ae516": {
      "model_module": "jupyter-cytoscape",
      "model_module_version": "^1.2.2",
      "model_name": "EdgeModel",
      "state": {
       "_model_module_version": "^1.2.2",
       "_view_module_version": "^1.2.2",
       "classes": " directed  multiple_edges ",
       "data": {
        "id": "weight_acceleration",
        "source": "weight",
        "target": "acceleration"
       },
       "selectable": false
      }
     },
     "746a3b33650540aabdca7fec66c239a5": {
      "model_module": "jupyter-cytoscape",
      "model_module_version": "^1.2.2",
      "model_name": "EdgeModel",
      "state": {
       "_model_module_version": "^1.2.2",
       "_view_module_version": "^1.2.2",
       "classes": " directed  multiple_edges ",
       "data": {
        "id": "mpg_origin",
        "source": "mpg",
        "target": "origin"
       },
       "removed": true,
       "selectable": false
      }
     },
     "747b7deebf7643ab93c34f8415841e5d": {
      "model_module": "jupyter-cytoscape",
      "model_module_version": "^1.2.2",
      "model_name": "NodeModel",
      "state": {
       "_model_module_version": "^1.2.2",
       "_view_module_version": "^1.2.2",
       "data": {
        "id": "displacement",
        "label": "displacement"
       },
       "grabbable": true,
       "grabbed": false,
       "position": {
        "x": 886.7977086062543,
        "y": 111.57769669549509
       },
       "removed": true,
       "selectable": false
      }
     },
     "7481c80f540042f5b62b5ed90d5d7073": {
      "model_module": "jupyter-cytoscape",
      "model_module_version": "^1.2.2",
      "model_name": "NodeModel",
      "state": {
       "_model_module_version": "^1.2.2",
       "_view_module_version": "^1.2.2",
       "data": {
        "id": "origin",
        "label": "origin"
       },
       "grabbable": true,
       "grabbed": false,
       "position": {
        "x": 820.3742673357398,
        "y": 257.8153517301509
       },
       "selectable": false
      }
     },
     "749ab961068b4c55957f4808e2c4ce77": {
      "model_module": "jupyter-cytoscape",
      "model_module_version": "^1.2.2",
      "model_name": "EdgeModel",
      "state": {
       "_model_module_version": "^1.2.2",
       "_view_module_version": "^1.2.2",
       "classes": " directed  multiple_edges ",
       "data": {
        "id": "displacement_acceleration",
        "source": "displacement",
        "target": "acceleration"
       },
       "selectable": false
      }
     },
     "74c016cd12b5451a82d39b12efe5791a": {
      "model_module": "@jupyter-widgets/controls",
      "model_module_version": "1.5.0",
      "model_name": "ButtonStyleModel",
      "state": {}
     },
     "7528806ce8c24112b847e9d43cf4269f": {
      "model_module": "jupyter-cytoscape",
      "model_module_version": "^1.2.2",
      "model_name": "EdgeModel",
      "state": {
       "_model_module_version": "^1.2.2",
       "_view_module_version": "^1.2.2",
       "classes": " directed  multiple_edges ",
       "data": {
        "id": "model_year_mpg",
        "source": "model_year",
        "target": "mpg"
       },
       "selectable": false
      }
     },
     "755ddaa857df46a382e4f2f09297f68d": {
      "model_module": "@jupyter-widgets/output",
      "model_module_version": "1.0.0",
      "model_name": "OutputModel",
      "state": {
       "layout": "IPY_MODEL_bd8e8525d00f4449be9ba19912ec2021"
      }
     },
     "758de813b3f2443aa1760f548a6e035b": {
      "model_module": "@jupyter-widgets/base",
      "model_module_version": "1.2.0",
      "model_name": "LayoutModel",
      "state": {}
     },
     "7596b96f15104754ae9b9f6151133357": {
      "model_module": "@jupyter-widgets/base",
      "model_module_version": "1.2.0",
      "model_name": "LayoutModel",
      "state": {}
     },
     "75a4ebc0f81c49dfa6142edf5e57ca0a": {
      "model_module": "jupyter-cytoscape",
      "model_module_version": "^1.2.2",
      "model_name": "EdgeModel",
      "state": {
       "_model_module_version": "^1.2.2",
       "_view_module_version": "^1.2.2",
       "classes": " directed  multiple_edges ",
       "data": {
        "id": "cylinders_origin",
        "source": "cylinders",
        "target": "origin"
       },
       "removed": true,
       "selectable": false
      }
     },
     "75eecc5a933b4811a9becea34d03589e": {
      "model_module": "jupyter-cytoscape",
      "model_module_version": "^1.2.2",
      "model_name": "EdgeModel",
      "state": {
       "_model_module_version": "^1.2.2",
       "_view_module_version": "^1.2.2",
       "classes": " directed  multiple_edges ",
       "data": {
        "id": "mpg_origin",
        "source": "mpg",
        "target": "origin"
       },
       "selectable": false
      }
     },
     "75f09eb2fe5a415b904d8f41d6e46fef": {
      "model_module": "jupyter-cytoscape",
      "model_module_version": "^1.2.2",
      "model_name": "EdgeModel",
      "state": {
       "_model_module_version": "^1.2.2",
       "_view_module_version": "^1.2.2",
       "classes": " directed  multiple_edges ",
       "data": {
        "id": "horsepower_acceleration",
        "source": "horsepower",
        "target": "acceleration"
       },
       "selectable": false
      }
     },
     "75f89bd0e85e40f6a536fd3cae7036a5": {
      "model_module": "@jupyter-widgets/output",
      "model_module_version": "1.0.0",
      "model_name": "OutputModel",
      "state": {
       "layout": "IPY_MODEL_1f90ff725c364990befe87980fb9eedd"
      }
     },
     "761e55a3f3cc435a95a8b3fa08fe7359": {
      "model_module": "@jupyter-widgets/controls",
      "model_module_version": "1.5.0",
      "model_name": "ButtonModel",
      "state": {
       "description": "Generate original graph",
       "layout": "IPY_MODEL_c4fa085f1d4c4ee8989b405696534473",
       "style": "IPY_MODEL_ce0c98de33844e9d8327dee8541653cd"
      }
     },
     "76410e8afe6742fa920e678b8f288512": {
      "model_module": "jupyter-cytoscape",
      "model_module_version": "^1.2.2",
      "model_name": "EdgeModel",
      "state": {
       "_model_module_version": "^1.2.2",
       "_view_module_version": "^1.2.2",
       "classes": " directed  multiple_edges ",
       "data": {
        "id": "horsepower_acceleration",
        "source": "horsepower",
        "target": "acceleration"
       },
       "removed": true,
       "selectable": false
      }
     },
     "76506264eab24c0aa01dfd8003d4cc1b": {
      "model_module": "jupyter-cytoscape",
      "model_module_version": "^1.2.2",
      "model_name": "NodeModel",
      "state": {
       "_model_module_version": "^1.2.2",
       "_view_module_version": "^1.2.2",
       "data": {
        "id": "model_year",
        "label": "model_year"
       },
       "grabbable": true,
       "grabbed": false,
       "position": {
        "x": 684.1635343662906,
        "y": 225.07364057090453
       },
       "removed": true,
       "selectable": false
      }
     },
     "7653a7a7eafa401cb65d4309e0b4a441": {
      "model_module": "jupyter-cytoscape",
      "model_module_version": "^1.2.2",
      "model_name": "EdgeModel",
      "state": {
       "_model_module_version": "^1.2.2",
       "_view_module_version": "^1.2.2",
       "classes": " directed  multiple_edges ",
       "data": {
        "id": "weight_mpg",
        "source": "weight",
        "target": "mpg"
       },
       "selectable": false
      }
     },
     "76da92b3ec2e4bb4abadbc131b8a532d": {
      "model_module": "jupyter-cytoscape",
      "model_module_version": "^1.2.2",
      "model_name": "EdgeModel",
      "state": {
       "_model_module_version": "^1.2.2",
       "_view_module_version": "^1.2.2",
       "classes": " directed  multiple_edges ",
       "data": {
        "id": "displacement_horsepower",
        "source": "displacement",
        "target": "horsepower"
       },
       "selectable": false
      }
     },
     "76e0a3f163764d19a3426a5e8a03d7ab": {
      "model_module": "@jupyter-widgets/output",
      "model_module_version": "1.0.0",
      "model_name": "OutputModel",
      "state": {
       "layout": "IPY_MODEL_8230fad1baf240deba601ac06cffbeed"
      }
     },
     "76e214ade2784cdeb9e3916e37560c8b": {
      "model_module": "jupyter-cytoscape",
      "model_module_version": "^1.2.2",
      "model_name": "EdgeModel",
      "state": {
       "_model_module_version": "^1.2.2",
       "_view_module_version": "^1.2.2",
       "classes": " directed  multiple_edges ",
       "data": {
        "id": "displacement_horsepower",
        "source": "displacement",
        "target": "horsepower"
       },
       "selectable": false
      }
     },
     "76e7f19863d34569bde794aa8175d54d": {
      "model_module": "jupyter-cytoscape",
      "model_module_version": "^1.2.2",
      "model_name": "EdgeModel",
      "state": {
       "_model_module_version": "^1.2.2",
       "_view_module_version": "^1.2.2",
       "classes": " directed  multiple_edges ",
       "data": {
        "id": "model_year_cylinders",
        "source": "model_year",
        "target": "cylinders"
       },
       "selectable": false
      }
     },
     "77068c04ef1f471a8c7052a5af1849f7": {
      "model_module": "jupyter-cytoscape",
      "model_module_version": "^1.2.2",
      "model_name": "NodeModel",
      "state": {
       "_model_module_version": "^1.2.2",
       "_view_module_version": "^1.2.2",
       "data": {
        "id": "mpg",
        "label": "mpg"
       },
       "grabbable": true,
       "grabbed": false,
       "position": {
        "x": 565.1784257550016,
        "y": 272.69723309261127
       },
       "selectable": false
      }
     },
     "77477c98c5af4d5c8c82d2d1b54effec": {
      "model_module": "@jupyter-widgets/base",
      "model_module_version": "1.2.0",
      "model_name": "LayoutModel",
      "state": {}
     },
     "774e6330570a45bd8c4e981456fb30e9": {
      "model_module": "jupyter-cytoscape",
      "model_module_version": "^1.2.2",
      "model_name": "NodeModel",
      "state": {
       "_model_module_version": "^1.2.2",
       "_view_module_version": "^1.2.2",
       "data": {
        "id": "model_year",
        "label": "model_year"
       },
       "grabbable": true,
       "grabbed": false,
       "position": {
        "x": 299.0868971584402,
        "y": 244.67899758281249
       },
       "selectable": false
      }
     },
     "775636d589214d3a9ec8036234e62e1f": {
      "model_module": "jupyter-cytoscape",
      "model_module_version": "^1.2.2",
      "model_name": "CytoscapeModel",
      "state": {
       "_interaction_handlers": {
        "edge": [
         "click"
        ],
        "node": [
         "click"
        ]
       },
       "_model_module_version": "^1.2.2",
       "_view_module_version": "^1.2.2",
       "auto_ungrabify": false,
       "autolock": false,
       "cytoscape_layout": {
        "name": "cola"
       },
       "cytoscape_style": [
        {
         "selector": "node",
         "style": {
          "background-color": "blue",
          "font-family": "arial",
          "font-size": "10px",
          "label": "data(label)"
         }
        },
        {
         "selector": "edge",
         "style": {
          "curve-style": "bezier",
          "line-color": "#9dbaea",
          "target-arrow-color": "#9dbaea",
          "target-arrow-shape": "triangle",
          "width": 4
         }
        },
        {
         "css": {
          "line-color": "red"
         },
         "selector": "edge.selected"
        },
        {
         "css": {
          "background-color": "red"
         },
         "selector": "node.selected"
        }
       ],
       "desktop_tap_threshold": 4,
       "graph": "IPY_MODEL_5c32b7375b494d269068e236f72324dc",
       "headless": false,
       "hide_edges_on_viewport": false,
       "layout": "IPY_MODEL_fe5efe99ca0448719bba531e81026b05",
       "max_zoom": 1e+50,
       "min_zoom": 1e-50,
       "motion_blur": false,
       "motion_blur_opacity": 0.2,
       "panning_enabled": true,
       "pixel_ratio": "auto",
       "rendered_position": {
        "renderedPosition": {
         "x": 100,
         "y": 100
        }
       },
       "selection_type": "single",
       "style_enabled": true,
       "texture_on_viewport": false,
       "tooltip_source": "tooltip",
       "touch_tap_threshold": 8,
       "user_panning_enabled": true,
       "user_zooming_enabled": true,
       "wheel_sensitivity": 1,
       "zoom": 2,
       "zooming_enabled": true
      }
     },
     "7787d2ef5b224355972579e4f6bbb597": {
      "model_module": "jupyter-cytoscape",
      "model_module_version": "^1.2.2",
      "model_name": "EdgeModel",
      "state": {
       "_model_module_version": "^1.2.2",
       "_view_module_version": "^1.2.2",
       "classes": " directed  multiple_edges ",
       "data": {
        "id": "displacement_cylinders",
        "source": "displacement",
        "target": "cylinders"
       },
       "selectable": false
      }
     },
     "77a28b7e871741a49e19b4d2ac683504": {
      "model_module": "jupyter-cytoscape",
      "model_module_version": "^1.2.2",
      "model_name": "EdgeModel",
      "state": {
       "_model_module_version": "^1.2.2",
       "_view_module_version": "^1.2.2",
       "classes": " directed  multiple_edges ",
       "data": {
        "id": "displacement_cylinders",
        "source": "displacement",
        "target": "cylinders"
       },
       "selectable": false
      }
     },
     "77caa6eb471148c4b335b2e546049970": {
      "model_module": "jupyter-cytoscape",
      "model_module_version": "^1.2.2",
      "model_name": "NodeModel",
      "state": {
       "_model_module_version": "^1.2.2",
       "_view_module_version": "^1.2.2",
       "data": {
        "id": "acceleration",
        "label": "acceleration"
       },
       "grabbable": true,
       "grabbed": false,
       "position": {
        "x": 941.4340330361487,
        "y": 297.87127869548596
       },
       "removed": true,
       "selectable": false
      }
     },
     "77cadc46a98c4ae2927fe9881ac6441c": {
      "model_module": "jupyter-cytoscape",
      "model_module_version": "^1.2.2",
      "model_name": "NodeModel",
      "state": {
       "_model_module_version": "^1.2.2",
       "_view_module_version": "^1.2.2",
       "data": {
        "id": "model_year",
        "label": "model_year"
       },
       "grabbable": true,
       "grabbed": false,
       "position": {
        "x": 308.9723267052145,
        "y": 235.9679214146713
       },
       "selectable": false
      }
     },
     "77ef2abf946140428d8292e217e9297c": {
      "model_module": "jupyter-cytoscape",
      "model_module_version": "^1.2.2",
      "model_name": "EdgeModel",
      "state": {
       "_model_module_version": "^1.2.2",
       "_view_module_version": "^1.2.2",
       "classes": " directed  multiple_edges ",
       "data": {
        "id": "displacement_cylinders",
        "source": "displacement",
        "target": "cylinders"
       },
       "selectable": false
      }
     },
     "77fa69da4eea4e4999d157948c4ef404": {
      "model_module": "jupyter-cytoscape",
      "model_module_version": "^1.2.2",
      "model_name": "EdgeModel",
      "state": {
       "_model_module_version": "^1.2.2",
       "_view_module_version": "^1.2.2",
       "classes": " directed  multiple_edges ",
       "data": {
        "id": "model_year_mpg",
        "source": "model_year",
        "target": "mpg"
       },
       "removed": true,
       "selectable": false
      }
     },
     "7831defd72d548e5aa23803c39cbe696": {
      "model_module": "jupyter-cytoscape",
      "model_module_version": "^1.2.2",
      "model_name": "EdgeModel",
      "state": {
       "_model_module_version": "^1.2.2",
       "_view_module_version": "^1.2.2",
       "classes": " directed  multiple_edges ",
       "data": {
        "id": "weight_acceleration",
        "source": "weight",
        "target": "acceleration"
       },
       "removed": true,
       "selectable": false
      }
     },
     "788fa69cbb63498cbc40d414a0290ada": {
      "model_module": "@jupyter-widgets/base",
      "model_module_version": "1.2.0",
      "model_name": "LayoutModel",
      "state": {}
     },
     "78a377391b3b45e19aebdb2ebc2fb2c9": {
      "model_module": "jupyter-cytoscape",
      "model_module_version": "^1.2.2",
      "model_name": "NodeModel",
      "state": {
       "_model_module_version": "^1.2.2",
       "_view_module_version": "^1.2.2",
       "data": {
        "id": "displacement",
        "label": "displacement"
       },
       "grabbable": true,
       "grabbed": false,
       "position": {
        "x": 943.9470883520133,
        "y": 338.2789846577217
       },
       "selectable": false
      }
     },
     "78c01b5226814dd5af1fad15da8b33e8": {
      "model_module": "jupyter-cytoscape",
      "model_module_version": "^1.2.2",
      "model_name": "EdgeModel",
      "state": {
       "_model_module_version": "^1.2.2",
       "_view_module_version": "^1.2.2",
       "classes": " directed  multiple_edges ",
       "data": {
        "id": "model_year_weight",
        "source": "model_year",
        "target": "weight"
       },
       "selectable": false
      }
     },
     "78d14e09ddef49d8a33a8438938260c0": {
      "model_module": "jupyter-cytoscape",
      "model_module_version": "^1.2.2",
      "model_name": "EdgeModel",
      "state": {
       "_model_module_version": "^1.2.2",
       "_view_module_version": "^1.2.2",
       "classes": " directed  multiple_edges ",
       "data": {
        "id": "mpg_origin",
        "source": "mpg",
        "target": "origin"
       },
       "selectable": false
      }
     },
     "78e45853202b47e8a1428c40907bc393": {
      "model_module": "jupyter-cytoscape",
      "model_module_version": "^1.2.2",
      "model_name": "NodeModel",
      "state": {
       "_model_module_version": "^1.2.2",
       "_view_module_version": "^1.2.2",
       "data": {
        "id": "weight",
        "label": "weight"
       },
       "grabbable": true,
       "grabbed": false,
       "position": {
        "x": 644.1038596983955,
        "y": 255.9492168408747
       },
       "selectable": false
      }
     },
     "78f9f36e5edb4756afea5f8ef1cc1b15": {
      "model_module": "@jupyter-widgets/controls",
      "model_module_version": "1.5.0",
      "model_name": "ButtonModel",
      "state": {
       "description": "Add Edge",
       "disabled": true,
       "layout": "IPY_MODEL_3348b8106a834c4c8d7fd2c281f664a8",
       "style": "IPY_MODEL_1c2ef21abdb24eda8a1fa9ba27901b5f"
      }
     },
     "792faad2ddbd4cd49d043c4db109d9f5": {
      "model_module": "@jupyter-widgets/base",
      "model_module_version": "1.2.0",
      "model_name": "LayoutModel",
      "state": {}
     },
     "79639ce93bf746ea9dff76921f650e26": {
      "model_module": "jupyter-cytoscape",
      "model_module_version": "^1.2.2",
      "model_name": "EdgeModel",
      "state": {
       "_model_module_version": "^1.2.2",
       "_view_module_version": "^1.2.2",
       "classes": " directed  multiple_edges ",
       "data": {
        "id": "weight_acceleration",
        "source": "weight",
        "target": "acceleration"
       },
       "selectable": false
      }
     },
     "79750b75ce394ff9a4ecbfef0ac7828e": {
      "model_module": "jupyter-cytoscape",
      "model_module_version": "^1.2.2",
      "model_name": "GraphModel",
      "state": {
       "_adj": {},
       "_model_module_version": "^1.2.2",
       "_view_module": "jupyter-cytoscape",
       "_view_module_version": "^1.2.2"
      }
     },
     "79a035093bc342048aef9220f77f6200": {
      "model_module": "@jupyter-widgets/controls",
      "model_module_version": "1.5.0",
      "model_name": "ButtonModel",
      "state": {
       "description": "Add Edge",
       "disabled": true,
       "layout": "IPY_MODEL_fa89b33c1e6d409388a27bd9b035d450",
       "style": "IPY_MODEL_df4782e3a4e64f2385bceb852a2e0e6a"
      }
     },
     "79b09ba52aa24f75b545dd780d45e684": {
      "model_module": "@jupyter-widgets/controls",
      "model_module_version": "1.5.0",
      "model_name": "ButtonModel",
      "state": {
       "description": "Delete Edge",
       "disabled": true,
       "layout": "IPY_MODEL_d1fc3b2edf8d45d6acf97e3470195916",
       "style": "IPY_MODEL_ec85db6a368c4a49b88e04defb02b2c3"
      }
     },
     "79bf5fa1fd20497f93eb4a0a16fa8b8e": {
      "model_module": "jupyter-cytoscape",
      "model_module_version": "^1.2.2",
      "model_name": "NodeModel",
      "state": {
       "_model_module_version": "^1.2.2",
       "_view_module_version": "^1.2.2",
       "data": {
        "id": "mpg",
        "label": "mpg"
       },
       "grabbable": true,
       "grabbed": false,
       "position": {
        "x": 604.8409436213743,
        "y": 147.15280318553792
       },
       "selectable": false
      }
     },
     "79bfb549bb83480aa3954f9f4cd545b8": {
      "model_module": "jupyter-cytoscape",
      "model_module_version": "^1.2.2",
      "model_name": "EdgeModel",
      "state": {
       "_model_module_version": "^1.2.2",
       "_view_module_version": "^1.2.2",
       "classes": " directed  multiple_edges ",
       "data": {
        "id": "cylinders_origin",
        "source": "cylinders",
        "target": "origin"
       },
       "removed": true,
       "selectable": false
      }
     },
     "79e32f3aeb684528be5eee00da515487": {
      "model_module": "jupyter-cytoscape",
      "model_module_version": "^1.2.2",
      "model_name": "EdgeModel",
      "state": {
       "_model_module_version": "^1.2.2",
       "_view_module_version": "^1.2.2",
       "classes": " directed  multiple_edges ",
       "data": {
        "id": "origin_mpg",
        "source": "origin",
        "target": "mpg"
       },
       "removed": true,
       "selectable": false
      }
     },
     "7a70b7048a6140809524ac88be899653": {
      "model_module": "jupyter-cytoscape",
      "model_module_version": "^1.2.2",
      "model_name": "EdgeModel",
      "state": {
       "_model_module_version": "^1.2.2",
       "_view_module_version": "^1.2.2",
       "classes": " directed  multiple_edges ",
       "data": {
        "id": "horsepower_weight",
        "source": "horsepower",
        "target": "weight"
       },
       "selectable": false
      }
     },
     "7a95f90f336344f292279b5817eb88d2": {
      "model_module": "@jupyter-widgets/base",
      "model_module_version": "1.2.0",
      "model_name": "LayoutModel",
      "state": {}
     },
     "7ae670d3dceb4d1ab568549017be9179": {
      "model_module": "@jupyter-widgets/controls",
      "model_module_version": "1.5.0",
      "model_name": "ButtonStyleModel",
      "state": {}
     },
     "7ae8d7d2cc514d51bbd3ff36baf2d6d2": {
      "model_module": "jupyter-cytoscape",
      "model_module_version": "^1.2.2",
      "model_name": "NodeModel",
      "state": {
       "_model_module_version": "^1.2.2",
       "_view_module_version": "^1.2.2",
       "data": {
        "id": "horsepower",
        "label": "horsepower"
       },
       "grabbable": true,
       "grabbed": false,
       "position": {
        "x": 703.9360436026986,
        "y": 175.07363957090448
       },
       "removed": true,
       "selectable": false
      }
     },
     "7b113a41306e44cdbb7b5f9164367959": {
      "model_module": "jupyter-cytoscape",
      "model_module_version": "^1.2.2",
      "model_name": "EdgeModel",
      "state": {
       "_model_module_version": "^1.2.2",
       "_view_module_version": "^1.2.2",
       "classes": " directed  multiple_edges ",
       "data": {
        "id": "weight_acceleration",
        "source": "weight",
        "target": "acceleration"
       },
       "removed": true,
       "selectable": false
      }
     },
     "7b2c797fc74e416c8adf106a96e7f4b4": {
      "model_module": "jupyter-cytoscape",
      "model_module_version": "^1.2.2",
      "model_name": "EdgeModel",
      "state": {
       "_model_module_version": "^1.2.2",
       "_view_module_version": "^1.2.2",
       "classes": " directed  multiple_edges ",
       "data": {
        "id": "displacement_acceleration",
        "source": "displacement",
        "target": "acceleration"
       },
       "selectable": false
      }
     },
     "7b519d2dcaa0455eb364b24345e224c3": {
      "model_module": "jupyter-cytoscape",
      "model_module_version": "^1.2.2",
      "model_name": "EdgeModel",
      "state": {
       "_model_module_version": "^1.2.2",
       "_view_module_version": "^1.2.2",
       "classes": " directed  multiple_edges ",
       "data": {
        "id": "displacement_origin",
        "source": "displacement",
        "target": "origin"
       },
       "selectable": false
      }
     },
     "7bb9c3eeb9db420a93acf5196b7a9781": {
      "model_module": "jupyter-cytoscape",
      "model_module_version": "^1.2.2",
      "model_name": "EdgeModel",
      "state": {
       "_model_module_version": "^1.2.2",
       "_view_module_version": "^1.2.2",
       "classes": " directed  multiple_edges ",
       "data": {
        "id": "model_year_mpg",
        "source": "model_year",
        "target": "mpg"
       },
       "removed": true,
       "selectable": false
      }
     },
     "7be06de3b3c94dbebd667f97e57eb4bc": {
      "model_module": "jupyter-cytoscape",
      "model_module_version": "^1.2.2",
      "model_name": "GraphModel",
      "state": {
       "_adj": {
        "acceleration": {},
        "cylinders": {},
        "displacement": {},
        "horsepower": {},
        "model_year": {},
        "mpg": {},
        "origin": {},
        "weight": {}
       },
       "_model_module_version": "^1.2.2",
       "_view_module": "jupyter-cytoscape",
       "_view_module_version": "^1.2.2",
       "edges": [
        "IPY_MODEL_897529f4b5aa4c63b2e824b6c122dca8",
        "IPY_MODEL_05ec020132e24b16869c6f8658c5a1e6",
        "IPY_MODEL_0b4bab1477ea44f997c7ef3547374efb",
        "IPY_MODEL_c20f7717c8644edca7ffa5a23e29b02d",
        "IPY_MODEL_c7edfc64924f43909d6f02321d816850",
        "IPY_MODEL_5421156fd7f14130a291ed090a9cef33",
        "IPY_MODEL_7528806ce8c24112b847e9d43cf4269f",
        "IPY_MODEL_d79246e950e34a81849b279866aaa18f",
        "IPY_MODEL_153a043687e4482a901a3f524f234b11",
        "IPY_MODEL_e51bd02dcb594b589b2ff981c20a477a",
        "IPY_MODEL_559500619a8142878dd6566446b3a7c8",
        "IPY_MODEL_92b2288a36cb444d840756692162ec74",
        "IPY_MODEL_d3d8ebe18f684891b1bb918427d6fd65",
        "IPY_MODEL_79639ce93bf746ea9dff76921f650e26",
        "IPY_MODEL_fd501e240ca949ecb3dbf8e188a8b3c6",
        "IPY_MODEL_9305ab486666401bb553b538c0697175"
       ],
       "nodes": [
        "IPY_MODEL_ef4b27692cc6439aa0786805165c590c",
        "IPY_MODEL_35e2eb9e969848f4886711fdc265ca3d",
        "IPY_MODEL_97449d5c5449453c9bfce59eac74b900",
        "IPY_MODEL_90608b913a924808a61150286830103b",
        "IPY_MODEL_80682d27fcb144c09ae890961282ccd7",
        "IPY_MODEL_439354a1ab1c4fb39e5697dc5a645324",
        "IPY_MODEL_1030de541bd040a3902d59d640dbd2f7",
        "IPY_MODEL_a8876bcd6ebf4288ad6e2d1636736869"
       ]
      }
     },
     "7be1c424631b48eeb4fac263269bb9c6": {
      "model_module": "@jupyter-widgets/base",
      "model_module_version": "1.2.0",
      "model_name": "LayoutModel",
      "state": {}
     },
     "7c5a773a4ea24a35bf5b90903eafcdef": {
      "model_module": "@jupyter-widgets/base",
      "model_module_version": "1.2.0",
      "model_name": "LayoutModel",
      "state": {}
     },
     "7c7f6576ef5b43c2badd97bbc88972ba": {
      "model_module": "jupyter-cytoscape",
      "model_module_version": "^1.2.2",
      "model_name": "EdgeModel",
      "state": {
       "_model_module_version": "^1.2.2",
       "_view_module_version": "^1.2.2",
       "classes": " directed  multiple_edges ",
       "data": {
        "id": "model_year_acceleration",
        "source": "model_year",
        "target": "acceleration"
       },
       "removed": true,
       "selectable": false
      }
     },
     "7d34a2e0c7bc4b14b7aa7311fcb2e561": {
      "model_module": "@jupyter-widgets/controls",
      "model_module_version": "1.5.0",
      "model_name": "ButtonStyleModel",
      "state": {}
     },
     "7d7f1d8b32d44c0783a3b5c8a48c175e": {
      "model_module": "jupyter-cytoscape",
      "model_module_version": "^1.2.2",
      "model_name": "EdgeModel",
      "state": {
       "_model_module_version": "^1.2.2",
       "_view_module_version": "^1.2.2",
       "classes": " directed  multiple_edges ",
       "data": {
        "id": "weight_mpg",
        "source": "weight",
        "target": "mpg"
       },
       "removed": true,
       "selectable": false
      }
     },
     "7d968b4621f24db1b6b4a94bdcd76949": {
      "model_module": "jupyter-cytoscape",
      "model_module_version": "^1.2.2",
      "model_name": "EdgeModel",
      "state": {
       "_model_module_version": "^1.2.2",
       "_view_module_version": "^1.2.2",
       "classes": " directed  multiple_edges ",
       "data": {
        "id": "displacement_origin",
        "source": "displacement",
        "target": "origin"
       },
       "removed": true,
       "selectable": false
      }
     },
     "7dba115fbdc64057818253bf8aeda271": {
      "model_module": "jupyter-cytoscape",
      "model_module_version": "^1.2.2",
      "model_name": "EdgeModel",
      "state": {
       "_model_module_version": "^1.2.2",
       "_view_module_version": "^1.2.2",
       "classes": " directed  multiple_edges ",
       "data": {
        "id": "displacement_cylinders",
        "source": "displacement",
        "target": "cylinders"
       },
       "selectable": false
      }
     },
     "7dbb6e23f79a433a9a69f78a76c64152": {
      "model_module": "jupyter-cytoscape",
      "model_module_version": "^1.2.2",
      "model_name": "NodeModel",
      "state": {
       "_model_module_version": "^1.2.2",
       "_view_module_version": "^1.2.2",
       "data": {
        "id": "origin",
        "label": "origin"
       },
       "grabbable": true,
       "grabbed": false,
       "position": {
        "x": 995.7354850880891,
        "y": 163.5432082464874
       },
       "selectable": false
      }
     },
     "7dbd2fa253ca4bda93627f11c935c1cb": {
      "model_module": "jupyter-cytoscape",
      "model_module_version": "^1.2.2",
      "model_name": "EdgeModel",
      "state": {
       "_model_module_version": "^1.2.2",
       "_view_module_version": "^1.2.2",
       "classes": " directed  multiple_edges ",
       "data": {
        "id": "model_year_weight",
        "source": "model_year",
        "target": "weight"
       },
       "selectable": false
      }
     },
     "7dff380ec9c3477c8b81eeabf53143cb": {
      "model_module": "jupyter-cytoscape",
      "model_module_version": "^1.2.2",
      "model_name": "NodeModel",
      "state": {
       "_model_module_version": "^1.2.2",
       "_view_module_version": "^1.2.2",
       "data": {
        "id": "mpg",
        "label": "mpg"
       },
       "grabbable": true,
       "grabbed": false,
       "position": {
        "x": 955.2066734201571,
        "y": 105.54893593216563
       },
       "removed": true,
       "selectable": false
      }
     },
     "7e0d88885af748e097ab39738f174dfa": {
      "model_module": "jupyter-cytoscape",
      "model_module_version": "^1.2.2",
      "model_name": "EdgeModel",
      "state": {
       "_model_module_version": "^1.2.2",
       "_view_module_version": "^1.2.2",
       "classes": " directed  multiple_edges ",
       "data": {
        "id": "model_year_mpg",
        "source": "model_year",
        "target": "mpg"
       },
       "selectable": false
      }
     },
     "7e4359f945814bcdb93450dcfaf87baa": {
      "model_module": "@jupyter-widgets/output",
      "model_module_version": "1.0.0",
      "model_name": "OutputModel",
      "state": {
       "layout": "IPY_MODEL_69eb6f43cee9470fb792c190c3ee27c6",
       "outputs": [
        {
         "name": "stdout",
         "output_type": "stream",
         "text": "selected: {'id': 'model_year_acceleration',\n 'source': 'model_year',\n 'target': 'acceleration'}\nremoving: {'id': 'model_year_acceleration',\n 'source': 'model_year',\n 'target': 'acceleration'}\nselected: {'id': 'displacement_acceleration',\n 'source': 'displacement',\n 'target': 'acceleration'}\nremoving: {'id': 'displacement_acceleration',\n 'source': 'displacement',\n 'target': 'acceleration'}\nselected: {'id': 'origin_horsepower', 'source': 'origin', 'target': 'horsepower'}\nremoving: {'id': 'origin_horsepower', 'source': 'origin', 'target': 'horsepower'}\nselected: {'id': 'mpg', 'label': 'mpg'}\nselected: {'id': 'mpg_origin', 'source': 'mpg', 'target': 'origin'}\nremoving: {'id': 'mpg_origin', 'source': 'mpg', 'target': 'origin'}\nselected: {'id': 'displacement_cylinders',\n 'source': 'displacement',\n 'target': 'cylinders'}\nedge with new direction: {'id': 'cylinders_displacement',\n 'source': 'cylinders',\n 'target': 'displacement'}\nselected: {'id': 'cylinders_origin', 'source': 'cylinders', 'target': 'origin'}\nremoving: {'id': 'cylinders_origin', 'source': 'cylinders', 'target': 'origin'}\nselected: {'id': 'origin', 'label': 'origin'}\nselected: {'id': 'mpg', 'label': 'mpg'}\nFalse\nadding edge between: origin, mpg\nselected: {'id': 'model_year_cylinders', 'source': 'model_year', 'target': 'cylinders'}\nremoving: {'id': 'model_year_cylinders', 'source': 'model_year', 'target': 'cylinders'}\nselected: {'id': 'model_year_weight', 'source': 'model_year', 'target': 'weight'}\nremoving: {'id': 'model_year_weight', 'source': 'model_year', 'target': 'weight'}\nselected: {'id': 'displacement_origin', 'source': 'displacement', 'target': 'origin'}\nedge with new direction: {'id': 'origin_displacement', 'source': 'origin', 'target': 'displacement'}\nselected: {'id': 'weight_horsepower', 'source': 'weight', 'target': 'horsepower'}\nedge with new direction: {'id': 'horsepower_weight', 'source': 'horsepower', 'target': 'weight'}\n"
        }
       ]
      }
     },
     "7e8eb9aa77d74ea8a7443c81199d01b1": {
      "model_module": "jupyter-cytoscape",
      "model_module_version": "^1.2.2",
      "model_name": "NodeModel",
      "state": {
       "_model_module_version": "^1.2.2",
       "_view_module_version": "^1.2.2",
       "data": {
        "id": "mpg",
        "label": "mpg"
       },
       "grabbable": true,
       "grabbed": false,
       "position": {
        "x": 568.717956122893,
        "y": 296.29960603277897
       },
       "selectable": false
      }
     },
     "7eb3bfbe54d5498e8f48ca7671bd06b7": {
      "model_module": "jupyter-cytoscape",
      "model_module_version": "^1.2.2",
      "model_name": "EdgeModel",
      "state": {
       "_model_module_version": "^1.2.2",
       "_view_module_version": "^1.2.2",
       "classes": " directed  multiple_edges ",
       "data": {
        "id": "displacement_origin",
        "source": "displacement",
        "target": "origin"
       },
       "selectable": false
      }
     },
     "7ec32ebce18c4240806d4e2b75d9856a": {
      "model_module": "jupyter-cytoscape",
      "model_module_version": "^1.2.2",
      "model_name": "EdgeModel",
      "state": {
       "_model_module_version": "^1.2.2",
       "_view_module_version": "^1.2.2",
       "classes": " directed  multiple_edges ",
       "data": {
        "id": "displacement_origin",
        "source": "displacement",
        "target": "origin"
       },
       "selectable": false
      }
     },
     "7ecc28d108eb4645841977656aa00155": {
      "model_module": "jupyter-cytoscape",
      "model_module_version": "^1.2.2",
      "model_name": "NodeModel",
      "state": {
       "_model_module_version": "^1.2.2",
       "_view_module_version": "^1.2.2",
       "data": {
        "id": "acceleration",
        "label": "acceleration"
       },
       "grabbable": true,
       "grabbed": false,
       "position": {
        "x": 598.6565740712615,
        "y": 336.3251878079987
       },
       "selectable": false
      }
     },
     "7ed4e0a12be4496c954778e21eab2c0f": {
      "model_module": "jupyter-cytoscape",
      "model_module_version": "^1.2.2",
      "model_name": "EdgeModel",
      "state": {
       "_model_module_version": "^1.2.2",
       "_view_module_version": "^1.2.2",
       "classes": " directed  multiple_edges ",
       "data": {
        "id": "displacement_origin",
        "source": "displacement",
        "target": "origin"
       },
       "removed": true,
       "selectable": false
      }
     },
     "7ee2f7c6a4564dccbd1c0053a35111b0": {
      "model_module": "@jupyter-widgets/controls",
      "model_module_version": "1.5.0",
      "model_name": "ButtonModel",
      "state": {
       "description": "Change Direction",
       "disabled": true,
       "layout": "IPY_MODEL_cf8c2f68903e4354a871d244888d85dc",
       "style": "IPY_MODEL_ef12a2f1507040da96f20e4b88430cc4"
      }
     },
     "7ee7d079ba90498d81d7b8fc379a41c1": {
      "model_module": "@jupyter-widgets/base",
      "model_module_version": "1.2.0",
      "model_name": "LayoutModel",
      "state": {}
     },
     "7f0aca8be8e84af188f330ab6de31216": {
      "model_module": "jupyter-cytoscape",
      "model_module_version": "^1.2.2",
      "model_name": "NodeModel",
      "state": {
       "_model_module_version": "^1.2.2",
       "_view_module_version": "^1.2.2",
       "data": {
        "id": "acceleration",
        "label": "acceleration"
       },
       "grabbable": true,
       "grabbed": false,
       "position": {
        "x": 525.9189435060703,
        "y": 100.31630474261094
       },
       "selectable": false
      }
     },
     "7f0b5602b6c0421aba408583ca6de51b": {
      "model_module": "jupyter-cytoscape",
      "model_module_version": "^1.2.2",
      "model_name": "NodeModel",
      "state": {
       "_model_module_version": "^1.2.2",
       "_view_module_version": "^1.2.2",
       "data": {
        "id": "weight",
        "label": "weight"
       },
       "grabbable": true,
       "grabbed": false,
       "position": {
        "x": 1057.3283285313846,
        "y": 202.1023400651558
       },
       "removed": true,
       "selectable": false
      }
     },
     "7f189a2213364e72b606f32af9b7173e": {
      "model_module": "@jupyter-widgets/base",
      "model_module_version": "1.2.0",
      "model_name": "LayoutModel",
      "state": {}
     },
     "7f25952efefc4136b6b7e2ff83dd0f5b": {
      "model_module": "jupyter-cytoscape",
      "model_module_version": "^1.2.2",
      "model_name": "EdgeModel",
      "state": {
       "_model_module_version": "^1.2.2",
       "_view_module_version": "^1.2.2",
       "classes": " directed  multiple_edges ",
       "data": {
        "id": "weight_horsepower",
        "source": "weight",
        "target": "horsepower"
       },
       "selectable": false
      }
     },
     "7f313d5367f14a69b5a1a9406e3596fa": {
      "model_module": "jupyter-cytoscape",
      "model_module_version": "^1.2.2",
      "model_name": "EdgeModel",
      "state": {
       "_model_module_version": "^1.2.2",
       "_view_module_version": "^1.2.2",
       "classes": " directed  multiple_edges ",
       "data": {
        "id": "horsepower_acceleration",
        "source": "horsepower",
        "target": "acceleration"
       },
       "selectable": false
      }
     },
     "7f397fe82b78477692eac68ddae282d4": {
      "model_module": "jupyter-cytoscape",
      "model_module_version": "^1.2.2",
      "model_name": "NodeModel",
      "state": {
       "_model_module_version": "^1.2.2",
       "_view_module_version": "^1.2.2",
       "data": {
        "id": "acceleration",
        "label": "acceleration"
       },
       "grabbable": true,
       "grabbed": false,
       "position": {
        "x": 598.6565740712615,
        "y": 336.3251878079987
       },
       "selectable": false
      }
     },
     "7f3efeb4467a442c833ce5a61a09bf5c": {
      "model_module": "jupyter-cytoscape",
      "model_module_version": "^1.2.2",
      "model_name": "NodeModel",
      "state": {
       "_model_module_version": "^1.2.2",
       "_view_module_version": "^1.2.2",
       "data": {
        "id": "displacement",
        "label": "displacement"
       },
       "grabbable": true,
       "grabbed": false,
       "position": {
        "x": 991.7032717060669,
        "y": 194.6431468860811
       },
       "selectable": false
      }
     },
     "7f4b286e11c74346a00510c988874269": {
      "model_module": "jupyter-cytoscape",
      "model_module_version": "^1.2.2",
      "model_name": "NodeModel",
      "state": {
       "_model_module_version": "^1.2.2",
       "_view_module_version": "^1.2.2",
       "data": {
        "id": "origin",
        "label": "origin"
       },
       "grabbable": true,
       "grabbed": false,
       "position": {
        "x": 700.8237848972873,
        "y": 239.2777841352087
       },
       "selectable": false
      }
     },
     "7f6cff17c3794fccaa20e66598bf1361": {
      "model_module": "jupyter-cytoscape",
      "model_module_version": "^1.2.2",
      "model_name": "NodeModel",
      "state": {
       "_model_module_version": "^1.2.2",
       "_view_module_version": "^1.2.2",
       "data": {
        "id": "model_year",
        "label": "model_year"
       },
       "grabbable": true,
       "grabbed": false,
       "position": {
        "x": 849.3440394036814,
        "y": 220.9859328930124
       },
       "removed": true,
       "selectable": false
      }
     },
     "7f82f0ca9f13474194565d615e1d069e": {
      "model_module": "jupyter-cytoscape",
      "model_module_version": "^1.2.2",
      "model_name": "NodeModel",
      "state": {
       "_model_module_version": "^1.2.2",
       "_view_module_version": "^1.2.2",
       "data": {
        "id": "weight",
        "label": "weight"
       },
       "grabbable": true,
       "grabbed": false,
       "position": {
        "x": 1147.1038596983974,
        "y": 255.94921684087447
       },
       "selectable": false
      }
     },
     "7f93c932b234448d886d91b7b1d2da52": {
      "model_module": "jupyter-cytoscape",
      "model_module_version": "^1.2.2",
      "model_name": "EdgeModel",
      "state": {
       "_model_module_version": "^1.2.2",
       "_view_module_version": "^1.2.2",
       "classes": " directed  multiple_edges ",
       "data": {
        "id": "weight_horsepower",
        "source": "weight",
        "target": "horsepower"
       },
       "selectable": false
      }
     },
     "7fda46042e154d439fad593278601983": {
      "model_module": "jupyter-cytoscape",
      "model_module_version": "^1.2.2",
      "model_name": "NodeModel",
      "state": {
       "_model_module_version": "^1.2.2",
       "_view_module_version": "^1.2.2",
       "data": {
        "id": "origin",
        "label": "origin"
       },
       "grabbable": true,
       "grabbed": false,
       "position": {
        "x": 491.648681175134,
        "y": 125.00565671664644
       },
       "removed": true,
       "selectable": false
      }
     },
     "7fec701cd12a40fb8e343b8b9095ae86": {
      "model_module": "jupyter-cytoscape",
      "model_module_version": "^1.2.2",
      "model_name": "NodeModel",
      "state": {
       "_model_module_version": "^1.2.2",
       "_view_module_version": "^1.2.2",
       "data": {
        "id": "model_year",
        "label": "model_year"
       },
       "grabbable": true,
       "grabbed": false,
       "position": {
        "x": 983.3363436122864,
        "y": 393.35641101076476
       },
       "removed": true,
       "selectable": false
      }
     },
     "80192f80254249439a7851fbad8c73e6": {
      "model_module": "jupyter-cytoscape",
      "model_module_version": "^1.2.2",
      "model_name": "GraphModel",
      "state": {
       "_adj": {},
       "_model_module_version": "^1.2.2",
       "_view_module": "jupyter-cytoscape",
       "_view_module_version": "^1.2.2"
      }
     },
     "806152672e964ca0a7d078497b390f91": {
      "model_module": "@jupyter-widgets/controls",
      "model_module_version": "1.5.0",
      "model_name": "ButtonModel",
      "state": {
       "description": "Delete Edge",
       "disabled": true,
       "layout": "IPY_MODEL_70e12acfedba4e278fd34b2bb2981d92",
       "style": "IPY_MODEL_b8de071d9890476799a984840cab77d9"
      }
     },
     "80682d27fcb144c09ae890961282ccd7": {
      "model_module": "jupyter-cytoscape",
      "model_module_version": "^1.2.2",
      "model_name": "NodeModel",
      "state": {
       "_model_module_version": "^1.2.2",
       "_view_module_version": "^1.2.2",
       "data": {
        "id": "weight",
        "label": "weight"
       },
       "grabbable": true,
       "grabbed": false,
       "position": {
        "x": 644.1038596983955,
        "y": 255.9492168408747
       },
       "selectable": false
      }
     },
     "80bf99b589fc48bfba4409612a577c26": {
      "model_module": "jupyter-cytoscape",
      "model_module_version": "^1.2.2",
      "model_name": "NodeModel",
      "state": {
       "_model_module_version": "^1.2.2",
       "_view_module_version": "^1.2.2",
       "data": {
        "id": "origin",
        "label": "origin"
       },
       "grabbable": true,
       "grabbed": false,
       "position": {
        "x": 491.648681175134,
        "y": 125.00565671664644
       },
       "removed": true,
       "selectable": false
      }
     },
     "812952bab336412e8dfeae34842d5866": {
      "model_module": "jupyter-cytoscape",
      "model_module_version": "^1.2.2",
      "model_name": "EdgeModel",
      "state": {
       "_model_module_version": "^1.2.2",
       "_view_module_version": "^1.2.2",
       "classes": " directed  multiple_edges ",
       "data": {
        "id": "displacement_horsepower",
        "source": "displacement",
        "target": "horsepower"
       },
       "selectable": false
      }
     },
     "813aa5e8728d4fa9a8bc3a9fb60ca09b": {
      "model_module": "jupyter-cytoscape",
      "model_module_version": "^1.2.2",
      "model_name": "EdgeModel",
      "state": {
       "_model_module_version": "^1.2.2",
       "_view_module_version": "^1.2.2",
       "classes": " directed  multiple_edges ",
       "data": {
        "id": "displacement_origin",
        "source": "displacement",
        "target": "origin"
       },
       "selectable": false
      }
     },
     "81536d3bdcae4d5db9f4be2ff2092e6a": {
      "model_module": "@jupyter-widgets/controls",
      "model_module_version": "1.5.0",
      "model_name": "ButtonStyleModel",
      "state": {}
     },
     "816149236a4547e1947f54fd7a9abd76": {
      "model_module": "@jupyter-widgets/base",
      "model_module_version": "1.2.0",
      "model_name": "LayoutModel",
      "state": {}
     },
     "8179902463714be8a72d7b5e61b4c705": {
      "model_module": "jupyter-cytoscape",
      "model_module_version": "^1.2.2",
      "model_name": "NodeModel",
      "state": {
       "_model_module_version": "^1.2.2",
       "_view_module_version": "^1.2.2",
       "data": {
        "id": "horsepower",
        "label": "horsepower"
       },
       "grabbable": true,
       "grabbed": false,
       "position": {
        "x": 577.9360436026988,
        "y": 175.07363957090456
       },
       "removed": true,
       "selectable": false
      }
     },
     "81a2399c71c34ab391e3ba832e010de1": {
      "model_module": "@jupyter-widgets/output",
      "model_module_version": "1.0.0",
      "model_name": "OutputModel",
      "state": {
       "layout": "IPY_MODEL_ea302009b28a4ccc9d17acc4b20c778b",
       "outputs": [
        {
         "name": "stdout",
         "output_type": "stream",
         "text": "selected: {'id': 'displacement_cylinders',\n 'source': 'displacement',\n 'target': 'cylinders'}\nremoving: {'id': 'displacement_cylinders',\n 'source': 'displacement',\n 'target': 'cylinders'}\nselected: {'id': 'weight_horsepower', 'source': 'weight', 'target': 'horsepower'}\nremoving: {'id': 'weight_horsepower', 'source': 'weight', 'target': 'horsepower'}\n"
        }
       ]
      }
     },
     "820151a8aafd47ca91b5296f1219a722": {
      "model_module": "@jupyter-widgets/base",
      "model_module_version": "1.2.0",
      "model_name": "LayoutModel",
      "state": {}
     },
     "821368e9739142ed89f7eeae61e31459": {
      "model_module": "jupyter-cytoscape",
      "model_module_version": "^1.2.2",
      "model_name": "EdgeModel",
      "state": {
       "_model_module_version": "^1.2.2",
       "_view_module_version": "^1.2.2",
       "classes": " directed  multiple_edges ",
       "data": {
        "id": "horsepower_acceleration",
        "source": "horsepower",
        "target": "acceleration"
       },
       "selectable": false
      }
     },
     "822165f718734d3192dbacbddb7f117c": {
      "model_module": "jupyter-cytoscape",
      "model_module_version": "^1.2.2",
      "model_name": "NodeModel",
      "state": {
       "_model_module_version": "^1.2.2",
       "_view_module_version": "^1.2.2",
       "data": {
        "id": "weight",
        "label": "weight"
       },
       "grabbable": true,
       "grabbed": false,
       "position": {
        "x": 644.1038596983955,
        "y": 255.9492168408747
       },
       "selectable": false
      }
     },
     "8229a66d8b0048c6a982551e328dce3e": {
      "model_module": "@jupyter-widgets/controls",
      "model_module_version": "1.5.0",
      "model_name": "ButtonModel",
      "state": {
       "description": "Change Direction",
       "disabled": true,
       "layout": "IPY_MODEL_26c9936b35694189bb1942c224b4d8f6",
       "style": "IPY_MODEL_15f80d3076e14aa79d9b13375de23477"
      }
     },
     "822d8cd2827845e9b5e9b12ff3c37071": {
      "model_module": "jupyter-cytoscape",
      "model_module_version": "^1.2.2",
      "model_name": "EdgeModel",
      "state": {
       "_model_module_version": "^1.2.2",
       "_view_module_version": "^1.2.2",
       "classes": " directed  multiple_edges ",
       "data": {
        "id": "cylinders_origin",
        "source": "cylinders",
        "target": "origin"
       },
       "removed": true,
       "selectable": false
      }
     },
     "8230fad1baf240deba601ac06cffbeed": {
      "model_module": "@jupyter-widgets/base",
      "model_module_version": "1.2.0",
      "model_name": "LayoutModel",
      "state": {}
     },
     "8285f5a27e30424597307bf9b3b99e68": {
      "model_module": "jupyter-cytoscape",
      "model_module_version": "^1.2.2",
      "model_name": "NodeModel",
      "state": {
       "_model_module_version": "^1.2.2",
       "_view_module_version": "^1.2.2",
       "data": {
        "id": "acceleration",
        "label": "acceleration"
       },
       "grabbable": true,
       "grabbed": false,
       "position": {
        "x": 598.6565740712615,
        "y": 336.3251878079987
       },
       "selectable": false
      }
     },
     "82d135e5ed1c4fcca8fd2bcf5fc02906": {
      "model_module": "jupyter-cytoscape",
      "model_module_version": "^1.2.2",
      "model_name": "EdgeModel",
      "state": {
       "_model_module_version": "^1.2.2",
       "_view_module_version": "^1.2.2",
       "classes": " directed  multiple_edges ",
       "data": {
        "id": "weight_acceleration",
        "source": "weight",
        "target": "acceleration"
       },
       "selectable": false
      }
     },
     "82dd774de8624b3d8e0315ff5fc62fcc": {
      "model_module": "@jupyter-widgets/controls",
      "model_module_version": "1.5.0",
      "model_name": "ButtonModel",
      "state": {
       "description": "Add Edge",
       "disabled": true,
       "layout": "IPY_MODEL_e9bae69a2dd6430085da5145abeca842",
       "style": "IPY_MODEL_bca885e09198438a94764870f987a13e"
      }
     },
     "8301de8ae17445159c2c49902ba7d4b2": {
      "model_module": "@jupyter-widgets/base",
      "model_module_version": "1.2.0",
      "model_name": "LayoutModel",
      "state": {}
     },
     "83197bb369d34d40a6bf1eb97182f6ea": {
      "model_module": "@jupyter-widgets/base",
      "model_module_version": "1.2.0",
      "model_name": "LayoutModel",
      "state": {}
     },
     "8369ec7036d64fb4b1cf6ad537efc389": {
      "model_module": "jupyter-cytoscape",
      "model_module_version": "^1.2.2",
      "model_name": "EdgeModel",
      "state": {
       "_model_module_version": "^1.2.2",
       "_view_module_version": "^1.2.2",
       "classes": " directed  multiple_edges ",
       "data": {
        "id": "origin_horsepower",
        "source": "origin",
        "target": "horsepower"
       },
       "removed": true,
       "selectable": false
      }
     },
     "83baf31eabd34d7eb39849698514e80d": {
      "model_module": "jupyter-cytoscape",
      "model_module_version": "^1.2.2",
      "model_name": "EdgeModel",
      "state": {
       "_model_module_version": "^1.2.2",
       "_view_module_version": "^1.2.2",
       "classes": " directed  multiple_edges ",
       "data": {
        "id": "displacement_horsepower",
        "source": "displacement",
        "target": "horsepower"
       },
       "selectable": false
      }
     },
     "83cfe105df7d408c8e729bd299aabd51": {
      "model_module": "jupyter-cytoscape",
      "model_module_version": "^1.2.2",
      "model_name": "EdgeModel",
      "state": {
       "_model_module_version": "^1.2.2",
       "_view_module_version": "^1.2.2",
       "classes": " directed  multiple_edges ",
       "data": {
        "id": "horsepower_acceleration",
        "source": "horsepower",
        "target": "acceleration"
       },
       "selectable": false
      }
     },
     "843bba3f6c144d8283fe95bb76498548": {
      "model_module": "@jupyter-widgets/controls",
      "model_module_version": "1.5.0",
      "model_name": "ButtonStyleModel",
      "state": {}
     },
     "8479f050007e48588106bc5dcb60bf2b": {
      "model_module": "jupyter-cytoscape",
      "model_module_version": "^1.2.2",
      "model_name": "NodeModel",
      "state": {
       "_model_module_version": "^1.2.2",
       "_view_module_version": "^1.2.2",
       "data": {
        "id": "origin",
        "label": "origin"
       },
       "grabbable": true,
       "grabbed": false,
       "position": {
        "x": 491.648681175134,
        "y": 125.00565671664644
       },
       "removed": true,
       "selectable": false
      }
     },
     "84e17b4e99fe4fc7bbc578c1a06196ed": {
      "model_module": "jupyter-cytoscape",
      "model_module_version": "^1.2.2",
      "model_name": "EdgeModel",
      "state": {
       "_model_module_version": "^1.2.2",
       "_view_module_version": "^1.2.2",
       "classes": " directed  multiple_edges ",
       "data": {
        "id": "mpg_origin",
        "source": "mpg",
        "target": "origin"
       },
       "selectable": false
      }
     },
     "84e670dd13b14f9d9161d8fc924a1005": {
      "model_module": "@jupyter-widgets/controls",
      "model_module_version": "1.5.0",
      "model_name": "ButtonModel",
      "state": {
       "description": "Add Edge",
       "disabled": true,
       "layout": "IPY_MODEL_61f417d695a04a3db254f063389a84ca",
       "style": "IPY_MODEL_e55339072f754601aaa1bb40ff239f7a"
      }
     },
     "84f50c4200f2407282cf4075cb9dc697": {
      "model_module": "@jupyter-widgets/base",
      "model_module_version": "1.2.0",
      "model_name": "LayoutModel",
      "state": {}
     },
     "8525ca49030446cb9fc4ea7ea3208c31": {
      "model_module": "jupyter-cytoscape",
      "model_module_version": "^1.2.2",
      "model_name": "EdgeModel",
      "state": {
       "_model_module_version": "^1.2.2",
       "_view_module_version": "^1.2.2",
       "classes": " directed  multiple_edges ",
       "data": {
        "id": "origin_horsepower",
        "source": "origin",
        "target": "horsepower"
       },
       "removed": true,
       "selectable": false
      }
     },
     "852b840c8def4487aec8e60bc81b49c9": {
      "model_module": "jupyter-cytoscape",
      "model_module_version": "^1.2.2",
      "model_name": "EdgeModel",
      "state": {
       "_model_module_version": "^1.2.2",
       "_view_module_version": "^1.2.2",
       "classes": " directed  multiple_edges ",
       "data": {
        "id": "horsepower_acceleration",
        "source": "horsepower",
        "target": "acceleration"
       },
       "removed": true,
       "selectable": false
      }
     },
     "853b6f10ed694a17b7a6e8513c11aa97": {
      "model_module": "jupyter-cytoscape",
      "model_module_version": "^1.2.2",
      "model_name": "EdgeModel",
      "state": {
       "_model_module_version": "^1.2.2",
       "_view_module_version": "^1.2.2",
       "classes": " directed  multiple_edges ",
       "data": {
        "id": "mpg_origin",
        "source": "mpg",
        "target": "origin"
       },
       "selectable": false
      }
     },
     "8564eb51b4f6434c92d28951e948d14c": {
      "model_module": "jupyter-cytoscape",
      "model_module_version": "^1.2.2",
      "model_name": "EdgeModel",
      "state": {
       "_model_module_version": "^1.2.2",
       "_view_module_version": "^1.2.2",
       "classes": " directed  multiple_edges ",
       "data": {
        "id": "cylinders_origin",
        "source": "cylinders",
        "target": "origin"
       },
       "removed": true,
       "selectable": false
      }
     },
     "85657cb3f10f49fbb3bedc657c735ea8": {
      "model_module": "jupyter-cytoscape",
      "model_module_version": "^1.2.2",
      "model_name": "EdgeModel",
      "state": {
       "_model_module_version": "^1.2.2",
       "_view_module_version": "^1.2.2",
       "classes": " directed  multiple_edges ",
       "data": {
        "id": "model_year_weight",
        "source": "model_year",
        "target": "weight"
       },
       "removed": true,
       "selectable": false
      }
     },
     "85818b90eaf745b2adefa7b47c19a677": {
      "model_module": "jupyter-cytoscape",
      "model_module_version": "^1.2.2",
      "model_name": "EdgeModel",
      "state": {
       "_model_module_version": "^1.2.2",
       "_view_module_version": "^1.2.2",
       "classes": " directed  multiple_edges ",
       "data": {
        "id": "weight_horsepower",
        "source": "weight",
        "target": "horsepower"
       },
       "removed": true,
       "selectable": false
      }
     },
     "85bef3b777da42939e8e66c8a356f751": {
      "model_module": "jupyter-cytoscape",
      "model_module_version": "^1.2.2",
      "model_name": "NodeModel",
      "state": {
       "_model_module_version": "^1.2.2",
       "_view_module_version": "^1.2.2",
       "data": {
        "id": "weight",
        "label": "weight"
       },
       "grabbable": true,
       "grabbed": false,
       "position": {
        "x": 519.9803901194829,
        "y": 199.62416315054875
       },
       "selectable": false
      }
     },
     "85ca6335a8ff44f2b6107ac63642727e": {
      "model_module": "jupyter-cytoscape",
      "model_module_version": "^1.2.2",
      "model_name": "NodeModel",
      "state": {
       "_model_module_version": "^1.2.2",
       "_view_module_version": "^1.2.2",
       "data": {
        "id": "model_year",
        "label": "model_year"
       },
       "grabbable": true,
       "grabbed": false,
       "position": {
        "x": 1131.5366463785342,
        "y": 271.5806802142876
       },
       "removed": true,
       "selectable": false
      }
     },
     "861704c370b84e47bf4ae7859bc6331d": {
      "model_module": "jupyter-cytoscape",
      "model_module_version": "^1.2.2",
      "model_name": "EdgeModel",
      "state": {
       "_model_module_version": "^1.2.2",
       "_view_module_version": "^1.2.2",
       "classes": " directed  multiple_edges ",
       "data": {
        "id": "horsepower_acceleration",
        "source": "horsepower",
        "target": "acceleration"
       },
       "removed": true,
       "selectable": false
      }
     },
     "86192b6bf60849b9a6cbf79008bbc3d4": {
      "model_module": "jupyter-cytoscape",
      "model_module_version": "^1.2.2",
      "model_name": "NodeModel",
      "state": {
       "_model_module_version": "^1.2.2",
       "_view_module_version": "^1.2.2",
       "data": {
        "id": "mpg",
        "label": "mpg"
       },
       "grabbable": true,
       "grabbed": false,
       "position": {
        "x": 1032.3059059542009,
        "y": 85.61348882909213
       },
       "removed": true,
       "selectable": false
      }
     },
     "86196c7c20a149818a420af2367f12de": {
      "model_module": "jupyter-cytoscape",
      "model_module_version": "^1.2.2",
      "model_name": "EdgeModel",
      "state": {
       "_model_module_version": "^1.2.2",
       "_view_module_version": "^1.2.2",
       "classes": " directed  multiple_edges ",
       "data": {
        "id": "mpg_origin",
        "source": "mpg",
        "target": "origin"
       },
       "selectable": false
      }
     },
     "863290c57e5647ea92287046dbd87984": {
      "model_module": "jupyter-cytoscape",
      "model_module_version": "^1.2.2",
      "model_name": "EdgeModel",
      "state": {
       "_model_module_version": "^1.2.2",
       "_view_module_version": "^1.2.2",
       "classes": " directed  multiple_edges ",
       "data": {
        "id": "displacement_origin",
        "source": "displacement",
        "target": "origin"
       },
       "selectable": false
      }
     },
     "865d7aa9e5db496db94d5fe41a0e87e0": {
      "model_module": "jupyter-cytoscape",
      "model_module_version": "^1.2.2",
      "model_name": "EdgeModel",
      "state": {
       "_model_module_version": "^1.2.2",
       "_view_module_version": "^1.2.2",
       "classes": " directed  multiple_edges ",
       "data": {
        "id": "model_year_cylinders",
        "source": "model_year",
        "target": "cylinders"
       },
       "selectable": false
      }
     },
     "8666a4a0269e4d17a650b927eed3dc1f": {
      "model_module": "jupyter-cytoscape",
      "model_module_version": "^1.2.2",
      "model_name": "EdgeModel",
      "state": {
       "_model_module_version": "^1.2.2",
       "_view_module_version": "^1.2.2",
       "classes": " directed  multiple_edges ",
       "data": {
        "id": "displacement_origin",
        "source": "displacement",
        "target": "origin"
       },
       "removed": true,
       "selectable": false
      }
     },
     "866bc9adefc7426abb0ed24f265037d9": {
      "model_module": "jupyter-cytoscape",
      "model_module_version": "^1.2.2",
      "model_name": "EdgeModel",
      "state": {
       "_model_module_version": "^1.2.2",
       "_view_module_version": "^1.2.2",
       "classes": " directed  multiple_edges ",
       "data": {
        "id": "weight_horsepower",
        "source": "weight",
        "target": "horsepower"
       },
       "removed": true,
       "selectable": false
      }
     },
     "86753ff9b7eb472daaf09bf0b623686c": {
      "model_module": "jupyter-cytoscape",
      "model_module_version": "^1.2.2",
      "model_name": "NodeModel",
      "state": {
       "_model_module_version": "^1.2.2",
       "_view_module_version": "^1.2.2",
       "data": {
        "id": "weight",
        "label": "weight"
       },
       "grabbable": true,
       "grabbed": false,
       "position": {
        "x": 642.9397278953301,
        "y": 217.53500807231822
       },
       "removed": true,
       "selectable": false
      }
     },
     "86efc72cef8447149afa674334b66c26": {
      "model_module": "jupyter-cytoscape",
      "model_module_version": "^1.2.2",
      "model_name": "NodeModel",
      "state": {
       "_model_module_version": "^1.2.2",
       "_view_module_version": "^1.2.2",
       "data": {
        "id": "mpg",
        "label": "mpg"
       },
       "grabbable": true,
       "grabbed": false,
       "position": {
        "x": 1107.840943621376,
        "y": 147.15280318553766
       },
       "selectable": false
      }
     },
     "87361d7e44554c94934415a1e6776667": {
      "model_module": "jupyter-cytoscape",
      "model_module_version": "^1.2.2",
      "model_name": "EdgeModel",
      "state": {
       "_model_module_version": "^1.2.2",
       "_view_module_version": "^1.2.2",
       "classes": " directed  multiple_edges ",
       "data": {
        "id": "displacement_cylinders",
        "source": "displacement",
        "target": "cylinders"
       },
       "selectable": false
      }
     },
     "8750b35132414627afbf054feb41dcaa": {
      "model_module": "jupyter-cytoscape",
      "model_module_version": "^1.2.2",
      "model_name": "NodeModel",
      "state": {
       "_model_module_version": "^1.2.2",
       "_view_module_version": "^1.2.2",
       "data": {
        "id": "cylinders",
        "label": "cylinders"
       },
       "grabbable": true,
       "grabbed": false,
       "position": {
        "x": 433.0988645297568,
        "y": 243.59005208886958
       },
       "selectable": false
      }
     },
     "8765cb48fb0e4804b6db9dd8e47e0c31": {
      "model_module": "@jupyter-widgets/controls",
      "model_module_version": "1.5.0",
      "model_name": "ButtonStyleModel",
      "state": {}
     },
     "878481e1bfd04f01bc8c93badfe12958": {
      "model_module": "jupyter-cytoscape",
      "model_module_version": "^1.2.2",
      "model_name": "GraphModel",
      "state": {
       "_adj": {
        "acceleration": {},
        "cylinders": {},
        "displacement": {},
        "horsepower": {},
        "model_year": {},
        "mpg": {},
        "origin": {},
        "weight": {}
       },
       "_model_module_version": "^1.2.2",
       "_view_module": "jupyter-cytoscape",
       "_view_module_version": "^1.2.2",
       "edges": [
        "IPY_MODEL_69d54609380041bf83e59486dea807dc",
        "IPY_MODEL_3f0be8089c634300a8e4d094206d799e",
        "IPY_MODEL_31f90bcc324a49d98dedad96f0549bd3",
        "IPY_MODEL_383a438ab80a463b90813e7d684efa48",
        "IPY_MODEL_3db36558006849acaa85dcde7f7867bf",
        "IPY_MODEL_1f75633c78714b0a827800583c51f505",
        "IPY_MODEL_24550e5c2a3a43e98be9b96f69ed00e3",
        "IPY_MODEL_c246be47a553425ba65051012967b17f",
        "IPY_MODEL_6afffed6c7934cecb302e103ca971417",
        "IPY_MODEL_46d7968e49434f3abbdcceca83ded6ed",
        "IPY_MODEL_3a3a7b312c1642609cc1ba9e58346b17",
        "IPY_MODEL_636048d678cc4619b7677ede8fda26df",
        "IPY_MODEL_a0a201293616420fab7b16548c2355c7",
        "IPY_MODEL_caf55dbfff0e4350b0927a579b7de993",
        "IPY_MODEL_10126f64397146d581398df2ace4b2e3",
        "IPY_MODEL_d2386202e7274cb192b4baa0e8857b8a"
       ],
       "nodes": [
        "IPY_MODEL_08419ca7d9db48cc8ab03354fc404792",
        "IPY_MODEL_19d2ac2dbb9443af875b6d383a1abf24",
        "IPY_MODEL_240b11e4461a4a488868cfee4688b4b6",
        "IPY_MODEL_ad58c47986484cf4a3ee5f95561ff34e",
        "IPY_MODEL_7f82f0ca9f13474194565d615e1d069e",
        "IPY_MODEL_94b698625f65481fa4e42c9dfd10f284",
        "IPY_MODEL_b393e0c5e2b048e9955f5cb372e1fd88",
        "IPY_MODEL_19910525fa2f4200a1a8818ee4ae1cdc"
       ]
      }
     },
     "878f53d9ca574f3c8810c358ea52092e": {
      "model_module": "jupyter-cytoscape",
      "model_module_version": "^1.2.2",
      "model_name": "EdgeModel",
      "state": {
       "_model_module_version": "^1.2.2",
       "_view_module_version": "^1.2.2",
       "classes": " directed  multiple_edges ",
       "data": {
        "id": "model_year_weight",
        "source": "model_year",
        "target": "weight"
       },
       "removed": true,
       "selectable": false
      }
     },
     "8799fc92d42246babdc07918d6277ecd": {
      "model_module": "jupyter-cytoscape",
      "model_module_version": "^1.2.2",
      "model_name": "EdgeModel",
      "state": {
       "_model_module_version": "^1.2.2",
       "_view_module_version": "^1.2.2",
       "classes": " directed  multiple_edges ",
       "data": {
        "id": "origin_horsepower",
        "source": "origin",
        "target": "horsepower"
       },
       "selectable": false
      }
     },
     "87bdfbf024d943df89ba043ee92cffb8": {
      "model_module": "jupyter-cytoscape",
      "model_module_version": "^1.2.2",
      "model_name": "GraphModel",
      "state": {
       "_adj": {},
       "_model_module_version": "^1.2.2",
       "_view_module": "jupyter-cytoscape",
       "_view_module_version": "^1.2.2"
      }
     },
     "87d99ba9740c41839a32a180a3e03553": {
      "model_module": "jupyter-cytoscape",
      "model_module_version": "^1.2.2",
      "model_name": "EdgeModel",
      "state": {
       "_model_module_version": "^1.2.2",
       "_view_module_version": "^1.2.2",
       "classes": " directed  multiple_edges ",
       "data": {
        "id": "displacement_cylinders",
        "source": "displacement",
        "target": "cylinders"
       },
       "removed": true,
       "selectable": false
      }
     },
     "87f17d252fa84505bc6dd603d9d41ac7": {
      "model_module": "jupyter-cytoscape",
      "model_module_version": "^1.2.2",
      "model_name": "CytoscapeModel",
      "state": {
       "_interaction_handlers": {
        "edge": [
         "click"
        ],
        "node": [
         "click"
        ]
       },
       "_model_module_version": "^1.2.2",
       "_view_module_version": "^1.2.2",
       "auto_ungrabify": false,
       "autolock": false,
       "cytoscape_layout": {
        "name": "cola"
       },
       "cytoscape_style": [
        {
         "selector": "node",
         "style": {
          "background-color": "blue",
          "font-family": "arial",
          "font-size": "10px",
          "label": "data(label)"
         }
        },
        {
         "selector": "edge",
         "style": {
          "curve-style": "bezier",
          "line-color": "#9dbaea",
          "target-arrow-color": "#9dbaea",
          "target-arrow-shape": "triangle",
          "width": 4
         }
        },
        {
         "css": {
          "line-color": "red"
         },
         "selector": "edge.selected"
        },
        {
         "css": {
          "background-color": "red"
         },
         "selector": "node.selected"
        }
       ],
       "desktop_tap_threshold": 4,
       "graph": "IPY_MODEL_f7d2ed77214b42f79400038785595788",
       "headless": false,
       "hide_edges_on_viewport": false,
       "layout": "IPY_MODEL_2bf35b67f14a4582a8c18e5c85ee4258",
       "max_zoom": 1e+50,
       "min_zoom": 1e-50,
       "motion_blur": false,
       "motion_blur_opacity": 0.2,
       "panning_enabled": true,
       "pixel_ratio": "auto",
       "rendered_position": {
        "renderedPosition": {
         "x": 100,
         "y": 100
        }
       },
       "selection_type": "single",
       "style_enabled": true,
       "texture_on_viewport": false,
       "tooltip_source": "tooltip",
       "touch_tap_threshold": 8,
       "user_panning_enabled": true,
       "user_zooming_enabled": true,
       "wheel_sensitivity": 1,
       "zoom": 2,
       "zooming_enabled": true
      }
     },
     "8833aee7b4f44f56b4cf6d8538a8fe51": {
      "model_module": "@jupyter-widgets/controls",
      "model_module_version": "1.5.0",
      "model_name": "ButtonStyleModel",
      "state": {}
     },
     "887f2289b7894c9885f08eb221f2b8a8": {
      "model_module": "jupyter-cytoscape",
      "model_module_version": "^1.2.2",
      "model_name": "NodeModel",
      "state": {
       "_model_module_version": "^1.2.2",
       "_view_module_version": "^1.2.2",
       "data": {
        "id": "horsepower",
        "label": "horsepower"
       },
       "grabbable": true,
       "grabbed": false,
       "position": {
        "x": 1028.2537225971103,
        "y": 93.7915777708788
       },
       "removed": true,
       "selectable": false
      }
     },
     "888b1bcd4c2c47f39397915182a0f5a4": {
      "model_module": "@jupyter-widgets/base",
      "model_module_version": "1.2.0",
      "model_name": "LayoutModel",
      "state": {}
     },
     "88bbdcc8e6674a11a6b93a934a50dcb1": {
      "model_module": "jupyter-cytoscape",
      "model_module_version": "^1.2.2",
      "model_name": "NodeModel",
      "state": {
       "_model_module_version": "^1.2.2",
       "_view_module_version": "^1.2.2",
       "data": {
        "id": "model_year",
        "label": "model_year"
       },
       "grabbable": true,
       "grabbed": false,
       "position": {
        "x": 558.1635343662905,
        "y": 225.07364057090456
       },
       "removed": true,
       "selectable": false
      }
     },
     "88c0f77967fd432f9832abd465446bd6": {
      "model_module": "@jupyter-widgets/controls",
      "model_module_version": "1.5.0",
      "model_name": "ButtonStyleModel",
      "state": {}
     },
     "88c32bc4305740d9b8741d399725ceb6": {
      "model_module": "@jupyter-widgets/controls",
      "model_module_version": "1.5.0",
      "model_name": "ButtonStyleModel",
      "state": {}
     },
     "8932e789bd2d4032b1c4234885b9daf7": {
      "model_module": "jupyter-cytoscape",
      "model_module_version": "^1.2.2",
      "model_name": "EdgeModel",
      "state": {
       "_model_module_version": "^1.2.2",
       "_view_module_version": "^1.2.2",
       "classes": " directed  multiple_edges ",
       "data": {
        "id": "displacement_horsepower",
        "source": "displacement",
        "target": "horsepower"
       },
       "selectable": false
      }
     },
     "8938465c40c44f1daf38237b7da59e39": {
      "model_module": "jupyter-cytoscape",
      "model_module_version": "^1.2.2",
      "model_name": "GraphModel",
      "state": {
       "_adj": {},
       "_model_module_version": "^1.2.2",
       "_view_module": "jupyter-cytoscape",
       "_view_module_version": "^1.2.2"
      }
     },
     "893f37f8c57844198e56642f6d2f4a3a": {
      "model_module": "@jupyter-widgets/base",
      "model_module_version": "1.2.0",
      "model_name": "LayoutModel",
      "state": {}
     },
     "897529f4b5aa4c63b2e824b6c122dca8": {
      "model_module": "jupyter-cytoscape",
      "model_module_version": "^1.2.2",
      "model_name": "EdgeModel",
      "state": {
       "_model_module_version": "^1.2.2",
       "_view_module_version": "^1.2.2",
       "classes": " directed  multiple_edges ",
       "data": {
        "id": "origin_horsepower",
        "source": "origin",
        "target": "horsepower"
       },
       "selectable": false
      }
     },
     "899aee2388914423a0fafa2578f6ca8a": {
      "model_module": "jupyter-cytoscape",
      "model_module_version": "^1.2.2",
      "model_name": "EdgeModel",
      "state": {
       "_model_module_version": "^1.2.2",
       "_view_module_version": "^1.2.2",
       "classes": " directed  multiple_edges ",
       "data": {
        "id": "model_year_mpg",
        "source": "model_year",
        "target": "mpg"
       },
       "selectable": false
      }
     },
     "89ad9a56538f4460bad9db61a3e1c52a": {
      "model_module": "jupyter-cytoscape",
      "model_module_version": "^1.2.2",
      "model_name": "EdgeModel",
      "state": {
       "_model_module_version": "^1.2.2",
       "_view_module_version": "^1.2.2",
       "classes": " directed  multiple_edges ",
       "data": {
        "id": "model_year_weight",
        "source": "model_year",
        "target": "weight"
       },
       "selectable": false
      }
     },
     "89d713a7c0bb445ca8e6e6a54a38292e": {
      "model_module": "jupyter-cytoscape",
      "model_module_version": "^1.2.2",
      "model_name": "NodeModel",
      "state": {
       "_model_module_version": "^1.2.2",
       "_view_module_version": "^1.2.2",
       "data": {
        "id": "weight",
        "label": "weight"
       },
       "grabbable": true,
       "grabbed": false,
       "position": {
        "x": 644.1038596983955,
        "y": 255.9492168408747
       },
       "selectable": false
      }
     },
     "8a0fc487baaa4e58afc7fc42df243d38": {
      "model_module": "jupyter-cytoscape",
      "model_module_version": "^1.2.2",
      "model_name": "NodeModel",
      "state": {
       "_model_module_version": "^1.2.2",
       "_view_module_version": "^1.2.2",
       "data": {
        "id": "model_year",
        "label": "model_year"
       },
       "grabbable": true,
       "grabbed": false,
       "position": {
        "x": 770.1161072592956,
        "y": 191.47993818326304
       },
       "selectable": false
      }
     },
     "8a397c8ad2a648b2ac9768813a1ac72c": {
      "model_module": "@jupyter-widgets/controls",
      "model_module_version": "1.5.0",
      "model_name": "ButtonStyleModel",
      "state": {}
     },
     "8a82803498bb4c5c99df2a56cfe72e41": {
      "model_module": "jupyter-cytoscape",
      "model_module_version": "^1.2.2",
      "model_name": "NodeModel",
      "state": {
       "_model_module_version": "^1.2.2",
       "_view_module_version": "^1.2.2",
       "data": {
        "id": "weight",
        "label": "weight"
       },
       "grabbable": true,
       "grabbed": false,
       "position": {
        "x": 644.1038596983955,
        "y": 255.9492168408747
       },
       "selectable": false
      }
     },
     "8a8e409908d3491eb48d45dd50421053": {
      "model_module": "jupyter-cytoscape",
      "model_module_version": "^1.2.2",
      "model_name": "EdgeModel",
      "state": {
       "_model_module_version": "^1.2.2",
       "_view_module_version": "^1.2.2",
       "classes": " directed  multiple_edges ",
       "data": {
        "id": "displacement_horsepower",
        "source": "displacement",
        "target": "horsepower"
       },
       "selectable": false
      }
     },
     "8a905fad14c646d8806844d0506223c6": {
      "model_module": "jupyter-cytoscape",
      "model_module_version": "^1.2.2",
      "model_name": "EdgeModel",
      "state": {
       "_model_module_version": "^1.2.2",
       "_view_module_version": "^1.2.2",
       "classes": " directed  multiple_edges ",
       "data": {
        "id": "origin_horsepower",
        "source": "origin",
        "target": "horsepower"
       },
       "selectable": false
      }
     },
     "8bafe6366fa14516b369219b0227a1e0": {
      "model_module": "@jupyter-widgets/controls",
      "model_module_version": "1.5.0",
      "model_name": "ButtonModel",
      "state": {
       "description": "Change Direction",
       "disabled": true,
       "layout": "IPY_MODEL_16fe6723f16c4d42a76be52de0e6d534",
       "style": "IPY_MODEL_aa3fd511c04749459fa2a63abb2fb00b"
      }
     },
     "8bb8aa0b522c436895b95a3ed5ed9b95": {
      "model_module": "jupyter-cytoscape",
      "model_module_version": "^1.2.2",
      "model_name": "NodeModel",
      "state": {
       "_model_module_version": "^1.2.2",
       "_view_module_version": "^1.2.2",
       "data": {
        "id": "horsepower",
        "label": "horsepower"
       },
       "grabbable": true,
       "grabbed": false,
       "position": {
        "x": 986.460505687432,
        "y": 130.02246833261395
       },
       "removed": true,
       "selectable": false
      }
     },
     "8bfabb35cc4446909fc0e858c8e537a4": {
      "model_module": "jupyter-cytoscape",
      "model_module_version": "^1.2.2",
      "model_name": "NodeModel",
      "state": {
       "_model_module_version": "^1.2.2",
       "_view_module_version": "^1.2.2",
       "data": {
        "id": "acceleration",
        "label": "acceleration"
       },
       "grabbable": true,
       "grabbed": false,
       "position": {
        "x": 723.4340330361492,
        "y": 297.87127869548584
       },
       "removed": true,
       "selectable": false
      }
     },
     "8c2fd91af245489a8466f66fbde41961": {
      "model_module": "@jupyter-widgets/controls",
      "model_module_version": "1.5.0",
      "model_name": "ButtonModel",
      "state": {
       "description": "Delete Edge",
       "disabled": true,
       "layout": "IPY_MODEL_d181741923444746891bf6c96f8ff589",
       "style": "IPY_MODEL_48d4d3f759364ab898e67b5b3e5c9eae"
      }
     },
     "8c39d5af8a08421f803ab2304c791a68": {
      "model_module": "jupyter-cytoscape",
      "model_module_version": "^1.2.2",
      "model_name": "GraphModel",
      "state": {
       "_adj": {},
       "_model_module_version": "^1.2.2",
       "_view_module": "jupyter-cytoscape",
       "_view_module_version": "^1.2.2"
      }
     },
     "8c7db861cbbc48bcacb67cfbdf732571": {
      "model_module": "@jupyter-widgets/controls",
      "model_module_version": "1.5.0",
      "model_name": "ButtonModel",
      "state": {
       "description": "Change Direction",
       "disabled": true,
       "layout": "IPY_MODEL_6fa56fc2d7df42f899656eb95c3fd339",
       "style": "IPY_MODEL_555a65d99b1c40d1b5e58cbbf9e897c1"
      }
     },
     "8cc81deb1fc2448983672fe2d30e3fc2": {
      "model_module": "jupyter-cytoscape",
      "model_module_version": "^1.2.2",
      "model_name": "EdgeModel",
      "state": {
       "_model_module_version": "^1.2.2",
       "_view_module_version": "^1.2.2",
       "classes": " directed  multiple_edges ",
       "data": {
        "id": "displacement_weight",
        "source": "displacement",
        "target": "weight"
       },
       "selectable": false
      }
     },
     "8d215068c7954c099a96e3f4e075347c": {
      "model_module": "jupyter-cytoscape",
      "model_module_version": "^1.2.2",
      "model_name": "NodeModel",
      "state": {
       "_model_module_version": "^1.2.2",
       "_view_module_version": "^1.2.2",
       "data": {
        "id": "acceleration",
        "label": "acceleration"
       },
       "grabbable": true,
       "grabbed": false,
       "position": {
        "x": 598.6565740712615,
        "y": 336.3251878079987
       },
       "selectable": false
      }
     },
     "8d9038377fb44173b757d9ce39be9105": {
      "model_module": "jupyter-cytoscape",
      "model_module_version": "^1.2.2",
      "model_name": "EdgeModel",
      "state": {
       "_model_module_version": "^1.2.2",
       "_view_module_version": "^1.2.2",
       "classes": " directed  multiple_edges ",
       "data": {
        "id": "cylinders_origin",
        "source": "cylinders",
        "target": "origin"
       },
       "removed": true,
       "selectable": false
      }
     },
     "8da4db127b03454bb503747ced1b8c20": {
      "model_module": "jupyter-cytoscape",
      "model_module_version": "^1.2.2",
      "model_name": "GraphModel",
      "state": {
       "_adj": {
        "acceleration": {},
        "cylinders": {},
        "displacement": {},
        "horsepower": {},
        "model_year": {},
        "mpg": {},
        "origin": {},
        "weight": {}
       },
       "_model_module_version": "^1.2.2",
       "_view_module": "jupyter-cytoscape",
       "_view_module_version": "^1.2.2",
       "edges": [
        "IPY_MODEL_c050d485b7924e6393c1968da5bbdef2",
        "IPY_MODEL_76e214ade2784cdeb9e3916e37560c8b",
        "IPY_MODEL_117ac7ead5b146548135ea796d490bfd",
        "IPY_MODEL_ab8d0318d474423395d1f26ec6780fe6",
        "IPY_MODEL_5dda05d29b3d40eb942451d0da6fdc7a",
        "IPY_MODEL_65f74a7849ca40e492c88891ef9a97b3",
        "IPY_MODEL_bb611c26494343eaac393c768093bafd",
        "IPY_MODEL_df4612422ed7474b8ed1ac2cc9617e31",
        "IPY_MODEL_8e4e539947e94efeb4ca68271e888d97",
        "IPY_MODEL_2de696ec9f064ccabd96b417591d8fc0",
        "IPY_MODEL_f5a05aa0f1774e4981c40299e1509a1b",
        "IPY_MODEL_fff74a07c0ff47b2a465a823c9964971",
        "IPY_MODEL_4d3cc93af4044c8ab22a5a54e80627ae",
        "IPY_MODEL_d93ff5493e1d4bc7a58d9bf620455c9f",
        "IPY_MODEL_6a9cbbb771524995b71d05fdafc45372",
        "IPY_MODEL_ce268c7776c64974a8d5476da2f751f2"
       ],
       "nodes": [
        "IPY_MODEL_3bcbb186b3324051a7c1ab772c75b990",
        "IPY_MODEL_db2a46bdd5c64e0e88c415fdfb0e54ea",
        "IPY_MODEL_2dcd66bd8bc54030bf9531577b177c04",
        "IPY_MODEL_b9cfe92ce4f4468f80ef748757a96a7a",
        "IPY_MODEL_8a82803498bb4c5c99df2a56cfe72e41",
        "IPY_MODEL_8285f5a27e30424597307bf9b3b99e68",
        "IPY_MODEL_b41edeba22e14fd9a07e6d4d0d836e14",
        "IPY_MODEL_b70c3f29c931439f8903a95a58314890"
       ]
      }
     },
     "8dbe9cfcb52242afa5d32a881cc63ef4": {
      "model_module": "jupyter-cytoscape",
      "model_module_version": "^1.2.2",
      "model_name": "NodeModel",
      "state": {
       "_model_module_version": "^1.2.2",
       "_view_module_version": "^1.2.2",
       "data": {
        "id": "weight",
        "label": "weight"
       },
       "grabbable": true,
       "grabbed": false,
       "position": {
        "x": 631.1673858659624,
        "y": 175.61793157965073
       },
       "selectable": false
      }
     },
     "8de802a6cd15487fab778caa5fadf568": {
      "model_module": "@jupyter-widgets/base",
      "model_module_version": "1.2.0",
      "model_name": "LayoutModel",
      "state": {}
     },
     "8dfff9b7ed894595b88f5993ee02de3c": {
      "model_module": "jupyter-cytoscape",
      "model_module_version": "^1.2.2",
      "model_name": "EdgeModel",
      "state": {
       "_model_module_version": "^1.2.2",
       "_view_module_version": "^1.2.2",
       "classes": " directed  multiple_edges ",
       "data": {
        "id": "horsepower_acceleration",
        "source": "horsepower",
        "target": "acceleration"
       },
       "removed": true,
       "selectable": false
      }
     },
     "8e127997d8314c24a924ff7fd36781fb": {
      "model_module": "jupyter-cytoscape",
      "model_module_version": "^1.2.2",
      "model_name": "NodeModel",
      "state": {
       "_model_module_version": "^1.2.2",
       "_view_module_version": "^1.2.2",
       "data": {
        "id": "acceleration",
        "label": "acceleration"
       },
       "grabbable": true,
       "grabbed": false,
       "position": {
        "x": 597.4340330361491,
        "y": 297.87127869548584
       },
       "removed": true,
       "selectable": false
      }
     },
     "8e4e539947e94efeb4ca68271e888d97": {
      "model_module": "jupyter-cytoscape",
      "model_module_version": "^1.2.2",
      "model_name": "EdgeModel",
      "state": {
       "_model_module_version": "^1.2.2",
       "_view_module_version": "^1.2.2",
       "classes": " directed  multiple_edges ",
       "data": {
        "id": "displacement_weight",
        "source": "displacement",
        "target": "weight"
       },
       "selectable": false
      }
     },
     "8e72d0d81d70435fb9a8df54dc7390b8": {
      "model_module": "jupyter-cytoscape",
      "model_module_version": "^1.2.2",
      "model_name": "EdgeModel",
      "state": {
       "_model_module_version": "^1.2.2",
       "_view_module_version": "^1.2.2",
       "classes": " directed  multiple_edges ",
       "data": {
        "id": "horsepower_acceleration",
        "source": "horsepower",
        "target": "acceleration"
       },
       "selectable": false
      }
     },
     "8e7c3ace8e9d4b1bb59ecba112dec6fe": {
      "model_module": "jupyter-cytoscape",
      "model_module_version": "^1.2.2",
      "model_name": "NodeModel",
      "state": {
       "_model_module_version": "^1.2.2",
       "_view_module_version": "^1.2.2",
       "data": {
        "id": "origin",
        "label": "origin"
       },
       "grabbable": true,
       "grabbed": false,
       "position": {
        "x": 492.73548508808767,
        "y": 163.54320824648752
       },
       "selectable": false
      }
     },
     "8eb2bfd0a4034ca0ab68ce4028cc3fd0": {
      "model_module": "jupyter-cytoscape",
      "model_module_version": "^1.2.2",
      "model_name": "EdgeModel",
      "state": {
       "_model_module_version": "^1.2.2",
       "_view_module_version": "^1.2.2",
       "classes": " directed  multiple_edges ",
       "data": {
        "id": "displacement_cylinders",
        "source": "displacement",
        "target": "cylinders"
       },
       "selectable": false
      }
     },
     "8eb5d278d4a241dea58f324453e66ac0": {
      "model_module": "jupyter-cytoscape",
      "model_module_version": "^1.2.2",
      "model_name": "EdgeModel",
      "state": {
       "_model_module_version": "^1.2.2",
       "_view_module_version": "^1.2.2",
       "classes": " directed  multiple_edges ",
       "data": {
        "id": "origin_horsepower",
        "source": "origin",
        "target": "horsepower"
       },
       "selectable": false
      }
     },
     "8ecb7e0aee9d40c7bbde437d566cef4b": {
      "model_module": "jupyter-cytoscape",
      "model_module_version": "^1.2.2",
      "model_name": "NodeModel",
      "state": {
       "_model_module_version": "^1.2.2",
       "_view_module_version": "^1.2.2",
       "data": {
        "id": "mpg",
        "label": "mpg"
       },
       "grabbable": true,
       "grabbed": false,
       "position": {
        "x": 603.6933467883451,
        "y": 108.66396645389403
       },
       "removed": true,
       "selectable": false
      }
     },
     "8ed7b11f331e4dfe9f11b5f4a791b133": {
      "model_module": "jupyter-cytoscape",
      "model_module_version": "^1.2.2",
      "model_name": "EdgeModel",
      "state": {
       "_model_module_version": "^1.2.2",
       "_view_module_version": "^1.2.2",
       "classes": " directed  multiple_edges ",
       "data": {
        "id": "model_year_acceleration",
        "source": "model_year",
        "target": "acceleration"
       },
       "removed": true,
       "selectable": false
      }
     },
     "8f26aa2bbf5a45979d540f3dacd88d91": {
      "model_module": "jupyter-cytoscape",
      "model_module_version": "^1.2.2",
      "model_name": "EdgeModel",
      "state": {
       "_model_module_version": "^1.2.2",
       "_view_module_version": "^1.2.2",
       "classes": " directed  multiple_edges ",
       "data": {
        "id": "displacement_cylinders",
        "source": "displacement",
        "target": "cylinders"
       },
       "selectable": false
      }
     },
     "8f2a5901a73c459cbb5db233333598bf": {
      "model_module": "@jupyter-widgets/base",
      "model_module_version": "1.2.0",
      "model_name": "LayoutModel",
      "state": {}
     },
     "8f36876a9f544f428bd6829468f9f706": {
      "model_module": "jupyter-cytoscape",
      "model_module_version": "^1.2.2",
      "model_name": "NodeModel",
      "state": {
       "_model_module_version": "^1.2.2",
       "_view_module_version": "^1.2.2",
       "data": {
        "id": "displacement",
        "label": "displacement"
       },
       "grabbable": true,
       "grabbed": false,
       "position": {
        "x": 1012.3412849858775,
        "y": 284.24756931696896
       },
       "selectable": false
      }
     },
     "8f4d77058aa94c30a5d144c5ef25d46f": {
      "model_module": "jupyter-cytoscape",
      "model_module_version": "^1.2.2",
      "model_name": "EdgeModel",
      "state": {
       "_model_module_version": "^1.2.2",
       "_view_module_version": "^1.2.2",
       "classes": " directed  multiple_edges ",
       "data": {
        "id": "model_year_mpg",
        "source": "model_year",
        "target": "mpg"
       },
       "removed": true,
       "selectable": false
      }
     },
     "8f4d787578984d579543296d11640a32": {
      "model_module": "jupyter-cytoscape",
      "model_module_version": "^1.2.2",
      "model_name": "NodeModel",
      "state": {
       "_model_module_version": "^1.2.2",
       "_view_module_version": "^1.2.2",
       "data": {
        "id": "model_year",
        "label": "model_year"
       },
       "grabbable": true,
       "grabbed": false,
       "position": {
        "x": 558.1936891528466,
        "y": 225.0624919515628
       },
       "removed": true,
       "selectable": false
      }
     },
     "8f553626f43c46528b810d4e6b0f837a": {
      "model_module": "jupyter-cytoscape",
      "model_module_version": "^1.2.2",
      "model_name": "EdgeModel",
      "state": {
       "_model_module_version": "^1.2.2",
       "_view_module_version": "^1.2.2",
       "classes": " directed  multiple_edges ",
       "data": {
        "id": "displacement_cylinders",
        "source": "displacement",
        "target": "cylinders"
       },
       "selectable": false
      }
     },
     "8f669d5e93274a89a31aacd6b6b19f71": {
      "model_module": "@jupyter-widgets/base",
      "model_module_version": "1.2.0",
      "model_name": "LayoutModel",
      "state": {}
     },
     "8f7651d18d7d4a9fa2f9bfe2f07d9c7e": {
      "model_module": "jupyter-cytoscape",
      "model_module_version": "^1.2.2",
      "model_name": "EdgeModel",
      "state": {
       "_model_module_version": "^1.2.2",
       "_view_module_version": "^1.2.2",
       "classes": " directed  multiple_edges ",
       "data": {
        "id": "weight_horsepower",
        "source": "weight",
        "target": "horsepower"
       },
       "selectable": false
      }
     },
     "8ff133d682db4096b8bb23ca5d3616ae": {
      "model_module": "jupyter-cytoscape",
      "model_module_version": "^1.2.2",
      "model_name": "EdgeModel",
      "state": {
       "_model_module_version": "^1.2.2",
       "_view_module_version": "^1.2.2",
       "classes": " directed  multiple_edges ",
       "data": {
        "id": "weight_mpg",
        "source": "weight",
        "target": "mpg"
       },
       "removed": true,
       "selectable": false
      }
     },
     "905f87f3fd694a08859bcc7b7d0d045d": {
      "model_module": "jupyter-cytoscape",
      "model_module_version": "^1.2.2",
      "model_name": "EdgeModel",
      "state": {
       "_model_module_version": "^1.2.2",
       "_view_module_version": "^1.2.2",
       "classes": " directed  multiple_edges ",
       "data": {
        "id": "weight_acceleration",
        "source": "weight",
        "target": "acceleration"
       },
       "removed": true,
       "selectable": false
      }
     },
     "90608b913a924808a61150286830103b": {
      "model_module": "jupyter-cytoscape",
      "model_module_version": "^1.2.2",
      "model_name": "NodeModel",
      "state": {
       "_model_module_version": "^1.2.2",
       "_view_module_version": "^1.2.2",
       "data": {
        "id": "horsepower",
        "label": "horsepower"
       },
       "grabbable": true,
       "grabbed": false,
       "position": {
        "x": 579.0624766836064,
        "y": 213.55132768320664
       },
       "selectable": false
      }
     },
     "9064f79b0a4345eabdb863dbb4db0a79": {
      "model_module": "jupyter-cytoscape",
      "model_module_version": "^1.2.2",
      "model_name": "EdgeModel",
      "state": {
       "_model_module_version": "^1.2.2",
       "_view_module_version": "^1.2.2",
       "classes": " directed  multiple_edges ",
       "data": {
        "id": "model_year_mpg",
        "source": "model_year",
        "target": "mpg"
       },
       "removed": true,
       "selectable": false
      }
     },
     "907af4cced414dfebb0d9ba872f7e198": {
      "model_module": "jupyter-cytoscape",
      "model_module_version": "^1.2.2",
      "model_name": "NodeModel",
      "state": {
       "_model_module_version": "^1.2.2",
       "_view_module_version": "^1.2.2",
       "data": {
        "id": "model_year",
        "label": "model_year"
       },
       "grabbable": true,
       "grabbed": false,
       "position": {
        "x": 558.1635343662905,
        "y": 225.07364057090456
       },
       "removed": true,
       "selectable": false
      }
     },
     "908d75b9581145ac85d78be24dfe499d": {
      "model_module": "jupyter-cytoscape",
      "model_module_version": "^1.2.2",
      "model_name": "EdgeModel",
      "state": {
       "_model_module_version": "^1.2.2",
       "_view_module_version": "^1.2.2",
       "classes": " directed  multiple_edges ",
       "data": {
        "id": "model_year_cylinders",
        "source": "model_year",
        "target": "cylinders"
       },
       "selectable": false
      }
     },
     "90a7102ec58343f29a6b287f9db65653": {
      "model_module": "@jupyter-widgets/controls",
      "model_module_version": "1.5.0",
      "model_name": "ButtonStyleModel",
      "state": {}
     },
     "90affe732e16402989f39123d5fc8fcf": {
      "model_module": "@jupyter-widgets/controls",
      "model_module_version": "1.5.0",
      "model_name": "ButtonStyleModel",
      "state": {}
     },
     "90dc83b0f0054bbdb775fe010c1d2464": {
      "model_module": "jupyter-cytoscape",
      "model_module_version": "^1.2.2",
      "model_name": "EdgeModel",
      "state": {
       "_model_module_version": "^1.2.2",
       "_view_module_version": "^1.2.2",
       "classes": " directed  multiple_edges ",
       "data": {
        "id": "model_year_mpg",
        "source": "model_year",
        "target": "mpg"
       },
       "removed": true,
       "selectable": false
      }
     },
     "90f71833036b498b9c86a5f32ac9bd7c": {
      "model_module": "@jupyter-widgets/base",
      "model_module_version": "1.2.0",
      "model_name": "LayoutModel",
      "state": {}
     },
     "91310c6edb104932a9a53e21d0eb8736": {
      "model_module": "jupyter-cytoscape",
      "model_module_version": "^1.2.2",
      "model_name": "NodeModel",
      "state": {
       "_model_module_version": "^1.2.2",
       "_view_module_version": "^1.2.2",
       "data": {
        "id": "displacement",
        "label": "displacement"
       },
       "grabbable": true,
       "grabbed": false,
       "position": {
        "x": 1116.353276371285,
        "y": 153.7986500095485
       },
       "removed": true,
       "selectable": false
      }
     },
     "9147f551e9f94ab1894d4941664473f2": {
      "model_module": "@jupyter-widgets/base",
      "model_module_version": "1.2.0",
      "model_name": "LayoutModel",
      "state": {}
     },
     "916ce049397841fdaefbe2116b200208": {
      "model_module": "jupyter-cytoscape",
      "model_module_version": "^1.2.2",
      "model_name": "NodeModel",
      "state": {
       "_model_module_version": "^1.2.2",
       "_view_module_version": "^1.2.2",
       "data": {
        "id": "origin",
        "label": "origin"
       },
       "grabbable": true,
       "grabbed": false,
       "position": {
        "x": 1116.403800522354,
        "y": 118.33971127548489
       },
       "removed": true,
       "selectable": false
      }
     },
     "91855dc1c828430faf04ff79e07b72a4": {
      "model_module": "jupyter-cytoscape",
      "model_module_version": "^1.2.2",
      "model_name": "EdgeModel",
      "state": {
       "_model_module_version": "^1.2.2",
       "_view_module_version": "^1.2.2",
       "classes": " directed  multiple_edges ",
       "data": {
        "id": "model_year_mpg",
        "source": "model_year",
        "target": "mpg"
       },
       "selectable": false
      }
     },
     "918efe6c0edb43c5b1dc9176de622fd2": {
      "model_module": "jupyter-cytoscape",
      "model_module_version": "^1.2.2",
      "model_name": "EdgeModel",
      "state": {
       "_model_module_version": "^1.2.2",
       "_view_module_version": "^1.2.2",
       "classes": " directed  multiple_edges ",
       "data": {
        "id": "cylinders_origin",
        "source": "cylinders",
        "target": "origin"
       },
       "selectable": false
      }
     },
     "921638bd7cec44e492483133eef84501": {
      "model_module": "jupyter-cytoscape",
      "model_module_version": "^1.2.2",
      "model_name": "EdgeModel",
      "state": {
       "_model_module_version": "^1.2.2",
       "_view_module_version": "^1.2.2",
       "classes": " directed  multiple_edges ",
       "data": {
        "id": "model_year_weight",
        "source": "model_year",
        "target": "weight"
       },
       "selectable": false
      }
     },
     "9218b6aefff4497cb8eb8414d024f551": {
      "model_module": "jupyter-cytoscape",
      "model_module_version": "^1.2.2",
      "model_name": "EdgeModel",
      "state": {
       "_model_module_version": "^1.2.2",
       "_view_module_version": "^1.2.2",
       "classes": " directed  multiple_edges ",
       "data": {
        "id": "origin_horsepower",
        "source": "origin",
        "target": "horsepower"
       },
       "selectable": false
      }
     },
     "923591c8c81a4de18c813607b263e70b": {
      "model_module": "@jupyter-widgets/base",
      "model_module_version": "1.2.0",
      "model_name": "LayoutModel",
      "state": {}
     },
     "923c82c940404611bc74e7d77edb9662": {
      "model_module": "jupyter-cytoscape",
      "model_module_version": "^1.2.2",
      "model_name": "EdgeModel",
      "state": {
       "_model_module_version": "^1.2.2",
       "_view_module_version": "^1.2.2",
       "classes": " directed  multiple_edges ",
       "data": {
        "id": "model_year_cylinders",
        "source": "model_year",
        "target": "cylinders"
       },
       "removed": true,
       "selectable": false
      }
     },
     "92680ee23ac1423186fc8981656f8d5b": {
      "model_module": "jupyter-cytoscape",
      "model_module_version": "^1.2.2",
      "model_name": "NodeModel",
      "state": {
       "_model_module_version": "^1.2.2",
       "_view_module_version": "^1.2.2",
       "data": {
        "id": "weight",
        "label": "weight"
       },
       "grabbable": true,
       "grabbed": false,
       "position": {
        "x": 1022.79602333815,
        "y": 208.53384173407872
       },
       "removed": true,
       "selectable": false
      }
     },
     "928bb92987db4c2b89f6ad402638163b": {
      "model_module": "jupyter-cytoscape",
      "model_module_version": "^1.2.2",
      "model_name": "EdgeModel",
      "state": {
       "_model_module_version": "^1.2.2",
       "_view_module_version": "^1.2.2",
       "classes": " directed  multiple_edges ",
       "data": {
        "id": "displacement_weight",
        "source": "displacement",
        "target": "weight"
       },
       "selectable": false
      }
     },
     "92b2288a36cb444d840756692162ec74": {
      "model_module": "jupyter-cytoscape",
      "model_module_version": "^1.2.2",
      "model_name": "EdgeModel",
      "state": {
       "_model_module_version": "^1.2.2",
       "_view_module_version": "^1.2.2",
       "classes": " directed  multiple_edges ",
       "data": {
        "id": "horsepower_acceleration",
        "source": "horsepower",
        "target": "acceleration"
       },
       "selectable": false
      }
     },
     "92f5728273b04a76b0055d46fcb407c8": {
      "model_module": "@jupyter-widgets/base",
      "model_module_version": "1.2.0",
      "model_name": "LayoutModel",
      "state": {}
     },
     "93040d6a859f458abef829a5b327d4fb": {
      "model_module": "@jupyter-widgets/controls",
      "model_module_version": "1.5.0",
      "model_name": "ButtonModel",
      "state": {
       "description": "Add Edge",
       "disabled": true,
       "layout": "IPY_MODEL_c24b3c3c7a0747a099f8ebfdd21a805b",
       "style": "IPY_MODEL_2041fc936c514e7fb0276b3a32ad4b58"
      }
     },
     "9305ab486666401bb553b538c0697175": {
      "model_module": "jupyter-cytoscape",
      "model_module_version": "^1.2.2",
      "model_name": "EdgeModel",
      "state": {
       "_model_module_version": "^1.2.2",
       "_view_module_version": "^1.2.2",
       "classes": " directed  multiple_edges ",
       "data": {
        "id": "model_year_acceleration",
        "source": "model_year",
        "target": "acceleration"
       },
       "selectable": false
      }
     },
     "934fabf2a28c4ae8925a240e36d2cf8e": {
      "model_module": "jupyter-cytoscape",
      "model_module_version": "^1.2.2",
      "model_name": "EdgeModel",
      "state": {
       "_model_module_version": "^1.2.2",
       "_view_module_version": "^1.2.2",
       "classes": " directed  multiple_edges ",
       "data": {
        "id": "displacement_acceleration",
        "source": "displacement",
        "target": "acceleration"
       },
       "selectable": false
      }
     },
     "93541b6d9f454b35a072878c52db948f": {
      "model_module": "jupyter-cytoscape",
      "model_module_version": "^1.2.2",
      "model_name": "EdgeModel",
      "state": {
       "_model_module_version": "^1.2.2",
       "_view_module_version": "^1.2.2",
       "classes": " directed  multiple_edges ",
       "data": {
        "id": "displacement_horsepower",
        "source": "displacement",
        "target": "horsepower"
       },
       "removed": true,
       "selectable": false
      }
     },
     "938e84ad403b478bb523503310fa85c4": {
      "model_module": "jupyter-cytoscape",
      "model_module_version": "^1.2.2",
      "model_name": "EdgeModel",
      "state": {
       "_model_module_version": "^1.2.2",
       "_view_module_version": "^1.2.2",
       "classes": " directed  multiple_edges ",
       "data": {
        "id": "weight_acceleration",
        "source": "weight",
        "target": "acceleration"
       },
       "selectable": false
      }
     },
     "939f1b8246b4404285edae7d85094655": {
      "model_module": "jupyter-cytoscape",
      "model_module_version": "^1.2.2",
      "model_name": "NodeModel",
      "state": {
       "_model_module_version": "^1.2.2",
       "_view_module_version": "^1.2.2",
       "data": {
        "id": "horsepower",
        "label": "horsepower"
       },
       "grabbable": true,
       "grabbed": false,
       "position": {
        "x": 644.5102496002959,
        "y": 102.86932675050416
       },
       "selectable": false
      }
     },
     "93afffff768841479286b7f1c9e2973a": {
      "model_module": "jupyter-cytoscape",
      "model_module_version": "^1.2.2",
      "model_name": "NodeModel",
      "state": {
       "_model_module_version": "^1.2.2",
       "_view_module_version": "^1.2.2",
       "data": {
        "id": "displacement",
        "label": "displacement"
       },
       "grabbable": true,
       "grabbed": false,
       "position": {
        "x": 986.0160495702135,
        "y": 184.92843370708874
       },
       "removed": true,
       "selectable": false
      }
     },
     "93bffe1e06b14dbd8425bfae6106acf8": {
      "model_module": "jupyter-cytoscape",
      "model_module_version": "^1.2.2",
      "model_name": "GraphModel",
      "state": {
       "_adj": {
        "acceleration": {},
        "cylinders": {},
        "displacement": {},
        "horsepower": {},
        "model_year": {},
        "mpg": {},
        "origin": {},
        "weight": {}
       },
       "_model_module_version": "^1.2.2",
       "_view_module": "jupyter-cytoscape",
       "_view_module_version": "^1.2.2",
       "edges": [
        "IPY_MODEL_ef0d581dbdc9422e8eb34fa5d8a6d063",
        "IPY_MODEL_eff58513abbe42dfa631229c5ad4e7b9",
        "IPY_MODEL_bfaeb34e724e42bdb363a70c74c9007c",
        "IPY_MODEL_a0a0adc6c6fc43ff88e5aa3696fce047",
        "IPY_MODEL_5e61af2919f44e1d9d6611b982511bae",
        "IPY_MODEL_adc1e547ff604f80ba691e115fd41530",
        "IPY_MODEL_ca11cda4dc794b5a850862c37418e679",
        "IPY_MODEL_f6ee9f6598074243adfdd6d3240d5b7e",
        "IPY_MODEL_594c187c898a4cdf8115381941b221ff",
        "IPY_MODEL_62fc9e54764b413db7156403021b420b",
        "IPY_MODEL_fdc0fb0a85c44103b7366302f39d077b",
        "IPY_MODEL_d5995807f43c44a1826db790290080e5",
        "IPY_MODEL_29cbea4b92b24511a0acf2deb0fe1203",
        "IPY_MODEL_31159fe69ba44f3195e26389a3c94db1",
        "IPY_MODEL_7f25952efefc4136b6b7e2ff83dd0f5b",
        "IPY_MODEL_9d58b8194c4e4f15a8a9c72f16c0c71b"
       ],
       "nodes": [
        "IPY_MODEL_6ec3ef91573a4fe8955614959a5fedf3",
        "IPY_MODEL_5c3d7cb282b94b719bbc17361d77aafc",
        "IPY_MODEL_1d7bb7633ee44abf8206b0bc333ca325",
        "IPY_MODEL_104619fd39a7458e9401fea69f14b715",
        "IPY_MODEL_78e45853202b47e8a1428c40907bc393",
        "IPY_MODEL_d031ab4b31f047e7af4f7494bcd103b7",
        "IPY_MODEL_09d83210c64d4bd5979e208f1a9a57e0",
        "IPY_MODEL_cacc0d3ef07b463b8ea14539ff19359a"
       ]
      }
     },
     "93fd110b35374a2f923bbeab13e45dc9": {
      "model_module": "jupyter-cytoscape",
      "model_module_version": "^1.2.2",
      "model_name": "NodeModel",
      "state": {
       "_model_module_version": "^1.2.2",
       "_view_module_version": "^1.2.2",
       "data": {
        "id": "weight",
        "label": "weight"
       },
       "grabbable": true,
       "grabbed": false,
       "position": {
        "x": 644.1038596983955,
        "y": 255.9492168408747
       },
       "selectable": false
      }
     },
     "9470d92433c7484595e90a91e1daadbf": {
      "model_module": "jupyter-cytoscape",
      "model_module_version": "^1.2.2",
      "model_name": "EdgeModel",
      "state": {
       "_model_module_version": "^1.2.2",
       "_view_module_version": "^1.2.2",
       "classes": " directed  multiple_edges ",
       "data": {
        "id": "displacement_horsepower",
        "source": "displacement",
        "target": "horsepower"
       },
       "selectable": false
      }
     },
     "947b9af412f543dbb504707bf47cce6b": {
      "model_module": "jupyter-cytoscape",
      "model_module_version": "^1.2.2",
      "model_name": "EdgeModel",
      "state": {
       "_model_module_version": "^1.2.2",
       "_view_module_version": "^1.2.2",
       "classes": " directed  multiple_edges ",
       "data": {
        "id": "model_year_mpg",
        "source": "model_year",
        "target": "mpg"
       },
       "selectable": false
      }
     },
     "9482998c0b5641eaba8df3c6d1efa792": {
      "model_module": "jupyter-cytoscape",
      "model_module_version": "^1.2.2",
      "model_name": "NodeModel",
      "state": {
       "_model_module_version": "^1.2.2",
       "_view_module_version": "^1.2.2",
       "data": {
        "id": "mpg",
        "label": "mpg"
       },
       "grabbable": true,
       "grabbed": false,
       "position": {
        "x": 854.9568940063632,
        "y": 259.75272583656084
       },
       "removed": true,
       "selectable": false
      }
     },
     "9487ea09e8994daca22f91d9ce32ba3f": {
      "model_module": "jupyter-cytoscape",
      "model_module_version": "^1.2.2",
      "model_name": "NodeModel",
      "state": {
       "_model_module_version": "^1.2.2",
       "_view_module_version": "^1.2.2",
       "data": {
        "id": "origin",
        "label": "origin"
       },
       "grabbable": true,
       "grabbed": false,
       "position": {
        "x": 491.648681175134,
        "y": 125.00565671664644
       },
       "removed": true,
       "selectable": false
      }
     },
     "948e99c634374d6c84efd43c02054d59": {
      "model_module": "jupyter-cytoscape",
      "model_module_version": "^1.2.2",
      "model_name": "EdgeModel",
      "state": {
       "_model_module_version": "^1.2.2",
       "_view_module_version": "^1.2.2",
       "classes": " directed  multiple_edges ",
       "data": {
        "id": "model_year_mpg",
        "source": "model_year",
        "target": "mpg"
       },
       "selectable": false
      }
     },
     "94a13cdc5d074fbb892911a7f3cca566": {
      "model_module": "jupyter-cytoscape",
      "model_module_version": "^1.2.2",
      "model_name": "NodeModel",
      "state": {
       "_model_module_version": "^1.2.2",
       "_view_module_version": "^1.2.2",
       "data": {
        "id": "cylinders",
        "label": "cylinders"
       },
       "grabbable": true,
       "grabbed": false,
       "position": {
        "x": 1170.3031156563977,
        "y": 192.62214361379904
       },
       "removed": true,
       "selectable": false
      }
     },
     "94b698625f65481fa4e42c9dfd10f284": {
      "model_module": "jupyter-cytoscape",
      "model_module_version": "^1.2.2",
      "model_name": "NodeModel",
      "state": {
       "_model_module_version": "^1.2.2",
       "_view_module_version": "^1.2.2",
       "data": {
        "id": "acceleration",
        "label": "acceleration"
       },
       "grabbable": true,
       "grabbed": false,
       "position": {
        "x": 1101.656574071263,
        "y": 336.32518780799865
       },
       "selectable": false
      }
     },
     "94e09886348b4895b8663cc51e7e38b0": {
      "model_module": "jupyter-cytoscape",
      "model_module_version": "^1.2.2",
      "model_name": "NodeModel",
      "state": {
       "_model_module_version": "^1.2.2",
       "_view_module_version": "^1.2.2",
       "data": {
        "id": "model_year",
        "label": "model_year"
       },
       "grabbable": true,
       "grabbed": false,
       "position": {
        "x": 559.3412859858755,
        "y": 263.5513286832067
       },
       "selectable": false
      }
     },
     "94e206baf459475f90453072c56296da": {
      "model_module": "@jupyter-widgets/controls",
      "model_module_version": "1.5.0",
      "model_name": "ButtonStyleModel",
      "state": {}
     },
     "95044b161b364345a9c811353f001f8b": {
      "model_module": "@jupyter-widgets/controls",
      "model_module_version": "1.5.0",
      "model_name": "ButtonModel",
      "state": {
       "description": "Add Edge",
       "disabled": true,
       "layout": "IPY_MODEL_a58205d5d5924161b0d8c8607f2245bc",
       "style": "IPY_MODEL_518583a82a7c4c2f9d314c9e07fbc990"
      }
     },
     "9553af787b324c2da90c5d0da4c5f43b": {
      "model_module": "jupyter-cytoscape",
      "model_module_version": "^1.2.2",
      "model_name": "EdgeModel",
      "state": {
       "_model_module_version": "^1.2.2",
       "_view_module_version": "^1.2.2",
       "classes": " multiple_edges directed selected",
       "data": {
        "id": "weight_horsepower",
        "source": "weight",
        "target": "horsepower"
       },
       "removed": true,
       "selectable": false
      }
     },
     "958ec4dd4d63427dabbb974b2de12c8a": {
      "model_module": "jupyter-cytoscape",
      "model_module_version": "^1.2.2",
      "model_name": "NodeModel",
      "state": {
       "_model_module_version": "^1.2.2",
       "_view_module_version": "^1.2.2",
       "data": {
        "id": "weight",
        "label": "weight"
       },
       "grabbable": true,
       "grabbed": false,
       "position": {
        "x": 644.1038596983955,
        "y": 255.9492168408747
       },
       "selectable": false
      }
     },
     "9596e2794a9d49088d0df0fd418f832b": {
      "model_module": "@jupyter-widgets/base",
      "model_module_version": "1.2.0",
      "model_name": "LayoutModel",
      "state": {}
     },
     "959ee48288314e2c8e6f0d63ac3ed9bf": {
      "model_module": "jupyter-cytoscape",
      "model_module_version": "^1.2.2",
      "model_name": "EdgeModel",
      "state": {
       "_model_module_version": "^1.2.2",
       "_view_module_version": "^1.2.2",
       "classes": " directed  multiple_edges ",
       "data": {
        "id": "displacement_horsepower",
        "source": "displacement",
        "target": "horsepower"
       },
       "selectable": false
      }
     },
     "95d9707304324233a0b949b2ea488b10": {
      "model_module": "jupyter-cytoscape",
      "model_module_version": "^1.2.2",
      "model_name": "NodeModel",
      "state": {
       "_model_module_version": "^1.2.2",
       "_view_module_version": "^1.2.2",
       "data": {
        "id": "weight",
        "label": "weight"
       },
       "grabbable": true,
       "grabbed": false,
       "position": {
        "x": 1147.1038596983974,
        "y": 255.94921684087447
       },
       "selectable": false
      }
     },
     "960f3946071d4563b533b1f56618f5cf": {
      "model_module": "jupyter-cytoscape",
      "model_module_version": "^1.2.2",
      "model_name": "NodeModel",
      "state": {
       "_model_module_version": "^1.2.2",
       "_view_module_version": "^1.2.2",
       "data": {
        "id": "weight",
        "label": "weight"
       },
       "grabbable": true,
       "grabbed": false,
       "position": {
        "x": 1006.099953139987,
        "y": 177.7336746244115
       },
       "removed": true,
       "selectable": false
      }
     },
     "964d359bcb074b0b95fb8b2a34541611": {
      "model_module": "@jupyter-widgets/controls",
      "model_module_version": "1.5.0",
      "model_name": "ButtonModel",
      "state": {
       "description": "Add Edge",
       "disabled": true,
       "layout": "IPY_MODEL_2fad9f7e49d54e8a83a873154a9a345d",
       "style": "IPY_MODEL_12b77d83529f4e19a5d9903358657d1a"
      }
     },
     "9660436dac4d4b31880c16593f91ff81": {
      "model_module": "jupyter-cytoscape",
      "model_module_version": "^1.2.2",
      "model_name": "NodeModel",
      "state": {
       "_model_module_version": "^1.2.2",
       "_view_module_version": "^1.2.2",
       "data": {
        "id": "origin",
        "label": "origin"
       },
       "grabbable": true,
       "grabbed": false,
       "position": {
        "x": 816.552111815521,
        "y": 86.55325478918817
       },
       "selectable": false
      }
     },
     "9661dda82a1a4017afb675f9e9339df0": {
      "model_module": "jupyter-cytoscape",
      "model_module_version": "^1.2.2",
      "model_name": "NodeModel",
      "state": {
       "_model_module_version": "^1.2.2",
       "_view_module_version": "^1.2.2",
       "data": {
        "id": "cylinders",
        "label": "cylinders"
       },
       "grabbable": true,
       "grabbed": false,
       "position": {
        "x": 686.7141853123339,
        "y": 4.125890671542617
       },
       "selectable": false
      }
     },
     "96df237a9cda4915afa6b8b896810711": {
      "model_module": "jupyter-cytoscape",
      "model_module_version": "^1.2.2",
      "model_name": "EdgeModel",
      "state": {
       "_model_module_version": "^1.2.2",
       "_view_module_version": "^1.2.2",
       "classes": " directed  multiple_edges ",
       "data": {
        "id": "horsepower_origin",
        "source": "horsepower",
        "target": "origin"
       },
       "selectable": false
      }
     },
     "970830544179497ebf1eeb7ddccc741d": {
      "model_module": "@jupyter-widgets/controls",
      "model_module_version": "1.5.0",
      "model_name": "ButtonStyleModel",
      "state": {}
     },
     "973e659a8fb7405395049b87c9bc74be": {
      "model_module": "@jupyter-widgets/base",
      "model_module_version": "1.2.0",
      "model_name": "LayoutModel",
      "state": {}
     },
     "97449d5c5449453c9bfce59eac74b900": {
      "model_module": "jupyter-cytoscape",
      "model_module_version": "^1.2.2",
      "model_name": "NodeModel",
      "state": {
       "_model_module_version": "^1.2.2",
       "_view_module_version": "^1.2.2",
       "data": {
        "id": "displacement",
        "label": "displacement"
       },
       "grabbable": true,
       "grabbed": false,
       "position": {
        "x": 509.3412849858755,
        "y": 284.2475693169692
       },
       "selectable": false
      }
     },
     "97868a7469684842b0e8f50506fbe1ce": {
      "model_module": "jupyter-cytoscape",
      "model_module_version": "^1.2.2",
      "model_name": "EdgeModel",
      "state": {
       "_model_module_version": "^1.2.2",
       "_view_module_version": "^1.2.2",
       "classes": " directed  multiple_edges ",
       "data": {
        "id": "displacement_horsepower",
        "source": "displacement",
        "target": "horsepower"
       },
       "removed": true,
       "selectable": false
      }
     },
     "97a7891656304351a242e938b6e7e0d1": {
      "model_module": "jupyter-cytoscape",
      "model_module_version": "^1.2.2",
      "model_name": "EdgeModel",
      "state": {
       "_model_module_version": "^1.2.2",
       "_view_module_version": "^1.2.2",
       "classes": " directed  multiple_edges ",
       "data": {
        "id": "model_year_weight",
        "source": "model_year",
        "target": "weight"
       },
       "removed": true,
       "selectable": false
      }
     },
     "97ad19cba0be4f5dbda893bf1ab85cbc": {
      "model_module": "@jupyter-widgets/controls",
      "model_module_version": "1.5.0",
      "model_name": "ButtonModel",
      "state": {
       "description": "Change Direction",
       "disabled": true,
       "layout": "IPY_MODEL_a20fcdf0d4394d8384038fca872de7a3",
       "style": "IPY_MODEL_5d46a4f6880946ea9d0bf910d35ff889"
      }
     },
     "97adab62ea3b45b9be1c3f3b854bfe05": {
      "model_module": "@jupyter-widgets/base",
      "model_module_version": "1.2.0",
      "model_name": "LayoutModel",
      "state": {}
     },
     "980f0ec808cd4190841a00d01fe0c503": {
      "model_module": "jupyter-cytoscape",
      "model_module_version": "^1.2.2",
      "model_name": "NodeModel",
      "state": {
       "_model_module_version": "^1.2.2",
       "_view_module_version": "^1.2.2",
       "data": {
        "id": "acceleration",
        "label": "acceleration"
       },
       "grabbable": true,
       "grabbed": false,
       "position": {
        "x": 1101.656574071263,
        "y": 336.32518780799865
       },
       "selectable": false
      }
     },
     "9831e1f1bb6243ebaa5aad097b9ebd3f": {
      "model_module": "jupyter-cytoscape",
      "model_module_version": "^1.2.2",
      "model_name": "CytoscapeModel",
      "state": {
       "_interaction_handlers": {
        "edge": [
         "click"
        ],
        "node": [
         "click"
        ]
       },
       "_model_module_version": "^1.2.2",
       "_view_module_version": "^1.2.2",
       "auto_ungrabify": false,
       "autolock": false,
       "cytoscape_layout": {
        "name": "cola"
       },
       "cytoscape_style": [
        {
         "selector": "node",
         "style": {
          "background-color": "blue",
          "font-family": "arial",
          "font-size": "10px",
          "label": "data(label)"
         }
        },
        {
         "selector": "edge",
         "style": {
          "curve-style": "bezier",
          "line-color": "#9dbaea",
          "target-arrow-color": "#9dbaea",
          "target-arrow-shape": "triangle",
          "width": 4
         }
        },
        {
         "css": {
          "line-color": "red"
         },
         "selector": "edge.selected"
        },
        {
         "css": {
          "background-color": "red"
         },
         "selector": "node.selected"
        }
       ],
       "desktop_tap_threshold": 4,
       "graph": "IPY_MODEL_4fbd56930bd6402eb9a8410a0b91a99a",
       "headless": false,
       "hide_edges_on_viewport": false,
       "layout": "IPY_MODEL_d5d3ebc844754693b051464be4ce8e9e",
       "max_zoom": 1e+50,
       "min_zoom": 1e-50,
       "motion_blur": false,
       "motion_blur_opacity": 0.2,
       "panning_enabled": true,
       "pixel_ratio": "auto",
       "rendered_position": {
        "renderedPosition": {
         "x": 100,
         "y": 100
        }
       },
       "selection_type": "single",
       "style_enabled": true,
       "texture_on_viewport": false,
       "tooltip_source": "tooltip",
       "touch_tap_threshold": 8,
       "user_panning_enabled": true,
       "user_zooming_enabled": true,
       "wheel_sensitivity": 1,
       "zoom": 2,
       "zooming_enabled": true
      }
     },
     "98464ff0341841beb2ff1d43b81aa06a": {
      "model_module": "@jupyter-widgets/base",
      "model_module_version": "1.2.0",
      "model_name": "LayoutModel",
      "state": {}
     },
     "9875aea18d5c40dabadc012663dae2db": {
      "model_module": "jupyter-cytoscape",
      "model_module_version": "^1.2.2",
      "model_name": "EdgeModel",
      "state": {
       "_model_module_version": "^1.2.2",
       "_view_module_version": "^1.2.2",
       "classes": " directed  multiple_edges ",
       "data": {
        "id": "displacement_acceleration",
        "source": "displacement",
        "target": "acceleration"
       },
       "selectable": false
      }
     },
     "989e0556f9784a41b984f5e8a05901f0": {
      "model_module": "@jupyter-widgets/controls",
      "model_module_version": "1.5.0",
      "model_name": "ButtonModel",
      "state": {
       "description": "Delete Edge",
       "disabled": true,
       "layout": "IPY_MODEL_fc967c8df13c46089641d1f35bd70ffb",
       "style": "IPY_MODEL_d23be2359d2b4503b4ab9e24d2b52897"
      }
     },
     "98aa27d4cba945aaad091f98e8dbf414": {
      "model_module": "jupyter-cytoscape",
      "model_module_version": "^1.2.2",
      "model_name": "NodeModel",
      "state": {
       "_model_module_version": "^1.2.2",
       "_view_module_version": "^1.2.2",
       "data": {
        "id": "origin",
        "label": "origin"
       },
       "grabbable": true,
       "grabbed": false,
       "position": {
        "x": 492.73548508808767,
        "y": 163.54320824648752
       },
       "selectable": false
      }
     },
     "98b8841d59274b6a84c92f7cff299312": {
      "model_module": "jupyter-cytoscape",
      "model_module_version": "^1.2.2",
      "model_name": "NodeModel",
      "state": {
       "_model_module_version": "^1.2.2",
       "_view_module_version": "^1.2.2",
       "data": {
        "id": "mpg",
        "label": "mpg"
       },
       "grabbable": true,
       "grabbed": false,
       "position": {
        "x": 526.7341320711045,
        "y": 270.4959180259832
       },
       "selectable": false
      }
     },
     "98effb167f81418fbb833f5551fc82c0": {
      "model_module": "@jupyter-widgets/controls",
      "model_module_version": "1.5.0",
      "model_name": "ButtonStyleModel",
      "state": {}
     },
     "99031a29c662434a9b552f523b5f7325": {
      "model_module": "jupyter-cytoscape",
      "model_module_version": "^1.2.2",
      "model_name": "EdgeModel",
      "state": {
       "_model_module_version": "^1.2.2",
       "_view_module_version": "^1.2.2",
       "classes": " directed  multiple_edges ",
       "data": {
        "id": "horsepower_acceleration",
        "source": "horsepower",
        "target": "acceleration"
       },
       "selectable": false
      }
     },
     "99446a4ae7f041d6a4badb1e0f9e9dc1": {
      "model_module": "jupyter-cytoscape",
      "model_module_version": "^1.2.2",
      "model_name": "NodeModel",
      "state": {
       "_model_module_version": "^1.2.2",
       "_view_module_version": "^1.2.2",
       "data": {
        "id": "acceleration",
        "label": "acceleration"
       },
       "grabbable": true,
       "grabbed": false,
       "position": {
        "x": 434.56796603933975,
        "y": 119.2348115469867
       },
       "selectable": false
      }
     },
     "994755b6b62540da86f5f50bc37668c8": {
      "model_module": "jupyter-cytoscape",
      "model_module_version": "^1.2.2",
      "model_name": "EdgeModel",
      "state": {
       "_model_module_version": "^1.2.2",
       "_view_module_version": "^1.2.2",
       "classes": " directed  multiple_edges ",
       "data": {
        "id": "displacement_cylinders",
        "source": "displacement",
        "target": "cylinders"
       },
       "removed": true,
       "selectable": false
      }
     },
     "99a13849ce6f4505b0682ff72c149501": {
      "model_module": "jupyter-cytoscape",
      "model_module_version": "^1.2.2",
      "model_name": "EdgeModel",
      "state": {
       "_model_module_version": "^1.2.2",
       "_view_module_version": "^1.2.2",
       "classes": " directed  multiple_edges ",
       "data": {
        "id": "model_year_weight",
        "source": "model_year",
        "target": "weight"
       },
       "selectable": false
      }
     },
     "99a263c1b21648d9b81f54621b3b758b": {
      "model_module": "@jupyter-widgets/controls",
      "model_module_version": "1.5.0",
      "model_name": "ButtonStyleModel",
      "state": {}
     },
     "99a773ff4c274cf7971d7165fa028cd3": {
      "model_module": "jupyter-cytoscape",
      "model_module_version": "^1.2.2",
      "model_name": "NodeModel",
      "state": {
       "_model_module_version": "^1.2.2",
       "_view_module_version": "^1.2.2",
       "data": {
        "id": "mpg",
        "label": "mpg"
       },
       "grabbable": true,
       "grabbed": false,
       "position": {
        "x": 604.8409436213743,
        "y": 147.15280318553792
       },
       "selectable": false
      }
     },
     "99cb1dce869240f99a09dd1713cfc23f": {
      "model_module": "@jupyter-widgets/controls",
      "model_module_version": "1.5.0",
      "model_name": "ButtonStyleModel",
      "state": {}
     },
     "99e7f524aea84f9a9a8ae40f360e9cac": {
      "model_module": "jupyter-cytoscape",
      "model_module_version": "^1.2.2",
      "model_name": "CytoscapeModel",
      "state": {
       "_interaction_handlers": {
        "edge": [
         "click"
        ],
        "node": [
         "click"
        ]
       },
       "_model_module_version": "^1.2.2",
       "_view_module_version": "^1.2.2",
       "auto_ungrabify": false,
       "autolock": false,
       "cytoscape_layout": {
        "name": "cola"
       },
       "cytoscape_style": [
        {
         "selector": "node",
         "style": {
          "background-color": "blue",
          "font-family": "arial",
          "font-size": "10px",
          "label": "data(label)"
         }
        },
        {
         "selector": "edge",
         "style": {
          "curve-style": "bezier",
          "line-color": "#9dbaea",
          "target-arrow-color": "#9dbaea",
          "target-arrow-shape": "triangle",
          "width": 4
         }
        },
        {
         "css": {
          "line-color": "red"
         },
         "selector": "edge.selected"
        },
        {
         "css": {
          "background-color": "red"
         },
         "selector": "node.selected"
        }
       ],
       "desktop_tap_threshold": 4,
       "graph": "IPY_MODEL_d93f1940824444b6aa2221f78643d2e2",
       "headless": false,
       "hide_edges_on_viewport": false,
       "layout": "IPY_MODEL_fedf5146e67a4c8ab7c680ca2b426175",
       "max_zoom": 1e+50,
       "min_zoom": 1e-50,
       "motion_blur": false,
       "motion_blur_opacity": 0.2,
       "panning_enabled": true,
       "pixel_ratio": "auto",
       "rendered_position": {
        "renderedPosition": {
         "x": 100,
         "y": 100
        }
       },
       "selection_type": "single",
       "style_enabled": true,
       "texture_on_viewport": false,
       "tooltip_source": "tooltip",
       "touch_tap_threshold": 8,
       "user_panning_enabled": true,
       "user_zooming_enabled": true,
       "wheel_sensitivity": 1,
       "zoom": 2,
       "zooming_enabled": true
      }
     },
     "9a8a8bbc728f494493c225e729cde3a7": {
      "model_module": "jupyter-cytoscape",
      "model_module_version": "^1.2.2",
      "model_name": "NodeModel",
      "state": {
       "_model_module_version": "^1.2.2",
       "_view_module_version": "^1.2.2",
       "data": {
        "id": "model_year",
        "label": "model_year"
       },
       "grabbable": true,
       "grabbed": false,
       "position": {
        "x": 559.3412859858755,
        "y": 263.5513286832067
       },
       "selectable": false
      }
     },
     "9a9cf7cbd9ba44b1b06936a36ab67882": {
      "model_module": "jupyter-cytoscape",
      "model_module_version": "^1.2.2",
      "model_name": "EdgeModel",
      "state": {
       "_model_module_version": "^1.2.2",
       "_view_module_version": "^1.2.2",
       "classes": " directed  multiple_edges ",
       "data": {
        "id": "model_year_acceleration",
        "source": "model_year",
        "target": "acceleration"
       },
       "removed": true,
       "selectable": false
      }
     },
     "9b2dc3d18b0a4c16acc9d998fc1a56b8": {
      "model_module": "@jupyter-widgets/base",
      "model_module_version": "1.2.0",
      "model_name": "LayoutModel",
      "state": {}
     },
     "9b483ca43ac24ced91cd293bf19059dc": {
      "model_module": "jupyter-cytoscape",
      "model_module_version": "^1.2.2",
      "model_name": "NodeModel",
      "state": {
       "_model_module_version": "^1.2.2",
       "_view_module_version": "^1.2.2",
       "data": {
        "id": "displacement",
        "label": "displacement"
       },
       "grabbable": true,
       "grabbed": false,
       "position": {
        "x": 509.3412849858755,
        "y": 284.2475693169692
       },
       "selectable": false
      }
     },
     "9b5e6e8fb77f486b82b65339ae2d75a8": {
      "model_module": "jupyter-cytoscape",
      "model_module_version": "^1.2.2",
      "model_name": "EdgeModel",
      "state": {
       "_model_module_version": "^1.2.2",
       "_view_module_version": "^1.2.2",
       "classes": " directed  multiple_edges ",
       "data": {
        "id": "displacement_weight",
        "source": "displacement",
        "target": "weight"
       },
       "selectable": false
      }
     },
     "9bcd4ba8a2ea4d9a90b68c5c08eac1ac": {
      "model_module": "jupyter-cytoscape",
      "model_module_version": "^1.2.2",
      "model_name": "EdgeModel",
      "state": {
       "_model_module_version": "^1.2.2",
       "_view_module_version": "^1.2.2",
       "classes": " directed  multiple_edges ",
       "data": {
        "id": "weight_acceleration",
        "source": "weight",
        "target": "acceleration"
       },
       "selectable": false
      }
     },
     "9be6fba6875f40708cb27f8dd3bc523e": {
      "model_module": "jupyter-cytoscape",
      "model_module_version": "^1.2.2",
      "model_name": "EdgeModel",
      "state": {
       "_model_module_version": "^1.2.2",
       "_view_module_version": "^1.2.2",
       "classes": " directed  multiple_edges ",
       "data": {
        "id": "displacement_weight",
        "source": "displacement",
        "target": "weight"
       },
       "removed": true,
       "selectable": false
      }
     },
     "9beac2008b334ee39566cfef3c5a9ad7": {
      "model_module": "jupyter-cytoscape",
      "model_module_version": "^1.2.2",
      "model_name": "EdgeModel",
      "state": {
       "_model_module_version": "^1.2.2",
       "_view_module_version": "^1.2.2",
       "classes": " directed  multiple_edges ",
       "data": {
        "id": "displacement_cylinders",
        "source": "displacement",
        "target": "cylinders"
       },
       "removed": true,
       "selectable": false
      }
     },
     "9bf9e8dcc6f449839ee1717e1ca1786c": {
      "model_module": "jupyter-cytoscape",
      "model_module_version": "^1.2.2",
      "model_name": "NodeModel",
      "state": {
       "_model_module_version": "^1.2.2",
       "_view_module_version": "^1.2.2",
       "data": {
        "id": "model_year",
        "label": "model_year"
       },
       "grabbable": true,
       "grabbed": false,
       "position": {
        "x": 558.1635343662905,
        "y": 225.07364057090456
       },
       "removed": true,
       "selectable": false
      }
     },
     "9c3a1dda8b71462a8fd93f736fab2a9f": {
      "model_module": "@jupyter-widgets/controls",
      "model_module_version": "1.5.0",
      "model_name": "ButtonStyleModel",
      "state": {}
     },
     "9c8c1a8b1c2b4d2a941c423423e4d30f": {
      "model_module": "jupyter-cytoscape",
      "model_module_version": "^1.2.2",
      "model_name": "NodeModel",
      "state": {
       "_model_module_version": "^1.2.2",
       "_view_module_version": "^1.2.2",
       "data": {
        "id": "horsepower",
        "label": "horsepower"
       },
       "grabbable": true,
       "grabbed": false,
       "position": {
        "x": 703.9360436026986,
        "y": 175.07363957090448
       },
       "removed": true,
       "selectable": false
      }
     },
     "9cd23722b9214758bf3286cfa618e331": {
      "model_module": "jupyter-cytoscape",
      "model_module_version": "^1.2.2",
      "model_name": "NodeModel",
      "state": {
       "_model_module_version": "^1.2.2",
       "_view_module_version": "^1.2.2",
       "data": {
        "id": "origin",
        "label": "origin"
       },
       "grabbable": true,
       "grabbed": false,
       "position": {
        "x": 675.972259468178,
        "y": 226.11349234540572
       },
       "selectable": false
      }
     },
     "9cf9179ea6494a9086d7952bdc6f801c": {
      "model_module": "jupyter-cytoscape",
      "model_module_version": "^1.2.2",
      "model_name": "EdgeModel",
      "state": {
       "_model_module_version": "^1.2.2",
       "_view_module_version": "^1.2.2",
       "classes": " directed  multiple_edges ",
       "data": {
        "id": "weight_horsepower",
        "source": "weight",
        "target": "horsepower"
       },
       "removed": true,
       "selectable": false
      }
     },
     "9d135b57bf98437db3303659d983d666": {
      "model_module": "jupyter-cytoscape",
      "model_module_version": "^1.2.2",
      "model_name": "NodeModel",
      "state": {
       "_model_module_version": "^1.2.2",
       "_view_module_version": "^1.2.2",
       "data": {
        "id": "acceleration",
        "label": "acceleration"
       },
       "grabbable": true,
       "grabbed": false,
       "position": {
        "x": 620.9001392357774,
        "y": 171.80933473203547
       },
       "selectable": false
      }
     },
     "9d1d1b0b4d88466895fb72ecb5506b4a": {
      "model_module": "jupyter-cytoscape",
      "model_module_version": "^1.2.2",
      "model_name": "EdgeModel",
      "state": {
       "_model_module_version": "^1.2.2",
       "_view_module_version": "^1.2.2",
       "classes": " multiple_edges directed selected",
       "data": {
        "id": "cylinders_origin",
        "source": "cylinders",
        "target": "origin"
       },
       "removed": true,
       "selectable": false
      }
     },
     "9d2b16efbecc4fa6926d8a06db22cee0": {
      "model_module": "jupyter-cytoscape",
      "model_module_version": "^1.2.2",
      "model_name": "NodeModel",
      "state": {
       "_model_module_version": "^1.2.2",
       "_view_module_version": "^1.2.2",
       "data": {
        "id": "origin",
        "label": "origin"
       },
       "grabbable": true,
       "grabbed": false,
       "position": {
        "x": 1029.0268120092335,
        "y": 300.2504689541656
       },
       "selectable": false
      }
     },
     "9d394ab5ac94454db5c3c9d856e071d2": {
      "model_module": "@jupyter-widgets/base",
      "model_module_version": "1.2.0",
      "model_name": "LayoutModel",
      "state": {}
     },
     "9d4e2aaa34b94e24bbcd7d80673eb3a4": {
      "model_module": "@jupyter-widgets/controls",
      "model_module_version": "1.5.0",
      "model_name": "ButtonStyleModel",
      "state": {}
     },
     "9d58b8194c4e4f15a8a9c72f16c0c71b": {
      "model_module": "jupyter-cytoscape",
      "model_module_version": "^1.2.2",
      "model_name": "EdgeModel",
      "state": {
       "_model_module_version": "^1.2.2",
       "_view_module_version": "^1.2.2",
       "classes": " directed  multiple_edges ",
       "data": {
        "id": "model_year_acceleration",
        "source": "model_year",
        "target": "acceleration"
       },
       "selectable": false
      }
     },
     "9d5a811e982242bea84c22f44aef1ad8": {
      "model_module": "@jupyter-widgets/controls",
      "model_module_version": "1.5.0",
      "model_name": "ButtonModel",
      "state": {
       "description": "Generate original graph",
       "layout": "IPY_MODEL_792faad2ddbd4cd49d043c4db109d9f5",
       "style": "IPY_MODEL_04a80b0906a446499a78f2cd11325176"
      }
     },
     "9d74605a4eb041f1adc7a7186fa635ba": {
      "model_module": "@jupyter-widgets/controls",
      "model_module_version": "1.5.0",
      "model_name": "ButtonModel",
      "state": {
       "description": "Generate original graph",
       "layout": "IPY_MODEL_addfd0d6d7674569b4e95336f166c4a1",
       "style": "IPY_MODEL_72384bc59bb14210baec05867c6fe59a"
      }
     },
     "9e0a7de885da49739cf5c3fc668dabb7": {
      "model_module": "jupyter-cytoscape",
      "model_module_version": "^1.2.2",
      "model_name": "NodeModel",
      "state": {
       "_model_module_version": "^1.2.2",
       "_view_module_version": "^1.2.2",
       "data": {
        "id": "model_year",
        "label": "model_year"
       },
       "grabbable": true,
       "grabbed": false,
       "position": {
        "x": 1017.8850581738658,
        "y": 279.96593587533386
       },
       "selectable": false
      }
     },
     "9e621bc2dc324cd18edca8df924aaf16": {
      "model_module": "jupyter-cytoscape",
      "model_module_version": "^1.2.2",
      "model_name": "NodeModel",
      "state": {
       "_model_module_version": "^1.2.2",
       "_view_module_version": "^1.2.2",
       "data": {
        "id": "model_year",
        "label": "model_year"
       },
       "grabbable": true,
       "grabbed": false,
       "position": {
        "x": 919.1114284698715,
        "y": 142.76422456867672
       },
       "selectable": false
      }
     },
     "9e8c9b41d441491db253dc51c899f0dd": {
      "model_module": "jupyter-cytoscape",
      "model_module_version": "^1.2.2",
      "model_name": "EdgeModel",
      "state": {
       "_model_module_version": "^1.2.2",
       "_view_module_version": "^1.2.2",
       "classes": " directed  multiple_edges ",
       "data": {
        "id": "weight_mpg",
        "source": "weight",
        "target": "mpg"
       },
       "selectable": false
      }
     },
     "9eaf578c485c49f3a14e95ca661270cb": {
      "model_module": "jupyter-cytoscape",
      "model_module_version": "^1.2.2",
      "model_name": "NodeModel",
      "state": {
       "_model_module_version": "^1.2.2",
       "_view_module_version": "^1.2.2",
       "data": {
        "id": "cylinders",
        "label": "cylinders"
       },
       "grabbable": true,
       "grabbed": false,
       "position": {
        "x": 433.0988645297568,
        "y": 243.59005208886958
       },
       "selectable": false
      }
     },
     "9ec7685a4d1f450895e5bb7497eb76d3": {
      "model_module": "jupyter-cytoscape",
      "model_module_version": "^1.2.2",
      "model_name": "NodeModel",
      "state": {
       "_model_module_version": "^1.2.2",
       "_view_module_version": "^1.2.2",
       "data": {
        "id": "mpg",
        "label": "mpg"
       },
       "grabbable": true,
       "grabbed": false,
       "position": {
        "x": 1027.5524053202064,
        "y": 296.7286243996993
       },
       "removed": true,
       "selectable": false
      }
     },
     "9ef8685ded0d4a35943af040ba791844": {
      "model_module": "jupyter-cytoscape",
      "model_module_version": "^1.2.2",
      "model_name": "EdgeModel",
      "state": {
       "_model_module_version": "^1.2.2",
       "_view_module_version": "^1.2.2",
       "classes": " directed  multiple_edges ",
       "data": {
        "id": "mpg_origin",
        "source": "mpg",
        "target": "origin"
       },
       "selectable": false
      }
     },
     "9f011a59c93544c18ebf9b539d07e4ee": {
      "model_module": "jupyter-cytoscape",
      "model_module_version": "^1.2.2",
      "model_name": "EdgeModel",
      "state": {
       "_model_module_version": "^1.2.2",
       "_view_module_version": "^1.2.2",
       "classes": " multiple_edges directed highlighted",
       "data": {
        "id": "model_year_acceleration",
        "source": "model_year",
        "target": "acceleration"
       },
       "selectable": false
      }
     },
     "9f68f9817d1b4ad8a701a6c7ff0eaf58": {
      "model_module": "jupyter-cytoscape",
      "model_module_version": "^1.2.2",
      "model_name": "NodeModel",
      "state": {
       "_model_module_version": "^1.2.2",
       "_view_module_version": "^1.2.2",
       "data": {
        "id": "displacement",
        "label": "displacement"
       },
       "grabbable": true,
       "grabbed": false,
       "position": {
        "x": 508.16353336629044,
        "y": 245.72590677691755
       },
       "removed": true,
       "selectable": false
      }
     },
     "9f8d51bb9dd04056911291805f01c9d8": {
      "model_module": "@jupyter-widgets/controls",
      "model_module_version": "1.5.0",
      "model_name": "ButtonModel",
      "state": {
       "description": "Change Direction",
       "disabled": true,
       "layout": "IPY_MODEL_dd0df969fc354b498d31bebba41ab6de",
       "style": "IPY_MODEL_1d5cfa48d6774561a7200f82ca93e049"
      }
     },
     "9f8e5e2e88654ce29a2bdd5bee5d2032": {
      "model_module": "jupyter-cytoscape",
      "model_module_version": "^1.2.2",
      "model_name": "EdgeModel",
      "state": {
       "_model_module_version": "^1.2.2",
       "_view_module_version": "^1.2.2",
       "classes": " directed  multiple_edges ",
       "data": {
        "id": "model_year_mpg",
        "source": "model_year",
        "target": "mpg"
       },
       "removed": true,
       "selectable": false
      }
     },
     "9f9cad7563e546558f951df9f4e7bd11": {
      "model_module": "jupyter-cytoscape",
      "model_module_version": "^1.2.2",
      "model_name": "NodeModel",
      "state": {
       "_model_module_version": "^1.2.2",
       "_view_module_version": "^1.2.2",
       "data": {
        "id": "displacement",
        "label": "displacement"
       },
       "grabbable": true,
       "grabbed": false,
       "position": {
        "x": 551.393061946557,
        "y": 113.35407008821643
       },
       "selectable": false
      }
     },
     "9fc4d1ecd6ea4da8ab05814779e22bfa": {
      "model_module": "jupyter-cytoscape",
      "model_module_version": "^1.2.2",
      "model_name": "EdgeModel",
      "state": {
       "_model_module_version": "^1.2.2",
       "_view_module_version": "^1.2.2",
       "classes": " directed  multiple_edges ",
       "data": {
        "id": "cylinders_displacement",
        "source": "cylinders",
        "target": "displacement"
       },
       "selectable": false
      }
     },
     "9fc762dd8a024c58a5ab6ed7ba02bd09": {
      "model_module": "jupyter-cytoscape",
      "model_module_version": "^1.2.2",
      "model_name": "NodeModel",
      "state": {
       "_model_module_version": "^1.2.2",
       "_view_module_version": "^1.2.2",
       "data": {
        "id": "displacement",
        "label": "displacement"
       },
       "grabbable": true,
       "grabbed": false,
       "position": {
        "x": 634.1635333662906,
        "y": 245.72590677691767
       },
       "removed": true,
       "selectable": false
      }
     },
     "a02f80e67c8e4a3499bbb74e5f87e40e": {
      "model_module": "jupyter-cytoscape",
      "model_module_version": "^1.2.2",
      "model_name": "GraphModel",
      "state": {
       "_adj": {
        "acceleration": {},
        "cylinders": {},
        "displacement": {},
        "horsepower": {},
        "model_year": {},
        "mpg": {},
        "origin": {},
        "weight": {}
       },
       "_model_module_version": "^1.2.2",
       "_view_module": "jupyter-cytoscape",
       "_view_module_version": "^1.2.2",
       "edges": [
        "IPY_MODEL_f6c13a1d1c5948088606882bd619fea7",
        "IPY_MODEL_35ab615a122847c79f20c1486462aa4c",
        "IPY_MODEL_3242b611a51c433b9d5a6455a0f702bc",
        "IPY_MODEL_067715a443954ce89afdf01c920cb7ad",
        "IPY_MODEL_87361d7e44554c94934415a1e6776667",
        "IPY_MODEL_d52c4c4dad6b4725b32cfc5c3ebdf2db",
        "IPY_MODEL_068c90d2e5924047908fe973b055a739",
        "IPY_MODEL_09f1985b47e24fb9b09ba866de253d57",
        "IPY_MODEL_1dfa71bd167645468e89c2dcfcbd1f52",
        "IPY_MODEL_918efe6c0edb43c5b1dc9176de622fd2",
        "IPY_MODEL_d0fb0f4c660d4eaa8fe7de09a13b4b6c",
        "IPY_MODEL_243341d757324f90988745a8eaa231e4",
        "IPY_MODEL_b2dba405e7f841a3a6ca0b5e2b1a209d",
        "IPY_MODEL_64121504db4044e3878ea1274c45d532",
        "IPY_MODEL_3004b999571d440c8943ee564e772a63",
        "IPY_MODEL_40a2a78873734e15a2c7222eb202ab38"
       ],
       "nodes": [
        "IPY_MODEL_2a3ddf8b26894aa5940bea5b2de7fe86",
        "IPY_MODEL_a79b9953da2d4a13b64e04404945ac35",
        "IPY_MODEL_0805bdc03bcf4ab593f7167304cf4bac",
        "IPY_MODEL_f7efdb49a9e24cf4b80bfb3e8bdd4243",
        "IPY_MODEL_19675b5e29984fdbacbd496243d20943",
        "IPY_MODEL_4859b287061140469a44ebb8f7cdc168",
        "IPY_MODEL_3daddb27dd4c43639a23ccc941515b7a",
        "IPY_MODEL_eb7b24c974994ad89b5437e994ec898d"
       ]
      }
     },
     "a056df6fb8ff4aebacf770e3b4c96fd2": {
      "model_module": "@jupyter-widgets/controls",
      "model_module_version": "1.5.0",
      "model_name": "ButtonModel",
      "state": {
       "description": "Add Edge",
       "disabled": true,
       "layout": "IPY_MODEL_dfecf2f7e44145d2b706d1f301e36a34",
       "style": "IPY_MODEL_16be9767f9474f6f8399ee323f1e3290"
      }
     },
     "a07eac3bd7e745779466625e9ddf5b73": {
      "model_module": "@jupyter-widgets/controls",
      "model_module_version": "1.5.0",
      "model_name": "ButtonStyleModel",
      "state": {}
     },
     "a0a0adc6c6fc43ff88e5aa3696fce047": {
      "model_module": "jupyter-cytoscape",
      "model_module_version": "^1.2.2",
      "model_name": "EdgeModel",
      "state": {
       "_model_module_version": "^1.2.2",
       "_view_module_version": "^1.2.2",
       "classes": " directed  multiple_edges ",
       "data": {
        "id": "displacement_acceleration",
        "source": "displacement",
        "target": "acceleration"
       },
       "selectable": false
      }
     },
     "a0a201293616420fab7b16548c2355c7": {
      "model_module": "jupyter-cytoscape",
      "model_module_version": "^1.2.2",
      "model_name": "EdgeModel",
      "state": {
       "_model_module_version": "^1.2.2",
       "_view_module_version": "^1.2.2",
       "classes": " directed  multiple_edges ",
       "data": {
        "id": "model_year_cylinders",
        "source": "model_year",
        "target": "cylinders"
       },
       "selectable": false
      }
     },
     "a0a2bcc097164ac385c8447ce2ca06a7": {
      "model_module": "jupyter-cytoscape",
      "model_module_version": "^1.2.2",
      "model_name": "NodeModel",
      "state": {
       "_model_module_version": "^1.2.2",
       "_view_module_version": "^1.2.2",
       "data": {
        "id": "cylinders",
        "label": "cylinders"
       },
       "grabbable": true,
       "grabbed": false,
       "position": {
        "x": 431.94658248135147,
        "y": 205.00607973359763
       },
       "removed": true,
       "selectable": false
      }
     },
     "a11fdad0b35845f9a014c7c97b93dbcf": {
      "model_module": "jupyter-cytoscape",
      "model_module_version": "^1.2.2",
      "model_name": "NodeModel",
      "state": {
       "_model_module_version": "^1.2.2",
       "_view_module_version": "^1.2.2",
       "data": {
        "id": "weight",
        "label": "weight"
       },
       "grabbable": true,
       "grabbed": false,
       "position": {
        "x": 481.57282319796855,
        "y": 160.26907723089246
       },
       "selectable": false
      }
     },
     "a1caf44faa4e4de4986c93606b0b19ec": {
      "model_module": "jupyter-cytoscape",
      "model_module_version": "^1.2.2",
      "model_name": "NodeModel",
      "state": {
       "_model_module_version": "^1.2.2",
       "_view_module_version": "^1.2.2",
       "data": {
        "id": "mpg",
        "label": "mpg"
       },
       "grabbable": true,
       "grabbed": false,
       "position": {
        "x": 1107.840943621376,
        "y": 147.15280318553766
       },
       "selectable": false
      }
     },
     "a2009274c0414e2782f82851b987446d": {
      "model_module": "jupyter-cytoscape",
      "model_module_version": "^1.2.2",
      "model_name": "EdgeModel",
      "state": {
       "_model_module_version": "^1.2.2",
       "_view_module_version": "^1.2.2",
       "classes": " directed  multiple_edges ",
       "data": {
        "id": "weight_acceleration",
        "source": "weight",
        "target": "acceleration"
       },
       "selectable": false
      }
     },
     "a20fcdf0d4394d8384038fca872de7a3": {
      "model_module": "@jupyter-widgets/base",
      "model_module_version": "1.2.0",
      "model_name": "LayoutModel",
      "state": {}
     },
     "a22f04a114ec450289f4e21d3ae3cdb0": {
      "model_module": "@jupyter-widgets/base",
      "model_module_version": "1.2.0",
      "model_name": "LayoutModel",
      "state": {}
     },
     "a2502a7598f046bc8fbc6620221c48f7": {
      "model_module": "jupyter-cytoscape",
      "model_module_version": "^1.2.2",
      "model_name": "NodeModel",
      "state": {
       "_model_module_version": "^1.2.2",
       "_view_module_version": "^1.2.2",
       "data": {
        "id": "displacement",
        "label": "displacement"
       },
       "grabbable": true,
       "grabbed": false,
       "position": {
        "x": 698.4247640325244,
        "y": 93.99570635856243
       },
       "selectable": false
      }
     },
     "a2afba3359424f898fb1787783f59fa1": {
      "model_module": "jupyter-cytoscape",
      "model_module_version": "^1.2.2",
      "model_name": "EdgeModel",
      "state": {
       "_model_module_version": "^1.2.2",
       "_view_module_version": "^1.2.2",
       "classes": " directed  multiple_edges ",
       "data": {
        "id": "displacement_acceleration",
        "source": "displacement",
        "target": "acceleration"
       },
       "removed": true,
       "selectable": false
      }
     },
     "a3082d25f62744deaa3ffbe90bcb5df7": {
      "model_module": "jupyter-cytoscape",
      "model_module_version": "^1.2.2",
      "model_name": "NodeModel",
      "state": {
       "_model_module_version": "^1.2.2",
       "_view_module_version": "^1.2.2",
       "data": {
        "id": "mpg",
        "label": "mpg"
       },
       "grabbable": true,
       "grabbed": false,
       "position": {
        "x": 729.7678640767557,
        "y": 108.708789863225
       },
       "removed": true,
       "selectable": false
      }
     },
     "a30d271549db46c48f532835c1544733": {
      "model_module": "jupyter-cytoscape",
      "model_module_version": "^1.2.2",
      "model_name": "EdgeModel",
      "state": {
       "_model_module_version": "^1.2.2",
       "_view_module_version": "^1.2.2",
       "classes": " directed  multiple_edges ",
       "data": {
        "id": "model_year_weight",
        "source": "model_year",
        "target": "weight"
       },
       "removed": true,
       "selectable": false
      }
     },
     "a3224f09c1ea4596b45fa6cccb1ec6dc": {
      "model_module": "@jupyter-widgets/controls",
      "model_module_version": "1.5.0",
      "model_name": "ButtonModel",
      "state": {
       "description": "Add Edge",
       "disabled": true,
       "layout": "IPY_MODEL_27f941ad015a414f87b9c26d3d084049",
       "style": "IPY_MODEL_4c71364f94bb4aae9062e7725435945d"
      }
     },
     "a32fa73e872d4e9184d8bd242e6b75a5": {
      "model_module": "jupyter-cytoscape",
      "model_module_version": "^1.2.2",
      "model_name": "EdgeModel",
      "state": {
       "_model_module_version": "^1.2.2",
       "_view_module_version": "^1.2.2",
       "classes": " directed  multiple_edges ",
       "data": {
        "id": "weight_mpg",
        "source": "weight",
        "target": "mpg"
       },
       "removed": true,
       "selectable": false
      }
     },
     "a3df98ab9e224d3088a9219c756debc5": {
      "model_module": "@jupyter-widgets/controls",
      "model_module_version": "1.5.0",
      "model_name": "ButtonStyleModel",
      "state": {}
     },
     "a3f1d9efd8d647bf96de6f1c1ef67c4a": {
      "model_module": "@jupyter-widgets/base",
      "model_module_version": "1.2.0",
      "model_name": "LayoutModel",
      "state": {}
     },
     "a3fc0093e16f4592893ed76f8855c2fa": {
      "model_module": "jupyter-cytoscape",
      "model_module_version": "^1.2.2",
      "model_name": "EdgeModel",
      "state": {
       "_model_module_version": "^1.2.2",
       "_view_module_version": "^1.2.2",
       "classes": " directed  multiple_edges ",
       "data": {
        "id": "cylinders_displacement",
        "source": "cylinders",
        "target": "displacement"
       },
       "removed": true,
       "selectable": false
      }
     },
     "a41b64f878e5406bba0a463c0d8a95cf": {
      "model_module": "jupyter-cytoscape",
      "model_module_version": "^1.2.2",
      "model_name": "EdgeModel",
      "state": {
       "_model_module_version": "^1.2.2",
       "_view_module_version": "^1.2.2",
       "classes": " directed  multiple_edges ",
       "data": {
        "id": "model_year_cylinders",
        "source": "model_year",
        "target": "cylinders"
       },
       "selectable": false
      }
     },
     "a4320b18e4ff4953a1aca3ed906a7efd": {
      "model_module": "jupyter-cytoscape",
      "model_module_version": "^1.2.2",
      "model_name": "EdgeModel",
      "state": {
       "_model_module_version": "^1.2.2",
       "_view_module_version": "^1.2.2",
       "classes": " directed  multiple_edges ",
       "data": {
        "id": "weight_acceleration",
        "source": "weight",
        "target": "acceleration"
       },
       "selectable": false
      }
     },
     "a43b8c37ce5846ecb751c06f396d85fc": {
      "model_module": "@jupyter-widgets/controls",
      "model_module_version": "1.5.0",
      "model_name": "ButtonStyleModel",
      "state": {}
     },
     "a4565fae8a0347e097379cb66c1b1f2b": {
      "model_module": "@jupyter-widgets/controls",
      "model_module_version": "1.5.0",
      "model_name": "ButtonModel",
      "state": {
       "description": "Add Edge",
       "layout": "IPY_MODEL_099f80c6bb7f4fbeb092ffeb6dcccc76",
       "style": "IPY_MODEL_49f8ce8eb81f4daeafd7974935ce2ebc"
      }
     },
     "a47d16ba044948f798d285aa2d9e5dbb": {
      "model_module": "@jupyter-widgets/controls",
      "model_module_version": "1.5.0",
      "model_name": "ButtonModel",
      "state": {
       "description": "Delete Edge",
       "disabled": true,
       "layout": "IPY_MODEL_4b8feb3971e643798a5b81875fd8ffd4",
       "style": "IPY_MODEL_e4dc3bb53be34f5288be267fed7b1155"
      }
     },
     "a4a53f9cd1364397a70d8033be71f580": {
      "model_module": "@jupyter-widgets/base",
      "model_module_version": "1.2.0",
      "model_name": "LayoutModel",
      "state": {}
     },
     "a51aefef46164886ae06c5fb5c26aa95": {
      "model_module": "jupyter-cytoscape",
      "model_module_version": "^1.2.2",
      "model_name": "CytoscapeModel",
      "state": {
       "_interaction_handlers": {
        "edge": [
         "click"
        ],
        "node": [
         "click"
        ]
       },
       "_model_module_version": "^1.2.2",
       "_view_module_version": "^1.2.2",
       "auto_ungrabify": false,
       "autolock": false,
       "cytoscape_layout": {
        "name": "cola"
       },
       "cytoscape_style": [
        {
         "selector": "node",
         "style": {
          "background-color": "blue",
          "font-family": "arial",
          "font-size": "10px",
          "label": "data(label)"
         }
        },
        {
         "selector": "edge",
         "style": {
          "curve-style": "bezier",
          "line-color": "#9dbaea",
          "target-arrow-color": "#9dbaea",
          "target-arrow-shape": "triangle",
          "width": 4
         }
        },
        {
         "css": {
          "line-color": "red"
         },
         "selector": "edge.selected"
        },
        {
         "css": {
          "background-color": "red"
         },
         "selector": "node.selected"
        }
       ],
       "desktop_tap_threshold": 4,
       "graph": "IPY_MODEL_19547187257845438388253d17f7ef17",
       "headless": false,
       "hide_edges_on_viewport": false,
       "layout": "IPY_MODEL_ea5d4409539f45aca8c351b05db53b47",
       "max_zoom": 1e+50,
       "min_zoom": 1e-50,
       "motion_blur": false,
       "motion_blur_opacity": 0.2,
       "panning_enabled": true,
       "pixel_ratio": "auto",
       "rendered_position": {
        "renderedPosition": {
         "x": 100,
         "y": 100
        }
       },
       "selection_type": "single",
       "style_enabled": true,
       "texture_on_viewport": false,
       "tooltip_source": "tooltip",
       "touch_tap_threshold": 8,
       "user_panning_enabled": true,
       "user_zooming_enabled": true,
       "wheel_sensitivity": 1,
       "zoom": 2,
       "zooming_enabled": true
      }
     },
     "a532e935ed424ba6a37d1b271912d51a": {
      "model_module": "jupyter-cytoscape",
      "model_module_version": "^1.2.2",
      "model_name": "NodeModel",
      "state": {
       "_model_module_version": "^1.2.2",
       "_view_module_version": "^1.2.2",
       "data": {
        "id": "displacement",
        "label": "displacement"
       },
       "grabbable": true,
       "grabbed": false,
       "position": {
        "x": 509.3412849858755,
        "y": 284.2475693169692
       },
       "selectable": false
      }
     },
     "a562c7b961e64cd7a688e59ec45005de": {
      "model_module": "@jupyter-widgets/controls",
      "model_module_version": "1.5.0",
      "model_name": "ButtonModel",
      "state": {
       "description": "Delete Edge",
       "disabled": true,
       "layout": "IPY_MODEL_ead9476abfd74ed28a5158396dfb394b",
       "style": "IPY_MODEL_acb036818e0b4a1e834670dda71e2770"
      }
     },
     "a5711f55b8c240c6b23dec92dda5176c": {
      "model_module": "jupyter-cytoscape",
      "model_module_version": "^1.2.2",
      "model_name": "EdgeModel",
      "state": {
       "_model_module_version": "^1.2.2",
       "_view_module_version": "^1.2.2",
       "classes": " directed  multiple_edges ",
       "data": {
        "id": "model_year_weight",
        "source": "model_year",
        "target": "weight"
       },
       "selectable": false
      }
     },
     "a58205d5d5924161b0d8c8607f2245bc": {
      "model_module": "@jupyter-widgets/base",
      "model_module_version": "1.2.0",
      "model_name": "LayoutModel",
      "state": {}
     },
     "a5b11827496e4f04a5f84cf564a6b9f0": {
      "model_module": "jupyter-cytoscape",
      "model_module_version": "^1.2.2",
      "model_name": "EdgeModel",
      "state": {
       "_model_module_version": "^1.2.2",
       "_view_module_version": "^1.2.2",
       "classes": " directed  multiple_edges ",
       "data": {
        "id": "weight_horsepower",
        "source": "weight",
        "target": "horsepower"
       },
       "selectable": false
      }
     },
     "a5d71c0aa90a4df3943323c771ae0ab0": {
      "model_module": "jupyter-cytoscape",
      "model_module_version": "^1.2.2",
      "model_name": "NodeModel",
      "state": {
       "_model_module_version": "^1.2.2",
       "_view_module_version": "^1.2.2",
       "data": {
        "id": "acceleration",
        "label": "acceleration"
       },
       "grabbable": true,
       "grabbed": false,
       "position": {
        "x": 999.8938084289115,
        "y": 181.85624778040258
       },
       "removed": true,
       "selectable": false
      }
     },
     "a5d931d20d9e4ed2b65f0071f456a393": {
      "model_module": "jupyter-cytoscape",
      "model_module_version": "^1.2.2",
      "model_name": "EdgeModel",
      "state": {
       "_model_module_version": "^1.2.2",
       "_view_module_version": "^1.2.2",
       "classes": " directed  multiple_edges ",
       "data": {
        "id": "weight_acceleration",
        "source": "weight",
        "target": "acceleration"
       },
       "selectable": false
      }
     },
     "a5f9c4ed8de44d23b4ce01d0d449fa13": {
      "model_module": "jupyter-cytoscape",
      "model_module_version": "^1.2.2",
      "model_name": "EdgeModel",
      "state": {
       "_model_module_version": "^1.2.2",
       "_view_module_version": "^1.2.2",
       "classes": " directed  multiple_edges ",
       "data": {
        "id": "displacement_origin",
        "source": "displacement",
        "target": "origin"
       },
       "selectable": false
      }
     },
     "a614beec42594fd9a1e4c3ad26626f93": {
      "model_module": "jupyter-cytoscape",
      "model_module_version": "^1.2.2",
      "model_name": "EdgeModel",
      "state": {
       "_model_module_version": "^1.2.2",
       "_view_module_version": "^1.2.2",
       "classes": " directed  multiple_edges ",
       "data": {
        "id": "weight_acceleration",
        "source": "weight",
        "target": "acceleration"
       },
       "removed": true,
       "selectable": false
      }
     },
     "a62d9a85f53e4716ad5e805be00fa1cb": {
      "model_module": "jupyter-cytoscape",
      "model_module_version": "^1.2.2",
      "model_name": "EdgeModel",
      "state": {
       "_model_module_version": "^1.2.2",
       "_view_module_version": "^1.2.2",
       "classes": " directed  multiple_edges ",
       "data": {
        "id": "displacement_horsepower",
        "source": "displacement",
        "target": "horsepower"
       },
       "selectable": false
      }
     },
     "a632775e67ca43b1b06628a6fd4e5d08": {
      "model_module": "jupyter-cytoscape",
      "model_module_version": "^1.2.2",
      "model_name": "NodeModel",
      "state": {
       "_model_module_version": "^1.2.2",
       "_view_module_version": "^1.2.2",
       "data": {
        "id": "cylinders",
        "label": "cylinders"
       },
       "grabbable": true,
       "grabbed": false,
       "position": {
        "x": 647.1524604813538,
        "y": 48.509240052157054
       },
       "selectable": false
      }
     },
     "a661c2bac362425ab4cf78b1715ba555": {
      "model_module": "jupyter-cytoscape",
      "model_module_version": "^1.2.2",
      "model_name": "EdgeModel",
      "state": {
       "_model_module_version": "^1.2.2",
       "_view_module_version": "^1.2.2",
       "classes": " directed  multiple_edges ",
       "data": {
        "id": "model_year_acceleration",
        "source": "model_year",
        "target": "acceleration"
       },
       "removed": true,
       "selectable": false
      }
     },
     "a6cbf1f63b4143f1887ad44dd0b04a4d": {
      "model_module": "jupyter-cytoscape",
      "model_module_version": "^1.2.2",
      "model_name": "EdgeModel",
      "state": {
       "_model_module_version": "^1.2.2",
       "_view_module_version": "^1.2.2",
       "classes": " directed  multiple_edges ",
       "data": {
        "id": "cylinders_origin",
        "source": "cylinders",
        "target": "origin"
       },
       "selectable": false
      }
     },
     "a6da02818e504ed28acfb9efa88d7764": {
      "model_module": "jupyter-cytoscape",
      "model_module_version": "^1.2.2",
      "model_name": "NodeModel",
      "state": {
       "_model_module_version": "^1.2.2",
       "_view_module_version": "^1.2.2",
       "data": {
        "id": "model_year",
        "label": "model_year"
       },
       "grabbable": true,
       "grabbed": false,
       "position": {
        "x": 1183.523136629241,
        "y": 261.09375220168016
       },
       "removed": true,
       "selectable": false
      }
     },
     "a7018bb1dce2431098ed9c53fbcc435f": {
      "model_module": "jupyter-cytoscape",
      "model_module_version": "^1.2.2",
      "model_name": "EdgeModel",
      "state": {
       "_model_module_version": "^1.2.2",
       "_view_module_version": "^1.2.2",
       "classes": " directed  multiple_edges ",
       "data": {
        "id": "model_year_mpg",
        "source": "model_year",
        "target": "mpg"
       },
       "removed": true,
       "selectable": false
      }
     },
     "a70eedb18a9e47feb2542c508b312ae5": {
      "model_module": "jupyter-cytoscape",
      "model_module_version": "^1.2.2",
      "model_name": "EdgeModel",
      "state": {
       "_model_module_version": "^1.2.2",
       "_view_module_version": "^1.2.2",
       "classes": " directed  multiple_edges ",
       "data": {
        "id": "horsepower_acceleration",
        "source": "horsepower",
        "target": "acceleration"
       },
       "selectable": false
      }
     },
     "a75d32c16aee4969a418ca547cbfdf19": {
      "model_module": "@jupyter-widgets/controls",
      "model_module_version": "1.5.0",
      "model_name": "ButtonModel",
      "state": {
       "description": "Delete Edge",
       "disabled": true,
       "layout": "IPY_MODEL_01b2b680b36f444ea30c1467b85e35ce",
       "style": "IPY_MODEL_f38af6003608406ea7e2f41ea12a7b75"
      }
     },
     "a791d9476b3547c596523894ba5b37cc": {
      "model_module": "jupyter-cytoscape",
      "model_module_version": "^1.2.2",
      "model_name": "NodeModel",
      "state": {
       "_model_module_version": "^1.2.2",
       "_view_module_version": "^1.2.2",
       "data": {
        "id": "origin",
        "label": "origin"
       },
       "grabbable": true,
       "grabbed": false,
       "position": {
        "x": 492.73548508808767,
        "y": 163.54320824648752
       },
       "selectable": false
      }
     },
     "a79b9953da2d4a13b64e04404945ac35": {
      "model_module": "jupyter-cytoscape",
      "model_module_version": "^1.2.2",
      "model_name": "NodeModel",
      "state": {
       "_model_module_version": "^1.2.2",
       "_view_module_version": "^1.2.2",
       "data": {
        "id": "cylinders",
        "label": "cylinders"
       },
       "grabbable": true,
       "grabbed": false,
       "position": {
        "x": 433.0988645297568,
        "y": 243.59005208886958
       },
       "selectable": false
      }
     },
     "a7b8b70448b34deeb84a6f4f983bfae9": {
      "model_module": "jupyter-cytoscape",
      "model_module_version": "^1.2.2",
      "model_name": "EdgeModel",
      "state": {
       "_model_module_version": "^1.2.2",
       "_view_module_version": "^1.2.2",
       "classes": " directed  multiple_edges ",
       "data": {
        "id": "displacement_horsepower",
        "source": "displacement",
        "target": "horsepower"
       },
       "removed": true,
       "selectable": false
      }
     },
     "a7c7592cbc074cbdb766d85ccd0206e2": {
      "model_module": "@jupyter-widgets/controls",
      "model_module_version": "1.5.0",
      "model_name": "ButtonStyleModel",
      "state": {}
     },
     "a7dfb0dfcdeb453a9c41f9ee93d74f9e": {
      "model_module": "jupyter-cytoscape",
      "model_module_version": "^1.2.2",
      "model_name": "EdgeModel",
      "state": {
       "_model_module_version": "^1.2.2",
       "_view_module_version": "^1.2.2",
       "classes": " directed  multiple_edges ",
       "data": {
        "id": "model_year_mpg",
        "source": "model_year",
        "target": "mpg"
       },
       "selectable": false
      }
     },
     "a8126627a1fe49038aa7dad5df62d73b": {
      "model_module": "jupyter-cytoscape",
      "model_module_version": "^1.2.2",
      "model_name": "NodeModel",
      "state": {
       "_model_module_version": "^1.2.2",
       "_view_module_version": "^1.2.2",
       "data": {
        "id": "cylinders",
        "label": "cylinders"
       },
       "grabbable": true,
       "grabbed": false,
       "position": {
        "x": 978.1376300891538,
        "y": 252.07093017265086
       },
       "removed": true,
       "selectable": false
      }
     },
     "a852f45169f2467597d2510b169ec943": {
      "model_module": "jupyter-cytoscape",
      "model_module_version": "^1.2.2",
      "model_name": "EdgeModel",
      "state": {
       "_model_module_version": "^1.2.2",
       "_view_module_version": "^1.2.2",
       "classes": " directed  multiple_edges ",
       "data": {
        "id": "model_year_mpg",
        "source": "model_year",
        "target": "mpg"
       },
       "removed": true,
       "selectable": false
      }
     },
     "a8876bcd6ebf4288ad6e2d1636736869": {
      "model_module": "jupyter-cytoscape",
      "model_module_version": "^1.2.2",
      "model_name": "NodeModel",
      "state": {
       "_model_module_version": "^1.2.2",
       "_view_module_version": "^1.2.2",
       "data": {
        "id": "origin",
        "label": "origin"
       },
       "grabbable": true,
       "grabbed": false,
       "position": {
        "x": 492.73548508808767,
        "y": 163.54320824648752
       },
       "selectable": false
      }
     },
     "a89f578f2f324645b5a8ace669fd163f": {
      "model_module": "@jupyter-widgets/base",
      "model_module_version": "1.2.0",
      "model_name": "LayoutModel",
      "state": {}
     },
     "a8a2ac4e9541415784654eff797cdfac": {
      "model_module": "jupyter-cytoscape",
      "model_module_version": "^1.2.2",
      "model_name": "EdgeModel",
      "state": {
       "_model_module_version": "^1.2.2",
       "_view_module_version": "^1.2.2",
       "classes": " directed  multiple_edges ",
       "data": {
        "id": "weight_acceleration",
        "source": "weight",
        "target": "acceleration"
       },
       "selectable": false
      }
     },
     "a8d720a1b5c744088912d34c9cb3fafe": {
      "model_module": "jupyter-cytoscape",
      "model_module_version": "^1.2.2",
      "model_name": "EdgeModel",
      "state": {
       "_model_module_version": "^1.2.2",
       "_view_module_version": "^1.2.2",
       "classes": " directed  multiple_edges ",
       "data": {
        "id": "displacement_acceleration",
        "source": "displacement",
        "target": "acceleration"
       },
       "selectable": false
      }
     },
     "a8d776a42244404985db2a2a86ea9da9": {
      "model_module": "jupyter-cytoscape",
      "model_module_version": "^1.2.2",
      "model_name": "EdgeModel",
      "state": {
       "_model_module_version": "^1.2.2",
       "_view_module_version": "^1.2.2",
       "classes": " directed  multiple_edges ",
       "data": {
        "id": "model_year_mpg",
        "source": "model_year",
        "target": "mpg"
       },
       "selectable": false
      }
     },
     "a8fa02c084c448b5ba13b4f5a0b61654": {
      "model_module": "jupyter-cytoscape",
      "model_module_version": "^1.2.2",
      "model_name": "EdgeModel",
      "state": {
       "_model_module_version": "^1.2.2",
       "_view_module_version": "^1.2.2",
       "classes": " directed  multiple_edges ",
       "data": {
        "id": "cylinders_origin",
        "source": "cylinders",
        "target": "origin"
       },
       "removed": true,
       "selectable": false
      }
     },
     "a932fd2c4dd146fd9ad301f6cdca6ff2": {
      "model_module": "@jupyter-widgets/controls",
      "model_module_version": "1.5.0",
      "model_name": "ButtonStyleModel",
      "state": {}
     },
     "a942a61734d24fb1ac6d99464e998c02": {
      "model_module": "jupyter-cytoscape",
      "model_module_version": "^1.2.2",
      "model_name": "NodeModel",
      "state": {
       "_model_module_version": "^1.2.2",
       "_view_module_version": "^1.2.2",
       "data": {
        "id": "model_year",
        "label": "model_year"
       },
       "grabbable": true,
       "grabbed": false,
       "position": {
        "x": 1042.8069887493355,
        "y": 323.4086206124129
       },
       "removed": true,
       "selectable": false
      }
     },
     "a96042ca179544bd9887492736eca525": {
      "model_module": "jupyter-cytoscape",
      "model_module_version": "^1.2.2",
      "model_name": "NodeModel",
      "state": {
       "_model_module_version": "^1.2.2",
       "_view_module_version": "^1.2.2",
       "data": {
        "id": "origin",
        "label": "origin"
       },
       "grabbable": true,
       "grabbed": false,
       "position": {
        "x": 995.7354850880891,
        "y": 163.5432082464874
       },
       "selectable": false
      }
     },
     "a99c760e5f244c99b6fe36721890fab5": {
      "model_module": "@jupyter-widgets/controls",
      "model_module_version": "1.5.0",
      "model_name": "ButtonModel",
      "state": {
       "description": "Change Direction",
       "disabled": true,
       "layout": "IPY_MODEL_e75a16abefe04a3c95b1005eea3e9c5c",
       "style": "IPY_MODEL_03d8110729cc46ee88337b00277bf0b8"
      }
     },
     "a9a2e0961a1a48158264d15e1957c6ce": {
      "model_module": "@jupyter-widgets/base",
      "model_module_version": "1.2.0",
      "model_name": "LayoutModel",
      "state": {}
     },
     "a9c5bb1e5b1b4afd9772c8a10a20b3cc": {
      "model_module": "jupyter-cytoscape",
      "model_module_version": "^1.2.2",
      "model_name": "NodeModel",
      "state": {
       "_model_module_version": "^1.2.2",
       "_view_module_version": "^1.2.2",
       "data": {
        "id": "displacement",
        "label": "displacement"
       },
       "grabbable": true,
       "grabbed": false,
       "position": {
        "x": 508.19368815284633,
        "y": 245.75873258532533
       },
       "removed": true,
       "selectable": false
      }
     },
     "a9dd76bd055b44bbb1dcd8422daeb730": {
      "model_module": "jupyter-cytoscape",
      "model_module_version": "^1.2.2",
      "model_name": "EdgeModel",
      "state": {
       "_model_module_version": "^1.2.2",
       "_view_module_version": "^1.2.2",
       "classes": " directed  multiple_edges ",
       "data": {
        "id": "displacement_acceleration",
        "source": "displacement",
        "target": "acceleration"
       },
       "selectable": false
      }
     },
     "a9e1747922d94205b962c344b43a4a98": {
      "model_module": "@jupyter-widgets/base",
      "model_module_version": "1.2.0",
      "model_name": "LayoutModel",
      "state": {}
     },
     "aa13a5e5ba1540f2b58137ed727b100e": {
      "model_module": "jupyter-cytoscape",
      "model_module_version": "^1.2.2",
      "model_name": "NodeModel",
      "state": {
       "_model_module_version": "^1.2.2",
       "_view_module_version": "^1.2.2",
       "data": {
        "id": "displacement",
        "label": "displacement"
       },
       "grabbable": true,
       "grabbed": false,
       "position": {
        "x": 634.9512096086694,
        "y": 118.04438445863838
       },
       "selectable": false
      }
     },
     "aa2f3aee323b4e218bfcbdc5fcc68277": {
      "model_module": "jupyter-cytoscape",
      "model_module_version": "^1.2.2",
      "model_name": "EdgeModel",
      "state": {
       "_model_module_version": "^1.2.2",
       "_view_module_version": "^1.2.2",
       "classes": " directed  multiple_edges ",
       "data": {
        "id": "model_year_cylinders",
        "source": "model_year",
        "target": "cylinders"
       },
       "removed": true,
       "selectable": false
      }
     },
     "aa3fd511c04749459fa2a63abb2fb00b": {
      "model_module": "@jupyter-widgets/controls",
      "model_module_version": "1.5.0",
      "model_name": "ButtonStyleModel",
      "state": {}
     },
     "aa811bd5fb954281974b3484656cdaa3": {
      "model_module": "jupyter-cytoscape",
      "model_module_version": "^1.2.2",
      "model_name": "CytoscapeModel",
      "state": {
       "_interaction_handlers": {
        "edge": [
         "click"
        ],
        "node": [
         "click"
        ]
       },
       "_model_module_version": "^1.2.2",
       "_view_module_version": "^1.2.2",
       "auto_ungrabify": false,
       "autolock": false,
       "cytoscape_layout": {
        "name": "cola"
       },
       "cytoscape_style": [
        {
         "selector": "node",
         "style": {
          "background-color": "blue",
          "font-family": "arial",
          "font-size": "10px",
          "label": "data(label)"
         }
        },
        {
         "selector": "edge",
         "style": {
          "curve-style": "bezier",
          "line-color": "#9dbaea",
          "target-arrow-color": "#9dbaea",
          "target-arrow-shape": "triangle",
          "width": 4
         }
        },
        {
         "css": {
          "line-color": "red"
         },
         "selector": "edge.selected"
        },
        {
         "css": {
          "background-color": "red"
         },
         "selector": "node.selected"
        }
       ],
       "desktop_tap_threshold": 4,
       "graph": "IPY_MODEL_6ac0db0cebb14af6a2f9c8022cdb64a8",
       "headless": false,
       "hide_edges_on_viewport": false,
       "layout": "IPY_MODEL_421fd104ecff4cb39a574e9fe092f2cc",
       "max_zoom": 1e+50,
       "min_zoom": 1e-50,
       "motion_blur": false,
       "motion_blur_opacity": 0.2,
       "panning_enabled": true,
       "pixel_ratio": "auto",
       "rendered_position": {
        "renderedPosition": {
         "x": 100,
         "y": 100
        }
       },
       "selection_type": "single",
       "style_enabled": true,
       "texture_on_viewport": false,
       "tooltip_source": "tooltip",
       "touch_tap_threshold": 8,
       "user_panning_enabled": true,
       "user_zooming_enabled": true,
       "wheel_sensitivity": 1,
       "zoom": 2,
       "zooming_enabled": true
      }
     },
     "aaaadc99fe474396bc2b21ebb0cbdcac": {
      "model_module": "@jupyter-widgets/controls",
      "model_module_version": "1.5.0",
      "model_name": "ButtonModel",
      "state": {
       "description": "Delete Edge",
       "disabled": true,
       "layout": "IPY_MODEL_7c5a773a4ea24a35bf5b90903eafcdef",
       "style": "IPY_MODEL_e3aa8c8c04724987820d5df8fb4b5218"
      }
     },
     "ab69445752b240938be621d82066f05b": {
      "model_module": "jupyter-cytoscape",
      "model_module_version": "^1.2.2",
      "model_name": "NodeModel",
      "state": {
       "_model_module_version": "^1.2.2",
       "_view_module_version": "^1.2.2",
       "data": {
        "id": "model_year",
        "label": "model_year"
       },
       "grabbable": true,
       "grabbed": false,
       "position": {
        "x": 512.1367639374769,
        "y": 336.51257169240756
       },
       "selectable": false
      }
     },
     "ab8d0318d474423395d1f26ec6780fe6": {
      "model_module": "jupyter-cytoscape",
      "model_module_version": "^1.2.2",
      "model_name": "EdgeModel",
      "state": {
       "_model_module_version": "^1.2.2",
       "_view_module_version": "^1.2.2",
       "classes": " directed  multiple_edges ",
       "data": {
        "id": "displacement_acceleration",
        "source": "displacement",
        "target": "acceleration"
       },
       "selectable": false
      }
     },
     "abcae7328e7d49a4aff99c03ec724170": {
      "model_module": "jupyter-cytoscape",
      "model_module_version": "^1.2.2",
      "model_name": "EdgeModel",
      "state": {
       "_model_module_version": "^1.2.2",
       "_view_module_version": "^1.2.2",
       "classes": " directed  multiple_edges ",
       "data": {
        "id": "horsepower_acceleration",
        "source": "horsepower",
        "target": "acceleration"
       },
       "removed": true,
       "selectable": false
      }
     },
     "ac058097b4234575b3571bb9ddc78608": {
      "model_module": "@jupyter-widgets/controls",
      "model_module_version": "1.5.0",
      "model_name": "ButtonStyleModel",
      "state": {}
     },
     "ac2675ae70434cc7901ba7068357d0c2": {
      "model_module": "jupyter-cytoscape",
      "model_module_version": "^1.2.2",
      "model_name": "EdgeModel",
      "state": {
       "_model_module_version": "^1.2.2",
       "_view_module_version": "^1.2.2",
       "classes": " directed  multiple_edges ",
       "data": {
        "id": "weight_mpg",
        "source": "weight",
        "target": "mpg"
       },
       "selectable": false
      }
     },
     "ac74ec9a5275499ea4252e0867b19cf6": {
      "model_module": "jupyter-cytoscape",
      "model_module_version": "^1.2.2",
      "model_name": "NodeModel",
      "state": {
       "_model_module_version": "^1.2.2",
       "_view_module_version": "^1.2.2",
       "data": {
        "id": "mpg",
        "label": "mpg"
       },
       "grabbable": true,
       "grabbed": false,
       "position": {
        "x": 729.7678640767557,
        "y": 108.708789863225
       },
       "removed": true,
       "selectable": false
      }
     },
     "ac775bfa61e94198a0208d98b377df03": {
      "model_module": "jupyter-cytoscape",
      "model_module_version": "^1.2.2",
      "model_name": "EdgeModel",
      "state": {
       "_model_module_version": "^1.2.2",
       "_view_module_version": "^1.2.2",
       "classes": " directed  multiple_edges ",
       "data": {
        "id": "displacement_weight",
        "source": "displacement",
        "target": "weight"
       },
       "selectable": false
      }
     },
     "ac9b03d625564ddc88dd6145e6e304af": {
      "model_module": "jupyter-cytoscape",
      "model_module_version": "^1.2.2",
      "model_name": "EdgeModel",
      "state": {
       "_model_module_version": "^1.2.2",
       "_view_module_version": "^1.2.2",
       "classes": " directed  multiple_edges ",
       "data": {
        "id": "displacement_cylinders",
        "source": "displacement",
        "target": "cylinders"
       },
       "removed": true,
       "selectable": false
      }
     },
     "acb036818e0b4a1e834670dda71e2770": {
      "model_module": "@jupyter-widgets/controls",
      "model_module_version": "1.5.0",
      "model_name": "ButtonStyleModel",
      "state": {}
     },
     "ad456d09bd1b40b3839cdf6b7ae93379": {
      "model_module": "jupyter-cytoscape",
      "model_module_version": "^1.2.2",
      "model_name": "EdgeModel",
      "state": {
       "_model_module_version": "^1.2.2",
       "_view_module_version": "^1.2.2",
       "classes": " directed  multiple_edges ",
       "data": {
        "id": "mpg_origin",
        "source": "mpg",
        "target": "origin"
       },
       "removed": true,
       "selectable": false
      }
     },
     "ad58c47986484cf4a3ee5f95561ff34e": {
      "model_module": "jupyter-cytoscape",
      "model_module_version": "^1.2.2",
      "model_name": "NodeModel",
      "state": {
       "_model_module_version": "^1.2.2",
       "_view_module_version": "^1.2.2",
       "data": {
        "id": "horsepower",
        "label": "horsepower"
       },
       "grabbable": true,
       "grabbed": false,
       "position": {
        "x": 1082.0624766836083,
        "y": 213.55132768320644
       },
       "selectable": false
      }
     },
     "ad6f35cca1ee408bb4831b258a04eb06": {
      "model_module": "jupyter-cytoscape",
      "model_module_version": "^1.2.2",
      "model_name": "NodeModel",
      "state": {
       "_model_module_version": "^1.2.2",
       "_view_module_version": "^1.2.2",
       "data": {
        "id": "cylinders",
        "label": "cylinders"
       },
       "grabbable": true,
       "grabbed": false,
       "position": {
        "x": 557.9465824813515,
        "y": 205.006079733598
       },
       "removed": true,
       "selectable": false
      }
     },
     "ad86637f451544b192b0a7b15e2f9499": {
      "model_module": "jupyter-cytoscape",
      "model_module_version": "^1.2.2",
      "model_name": "EdgeModel",
      "state": {
       "_model_module_version": "^1.2.2",
       "_view_module_version": "^1.2.2",
       "classes": " directed  multiple_edges ",
       "data": {
        "id": "mpg_origin",
        "source": "mpg",
        "target": "origin"
       },
       "selectable": false
      }
     },
     "ad87869c755b458ea34f02e54ebaa66f": {
      "model_module": "jupyter-cytoscape",
      "model_module_version": "^1.2.2",
      "model_name": "EdgeModel",
      "state": {
       "_model_module_version": "^1.2.2",
       "_view_module_version": "^1.2.2",
       "classes": " directed  multiple_edges ",
       "data": {
        "id": "model_year_weight",
        "source": "model_year",
        "target": "weight"
       },
       "removed": true,
       "selectable": false
      }
     },
     "ad92ccc10c9344d38012a080c16a4320": {
      "model_module": "jupyter-cytoscape",
      "model_module_version": "^1.2.2",
      "model_name": "EdgeModel",
      "state": {
       "_model_module_version": "^1.2.2",
       "_view_module_version": "^1.2.2",
       "classes": " directed  multiple_edges ",
       "data": {
        "id": "displacement_horsepower",
        "source": "displacement",
        "target": "horsepower"
       },
       "selectable": false
      }
     },
     "adc1e547ff604f80ba691e115fd41530": {
      "model_module": "jupyter-cytoscape",
      "model_module_version": "^1.2.2",
      "model_name": "EdgeModel",
      "state": {
       "_model_module_version": "^1.2.2",
       "_view_module_version": "^1.2.2",
       "classes": " directed  multiple_edges ",
       "data": {
        "id": "mpg_origin",
        "source": "mpg",
        "target": "origin"
       },
       "selectable": false
      }
     },
     "addfd0d6d7674569b4e95336f166c4a1": {
      "model_module": "@jupyter-widgets/base",
      "model_module_version": "1.2.0",
      "model_name": "LayoutModel",
      "state": {}
     },
     "adeeafd3a7864d59ae52449ad894f15c": {
      "model_module": "jupyter-cytoscape",
      "model_module_version": "^1.2.2",
      "model_name": "NodeModel",
      "state": {
       "_model_module_version": "^1.2.2",
       "_view_module_version": "^1.2.2",
       "data": {
        "id": "cylinders",
        "label": "cylinders"
       },
       "grabbable": true,
       "grabbed": false,
       "position": {
        "x": 646.7856437409434,
        "y": 52.63280693096855
       },
       "selectable": false
      }
     },
     "ae3ca227949946e6ac3bf00214a967e4": {
      "model_module": "jupyter-cytoscape",
      "model_module_version": "^1.2.2",
      "model_name": "EdgeModel",
      "state": {
       "_model_module_version": "^1.2.2",
       "_view_module_version": "^1.2.2",
       "classes": " directed  multiple_edges ",
       "data": {
        "id": "horsepower_acceleration",
        "source": "horsepower",
        "target": "acceleration"
       },
       "selectable": false
      }
     },
     "ae5ccad3ab284b86bd1c903fc0c53f73": {
      "model_module": "jupyter-cytoscape",
      "model_module_version": "^1.2.2",
      "model_name": "EdgeModel",
      "state": {
       "_model_module_version": "^1.2.2",
       "_view_module_version": "^1.2.2",
       "classes": " directed  multiple_edges ",
       "data": {
        "id": "model_year_acceleration",
        "source": "model_year",
        "target": "acceleration"
       },
       "removed": true,
       "selectable": false
      }
     },
     "ae7c0a83b7dc495ab9a25c8b3375b75c": {
      "model_module": "jupyter-cytoscape",
      "model_module_version": "^1.2.2",
      "model_name": "EdgeModel",
      "state": {
       "_model_module_version": "^1.2.2",
       "_view_module_version": "^1.2.2",
       "classes": " directed  multiple_edges ",
       "data": {
        "id": "origin_horsepower",
        "source": "origin",
        "target": "horsepower"
       },
       "selectable": false
      }
     },
     "ae8efc6398af4768b9ce8244dc2cf890": {
      "model_module": "jupyter-cytoscape",
      "model_module_version": "^1.2.2",
      "model_name": "GraphModel",
      "state": {
       "_adj": {
        "acceleration": {},
        "cylinders": {},
        "displacement": {},
        "horsepower": {},
        "model_year": {},
        "mpg": {},
        "origin": {},
        "weight": {}
       },
       "_model_module_version": "^1.2.2",
       "_view_module": "jupyter-cytoscape",
       "_view_module_version": "^1.2.2",
       "edges": [
        "IPY_MODEL_55defb99c86941e28d089e25cb09c617",
        "IPY_MODEL_a62d9a85f53e4716ad5e805be00fa1cb",
        "IPY_MODEL_89ad9a56538f4460bad9db61a3e1c52a",
        "IPY_MODEL_115630da665c431d9c8f53c257028d5f",
        "IPY_MODEL_dc7c834231b747678ac8d110974a6427",
        "IPY_MODEL_35f2b258d46d453486cf1aea0f7f5a2b",
        "IPY_MODEL_51275ebe433a4e62ab43b32e9be57bf1",
        "IPY_MODEL_3e9c0bd3f5f8458fa06b7fe7f52abd54",
        "IPY_MODEL_31bba5b0ffff457f93b4922f8e28291a",
        "IPY_MODEL_520e0c7a0a204e8fa8bf58758396c802",
        "IPY_MODEL_ff67a903d22a48cfacfa6bccbdec6037",
        "IPY_MODEL_ae3ca227949946e6ac3bf00214a967e4",
        "IPY_MODEL_c69ba34d7d6f41a79266429bb6ab5992",
        "IPY_MODEL_a4320b18e4ff4953a1aca3ed906a7efd",
        "IPY_MODEL_0969c6a97355498a957f9fc80678130e",
        "IPY_MODEL_9f011a59c93544c18ebf9b539d07e4ee"
       ],
       "nodes": [
        "IPY_MODEL_4efe3f219ee14c45945505ebf2298169",
        "IPY_MODEL_bd8167371d4348e38f3d06a1706ed233",
        "IPY_MODEL_db1b2f1416c84a7392a08d358f5aca47",
        "IPY_MODEL_5ad123e55f05427f85000629dc1ccd06",
        "IPY_MODEL_1f048c0f1fbf4292b508398817e8a780",
        "IPY_MODEL_095f96eac91748e4bec0c1be8da7abc5",
        "IPY_MODEL_5b6643ecb103431b9c5560c761114c32",
        "IPY_MODEL_b1df9ad30f4f4330b9f4c0cdac3e6453"
       ]
      }
     },
     "aee53370f10942329601bba4d7849efa": {
      "model_module": "jupyter-cytoscape",
      "model_module_version": "^1.2.2",
      "model_name": "NodeModel",
      "state": {
       "_model_module_version": "^1.2.2",
       "_view_module_version": "^1.2.2",
       "data": {
        "id": "model_year",
        "label": "model_year"
       },
       "grabbable": true,
       "grabbed": false,
       "position": {
        "x": 559.3412859858755,
        "y": 263.5513286832067
       },
       "selectable": false
      }
     },
     "af11ccaff1a747b38762c27001794cc5": {
      "model_module": "jupyter-cytoscape",
      "model_module_version": "^1.2.2",
      "model_name": "GraphModel",
      "state": {
       "_adj": {
        "acceleration": {},
        "cylinders": {},
        "displacement": {},
        "horsepower": {},
        "model_year": {},
        "mpg": {},
        "origin": {},
        "weight": {}
       },
       "_model_module_version": "^1.2.2",
       "_view_module": "jupyter-cytoscape",
       "_view_module_version": "^1.2.2",
       "edges": [
        "IPY_MODEL_335cfc6807454f10b7da6465c8feb139",
        "IPY_MODEL_ff06c2f3583a4666ba27ad5f131c44a4",
        "IPY_MODEL_dcabc3b5e3c44b159c95ae17510ddcab",
        "IPY_MODEL_4cb2bba357084c1bab9f90192b9a600a",
        "IPY_MODEL_4fe6a258526843939e337dc6d8349858",
        "IPY_MODEL_fedad37ce4744ae48b75a3bc652c03d4",
        "IPY_MODEL_58c441cd4b284d9ca7c7a0f16eddc9a8",
        "IPY_MODEL_c52c78abde2b426ab90b7b294c6f3988",
        "IPY_MODEL_ce24d1fe3d29429887c3d23f20b9a42f",
        "IPY_MODEL_b3116a433b9f477999668098fd434648",
        "IPY_MODEL_083433001a10482ca116856b61788ed5",
        "IPY_MODEL_fa62825c7f1c483ca5a4b265af92926a",
        "IPY_MODEL_5edb0af25d5148c9a65796069335ab95"
       ],
       "nodes": [
        "IPY_MODEL_7e8eb9aa77d74ea8a7443c81199d01b1",
        "IPY_MODEL_e5d722721fda42908ee8a2823779535b",
        "IPY_MODEL_9f9cad7563e546558f951df9f4e7bd11",
        "IPY_MODEL_d563eb886ee94b2a8b67e6b77fea8cf0",
        "IPY_MODEL_6cc1cb37728f4daf93d312b1fd37a28a",
        "IPY_MODEL_99446a4ae7f041d6a4badb1e0f9e9dc1",
        "IPY_MODEL_e1eb5be629704497864555b221dca6c6",
        "IPY_MODEL_d81f279ee555482e82fe01c51a1cb75e"
       ]
      }
     },
     "af2a1ad122e1400989d53195ef7fb07d": {
      "model_module": "jupyter-cytoscape",
      "model_module_version": "^1.2.2",
      "model_name": "NodeModel",
      "state": {
       "_model_module_version": "^1.2.2",
       "_view_module_version": "^1.2.2",
       "data": {
        "id": "weight",
        "label": "weight"
       },
       "grabbable": true,
       "grabbed": false,
       "position": {
        "x": 642.9562628653663,
        "y": 217.4603801092309
       },
       "removed": true,
       "selectable": false
      }
     },
     "af34e3d7833d4e3fb9191eca5b766d30": {
      "model_module": "jupyter-cytoscape",
      "model_module_version": "^1.2.2",
      "model_name": "EdgeModel",
      "state": {
       "_model_module_version": "^1.2.2",
       "_view_module_version": "^1.2.2",
       "classes": " directed  multiple_edges ",
       "data": {
        "id": "model_year_cylinders",
        "source": "model_year",
        "target": "cylinders"
       },
       "selectable": false
      }
     },
     "af6365abc4c24953a37a8febab630a8e": {
      "model_module": "@jupyter-widgets/base",
      "model_module_version": "1.2.0",
      "model_name": "LayoutModel",
      "state": {}
     },
     "af66e072f85743858dd08017f0a11ef0": {
      "model_module": "jupyter-cytoscape",
      "model_module_version": "^1.2.2",
      "model_name": "NodeModel",
      "state": {
       "_model_module_version": "^1.2.2",
       "_view_module_version": "^1.2.2",
       "data": {
        "id": "weight",
        "label": "weight"
       },
       "grabbable": true,
       "grabbed": false,
       "position": {
        "x": 533.3663186037871,
        "y": 184.44628456980857
       },
       "selectable": false
      }
     },
     "af6b8a72fe4f4f489c82ba1bf8899bd5": {
      "model_module": "@jupyter-widgets/base",
      "model_module_version": "1.2.0",
      "model_name": "LayoutModel",
      "state": {}
     },
     "afa198ba8c76447c88dee532a7d981cf": {
      "model_module": "jupyter-cytoscape",
      "model_module_version": "^1.2.2",
      "model_name": "NodeModel",
      "state": {
       "_model_module_version": "^1.2.2",
       "_view_module_version": "^1.2.2",
       "data": {
        "id": "mpg",
        "label": "mpg"
       },
       "grabbable": true,
       "grabbed": false,
       "position": {
        "x": 1093.1936174032205,
        "y": 237.5161062675866
       },
       "removed": true,
       "selectable": false
      }
     },
     "b063997d21084c6c8a35b5c2ac5f7a2b": {
      "model_module": "@jupyter-widgets/output",
      "model_module_version": "1.0.0",
      "model_name": "OutputModel",
      "state": {
       "layout": "IPY_MODEL_a4a53f9cd1364397a70d8033be71f580"
      }
     },
     "b08f90f4e8f849ecbde9b6a7f2e6590f": {
      "model_module": "jupyter-cytoscape",
      "model_module_version": "^1.2.2",
      "model_name": "EdgeModel",
      "state": {
       "_model_module_version": "^1.2.2",
       "_view_module_version": "^1.2.2",
       "classes": " directed  multiple_edges ",
       "data": {
        "id": "weight_acceleration",
        "source": "weight",
        "target": "acceleration"
       },
       "removed": true,
       "selectable": false
      }
     },
     "b08fe53585814f1b8e8c326c5516db56": {
      "model_module": "jupyter-cytoscape",
      "model_module_version": "^1.2.2",
      "model_name": "NodeModel",
      "state": {
       "_model_module_version": "^1.2.2",
       "_view_module_version": "^1.2.2",
       "data": {
        "id": "mpg",
        "label": "mpg"
       },
       "grabbable": true,
       "grabbed": false,
       "position": {
        "x": 603.7678640767559,
        "y": 108.70878986322509
       },
       "removed": true,
       "selectable": false
      }
     },
     "b0e3ef3f56aa4b9f90833395ca28ed1e": {
      "model_module": "jupyter-cytoscape",
      "model_module_version": "^1.2.2",
      "model_name": "EdgeModel",
      "state": {
       "_model_module_version": "^1.2.2",
       "_view_module_version": "^1.2.2",
       "classes": " multiple_edges directed selected",
       "data": {
        "id": "model_year_cylinders",
        "source": "model_year",
        "target": "cylinders"
       },
       "removed": true,
       "selectable": false
      }
     },
     "b1144f18aeea4386bc251f4c9576ec19": {
      "model_module": "jupyter-cytoscape",
      "model_module_version": "^1.2.2",
      "model_name": "EdgeModel",
      "state": {
       "_model_module_version": "^1.2.2",
       "_view_module_version": "^1.2.2",
       "classes": " directed  multiple_edges ",
       "data": {
        "id": "origin_horsepower",
        "source": "origin",
        "target": "horsepower"
       },
       "removed": true,
       "selectable": false
      }
     },
     "b1181676f3ce480da271e320569aaeb6": {
      "model_module": "jupyter-cytoscape",
      "model_module_version": "^1.2.2",
      "model_name": "EdgeModel",
      "state": {
       "_model_module_version": "^1.2.2",
       "_view_module_version": "^1.2.2",
       "classes": " directed  multiple_edges ",
       "data": {
        "id": "origin_horsepower",
        "source": "origin",
        "target": "horsepower"
       },
       "selectable": false
      }
     },
     "b14bb276dad24b969ec88695447fc65d": {
      "model_module": "jupyter-cytoscape",
      "model_module_version": "^1.2.2",
      "model_name": "NodeModel",
      "state": {
       "_model_module_version": "^1.2.2",
       "_view_module_version": "^1.2.2",
       "data": {
        "id": "horsepower",
        "label": "horsepower"
       },
       "grabbable": true,
       "grabbed": false,
       "position": {
        "x": 579.0624766836064,
        "y": 213.55132768320664
       },
       "selectable": false
      }
     },
     "b18a00caa9fb494a935c658bef449284": {
      "model_module": "jupyter-cytoscape",
      "model_module_version": "^1.2.2",
      "model_name": "EdgeModel",
      "state": {
       "_model_module_version": "^1.2.2",
       "_view_module_version": "^1.2.2",
       "classes": " directed  multiple_edges ",
       "data": {
        "id": "model_year_mpg",
        "source": "model_year",
        "target": "mpg"
       },
       "removed": true,
       "selectable": false
      }
     },
     "b1df9ad30f4f4330b9f4c0cdac3e6453": {
      "model_module": "jupyter-cytoscape",
      "model_module_version": "^1.2.2",
      "model_name": "NodeModel",
      "state": {
       "_model_module_version": "^1.2.2",
       "_view_module_version": "^1.2.2",
       "data": {
        "id": "origin",
        "label": "origin"
       },
       "grabbable": true,
       "grabbed": false,
       "position": {
        "x": 492.73548508808767,
        "y": 163.54320824648752
       },
       "selectable": false
      }
     },
     "b1f9502870db4879b367c850ac273302": {
      "model_module": "@jupyter-widgets/controls",
      "model_module_version": "1.5.0",
      "model_name": "ButtonStyleModel",
      "state": {}
     },
     "b20410db50c9416fb0f940c5699b18ec": {
      "model_module": "@jupyter-widgets/controls",
      "model_module_version": "1.5.0",
      "model_name": "ButtonModel",
      "state": {
       "description": "Change Direction",
       "disabled": true,
       "layout": "IPY_MODEL_923591c8c81a4de18c813607b263e70b",
       "style": "IPY_MODEL_bed12b3863c84d729048b69358d9656e"
      }
     },
     "b22c5f6a82d349a9b53ca7a114c56ac9": {
      "model_module": "@jupyter-widgets/output",
      "model_module_version": "1.0.0",
      "model_name": "OutputModel",
      "state": {
       "layout": "IPY_MODEL_7a95f90f336344f292279b5817eb88d2"
      }
     },
     "b291bc9945c34171bf934a521326590e": {
      "model_module": "jupyter-cytoscape",
      "model_module_version": "^1.2.2",
      "model_name": "EdgeModel",
      "state": {
       "_model_module_version": "^1.2.2",
       "_view_module_version": "^1.2.2",
       "classes": " directed  multiple_edges ",
       "data": {
        "id": "weight_acceleration",
        "source": "weight",
        "target": "acceleration"
       },
       "selectable": false
      }
     },
     "b2a8b014f5c94edfbb078b4a41de56aa": {
      "model_module": "jupyter-cytoscape",
      "model_module_version": "^1.2.2",
      "model_name": "EdgeModel",
      "state": {
       "_model_module_version": "^1.2.2",
       "_view_module_version": "^1.2.2",
       "classes": " directed  multiple_edges ",
       "data": {
        "id": "displacement_horsepower",
        "source": "displacement",
        "target": "horsepower"
       },
       "removed": true,
       "selectable": false
      }
     },
     "b2aaa1079286407c8d4c115f6e533a9a": {
      "model_module": "jupyter-cytoscape",
      "model_module_version": "^1.2.2",
      "model_name": "EdgeModel",
      "state": {
       "_model_module_version": "^1.2.2",
       "_view_module_version": "^1.2.2",
       "classes": " directed  multiple_edges ",
       "data": {
        "id": "displacement_horsepower",
        "source": "displacement",
        "target": "horsepower"
       },
       "removed": true,
       "selectable": false
      }
     },
     "b2d8150d5c35444fac14640a30dbb9a7": {
      "model_module": "@jupyter-widgets/controls",
      "model_module_version": "1.5.0",
      "model_name": "ButtonStyleModel",
      "state": {}
     },
     "b2dba405e7f841a3a6ca0b5e2b1a209d": {
      "model_module": "jupyter-cytoscape",
      "model_module_version": "^1.2.2",
      "model_name": "EdgeModel",
      "state": {
       "_model_module_version": "^1.2.2",
       "_view_module_version": "^1.2.2",
       "classes": " directed  multiple_edges ",
       "data": {
        "id": "model_year_cylinders",
        "source": "model_year",
        "target": "cylinders"
       },
       "selectable": false
      }
     },
     "b304917b1dac407eac473ba541281240": {
      "model_module": "jupyter-cytoscape",
      "model_module_version": "^1.2.2",
      "model_name": "EdgeModel",
      "state": {
       "_model_module_version": "^1.2.2",
       "_view_module_version": "^1.2.2",
       "classes": " directed  multiple_edges ",
       "data": {
        "id": "horsepower_acceleration",
        "source": "horsepower",
        "target": "acceleration"
       },
       "removed": true,
       "selectable": false
      }
     },
     "b3116a433b9f477999668098fd434648": {
      "model_module": "jupyter-cytoscape",
      "model_module_version": "^1.2.2",
      "model_name": "EdgeModel",
      "state": {
       "_model_module_version": "^1.2.2",
       "_view_module_version": "^1.2.2",
       "classes": " directed  multiple_edges ",
       "data": {
        "id": "displacement_origin",
        "source": "displacement",
        "target": "origin"
       },
       "selectable": false
      }
     },
     "b37897d20f514b5a8973c61e47314685": {
      "model_module": "jupyter-cytoscape",
      "model_module_version": "^1.2.2",
      "model_name": "EdgeModel",
      "state": {
       "_model_module_version": "^1.2.2",
       "_view_module_version": "^1.2.2",
       "classes": " directed  multiple_edges ",
       "data": {
        "id": "displacement_acceleration",
        "source": "displacement",
        "target": "acceleration"
       },
       "removed": true,
       "selectable": false
      }
     },
     "b393e0c5e2b048e9955f5cb372e1fd88": {
      "model_module": "jupyter-cytoscape",
      "model_module_version": "^1.2.2",
      "model_name": "NodeModel",
      "state": {
       "_model_module_version": "^1.2.2",
       "_view_module_version": "^1.2.2",
       "data": {
        "id": "model_year",
        "label": "model_year"
       },
       "grabbable": true,
       "grabbed": false,
       "position": {
        "x": 1234.6946615032155,
        "y": 325.79004762002285
       },
       "selectable": false
      }
     },
     "b41edeba22e14fd9a07e6d4d0d836e14": {
      "model_module": "jupyter-cytoscape",
      "model_module_version": "^1.2.2",
      "model_name": "NodeModel",
      "state": {
       "_model_module_version": "^1.2.2",
       "_view_module_version": "^1.2.2",
       "data": {
        "id": "model_year",
        "label": "model_year"
       },
       "grabbable": true,
       "grabbed": false,
       "position": {
        "x": 559.3412859858755,
        "y": 263.5513286832067
       },
       "selectable": false
      }
     },
     "b430b17e5dc74fa39ef148fa958e5299": {
      "model_module": "jupyter-cytoscape",
      "model_module_version": "^1.2.2",
      "model_name": "EdgeModel",
      "state": {
       "_model_module_version": "^1.2.2",
       "_view_module_version": "^1.2.2",
       "classes": " directed  multiple_edges ",
       "data": {
        "id": "cylinders_origin",
        "source": "cylinders",
        "target": "origin"
       },
       "selectable": false
      }
     },
     "b4878bc862e549a4a5dbbd14c7cd4ad9": {
      "model_module": "jupyter-cytoscape",
      "model_module_version": "^1.2.2",
      "model_name": "GraphModel",
      "state": {
       "_adj": {
        "acceleration": {},
        "cylinders": {},
        "displacement": {},
        "horsepower": {},
        "model_year": {},
        "mpg": {},
        "origin": {},
        "weight": {}
       },
       "_model_module_version": "^1.2.2",
       "_view_module": "jupyter-cytoscape",
       "_view_module_version": "^1.2.2",
       "edges": [
        "IPY_MODEL_9218b6aefff4497cb8eb8414d024f551",
        "IPY_MODEL_bfea0a07c87e4fc4afece8e52b37ec17",
        "IPY_MODEL_921638bd7cec44e492483133eef84501",
        "IPY_MODEL_749ab961068b4c55957f4808e2c4ce77",
        "IPY_MODEL_8f553626f43c46528b810d4e6b0f837a",
        "IPY_MODEL_46a490cb08ed4d44b3abee0afa8162ae",
        "IPY_MODEL_948e99c634374d6c84efd43c02054d59",
        "IPY_MODEL_f4ee4edf80bb4eaeaf85969f7e4f50c6",
        "IPY_MODEL_de7cbadb53d24e9aae00f1bb57984ca4",
        "IPY_MODEL_2f5bedbfaa1c4045b60a7678726a5351",
        "IPY_MODEL_7b519d2dcaa0455eb364b24345e224c3",
        "IPY_MODEL_cc7c50bd567243c4adb470ddc6fe6523",
        "IPY_MODEL_af34e3d7833d4e3fb9191eca5b766d30",
        "IPY_MODEL_a2009274c0414e2782f82851b987446d",
        "IPY_MODEL_d7aa0947baea4b58bc72eac7fad1e6d9",
        "IPY_MODEL_34065d5923f84af1bde75a015a03c214"
       ],
       "nodes": [
        "IPY_MODEL_cee38dfba293493097187df8cd37e7c5",
        "IPY_MODEL_c3a086f2848843b8aaffab8c7bff9e94",
        "IPY_MODEL_0487f37c16c14ac9a89fa07da4b20bd5",
        "IPY_MODEL_f6ac3bb97cad409db51e547f10164ef9",
        "IPY_MODEL_95d9707304324233a0b949b2ea488b10",
        "IPY_MODEL_430f03ce0c584a9bbd14290cff30f3f3",
        "IPY_MODEL_2b1c58c3eb6744a1925d652c33a6b50f",
        "IPY_MODEL_7dbb6e23f79a433a9a69f78a76c64152"
       ]
      }
     },
     "b48ad07aaac54457a9eef4468e08beeb": {
      "model_module": "@jupyter-widgets/base",
      "model_module_version": "1.2.0",
      "model_name": "LayoutModel",
      "state": {}
     },
     "b4db541ce6cd46878a88527767a8946e": {
      "model_module": "jupyter-cytoscape",
      "model_module_version": "^1.2.2",
      "model_name": "NodeModel",
      "state": {
       "_model_module_version": "^1.2.2",
       "_view_module_version": "^1.2.2",
       "data": {
        "id": "horsepower",
        "label": "horsepower"
       },
       "grabbable": true,
       "grabbed": false,
       "position": {
        "x": 703.9360436026986,
        "y": 175.07363957090448
       },
       "removed": true,
       "selectable": false
      }
     },
     "b4e23c626a0f425880642a3605ce256f": {
      "model_module": "@jupyter-widgets/base",
      "model_module_version": "1.2.0",
      "model_name": "LayoutModel",
      "state": {}
     },
     "b519b8a736a740c5ab3579e4bfeddad3": {
      "model_module": "jupyter-cytoscape",
      "model_module_version": "^1.2.2",
      "model_name": "NodeModel",
      "state": {
       "_model_module_version": "^1.2.2",
       "_view_module_version": "^1.2.2",
       "data": {
        "id": "acceleration",
        "label": "acceleration"
       },
       "grabbable": true,
       "grabbed": false,
       "position": {
        "x": 598.6565740712615,
        "y": 336.3251878079987
       },
       "selectable": false
      }
     },
     "b54c4bac632143e281d93e568b401622": {
      "model_module": "jupyter-cytoscape",
      "model_module_version": "^1.2.2",
      "model_name": "NodeModel",
      "state": {
       "_model_module_version": "^1.2.2",
       "_view_module_version": "^1.2.2",
       "data": {
        "id": "cylinders",
        "label": "cylinders"
       },
       "grabbable": true,
       "grabbed": false,
       "position": {
        "x": 433.0988645297568,
        "y": 243.59005208886958
       },
       "selectable": false
      }
     },
     "b5763a860c5f477cb19c463f282932b6": {
      "model_module": "jupyter-cytoscape",
      "model_module_version": "^1.2.2",
      "model_name": "NodeModel",
      "state": {
       "_model_module_version": "^1.2.2",
       "_view_module_version": "^1.2.2",
       "data": {
        "id": "horsepower",
        "label": "horsepower"
       },
       "grabbable": true,
       "grabbed": false,
       "position": {
        "x": 966.7198280611588,
        "y": 123.90313684467604
       },
       "removed": true,
       "selectable": false
      }
     },
     "b5785668849b48c5b50fa00e43756804": {
      "model_module": "jupyter-cytoscape",
      "model_module_version": "^1.2.2",
      "model_name": "NodeModel",
      "state": {
       "_model_module_version": "^1.2.2",
       "_view_module_version": "^1.2.2",
       "data": {
        "id": "model_year",
        "label": "model_year"
       },
       "grabbable": true,
       "grabbed": false,
       "position": {
        "x": 558.1635343662905,
        "y": 225.07364057090456
       },
       "removed": true,
       "selectable": false
      }
     },
     "b57b0e41723a466d8d6c0046b1bf4139": {
      "model_module": "jupyter-cytoscape",
      "model_module_version": "^1.2.2",
      "model_name": "NodeModel",
      "state": {
       "_model_module_version": "^1.2.2",
       "_view_module_version": "^1.2.2",
       "data": {
        "id": "weight",
        "label": "weight"
       },
       "grabbable": true,
       "grabbed": false,
       "position": {
        "x": 644.1038596983955,
        "y": 255.9492168408747
       },
       "selectable": false
      }
     },
     "b57c0062d4d4401faf72a4e5037f187f": {
      "model_module": "jupyter-cytoscape",
      "model_module_version": "^1.2.2",
      "model_name": "EdgeModel",
      "state": {
       "_model_module_version": "^1.2.2",
       "_view_module_version": "^1.2.2",
       "classes": " directed  multiple_edges ",
       "data": {
        "id": "displacement_horsepower",
        "source": "displacement",
        "target": "horsepower"
       },
       "selectable": false
      }
     },
     "b57cd6aa8f7249e8a2ed54915ac626d0": {
      "model_module": "jupyter-cytoscape",
      "model_module_version": "^1.2.2",
      "model_name": "EdgeModel",
      "state": {
       "_model_module_version": "^1.2.2",
       "_view_module_version": "^1.2.2",
       "classes": " directed  multiple_edges ",
       "data": {
        "id": "weight_horsepower",
        "source": "weight",
        "target": "horsepower"
       },
       "selectable": false
      }
     },
     "b5996ea1abb94b69b3cc692c36aa777d": {
      "model_module": "jupyter-cytoscape",
      "model_module_version": "^1.2.2",
      "model_name": "EdgeModel",
      "state": {
       "_model_module_version": "^1.2.2",
       "_view_module_version": "^1.2.2",
       "classes": " directed  multiple_edges ",
       "data": {
        "id": "model_year_acceleration",
        "source": "model_year",
        "target": "acceleration"
       },
       "selectable": false
      }
     },
     "b5fe058e25274d9092d0be7d8a6f783c": {
      "model_module": "jupyter-cytoscape",
      "model_module_version": "^1.2.2",
      "model_name": "NodeModel",
      "state": {
       "_model_module_version": "^1.2.2",
       "_view_module_version": "^1.2.2",
       "data": {
        "id": "cylinders",
        "label": "cylinders"
       },
       "grabbable": true,
       "grabbed": false,
       "position": {
        "x": 936.0988645297588,
        "y": 243.59005208886956
       },
       "selectable": false
      }
     },
     "b6252239076a493c82f83d2a9fed34a1": {
      "model_module": "@jupyter-widgets/controls",
      "model_module_version": "1.5.0",
      "model_name": "ButtonStyleModel",
      "state": {}
     },
     "b6271bf9414247ef919cd2eb21f1ac42": {
      "model_module": "@jupyter-widgets/controls",
      "model_module_version": "1.5.0",
      "model_name": "ButtonStyleModel",
      "state": {}
     },
     "b63ae0f1618140e7836cf0e21b7cc5c8": {
      "model_module": "@jupyter-widgets/controls",
      "model_module_version": "1.5.0",
      "model_name": "ButtonStyleModel",
      "state": {}
     },
     "b66bc3be82084db6b256a4a65ddefbf9": {
      "model_module": "jupyter-cytoscape",
      "model_module_version": "^1.2.2",
      "model_name": "EdgeModel",
      "state": {
       "_model_module_version": "^1.2.2",
       "_view_module_version": "^1.2.2",
       "classes": " directed  multiple_edges ",
       "data": {
        "id": "weight_mpg",
        "source": "weight",
        "target": "mpg"
       },
       "removed": true,
       "selectable": false
      }
     },
     "b69392154f864ece950952d2c206dde5": {
      "model_module": "jupyter-cytoscape",
      "model_module_version": "^1.2.2",
      "model_name": "EdgeModel",
      "state": {
       "_model_module_version": "^1.2.2",
       "_view_module_version": "^1.2.2",
       "classes": " directed  multiple_edges ",
       "data": {
        "id": "displacement_origin",
        "source": "displacement",
        "target": "origin"
       },
       "removed": true,
       "selectable": false
      }
     },
     "b70c3f29c931439f8903a95a58314890": {
      "model_module": "jupyter-cytoscape",
      "model_module_version": "^1.2.2",
      "model_name": "NodeModel",
      "state": {
       "_model_module_version": "^1.2.2",
       "_view_module_version": "^1.2.2",
       "data": {
        "id": "origin",
        "label": "origin"
       },
       "grabbable": true,
       "grabbed": false,
       "position": {
        "x": 492.73548508808767,
        "y": 163.54320824648752
       },
       "selectable": false
      }
     },
     "b7151c1809f5458588b3e29c51295c85": {
      "model_module": "jupyter-cytoscape",
      "model_module_version": "^1.2.2",
      "model_name": "GraphModel",
      "state": {
       "_adj": {},
       "_model_module_version": "^1.2.2",
       "_view_module": "jupyter-cytoscape",
       "_view_module_version": "^1.2.2"
      }
     },
     "b75c556ea2d94f698d03d5c24afa646a": {
      "model_module": "jupyter-cytoscape",
      "model_module_version": "^1.2.2",
      "model_name": "EdgeModel",
      "state": {
       "_model_module_version": "^1.2.2",
       "_view_module_version": "^1.2.2",
       "classes": " directed  multiple_edges ",
       "data": {
        "id": "horsepower_acceleration",
        "source": "horsepower",
        "target": "acceleration"
       },
       "removed": true,
       "selectable": false
      }
     },
     "b7cf6146249b4d8688853bd951f45412": {
      "model_module": "jupyter-cytoscape",
      "model_module_version": "^1.2.2",
      "model_name": "EdgeModel",
      "state": {
       "_model_module_version": "^1.2.2",
       "_view_module_version": "^1.2.2",
       "classes": " directed  multiple_edges ",
       "data": {
        "id": "weight_acceleration",
        "source": "weight",
        "target": "acceleration"
       },
       "selectable": false
      }
     },
     "b7e9134525444bcc8582401d5ea87af2": {
      "model_module": "jupyter-cytoscape",
      "model_module_version": "^1.2.2",
      "model_name": "EdgeModel",
      "state": {
       "_model_module_version": "^1.2.2",
       "_view_module_version": "^1.2.2",
       "classes": " directed  multiple_edges ",
       "data": {
        "id": "model_year_mpg",
        "source": "model_year",
        "target": "mpg"
       },
       "selectable": false
      }
     },
     "b87d73d6ef554f18b76cf523d06bf48a": {
      "model_module": "jupyter-cytoscape",
      "model_module_version": "^1.2.2",
      "model_name": "NodeModel",
      "state": {
       "_model_module_version": "^1.2.2",
       "_view_module_version": "^1.2.2",
       "data": {
        "id": "model_year",
        "label": "model_year"
       },
       "grabbable": true,
       "grabbed": false,
       "position": {
        "x": 559.3412859858755,
        "y": 263.5513286832067
       },
       "selectable": false
      }
     },
     "b88ad489009b4ae3a1493ac40f967ce6": {
      "model_module": "jupyter-cytoscape",
      "model_module_version": "^1.2.2",
      "model_name": "GraphModel",
      "state": {
       "_adj": {
        "acceleration": {},
        "cylinders": {},
        "displacement": {},
        "horsepower": {},
        "model_year": {},
        "mpg": {},
        "origin": {},
        "weight": {}
       },
       "_model_module_version": "^1.2.2",
       "_view_module": "jupyter-cytoscape",
       "_view_module_version": "^1.2.2",
       "edges": [
        "IPY_MODEL_0efbb84cdce0444ba4484cb6066d9deb",
        "IPY_MODEL_8a8e409908d3491eb48d45dd50421053",
        "IPY_MODEL_fc529c7d501c4993a6b016baa4c50512",
        "IPY_MODEL_512a70de7b494fbc8fc460e82b4f93e0",
        "IPY_MODEL_cb5ed20df39943ae8551e94fad5432bc",
        "IPY_MODEL_294001eb483845b69e702cc91995a47c",
        "IPY_MODEL_616d83e07c8b45c4ab1e5caec1628e9c",
        "IPY_MODEL_4cce591a834b4652b9eee52ccc2960fe",
        "IPY_MODEL_8cc81deb1fc2448983672fe2d30e3fc2",
        "IPY_MODEL_e35df131ff814e44b3c1a6bfe8a30907",
        "IPY_MODEL_33d7744fae5144428743b31bd260a507",
        "IPY_MODEL_69e7d57f12e5409abf7d483669ed1f16",
        "IPY_MODEL_052fc36f78c84e00aeab9460baa039ee",
        "IPY_MODEL_744b558507344747b57ce484362ae516",
        "IPY_MODEL_8f7651d18d7d4a9fa2f9bfe2f07d9c7e",
        "IPY_MODEL_62c9fa80992b418da7080e41d7152fff"
       ],
       "nodes": [
        "IPY_MODEL_08b975de97264198903dd5f195aa8d2a",
        "IPY_MODEL_b54c4bac632143e281d93e568b401622",
        "IPY_MODEL_50f9ed0b1a2743fba0c3a2ad3d820cf2",
        "IPY_MODEL_c000d9dc675d4390aa9cf260f4a7c10f",
        "IPY_MODEL_822165f718734d3192dbacbddb7f117c",
        "IPY_MODEL_0e3d2ff31cea4ae59acf173bda4dda8b",
        "IPY_MODEL_94e09886348b4895b8663cc51e7e38b0",
        "IPY_MODEL_f010f84a2fa64e5b82421e3bb087d35b"
       ]
      }
     },
     "b8b8ba8e303747e3ad8420921212f8f6": {
      "model_module": "jupyter-cytoscape",
      "model_module_version": "^1.2.2",
      "model_name": "NodeModel",
      "state": {
       "_model_module_version": "^1.2.2",
       "_view_module_version": "^1.2.2",
       "data": {
        "id": "cylinders",
        "label": "cylinders"
       },
       "grabbable": true,
       "grabbed": false,
       "position": {
        "x": 925.0228147752665,
        "y": 18.547857683630696
       },
       "selectable": false
      }
     },
     "b8d3ef7f94d54820a1bb8ec829828569": {
      "model_module": "jupyter-cytoscape",
      "model_module_version": "^1.2.2",
      "model_name": "EdgeModel",
      "state": {
       "_model_module_version": "^1.2.2",
       "_view_module_version": "^1.2.2",
       "classes": " directed  multiple_edges ",
       "data": {
        "id": "weight_horsepower",
        "source": "weight",
        "target": "horsepower"
       },
       "removed": true,
       "selectable": false
      }
     },
     "b8db96e045b34d3aae18feb846f61e10": {
      "model_module": "jupyter-cytoscape",
      "model_module_version": "^1.2.2",
      "model_name": "EdgeModel",
      "state": {
       "_model_module_version": "^1.2.2",
       "_view_module_version": "^1.2.2",
       "classes": " directed  multiple_edges ",
       "data": {
        "id": "displacement_origin",
        "source": "displacement",
        "target": "origin"
       },
       "removed": true,
       "selectable": false
      }
     },
     "b8de071d9890476799a984840cab77d9": {
      "model_module": "@jupyter-widgets/controls",
      "model_module_version": "1.5.0",
      "model_name": "ButtonStyleModel",
      "state": {}
     },
     "b8ef5eac2ac549ec93130233c8f1663a": {
      "model_module": "jupyter-cytoscape",
      "model_module_version": "^1.2.2",
      "model_name": "EdgeModel",
      "state": {
       "_model_module_version": "^1.2.2",
       "_view_module_version": "^1.2.2",
       "classes": " directed  multiple_edges ",
       "data": {
        "id": "weight_acceleration",
        "source": "weight",
        "target": "acceleration"
       },
       "selectable": false
      }
     },
     "b964bf96ffd24927aa675a965142d4b1": {
      "model_module": "@jupyter-widgets/base",
      "model_module_version": "1.2.0",
      "model_name": "LayoutModel",
      "state": {}
     },
     "b9b458bc21b54c2cb8b8959e6f763153": {
      "model_module": "jupyter-cytoscape",
      "model_module_version": "^1.2.2",
      "model_name": "NodeModel",
      "state": {
       "_model_module_version": "^1.2.2",
       "_view_module_version": "^1.2.2",
       "data": {
        "id": "horsepower",
        "label": "horsepower"
       },
       "grabbable": true,
       "grabbed": false,
       "position": {
        "x": 921.9360436026988,
        "y": 175.07363957090456
       },
       "removed": true,
       "selectable": false
      }
     },
     "b9c7e794cc3e4dec95089ee9a35eab25": {
      "model_module": "jupyter-cytoscape",
      "model_module_version": "^1.2.2",
      "model_name": "EdgeModel",
      "state": {
       "_model_module_version": "^1.2.2",
       "_view_module_version": "^1.2.2",
       "classes": " directed  multiple_edges ",
       "data": {
        "id": "weight_mpg",
        "source": "weight",
        "target": "mpg"
       },
       "selectable": false
      }
     },
     "b9cfe92ce4f4468f80ef748757a96a7a": {
      "model_module": "jupyter-cytoscape",
      "model_module_version": "^1.2.2",
      "model_name": "NodeModel",
      "state": {
       "_model_module_version": "^1.2.2",
       "_view_module_version": "^1.2.2",
       "data": {
        "id": "horsepower",
        "label": "horsepower"
       },
       "grabbable": true,
       "grabbed": false,
       "position": {
        "x": 579.0624766836064,
        "y": 213.55132768320664
       },
       "selectable": false
      }
     },
     "b9fba989ffd64673823ae2b1a8541c93": {
      "model_module": "jupyter-cytoscape",
      "model_module_version": "^1.2.2",
      "model_name": "EdgeModel",
      "state": {
       "_model_module_version": "^1.2.2",
       "_view_module_version": "^1.2.2",
       "classes": " directed  multiple_edges ",
       "data": {
        "id": "displacement_origin",
        "source": "displacement",
        "target": "origin"
       },
       "removed": true,
       "selectable": false
      }
     },
     "ba03f7f6ecdf4625bcbfd9be7b368174": {
      "model_module": "jupyter-cytoscape",
      "model_module_version": "^1.2.2",
      "model_name": "NodeModel",
      "state": {
       "_model_module_version": "^1.2.2",
       "_view_module_version": "^1.2.2",
       "data": {
        "id": "displacement",
        "label": "displacement"
       },
       "grabbable": true,
       "grabbed": false,
       "position": {
        "x": 985.242872952852,
        "y": 188.9940456024892
       },
       "removed": true,
       "selectable": false
      }
     },
     "ba0f37c82c4248d8aba63c929b08ebcc": {
      "model_module": "jupyter-cytoscape",
      "model_module_version": "^1.2.2",
      "model_name": "EdgeModel",
      "state": {
       "_model_module_version": "^1.2.2",
       "_view_module_version": "^1.2.2",
       "classes": " directed  multiple_edges ",
       "data": {
        "id": "model_year_cylinders",
        "source": "model_year",
        "target": "cylinders"
       },
       "removed": true,
       "selectable": false
      }
     },
     "ba3a70a9bc004f93b42eeb78a23c4b02": {
      "model_module": "jupyter-cytoscape",
      "model_module_version": "^1.2.2",
      "model_name": "EdgeModel",
      "state": {
       "_model_module_version": "^1.2.2",
       "_view_module_version": "^1.2.2",
       "classes": " directed  multiple_edges ",
       "data": {
        "id": "horsepower_acceleration",
        "source": "horsepower",
        "target": "acceleration"
       },
       "removed": true,
       "selectable": false
      }
     },
     "ba60301df0164b51bd138bf5e7e2427b": {
      "model_module": "@jupyter-widgets/controls",
      "model_module_version": "1.5.0",
      "model_name": "ButtonModel",
      "state": {
       "description": "Generate original graph",
       "layout": "IPY_MODEL_6214377a3fc64c47abd77afbbc0121e3",
       "style": "IPY_MODEL_a07eac3bd7e745779466625e9ddf5b73"
      }
     },
     "bac4b8a8fe444cb088faec17421a283d": {
      "model_module": "jupyter-cytoscape",
      "model_module_version": "^1.2.2",
      "model_name": "EdgeModel",
      "state": {
       "_model_module_version": "^1.2.2",
       "_view_module_version": "^1.2.2",
       "classes": " directed  multiple_edges ",
       "data": {
        "id": "mpg_origin",
        "source": "mpg",
        "target": "origin"
       },
       "selectable": false
      }
     },
     "bad27cf4fcde4e579455cfcedf5ce99a": {
      "model_module": "jupyter-cytoscape",
      "model_module_version": "^1.2.2",
      "model_name": "EdgeModel",
      "state": {
       "_model_module_version": "^1.2.2",
       "_view_module_version": "^1.2.2",
       "classes": " directed  multiple_edges ",
       "data": {
        "id": "displacement_weight",
        "source": "displacement",
        "target": "weight"
       },
       "selectable": false
      }
     },
     "bad5cc95bd824ff5918a274385a2e0d9": {
      "model_module": "jupyter-cytoscape",
      "model_module_version": "^1.2.2",
      "model_name": "EdgeModel",
      "state": {
       "_model_module_version": "^1.2.2",
       "_view_module_version": "^1.2.2",
       "classes": " directed  multiple_edges ",
       "data": {
        "id": "displacement_cylinders",
        "source": "displacement",
        "target": "cylinders"
       },
       "selectable": false
      }
     },
     "bad81f49c8fa4d80bfb8cbcfb75f35af": {
      "model_module": "jupyter-cytoscape",
      "model_module_version": "^1.2.2",
      "model_name": "EdgeModel",
      "state": {
       "_model_module_version": "^1.2.2",
       "_view_module_version": "^1.2.2",
       "classes": " directed  multiple_edges ",
       "data": {
        "id": "origin_horsepower",
        "source": "origin",
        "target": "horsepower"
       },
       "selectable": false
      }
     },
     "bb32c6bbb67e43669b4898f32605cf00": {
      "model_module": "jupyter-cytoscape",
      "model_module_version": "^1.2.2",
      "model_name": "CytoscapeModel",
      "state": {
       "_interaction_handlers": {
        "edge": [
         "click"
        ],
        "node": [
         "click"
        ]
       },
       "_model_module_version": "^1.2.2",
       "_view_module_version": "^1.2.2",
       "auto_ungrabify": false,
       "autolock": false,
       "cytoscape_layout": {
        "name": "cola"
       },
       "cytoscape_style": [
        {
         "selector": "node",
         "style": {
          "background-color": "blue",
          "font-family": "arial",
          "font-size": "10px",
          "label": "data(label)"
         }
        },
        {
         "selector": "edge",
         "style": {
          "curve-style": "bezier",
          "line-color": "#9dbaea",
          "target-arrow-color": "#9dbaea",
          "target-arrow-shape": "triangle",
          "width": 4
         }
        },
        {
         "css": {
          "line-color": "red"
         },
         "selector": "edge.selected"
        },
        {
         "css": {
          "background-color": "red"
         },
         "selector": "node.selected"
        }
       ],
       "desktop_tap_threshold": 4,
       "graph": "IPY_MODEL_878481e1bfd04f01bc8c93badfe12958",
       "headless": false,
       "hide_edges_on_viewport": false,
       "layout": "IPY_MODEL_2b85d46e08cf41af8008b9536c14299e",
       "max_zoom": 1e+50,
       "min_zoom": 1e-50,
       "motion_blur": false,
       "motion_blur_opacity": 0.2,
       "panning_enabled": true,
       "pixel_ratio": "auto",
       "rendered_position": {
        "renderedPosition": {
         "x": 100,
         "y": 100
        }
       },
       "selection_type": "single",
       "style_enabled": true,
       "texture_on_viewport": false,
       "tooltip_source": "tooltip",
       "touch_tap_threshold": 8,
       "user_panning_enabled": true,
       "user_zooming_enabled": true,
       "wheel_sensitivity": 1,
       "zoom": 2,
       "zooming_enabled": true
      }
     },
     "bb4a8dfaf9cd47a0a973cd293049f2ae": {
      "model_module": "jupyter-cytoscape",
      "model_module_version": "^1.2.2",
      "model_name": "EdgeModel",
      "state": {
       "_model_module_version": "^1.2.2",
       "_view_module_version": "^1.2.2",
       "classes": " directed  multiple_edges ",
       "data": {
        "id": "displacement_weight",
        "source": "displacement",
        "target": "weight"
       },
       "removed": true,
       "selectable": false
      }
     },
     "bb598ee722134912a3d09510ed18b108": {
      "model_module": "jupyter-cytoscape",
      "model_module_version": "^1.2.2",
      "model_name": "EdgeModel",
      "state": {
       "_model_module_version": "^1.2.2",
       "_view_module_version": "^1.2.2",
       "classes": " directed  multiple_edges ",
       "data": {
        "id": "weight_horsepower",
        "source": "weight",
        "target": "horsepower"
       },
       "removed": true,
       "selectable": false
      }
     },
     "bb5f8e6fa2304547a6dd7d8f81145efd": {
      "model_module": "jupyter-cytoscape",
      "model_module_version": "^1.2.2",
      "model_name": "EdgeModel",
      "state": {
       "_model_module_version": "^1.2.2",
       "_view_module_version": "^1.2.2",
       "classes": " directed  multiple_edges ",
       "data": {
        "id": "cylinders_origin",
        "source": "cylinders",
        "target": "origin"
       },
       "selectable": false
      }
     },
     "bb611c26494343eaac393c768093bafd": {
      "model_module": "jupyter-cytoscape",
      "model_module_version": "^1.2.2",
      "model_name": "EdgeModel",
      "state": {
       "_model_module_version": "^1.2.2",
       "_view_module_version": "^1.2.2",
       "classes": " directed  multiple_edges ",
       "data": {
        "id": "model_year_mpg",
        "source": "model_year",
        "target": "mpg"
       },
       "selectable": false
      }
     },
     "bb7abf0e31ad4627a0d329336d6c7709": {
      "model_module": "jupyter-cytoscape",
      "model_module_version": "^1.2.2",
      "model_name": "EdgeModel",
      "state": {
       "_model_module_version": "^1.2.2",
       "_view_module_version": "^1.2.2",
       "classes": " directed  multiple_edges ",
       "data": {
        "id": "origin_mpg",
        "source": "origin",
        "target": "mpg"
       },
       "selectable": false
      }
     },
     "bb7bfa665f9840919d8a6cf17b17cd18": {
      "model_module": "jupyter-cytoscape",
      "model_module_version": "^1.2.2",
      "model_name": "EdgeModel",
      "state": {
       "_model_module_version": "^1.2.2",
       "_view_module_version": "^1.2.2",
       "classes": " directed  multiple_edges ",
       "data": {
        "id": "model_year_acceleration",
        "source": "model_year",
        "target": "acceleration"
       },
       "selectable": false
      }
     },
     "bba58abdf3b844d39d517c0244adfcbe": {
      "model_module": "jupyter-cytoscape",
      "model_module_version": "^1.2.2",
      "model_name": "EdgeModel",
      "state": {
       "_model_module_version": "^1.2.2",
       "_view_module_version": "^1.2.2",
       "classes": " directed  multiple_edges ",
       "data": {
        "id": "model_year_weight",
        "source": "model_year",
        "target": "weight"
       },
       "removed": true,
       "selectable": false
      }
     },
     "bbcee8db894f4e8d8feffcee3b8f6d8a": {
      "model_module": "@jupyter-widgets/controls",
      "model_module_version": "1.5.0",
      "model_name": "ButtonModel",
      "state": {
       "description": "Add Edge",
       "disabled": true,
       "layout": "IPY_MODEL_c2c04cf3368043c79b1bdaf8e804a037",
       "style": "IPY_MODEL_eb0b6fac856e428dbff72e38dff3ce30"
      }
     },
     "bc156e00b2b1484eba6bb8b81f87a770": {
      "model_module": "jupyter-cytoscape",
      "model_module_version": "^1.2.2",
      "model_name": "EdgeModel",
      "state": {
       "_model_module_version": "^1.2.2",
       "_view_module_version": "^1.2.2",
       "classes": " directed  multiple_edges ",
       "data": {
        "id": "model_year_mpg",
        "source": "model_year",
        "target": "mpg"
       },
       "removed": true,
       "selectable": false
      }
     },
     "bc4fc253a2084760b2f65ada5dcde3e9": {
      "model_module": "@jupyter-widgets/controls",
      "model_module_version": "1.5.0",
      "model_name": "ButtonModel",
      "state": {
       "description": "Add Edge",
       "disabled": true,
       "layout": "IPY_MODEL_f361b6c594e0441da8285fb643120511",
       "style": "IPY_MODEL_13d9f80a59a648309e3fdf0a345173bf"
      }
     },
     "bc7c7601402f43108d4d8492285d2aad": {
      "model_module": "@jupyter-widgets/controls",
      "model_module_version": "1.5.0",
      "model_name": "ButtonModel",
      "state": {
       "description": "Generate original graph",
       "layout": "IPY_MODEL_5a7ca8eafb664a408672de2c8da3f7d1",
       "style": "IPY_MODEL_4ef2e5e715cd485bb0d9031044f46cc8"
      }
     },
     "bc7cd72b445d4130a24e68c5ed7bfd89": {
      "model_module": "jupyter-cytoscape",
      "model_module_version": "^1.2.2",
      "model_name": "EdgeModel",
      "state": {
       "_model_module_version": "^1.2.2",
       "_view_module_version": "^1.2.2",
       "classes": " directed  multiple_edges ",
       "data": {
        "id": "model_year_mpg",
        "source": "model_year",
        "target": "mpg"
       },
       "removed": true,
       "selectable": false
      }
     },
     "bc9aa3b2fc214aa988e831c4d5da86f3": {
      "model_module": "jupyter-cytoscape",
      "model_module_version": "^1.2.2",
      "model_name": "EdgeModel",
      "state": {
       "_model_module_version": "^1.2.2",
       "_view_module_version": "^1.2.2",
       "classes": " directed  multiple_edges ",
       "data": {
        "id": "model_year_cylinders",
        "source": "model_year",
        "target": "cylinders"
       },
       "removed": true,
       "selectable": false
      }
     },
     "bca885e09198438a94764870f987a13e": {
      "model_module": "@jupyter-widgets/controls",
      "model_module_version": "1.5.0",
      "model_name": "ButtonStyleModel",
      "state": {}
     },
     "bd21541f75064914869547242161ff83": {
      "model_module": "@jupyter-widgets/controls",
      "model_module_version": "1.5.0",
      "model_name": "ButtonStyleModel",
      "state": {}
     },
     "bd2dc6d28fe246d186a7c631e107437a": {
      "model_module": "jupyter-cytoscape",
      "model_module_version": "^1.2.2",
      "model_name": "EdgeModel",
      "state": {
       "_model_module_version": "^1.2.2",
       "_view_module_version": "^1.2.2",
       "classes": " directed  multiple_edges ",
       "data": {
        "id": "displacement_acceleration",
        "source": "displacement",
        "target": "acceleration"
       },
       "removed": true,
       "selectable": false
      }
     },
     "bd2f52527de548289a67aacc79b8d1b1": {
      "model_module": "jupyter-cytoscape",
      "model_module_version": "^1.2.2",
      "model_name": "EdgeModel",
      "state": {
       "_model_module_version": "^1.2.2",
       "_view_module_version": "^1.2.2",
       "classes": " directed  multiple_edges ",
       "data": {
        "id": "mpg_origin",
        "source": "mpg",
        "target": "origin"
       },
       "removed": true,
       "selectable": false
      }
     },
     "bd39b37d063d4723805719b995a025b3": {
      "model_module": "jupyter-cytoscape",
      "model_module_version": "^1.2.2",
      "model_name": "EdgeModel",
      "state": {
       "_model_module_version": "^1.2.2",
       "_view_module_version": "^1.2.2",
       "classes": " directed  multiple_edges ",
       "data": {
        "id": "horsepower_acceleration",
        "source": "horsepower",
        "target": "acceleration"
       },
       "removed": true,
       "selectable": false
      }
     },
     "bd42f5f3e5074d9c827c2cffb3e0f998": {
      "model_module": "jupyter-cytoscape",
      "model_module_version": "^1.2.2",
      "model_name": "NodeModel",
      "state": {
       "_model_module_version": "^1.2.2",
       "_view_module_version": "^1.2.2",
       "data": {
        "id": "horsepower",
        "label": "horsepower"
       },
       "grabbable": true,
       "grabbed": false,
       "position": {
        "x": 579.0624766836064,
        "y": 213.55132768320664
       },
       "selectable": false
      }
     },
     "bd4b0e4f7fe94d1a99fd9b8ce8edd4aa": {
      "model_module": "@jupyter-widgets/base",
      "model_module_version": "1.2.0",
      "model_name": "LayoutModel",
      "state": {}
     },
     "bd65f8e45e4d49cfab57bea06d6240cf": {
      "model_module": "jupyter-cytoscape",
      "model_module_version": "^1.2.2",
      "model_name": "EdgeModel",
      "state": {
       "_model_module_version": "^1.2.2",
       "_view_module_version": "^1.2.2",
       "classes": " directed  multiple_edges ",
       "data": {
        "id": "origin_displacement",
        "source": "origin",
        "target": "displacement"
       },
       "removed": true,
       "selectable": false
      }
     },
     "bd8167371d4348e38f3d06a1706ed233": {
      "model_module": "jupyter-cytoscape",
      "model_module_version": "^1.2.2",
      "model_name": "NodeModel",
      "state": {
       "_model_module_version": "^1.2.2",
       "_view_module_version": "^1.2.2",
       "data": {
        "id": "cylinders",
        "label": "cylinders"
       },
       "grabbable": true,
       "grabbed": false,
       "position": {
        "x": 433.0988645297568,
        "y": 243.59005208886958
       },
       "selectable": false
      }
     },
     "bd8e8525d00f4449be9ba19912ec2021": {
      "model_module": "@jupyter-widgets/base",
      "model_module_version": "1.2.0",
      "model_name": "LayoutModel",
      "state": {}
     },
     "bdc4fc0b824c47bdb9f6265e2b300798": {
      "model_module": "jupyter-cytoscape",
      "model_module_version": "^1.2.2",
      "model_name": "EdgeModel",
      "state": {
       "_model_module_version": "^1.2.2",
       "_view_module_version": "^1.2.2",
       "classes": " directed  multiple_edges ",
       "data": {
        "id": "weight_horsepower",
        "source": "weight",
        "target": "horsepower"
       },
       "selectable": false
      }
     },
     "bdd5ca304492472ab2d4a9184a926a78": {
      "model_module": "jupyter-cytoscape",
      "model_module_version": "^1.2.2",
      "model_name": "EdgeModel",
      "state": {
       "_model_module_version": "^1.2.2",
       "_view_module_version": "^1.2.2",
       "classes": " directed  multiple_edges ",
       "data": {
        "id": "model_year_cylinders",
        "source": "model_year",
        "target": "cylinders"
       },
       "removed": true,
       "selectable": false
      }
     },
     "bdd68da3e4894958b3eeb52ee7d77cf3": {
      "model_module": "jupyter-cytoscape",
      "model_module_version": "^1.2.2",
      "model_name": "NodeModel",
      "state": {
       "_model_module_version": "^1.2.2",
       "_view_module_version": "^1.2.2",
       "data": {
        "id": "model_year",
        "label": "model_year"
       },
       "grabbable": true,
       "grabbed": false,
       "position": {
        "x": 559.3412859858755,
        "y": 263.5513286832067
       },
       "selectable": false
      }
     },
     "be4a4252e4544ac188ead3831cdf37a7": {
      "model_module": "jupyter-cytoscape",
      "model_module_version": "^1.2.2",
      "model_name": "NodeModel",
      "state": {
       "_model_module_version": "^1.2.2",
       "_view_module_version": "^1.2.2",
       "data": {
        "id": "model_year",
        "label": "model_year"
       },
       "grabbable": true,
       "grabbed": false,
       "position": {
        "x": 559.3412859858755,
        "y": 263.5513286832067
       },
       "selectable": false
      }
     },
     "be5d60ad02d44d26a27f8ce6a3d234ad": {
      "model_module": "jupyter-cytoscape",
      "model_module_version": "^1.2.2",
      "model_name": "EdgeModel",
      "state": {
       "_model_module_version": "^1.2.2",
       "_view_module_version": "^1.2.2",
       "classes": " directed  multiple_edges ",
       "data": {
        "id": "displacement_cylinders",
        "source": "displacement",
        "target": "cylinders"
       },
       "removed": true,
       "selectable": false
      }
     },
     "be648376d8c14ddfb3b332ac9abf93d0": {
      "model_module": "@jupyter-widgets/output",
      "model_module_version": "1.0.0",
      "model_name": "OutputModel",
      "state": {
       "layout": "IPY_MODEL_97adab62ea3b45b9be1c3f3b854bfe05"
      }
     },
     "be7dbe80693c4aa6bf51e949fe940ee5": {
      "model_module": "jupyter-cytoscape",
      "model_module_version": "^1.2.2",
      "model_name": "EdgeModel",
      "state": {
       "_model_module_version": "^1.2.2",
       "_view_module_version": "^1.2.2",
       "classes": " directed  multiple_edges ",
       "data": {
        "id": "model_year_cylinders",
        "source": "model_year",
        "target": "cylinders"
       },
       "removed": true,
       "selectable": false
      }
     },
     "bea1b2816cae4451a7ad1d836c422e36": {
      "model_module": "jupyter-cytoscape",
      "model_module_version": "^1.2.2",
      "model_name": "EdgeModel",
      "state": {
       "_model_module_version": "^1.2.2",
       "_view_module_version": "^1.2.2",
       "classes": " directed  multiple_edges ",
       "data": {
        "id": "model_year_cylinders",
        "source": "model_year",
        "target": "cylinders"
       },
       "removed": true,
       "selectable": false
      }
     },
     "bed12b3863c84d729048b69358d9656e": {
      "model_module": "@jupyter-widgets/controls",
      "model_module_version": "1.5.0",
      "model_name": "ButtonStyleModel",
      "state": {}
     },
     "befccd068cdf458d885b69f711b3b53b": {
      "model_module": "jupyter-cytoscape",
      "model_module_version": "^1.2.2",
      "model_name": "NodeModel",
      "state": {
       "_model_module_version": "^1.2.2",
       "_view_module_version": "^1.2.2",
       "data": {
        "id": "displacement",
        "label": "displacement"
       },
       "grabbable": true,
       "grabbed": false,
       "position": {
        "x": 508.16353336629044,
        "y": 245.72590677691755
       },
       "removed": true,
       "selectable": false
      }
     },
     "bf02a7c82e1b4d03ac15503e21d20bd4": {
      "model_module": "jupyter-cytoscape",
      "model_module_version": "^1.2.2",
      "model_name": "NodeModel",
      "state": {
       "_model_module_version": "^1.2.2",
       "_view_module_version": "^1.2.2",
       "data": {
        "id": "weight",
        "label": "weight"
       },
       "grabbable": true,
       "grabbed": false,
       "position": {
        "x": 644.1038596983955,
        "y": 255.9492168408747
       },
       "selectable": false
      }
     },
     "bf3b636e350e4c68a57ee07274680d40": {
      "model_module": "jupyter-cytoscape",
      "model_module_version": "^1.2.2",
      "model_name": "EdgeModel",
      "state": {
       "_model_module_version": "^1.2.2",
       "_view_module_version": "^1.2.2",
       "classes": " directed  multiple_edges ",
       "data": {
        "id": "model_year_mpg",
        "source": "model_year",
        "target": "mpg"
       },
       "selectable": false
      }
     },
     "bf59dc37df854bcdabff43aaa28285ce": {
      "model_module": "@jupyter-widgets/controls",
      "model_module_version": "1.5.0",
      "model_name": "ButtonStyleModel",
      "state": {}
     },
     "bf5adec7e9f74b4395b2a3f96b88f0b5": {
      "model_module": "jupyter-cytoscape",
      "model_module_version": "^1.2.2",
      "model_name": "NodeModel",
      "state": {
       "_model_module_version": "^1.2.2",
       "_view_module_version": "^1.2.2",
       "data": {
        "id": "origin",
        "label": "origin"
       },
       "grabbable": true,
       "grabbed": false,
       "position": {
        "x": 995.7354850880891,
        "y": 163.5432082464874
       },
       "selectable": false
      }
     },
     "bfaeb34e724e42bdb363a70c74c9007c": {
      "model_module": "jupyter-cytoscape",
      "model_module_version": "^1.2.2",
      "model_name": "EdgeModel",
      "state": {
       "_model_module_version": "^1.2.2",
       "_view_module_version": "^1.2.2",
       "classes": " directed  multiple_edges ",
       "data": {
        "id": "model_year_weight",
        "source": "model_year",
        "target": "weight"
       },
       "selectable": false
      }
     },
     "bfcfb997aebe401999b91141ea5cc1b9": {
      "model_module": "jupyter-cytoscape",
      "model_module_version": "^1.2.2",
      "model_name": "EdgeModel",
      "state": {
       "_model_module_version": "^1.2.2",
       "_view_module_version": "^1.2.2",
       "classes": " directed  multiple_edges ",
       "data": {
        "id": "origin_horsepower",
        "source": "origin",
        "target": "horsepower"
       },
       "removed": true,
       "selectable": false
      }
     },
     "bfea0a07c87e4fc4afece8e52b37ec17": {
      "model_module": "jupyter-cytoscape",
      "model_module_version": "^1.2.2",
      "model_name": "EdgeModel",
      "state": {
       "_model_module_version": "^1.2.2",
       "_view_module_version": "^1.2.2",
       "classes": " directed  multiple_edges ",
       "data": {
        "id": "displacement_horsepower",
        "source": "displacement",
        "target": "horsepower"
       },
       "selectable": false
      }
     },
     "c000d9dc675d4390aa9cf260f4a7c10f": {
      "model_module": "jupyter-cytoscape",
      "model_module_version": "^1.2.2",
      "model_name": "NodeModel",
      "state": {
       "_model_module_version": "^1.2.2",
       "_view_module_version": "^1.2.2",
       "data": {
        "id": "horsepower",
        "label": "horsepower"
       },
       "grabbable": true,
       "grabbed": false,
       "position": {
        "x": 579.0624766836064,
        "y": 213.55132768320664
       },
       "selectable": false
      }
     },
     "c01b7bc347064050b71b56bb0a580f74": {
      "model_module": "jupyter-cytoscape",
      "model_module_version": "^1.2.2",
      "model_name": "EdgeModel",
      "state": {
       "_model_module_version": "^1.2.2",
       "_view_module_version": "^1.2.2",
       "classes": " directed  multiple_edges ",
       "data": {
        "id": "origin_horsepower",
        "source": "origin",
        "target": "horsepower"
       },
       "selectable": false
      }
     },
     "c02c6869ee0d4a83bbcb5e739531b238": {
      "model_module": "@jupyter-widgets/base",
      "model_module_version": "1.2.0",
      "model_name": "LayoutModel",
      "state": {}
     },
     "c02ccc9558394fb699e3e0c62cc8d567": {
      "model_module": "jupyter-cytoscape",
      "model_module_version": "^1.2.2",
      "model_name": "NodeModel",
      "state": {
       "_model_module_version": "^1.2.2",
       "_view_module_version": "^1.2.2",
       "data": {
        "id": "origin",
        "label": "origin"
       },
       "grabbable": true,
       "grabbed": false,
       "position": {
        "x": 1029.075939863287,
        "y": 301.28201077432726
       },
       "removed": true,
       "selectable": false
      }
     },
     "c050d485b7924e6393c1968da5bbdef2": {
      "model_module": "jupyter-cytoscape",
      "model_module_version": "^1.2.2",
      "model_name": "EdgeModel",
      "state": {
       "_model_module_version": "^1.2.2",
       "_view_module_version": "^1.2.2",
       "classes": " directed  multiple_edges ",
       "data": {
        "id": "origin_horsepower",
        "source": "origin",
        "target": "horsepower"
       },
       "selectable": false
      }
     },
     "c06553c6b6a24620be2ceeb1ec38fe1a": {
      "model_module": "jupyter-cytoscape",
      "model_module_version": "^1.2.2",
      "model_name": "EdgeModel",
      "state": {
       "_model_module_version": "^1.2.2",
       "_view_module_version": "^1.2.2",
       "classes": " directed  multiple_edges ",
       "data": {
        "id": "horsepower_acceleration",
        "source": "horsepower",
        "target": "acceleration"
       },
       "selectable": false
      }
     },
     "c0a1220a60b54b1b84605b319530bd7f": {
      "model_module": "jupyter-cytoscape",
      "model_module_version": "^1.2.2",
      "model_name": "EdgeModel",
      "state": {
       "_model_module_version": "^1.2.2",
       "_view_module_version": "^1.2.2",
       "classes": " directed  multiple_edges ",
       "data": {
        "id": "displacement_weight",
        "source": "displacement",
        "target": "weight"
       },
       "selectable": false
      }
     },
     "c0cd415a0ffc421eacfc5ca98ad45a30": {
      "model_module": "jupyter-cytoscape",
      "model_module_version": "^1.2.2",
      "model_name": "NodeModel",
      "state": {
       "_model_module_version": "^1.2.2",
       "_view_module_version": "^1.2.2",
       "data": {
        "id": "acceleration",
        "label": "acceleration"
       },
       "grabbable": true,
       "grabbed": false,
       "position": {
        "x": 629.8984806731764,
        "y": 231.3709083574432
       },
       "selectable": false
      }
     },
     "c0de700d82ad4a1993b83304a25b8e17": {
      "model_module": "jupyter-cytoscape",
      "model_module_version": "^1.2.2",
      "model_name": "EdgeModel",
      "state": {
       "_model_module_version": "^1.2.2",
       "_view_module_version": "^1.2.2",
       "classes": " directed  multiple_edges ",
       "data": {
        "id": "cylinders_origin",
        "source": "cylinders",
        "target": "origin"
       },
       "removed": true,
       "selectable": false
      }
     },
     "c1276bfc4daf4fef8d262421221e7452": {
      "model_module": "jupyter-cytoscape",
      "model_module_version": "^1.2.2",
      "model_name": "EdgeModel",
      "state": {
       "_model_module_version": "^1.2.2",
       "_view_module_version": "^1.2.2",
       "classes": " directed  multiple_edges ",
       "data": {
        "id": "model_year_acceleration",
        "source": "model_year",
        "target": "acceleration"
       },
       "removed": true,
       "selectable": false
      }
     },
     "c139327de6f644978f90372c57c259c6": {
      "model_module": "jupyter-cytoscape",
      "model_module_version": "^1.2.2",
      "model_name": "EdgeModel",
      "state": {
       "_model_module_version": "^1.2.2",
       "_view_module_version": "^1.2.2",
       "classes": " directed  multiple_edges ",
       "data": {
        "id": "origin_horsepower",
        "source": "origin",
        "target": "horsepower"
       },
       "selectable": false
      }
     },
     "c170a4eaa9bb4c3c840913384f82300f": {
      "model_module": "jupyter-cytoscape",
      "model_module_version": "^1.2.2",
      "model_name": "EdgeModel",
      "state": {
       "_model_module_version": "^1.2.2",
       "_view_module_version": "^1.2.2",
       "classes": " directed  multiple_edges ",
       "data": {
        "id": "displacement_horsepower",
        "source": "displacement",
        "target": "horsepower"
       },
       "removed": true,
       "selectable": false
      }
     },
     "c1b8acae529e4959a24ef8fc130eca21": {
      "model_module": "jupyter-cytoscape",
      "model_module_version": "^1.2.2",
      "model_name": "EdgeModel",
      "state": {
       "_model_module_version": "^1.2.2",
       "_view_module_version": "^1.2.2",
       "classes": " directed  multiple_edges ",
       "data": {
        "id": "horsepower_acceleration",
        "source": "horsepower",
        "target": "acceleration"
       },
       "removed": true,
       "selectable": false
      }
     },
     "c1ee9c9247664783ac913c18fe80c94b": {
      "model_module": "jupyter-cytoscape",
      "model_module_version": "^1.2.2",
      "model_name": "NodeModel",
      "state": {
       "_model_module_version": "^1.2.2",
       "_view_module_version": "^1.2.2",
       "classes": " selected",
       "data": {
        "id": "mpg",
        "label": "mpg"
       },
       "grabbable": true,
       "grabbed": false,
       "position": {
        "x": 1179.699915182896,
        "y": 268.5880390090133
       },
       "removed": true,
       "selectable": false
      }
     },
     "c20f7717c8644edca7ffa5a23e29b02d": {
      "model_module": "jupyter-cytoscape",
      "model_module_version": "^1.2.2",
      "model_name": "EdgeModel",
      "state": {
       "_model_module_version": "^1.2.2",
       "_view_module_version": "^1.2.2",
       "classes": " directed  multiple_edges ",
       "data": {
        "id": "displacement_acceleration",
        "source": "displacement",
        "target": "acceleration"
       },
       "selectable": false
      }
     },
     "c21a045f85c842a4b821e8c1223131fc": {
      "model_module": "jupyter-cytoscape",
      "model_module_version": "^1.2.2",
      "model_name": "GraphModel",
      "state": {
       "_adj": {},
       "_model_module_version": "^1.2.2",
       "_view_module": "jupyter-cytoscape",
       "_view_module_version": "^1.2.2"
      }
     },
     "c246be47a553425ba65051012967b17f": {
      "model_module": "jupyter-cytoscape",
      "model_module_version": "^1.2.2",
      "model_name": "EdgeModel",
      "state": {
       "_model_module_version": "^1.2.2",
       "_view_module_version": "^1.2.2",
       "classes": " directed  multiple_edges ",
       "data": {
        "id": "weight_mpg",
        "source": "weight",
        "target": "mpg"
       },
       "selectable": false
      }
     },
     "c24a1efe83fc4a5f93177bfc47480b6d": {
      "model_module": "@jupyter-widgets/controls",
      "model_module_version": "1.5.0",
      "model_name": "ButtonModel",
      "state": {
       "description": "Change Direction",
       "disabled": true,
       "layout": "IPY_MODEL_d846f3ea8a3444e9ad0b362e29f06fc6",
       "style": "IPY_MODEL_ecfda49f9d8d45c4896b4701376f5fff"
      }
     },
     "c24b3c3c7a0747a099f8ebfdd21a805b": {
      "model_module": "@jupyter-widgets/base",
      "model_module_version": "1.2.0",
      "model_name": "LayoutModel",
      "state": {}
     },
     "c26cf64057e9428fa990b4a622b331cb": {
      "model_module": "@jupyter-widgets/controls",
      "model_module_version": "1.5.0",
      "model_name": "ButtonModel",
      "state": {
       "description": "Add Edge",
       "disabled": true,
       "layout": "IPY_MODEL_e635f18f39164fe5b19b7a5fe9845a3b",
       "style": "IPY_MODEL_2c49e52b315b4cf5beda6b428bfb1eb4"
      }
     },
     "c2a37b0b638c418082d91206af6a4b6b": {
      "model_module": "jupyter-cytoscape",
      "model_module_version": "^1.2.2",
      "model_name": "EdgeModel",
      "state": {
       "_model_module_version": "^1.2.2",
       "_view_module_version": "^1.2.2",
       "classes": " directed  multiple_edges ",
       "data": {
        "id": "model_year_acceleration",
        "source": "model_year",
        "target": "acceleration"
       },
       "selectable": false
      }
     },
     "c2b78fe7191c45f28c3fe5d8f63e2298": {
      "model_module": "jupyter-cytoscape",
      "model_module_version": "^1.2.2",
      "model_name": "NodeModel",
      "state": {
       "_model_module_version": "^1.2.2",
       "_view_module_version": "^1.2.2",
       "data": {
        "id": "acceleration",
        "label": "acceleration"
       },
       "grabbable": true,
       "grabbed": false,
       "position": {
        "x": 901.9561404949509,
        "y": 196.80809939718753
       },
       "removed": true,
       "selectable": false
      }
     },
     "c2c04cf3368043c79b1bdaf8e804a037": {
      "model_module": "@jupyter-widgets/base",
      "model_module_version": "1.2.0",
      "model_name": "LayoutModel",
      "state": {}
     },
     "c2f45dcfd3424aa88f1ff7531cad7cad": {
      "model_module": "jupyter-cytoscape",
      "model_module_version": "^1.2.2",
      "model_name": "CytoscapeModel",
      "state": {
       "_interaction_handlers": {
        "edge": [
         "click"
        ],
        "node": [
         "click"
        ]
       },
       "_model_module_version": "^1.2.2",
       "_view_module_version": "^1.2.2",
       "auto_ungrabify": false,
       "autolock": false,
       "cytoscape_layout": {
        "name": "cola"
       },
       "cytoscape_style": [
        {
         "selector": "node",
         "style": {
          "background-color": "blue",
          "font-family": "arial",
          "font-size": "10px",
          "label": "data(label)"
         }
        },
        {
         "selector": "edge",
         "style": {
          "curve-style": "bezier",
          "line-color": "#9dbaea",
          "target-arrow-color": "#9dbaea",
          "target-arrow-shape": "triangle",
          "width": 4
         }
        },
        {
         "css": {
          "line-color": "red"
         },
         "selector": "edge.selected"
        },
        {
         "css": {
          "background-color": "red"
         },
         "selector": "node.selected"
        }
       ],
       "desktop_tap_threshold": 4,
       "graph": "IPY_MODEL_8da4db127b03454bb503747ced1b8c20",
       "headless": false,
       "hide_edges_on_viewport": false,
       "layout": "IPY_MODEL_12718e81212344c7bad114e102dc8b5c",
       "max_zoom": 1e+50,
       "min_zoom": 1e-50,
       "motion_blur": false,
       "motion_blur_opacity": 0.2,
       "panning_enabled": true,
       "pixel_ratio": "auto",
       "rendered_position": {
        "renderedPosition": {
         "x": 100,
         "y": 100
        }
       },
       "selection_type": "single",
       "style_enabled": true,
       "texture_on_viewport": false,
       "tooltip_source": "tooltip",
       "touch_tap_threshold": 8,
       "user_panning_enabled": true,
       "user_zooming_enabled": true,
       "wheel_sensitivity": 1,
       "zoom": 2,
       "zooming_enabled": true
      }
     },
     "c2f98a6d97144aee80fd480cea2fab69": {
      "model_module": "jupyter-cytoscape",
      "model_module_version": "^1.2.2",
      "model_name": "GraphModel",
      "state": {
       "_adj": {
        "acceleration": {},
        "cylinders": {},
        "displacement": {},
        "horsepower": {},
        "model_year": {},
        "mpg": {},
        "origin": {},
        "weight": {}
       },
       "_model_module_version": "^1.2.2",
       "_view_module": "jupyter-cytoscape",
       "_view_module_version": "^1.2.2",
       "edges": [
        "IPY_MODEL_b1181676f3ce480da271e320569aaeb6",
        "IPY_MODEL_ed1f7d67d40f4dc2ba66cf558a463ccd",
        "IPY_MODEL_78c01b5226814dd5af1fad15da8b33e8",
        "IPY_MODEL_7b2c797fc74e416c8adf106a96e7f4b4",
        "IPY_MODEL_361a51ddd65b42d7a643e5ed59b464c4",
        "IPY_MODEL_9ef8685ded0d4a35943af040ba791844",
        "IPY_MODEL_395d84de3c184d0cacf504dd2fee58f2",
        "IPY_MODEL_3c31633b4ccb45359796ad7ccd3cc494",
        "IPY_MODEL_0917d7625c59474c9d7cd6c79f1123c3",
        "IPY_MODEL_289ea62cac104ae49b79430ce4284dec",
        "IPY_MODEL_7eb3bfbe54d5498e8f48ca7671bd06b7",
        "IPY_MODEL_594229049988428da22204bac1444cfb",
        "IPY_MODEL_ff8124928f8f44a281778c01238fec32",
        "IPY_MODEL_72561cd9ccbd46fabbc6fc222f4d5605",
        "IPY_MODEL_53e2de6d8c674307af67d4f7ecfffb8e",
        "IPY_MODEL_bb7bfa665f9840919d8a6cf17b17cd18"
       ],
       "nodes": [
        "IPY_MODEL_86efc72cef8447149afa674334b66c26",
        "IPY_MODEL_64647c2631c94136a58b90a8637b59a7",
        "IPY_MODEL_78a377391b3b45e19aebdb2ebc2fb2c9",
        "IPY_MODEL_66cab5c3882a4b558c345bd07201c80a",
        "IPY_MODEL_7395f95891d047bc8a66f7815749be9b",
        "IPY_MODEL_6e201740e6874eefa971990be22975c2",
        "IPY_MODEL_9e0a7de885da49739cf5c3fc668dabb7",
        "IPY_MODEL_a96042ca179544bd9887492736eca525"
       ]
      }
     },
     "c367a060649c4f838c5787bb2b60ea97": {
      "model_module": "jupyter-cytoscape",
      "model_module_version": "^1.2.2",
      "model_name": "EdgeModel",
      "state": {
       "_model_module_version": "^1.2.2",
       "_view_module_version": "^1.2.2",
       "classes": " directed  multiple_edges ",
       "data": {
        "id": "origin_horsepower",
        "source": "origin",
        "target": "horsepower"
       },
       "removed": true,
       "selectable": false
      }
     },
     "c3a086f2848843b8aaffab8c7bff9e94": {
      "model_module": "jupyter-cytoscape",
      "model_module_version": "^1.2.2",
      "model_name": "NodeModel",
      "state": {
       "_model_module_version": "^1.2.2",
       "_view_module_version": "^1.2.2",
       "data": {
        "id": "cylinders",
        "label": "cylinders"
       },
       "grabbable": true,
       "grabbed": false,
       "position": {
        "x": 936.0988645297588,
        "y": 243.59005208886956
       },
       "selectable": false
      }
     },
     "c3f04863d62a45d4b113cf843f7d0d6c": {
      "model_module": "jupyter-cytoscape",
      "model_module_version": "^1.2.2",
      "model_name": "EdgeModel",
      "state": {
       "_model_module_version": "^1.2.2",
       "_view_module_version": "^1.2.2",
       "classes": " directed  multiple_edges ",
       "data": {
        "id": "displacement_origin",
        "source": "displacement",
        "target": "origin"
       },
       "selectable": false
      }
     },
     "c3fcf455bb674d99a4af7f7e657304ab": {
      "model_module": "jupyter-cytoscape",
      "model_module_version": "^1.2.2",
      "model_name": "EdgeModel",
      "state": {
       "_model_module_version": "^1.2.2",
       "_view_module_version": "^1.2.2",
       "classes": " directed  multiple_edges ",
       "data": {
        "id": "weight_mpg",
        "source": "weight",
        "target": "mpg"
       },
       "removed": true,
       "selectable": false
      }
     },
     "c3fd577659c7494eb80119d40dcbebee": {
      "model_module": "jupyter-cytoscape",
      "model_module_version": "^1.2.2",
      "model_name": "NodeModel",
      "state": {
       "_model_module_version": "^1.2.2",
       "_view_module_version": "^1.2.2",
       "data": {
        "id": "mpg",
        "label": "mpg"
       },
       "grabbable": true,
       "grabbed": false,
       "position": {
        "x": 604.8409436213743,
        "y": 147.15280318553792
       },
       "selectable": false
      }
     },
     "c40179346c5346168dca70316e2e4630": {
      "model_module": "@jupyter-widgets/controls",
      "model_module_version": "1.5.0",
      "model_name": "ButtonModel",
      "state": {
       "description": "Generate original graph",
       "layout": "IPY_MODEL_c02c6869ee0d4a83bbcb5e739531b238",
       "style": "IPY_MODEL_e55cce71ce104958b5f710bb0f6a6d30"
      }
     },
     "c43a70b6e77f4461ad231eca409bcbea": {
      "model_module": "@jupyter-widgets/base",
      "model_module_version": "1.2.0",
      "model_name": "LayoutModel",
      "state": {}
     },
     "c460ab0cb03748a8a65d9313754b3313": {
      "model_module": "jupyter-cytoscape",
      "model_module_version": "^1.2.2",
      "model_name": "NodeModel",
      "state": {
       "_model_module_version": "^1.2.2",
       "_view_module_version": "^1.2.2",
       "data": {
        "id": "mpg",
        "label": "mpg"
       },
       "grabbable": true,
       "grabbed": false,
       "position": {
        "x": 793.0198012209726,
        "y": 140.00403481223276
       },
       "selectable": false
      }
     },
     "c465a591865e4c4891479e84076f15ad": {
      "model_module": "@jupyter-widgets/base",
      "model_module_version": "1.2.0",
      "model_name": "LayoutModel",
      "state": {}
     },
     "c4df189d18fa4c8d87309420bdd9c3ca": {
      "model_module": "jupyter-cytoscape",
      "model_module_version": "^1.2.2",
      "model_name": "EdgeModel",
      "state": {
       "_model_module_version": "^1.2.2",
       "_view_module_version": "^1.2.2",
       "classes": " directed  multiple_edges ",
       "data": {
        "id": "displacement_horsepower",
        "source": "displacement",
        "target": "horsepower"
       },
       "selectable": false
      }
     },
     "c4e7f985d9474b22a9cd1b66261f3518": {
      "model_module": "jupyter-cytoscape",
      "model_module_version": "^1.2.2",
      "model_name": "NodeModel",
      "state": {
       "_model_module_version": "^1.2.2",
       "_view_module_version": "^1.2.2",
       "data": {
        "id": "origin",
        "label": "origin"
       },
       "grabbable": true,
       "grabbed": false,
       "position": {
        "x": 1210.4844189216326,
        "y": 226.5324792233789
       },
       "removed": true,
       "selectable": false
      }
     },
     "c4fa085f1d4c4ee8989b405696534473": {
      "model_module": "@jupyter-widgets/base",
      "model_module_version": "1.2.0",
      "model_name": "LayoutModel",
      "state": {}
     },
     "c515cadacc734fc69fc08c22d534094d": {
      "model_module": "jupyter-cytoscape",
      "model_module_version": "^1.2.2",
      "model_name": "EdgeModel",
      "state": {
       "_model_module_version": "^1.2.2",
       "_view_module_version": "^1.2.2",
       "classes": " directed  multiple_edges ",
       "data": {
        "id": "displacement_origin",
        "source": "displacement",
        "target": "origin"
       },
       "removed": true,
       "selectable": false
      }
     },
     "c526a5fc612145918962f0a29713ed08": {
      "model_module": "jupyter-cytoscape",
      "model_module_version": "^1.2.2",
      "model_name": "NodeModel",
      "state": {
       "_model_module_version": "^1.2.2",
       "_view_module_version": "^1.2.2",
       "data": {
        "id": "weight",
        "label": "weight"
       },
       "grabbable": true,
       "grabbed": false,
       "position": {
        "x": 642.9397278953301,
        "y": 217.53500807231822
       },
       "removed": true,
       "selectable": false
      }
     },
     "c52c78abde2b426ab90b7b294c6f3988": {
      "model_module": "jupyter-cytoscape",
      "model_module_version": "^1.2.2",
      "model_name": "EdgeModel",
      "state": {
       "_model_module_version": "^1.2.2",
       "_view_module_version": "^1.2.2",
       "classes": " directed  multiple_edges ",
       "data": {
        "id": "displacement_weight",
        "source": "displacement",
        "target": "weight"
       },
       "selectable": false
      }
     },
     "c5493ce5c27f4041bf392c0026ccfb15": {
      "model_module": "jupyter-cytoscape",
      "model_module_version": "^1.2.2",
      "model_name": "EdgeModel",
      "state": {
       "_model_module_version": "^1.2.2",
       "_view_module_version": "^1.2.2",
       "classes": " directed  multiple_edges ",
       "data": {
        "id": "displacement_acceleration",
        "source": "displacement",
        "target": "acceleration"
       },
       "selectable": false
      }
     },
     "c5b5be815dd0475ba25d96f238a081af": {
      "model_module": "jupyter-cytoscape",
      "model_module_version": "^1.2.2",
      "model_name": "CytoscapeModel",
      "state": {
       "_interaction_handlers": {
        "edge": [
         "click"
        ],
        "node": [
         "click"
        ]
       },
       "_model_module_version": "^1.2.2",
       "_view_module_version": "^1.2.2",
       "auto_ungrabify": false,
       "autolock": false,
       "cytoscape_layout": {
        "name": "cola"
       },
       "cytoscape_style": [
        {
         "selector": "node",
         "style": {
          "background-color": "blue",
          "font-family": "arial",
          "font-size": "10px",
          "label": "data(label)"
         }
        },
        {
         "selector": "edge",
         "style": {
          "curve-style": "bezier",
          "line-color": "#9dbaea",
          "target-arrow-color": "#9dbaea",
          "target-arrow-shape": "triangle",
          "width": 4
         }
        },
        {
         "css": {
          "line-color": "red"
         },
         "selector": "edge.highlighted"
        },
        {
         "css": {
          "background-color": "blue"
         },
         "selector": "node.highlighted"
        },
        {
         "css": {
          "line-color": "red"
         },
         "selector": "edge.selected"
        },
        {
         "css": {
          "background-color": "red"
         },
         "selector": "node.selected"
        }
       ],
       "desktop_tap_threshold": 4,
       "graph": "IPY_MODEL_fda0c4521ef0419b8b5554f5229ba2dc",
       "headless": false,
       "hide_edges_on_viewport": false,
       "layout": "IPY_MODEL_475345fdecc64b29a518c8bce2aa5974",
       "max_zoom": 1e+50,
       "min_zoom": 1e-50,
       "motion_blur": false,
       "motion_blur_opacity": 0.2,
       "panning_enabled": true,
       "pixel_ratio": "auto",
       "rendered_position": {
        "renderedPosition": {
         "x": 100,
         "y": 100
        }
       },
       "selection_type": "single",
       "style_enabled": true,
       "texture_on_viewport": false,
       "tooltip_source": "tooltip",
       "touch_tap_threshold": 8,
       "user_panning_enabled": true,
       "user_zooming_enabled": true,
       "wheel_sensitivity": 1,
       "zoom": 2,
       "zooming_enabled": true
      }
     },
     "c5b5e072e17d4d52a5c016dec486b171": {
      "model_module": "@jupyter-widgets/base",
      "model_module_version": "1.2.0",
      "model_name": "LayoutModel",
      "state": {}
     },
     "c5e3fa143eaf40289f0d1b7aab47db42": {
      "model_module": "@jupyter-widgets/controls",
      "model_module_version": "1.5.0",
      "model_name": "ButtonModel",
      "state": {
       "description": "Delete Edge",
       "disabled": true,
       "layout": "IPY_MODEL_c5b5e072e17d4d52a5c016dec486b171",
       "style": "IPY_MODEL_73c8e14253624bda817ebddfee9abdb4"
      }
     },
     "c5e7cc5adcc542b9a3645b259fe06c74": {
      "model_module": "@jupyter-widgets/controls",
      "model_module_version": "1.5.0",
      "model_name": "ButtonModel",
      "state": {
       "description": "Generate original graph",
       "layout": "IPY_MODEL_331dac86bf1b4a9ebb1fd97a05c98653",
       "style": "IPY_MODEL_74c016cd12b5451a82d39b12efe5791a"
      }
     },
     "c5fab3a6a6e54fd58eac81e8dc6cb79a": {
      "model_module": "@jupyter-widgets/base",
      "model_module_version": "1.2.0",
      "model_name": "LayoutModel",
      "state": {}
     },
     "c60c0de541b347478708b17e33145636": {
      "model_module": "jupyter-cytoscape",
      "model_module_version": "^1.2.2",
      "model_name": "NodeModel",
      "state": {
       "_model_module_version": "^1.2.2",
       "_view_module_version": "^1.2.2",
       "data": {
        "id": "mpg",
        "label": "mpg"
       },
       "grabbable": true,
       "grabbed": false,
       "position": {
        "x": 604.8409436213743,
        "y": 147.15280318553792
       },
       "selectable": false
      }
     },
     "c65356872d414de48df81f6d2f697895": {
      "model_module": "jupyter-cytoscape",
      "model_module_version": "^1.2.2",
      "model_name": "NodeModel",
      "state": {
       "_model_module_version": "^1.2.2",
       "_view_module_version": "^1.2.2",
       "data": {
        "id": "displacement",
        "label": "displacement"
       },
       "grabbable": true,
       "grabbed": false,
       "position": {
        "x": 509.3412849858755,
        "y": 284.2475693169692
       },
       "selectable": false
      }
     },
     "c668dbe10f884adfa231e2e872b2051b": {
      "model_module": "jupyter-cytoscape",
      "model_module_version": "^1.2.2",
      "model_name": "NodeModel",
      "state": {
       "_model_module_version": "^1.2.2",
       "_view_module_version": "^1.2.2",
       "data": {
        "id": "weight",
        "label": "weight"
       },
       "grabbable": true,
       "grabbed": false,
       "position": {
        "x": 644.1038596983955,
        "y": 255.9492168408747
       },
       "selectable": false
      }
     },
     "c68918457a6141f5a9ed8724ddd186f0": {
      "model_module": "@jupyter-widgets/base",
      "model_module_version": "1.2.0",
      "model_name": "LayoutModel",
      "state": {}
     },
     "c69ba34d7d6f41a79266429bb6ab5992": {
      "model_module": "jupyter-cytoscape",
      "model_module_version": "^1.2.2",
      "model_name": "EdgeModel",
      "state": {
       "_model_module_version": "^1.2.2",
       "_view_module_version": "^1.2.2",
       "classes": " directed  multiple_edges ",
       "data": {
        "id": "model_year_cylinders",
        "source": "model_year",
        "target": "cylinders"
       },
       "selectable": false
      }
     },
     "c6d8dc6d8f7b4619a4b7cde3ece2fce3": {
      "model_module": "jupyter-cytoscape",
      "model_module_version": "^1.2.2",
      "model_name": "CytoscapeModel",
      "state": {
       "_interaction_handlers": {
        "edge": [
         "click"
        ],
        "node": [
         "click"
        ]
       },
       "_model_module_version": "^1.2.2",
       "_view_module_version": "^1.2.2",
       "auto_ungrabify": false,
       "autolock": false,
       "cytoscape_layout": {
        "name": "cola"
       },
       "cytoscape_style": [
        {
         "selector": "node",
         "style": {
          "background-color": "blue",
          "font-family": "arial",
          "font-size": "10px",
          "label": "data(label)"
         }
        },
        {
         "selector": "edge",
         "style": {
          "curve-style": "bezier",
          "line-color": "#9dbaea",
          "target-arrow-color": "#9dbaea",
          "target-arrow-shape": "triangle",
          "width": 4
         }
        },
        {
         "css": {
          "line-color": "red"
         },
         "selector": "edge.selected"
        },
        {
         "css": {
          "background-color": "red"
         },
         "selector": "node.selected"
        }
       ],
       "desktop_tap_threshold": 4,
       "graph": "IPY_MODEL_b88ad489009b4ae3a1493ac40f967ce6",
       "headless": false,
       "hide_edges_on_viewport": false,
       "layout": "IPY_MODEL_0b30d4b5ee61404992abd65c128906c4",
       "max_zoom": 1e+50,
       "min_zoom": 1e-50,
       "motion_blur": false,
       "motion_blur_opacity": 0.2,
       "panning_enabled": true,
       "pixel_ratio": "auto",
       "rendered_position": {
        "renderedPosition": {
         "x": 100,
         "y": 100
        }
       },
       "selection_type": "single",
       "style_enabled": true,
       "texture_on_viewport": false,
       "tooltip_source": "tooltip",
       "touch_tap_threshold": 8,
       "user_panning_enabled": true,
       "user_zooming_enabled": true,
       "wheel_sensitivity": 1,
       "zoom": 2,
       "zooming_enabled": true
      }
     },
     "c74175cb95fd493d93f4dc7635315fcc": {
      "model_module": "jupyter-cytoscape",
      "model_module_version": "^1.2.2",
      "model_name": "EdgeModel",
      "state": {
       "_model_module_version": "^1.2.2",
       "_view_module_version": "^1.2.2",
       "classes": " directed  multiple_edges ",
       "data": {
        "id": "weight_mpg",
        "source": "weight",
        "target": "mpg"
       },
       "selectable": false
      }
     },
     "c774d18a87e6451f80fbe4be5809d4c9": {
      "model_module": "jupyter-cytoscape",
      "model_module_version": "^1.2.2",
      "model_name": "EdgeModel",
      "state": {
       "_model_module_version": "^1.2.2",
       "_view_module_version": "^1.2.2",
       "classes": " directed  multiple_edges ",
       "data": {
        "id": "displacement_horsepower",
        "source": "displacement",
        "target": "horsepower"
       },
       "selectable": false
      }
     },
     "c7c138faaca1431eb03c33522f9b4efe": {
      "model_module": "jupyter-cytoscape",
      "model_module_version": "^1.2.2",
      "model_name": "EdgeModel",
      "state": {
       "_model_module_version": "^1.2.2",
       "_view_module_version": "^1.2.2",
       "classes": " directed  multiple_edges ",
       "data": {
        "id": "weight_horsepower",
        "source": "weight",
        "target": "horsepower"
       },
       "removed": true,
       "selectable": false
      }
     },
     "c7edfc64924f43909d6f02321d816850": {
      "model_module": "jupyter-cytoscape",
      "model_module_version": "^1.2.2",
      "model_name": "EdgeModel",
      "state": {
       "_model_module_version": "^1.2.2",
       "_view_module_version": "^1.2.2",
       "classes": " directed  multiple_edges ",
       "data": {
        "id": "displacement_cylinders",
        "source": "displacement",
        "target": "cylinders"
       },
       "selectable": false
      }
     },
     "c823cf5ad25940bea196c95046bb2b55": {
      "model_module": "jupyter-cytoscape",
      "model_module_version": "^1.2.2",
      "model_name": "EdgeModel",
      "state": {
       "_model_module_version": "^1.2.2",
       "_view_module_version": "^1.2.2",
       "classes": " directed  multiple_edges ",
       "data": {
        "id": "model_year_weight",
        "source": "model_year",
        "target": "weight"
       },
       "selectable": false
      }
     },
     "c8283b19b034412f8347b4ea51c5c6fc": {
      "model_module": "jupyter-cytoscape",
      "model_module_version": "^1.2.2",
      "model_name": "NodeModel",
      "state": {
       "_model_module_version": "^1.2.2",
       "_view_module_version": "^1.2.2",
       "data": {
        "id": "acceleration",
        "label": "acceleration"
       },
       "grabbable": true,
       "grabbed": false,
       "position": {
        "x": 897.0549931544641,
        "y": 198.1180384895912
       },
       "removed": true,
       "selectable": false
      }
     },
     "c870fd0b2e8e416d8581413b9e9c87b1": {
      "model_module": "jupyter-cytoscape",
      "model_module_version": "^1.2.2",
      "model_name": "EdgeModel",
      "state": {
       "_model_module_version": "^1.2.2",
       "_view_module_version": "^1.2.2",
       "classes": " directed  multiple_edges ",
       "data": {
        "id": "model_year_acceleration",
        "source": "model_year",
        "target": "acceleration"
       },
       "selectable": false
      }
     },
     "c8879438d2e04f54964e237f4fd019b8": {
      "model_module": "jupyter-cytoscape",
      "model_module_version": "^1.2.2",
      "model_name": "EdgeModel",
      "state": {
       "_model_module_version": "^1.2.2",
       "_view_module_version": "^1.2.2",
       "classes": " directed  multiple_edges ",
       "data": {
        "id": "displacement_origin",
        "source": "displacement",
        "target": "origin"
       },
       "removed": true,
       "selectable": false
      }
     },
     "c8930657ca0845f4b4f4f93af7d004cd": {
      "model_module": "jupyter-cytoscape",
      "model_module_version": "^1.2.2",
      "model_name": "EdgeModel",
      "state": {
       "_model_module_version": "^1.2.2",
       "_view_module_version": "^1.2.2",
       "classes": " directed  multiple_edges ",
       "data": {
        "id": "cylinders_origin",
        "source": "cylinders",
        "target": "origin"
       },
       "selectable": false
      }
     },
     "c8d28ca3d5d74d4dbe4e96cfcdf95064": {
      "model_module": "@jupyter-widgets/base",
      "model_module_version": "1.2.0",
      "model_name": "LayoutModel",
      "state": {}
     },
     "c9174194be854bb9a93e7fabe4c7ff5a": {
      "model_module": "jupyter-cytoscape",
      "model_module_version": "^1.2.2",
      "model_name": "EdgeModel",
      "state": {
       "_model_module_version": "^1.2.2",
       "_view_module_version": "^1.2.2",
       "classes": " directed  multiple_edges ",
       "data": {
        "id": "cylinders_origin",
        "source": "cylinders",
        "target": "origin"
       },
       "removed": true,
       "selectable": false
      }
     },
     "c921e7d619aa457ca934cafd75e565a8": {
      "model_module": "@jupyter-widgets/controls",
      "model_module_version": "1.5.0",
      "model_name": "ButtonStyleModel",
      "state": {}
     },
     "c9271b7d79bb4d008daa7ad434b1afaf": {
      "model_module": "jupyter-cytoscape",
      "model_module_version": "^1.2.2",
      "model_name": "EdgeModel",
      "state": {
       "_model_module_version": "^1.2.2",
       "_view_module_version": "^1.2.2",
       "classes": " directed  multiple_edges ",
       "data": {
        "id": "horsepower_acceleration",
        "source": "horsepower",
        "target": "acceleration"
       },
       "selectable": false
      }
     },
     "c930bc98d95046388080500f1b9ae023": {
      "model_module": "jupyter-cytoscape",
      "model_module_version": "^1.2.2",
      "model_name": "NodeModel",
      "state": {
       "_model_module_version": "^1.2.2",
       "_view_module_version": "^1.2.2",
       "data": {
        "id": "origin",
        "label": "origin"
       },
       "grabbable": true,
       "grabbed": false,
       "position": {
        "x": 617.6486811751337,
        "y": 125.00565671664661
       },
       "removed": true,
       "selectable": false
      }
     },
     "c94076cb3208433797aff9ae0d3812ac": {
      "model_module": "jupyter-cytoscape",
      "model_module_version": "^1.2.2",
      "model_name": "NodeModel",
      "state": {
       "_model_module_version": "^1.2.2",
       "_view_module_version": "^1.2.2",
       "data": {
        "id": "origin",
        "label": "origin"
       },
       "grabbable": true,
       "grabbed": false,
       "position": {
        "x": 971.1573405389464,
        "y": 143.67917973682913
       },
       "removed": true,
       "selectable": false
      }
     },
     "c947beb2fcca418caba19ec0c1bfff24": {
      "model_module": "jupyter-cytoscape",
      "model_module_version": "^1.2.2",
      "model_name": "CytoscapeModel",
      "state": {
       "_interaction_handlers": {
        "edge": [
         "click"
        ],
        "node": [
         "click"
        ]
       },
       "_model_module_version": "^1.2.2",
       "_view_module_version": "^1.2.2",
       "auto_ungrabify": false,
       "autolock": false,
       "cytoscape_layout": {
        "name": "cola"
       },
       "cytoscape_style": [
        {
         "selector": "node",
         "style": {
          "background-color": "blue",
          "font-family": "arial",
          "font-size": "10px",
          "label": "data(label)"
         }
        },
        {
         "selector": "edge",
         "style": {
          "curve-style": "bezier",
          "line-color": "#9dbaea",
          "target-arrow-color": "#9dbaea",
          "target-arrow-shape": "triangle",
          "width": 4
         }
        },
        {
         "css": {
          "line-color": "red"
         },
         "selector": "edge.selected"
        },
        {
         "css": {
          "background-color": "red"
         },
         "selector": "node.selected"
        }
       ],
       "desktop_tap_threshold": 4,
       "graph": "IPY_MODEL_f7aa21636c6b41ab83713b24b9587a34",
       "headless": false,
       "hide_edges_on_viewport": false,
       "layout": "IPY_MODEL_e8403576b7264d029a5be199c2452399",
       "max_zoom": 1e+50,
       "min_zoom": 1e-50,
       "motion_blur": false,
       "motion_blur_opacity": 0.2,
       "panning_enabled": true,
       "pixel_ratio": "auto",
       "rendered_position": {
        "renderedPosition": {
         "x": 100,
         "y": 100
        }
       },
       "selection_type": "single",
       "style_enabled": true,
       "texture_on_viewport": false,
       "tooltip_source": "tooltip",
       "touch_tap_threshold": 8,
       "user_panning_enabled": true,
       "user_zooming_enabled": true,
       "wheel_sensitivity": 1,
       "zoom": 2,
       "zooming_enabled": true
      }
     },
     "c97bcffa9b1140a5b29d38e19aa3d81a": {
      "model_module": "jupyter-cytoscape",
      "model_module_version": "^1.2.2",
      "model_name": "EdgeModel",
      "state": {
       "_model_module_version": "^1.2.2",
       "_view_module_version": "^1.2.2",
       "classes": " directed  multiple_edges ",
       "data": {
        "id": "displacement_acceleration",
        "source": "displacement",
        "target": "acceleration"
       },
       "removed": true,
       "selectable": false
      }
     },
     "c98911af6de44dbdbd2bcff52c0ba8af": {
      "model_module": "jupyter-cytoscape",
      "model_module_version": "^1.2.2",
      "model_name": "EdgeModel",
      "state": {
       "_model_module_version": "^1.2.2",
       "_view_module_version": "^1.2.2",
       "classes": " directed  multiple_edges ",
       "data": {
        "id": "model_year_acceleration",
        "source": "model_year",
        "target": "acceleration"
       },
       "selectable": false
      }
     },
     "c998f27d9cf441838fece0b85719a8dc": {
      "model_module": "jupyter-cytoscape",
      "model_module_version": "^1.2.2",
      "model_name": "EdgeModel",
      "state": {
       "_model_module_version": "^1.2.2",
       "_view_module_version": "^1.2.2",
       "classes": " directed  multiple_edges ",
       "data": {
        "id": "weight_acceleration",
        "source": "weight",
        "target": "acceleration"
       },
       "selectable": false
      }
     },
     "c9cd0024f01b49b2a749c0da81777d4c": {
      "model_module": "jupyter-cytoscape",
      "model_module_version": "^1.2.2",
      "model_name": "NodeModel",
      "state": {
       "_model_module_version": "^1.2.2",
       "_view_module_version": "^1.2.2",
       "data": {
        "id": "origin",
        "label": "origin"
       },
       "grabbable": true,
       "grabbed": false,
       "position": {
        "x": 492.73548508808767,
        "y": 163.54320824648752
       },
       "selectable": false
      }
     },
     "ca11cda4dc794b5a850862c37418e679": {
      "model_module": "jupyter-cytoscape",
      "model_module_version": "^1.2.2",
      "model_name": "EdgeModel",
      "state": {
       "_model_module_version": "^1.2.2",
       "_view_module_version": "^1.2.2",
       "classes": " directed  multiple_edges ",
       "data": {
        "id": "model_year_mpg",
        "source": "model_year",
        "target": "mpg"
       },
       "selectable": false
      }
     },
     "ca4b0df710424b8083bbb4c96438a76f": {
      "model_module": "jupyter-cytoscape",
      "model_module_version": "^1.2.2",
      "model_name": "EdgeModel",
      "state": {
       "_model_module_version": "^1.2.2",
       "_view_module_version": "^1.2.2",
       "classes": " directed  multiple_edges ",
       "data": {
        "id": "displacement_horsepower",
        "source": "displacement",
        "target": "horsepower"
       },
       "removed": true,
       "selectable": false
      }
     },
     "cacc0d3ef07b463b8ea14539ff19359a": {
      "model_module": "jupyter-cytoscape",
      "model_module_version": "^1.2.2",
      "model_name": "NodeModel",
      "state": {
       "_model_module_version": "^1.2.2",
       "_view_module_version": "^1.2.2",
       "data": {
        "id": "origin",
        "label": "origin"
       },
       "grabbable": true,
       "grabbed": false,
       "position": {
        "x": 492.73548508808767,
        "y": 163.54320824648752
       },
       "selectable": false
      }
     },
     "cade5ed60f014ef3b698445161259caf": {
      "model_module": "jupyter-cytoscape",
      "model_module_version": "^1.2.2",
      "model_name": "EdgeModel",
      "state": {
       "_model_module_version": "^1.2.2",
       "_view_module_version": "^1.2.2",
       "classes": " directed  multiple_edges ",
       "data": {
        "id": "weight_acceleration",
        "source": "weight",
        "target": "acceleration"
       },
       "removed": true,
       "selectable": false
      }
     },
     "cae5aa22999645c0acac38c907d6ce25": {
      "model_module": "@jupyter-widgets/controls",
      "model_module_version": "1.5.0",
      "model_name": "ButtonStyleModel",
      "state": {}
     },
     "caf55dbfff0e4350b0927a579b7de993": {
      "model_module": "jupyter-cytoscape",
      "model_module_version": "^1.2.2",
      "model_name": "EdgeModel",
      "state": {
       "_model_module_version": "^1.2.2",
       "_view_module_version": "^1.2.2",
       "classes": " directed  multiple_edges ",
       "data": {
        "id": "weight_acceleration",
        "source": "weight",
        "target": "acceleration"
       },
       "selectable": false
      }
     },
     "cb210106757a43a2b6f0df92f041f5c9": {
      "model_module": "jupyter-cytoscape",
      "model_module_version": "^1.2.2",
      "model_name": "NodeModel",
      "state": {
       "_model_module_version": "^1.2.2",
       "_view_module_version": "^1.2.2",
       "data": {
        "id": "model_year",
        "label": "model_year"
       },
       "grabbable": true,
       "grabbed": false,
       "position": {
        "x": 602.1003090716515,
        "y": 399.48364806524467
       },
       "selectable": false
      }
     },
     "cb5ed20df39943ae8551e94fad5432bc": {
      "model_module": "jupyter-cytoscape",
      "model_module_version": "^1.2.2",
      "model_name": "EdgeModel",
      "state": {
       "_model_module_version": "^1.2.2",
       "_view_module_version": "^1.2.2",
       "classes": " directed  multiple_edges ",
       "data": {
        "id": "displacement_cylinders",
        "source": "displacement",
        "target": "cylinders"
       },
       "selectable": false
      }
     },
     "cb7d09715b6042e9b4371bc2043ca0cf": {
      "model_module": "jupyter-cytoscape",
      "model_module_version": "^1.2.2",
      "model_name": "EdgeModel",
      "state": {
       "_model_module_version": "^1.2.2",
       "_view_module_version": "^1.2.2",
       "classes": " directed  multiple_edges ",
       "data": {
        "id": "model_year_mpg",
        "source": "model_year",
        "target": "mpg"
       },
       "selectable": false
      }
     },
     "cb81fe500c3b4434a74f2a04591bcbc2": {
      "model_module": "jupyter-cytoscape",
      "model_module_version": "^1.2.2",
      "model_name": "NodeModel",
      "state": {
       "_model_module_version": "^1.2.2",
       "_view_module_version": "^1.2.2",
       "data": {
        "id": "weight",
        "label": "weight"
       },
       "grabbable": true,
       "grabbed": false,
       "position": {
        "x": 1045.3877859470022,
        "y": 149.58859362283167
       },
       "selectable": false
      }
     },
     "cbc729e697d04a2ba6fb67d67e301521": {
      "model_module": "jupyter-cytoscape",
      "model_module_version": "^1.2.2",
      "model_name": "NodeModel",
      "state": {
       "_model_module_version": "^1.2.2",
       "_view_module_version": "^1.2.2",
       "data": {
        "id": "displacement",
        "label": "displacement"
       },
       "grabbable": true,
       "grabbed": false,
       "position": {
        "x": 613.7893497418769,
        "y": 85.37495886653556
       },
       "selectable": false
      }
     },
     "cc045a40fd2c42e0aa9f56bd973a4412": {
      "model_module": "jupyter-cytoscape",
      "model_module_version": "^1.2.2",
      "model_name": "NodeModel",
      "state": {
       "_model_module_version": "^1.2.2",
       "_view_module_version": "^1.2.2",
       "data": {
        "id": "mpg",
        "label": "mpg"
       },
       "grabbable": true,
       "grabbed": false,
       "position": {
        "x": 603.7678640767559,
        "y": 108.70878986322509
       },
       "removed": true,
       "selectable": false
      }
     },
     "cc342a726d3d4afbb540d6e01b63e88f": {
      "model_module": "jupyter-cytoscape",
      "model_module_version": "^1.2.2",
      "model_name": "NodeModel",
      "state": {
       "_model_module_version": "^1.2.2",
       "_view_module_version": "^1.2.2",
       "data": {
        "id": "mpg",
        "label": "mpg"
       },
       "grabbable": true,
       "grabbed": false,
       "position": {
        "x": 604.8409436213743,
        "y": 147.15280318553792
       },
       "selectable": false
      }
     },
     "cc3efc3ec1814358a5091ebdccd08919": {
      "model_module": "jupyter-cytoscape",
      "model_module_version": "^1.2.2",
      "model_name": "EdgeModel",
      "state": {
       "_model_module_version": "^1.2.2",
       "_view_module_version": "^1.2.2",
       "classes": " multiple_edges directed selected",
       "data": {
        "id": "mpg_origin",
        "source": "mpg",
        "target": "origin"
       },
       "removed": true,
       "selectable": false
      }
     },
     "cc7510ce8e844adc84ac46690c80add5": {
      "model_module": "jupyter-cytoscape",
      "model_module_version": "^1.2.2",
      "model_name": "NodeModel",
      "state": {
       "_model_module_version": "^1.2.2",
       "_view_module_version": "^1.2.2",
       "data": {
        "id": "cylinders",
        "label": "cylinders"
       },
       "grabbable": true,
       "grabbed": false,
       "position": {
        "x": 1182.06996368467,
        "y": 157.2354796267939
       },
       "removed": true,
       "selectable": false
      }
     },
     "cc7c50bd567243c4adb470ddc6fe6523": {
      "model_module": "jupyter-cytoscape",
      "model_module_version": "^1.2.2",
      "model_name": "EdgeModel",
      "state": {
       "_model_module_version": "^1.2.2",
       "_view_module_version": "^1.2.2",
       "classes": " directed  multiple_edges ",
       "data": {
        "id": "horsepower_acceleration",
        "source": "horsepower",
        "target": "acceleration"
       },
       "selectable": false
      }
     },
     "cc7e85f743a240a38615c1427dead0fc": {
      "model_module": "@jupyter-widgets/controls",
      "model_module_version": "1.5.0",
      "model_name": "ButtonModel",
      "state": {
       "description": "Change Direction",
       "disabled": true,
       "layout": "IPY_MODEL_bd4b0e4f7fe94d1a99fd9b8ce8edd4aa",
       "style": "IPY_MODEL_1b7f1247359a4303a98ed56aa8bd4c99"
      }
     },
     "cc9af06bdfa5403aa078bd5cade45624": {
      "model_module": "jupyter-cytoscape",
      "model_module_version": "^1.2.2",
      "model_name": "NodeModel",
      "state": {
       "_model_module_version": "^1.2.2",
       "_view_module_version": "^1.2.2",
       "data": {
        "id": "horsepower",
        "label": "horsepower"
       },
       "grabbable": true,
       "grabbed": false,
       "position": {
        "x": 1080.936043602699,
        "y": 175.07363957090456
       },
       "removed": true,
       "selectable": false
      }
     },
     "cca23e129ae74ceba76d336d341f76c0": {
      "model_module": "jupyter-cytoscape",
      "model_module_version": "^1.2.2",
      "model_name": "NodeModel",
      "state": {
       "_model_module_version": "^1.2.2",
       "_view_module_version": "^1.2.2",
       "data": {
        "id": "acceleration",
        "label": "acceleration"
       },
       "grabbable": true,
       "grabbed": false,
       "position": {
        "x": 1015.0785366973182,
        "y": 72.73970419432278
       },
       "removed": true,
       "selectable": false
      }
     },
     "cca2c0b4dffe4a12bee4fb8e087723d0": {
      "model_module": "jupyter-cytoscape",
      "model_module_version": "^1.2.2",
      "model_name": "EdgeModel",
      "state": {
       "_model_module_version": "^1.2.2",
       "_view_module_version": "^1.2.2",
       "classes": " directed  multiple_edges ",
       "data": {
        "id": "displacement_weight",
        "source": "displacement",
        "target": "weight"
       },
       "removed": true,
       "selectable": false
      }
     },
     "cd46414633a74c72b61e454839379de3": {
      "model_module": "jupyter-cytoscape",
      "model_module_version": "^1.2.2",
      "model_name": "EdgeModel",
      "state": {
       "_model_module_version": "^1.2.2",
       "_view_module_version": "^1.2.2",
       "classes": " directed  multiple_edges ",
       "data": {
        "id": "model_year_cylinders",
        "source": "model_year",
        "target": "cylinders"
       },
       "selectable": false
      }
     },
     "cd6b732029304cb08eff216e60b3e5b1": {
      "model_module": "@jupyter-widgets/output",
      "model_module_version": "1.0.0",
      "model_name": "OutputModel",
      "state": {
       "layout": "IPY_MODEL_7f189a2213364e72b606f32af9b7173e"
      }
     },
     "cd70bd31c0d44721ace1830109dd2baf": {
      "model_module": "jupyter-cytoscape",
      "model_module_version": "^1.2.2",
      "model_name": "NodeModel",
      "state": {
       "_model_module_version": "^1.2.2",
       "_view_module_version": "^1.2.2",
       "data": {
        "id": "acceleration",
        "label": "acceleration"
       },
       "grabbable": true,
       "grabbed": false,
       "position": {
        "x": 1100.4340330361488,
        "y": 297.87127869548596
       },
       "removed": true,
       "selectable": false
      }
     },
     "cd9153e0d200430a8338f40128c02fa5": {
      "model_module": "jupyter-cytoscape",
      "model_module_version": "^1.2.2",
      "model_name": "EdgeModel",
      "state": {
       "_model_module_version": "^1.2.2",
       "_view_module_version": "^1.2.2",
       "classes": " directed  multiple_edges ",
       "data": {
        "id": "displacement_weight",
        "source": "displacement",
        "target": "weight"
       },
       "selectable": false
      }
     },
     "cdbda77cf6a64665a93b1e905b41ff5d": {
      "model_module": "jupyter-cytoscape",
      "model_module_version": "^1.2.2",
      "model_name": "EdgeModel",
      "state": {
       "_model_module_version": "^1.2.2",
       "_view_module_version": "^1.2.2",
       "classes": " directed  multiple_edges ",
       "data": {
        "id": "cylinders_origin",
        "source": "cylinders",
        "target": "origin"
       },
       "selectable": false
      }
     },
     "cdcc24a930114406bbbe0a8272ad8ecc": {
      "model_module": "jupyter-cytoscape",
      "model_module_version": "^1.2.2",
      "model_name": "NodeModel",
      "state": {
       "_model_module_version": "^1.2.2",
       "_view_module_version": "^1.2.2",
       "data": {
        "id": "origin",
        "label": "origin"
       },
       "grabbable": true,
       "grabbed": false,
       "position": {
        "x": 617.6486811751337,
        "y": 125.00565671664661
       },
       "removed": true,
       "selectable": false
      }
     },
     "cdd89feaceec465884114f5f336254b0": {
      "model_module": "@jupyter-widgets/output",
      "model_module_version": "1.0.0",
      "model_name": "OutputModel",
      "state": {
       "layout": "IPY_MODEL_eb6ea687d8854eb3ac07a72f709025b7"
      }
     },
     "cdf3ed7fc05c4f68a801913145914b4e": {
      "model_module": "@jupyter-widgets/controls",
      "model_module_version": "1.5.0",
      "model_name": "ButtonModel",
      "state": {
       "description": "Add Edge",
       "disabled": true,
       "layout": "IPY_MODEL_788fa69cbb63498cbc40d414a0290ada",
       "style": "IPY_MODEL_451d8edb88dc4882adf75eb806728075"
      }
     },
     "ce0c98de33844e9d8327dee8541653cd": {
      "model_module": "@jupyter-widgets/controls",
      "model_module_version": "1.5.0",
      "model_name": "ButtonStyleModel",
      "state": {}
     },
     "ce24d1fe3d29429887c3d23f20b9a42f": {
      "model_module": "jupyter-cytoscape",
      "model_module_version": "^1.2.2",
      "model_name": "EdgeModel",
      "state": {
       "_model_module_version": "^1.2.2",
       "_view_module_version": "^1.2.2",
       "classes": " directed  multiple_edges ",
       "data": {
        "id": "cylinders_origin",
        "source": "cylinders",
        "target": "origin"
       },
       "selectable": false
      }
     },
     "ce268c7776c64974a8d5476da2f751f2": {
      "model_module": "jupyter-cytoscape",
      "model_module_version": "^1.2.2",
      "model_name": "EdgeModel",
      "state": {
       "_model_module_version": "^1.2.2",
       "_view_module_version": "^1.2.2",
       "classes": " multiple_edges directed highlighted",
       "data": {
        "id": "model_year_acceleration",
        "source": "model_year",
        "target": "acceleration"
       },
       "selectable": false
      }
     },
     "ce307f3458934352af4b0e1fdb15230f": {
      "model_module": "@jupyter-widgets/controls",
      "model_module_version": "1.5.0",
      "model_name": "ButtonStyleModel",
      "state": {}
     },
     "ce7112a71d034cba900e2abe075e134b": {
      "model_module": "jupyter-cytoscape",
      "model_module_version": "^1.2.2",
      "model_name": "NodeModel",
      "state": {
       "_model_module_version": "^1.2.2",
       "_view_module_version": "^1.2.2",
       "data": {
        "id": "origin",
        "label": "origin"
       },
       "grabbable": true,
       "grabbed": false,
       "position": {
        "x": 670.5694473293346,
        "y": 270.0823349620365
       },
       "selectable": false
      }
     },
     "ce7574e0676b439dbdf63a19cdb9ee8e": {
      "model_module": "jupyter-cytoscape",
      "model_module_version": "^1.2.2",
      "model_name": "EdgeModel",
      "state": {
       "_model_module_version": "^1.2.2",
       "_view_module_version": "^1.2.2",
       "classes": " directed  multiple_edges ",
       "data": {
        "id": "mpg_origin",
        "source": "mpg",
        "target": "origin"
       },
       "removed": true,
       "selectable": false
      }
     },
     "ce84fcd8ecec439cb09b2a319959a71f": {
      "model_module": "jupyter-cytoscape",
      "model_module_version": "^1.2.2",
      "model_name": "EdgeModel",
      "state": {
       "_model_module_version": "^1.2.2",
       "_view_module_version": "^1.2.2",
       "classes": " directed  multiple_edges ",
       "data": {
        "id": "model_year_cylinders",
        "source": "model_year",
        "target": "cylinders"
       },
       "removed": true,
       "selectable": false
      }
     },
     "ceb94de5d74b48d2b56c4f3b727aba02": {
      "model_module": "@jupyter-widgets/controls",
      "model_module_version": "1.5.0",
      "model_name": "ButtonModel",
      "state": {
       "description": "Change Direction",
       "disabled": true,
       "layout": "IPY_MODEL_24633c496c9a4f21a13266de30992758",
       "style": "IPY_MODEL_1169aff3b1984b2bb149b8f0e6571254"
      }
     },
     "cecb8dc12326447790a7fde6e2d6afab": {
      "model_module": "jupyter-cytoscape",
      "model_module_version": "^1.2.2",
      "model_name": "EdgeModel",
      "state": {
       "_model_module_version": "^1.2.2",
       "_view_module_version": "^1.2.2",
       "classes": " directed  multiple_edges ",
       "data": {
        "id": "weight_mpg",
        "source": "weight",
        "target": "mpg"
       },
       "removed": true,
       "selectable": false
      }
     },
     "cee38dfba293493097187df8cd37e7c5": {
      "model_module": "jupyter-cytoscape",
      "model_module_version": "^1.2.2",
      "model_name": "NodeModel",
      "state": {
       "_model_module_version": "^1.2.2",
       "_view_module_version": "^1.2.2",
       "data": {
        "id": "mpg",
        "label": "mpg"
       },
       "grabbable": true,
       "grabbed": false,
       "position": {
        "x": 1107.840943621376,
        "y": 147.15280318553766
       },
       "selectable": false
      }
     },
     "cf0318474f00428f9e4b25eeef2fc394": {
      "model_module": "@jupyter-widgets/base",
      "model_module_version": "1.2.0",
      "model_name": "LayoutModel",
      "state": {}
     },
     "cf34ee7514b44cf8923f1d3cb81f4644": {
      "model_module": "jupyter-cytoscape",
      "model_module_version": "^1.2.2",
      "model_name": "NodeModel",
      "state": {
       "_model_module_version": "^1.2.2",
       "_view_module_version": "^1.2.2",
       "data": {
        "id": "cylinders",
        "label": "cylinders"
       },
       "grabbable": true,
       "grabbed": false,
       "position": {
        "x": 936.0988645297588,
        "y": 243.59005208886956
       },
       "selectable": false
      }
     },
     "cf54b88afe0f429797f4c969621bbb7a": {
      "model_module": "jupyter-cytoscape",
      "model_module_version": "^1.2.2",
      "model_name": "EdgeModel",
      "state": {
       "_model_module_version": "^1.2.2",
       "_view_module_version": "^1.2.2",
       "classes": " directed  multiple_edges ",
       "data": {
        "id": "weight_mpg",
        "source": "weight",
        "target": "mpg"
       },
       "removed": true,
       "selectable": false
      }
     },
     "cf8c2f68903e4354a871d244888d85dc": {
      "model_module": "@jupyter-widgets/base",
      "model_module_version": "1.2.0",
      "model_name": "LayoutModel",
      "state": {}
     },
     "cffae3777a444294b54b5f3d1feedc6b": {
      "model_module": "jupyter-cytoscape",
      "model_module_version": "^1.2.2",
      "model_name": "EdgeModel",
      "state": {
       "_model_module_version": "^1.2.2",
       "_view_module_version": "^1.2.2",
       "classes": " directed  multiple_edges ",
       "data": {
        "id": "weight_horsepower",
        "source": "weight",
        "target": "horsepower"
       },
       "removed": true,
       "selectable": false
      }
     },
     "d00d8632ed724049803b6742ff5dae44": {
      "model_module": "jupyter-cytoscape",
      "model_module_version": "^1.2.2",
      "model_name": "NodeModel",
      "state": {
       "_model_module_version": "^1.2.2",
       "_view_module_version": "^1.2.2",
       "data": {
        "id": "displacement",
        "label": "displacement"
       },
       "grabbable": true,
       "grabbed": false,
       "position": {
        "x": 508.16353336629044,
        "y": 245.72590677691755
       },
       "removed": true,
       "selectable": false
      }
     },
     "d021eae3ff934d1fa325766cad3ee07c": {
      "model_module": "jupyter-cytoscape",
      "model_module_version": "^1.2.2",
      "model_name": "EdgeModel",
      "state": {
       "_model_module_version": "^1.2.2",
       "_view_module_version": "^1.2.2",
       "classes": " directed  multiple_edges ",
       "data": {
        "id": "model_year_weight",
        "source": "model_year",
        "target": "weight"
       },
       "selectable": false
      }
     },
     "d031ab4b31f047e7af4f7494bcd103b7": {
      "model_module": "jupyter-cytoscape",
      "model_module_version": "^1.2.2",
      "model_name": "NodeModel",
      "state": {
       "_model_module_version": "^1.2.2",
       "_view_module_version": "^1.2.2",
       "data": {
        "id": "acceleration",
        "label": "acceleration"
       },
       "grabbable": true,
       "grabbed": false,
       "position": {
        "x": 598.6565740712615,
        "y": 336.3251878079987
       },
       "selectable": false
      }
     },
     "d038f758c8784c1ea80e6ee19e72ab8b": {
      "model_module": "@jupyter-widgets/controls",
      "model_module_version": "1.5.0",
      "model_name": "ButtonStyleModel",
      "state": {}
     },
     "d092ed11d0fe4f659465f19d9d2d1ec9": {
      "model_module": "jupyter-cytoscape",
      "model_module_version": "^1.2.2",
      "model_name": "EdgeModel",
      "state": {
       "_model_module_version": "^1.2.2",
       "_view_module_version": "^1.2.2",
       "classes": " directed  multiple_edges ",
       "data": {
        "id": "model_year_acceleration",
        "source": "model_year",
        "target": "acceleration"
       },
       "selectable": false
      }
     },
     "d0e63db85ca64f85b08254b208f56b6d": {
      "model_module": "jupyter-cytoscape",
      "model_module_version": "^1.2.2",
      "model_name": "EdgeModel",
      "state": {
       "_model_module_version": "^1.2.2",
       "_view_module_version": "^1.2.2",
       "classes": " directed  multiple_edges ",
       "data": {
        "id": "displacement_acceleration",
        "source": "displacement",
        "target": "acceleration"
       },
       "selectable": false
      }
     },
     "d0f2d5e435ed45c2a7f667a40dcf608d": {
      "model_module": "jupyter-cytoscape",
      "model_module_version": "^1.2.2",
      "model_name": "EdgeModel",
      "state": {
       "_model_module_version": "^1.2.2",
       "_view_module_version": "^1.2.2",
       "classes": " directed  multiple_edges ",
       "data": {
        "id": "model_year_weight",
        "source": "model_year",
        "target": "weight"
       },
       "removed": true,
       "selectable": false
      }
     },
     "d0fb0f4c660d4eaa8fe7de09a13b4b6c": {
      "model_module": "jupyter-cytoscape",
      "model_module_version": "^1.2.2",
      "model_name": "EdgeModel",
      "state": {
       "_model_module_version": "^1.2.2",
       "_view_module_version": "^1.2.2",
       "classes": " directed  multiple_edges ",
       "data": {
        "id": "displacement_origin",
        "source": "displacement",
        "target": "origin"
       },
       "selectable": false
      }
     },
     "d12596ae27214e36a4c826a48e4585d0": {
      "model_module": "jupyter-cytoscape",
      "model_module_version": "^1.2.2",
      "model_name": "GraphModel",
      "state": {
       "_adj": {},
       "_model_module_version": "^1.2.2",
       "_view_module": "jupyter-cytoscape",
       "_view_module_version": "^1.2.2"
      }
     },
     "d16ac82661ed498d9a75d04bca381c10": {
      "model_module": "@jupyter-widgets/controls",
      "model_module_version": "1.5.0",
      "model_name": "ButtonModel",
      "state": {
       "description": "Generate original graph",
       "layout": "IPY_MODEL_6850e79854ec4db08866c8348fbc4d75",
       "style": "IPY_MODEL_9d4e2aaa34b94e24bbcd7d80673eb3a4"
      }
     },
     "d1747d458a034a628314d227af7afb28": {
      "model_module": "jupyter-cytoscape",
      "model_module_version": "^1.2.2",
      "model_name": "EdgeModel",
      "state": {
       "_model_module_version": "^1.2.2",
       "_view_module_version": "^1.2.2",
       "classes": " directed  multiple_edges ",
       "data": {
        "id": "displacement_acceleration",
        "source": "displacement",
        "target": "acceleration"
       },
       "removed": true,
       "selectable": false
      }
     },
     "d181741923444746891bf6c96f8ff589": {
      "model_module": "@jupyter-widgets/base",
      "model_module_version": "1.2.0",
      "model_name": "LayoutModel",
      "state": {}
     },
     "d1bba7906b5e4083bec9fd71ff156576": {
      "model_module": "jupyter-cytoscape",
      "model_module_version": "^1.2.2",
      "model_name": "EdgeModel",
      "state": {
       "_model_module_version": "^1.2.2",
       "_view_module_version": "^1.2.2",
       "classes": " directed  multiple_edges ",
       "data": {
        "id": "mpg_origin",
        "source": "mpg",
        "target": "origin"
       },
       "removed": true,
       "selectable": false
      }
     },
     "d1c8f156cfb949d1be199b5326f3fe8f": {
      "model_module": "jupyter-cytoscape",
      "model_module_version": "^1.2.2",
      "model_name": "NodeModel",
      "state": {
       "_model_module_version": "^1.2.2",
       "_view_module_version": "^1.2.2",
       "data": {
        "id": "origin",
        "label": "origin"
       },
       "grabbable": true,
       "grabbed": false,
       "position": {
        "x": 492.73548508808767,
        "y": 163.54320824648752
       },
       "selectable": false
      }
     },
     "d1f126dc1c5f428a8564eb9b59809324": {
      "model_module": "jupyter-cytoscape",
      "model_module_version": "^1.2.2",
      "model_name": "EdgeModel",
      "state": {
       "_model_module_version": "^1.2.2",
       "_view_module_version": "^1.2.2",
       "classes": " multiple_edges directed highlighted",
       "data": {
        "id": "model_year_acceleration",
        "source": "model_year",
        "target": "acceleration"
       },
       "selectable": false
      }
     },
     "d1fc3b2edf8d45d6acf97e3470195916": {
      "model_module": "@jupyter-widgets/base",
      "model_module_version": "1.2.0",
      "model_name": "LayoutModel",
      "state": {}
     },
     "d224c77278b941bda09faaae35d215b5": {
      "model_module": "jupyter-cytoscape",
      "model_module_version": "^1.2.2",
      "model_name": "EdgeModel",
      "state": {
       "_model_module_version": "^1.2.2",
       "_view_module_version": "^1.2.2",
       "classes": " directed  multiple_edges ",
       "data": {
        "id": "origin_mpg",
        "source": "origin",
        "target": "mpg"
       },
       "removed": true,
       "selectable": false
      }
     },
     "d2386202e7274cb192b4baa0e8857b8a": {
      "model_module": "jupyter-cytoscape",
      "model_module_version": "^1.2.2",
      "model_name": "EdgeModel",
      "state": {
       "_model_module_version": "^1.2.2",
       "_view_module_version": "^1.2.2",
       "classes": " directed  multiple_edges ",
       "data": {
        "id": "model_year_acceleration",
        "source": "model_year",
        "target": "acceleration"
       },
       "selectable": false
      }
     },
     "d23be2359d2b4503b4ab9e24d2b52897": {
      "model_module": "@jupyter-widgets/controls",
      "model_module_version": "1.5.0",
      "model_name": "ButtonStyleModel",
      "state": {}
     },
     "d27633553b6a4e25bf9e60fbf7c5e444": {
      "model_module": "@jupyter-widgets/base",
      "model_module_version": "1.2.0",
      "model_name": "LayoutModel",
      "state": {}
     },
     "d2c64da8832145d9bf200b929a4a4019": {
      "model_module": "jupyter-cytoscape",
      "model_module_version": "^1.2.2",
      "model_name": "EdgeModel",
      "state": {
       "_model_module_version": "^1.2.2",
       "_view_module_version": "^1.2.2",
       "classes": " directed  multiple_edges ",
       "data": {
        "id": "displacement_horsepower",
        "source": "displacement",
        "target": "horsepower"
       },
       "removed": true,
       "selectable": false
      }
     },
     "d2da73e9960847019b5678d5bc20b608": {
      "model_module": "@jupyter-widgets/controls",
      "model_module_version": "1.5.0",
      "model_name": "ButtonModel",
      "state": {
       "description": "Generate original graph",
       "layout": "IPY_MODEL_973e659a8fb7405395049b87c9bc74be",
       "style": "IPY_MODEL_d038f758c8784c1ea80e6ee19e72ab8b"
      }
     },
     "d3290cb510f94870947370c8611faa04": {
      "model_module": "jupyter-cytoscape",
      "model_module_version": "^1.2.2",
      "model_name": "EdgeModel",
      "state": {
       "_model_module_version": "^1.2.2",
       "_view_module_version": "^1.2.2",
       "classes": " directed  multiple_edges ",
       "data": {
        "id": "model_year_cylinders",
        "source": "model_year",
        "target": "cylinders"
       },
       "removed": true,
       "selectable": false
      }
     },
     "d3441fbbb3d24815bd8b9ca7555090b1": {
      "model_module": "jupyter-cytoscape",
      "model_module_version": "^1.2.2",
      "model_name": "EdgeModel",
      "state": {
       "_model_module_version": "^1.2.2",
       "_view_module_version": "^1.2.2",
       "classes": " directed  multiple_edges ",
       "data": {
        "id": "model_year_mpg",
        "source": "model_year",
        "target": "mpg"
       },
       "removed": true,
       "selectable": false
      }
     },
     "d3d4462a37d04381be7e2f68f87b7fc2": {
      "model_module": "jupyter-cytoscape",
      "model_module_version": "^1.2.2",
      "model_name": "NodeModel",
      "state": {
       "_model_module_version": "^1.2.2",
       "_view_module_version": "^1.2.2",
       "data": {
        "id": "origin",
        "label": "origin"
       },
       "grabbable": true,
       "grabbed": false,
       "position": {
        "x": 1134.9455486073687,
        "y": 266.97371190172043
       },
       "removed": true,
       "selectable": false
      }
     },
     "d3d8ebe18f684891b1bb918427d6fd65": {
      "model_module": "jupyter-cytoscape",
      "model_module_version": "^1.2.2",
      "model_name": "EdgeModel",
      "state": {
       "_model_module_version": "^1.2.2",
       "_view_module_version": "^1.2.2",
       "classes": " directed  multiple_edges ",
       "data": {
        "id": "model_year_cylinders",
        "source": "model_year",
        "target": "cylinders"
       },
       "selectable": false
      }
     },
     "d4355e769e06483b9ecd24ac00e754cb": {
      "model_module": "@jupyter-widgets/base",
      "model_module_version": "1.2.0",
      "model_name": "LayoutModel",
      "state": {}
     },
     "d45160ed1a174560bb71eb116187a668": {
      "model_module": "jupyter-cytoscape",
      "model_module_version": "^1.2.2",
      "model_name": "EdgeModel",
      "state": {
       "_model_module_version": "^1.2.2",
       "_view_module_version": "^1.2.2",
       "classes": " directed  multiple_edges ",
       "data": {
        "id": "displacement_acceleration",
        "source": "displacement",
        "target": "acceleration"
       },
       "selectable": false
      }
     },
     "d470bcbb20c6402cad43c565b5944c5c": {
      "model_module": "jupyter-cytoscape",
      "model_module_version": "^1.2.2",
      "model_name": "NodeModel",
      "state": {
       "_model_module_version": "^1.2.2",
       "_view_module_version": "^1.2.2",
       "data": {
        "id": "origin",
        "label": "origin"
       },
       "grabbable": true,
       "grabbed": false,
       "position": {
        "x": 698.7740795070163,
        "y": 310.3065654364867
       },
       "selectable": false
      }
     },
     "d48ebac421f2447e903feb6f245ccff3": {
      "model_module": "jupyter-cytoscape",
      "model_module_version": "^1.2.2",
      "model_name": "EdgeModel",
      "state": {
       "_model_module_version": "^1.2.2",
       "_view_module_version": "^1.2.2",
       "classes": " directed  multiple_edges ",
       "data": {
        "id": "displacement_horsepower",
        "source": "displacement",
        "target": "horsepower"
       },
       "removed": true,
       "selectable": false
      }
     },
     "d4a51af255624cb69d9274bbf605c141": {
      "model_module": "@jupyter-widgets/controls",
      "model_module_version": "1.5.0",
      "model_name": "ButtonModel",
      "state": {
       "description": "Generate original graph",
       "layout": "IPY_MODEL_174b84dee8a24ef6a12f2c452904d281",
       "style": "IPY_MODEL_8765cb48fb0e4804b6db9dd8e47e0c31"
      }
     },
     "d510741b11984dcea80df389e9119e9f": {
      "model_module": "jupyter-cytoscape",
      "model_module_version": "^1.2.2",
      "model_name": "NodeModel",
      "state": {
       "_model_module_version": "^1.2.2",
       "_view_module_version": "^1.2.2",
       "data": {
        "id": "horsepower",
        "label": "horsepower"
       },
       "grabbable": true,
       "grabbed": false,
       "position": {
        "x": 579.0624766836064,
        "y": 213.55132768320664
       },
       "selectable": false
      }
     },
     "d526e82dd1e240168f23b4a037a517c5": {
      "model_module": "jupyter-cytoscape",
      "model_module_version": "^1.2.2",
      "model_name": "EdgeModel",
      "state": {
       "_model_module_version": "^1.2.2",
       "_view_module_version": "^1.2.2",
       "classes": " directed  multiple_edges ",
       "data": {
        "id": "cylinders_origin",
        "source": "cylinders",
        "target": "origin"
       },
       "selectable": false
      }
     },
     "d52c4c4dad6b4725b32cfc5c3ebdf2db": {
      "model_module": "jupyter-cytoscape",
      "model_module_version": "^1.2.2",
      "model_name": "EdgeModel",
      "state": {
       "_model_module_version": "^1.2.2",
       "_view_module_version": "^1.2.2",
       "classes": " directed  multiple_edges ",
       "data": {
        "id": "mpg_origin",
        "source": "mpg",
        "target": "origin"
       },
       "selectable": false
      }
     },
     "d541ec7efda34ae793b2bf6b95dec800": {
      "model_module": "jupyter-cytoscape",
      "model_module_version": "^1.2.2",
      "model_name": "NodeModel",
      "state": {
       "_model_module_version": "^1.2.2",
       "_view_module_version": "^1.2.2",
       "data": {
        "id": "horsepower",
        "label": "horsepower"
       },
       "grabbable": true,
       "grabbed": false,
       "position": {
        "x": 577.9360436026988,
        "y": 175.07363957090456
       },
       "removed": true,
       "selectable": false
      }
     },
     "d543858b22cc4a4c92588e4c9878be1d": {
      "model_module": "@jupyter-widgets/controls",
      "model_module_version": "1.5.0",
      "model_name": "ButtonModel",
      "state": {
       "description": "Delete Edge",
       "disabled": true,
       "layout": "IPY_MODEL_7ee7d079ba90498d81d7b8fc379a41c1",
       "style": "IPY_MODEL_5def1ee8b9534db4bb265c2012b5af80"
      }
     },
     "d563eb886ee94b2a8b67e6b77fea8cf0": {
      "model_module": "jupyter-cytoscape",
      "model_module_version": "^1.2.2",
      "model_name": "NodeModel",
      "state": {
       "_model_module_version": "^1.2.2",
       "_view_module_version": "^1.2.2",
       "data": {
        "id": "horsepower",
        "label": "horsepower"
       },
       "grabbable": true,
       "grabbed": false,
       "position": {
        "x": 501.393060946557,
        "y": 157.01982255751295
       },
       "selectable": false
      }
     },
     "d5995807f43c44a1826db790290080e5": {
      "model_module": "jupyter-cytoscape",
      "model_module_version": "^1.2.2",
      "model_name": "EdgeModel",
      "state": {
       "_model_module_version": "^1.2.2",
       "_view_module_version": "^1.2.2",
       "classes": " directed  multiple_edges ",
       "data": {
        "id": "horsepower_acceleration",
        "source": "horsepower",
        "target": "acceleration"
       },
       "selectable": false
      }
     },
     "d5b59a27c6eb4be285f4fbce6f4b59f7": {
      "model_module": "jupyter-cytoscape",
      "model_module_version": "^1.2.2",
      "model_name": "NodeModel",
      "state": {
       "_model_module_version": "^1.2.2",
       "_view_module_version": "^1.2.2",
       "data": {
        "id": "weight",
        "label": "weight"
       },
       "grabbable": true,
       "grabbed": false,
       "position": {
        "x": 644.1038596983955,
        "y": 255.9492168408747
       },
       "selectable": false
      }
     },
     "d5bcc1110758475bad251291020bf078": {
      "model_module": "@jupyter-widgets/controls",
      "model_module_version": "1.5.0",
      "model_name": "ButtonStyleModel",
      "state": {}
     },
     "d5d3ebc844754693b051464be4ce8e9e": {
      "model_module": "@jupyter-widgets/base",
      "model_module_version": "1.2.0",
      "model_name": "LayoutModel",
      "state": {}
     },
     "d601c7e013844ac88154085ae54beb22": {
      "model_module": "jupyter-cytoscape",
      "model_module_version": "^1.2.2",
      "model_name": "EdgeModel",
      "state": {
       "_model_module_version": "^1.2.2",
       "_view_module_version": "^1.2.2",
       "classes": " directed  multiple_edges ",
       "data": {
        "id": "displacement_weight",
        "source": "displacement",
        "target": "weight"
       },
       "removed": true,
       "selectable": false
      }
     },
     "d60e6d9f8e0f461f8ff0da92092129ac": {
      "model_module": "jupyter-cytoscape",
      "model_module_version": "^1.2.2",
      "model_name": "EdgeModel",
      "state": {
       "_model_module_version": "^1.2.2",
       "_view_module_version": "^1.2.2",
       "classes": " directed  multiple_edges ",
       "data": {
        "id": "weight_horsepower",
        "source": "weight",
        "target": "horsepower"
       },
       "removed": true,
       "selectable": false
      }
     },
     "d61d151bc8114a3b87c4ba2ebd036b2d": {
      "model_module": "jupyter-cytoscape",
      "model_module_version": "^1.2.2",
      "model_name": "CytoscapeModel",
      "state": {
       "_interaction_handlers": {
        "edge": [
         "click"
        ],
        "node": [
         "click"
        ]
       },
       "_model_module_version": "^1.2.2",
       "_view_module_version": "^1.2.2",
       "auto_ungrabify": false,
       "autolock": false,
       "cytoscape_layout": {
        "name": "cola"
       },
       "cytoscape_style": [
        {
         "selector": "node",
         "style": {
          "background-color": "blue",
          "font-family": "arial",
          "font-size": "10px",
          "label": "data(label)"
         }
        },
        {
         "selector": "edge",
         "style": {
          "curve-style": "bezier",
          "line-color": "#9dbaea",
          "target-arrow-color": "#9dbaea",
          "target-arrow-shape": "triangle",
          "width": 4
         }
        },
        {
         "css": {
          "line-color": "red"
         },
         "selector": "edge.selected"
        },
        {
         "css": {
          "background-color": "red"
         },
         "selector": "node.selected"
        }
       ],
       "desktop_tap_threshold": 4,
       "graph": "IPY_MODEL_2305d52b38d74243b09bf13cc285b12e",
       "headless": false,
       "hide_edges_on_viewport": false,
       "layout": "IPY_MODEL_5e28980379d74a778af920506861cebf",
       "max_zoom": 1e+50,
       "min_zoom": 1e-50,
       "motion_blur": false,
       "motion_blur_opacity": 0.2,
       "panning_enabled": true,
       "pixel_ratio": "auto",
       "rendered_position": {
        "renderedPosition": {
         "x": 100,
         "y": 100
        }
       },
       "selection_type": "single",
       "style_enabled": true,
       "texture_on_viewport": false,
       "tooltip_source": "tooltip",
       "touch_tap_threshold": 8,
       "user_panning_enabled": true,
       "user_zooming_enabled": true,
       "wheel_sensitivity": 1,
       "zoom": 2,
       "zooming_enabled": true
      }
     },
     "d62b1145fe8b45b193e2f164c0fff3d2": {
      "model_module": "jupyter-cytoscape",
      "model_module_version": "^1.2.2",
      "model_name": "EdgeModel",
      "state": {
       "_model_module_version": "^1.2.2",
       "_view_module_version": "^1.2.2",
       "classes": " directed  multiple_edges ",
       "data": {
        "id": "model_year_acceleration",
        "source": "model_year",
        "target": "acceleration"
       },
       "selectable": false
      }
     },
     "d67f535550e840d884f3a2a8c82e33f0": {
      "model_module": "jupyter-cytoscape",
      "model_module_version": "^1.2.2",
      "model_name": "NodeModel",
      "state": {
       "_model_module_version": "^1.2.2",
       "_view_module_version": "^1.2.2",
       "data": {
        "id": "model_year",
        "label": "model_year"
       },
       "grabbable": true,
       "grabbed": false,
       "position": {
        "x": 1096.327614796913,
        "y": 112.7287668036425
       },
       "removed": true,
       "selectable": false
      }
     },
     "d688b0545e7940eb9f74be1e111e7f4f": {
      "model_module": "jupyter-cytoscape",
      "model_module_version": "^1.2.2",
      "model_name": "EdgeModel",
      "state": {
       "_model_module_version": "^1.2.2",
       "_view_module_version": "^1.2.2",
       "classes": " directed  multiple_edges ",
       "data": {
        "id": "weight_horsepower",
        "source": "weight",
        "target": "horsepower"
       },
       "selectable": false
      }
     },
     "d697cb4dd7a74f039d5845faf14536c4": {
      "model_module": "jupyter-cytoscape",
      "model_module_version": "^1.2.2",
      "model_name": "EdgeModel",
      "state": {
       "_model_module_version": "^1.2.2",
       "_view_module_version": "^1.2.2",
       "classes": " directed  multiple_edges ",
       "data": {
        "id": "weight_horsepower",
        "source": "weight",
        "target": "horsepower"
       },
       "removed": true,
       "selectable": false
      }
     },
     "d69aaa30f5294f61a29e28bd7f89bbed": {
      "model_module": "@jupyter-widgets/base",
      "model_module_version": "1.2.0",
      "model_name": "LayoutModel",
      "state": {}
     },
     "d6a57846bdf0407ca8ef8ac9aa064452": {
      "model_module": "@jupyter-widgets/controls",
      "model_module_version": "1.5.0",
      "model_name": "ButtonModel",
      "state": {
       "description": "Delete Edge",
       "disabled": true,
       "layout": "IPY_MODEL_5ee3fea44b3a4865a6c0acc4996ef382",
       "style": "IPY_MODEL_3c8152013da94a619ddb8e520e7538f9"
      }
     },
     "d6c6035dfa794292970f1478994937a1": {
      "model_module": "jupyter-cytoscape",
      "model_module_version": "^1.2.2",
      "model_name": "EdgeModel",
      "state": {
       "_model_module_version": "^1.2.2",
       "_view_module_version": "^1.2.2",
       "classes": " directed  multiple_edges ",
       "data": {
        "id": "model_year_mpg",
        "source": "model_year",
        "target": "mpg"
       },
       "removed": true,
       "selectable": false
      }
     },
     "d74e77402716410486215951e70b04ee": {
      "model_module": "jupyter-cytoscape",
      "model_module_version": "^1.2.2",
      "model_name": "GraphModel",
      "state": {
       "_adj": {},
       "_model_module_version": "^1.2.2",
       "_view_module": "jupyter-cytoscape",
       "_view_module_version": "^1.2.2"
      }
     },
     "d785bd7fbce747418e59b532c7f55fde": {
      "model_module": "jupyter-cytoscape",
      "model_module_version": "^1.2.2",
      "model_name": "EdgeModel",
      "state": {
       "_model_module_version": "^1.2.2",
       "_view_module_version": "^1.2.2",
       "classes": " directed  multiple_edges ",
       "data": {
        "id": "displacement_origin",
        "source": "displacement",
        "target": "origin"
       },
       "selectable": false
      }
     },
     "d78cb2114c734b2488bd17717699fda7": {
      "model_module": "@jupyter-widgets/controls",
      "model_module_version": "1.5.0",
      "model_name": "ButtonStyleModel",
      "state": {}
     },
     "d79246e950e34a81849b279866aaa18f": {
      "model_module": "jupyter-cytoscape",
      "model_module_version": "^1.2.2",
      "model_name": "EdgeModel",
      "state": {
       "_model_module_version": "^1.2.2",
       "_view_module_version": "^1.2.2",
       "classes": " directed  multiple_edges ",
       "data": {
        "id": "weight_mpg",
        "source": "weight",
        "target": "mpg"
       },
       "selectable": false
      }
     },
     "d7aa0947baea4b58bc72eac7fad1e6d9": {
      "model_module": "jupyter-cytoscape",
      "model_module_version": "^1.2.2",
      "model_name": "EdgeModel",
      "state": {
       "_model_module_version": "^1.2.2",
       "_view_module_version": "^1.2.2",
       "classes": " directed  multiple_edges ",
       "data": {
        "id": "weight_horsepower",
        "source": "weight",
        "target": "horsepower"
       },
       "selectable": false
      }
     },
     "d7b6a756ad4b467f8218ceccc9078731": {
      "model_module": "jupyter-cytoscape",
      "model_module_version": "^1.2.2",
      "model_name": "EdgeModel",
      "state": {
       "_model_module_version": "^1.2.2",
       "_view_module_version": "^1.2.2",
       "classes": " directed  multiple_edges ",
       "data": {
        "id": "displacement_origin",
        "source": "displacement",
        "target": "origin"
       },
       "selectable": false
      }
     },
     "d7d4a190c0dc4e0db8c1af836fa2a80a": {
      "model_module": "jupyter-cytoscape",
      "model_module_version": "^1.2.2",
      "model_name": "EdgeModel",
      "state": {
       "_model_module_version": "^1.2.2",
       "_view_module_version": "^1.2.2",
       "classes": " directed  multiple_edges ",
       "data": {
        "id": "weight_mpg",
        "source": "weight",
        "target": "mpg"
       },
       "removed": true,
       "selectable": false
      }
     },
     "d809ea4f52ec4b3793afe916e005c686": {
      "model_module": "jupyter-cytoscape",
      "model_module_version": "^1.2.2",
      "model_name": "EdgeModel",
      "state": {
       "_model_module_version": "^1.2.2",
       "_view_module_version": "^1.2.2",
       "classes": " directed  multiple_edges ",
       "data": {
        "id": "weight_acceleration",
        "source": "weight",
        "target": "acceleration"
       },
       "selectable": false
      }
     },
     "d81a573d1f464a13b64b3f4c2516112b": {
      "model_module": "@jupyter-widgets/controls",
      "model_module_version": "1.5.0",
      "model_name": "ButtonStyleModel",
      "state": {}
     },
     "d81f279ee555482e82fe01c51a1cb75e": {
      "model_module": "jupyter-cytoscape",
      "model_module_version": "^1.2.2",
      "model_name": "NodeModel",
      "state": {
       "_model_module_version": "^1.2.2",
       "_view_module_version": "^1.2.2",
       "data": {
        "id": "origin",
        "label": "origin"
       },
       "grabbable": true,
       "grabbed": false,
       "position": {
        "x": 610.9634218861784,
        "y": 193.4988982964239
       },
       "selectable": false
      }
     },
     "d827a13ef1b74f3d83caea4054d4f012": {
      "model_module": "jupyter-cytoscape",
      "model_module_version": "^1.2.2",
      "model_name": "NodeModel",
      "state": {
       "_model_module_version": "^1.2.2",
       "_view_module_version": "^1.2.2",
       "data": {
        "id": "cylinders",
        "label": "cylinders"
       },
       "grabbable": true,
       "grabbed": false,
       "position": {
        "x": 1217.0971264744105,
        "y": 295.9108452751289
       },
       "removed": true,
       "selectable": false
      }
     },
     "d836737fa5844315970c343e90184267": {
      "model_module": "@jupyter-widgets/controls",
      "model_module_version": "1.5.0",
      "model_name": "ButtonModel",
      "state": {
       "description": "Add Edge",
       "disabled": true,
       "layout": "IPY_MODEL_532fb37aef8e45eea122f8e330d72f1d",
       "style": "IPY_MODEL_01d82eb41cbd4a5fb9c4f3175553a19d"
      }
     },
     "d83a2db11e9f459a841accc6d551c699": {
      "model_module": "jupyter-cytoscape",
      "model_module_version": "^1.2.2",
      "model_name": "NodeModel",
      "state": {
       "_model_module_version": "^1.2.2",
       "_view_module_version": "^1.2.2",
       "data": {
        "id": "mpg",
        "label": "mpg"
       },
       "grabbable": true,
       "grabbed": false,
       "position": {
        "x": 604.8409436213743,
        "y": 147.15280318553792
       },
       "selectable": false
      }
     },
     "d846f3ea8a3444e9ad0b362e29f06fc6": {
      "model_module": "@jupyter-widgets/base",
      "model_module_version": "1.2.0",
      "model_name": "LayoutModel",
      "state": {}
     },
     "d8c12995d46b430d8094c70acad7ae81": {
      "model_module": "@jupyter-widgets/controls",
      "model_module_version": "1.5.0",
      "model_name": "ButtonStyleModel",
      "state": {}
     },
     "d8d74fc09736495385a0231f360784c1": {
      "model_module": "jupyter-cytoscape",
      "model_module_version": "^1.2.2",
      "model_name": "EdgeModel",
      "state": {
       "_model_module_version": "^1.2.2",
       "_view_module_version": "^1.2.2",
       "classes": " directed  multiple_edges ",
       "data": {
        "id": "origin_horsepower",
        "source": "origin",
        "target": "horsepower"
       },
       "removed": true,
       "selectable": false
      }
     },
     "d8f9c5ec73054601a8a53d913ed66179": {
      "model_module": "jupyter-cytoscape",
      "model_module_version": "^1.2.2",
      "model_name": "EdgeModel",
      "state": {
       "_model_module_version": "^1.2.2",
       "_view_module_version": "^1.2.2",
       "classes": " directed  multiple_edges ",
       "data": {
        "id": "displacement_weight",
        "source": "displacement",
        "target": "weight"
       },
       "selectable": false
      }
     },
     "d912a1eaf23d44cd8952be4006415ef7": {
      "model_module": "jupyter-cytoscape",
      "model_module_version": "^1.2.2",
      "model_name": "GraphModel",
      "state": {
       "_adj": {
        "acceleration": {},
        "cylinders": {},
        "displacement": {},
        "horsepower": {},
        "model_year": {},
        "mpg": {},
        "origin": {},
        "weight": {}
       },
       "_model_module_version": "^1.2.2",
       "_view_module": "jupyter-cytoscape",
       "_view_module_version": "^1.2.2",
       "edges": [
        "IPY_MODEL_6f76c99d1b7b4d15ba82969658e2c7c3",
        "IPY_MODEL_676a96fc33d04865803c13be1c651e1a",
        "IPY_MODEL_f35ac60cf9a141cb9c7f63f7b1e91576",
        "IPY_MODEL_99031a29c662434a9b552f523b5f7325",
        "IPY_MODEL_9fc4d1ecd6ea4da8ab05814779e22bfa",
        "IPY_MODEL_bb7abf0e31ad4627a0d329336d6c7709",
        "IPY_MODEL_e321c35c0b064c8d87b5605f04b1c659",
        "IPY_MODEL_dc341a01038a4389840a95d1e5af4085",
        "IPY_MODEL_7a70b7048a6140809524ac88be899653",
        "IPY_MODEL_9e8c9b41d441491db253dc51c899f0dd"
       ],
       "nodes": [
        "IPY_MODEL_3801fabfda1641c78e38aa19522da6cb",
        "IPY_MODEL_eeda9f366ac347568c781fef6e036698",
        "IPY_MODEL_3d345796aba143508d90050ad0c9ab89",
        "IPY_MODEL_1d9b940bfa834a639888fc0f137ed5f4",
        "IPY_MODEL_cb81fe500c3b4434a74f2a04591bcbc2",
        "IPY_MODEL_30f23d89ffb249e89799b9073ca5660b",
        "IPY_MODEL_0accfcbb9322426a9d810c28c0fb016b",
        "IPY_MODEL_9d2b16efbecc4fa6926d8a06db22cee0"
       ]
      }
     },
     "d915095a86ff4e7d8e892665d1814853": {
      "model_module": "jupyter-cytoscape",
      "model_module_version": "^1.2.2",
      "model_name": "NodeModel",
      "state": {
       "_model_module_version": "^1.2.2",
       "_view_module_version": "^1.2.2",
       "data": {
        "id": "displacement",
        "label": "displacement"
       },
       "grabbable": true,
       "grabbed": false,
       "position": {
        "x": 509.3412849858755,
        "y": 284.2475693169692
       },
       "selectable": false
      }
     },
     "d919b2008f784a3b9e2ae17d2f5a6f9b": {
      "model_module": "jupyter-cytoscape",
      "model_module_version": "^1.2.2",
      "model_name": "NodeModel",
      "state": {
       "_model_module_version": "^1.2.2",
       "_view_module_version": "^1.2.2",
       "data": {
        "id": "weight",
        "label": "weight"
       },
       "grabbable": true,
       "grabbed": false,
       "position": {
        "x": 1045.3592587947849,
        "y": 150.61005907170656
       },
       "removed": true,
       "selectable": false
      }
     },
     "d91ed3eaf7d542a38b8f173e740edd48": {
      "model_module": "jupyter-cytoscape",
      "model_module_version": "^1.2.2",
      "model_name": "EdgeModel",
      "state": {
       "_model_module_version": "^1.2.2",
       "_view_module_version": "^1.2.2",
       "classes": " directed  multiple_edges ",
       "data": {
        "id": "displacement_origin",
        "source": "displacement",
        "target": "origin"
       },
       "selectable": false
      }
     },
     "d93f1940824444b6aa2221f78643d2e2": {
      "model_module": "jupyter-cytoscape",
      "model_module_version": "^1.2.2",
      "model_name": "GraphModel",
      "state": {
       "_adj": {
        "acceleration": {},
        "cylinders": {},
        "displacement": {},
        "horsepower": {},
        "model_year": {},
        "mpg": {},
        "origin": {},
        "weight": {}
       },
       "_model_module_version": "^1.2.2",
       "_view_module": "jupyter-cytoscape",
       "_view_module_version": "^1.2.2",
       "edges": [
        "IPY_MODEL_8eb5d278d4a241dea58f324453e66ac0",
        "IPY_MODEL_76da92b3ec2e4bb4abadbc131b8a532d",
        "IPY_MODEL_03ff5e4128cd4cfcbd51e57bef6d230c",
        "IPY_MODEL_eb5e81e214a448d19f5f111d8e336fb4",
        "IPY_MODEL_8f26aa2bbf5a45979d540f3dacd88d91",
        "IPY_MODEL_4d7c344d33e743b19b560dd6e128c640",
        "IPY_MODEL_35109b4039c84c32bff9f55596fe27b5",
        "IPY_MODEL_7653a7a7eafa401cb65d4309e0b4a441",
        "IPY_MODEL_00aaec85a7c349a3835732a9e44a53fb",
        "IPY_MODEL_5e868fd626e449a98dc68a573ad49a56",
        "IPY_MODEL_169bab68fc294ab4867958195d4216a1",
        "IPY_MODEL_83cfe105df7d408c8e729bd299aabd51",
        "IPY_MODEL_3cd662bf9e414167b2a2abbe4839e65c",
        "IPY_MODEL_938e84ad403b478bb523503310fa85c4",
        "IPY_MODEL_3018631e0740420e940ad9ddc0bf7bb2",
        "IPY_MODEL_c98911af6de44dbdbd2bcff52c0ba8af"
       ],
       "nodes": [
        "IPY_MODEL_c3fd577659c7494eb80119d40dcbebee",
        "IPY_MODEL_1d7cd0e912654cb0864271a2a0590b98",
        "IPY_MODEL_1f1a118a04764cc8881fdbb9fe7ea9ba",
        "IPY_MODEL_fb97838db71a4f61b5116634f6c0c9b7",
        "IPY_MODEL_89d713a7c0bb445ca8e6e6a54a38292e",
        "IPY_MODEL_8d215068c7954c099a96e3f4e075347c",
        "IPY_MODEL_fd19900ce1954e739a422e36d8576ae8",
        "IPY_MODEL_537e11b6b11f4d69a312d20139e19857"
       ]
      }
     },
     "d93ff5493e1d4bc7a58d9bf620455c9f": {
      "model_module": "jupyter-cytoscape",
      "model_module_version": "^1.2.2",
      "model_name": "EdgeModel",
      "state": {
       "_model_module_version": "^1.2.2",
       "_view_module_version": "^1.2.2",
       "classes": " directed  multiple_edges ",
       "data": {
        "id": "weight_acceleration",
        "source": "weight",
        "target": "acceleration"
       },
       "selectable": false
      }
     },
     "d94f775a74d741228e948058b12d856b": {
      "model_module": "jupyter-cytoscape",
      "model_module_version": "^1.2.2",
      "model_name": "EdgeModel",
      "state": {
       "_model_module_version": "^1.2.2",
       "_view_module_version": "^1.2.2",
       "classes": " directed  multiple_edges ",
       "data": {
        "id": "model_year_cylinders",
        "source": "model_year",
        "target": "cylinders"
       },
       "selectable": false
      }
     },
     "d97ce546412642af8e2ba3884be2ac7b": {
      "model_module": "jupyter-cytoscape",
      "model_module_version": "^1.2.2",
      "model_name": "EdgeModel",
      "state": {
       "_model_module_version": "^1.2.2",
       "_view_module_version": "^1.2.2",
       "classes": " directed  multiple_edges ",
       "data": {
        "id": "displacement_weight",
        "source": "displacement",
        "target": "weight"
       },
       "removed": true,
       "selectable": false
      }
     },
     "d98117c8a5af4f75a9b25f99abe58470": {
      "model_module": "@jupyter-widgets/controls",
      "model_module_version": "1.5.0",
      "model_name": "ButtonModel",
      "state": {
       "description": "Change Direction",
       "disabled": true,
       "layout": "IPY_MODEL_73620ec568d2477ea5c66b8a0585af20",
       "style": "IPY_MODEL_ff6f6f44eb4d4ed2bcde4a3e3d79a295"
      }
     },
     "d9a2c029e41f4d35850ce56c56978cd0": {
      "model_module": "jupyter-cytoscape",
      "model_module_version": "^1.2.2",
      "model_name": "NodeModel",
      "state": {
       "_model_module_version": "^1.2.2",
       "_view_module_version": "^1.2.2",
       "data": {
        "id": "cylinders",
        "label": "cylinders"
       },
       "grabbable": true,
       "grabbed": false,
       "position": {
        "x": 431.95126769672765,
        "y": 205.10121535722567
       },
       "removed": true,
       "selectable": false
      }
     },
     "d9dd3f48df164871a8cb36136924cdbd": {
      "model_module": "@jupyter-widgets/output",
      "model_module_version": "1.0.0",
      "model_name": "OutputModel",
      "state": {
       "layout": "IPY_MODEL_28f8aa4e62b34bc38171a462314363e6"
      }
     },
     "d9f1bb8453d345529fd586a66ec87f35": {
      "model_module": "jupyter-cytoscape",
      "model_module_version": "^1.2.2",
      "model_name": "NodeModel",
      "state": {
       "_model_module_version": "^1.2.2",
       "_view_module_version": "^1.2.2",
       "data": {
        "id": "displacement",
        "label": "displacement"
       },
       "grabbable": true,
       "grabbed": false,
       "position": {
        "x": 508.16353336629044,
        "y": 245.72590677691755
       },
       "removed": true,
       "selectable": false
      }
     },
     "da44cc481e55480d89dce60a112223cd": {
      "model_module": "jupyter-cytoscape",
      "model_module_version": "^1.2.2",
      "model_name": "EdgeModel",
      "state": {
       "_model_module_version": "^1.2.2",
       "_view_module_version": "^1.2.2",
       "classes": " directed  multiple_edges ",
       "data": {
        "id": "origin_horsepower",
        "source": "origin",
        "target": "horsepower"
       },
       "removed": true,
       "selectable": false
      }
     },
     "da4c2f84e57a4b4c97e3cc20f2fa324a": {
      "model_module": "jupyter-cytoscape",
      "model_module_version": "^1.2.2",
      "model_name": "NodeModel",
      "state": {
       "_model_module_version": "^1.2.2",
       "_view_module_version": "^1.2.2",
       "data": {
        "id": "acceleration",
        "label": "acceleration"
       },
       "grabbable": true,
       "grabbed": false,
       "position": {
        "x": 597.5089772382324,
        "y": 297.83635107635484
       },
       "removed": true,
       "selectable": false
      }
     },
     "da697a2b9099434ca038a9396c3f0973": {
      "model_module": "@jupyter-widgets/controls",
      "model_module_version": "1.5.0",
      "model_name": "ButtonModel",
      "state": {
       "description": "Generate original graph",
       "layout": "IPY_MODEL_98464ff0341841beb2ff1d43b81aa06a",
       "style": "IPY_MODEL_90affe732e16402989f39123d5fc8fcf"
      }
     },
     "da8db035da02450aa8af8b818156afe5": {
      "model_module": "jupyter-cytoscape",
      "model_module_version": "^1.2.2",
      "model_name": "NodeModel",
      "state": {
       "_model_module_version": "^1.2.2",
       "_view_module_version": "^1.2.2",
       "data": {
        "id": "horsepower",
        "label": "horsepower"
       },
       "grabbable": true,
       "grabbed": false,
       "position": {
        "x": 577.9360436026988,
        "y": 175.07363957090456
       },
       "removed": true,
       "selectable": false
      }
     },
     "daef90fca9ad4e99b9e61e42b8d928f4": {
      "model_module": "@jupyter-widgets/controls",
      "model_module_version": "1.5.0",
      "model_name": "ButtonStyleModel",
      "state": {}
     },
     "daf4c374e106489caa67cf0c831386e8": {
      "model_module": "jupyter-cytoscape",
      "model_module_version": "^1.2.2",
      "model_name": "CytoscapeModel",
      "state": {
       "_interaction_handlers": {
        "edge": [
         "click"
        ],
        "node": [
         "click"
        ]
       },
       "_model_module_version": "^1.2.2",
       "_view_module_version": "^1.2.2",
       "auto_ungrabify": false,
       "autolock": false,
       "cytoscape_layout": {
        "name": "cola"
       },
       "cytoscape_style": [
        {
         "selector": "node",
         "style": {
          "background-color": "blue",
          "font-family": "arial",
          "font-size": "10px",
          "label": "data(label)"
         }
        },
        {
         "selector": "edge",
         "style": {
          "curve-style": "bezier",
          "line-color": "#9dbaea",
          "target-arrow-color": "#9dbaea",
          "target-arrow-shape": "triangle",
          "width": 4
         }
        },
        {
         "css": {
          "line-color": "red"
         },
         "selector": "edge.selected"
        },
        {
         "css": {
          "background-color": "red"
         },
         "selector": "node.selected"
        }
       ],
       "desktop_tap_threshold": 4,
       "graph": "IPY_MODEL_d912a1eaf23d44cd8952be4006415ef7",
       "headless": false,
       "hide_edges_on_viewport": false,
       "layout": "IPY_MODEL_af6365abc4c24953a37a8febab630a8e",
       "max_zoom": 1e+50,
       "min_zoom": 1e-50,
       "motion_blur": false,
       "motion_blur_opacity": 0.2,
       "panning_enabled": true,
       "pixel_ratio": "auto",
       "rendered_position": {
        "renderedPosition": {
         "x": 100,
         "y": 100
        }
       },
       "selection_type": "single",
       "style_enabled": true,
       "texture_on_viewport": false,
       "tooltip_source": "tooltip",
       "touch_tap_threshold": 8,
       "user_panning_enabled": true,
       "user_zooming_enabled": true,
       "wheel_sensitivity": 1,
       "zoom": 2,
       "zooming_enabled": true
      }
     },
     "db179cbe4d064060abfbd9f872f7088f": {
      "model_module": "@jupyter-widgets/controls",
      "model_module_version": "1.5.0",
      "model_name": "ButtonStyleModel",
      "state": {}
     },
     "db1b2f1416c84a7392a08d358f5aca47": {
      "model_module": "jupyter-cytoscape",
      "model_module_version": "^1.2.2",
      "model_name": "NodeModel",
      "state": {
       "_model_module_version": "^1.2.2",
       "_view_module_version": "^1.2.2",
       "data": {
        "id": "displacement",
        "label": "displacement"
       },
       "grabbable": true,
       "grabbed": false,
       "position": {
        "x": 509.3412849858755,
        "y": 284.2475693169692
       },
       "selectable": false
      }
     },
     "db25029df4bb46fc9956e65f4d272865": {
      "model_module": "jupyter-cytoscape",
      "model_module_version": "^1.2.2",
      "model_name": "EdgeModel",
      "state": {
       "_model_module_version": "^1.2.2",
       "_view_module_version": "^1.2.2",
       "classes": " directed  multiple_edges ",
       "data": {
        "id": "model_year_weight",
        "source": "model_year",
        "target": "weight"
       },
       "removed": true,
       "selectable": false
      }
     },
     "db2a46bdd5c64e0e88c415fdfb0e54ea": {
      "model_module": "jupyter-cytoscape",
      "model_module_version": "^1.2.2",
      "model_name": "NodeModel",
      "state": {
       "_model_module_version": "^1.2.2",
       "_view_module_version": "^1.2.2",
       "data": {
        "id": "cylinders",
        "label": "cylinders"
       },
       "grabbable": true,
       "grabbed": false,
       "position": {
        "x": 433.0988645297568,
        "y": 243.59005208886958
       },
       "selectable": false
      }
     },
     "db6fff6aa6694b1abdfa0a661425891e": {
      "model_module": "@jupyter-widgets/output",
      "model_module_version": "1.0.0",
      "model_name": "OutputModel",
      "state": {
       "layout": "IPY_MODEL_03d75c259b0e44b68a95ff3fc88d70b6"
      }
     },
     "db757e93d2f5436788c50705e0dbd936": {
      "model_module": "jupyter-cytoscape",
      "model_module_version": "^1.2.2",
      "model_name": "EdgeModel",
      "state": {
       "_model_module_version": "^1.2.2",
       "_view_module_version": "^1.2.2",
       "classes": " directed  multiple_edges ",
       "data": {
        "id": "displacement_horsepower",
        "source": "displacement",
        "target": "horsepower"
       },
       "removed": true,
       "selectable": false
      }
     },
     "db9275c2250b4708aefdc6518a8fed80": {
      "model_module": "jupyter-cytoscape",
      "model_module_version": "^1.2.2",
      "model_name": "EdgeModel",
      "state": {
       "_model_module_version": "^1.2.2",
       "_view_module_version": "^1.2.2",
       "classes": " directed  multiple_edges ",
       "data": {
        "id": "weight_acceleration",
        "source": "weight",
        "target": "acceleration"
       },
       "removed": true,
       "selectable": false
      }
     },
     "dbdd4a0464784120985601d959897f20": {
      "model_module": "@jupyter-widgets/controls",
      "model_module_version": "1.5.0",
      "model_name": "ButtonModel",
      "state": {
       "description": "Change Direction",
       "disabled": true,
       "layout": "IPY_MODEL_f3bffde18dff4cf4900f00b885cf3ef5",
       "style": "IPY_MODEL_63aeee852e2f4f5888637baf11423dff"
      }
     },
     "dc341a01038a4389840a95d1e5af4085": {
      "model_module": "jupyter-cytoscape",
      "model_module_version": "^1.2.2",
      "model_name": "EdgeModel",
      "state": {
       "_model_module_version": "^1.2.2",
       "_view_module_version": "^1.2.2",
       "classes": " directed  multiple_edges ",
       "data": {
        "id": "model_year_mpg",
        "source": "model_year",
        "target": "mpg"
       },
       "selectable": false
      }
     },
     "dc625913d5fd4423a8d334a54083e404": {
      "model_module": "@jupyter-widgets/controls",
      "model_module_version": "1.5.0",
      "model_name": "ButtonStyleModel",
      "state": {}
     },
     "dc7c834231b747678ac8d110974a6427": {
      "model_module": "jupyter-cytoscape",
      "model_module_version": "^1.2.2",
      "model_name": "EdgeModel",
      "state": {
       "_model_module_version": "^1.2.2",
       "_view_module_version": "^1.2.2",
       "classes": " directed  multiple_edges ",
       "data": {
        "id": "displacement_cylinders",
        "source": "displacement",
        "target": "cylinders"
       },
       "selectable": false
      }
     },
     "dc886fc69db44a6aad007a4acc88434f": {
      "model_module": "@jupyter-widgets/controls",
      "model_module_version": "1.5.0",
      "model_name": "ButtonModel",
      "state": {
       "description": "Delete Edge",
       "disabled": true,
       "layout": "IPY_MODEL_20fdb2a2fdff4fe7ac37547fe6a5c72e",
       "style": "IPY_MODEL_17a1826b423e4d4e985bc9de518b0e01"
      }
     },
     "dcabc3b5e3c44b159c95ae17510ddcab": {
      "model_module": "jupyter-cytoscape",
      "model_module_version": "^1.2.2",
      "model_name": "EdgeModel",
      "state": {
       "_model_module_version": "^1.2.2",
       "_view_module_version": "^1.2.2",
       "classes": " directed  multiple_edges ",
       "data": {
        "id": "displacement_acceleration",
        "source": "displacement",
        "target": "acceleration"
       },
       "selectable": false
      }
     },
     "dcdb834ce40a49bca93226af9bd52846": {
      "model_module": "jupyter-cytoscape",
      "model_module_version": "^1.2.2",
      "model_name": "NodeModel",
      "state": {
       "_model_module_version": "^1.2.2",
       "_view_module_version": "^1.2.2",
       "data": {
        "id": "acceleration",
        "label": "acceleration"
       },
       "grabbable": true,
       "grabbed": false,
       "position": {
        "x": 598.6565740712615,
        "y": 336.3251878079987
       },
       "selectable": false
      }
     },
     "dd01f9e24fad4592a4bb697892735972": {
      "model_module": "jupyter-cytoscape",
      "model_module_version": "^1.2.2",
      "model_name": "EdgeModel",
      "state": {
       "_model_module_version": "^1.2.2",
       "_view_module_version": "^1.2.2",
       "classes": " directed  multiple_edges ",
       "data": {
        "id": "weight_acceleration",
        "source": "weight",
        "target": "acceleration"
       },
       "selectable": false
      }
     },
     "dd0df969fc354b498d31bebba41ab6de": {
      "model_module": "@jupyter-widgets/base",
      "model_module_version": "1.2.0",
      "model_name": "LayoutModel",
      "state": {}
     },
     "dd23d409fd53430697409a95d00ba3c8": {
      "model_module": "jupyter-cytoscape",
      "model_module_version": "^1.2.2",
      "model_name": "GraphModel",
      "state": {
       "_adj": {
        "acceleration": {},
        "cylinders": {},
        "displacement": {},
        "horsepower": {},
        "model_year": {},
        "mpg": {},
        "origin": {},
        "weight": {}
       },
       "_model_module_version": "^1.2.2",
       "_view_module": "jupyter-cytoscape",
       "_view_module_version": "^1.2.2",
       "edges": [
        "IPY_MODEL_f9b0a364de8d4c57b52ff0e4ef749873",
        "IPY_MODEL_c4df189d18fa4c8d87309420bdd9c3ca",
        "IPY_MODEL_2a351025d6b14e339ee3f7852c35ca2f",
        "IPY_MODEL_0304bd9c05744b04a9d17f9d67729eea",
        "IPY_MODEL_f4b6a12498e242d69a887f842bd8efda",
        "IPY_MODEL_221cf5afbabb43acb1b6c4ac9543f50d",
        "IPY_MODEL_0e54a5d1b7df48788e43a49e97490e6b",
        "IPY_MODEL_4d046edfd32d4cfe8b8eaa4e334f4dc8",
        "IPY_MODEL_e1bb2e6670a449c791a982f927b1f478",
        "IPY_MODEL_38d4e3a55f0142bcb0df3c78cdcdeefc",
        "IPY_MODEL_863290c57e5647ea92287046dbd87984",
        "IPY_MODEL_75f09eb2fe5a415b904d8f41d6e46fef",
        "IPY_MODEL_d94f775a74d741228e948058b12d856b",
        "IPY_MODEL_a5d931d20d9e4ed2b65f0071f456a393",
        "IPY_MODEL_3246f76b58d1411697dbe5fe1af59812",
        "IPY_MODEL_c2a37b0b638c418082d91206af6a4b6b"
       ],
       "nodes": [
        "IPY_MODEL_79bf5fa1fd20497f93eb4a0a16fa8b8e",
        "IPY_MODEL_8750b35132414627afbf054feb41dcaa",
        "IPY_MODEL_d915095a86ff4e7d8e892665d1814853",
        "IPY_MODEL_d510741b11984dcea80df389e9119e9f",
        "IPY_MODEL_958ec4dd4d63427dabbb974b2de12c8a",
        "IPY_MODEL_1b69e39dcc6e4dc1ac6088e9bb91875c",
        "IPY_MODEL_8a0fc487baaa4e58afc7fc42df243d38",
        "IPY_MODEL_4ae61e81bbbb48ada14463344e409514"
       ]
      }
     },
     "dd341569def44eca912eb1ae6d6c8840": {
      "model_module": "@jupyter-widgets/base",
      "model_module_version": "1.2.0",
      "model_name": "LayoutModel",
      "state": {}
     },
     "dd5b55bf86bc42a5b971aacffd99e145": {
      "model_module": "@jupyter-widgets/controls",
      "model_module_version": "1.5.0",
      "model_name": "ButtonModel",
      "state": {
       "description": "Change Direction",
       "disabled": true,
       "layout": "IPY_MODEL_7234783515b445c4acd77f9a1637c34f",
       "style": "IPY_MODEL_60a38e015da0463fb385f19d8c3342c2"
      }
     },
     "dd79f51f7fe54a9ba39c901683c509f9": {
      "model_module": "jupyter-cytoscape",
      "model_module_version": "^1.2.2",
      "model_name": "NodeModel",
      "state": {
       "_model_module_version": "^1.2.2",
       "_view_module_version": "^1.2.2",
       "data": {
        "id": "cylinders",
        "label": "cylinders"
       },
       "grabbable": true,
       "grabbed": false,
       "position": {
        "x": 431.94658248135147,
        "y": 205.00607973359763
       },
       "removed": true,
       "selectable": false
      }
     },
     "ddadefc09819475aa9b892cf0bb317f0": {
      "model_module": "@jupyter-widgets/base",
      "model_module_version": "1.2.0",
      "model_name": "LayoutModel",
      "state": {}
     },
     "ddeda596c59849d08c150acafbfd5134": {
      "model_module": "jupyter-cytoscape",
      "model_module_version": "^1.2.2",
      "model_name": "GraphModel",
      "state": {
       "_adj": {
        "acceleration": {},
        "cylinders": {},
        "displacement": {},
        "horsepower": {},
        "model_year": {},
        "mpg": {},
        "origin": {},
        "weight": {}
       },
       "_model_module_version": "^1.2.2",
       "_view_module": "jupyter-cytoscape",
       "_view_module_version": "^1.2.2",
       "edges": [
        "IPY_MODEL_c139327de6f644978f90372c57c259c6",
        "IPY_MODEL_3304be69ea094a97a12617c225a4843b",
        "IPY_MODEL_f5782d4efe374839aa3c08ebbb64b6fe",
        "IPY_MODEL_a9dd76bd055b44bbb1dcd8422daeb730",
        "IPY_MODEL_ee9a1ad113d1436bbd3f5849395a9cfd",
        "IPY_MODEL_bac4b8a8fe444cb088faec17421a283d",
        "IPY_MODEL_14681ab8b08448ffb335a932a9278435",
        "IPY_MODEL_132d80dd3dd6449d83be4c58062012d0",
        "IPY_MODEL_9b5e6e8fb77f486b82b65339ae2d75a8",
        "IPY_MODEL_c8930657ca0845f4b4f4f93af7d004cd",
        "IPY_MODEL_e42ed871aae04dfca2e1cde34c0a7c8f",
        "IPY_MODEL_61b5985ce0e04d97913a956977662a51",
        "IPY_MODEL_1662df46a3ab457eb5e94909b7d42954",
        "IPY_MODEL_c998f27d9cf441838fece0b85719a8dc",
        "IPY_MODEL_3077c491e08e4c4ab5ccb81d319f8b35",
        "IPY_MODEL_c870fd0b2e8e416d8581413b9e9c87b1"
       ],
       "nodes": [
        "IPY_MODEL_1525a063a9db435d9e3125d0dfc6f9e6",
        "IPY_MODEL_314a0400219f40e3a23df24c924d17c3",
        "IPY_MODEL_6a968a906747496caf6834973deb4d51",
        "IPY_MODEL_6d5ee56c0da44fb6b2636098cea69899",
        "IPY_MODEL_c668dbe10f884adfa231e2e872b2051b",
        "IPY_MODEL_b519b8a736a740c5ab3579e4bfeddad3",
        "IPY_MODEL_aee53370f10942329601bba4d7849efa",
        "IPY_MODEL_2122f0d7922e414da438adfd652d53c5"
       ]
      }
     },
     "ddfc7720281c4e30aed1ec8fa032e8fb": {
      "model_module": "@jupyter-widgets/base",
      "model_module_version": "1.2.0",
      "model_name": "LayoutModel",
      "state": {}
     },
     "de3708ca5da849158c9715e890a4d7f6": {
      "model_module": "@jupyter-widgets/controls",
      "model_module_version": "1.5.0",
      "model_name": "ButtonModel",
      "state": {
       "description": "Delete Edge",
       "disabled": true,
       "layout": "IPY_MODEL_4de8c99558024b01b81c317397441853",
       "style": "IPY_MODEL_d78cb2114c734b2488bd17717699fda7"
      }
     },
     "de70e2b4b83e49d78d9da60cfd332375": {
      "model_module": "jupyter-cytoscape",
      "model_module_version": "^1.2.2",
      "model_name": "EdgeModel",
      "state": {
       "_model_module_version": "^1.2.2",
       "_view_module_version": "^1.2.2",
       "classes": " directed  multiple_edges ",
       "data": {
        "id": "displacement_horsepower",
        "source": "displacement",
        "target": "horsepower"
       },
       "removed": true,
       "selectable": false
      }
     },
     "de7cbadb53d24e9aae00f1bb57984ca4": {
      "model_module": "jupyter-cytoscape",
      "model_module_version": "^1.2.2",
      "model_name": "EdgeModel",
      "state": {
       "_model_module_version": "^1.2.2",
       "_view_module_version": "^1.2.2",
       "classes": " directed  multiple_edges ",
       "data": {
        "id": "displacement_weight",
        "source": "displacement",
        "target": "weight"
       },
       "selectable": false
      }
     },
     "deccd4ef0f814b92a584f86decb2b6a8": {
      "model_module": "jupyter-cytoscape",
      "model_module_version": "^1.2.2",
      "model_name": "EdgeModel",
      "state": {
       "_model_module_version": "^1.2.2",
       "_view_module_version": "^1.2.2",
       "classes": " directed  multiple_edges ",
       "data": {
        "id": "model_year_weight",
        "source": "model_year",
        "target": "weight"
       },
       "removed": true,
       "selectable": false
      }
     },
     "deceec67aca345eba058b5297f069527": {
      "model_module": "jupyter-cytoscape",
      "model_module_version": "^1.2.2",
      "model_name": "EdgeModel",
      "state": {
       "_model_module_version": "^1.2.2",
       "_view_module_version": "^1.2.2",
       "classes": " directed  multiple_edges ",
       "data": {
        "id": "model_year_weight",
        "source": "model_year",
        "target": "weight"
       },
       "removed": true,
       "selectable": false
      }
     },
     "df1af28371ac4b3a98a52a8a333aeba2": {
      "model_module": "@jupyter-widgets/controls",
      "model_module_version": "1.5.0",
      "model_name": "ButtonModel",
      "state": {
       "description": "Change Direction",
       "disabled": true,
       "layout": "IPY_MODEL_5b903768c8f548b7a3add89f7f4be4f3",
       "style": "IPY_MODEL_24409b48cff64f668e5f3dbb4c5860fd"
      }
     },
     "df3db927245f4d98aa172efe8aa2e497": {
      "model_module": "jupyter-cytoscape",
      "model_module_version": "^1.2.2",
      "model_name": "EdgeModel",
      "state": {
       "_model_module_version": "^1.2.2",
       "_view_module_version": "^1.2.2",
       "classes": " directed  multiple_edges ",
       "data": {
        "id": "origin_mpg",
        "source": "origin",
        "target": "mpg"
       },
       "removed": true,
       "selectable": false
      }
     },
     "df4612422ed7474b8ed1ac2cc9617e31": {
      "model_module": "jupyter-cytoscape",
      "model_module_version": "^1.2.2",
      "model_name": "EdgeModel",
      "state": {
       "_model_module_version": "^1.2.2",
       "_view_module_version": "^1.2.2",
       "classes": " directed  multiple_edges ",
       "data": {
        "id": "weight_mpg",
        "source": "weight",
        "target": "mpg"
       },
       "selectable": false
      }
     },
     "df4782e3a4e64f2385bceb852a2e0e6a": {
      "model_module": "@jupyter-widgets/controls",
      "model_module_version": "1.5.0",
      "model_name": "ButtonStyleModel",
      "state": {}
     },
     "df676fde928a460eb17948b3efef32e5": {
      "model_module": "jupyter-cytoscape",
      "model_module_version": "^1.2.2",
      "model_name": "NodeModel",
      "state": {
       "_model_module_version": "^1.2.2",
       "_view_module_version": "^1.2.2",
       "data": {
        "id": "origin",
        "label": "origin"
       },
       "grabbable": true,
       "grabbed": false,
       "position": {
        "x": 989.0023695353442,
        "y": 302.2668247642819
       },
       "removed": true,
       "selectable": false
      }
     },
     "df9fc8b33acd47018778b29177454a22": {
      "model_module": "jupyter-cytoscape",
      "model_module_version": "^1.2.2",
      "model_name": "EdgeModel",
      "state": {
       "_model_module_version": "^1.2.2",
       "_view_module_version": "^1.2.2",
       "classes": " directed  multiple_edges ",
       "data": {
        "id": "model_year_cylinders",
        "source": "model_year",
        "target": "cylinders"
       },
       "selectable": false
      }
     },
     "dfb2b06f78df4f0fa15598e796b82077": {
      "model_module": "jupyter-cytoscape",
      "model_module_version": "^1.2.2",
      "model_name": "EdgeModel",
      "state": {
       "_model_module_version": "^1.2.2",
       "_view_module_version": "^1.2.2",
       "classes": " directed  multiple_edges ",
       "data": {
        "id": "cylinders_displacement",
        "source": "cylinders",
        "target": "displacement"
       },
       "removed": true,
       "selectable": false
      }
     },
     "dfc945f2a3e0405da40ce84c443460f5": {
      "model_module": "jupyter-cytoscape",
      "model_module_version": "^1.2.2",
      "model_name": "CytoscapeModel",
      "state": {
       "_interaction_handlers": {
        "edge": [
         "click"
        ],
        "node": [
         "click"
        ]
       },
       "_model_module_version": "^1.2.2",
       "_view_module_version": "^1.2.2",
       "auto_ungrabify": false,
       "autolock": false,
       "cytoscape_layout": {
        "name": "cola"
       },
       "cytoscape_style": [
        {
         "selector": "node",
         "style": {
          "background-color": "blue",
          "font-family": "arial",
          "font-size": "10px",
          "label": "data(label)"
         }
        },
        {
         "selector": "edge",
         "style": {
          "curve-style": "bezier",
          "line-color": "#9dbaea",
          "target-arrow-color": "#9dbaea",
          "target-arrow-shape": "triangle",
          "width": 4
         }
        },
        {
         "css": {
          "line-color": "red"
         },
         "selector": "edge.highlighted"
        },
        {
         "css": {
          "background-color": "blue"
         },
         "selector": "node.highlighted"
        },
        {
         "css": {
          "line-color": "red"
         },
         "selector": "edge.selected"
        },
        {
         "css": {
          "background-color": "red"
         },
         "selector": "node.selected"
        }
       ],
       "desktop_tap_threshold": 4,
       "graph": "IPY_MODEL_b4878bc862e549a4a5dbbd14c7cd4ad9",
       "headless": false,
       "hide_edges_on_viewport": false,
       "layout": "IPY_MODEL_70c69ea28c194b368503ca4e29882436",
       "max_zoom": 1e+50,
       "min_zoom": 1e-50,
       "motion_blur": false,
       "motion_blur_opacity": 0.2,
       "panning_enabled": true,
       "pixel_ratio": "auto",
       "rendered_position": {
        "renderedPosition": {
         "x": 100,
         "y": 100
        }
       },
       "selection_type": "single",
       "style_enabled": true,
       "texture_on_viewport": false,
       "tooltip_source": "tooltip",
       "touch_tap_threshold": 8,
       "user_panning_enabled": true,
       "user_zooming_enabled": true,
       "wheel_sensitivity": 1,
       "zoom": 2,
       "zooming_enabled": true
      }
     },
     "dfd19bce9ddf406e9e766af6ff324e4f": {
      "model_module": "jupyter-cytoscape",
      "model_module_version": "^1.2.2",
      "model_name": "GraphModel",
      "state": {
       "_adj": {
        "acceleration": {},
        "cylinders": {},
        "displacement": {},
        "horsepower": {},
        "model_year": {},
        "mpg": {},
        "origin": {},
        "weight": {}
       },
       "_model_module_version": "^1.2.2",
       "_view_module": "jupyter-cytoscape",
       "_view_module_version": "^1.2.2",
       "edges": [
        "IPY_MODEL_36af212dba4e4b10a4de7be011ada2f1",
        "IPY_MODEL_49e043ce05b04135adad8f2c95425515",
        "IPY_MODEL_56bda3e287c748c8a93bf91798b8f88c",
        "IPY_MODEL_9875aea18d5c40dabadc012663dae2db",
        "IPY_MODEL_1456e5ade3e041f485dc22c80cafa6fa",
        "IPY_MODEL_78d14e09ddef49d8a33a8438938260c0",
        "IPY_MODEL_a8d776a42244404985db2a2a86ea9da9",
        "IPY_MODEL_c74175cb95fd493d93f4dc7635315fcc",
        "IPY_MODEL_2a983c35d3fb424fa8c75a3cc0c5c0c2",
        "IPY_MODEL_cdbda77cf6a64665a93b1e905b41ff5d",
        "IPY_MODEL_5225ab1f119f4762b62b698365d26f1c",
        "IPY_MODEL_a70eedb18a9e47feb2542c508b312ae5",
        "IPY_MODEL_f0e10c48017a4234b3d8c8ba61eac633",
        "IPY_MODEL_a8a2ac4e9541415784654eff797cdfac",
        "IPY_MODEL_6f62c79a5b39482792d3d6d231403978",
        "IPY_MODEL_f3e7537408494e2c8a5ad037026c5cac"
       ],
       "nodes": [
        "IPY_MODEL_650be68da7e6405b9b82014fb48ed361",
        "IPY_MODEL_197ef12ec5c84b239af727077a203552",
        "IPY_MODEL_a532e935ed424ba6a37d1b271912d51a",
        "IPY_MODEL_ff11245012f54b54aa33feff8fdbd7d4",
        "IPY_MODEL_ed993029f6864bf9b97653ef975e7070",
        "IPY_MODEL_63dfd94d9e8e47f796fb41ef4ddfc46a",
        "IPY_MODEL_9a8a8bbc728f494493c225e729cde3a7",
        "IPY_MODEL_6fef27e044ab4f1da840b523781ce35b"
       ]
      }
     },
     "dfecf2f7e44145d2b706d1f301e36a34": {
      "model_module": "@jupyter-widgets/base",
      "model_module_version": "1.2.0",
      "model_name": "LayoutModel",
      "state": {}
     },
     "e01daef484f64a259f26270ae1a188e3": {
      "model_module": "@jupyter-widgets/controls",
      "model_module_version": "1.5.0",
      "model_name": "ButtonModel",
      "state": {
       "description": "Generate original graph",
       "layout": "IPY_MODEL_7400ff8351fd42e1908fda8d5ff12673",
       "style": "IPY_MODEL_b6271bf9414247ef919cd2eb21f1ac42"
      }
     },
     "e037012673bf48f898dcdc7c31ab9f0e": {
      "model_module": "jupyter-cytoscape",
      "model_module_version": "^1.2.2",
      "model_name": "EdgeModel",
      "state": {
       "_model_module_version": "^1.2.2",
       "_view_module_version": "^1.2.2",
       "classes": " directed  multiple_edges ",
       "data": {
        "id": "horsepower_acceleration",
        "source": "horsepower",
        "target": "acceleration"
       },
       "selectable": false
      }
     },
     "e04d7ced45d2480e87a90a4c94ea86f3": {
      "model_module": "@jupyter-widgets/base",
      "model_module_version": "1.2.0",
      "model_name": "LayoutModel",
      "state": {}
     },
     "e063b7d29d4b41a6b68583a3b57a8149": {
      "model_module": "jupyter-cytoscape",
      "model_module_version": "^1.2.2",
      "model_name": "EdgeModel",
      "state": {
       "_model_module_version": "^1.2.2",
       "_view_module_version": "^1.2.2",
       "classes": " directed  multiple_edges ",
       "data": {
        "id": "weight_acceleration",
        "source": "weight",
        "target": "acceleration"
       },
       "removed": true,
       "selectable": false
      }
     },
     "e0d0919a17bf4ba88c6d6b31e976d857": {
      "model_module": "jupyter-cytoscape",
      "model_module_version": "^1.2.2",
      "model_name": "EdgeModel",
      "state": {
       "_model_module_version": "^1.2.2",
       "_view_module_version": "^1.2.2",
       "classes": " directed  multiple_edges ",
       "data": {
        "id": "weight_acceleration",
        "source": "weight",
        "target": "acceleration"
       },
       "removed": true,
       "selectable": false
      }
     },
     "e0e0ea1c267b499c96526addd3cd218a": {
      "model_module": "jupyter-cytoscape",
      "model_module_version": "^1.2.2",
      "model_name": "EdgeModel",
      "state": {
       "_model_module_version": "^1.2.2",
       "_view_module_version": "^1.2.2",
       "classes": " directed  multiple_edges ",
       "data": {
        "id": "weight_acceleration",
        "source": "weight",
        "target": "acceleration"
       },
       "selectable": false
      }
     },
     "e0fcfc55b93e45b9ade77ad3fb69f11f": {
      "model_module": "jupyter-cytoscape",
      "model_module_version": "^1.2.2",
      "model_name": "NodeModel",
      "state": {
       "_model_module_version": "^1.2.2",
       "_view_module_version": "^1.2.2",
       "data": {
        "id": "origin",
        "label": "origin"
       },
       "grabbable": true,
       "grabbed": false,
       "position": {
        "x": 900.64330419126,
        "y": 146.17862824180492
       },
       "selectable": false
      }
     },
     "e117bc172ae646c0929e5882cac53821": {
      "model_module": "@jupyter-widgets/controls",
      "model_module_version": "1.5.0",
      "model_name": "ButtonStyleModel",
      "state": {}
     },
     "e154b9abd3b74998849e72642a961665": {
      "model_module": "@jupyter-widgets/base",
      "model_module_version": "1.2.0",
      "model_name": "LayoutModel",
      "state": {}
     },
     "e15e259aa774474286bd654a30a12c21": {
      "model_module": "@jupyter-widgets/base",
      "model_module_version": "1.2.0",
      "model_name": "LayoutModel",
      "state": {}
     },
     "e1bb2e6670a449c791a982f927b1f478": {
      "model_module": "jupyter-cytoscape",
      "model_module_version": "^1.2.2",
      "model_name": "EdgeModel",
      "state": {
       "_model_module_version": "^1.2.2",
       "_view_module_version": "^1.2.2",
       "classes": " directed  multiple_edges ",
       "data": {
        "id": "displacement_weight",
        "source": "displacement",
        "target": "weight"
       },
       "selectable": false
      }
     },
     "e1e2471789b2478f92df8f3fb9e67069": {
      "model_module": "jupyter-cytoscape",
      "model_module_version": "^1.2.2",
      "model_name": "EdgeModel",
      "state": {
       "_model_module_version": "^1.2.2",
       "_view_module_version": "^1.2.2",
       "classes": " directed  multiple_edges ",
       "data": {
        "id": "horsepower_acceleration",
        "source": "horsepower",
        "target": "acceleration"
       },
       "removed": true,
       "selectable": false
      }
     },
     "e1eb5be629704497864555b221dca6c6": {
      "model_module": "jupyter-cytoscape",
      "model_module_version": "^1.2.2",
      "model_name": "NodeModel",
      "state": {
       "_model_module_version": "^1.2.2",
       "_view_module_version": "^1.2.2",
       "data": {
        "id": "model_year",
        "label": "model_year"
       },
       "grabbable": true,
       "grabbed": false,
       "position": {
        "x": 609.0844187131128,
        "y": 394.4490545839978
       },
       "selectable": false
      }
     },
     "e1fd6aabd2ba4817b9f241f429d1eccb": {
      "model_module": "jupyter-cytoscape",
      "model_module_version": "^1.2.2",
      "model_name": "EdgeModel",
      "state": {
       "_model_module_version": "^1.2.2",
       "_view_module_version": "^1.2.2",
       "classes": " directed  multiple_edges ",
       "data": {
        "id": "mpg_origin",
        "source": "mpg",
        "target": "origin"
       },
       "removed": true,
       "selectable": false
      }
     },
     "e2fa8aec33f841408335365dc9e68d29": {
      "model_module": "jupyter-cytoscape",
      "model_module_version": "^1.2.2",
      "model_name": "GraphModel",
      "state": {
       "_adj": {
        "acceleration": {},
        "cylinders": {},
        "displacement": {},
        "horsepower": {},
        "model_year": {},
        "mpg": {},
        "origin": {},
        "weight": {}
       },
       "_model_module_version": "^1.2.2",
       "_view_module": "jupyter-cytoscape",
       "_view_module_version": "^1.2.2",
       "edges": [
        "IPY_MODEL_35b6e6a6b68a4ea7a7fab092bffa7996",
        "IPY_MODEL_e6eb885a910c4112a1dd6b378c9ff95a",
        "IPY_MODEL_a5711f55b8c240c6b23dec92dda5176c",
        "IPY_MODEL_d0e63db85ca64f85b08254b208f56b6d",
        "IPY_MODEL_bad5cc95bd824ff5918a274385a2e0d9",
        "IPY_MODEL_84e17b4e99fe4fc7bbc578c1a06196ed",
        "IPY_MODEL_173b691222f94dd084448cd38e14f95a",
        "IPY_MODEL_48a45cb4034b4899b994d612c5781322",
        "IPY_MODEL_542beb77e60145a5880228a8daaff503",
        "IPY_MODEL_5710c6dee0ec40eda9be050fdc4c22d3",
        "IPY_MODEL_813aa5e8728d4fa9a8bc3a9fb60ca09b",
        "IPY_MODEL_f4c1797fd95e4f62b064d451401a1adf",
        "IPY_MODEL_4a092a9c32e94b7897dfeb7eca1b469b",
        "IPY_MODEL_59d4e44d92f943048c8bb3250b08206f",
        "IPY_MODEL_bdc4fc0b824c47bdb9f6265e2b300798",
        "IPY_MODEL_fb3d15668c624648b6c4f6aa20d4f5a1"
       ],
       "nodes": [
        "IPY_MODEL_d83a2db11e9f459a841accc6d551c699",
        "IPY_MODEL_9eaf578c485c49f3a14e95ca661270cb",
        "IPY_MODEL_4fc5341a8cc44562a0c36e88e5d3bec1",
        "IPY_MODEL_0061fd18c6ec439297b70266ab4aa7b1",
        "IPY_MODEL_7138a0bdcaf846289c0c5e476f1b915d",
        "IPY_MODEL_7ecc28d108eb4645841977656aa00155",
        "IPY_MODEL_bdd68da3e4894958b3eeb52ee7d77cf3",
        "IPY_MODEL_d1c8f156cfb949d1be199b5326f3fe8f"
       ]
      }
     },
     "e321c35c0b064c8d87b5605f04b1c659": {
      "model_module": "jupyter-cytoscape",
      "model_module_version": "^1.2.2",
      "model_name": "EdgeModel",
      "state": {
       "_model_module_version": "^1.2.2",
       "_view_module_version": "^1.2.2",
       "classes": " directed  multiple_edges ",
       "data": {
        "id": "weight_acceleration",
        "source": "weight",
        "target": "acceleration"
       },
       "selectable": false
      }
     },
     "e35df131ff814e44b3c1a6bfe8a30907": {
      "model_module": "jupyter-cytoscape",
      "model_module_version": "^1.2.2",
      "model_name": "EdgeModel",
      "state": {
       "_model_module_version": "^1.2.2",
       "_view_module_version": "^1.2.2",
       "classes": " directed  multiple_edges ",
       "data": {
        "id": "cylinders_origin",
        "source": "cylinders",
        "target": "origin"
       },
       "selectable": false
      }
     },
     "e3aa8c8c04724987820d5df8fb4b5218": {
      "model_module": "@jupyter-widgets/controls",
      "model_module_version": "1.5.0",
      "model_name": "ButtonStyleModel",
      "state": {}
     },
     "e3b18624b9f14fe38ca477b534f0feea": {
      "model_module": "@jupyter-widgets/controls",
      "model_module_version": "1.5.0",
      "model_name": "ButtonStyleModel",
      "state": {}
     },
     "e3fcc8e81dd2457aa626e380d5edc2fb": {
      "model_module": "jupyter-cytoscape",
      "model_module_version": "^1.2.2",
      "model_name": "NodeModel",
      "state": {
       "_model_module_version": "^1.2.2",
       "_view_module_version": "^1.2.2",
       "data": {
        "id": "cylinders",
        "label": "cylinders"
       },
       "grabbable": true,
       "grabbed": false,
       "position": {
        "x": 433.0988645297568,
        "y": 243.59005208886958
       },
       "selectable": false
      }
     },
     "e42ed871aae04dfca2e1cde34c0a7c8f": {
      "model_module": "jupyter-cytoscape",
      "model_module_version": "^1.2.2",
      "model_name": "EdgeModel",
      "state": {
       "_model_module_version": "^1.2.2",
       "_view_module_version": "^1.2.2",
       "classes": " directed  multiple_edges ",
       "data": {
        "id": "displacement_origin",
        "source": "displacement",
        "target": "origin"
       },
       "selectable": false
      }
     },
     "e4aae30ea477418788e1f29973b7ff83": {
      "model_module": "@jupyter-widgets/controls",
      "model_module_version": "1.5.0",
      "model_name": "ButtonModel",
      "state": {
       "description": "Delete Edge",
       "disabled": true,
       "layout": "IPY_MODEL_b4e23c626a0f425880642a3605ce256f",
       "style": "IPY_MODEL_34960cfd58004f7e8909f73ef4fa379f"
      }
     },
     "e4c23b6b797c4dca9b9a94f6ba12bcb6": {
      "model_module": "@jupyter-widgets/base",
      "model_module_version": "1.2.0",
      "model_name": "LayoutModel",
      "state": {}
     },
     "e4c4cf900b96435da44139072eae70c5": {
      "model_module": "jupyter-cytoscape",
      "model_module_version": "^1.2.2",
      "model_name": "NodeModel",
      "state": {
       "_model_module_version": "^1.2.2",
       "_view_module_version": "^1.2.2",
       "data": {
        "id": "weight",
        "label": "weight"
       },
       "grabbable": true,
       "grabbed": false,
       "position": {
        "x": 644.1038596983955,
        "y": 255.9492168408747
       },
       "selectable": false
      }
     },
     "e4ca03588c8f4b258b6545e315ff9ad7": {
      "model_module": "jupyter-cytoscape",
      "model_module_version": "^1.2.2",
      "model_name": "EdgeModel",
      "state": {
       "_model_module_version": "^1.2.2",
       "_view_module_version": "^1.2.2",
       "classes": " directed  multiple_edges ",
       "data": {
        "id": "displacement_cylinders",
        "source": "displacement",
        "target": "cylinders"
       },
       "selectable": false
      }
     },
     "e4cba0902f804aeb8b18aae0dc8427e1": {
      "model_module": "@jupyter-widgets/base",
      "model_module_version": "1.2.0",
      "model_name": "LayoutModel",
      "state": {}
     },
     "e4dc3bb53be34f5288be267fed7b1155": {
      "model_module": "@jupyter-widgets/controls",
      "model_module_version": "1.5.0",
      "model_name": "ButtonStyleModel",
      "state": {}
     },
     "e51bd02dcb594b589b2ff981c20a477a": {
      "model_module": "jupyter-cytoscape",
      "model_module_version": "^1.2.2",
      "model_name": "EdgeModel",
      "state": {
       "_model_module_version": "^1.2.2",
       "_view_module_version": "^1.2.2",
       "classes": " directed  multiple_edges ",
       "data": {
        "id": "cylinders_origin",
        "source": "cylinders",
        "target": "origin"
       },
       "selectable": false
      }
     },
     "e55339072f754601aaa1bb40ff239f7a": {
      "model_module": "@jupyter-widgets/controls",
      "model_module_version": "1.5.0",
      "model_name": "ButtonStyleModel",
      "state": {}
     },
     "e558a6b0cf2e438e80e5b92c5521dc17": {
      "model_module": "jupyter-cytoscape",
      "model_module_version": "^1.2.2",
      "model_name": "NodeModel",
      "state": {
       "_model_module_version": "^1.2.2",
       "_view_module_version": "^1.2.2",
       "data": {
        "id": "model_year",
        "label": "model_year"
       },
       "grabbable": true,
       "grabbed": false,
       "position": {
        "x": 559.3412859858755,
        "y": 263.5513286832067
       },
       "selectable": false
      }
     },
     "e55cce71ce104958b5f710bb0f6a6d30": {
      "model_module": "@jupyter-widgets/controls",
      "model_module_version": "1.5.0",
      "model_name": "ButtonStyleModel",
      "state": {}
     },
     "e57b35b7bd7c4edf9cd4df1fad03c8ce": {
      "model_module": "jupyter-cytoscape",
      "model_module_version": "^1.2.2",
      "model_name": "EdgeModel",
      "state": {
       "_model_module_version": "^1.2.2",
       "_view_module_version": "^1.2.2",
       "classes": " directed  multiple_edges ",
       "data": {
        "id": "model_year_mpg",
        "source": "model_year",
        "target": "mpg"
       },
       "selectable": false
      }
     },
     "e591fb1a8cfb495d849d4eac0435ae79": {
      "model_module": "jupyter-cytoscape",
      "model_module_version": "^1.2.2",
      "model_name": "CytoscapeModel",
      "state": {
       "_interaction_handlers": {
        "edge": [
         "click"
        ],
        "node": [
         "click"
        ]
       },
       "_model_module_version": "^1.2.2",
       "_view_module_version": "^1.2.2",
       "auto_ungrabify": false,
       "autolock": false,
       "cytoscape_layout": {
        "name": "cola"
       },
       "cytoscape_style": [
        {
         "selector": "node",
         "style": {
          "background-color": "blue",
          "font-family": "arial",
          "font-size": "10px",
          "label": "data(label)"
         }
        },
        {
         "selector": "edge",
         "style": {
          "curve-style": "bezier",
          "line-color": "#9dbaea",
          "target-arrow-color": "#9dbaea",
          "target-arrow-shape": "triangle",
          "width": 4
         }
        },
        {
         "css": {
          "line-color": "red"
         },
         "selector": "edge.highlighted"
        },
        {
         "css": {
          "background-color": "blue"
         },
         "selector": "node.highlighted"
        },
        {
         "css": {
          "line-color": "red"
         },
         "selector": "edge.selected"
        },
        {
         "css": {
          "background-color": "red"
         },
         "selector": "node.selected"
        }
       ],
       "desktop_tap_threshold": 4,
       "graph": "IPY_MODEL_3ababb6d9d9c49e6a21e8acf1411457c",
       "headless": false,
       "hide_edges_on_viewport": false,
       "layout": "IPY_MODEL_a9e1747922d94205b962c344b43a4a98",
       "max_zoom": 1e+50,
       "min_zoom": 1e-50,
       "motion_blur": false,
       "motion_blur_opacity": 0.2,
       "panning_enabled": true,
       "pixel_ratio": "auto",
       "rendered_position": {
        "renderedPosition": {
         "x": 100,
         "y": 100
        }
       },
       "selection_type": "single",
       "style_enabled": true,
       "texture_on_viewport": false,
       "tooltip_source": "tooltip",
       "touch_tap_threshold": 8,
       "user_panning_enabled": true,
       "user_zooming_enabled": true,
       "wheel_sensitivity": 1,
       "zoom": 2,
       "zooming_enabled": true
      }
     },
     "e5d722721fda42908ee8a2823779535b": {
      "model_module": "jupyter-cytoscape",
      "model_module_version": "^1.2.2",
      "model_name": "NodeModel",
      "state": {
       "_model_module_version": "^1.2.2",
       "_view_module_version": "^1.2.2",
       "data": {
        "id": "cylinders",
        "label": "cylinders"
       },
       "grabbable": true,
       "grabbed": false,
       "position": {
        "x": 657.4763582002867,
        "y": 101.64841570258666
       },
       "selectable": false
      }
     },
     "e635f18f39164fe5b19b7a5fe9845a3b": {
      "model_module": "@jupyter-widgets/base",
      "model_module_version": "1.2.0",
      "model_name": "LayoutModel",
      "state": {}
     },
     "e6688013935a43deb672a4f60ce57952": {
      "model_module": "@jupyter-widgets/controls",
      "model_module_version": "1.5.0",
      "model_name": "ButtonStyleModel",
      "state": {}
     },
     "e670f5473211477d8b0b5614d758319b": {
      "model_module": "jupyter-cytoscape",
      "model_module_version": "^1.2.2",
      "model_name": "EdgeModel",
      "state": {
       "_model_module_version": "^1.2.2",
       "_view_module_version": "^1.2.2",
       "classes": " directed  multiple_edges ",
       "data": {
        "id": "displacement_horsepower",
        "source": "displacement",
        "target": "horsepower"
       },
       "removed": true,
       "selectable": false
      }
     },
     "e684a89ce4a64ea1b63ad4a2ce885f28": {
      "model_module": "jupyter-cytoscape",
      "model_module_version": "^1.2.2",
      "model_name": "NodeModel",
      "state": {
       "_model_module_version": "^1.2.2",
       "_view_module_version": "^1.2.2",
       "data": {
        "id": "model_year",
        "label": "model_year"
       },
       "grabbable": true,
       "grabbed": false,
       "position": {
        "x": 425.37537550533716,
        "y": 368.77496395412317
       },
       "selectable": false
      }
     },
     "e6953064276b4239ad8e993ee6afe2c3": {
      "model_module": "@jupyter-widgets/output",
      "model_module_version": "1.0.0",
      "model_name": "OutputModel",
      "state": {
       "layout": "IPY_MODEL_8de802a6cd15487fab778caa5fadf568"
      }
     },
     "e69b9c44d71a4a85a9e76cc3776caa50": {
      "model_module": "jupyter-cytoscape",
      "model_module_version": "^1.2.2",
      "model_name": "EdgeModel",
      "state": {
       "_model_module_version": "^1.2.2",
       "_view_module_version": "^1.2.2",
       "classes": " directed  multiple_edges ",
       "data": {
        "id": "mpg_origin",
        "source": "mpg",
        "target": "origin"
       },
       "removed": true,
       "selectable": false
      }
     },
     "e6cd1594a8f14b81b34ae5c7c68dea8d": {
      "model_module": "jupyter-cytoscape",
      "model_module_version": "^1.2.2",
      "model_name": "EdgeModel",
      "state": {
       "_model_module_version": "^1.2.2",
       "_view_module_version": "^1.2.2",
       "classes": " directed  multiple_edges ",
       "data": {
        "id": "mpg_origin",
        "source": "mpg",
        "target": "origin"
       },
       "selectable": false
      }
     },
     "e6eb885a910c4112a1dd6b378c9ff95a": {
      "model_module": "jupyter-cytoscape",
      "model_module_version": "^1.2.2",
      "model_name": "EdgeModel",
      "state": {
       "_model_module_version": "^1.2.2",
       "_view_module_version": "^1.2.2",
       "classes": " directed  multiple_edges ",
       "data": {
        "id": "displacement_horsepower",
        "source": "displacement",
        "target": "horsepower"
       },
       "selectable": false
      }
     },
     "e7381ec12c3e458386bceb02c43cabc0": {
      "model_module": "@jupyter-widgets/controls",
      "model_module_version": "1.5.0",
      "model_name": "ButtonModel",
      "state": {
       "description": "Add Edge",
       "disabled": true,
       "layout": "IPY_MODEL_9d394ab5ac94454db5c3c9d856e071d2",
       "style": "IPY_MODEL_567efcd11a17431e967db4f06e1cd883"
      }
     },
     "e75a16abefe04a3c95b1005eea3e9c5c": {
      "model_module": "@jupyter-widgets/base",
      "model_module_version": "1.2.0",
      "model_name": "LayoutModel",
      "state": {}
     },
     "e78046d62e734de797ac9f436996fb58": {
      "model_module": "@jupyter-widgets/controls",
      "model_module_version": "1.5.0",
      "model_name": "ButtonModel",
      "state": {
       "description": "Add Edge",
       "disabled": true,
       "layout": "IPY_MODEL_f8ca8d18c56d4f679d289d02a5bdf49e",
       "style": "IPY_MODEL_a7c7592cbc074cbdb766d85ccd0206e2"
      }
     },
     "e7a5953ffbff4eacaa6acf42944a36be": {
      "model_module": "jupyter-cytoscape",
      "model_module_version": "^1.2.2",
      "model_name": "EdgeModel",
      "state": {
       "_model_module_version": "^1.2.2",
       "_view_module_version": "^1.2.2",
       "classes": " directed  multiple_edges ",
       "data": {
        "id": "displacement_acceleration",
        "source": "displacement",
        "target": "acceleration"
       },
       "removed": true,
       "selectable": false
      }
     },
     "e7ba5f6366e44443991ef1e1cc4f6058": {
      "model_module": "jupyter-cytoscape",
      "model_module_version": "^1.2.2",
      "model_name": "EdgeModel",
      "state": {
       "_model_module_version": "^1.2.2",
       "_view_module_version": "^1.2.2",
       "classes": " directed  multiple_edges ",
       "data": {
        "id": "displacement_cylinders",
        "source": "displacement",
        "target": "cylinders"
       },
       "selectable": false
      }
     },
     "e7ea46fff5ff4cedac0cbb1f005a8060": {
      "model_module": "jupyter-cytoscape",
      "model_module_version": "^1.2.2",
      "model_name": "EdgeModel",
      "state": {
       "_model_module_version": "^1.2.2",
       "_view_module_version": "^1.2.2",
       "classes": " directed  multiple_edges ",
       "data": {
        "id": "displacement_cylinders",
        "source": "displacement",
        "target": "cylinders"
       },
       "removed": true,
       "selectable": false
      }
     },
     "e81b4d9d138346f5a8cafa65e32dcdbc": {
      "model_module": "jupyter-cytoscape",
      "model_module_version": "^1.2.2",
      "model_name": "EdgeModel",
      "state": {
       "_model_module_version": "^1.2.2",
       "_view_module_version": "^1.2.2",
       "classes": " directed  multiple_edges ",
       "data": {
        "id": "weight_mpg",
        "source": "weight",
        "target": "mpg"
       },
       "removed": true,
       "selectable": false
      }
     },
     "e8403576b7264d029a5be199c2452399": {
      "model_module": "@jupyter-widgets/base",
      "model_module_version": "1.2.0",
      "model_name": "LayoutModel",
      "state": {}
     },
     "e892c034d8b841dd8329934b98fd8225": {
      "model_module": "@jupyter-widgets/base",
      "model_module_version": "1.2.0",
      "model_name": "LayoutModel",
      "state": {}
     },
     "e8b67ae6af2243889fd27560dbb717d8": {
      "model_module": "jupyter-cytoscape",
      "model_module_version": "^1.2.2",
      "model_name": "GraphModel",
      "state": {
       "_adj": {},
       "_model_module_version": "^1.2.2",
       "_view_module": "jupyter-cytoscape",
       "_view_module_version": "^1.2.2"
      }
     },
     "e8cf5287e7b940fd8a6ec105e75b081e": {
      "model_module": "jupyter-cytoscape",
      "model_module_version": "^1.2.2",
      "model_name": "EdgeModel",
      "state": {
       "_model_module_version": "^1.2.2",
       "_view_module_version": "^1.2.2",
       "classes": " directed  multiple_edges ",
       "data": {
        "id": "displacement_origin",
        "source": "displacement",
        "target": "origin"
       },
       "selectable": false
      }
     },
     "e94f36729d7f4269a1fddf4480a1267b": {
      "model_module": "jupyter-cytoscape",
      "model_module_version": "^1.2.2",
      "model_name": "EdgeModel",
      "state": {
       "_model_module_version": "^1.2.2",
       "_view_module_version": "^1.2.2",
       "classes": " directed  multiple_edges ",
       "data": {
        "id": "mpg_origin",
        "source": "mpg",
        "target": "origin"
       },
       "removed": true,
       "selectable": false
      }
     },
     "e9bae69a2dd6430085da5145abeca842": {
      "model_module": "@jupyter-widgets/base",
      "model_module_version": "1.2.0",
      "model_name": "LayoutModel",
      "state": {}
     },
     "ea09e36f1d0244d5b81faab7a198cdda": {
      "model_module": "jupyter-cytoscape",
      "model_module_version": "^1.2.2",
      "model_name": "NodeModel",
      "state": {
       "_model_module_version": "^1.2.2",
       "_view_module_version": "^1.2.2",
       "data": {
        "id": "cylinders",
        "label": "cylinders"
       },
       "grabbable": true,
       "grabbed": false,
       "position": {
        "x": 431.94658248135147,
        "y": 205.00607973359763
       },
       "removed": true,
       "selectable": false
      }
     },
     "ea1ba5d299b94ef9bd0f74290920b294": {
      "model_module": "@jupyter-widgets/output",
      "model_module_version": "1.0.0",
      "model_name": "OutputModel",
      "state": {
       "layout": "IPY_MODEL_63b9b636a57f46e29fe65b56b5824eda"
      }
     },
     "ea302009b28a4ccc9d17acc4b20c778b": {
      "model_module": "@jupyter-widgets/base",
      "model_module_version": "1.2.0",
      "model_name": "LayoutModel",
      "state": {}
     },
     "ea32078d3dfd414aa82c35c114ba75f1": {
      "model_module": "jupyter-cytoscape",
      "model_module_version": "^1.2.2",
      "model_name": "EdgeModel",
      "state": {
       "_model_module_version": "^1.2.2",
       "_view_module_version": "^1.2.2",
       "classes": " directed  multiple_edges ",
       "data": {
        "id": "origin_horsepower",
        "source": "origin",
        "target": "horsepower"
       },
       "selectable": false
      }
     },
     "ea5d4409539f45aca8c351b05db53b47": {
      "model_module": "@jupyter-widgets/base",
      "model_module_version": "1.2.0",
      "model_name": "LayoutModel",
      "state": {}
     },
     "ead9476abfd74ed28a5158396dfb394b": {
      "model_module": "@jupyter-widgets/base",
      "model_module_version": "1.2.0",
      "model_name": "LayoutModel",
      "state": {}
     },
     "eaf1571084ac4848be298b44afd8f803": {
      "model_module": "jupyter-cytoscape",
      "model_module_version": "^1.2.2",
      "model_name": "EdgeModel",
      "state": {
       "_model_module_version": "^1.2.2",
       "_view_module_version": "^1.2.2",
       "classes": " directed  multiple_edges ",
       "data": {
        "id": "displacement_horsepower",
        "source": "displacement",
        "target": "horsepower"
       },
       "removed": true,
       "selectable": false
      }
     },
     "eb024cf7478f43d8b4a3d303cf5c4b72": {
      "model_module": "jupyter-cytoscape",
      "model_module_version": "^1.2.2",
      "model_name": "NodeModel",
      "state": {
       "_model_module_version": "^1.2.2",
       "_view_module_version": "^1.2.2",
       "data": {
        "id": "mpg",
        "label": "mpg"
       },
       "grabbable": true,
       "grabbed": false,
       "position": {
        "x": 955.6247815611831,
        "y": 217.43475242298555
       },
       "removed": true,
       "selectable": false
      }
     },
     "eb0b6fac856e428dbff72e38dff3ce30": {
      "model_module": "@jupyter-widgets/controls",
      "model_module_version": "1.5.0",
      "model_name": "ButtonStyleModel",
      "state": {}
     },
     "eb125922d2984a8491a80cd0fda344c3": {
      "model_module": "jupyter-cytoscape",
      "model_module_version": "^1.2.2",
      "model_name": "EdgeModel",
      "state": {
       "_model_module_version": "^1.2.2",
       "_view_module_version": "^1.2.2",
       "classes": " directed  multiple_edges ",
       "data": {
        "id": "displacement_weight",
        "source": "displacement",
        "target": "weight"
       },
       "removed": true,
       "selectable": false
      }
     },
     "eb2acf62571442f7b6944e1a7a568a15": {
      "model_module": "@jupyter-widgets/controls",
      "model_module_version": "1.5.0",
      "model_name": "ButtonModel",
      "state": {
       "description": "Add Edge",
       "disabled": true,
       "layout": "IPY_MODEL_58bab5911c83413599a5a0d9a20c414d",
       "style": "IPY_MODEL_05525fb85f09442da4068b5613c46759"
      }
     },
     "eb458c401a064a6586801bdbda36916b": {
      "model_module": "jupyter-cytoscape",
      "model_module_version": "^1.2.2",
      "model_name": "EdgeModel",
      "state": {
       "_model_module_version": "^1.2.2",
       "_view_module_version": "^1.2.2",
       "classes": " directed  multiple_edges ",
       "data": {
        "id": "displacement_origin",
        "source": "displacement",
        "target": "origin"
       },
       "removed": true,
       "selectable": false
      }
     },
     "eb46c3a89e0948caa871145ecbaa861d": {
      "model_module": "@jupyter-widgets/controls",
      "model_module_version": "1.5.0",
      "model_name": "ButtonStyleModel",
      "state": {}
     },
     "eb4ff13b4cb045609e8bc5ffcc7e117f": {
      "model_module": "jupyter-cytoscape",
      "model_module_version": "^1.2.2",
      "model_name": "NodeModel",
      "state": {
       "_model_module_version": "^1.2.2",
       "_view_module_version": "^1.2.2",
       "data": {
        "id": "weight",
        "label": "weight"
       },
       "grabbable": true,
       "grabbed": false,
       "position": {
        "x": 1008.4393040993742,
        "y": 216.62295877631627
       },
       "removed": true,
       "selectable": false
      }
     },
     "eb5e81e214a448d19f5f111d8e336fb4": {
      "model_module": "jupyter-cytoscape",
      "model_module_version": "^1.2.2",
      "model_name": "EdgeModel",
      "state": {
       "_model_module_version": "^1.2.2",
       "_view_module_version": "^1.2.2",
       "classes": " directed  multiple_edges ",
       "data": {
        "id": "displacement_acceleration",
        "source": "displacement",
        "target": "acceleration"
       },
       "selectable": false
      }
     },
     "eb6ea687d8854eb3ac07a72f709025b7": {
      "model_module": "@jupyter-widgets/base",
      "model_module_version": "1.2.0",
      "model_name": "LayoutModel",
      "state": {}
     },
     "eb7b24c974994ad89b5437e994ec898d": {
      "model_module": "jupyter-cytoscape",
      "model_module_version": "^1.2.2",
      "model_name": "NodeModel",
      "state": {
       "_model_module_version": "^1.2.2",
       "_view_module_version": "^1.2.2",
       "data": {
        "id": "origin",
        "label": "origin"
       },
       "grabbable": true,
       "grabbed": false,
       "position": {
        "x": 492.73548508808767,
        "y": 163.54320824648752
       },
       "selectable": false
      }
     },
     "ebc7dc18bfc34af99f14fc4a22281b73": {
      "model_module": "jupyter-cytoscape",
      "model_module_version": "^1.2.2",
      "model_name": "EdgeModel",
      "state": {
       "_model_module_version": "^1.2.2",
       "_view_module_version": "^1.2.2",
       "classes": " directed  multiple_edges ",
       "data": {
        "id": "displacement_weight",
        "source": "displacement",
        "target": "weight"
       },
       "selectable": false
      }
     },
     "ec1edf40a1604ba9b2ccf220c0a0668e": {
      "model_module": "jupyter-cytoscape",
      "model_module_version": "^1.2.2",
      "model_name": "NodeModel",
      "state": {
       "_model_module_version": "^1.2.2",
       "_view_module_version": "^1.2.2",
       "data": {
        "id": "origin",
        "label": "origin"
       },
       "grabbable": true,
       "grabbed": false,
       "position": {
        "x": 491.5878882550585,
        "y": 125.05437151484364
       },
       "removed": true,
       "selectable": false
      }
     },
     "ec85db6a368c4a49b88e04defb02b2c3": {
      "model_module": "@jupyter-widgets/controls",
      "model_module_version": "1.5.0",
      "model_name": "ButtonStyleModel",
      "state": {}
     },
     "ecfda49f9d8d45c4896b4701376f5fff": {
      "model_module": "@jupyter-widgets/controls",
      "model_module_version": "1.5.0",
      "model_name": "ButtonStyleModel",
      "state": {}
     },
     "ed1f7d67d40f4dc2ba66cf558a463ccd": {
      "model_module": "jupyter-cytoscape",
      "model_module_version": "^1.2.2",
      "model_name": "EdgeModel",
      "state": {
       "_model_module_version": "^1.2.2",
       "_view_module_version": "^1.2.2",
       "classes": " directed  multiple_edges ",
       "data": {
        "id": "displacement_horsepower",
        "source": "displacement",
        "target": "horsepower"
       },
       "selectable": false
      }
     },
     "ed3c5888d59841be93460ba990b4c3e9": {
      "model_module": "@jupyter-widgets/base",
      "model_module_version": "1.2.0",
      "model_name": "LayoutModel",
      "state": {}
     },
     "ed8e6bc5b0f64e458b8241973e0e4c60": {
      "model_module": "@jupyter-widgets/base",
      "model_module_version": "1.2.0",
      "model_name": "LayoutModel",
      "state": {}
     },
     "ed993029f6864bf9b97653ef975e7070": {
      "model_module": "jupyter-cytoscape",
      "model_module_version": "^1.2.2",
      "model_name": "NodeModel",
      "state": {
       "_model_module_version": "^1.2.2",
       "_view_module_version": "^1.2.2",
       "data": {
        "id": "weight",
        "label": "weight"
       },
       "grabbable": true,
       "grabbed": false,
       "position": {
        "x": 644.1038596983955,
        "y": 255.9492168408747
       },
       "selectable": false
      }
     },
     "edb19f04afaf4aab8e99dd569c82602b": {
      "model_module": "jupyter-cytoscape",
      "model_module_version": "^1.2.2",
      "model_name": "GraphModel",
      "state": {
       "_adj": {},
       "_model_module_version": "^1.2.2",
       "_view_module": "jupyter-cytoscape",
       "_view_module_version": "^1.2.2"
      }
     },
     "ede8c30dc5bd4409a7d142432bc5caff": {
      "model_module": "jupyter-cytoscape",
      "model_module_version": "^1.2.2",
      "model_name": "EdgeModel",
      "state": {
       "_model_module_version": "^1.2.2",
       "_view_module_version": "^1.2.2",
       "classes": " directed  multiple_edges ",
       "data": {
        "id": "displacement_origin",
        "source": "displacement",
        "target": "origin"
       },
       "removed": true,
       "selectable": false
      }
     },
     "ee25e40d2c7c4ab394716a08958774cf": {
      "model_module": "jupyter-cytoscape",
      "model_module_version": "^1.2.2",
      "model_name": "NodeModel",
      "state": {
       "_model_module_version": "^1.2.2",
       "_view_module_version": "^1.2.2",
       "data": {
        "id": "acceleration",
        "label": "acceleration"
       },
       "grabbable": true,
       "grabbed": false,
       "position": {
        "x": 597.4340330361491,
        "y": 297.87127869548584
       },
       "removed": true,
       "selectable": false
      }
     },
     "ee9a1ad113d1436bbd3f5849395a9cfd": {
      "model_module": "jupyter-cytoscape",
      "model_module_version": "^1.2.2",
      "model_name": "EdgeModel",
      "state": {
       "_model_module_version": "^1.2.2",
       "_view_module_version": "^1.2.2",
       "classes": " directed  multiple_edges ",
       "data": {
        "id": "displacement_cylinders",
        "source": "displacement",
        "target": "cylinders"
       },
       "selectable": false
      }
     },
     "ee9f073f23a74f4ebe4fd602a0b4ae40": {
      "model_module": "jupyter-cytoscape",
      "model_module_version": "^1.2.2",
      "model_name": "NodeModel",
      "state": {
       "_model_module_version": "^1.2.2",
       "_view_module_version": "^1.2.2",
       "data": {
        "id": "displacement",
        "label": "displacement"
       },
       "grabbable": true,
       "grabbed": false,
       "position": {
        "x": 634.1635333662906,
        "y": 245.72590677691767
       },
       "removed": true,
       "selectable": false
      }
     },
     "eeadd5149a3749eda8a6bd2af34e601f": {
      "model_module": "@jupyter-widgets/controls",
      "model_module_version": "1.5.0",
      "model_name": "ButtonStyleModel",
      "state": {}
     },
     "eeda9f366ac347568c781fef6e036698": {
      "model_module": "jupyter-cytoscape",
      "model_module_version": "^1.2.2",
      "model_name": "NodeModel",
      "state": {
       "_model_module_version": "^1.2.2",
       "_view_module_version": "^1.2.2",
       "data": {
        "id": "cylinders",
        "label": "cylinders"
       },
       "grabbable": true,
       "grabbed": false,
       "position": {
        "x": 1217.0367034989686,
        "y": 294.99857798838013
       },
       "selectable": false
      }
     },
     "ef0d581dbdc9422e8eb34fa5d8a6d063": {
      "model_module": "jupyter-cytoscape",
      "model_module_version": "^1.2.2",
      "model_name": "EdgeModel",
      "state": {
       "_model_module_version": "^1.2.2",
       "_view_module_version": "^1.2.2",
       "classes": " directed  multiple_edges ",
       "data": {
        "id": "origin_horsepower",
        "source": "origin",
        "target": "horsepower"
       },
       "selectable": false
      }
     },
     "ef12a2f1507040da96f20e4b88430cc4": {
      "model_module": "@jupyter-widgets/controls",
      "model_module_version": "1.5.0",
      "model_name": "ButtonStyleModel",
      "state": {}
     },
     "ef32d9304f2c467faba565fccceab09d": {
      "model_module": "@jupyter-widgets/base",
      "model_module_version": "1.2.0",
      "model_name": "LayoutModel",
      "state": {}
     },
     "ef4b27692cc6439aa0786805165c590c": {
      "model_module": "jupyter-cytoscape",
      "model_module_version": "^1.2.2",
      "model_name": "NodeModel",
      "state": {
       "_model_module_version": "^1.2.2",
       "_view_module_version": "^1.2.2",
       "data": {
        "id": "mpg",
        "label": "mpg"
       },
       "grabbable": true,
       "grabbed": false,
       "position": {
        "x": 604.8409436213743,
        "y": 147.15280318553792
       },
       "selectable": false
      }
     },
     "ef9ad94dee88424191cc47ef193eb1eb": {
      "model_module": "jupyter-cytoscape",
      "model_module_version": "^1.2.2",
      "model_name": "EdgeModel",
      "state": {
       "_model_module_version": "^1.2.2",
       "_view_module_version": "^1.2.2",
       "classes": " directed  multiple_edges ",
       "data": {
        "id": "weight_acceleration",
        "source": "weight",
        "target": "acceleration"
       },
       "removed": true,
       "selectable": false
      }
     },
     "efd21d1c5219497881e2ba4d7ca4367d": {
      "model_module": "jupyter-cytoscape",
      "model_module_version": "^1.2.2",
      "model_name": "EdgeModel",
      "state": {
       "_model_module_version": "^1.2.2",
       "_view_module_version": "^1.2.2",
       "classes": " directed  multiple_edges ",
       "data": {
        "id": "horsepower_acceleration",
        "source": "horsepower",
        "target": "acceleration"
       },
       "removed": true,
       "selectable": false
      }
     },
     "efd64749dfe64ee2929105a61fd009f0": {
      "model_module": "@jupyter-widgets/base",
      "model_module_version": "1.2.0",
      "model_name": "LayoutModel",
      "state": {}
     },
     "eff58513abbe42dfa631229c5ad4e7b9": {
      "model_module": "jupyter-cytoscape",
      "model_module_version": "^1.2.2",
      "model_name": "EdgeModel",
      "state": {
       "_model_module_version": "^1.2.2",
       "_view_module_version": "^1.2.2",
       "classes": " directed  multiple_edges ",
       "data": {
        "id": "displacement_horsepower",
        "source": "displacement",
        "target": "horsepower"
       },
       "selectable": false
      }
     },
     "f010f84a2fa64e5b82421e3bb087d35b": {
      "model_module": "jupyter-cytoscape",
      "model_module_version": "^1.2.2",
      "model_name": "NodeModel",
      "state": {
       "_model_module_version": "^1.2.2",
       "_view_module_version": "^1.2.2",
       "data": {
        "id": "origin",
        "label": "origin"
       },
       "grabbable": true,
       "grabbed": false,
       "position": {
        "x": 492.73548508808767,
        "y": 163.54320824648752
       },
       "selectable": false
      }
     },
     "f01f9f86645942a988a3d674d066de89": {
      "model_module": "jupyter-cytoscape",
      "model_module_version": "^1.2.2",
      "model_name": "GraphModel",
      "state": {
       "_adj": {},
       "_model_module_version": "^1.2.2",
       "_view_module": "jupyter-cytoscape",
       "_view_module_version": "^1.2.2"
      }
     },
     "f04e3e968e434e90b4a10db659581b0a": {
      "model_module": "jupyter-cytoscape",
      "model_module_version": "^1.2.2",
      "model_name": "NodeModel",
      "state": {
       "_model_module_version": "^1.2.2",
       "_view_module_version": "^1.2.2",
       "data": {
        "id": "horsepower",
        "label": "horsepower"
       },
       "grabbable": true,
       "grabbed": false,
       "position": {
        "x": 1082.0624766836083,
        "y": 213.55132768320644
       },
       "selectable": false
      }
     },
     "f056a2a5800e4148ad6ba28b99ca86a4": {
      "model_module": "jupyter-cytoscape",
      "model_module_version": "^1.2.2",
      "model_name": "EdgeModel",
      "state": {
       "_model_module_version": "^1.2.2",
       "_view_module_version": "^1.2.2",
       "classes": " directed  multiple_edges ",
       "data": {
        "id": "cylinders_origin",
        "source": "cylinders",
        "target": "origin"
       },
       "selectable": false
      }
     },
     "f0e10c48017a4234b3d8c8ba61eac633": {
      "model_module": "jupyter-cytoscape",
      "model_module_version": "^1.2.2",
      "model_name": "EdgeModel",
      "state": {
       "_model_module_version": "^1.2.2",
       "_view_module_version": "^1.2.2",
       "classes": " directed  multiple_edges ",
       "data": {
        "id": "model_year_cylinders",
        "source": "model_year",
        "target": "cylinders"
       },
       "selectable": false
      }
     },
     "f1045cd9ea234bfebaffa01239471040": {
      "model_module": "jupyter-cytoscape",
      "model_module_version": "^1.2.2",
      "model_name": "CytoscapeModel",
      "state": {
       "_interaction_handlers": {
        "edge": [
         "click"
        ],
        "node": [
         "click"
        ]
       },
       "_model_module_version": "^1.2.2",
       "_view_module_version": "^1.2.2",
       "auto_ungrabify": false,
       "autolock": false,
       "cytoscape_layout": {
        "name": "cola"
       },
       "cytoscape_style": [
        {
         "selector": "node",
         "style": {
          "background-color": "blue",
          "font-family": "arial",
          "font-size": "10px",
          "label": "data(label)"
         }
        },
        {
         "selector": "edge",
         "style": {
          "curve-style": "bezier",
          "line-color": "#9dbaea",
          "target-arrow-color": "#9dbaea",
          "target-arrow-shape": "triangle",
          "width": 4
         }
        },
        {
         "css": {
          "line-color": "red"
         },
         "selector": "edge.selected"
        },
        {
         "css": {
          "background-color": "red"
         },
         "selector": "node.selected"
        }
       ],
       "desktop_tap_threshold": 4,
       "graph": "IPY_MODEL_ae8efc6398af4768b9ce8244dc2cf890",
       "headless": false,
       "hide_edges_on_viewport": false,
       "layout": "IPY_MODEL_2b7bf3833e5c469fbac2a088cef6898a",
       "max_zoom": 1e+50,
       "min_zoom": 1e-50,
       "motion_blur": false,
       "motion_blur_opacity": 0.2,
       "panning_enabled": true,
       "pixel_ratio": "auto",
       "rendered_position": {
        "renderedPosition": {
         "x": 100,
         "y": 100
        }
       },
       "selection_type": "single",
       "style_enabled": true,
       "texture_on_viewport": false,
       "tooltip_source": "tooltip",
       "touch_tap_threshold": 8,
       "user_panning_enabled": true,
       "user_zooming_enabled": true,
       "wheel_sensitivity": 1,
       "zoom": 2,
       "zooming_enabled": true
      }
     },
     "f122a6fd85ab48aca04814f50c533cca": {
      "model_module": "jupyter-cytoscape",
      "model_module_version": "^1.2.2",
      "model_name": "NodeModel",
      "state": {
       "_model_module_version": "^1.2.2",
       "_view_module_version": "^1.2.2",
       "data": {
        "id": "origin",
        "label": "origin"
       },
       "grabbable": true,
       "grabbed": false,
       "position": {
        "x": 1107.3283295313847,
        "y": 200.86652879220185
       },
       "removed": true,
       "selectable": false
      }
     },
     "f12c3ef7295c41f3ad6326d8f5a38469": {
      "model_module": "@jupyter-widgets/base",
      "model_module_version": "1.2.0",
      "model_name": "LayoutModel",
      "state": {}
     },
     "f198500cf94f411db1d38bbea67790bb": {
      "model_module": "jupyter-cytoscape",
      "model_module_version": "^1.2.2",
      "model_name": "EdgeModel",
      "state": {
       "_model_module_version": "^1.2.2",
       "_view_module_version": "^1.2.2",
       "classes": " directed  multiple_edges ",
       "data": {
        "id": "horsepower_acceleration",
        "source": "horsepower",
        "target": "acceleration"
       },
       "removed": true,
       "selectable": false
      }
     },
     "f1e0861e9c43484aa23201677f0360fb": {
      "model_module": "jupyter-cytoscape",
      "model_module_version": "^1.2.2",
      "model_name": "NodeModel",
      "state": {
       "_model_module_version": "^1.2.2",
       "_view_module_version": "^1.2.2",
       "data": {
        "id": "mpg",
        "label": "mpg"
       },
       "grabbable": true,
       "grabbed": false,
       "position": {
        "x": 1053.123011387638,
        "y": 302.891654365583
       },
       "removed": true,
       "selectable": false
      }
     },
     "f226958fe8af4f5fab1954c32d8b34c8": {
      "model_module": "jupyter-cytoscape",
      "model_module_version": "^1.2.2",
      "model_name": "GraphModel",
      "state": {
       "_adj": {
        "acceleration": {},
        "cylinders": {},
        "displacement": {},
        "horsepower": {},
        "model_year": {},
        "mpg": {},
        "origin": {},
        "weight": {}
       },
       "_model_module_version": "^1.2.2",
       "_view_module": "jupyter-cytoscape",
       "_view_module_version": "^1.2.2",
       "edges": [
        "IPY_MODEL_fddbd809872d4520a8224e92d72880f6",
        "IPY_MODEL_e8cf5287e7b940fd8a6ec105e75b081e",
        "IPY_MODEL_c774d18a87e6451f80fbe4be5809d4c9",
        "IPY_MODEL_c06553c6b6a24620be2ceeb1ec38fe1a",
        "IPY_MODEL_7787d2ef5b224355972579e4f6bbb597",
        "IPY_MODEL_07acef0b8cbd4018919858d270f6b2c6",
        "IPY_MODEL_dd01f9e24fad4592a4bb697892735972",
        "IPY_MODEL_66b387c3b9e5415c8aebcc8a6397444a",
        "IPY_MODEL_45650000e0e540d68606e967c31d610d",
        "IPY_MODEL_6c71ee0c049d47e39d41ef724146e57f"
       ],
       "nodes": [
        "IPY_MODEL_f4e7a1f882554eeda71744b457517264",
        "IPY_MODEL_b8b8ba8e303747e3ad8420921212f8f6",
        "IPY_MODEL_5b50678a062346ffba616d517511b430",
        "IPY_MODEL_939f1b8246b4404285edae7d85094655",
        "IPY_MODEL_8dbe9cfcb52242afa5d32a881cc63ef4",
        "IPY_MODEL_f38c50546918449fa94106bdd2d9c81c",
        "IPY_MODEL_cb210106757a43a2b6f0df92f041f5c9",
        "IPY_MODEL_7481c80f540042f5b62b5ed90d5d7073"
       ]
      }
     },
     "f22d9b432aef4493ba27e1e8191a9031": {
      "model_module": "@jupyter-widgets/output",
      "model_module_version": "1.0.0",
      "model_name": "OutputModel",
      "state": {
       "layout": "IPY_MODEL_a3f1d9efd8d647bf96de6f1c1ef67c4a"
      }
     },
     "f24ab3d7c0b14554a47396172b8a55ec": {
      "model_module": "@jupyter-widgets/controls",
      "model_module_version": "1.5.0",
      "model_name": "ButtonModel",
      "state": {
       "description": "Change Direction",
       "disabled": true,
       "layout": "IPY_MODEL_a22f04a114ec450289f4e21d3ae3cdb0",
       "style": "IPY_MODEL_99a263c1b21648d9b81f54621b3b758b"
      }
     },
     "f2bba472e790433b9699dd95fbeab898": {
      "model_module": "jupyter-cytoscape",
      "model_module_version": "^1.2.2",
      "model_name": "EdgeModel",
      "state": {
       "_model_module_version": "^1.2.2",
       "_view_module_version": "^1.2.2",
       "classes": " directed  multiple_edges ",
       "data": {
        "id": "displacement_acceleration",
        "source": "displacement",
        "target": "acceleration"
       },
       "removed": true,
       "selectable": false
      }
     },
     "f323db44b750418d8786575bc0b812c3": {
      "model_module": "jupyter-cytoscape",
      "model_module_version": "^1.2.2",
      "model_name": "NodeModel",
      "state": {
       "_model_module_version": "^1.2.2",
       "_view_module_version": "^1.2.2",
       "data": {
        "id": "displacement",
        "label": "displacement"
       },
       "grabbable": true,
       "grabbed": false,
       "position": {
        "x": 509.3412849858755,
        "y": 284.2475693169692
       },
       "selectable": false
      }
     },
     "f35ac60cf9a141cb9c7f63f7b1e91576": {
      "model_module": "jupyter-cytoscape",
      "model_module_version": "^1.2.2",
      "model_name": "EdgeModel",
      "state": {
       "_model_module_version": "^1.2.2",
       "_view_module_version": "^1.2.2",
       "classes": " directed  multiple_edges ",
       "data": {
        "id": "displacement_horsepower",
        "source": "displacement",
        "target": "horsepower"
       },
       "selectable": false
      }
     },
     "f361b6c594e0441da8285fb643120511": {
      "model_module": "@jupyter-widgets/base",
      "model_module_version": "1.2.0",
      "model_name": "LayoutModel",
      "state": {}
     },
     "f3887e97749f479f95256c23e2e33c3b": {
      "model_module": "jupyter-cytoscape",
      "model_module_version": "^1.2.2",
      "model_name": "EdgeModel",
      "state": {
       "_model_module_version": "^1.2.2",
       "_view_module_version": "^1.2.2",
       "classes": " directed  multiple_edges ",
       "data": {
        "id": "horsepower_acceleration",
        "source": "horsepower",
        "target": "acceleration"
       },
       "removed": true,
       "selectable": false
      }
     },
     "f38af6003608406ea7e2f41ea12a7b75": {
      "model_module": "@jupyter-widgets/controls",
      "model_module_version": "1.5.0",
      "model_name": "ButtonStyleModel",
      "state": {}
     },
     "f38c50546918449fa94106bdd2d9c81c": {
      "model_module": "jupyter-cytoscape",
      "model_module_version": "^1.2.2",
      "model_name": "NodeModel",
      "state": {
       "_model_module_version": "^1.2.2",
       "_view_module_version": "^1.2.2",
       "data": {
        "id": "acceleration",
        "label": "acceleration"
       },
       "grabbable": true,
       "grabbed": false,
       "position": {
        "x": 517.3699373674647,
        "y": 159.34814552804986
       },
       "selectable": false
      }
     },
     "f3956781cf9840bcb84f17c5be52bf67": {
      "model_module": "jupyter-cytoscape",
      "model_module_version": "^1.2.2",
      "model_name": "EdgeModel",
      "state": {
       "_model_module_version": "^1.2.2",
       "_view_module_version": "^1.2.2",
       "classes": " directed  multiple_edges ",
       "data": {
        "id": "horsepower_acceleration",
        "source": "horsepower",
        "target": "acceleration"
       },
       "removed": true,
       "selectable": false
      }
     },
     "f3bffde18dff4cf4900f00b885cf3ef5": {
      "model_module": "@jupyter-widgets/base",
      "model_module_version": "1.2.0",
      "model_name": "LayoutModel",
      "state": {}
     },
     "f3c5e99a411b4b509ad5448870517fb5": {
      "model_module": "@jupyter-widgets/base",
      "model_module_version": "1.2.0",
      "model_name": "LayoutModel",
      "state": {}
     },
     "f3e7537408494e2c8a5ad037026c5cac": {
      "model_module": "jupyter-cytoscape",
      "model_module_version": "^1.2.2",
      "model_name": "EdgeModel",
      "state": {
       "_model_module_version": "^1.2.2",
       "_view_module_version": "^1.2.2",
       "classes": " directed  multiple_edges ",
       "data": {
        "id": "model_year_acceleration",
        "source": "model_year",
        "target": "acceleration"
       },
       "selectable": false
      }
     },
     "f3ef8438bfc14feaa8f4e29104cb3ccf": {
      "model_module": "jupyter-cytoscape",
      "model_module_version": "^1.2.2",
      "model_name": "EdgeModel",
      "state": {
       "_model_module_version": "^1.2.2",
       "_view_module_version": "^1.2.2",
       "classes": " directed  multiple_edges ",
       "data": {
        "id": "displacement_weight",
        "source": "displacement",
        "target": "weight"
       },
       "removed": true,
       "selectable": false
      }
     },
     "f417428a1a7c4e08bf6eac752dd3673b": {
      "model_module": "@jupyter-widgets/controls",
      "model_module_version": "1.5.0",
      "model_name": "ButtonStyleModel",
      "state": {}
     },
     "f42aae08c0b242159b025e7bc38622c6": {
      "model_module": "jupyter-cytoscape",
      "model_module_version": "^1.2.2",
      "model_name": "EdgeModel",
      "state": {
       "_model_module_version": "^1.2.2",
       "_view_module_version": "^1.2.2",
       "classes": " directed  multiple_edges ",
       "data": {
        "id": "origin_mpg",
        "source": "origin",
        "target": "mpg"
       },
       "removed": true,
       "selectable": false
      }
     },
     "f44e625b8e2642b68043a3bd87a12954": {
      "model_module": "jupyter-cytoscape",
      "model_module_version": "^1.2.2",
      "model_name": "NodeModel",
      "state": {
       "_model_module_version": "^1.2.2",
       "_view_module_version": "^1.2.2",
       "data": {
        "id": "weight",
        "label": "weight"
       },
       "grabbable": true,
       "grabbed": false,
       "position": {
        "x": 1103.1188620965092,
        "y": 190.9340907853168
       },
       "removed": true,
       "selectable": false
      }
     },
     "f466f7e334c348c1b628e540268aac9a": {
      "model_module": "@jupyter-widgets/controls",
      "model_module_version": "1.5.0",
      "model_name": "ButtonModel",
      "state": {
       "description": "Change Direction",
       "disabled": true,
       "layout": "IPY_MODEL_6673d6981fef45fe9ce87498505511c8",
       "style": "IPY_MODEL_e6688013935a43deb672a4f60ce57952"
      }
     },
     "f4834fae3f0a4ec6ae55b3b3abc5321f": {
      "model_module": "jupyter-cytoscape",
      "model_module_version": "^1.2.2",
      "model_name": "EdgeModel",
      "state": {
       "_model_module_version": "^1.2.2",
       "_view_module_version": "^1.2.2",
       "classes": " directed  multiple_edges ",
       "data": {
        "id": "displacement_weight",
        "source": "displacement",
        "target": "weight"
       },
       "removed": true,
       "selectable": false
      }
     },
     "f49756bb770749bb877a61d1df605718": {
      "model_module": "jupyter-cytoscape",
      "model_module_version": "^1.2.2",
      "model_name": "EdgeModel",
      "state": {
       "_model_module_version": "^1.2.2",
       "_view_module_version": "^1.2.2",
       "classes": " directed  multiple_edges ",
       "data": {
        "id": "displacement_horsepower",
        "source": "displacement",
        "target": "horsepower"
       },
       "selectable": false
      }
     },
     "f498ad8333cb4675b9066610620c36e2": {
      "model_module": "jupyter-cytoscape",
      "model_module_version": "^1.2.2",
      "model_name": "NodeModel",
      "state": {
       "_model_module_version": "^1.2.2",
       "_view_module_version": "^1.2.2",
       "data": {
        "id": "horsepower",
        "label": "horsepower"
       },
       "grabbable": true,
       "grabbed": false,
       "position": {
        "x": 579.8984796731764,
        "y": 273.9458018402766
       },
       "selectable": false
      }
     },
     "f4b297b4c0a24b738a6554407710a0e1": {
      "model_module": "@jupyter-widgets/controls",
      "model_module_version": "1.5.0",
      "model_name": "ButtonModel",
      "state": {
       "description": "Change Direction",
       "disabled": true,
       "layout": "IPY_MODEL_9147f551e9f94ab1894d4941664473f2",
       "style": "IPY_MODEL_7ae670d3dceb4d1ab568549017be9179"
      }
     },
     "f4b3a2662a604db89cd949381815e75b": {
      "model_module": "jupyter-cytoscape",
      "model_module_version": "^1.2.2",
      "model_name": "EdgeModel",
      "state": {
       "_model_module_version": "^1.2.2",
       "_view_module_version": "^1.2.2",
       "classes": " directed  multiple_edges ",
       "data": {
        "id": "weight_horsepower",
        "source": "weight",
        "target": "horsepower"
       },
       "selectable": false
      }
     },
     "f4b6a12498e242d69a887f842bd8efda": {
      "model_module": "jupyter-cytoscape",
      "model_module_version": "^1.2.2",
      "model_name": "EdgeModel",
      "state": {
       "_model_module_version": "^1.2.2",
       "_view_module_version": "^1.2.2",
       "classes": " directed  multiple_edges ",
       "data": {
        "id": "displacement_cylinders",
        "source": "displacement",
        "target": "cylinders"
       },
       "selectable": false
      }
     },
     "f4c1797fd95e4f62b064d451401a1adf": {
      "model_module": "jupyter-cytoscape",
      "model_module_version": "^1.2.2",
      "model_name": "EdgeModel",
      "state": {
       "_model_module_version": "^1.2.2",
       "_view_module_version": "^1.2.2",
       "classes": " directed  multiple_edges ",
       "data": {
        "id": "horsepower_acceleration",
        "source": "horsepower",
        "target": "acceleration"
       },
       "selectable": false
      }
     },
     "f4e7a1f882554eeda71744b457517264": {
      "model_module": "jupyter-cytoscape",
      "model_module_version": "^1.2.2",
      "model_name": "NodeModel",
      "state": {
       "_model_module_version": "^1.2.2",
       "_view_module_version": "^1.2.2",
       "data": {
        "id": "mpg",
        "label": "mpg"
       },
       "grabbable": true,
       "grabbed": false,
       "position": {
        "x": 713.2277080881037,
        "y": 285.3652701761542
       },
       "selectable": false
      }
     },
     "f4ee4edf80bb4eaeaf85969f7e4f50c6": {
      "model_module": "jupyter-cytoscape",
      "model_module_version": "^1.2.2",
      "model_name": "EdgeModel",
      "state": {
       "_model_module_version": "^1.2.2",
       "_view_module_version": "^1.2.2",
       "classes": " directed  multiple_edges ",
       "data": {
        "id": "weight_mpg",
        "source": "weight",
        "target": "mpg"
       },
       "selectable": false
      }
     },
     "f5782d4efe374839aa3c08ebbb64b6fe": {
      "model_module": "jupyter-cytoscape",
      "model_module_version": "^1.2.2",
      "model_name": "EdgeModel",
      "state": {
       "_model_module_version": "^1.2.2",
       "_view_module_version": "^1.2.2",
       "classes": " directed  multiple_edges ",
       "data": {
        "id": "model_year_weight",
        "source": "model_year",
        "target": "weight"
       },
       "selectable": false
      }
     },
     "f58b0ba12e314a28b13cd71ff1ad8cde": {
      "model_module": "@jupyter-widgets/controls",
      "model_module_version": "1.5.0",
      "model_name": "ButtonStyleModel",
      "state": {}
     },
     "f5a05aa0f1774e4981c40299e1509a1b": {
      "model_module": "jupyter-cytoscape",
      "model_module_version": "^1.2.2",
      "model_name": "EdgeModel",
      "state": {
       "_model_module_version": "^1.2.2",
       "_view_module_version": "^1.2.2",
       "classes": " directed  multiple_edges ",
       "data": {
        "id": "displacement_origin",
        "source": "displacement",
        "target": "origin"
       },
       "selectable": false
      }
     },
     "f5a98be425004f16835649c1a2fd106a": {
      "model_module": "jupyter-cytoscape",
      "model_module_version": "^1.2.2",
      "model_name": "EdgeModel",
      "state": {
       "_model_module_version": "^1.2.2",
       "_view_module_version": "^1.2.2",
       "classes": " directed  multiple_edges ",
       "data": {
        "id": "model_year_mpg",
        "source": "model_year",
        "target": "mpg"
       },
       "selectable": false
      }
     },
     "f5fd73923cda485b99d71e349327e701": {
      "model_module": "@jupyter-widgets/controls",
      "model_module_version": "1.5.0",
      "model_name": "ButtonStyleModel",
      "state": {}
     },
     "f60c08462dbc4cc883e34c7f3149f0c2": {
      "model_module": "jupyter-cytoscape",
      "model_module_version": "^1.2.2",
      "model_name": "NodeModel",
      "state": {
       "_model_module_version": "^1.2.2",
       "_view_module_version": "^1.2.2",
       "data": {
        "id": "acceleration",
        "label": "acceleration"
       },
       "grabbable": true,
       "grabbed": false,
       "position": {
        "x": 1149.7715561070665,
        "y": 89.45009681505593
       },
       "removed": true,
       "selectable": false
      }
     },
     "f67ad1b7075a444485a71a9c0c0d59dc": {
      "model_module": "jupyter-cytoscape",
      "model_module_version": "^1.2.2",
      "model_name": "EdgeModel",
      "state": {
       "_model_module_version": "^1.2.2",
       "_view_module_version": "^1.2.2",
       "classes": " directed  multiple_edges ",
       "data": {
        "id": "displacement_cylinders",
        "source": "displacement",
        "target": "cylinders"
       },
       "removed": true,
       "selectable": false
      }
     },
     "f67efacf6469432e8e47b961654c1eca": {
      "model_module": "jupyter-cytoscape",
      "model_module_version": "^1.2.2",
      "model_name": "NodeModel",
      "state": {
       "_model_module_version": "^1.2.2",
       "_view_module_version": "^1.2.2",
       "data": {
        "id": "acceleration",
        "label": "acceleration"
       },
       "grabbable": true,
       "grabbed": false,
       "position": {
        "x": 389.0359978250428,
        "y": 102.0731140289753
       },
       "selectable": false
      }
     },
     "f692c4d97b2243c794f657cf46f440f0": {
      "model_module": "jupyter-cytoscape",
      "model_module_version": "^1.2.2",
      "model_name": "CytoscapeModel",
      "state": {
       "_interaction_handlers": {
        "edge": [
         "click"
        ],
        "node": [
         "click"
        ]
       },
       "_model_module_version": "^1.2.2",
       "_view_module_version": "^1.2.2",
       "auto_ungrabify": false,
       "autolock": false,
       "cytoscape_layout": {
        "name": "cola"
       },
       "cytoscape_style": [
        {
         "selector": "node",
         "style": {
          "background-color": "blue",
          "font-family": "arial",
          "font-size": "10px",
          "label": "data(label)"
         }
        },
        {
         "selector": "edge",
         "style": {
          "curve-style": "bezier",
          "line-color": "#9dbaea",
          "target-arrow-color": "#9dbaea",
          "target-arrow-shape": "triangle",
          "width": 4
         }
        },
        {
         "css": {
          "line-color": "red"
         },
         "selector": "edge.selected"
        },
        {
         "css": {
          "background-color": "red"
         },
         "selector": "node.selected"
        }
       ],
       "desktop_tap_threshold": 4,
       "graph": "IPY_MODEL_7be06de3b3c94dbebd667f97e57eb4bc",
       "headless": false,
       "hide_edges_on_viewport": false,
       "layout": "IPY_MODEL_e15e259aa774474286bd654a30a12c21",
       "max_zoom": 1e+50,
       "min_zoom": 1e-50,
       "motion_blur": false,
       "motion_blur_opacity": 0.2,
       "panning_enabled": true,
       "pixel_ratio": "auto",
       "rendered_position": {
        "renderedPosition": {
         "x": 100,
         "y": 100
        }
       },
       "selection_type": "single",
       "style_enabled": true,
       "texture_on_viewport": false,
       "tooltip_source": "tooltip",
       "touch_tap_threshold": 8,
       "user_panning_enabled": true,
       "user_zooming_enabled": true,
       "wheel_sensitivity": 1,
       "zoom": 2,
       "zooming_enabled": true
      }
     },
     "f69d7de97abc4bea8325c54657e5f3c7": {
      "model_module": "@jupyter-widgets/base",
      "model_module_version": "1.2.0",
      "model_name": "LayoutModel",
      "state": {}
     },
     "f6ac3bb97cad409db51e547f10164ef9": {
      "model_module": "jupyter-cytoscape",
      "model_module_version": "^1.2.2",
      "model_name": "NodeModel",
      "state": {
       "_model_module_version": "^1.2.2",
       "_view_module_version": "^1.2.2",
       "data": {
        "id": "horsepower",
        "label": "horsepower"
       },
       "grabbable": true,
       "grabbed": false,
       "position": {
        "x": 1082.0624766836083,
        "y": 213.55132768320644
       },
       "selectable": false
      }
     },
     "f6b0d43b02de499f9e1a84b869c85113": {
      "model_module": "jupyter-cytoscape",
      "model_module_version": "^1.2.2",
      "model_name": "NodeModel",
      "state": {
       "_model_module_version": "^1.2.2",
       "_view_module_version": "^1.2.2",
       "data": {
        "id": "weight",
        "label": "weight"
       },
       "grabbable": true,
       "grabbed": false,
       "position": {
        "x": 568.989693925241,
        "y": 99.77764985946493
       },
       "selectable": false
      }
     },
     "f6c13a1d1c5948088606882bd619fea7": {
      "model_module": "jupyter-cytoscape",
      "model_module_version": "^1.2.2",
      "model_name": "EdgeModel",
      "state": {
       "_model_module_version": "^1.2.2",
       "_view_module_version": "^1.2.2",
       "classes": " directed  multiple_edges ",
       "data": {
        "id": "origin_horsepower",
        "source": "origin",
        "target": "horsepower"
       },
       "selectable": false
      }
     },
     "f6e715cbb75346b1bed4f877eb8e384e": {
      "model_module": "jupyter-cytoscape",
      "model_module_version": "^1.2.2",
      "model_name": "EdgeModel",
      "state": {
       "_model_module_version": "^1.2.2",
       "_view_module_version": "^1.2.2",
       "classes": " directed  multiple_edges ",
       "data": {
        "id": "displacement_acceleration",
        "source": "displacement",
        "target": "acceleration"
       },
       "removed": true,
       "selectable": false
      }
     },
     "f6e7d6f6810d4c1c95b84e0ae32493e3": {
      "model_module": "jupyter-cytoscape",
      "model_module_version": "^1.2.2",
      "model_name": "GraphModel",
      "state": {
       "_adj": {},
       "_model_module_version": "^1.2.2",
       "_view_module": "jupyter-cytoscape",
       "_view_module_version": "^1.2.2"
      }
     },
     "f6ee9f6598074243adfdd6d3240d5b7e": {
      "model_module": "jupyter-cytoscape",
      "model_module_version": "^1.2.2",
      "model_name": "EdgeModel",
      "state": {
       "_model_module_version": "^1.2.2",
       "_view_module_version": "^1.2.2",
       "classes": " directed  multiple_edges ",
       "data": {
        "id": "weight_mpg",
        "source": "weight",
        "target": "mpg"
       },
       "selectable": false
      }
     },
     "f79d879f6509466583c3599c73219508": {
      "model_module": "@jupyter-widgets/base",
      "model_module_version": "1.2.0",
      "model_name": "LayoutModel",
      "state": {}
     },
     "f7aa21636c6b41ab83713b24b9587a34": {
      "model_module": "jupyter-cytoscape",
      "model_module_version": "^1.2.2",
      "model_name": "GraphModel",
      "state": {
       "_adj": {
        "acceleration": {},
        "cylinders": {},
        "displacement": {},
        "horsepower": {},
        "model_year": {},
        "mpg": {},
        "origin": {},
        "weight": {}
       },
       "_model_module_version": "^1.2.2",
       "_view_module": "jupyter-cytoscape",
       "_view_module_version": "^1.2.2",
       "edges": [
        "IPY_MODEL_624e5d16033343d6937c39518767d163",
        "IPY_MODEL_61d052b1f9234a4aa341142d7043214f",
        "IPY_MODEL_99a13849ce6f4505b0682ff72c149501",
        "IPY_MODEL_a8d720a1b5c744088912d34c9cb3fafe",
        "IPY_MODEL_20450bf444f74b1ebd7b01142a20ecc2",
        "IPY_MODEL_86196c7c20a149818a420af2367f12de",
        "IPY_MODEL_342f1a51c1104579bf485687194bd200",
        "IPY_MODEL_17bd61aa91304db9bf3611c40ee9a98e",
        "IPY_MODEL_cd9153e0d200430a8338f40128c02fa5",
        "IPY_MODEL_bb5f8e6fa2304547a6dd7d8f81145efd",
        "IPY_MODEL_58db9711ca4e468fab65710054738096",
        "IPY_MODEL_19d58ce264c84e5a84850b2d6268f7ae",
        "IPY_MODEL_cd46414633a74c72b61e454839379de3",
        "IPY_MODEL_82d135e5ed1c4fcca8fd2bcf5fc02906",
        "IPY_MODEL_218a024be59d46f39513c20314999da2",
        "IPY_MODEL_d092ed11d0fe4f659465f19d9d2d1ec9"
       ],
       "nodes": [
        "IPY_MODEL_cc342a726d3d4afbb540d6e01b63e88f",
        "IPY_MODEL_6c0eb75400a04a1184df4570e3494b1e",
        "IPY_MODEL_c65356872d414de48df81f6d2f697895",
        "IPY_MODEL_254f72dc0edd4b74911e72d9e7e7c9a8",
        "IPY_MODEL_bf02a7c82e1b4d03ac15503e21d20bd4",
        "IPY_MODEL_07ac5f7e52fa43ddabfde45a1ee9e603",
        "IPY_MODEL_5d074429db864d209c17d65fe35098a8",
        "IPY_MODEL_a791d9476b3547c596523894ba5b37cc"
       ]
      }
     },
     "f7bf4d87d44e4d7dbfd37121cda62dac": {
      "model_module": "jupyter-cytoscape",
      "model_module_version": "^1.2.2",
      "model_name": "NodeModel",
      "state": {
       "_model_module_version": "^1.2.2",
       "_view_module_version": "^1.2.2",
       "data": {
        "id": "displacement",
        "label": "displacement"
       },
       "grabbable": true,
       "grabbed": false,
       "position": {
        "x": 1063.2933525248386,
        "y": 157.88749042618548
       },
       "removed": true,
       "selectable": false
      }
     },
     "f7d2ed77214b42f79400038785595788": {
      "model_module": "jupyter-cytoscape",
      "model_module_version": "^1.2.2",
      "model_name": "GraphModel",
      "state": {
       "_adj": {
        "acceleration": {},
        "cylinders": {},
        "displacement": {},
        "horsepower": {},
        "model_year": {},
        "mpg": {},
        "origin": {},
        "weight": {}
       },
       "_model_module_version": "^1.2.2",
       "_view_module": "jupyter-cytoscape",
       "_view_module_version": "^1.2.2",
       "edges": [
        "IPY_MODEL_bad81f49c8fa4d80bfb8cbcfb75f35af",
        "IPY_MODEL_b57c0062d4d4401faf72a4e5037f187f",
        "IPY_MODEL_3fd8acb99b284f528b1cf3ad4cf8547a",
        "IPY_MODEL_0df0aec8d9444c72b0e30c3d43d5e37b",
        "IPY_MODEL_e7ba5f6366e44443991ef1e1cc4f6058",
        "IPY_MODEL_6f036c22ee454aafa1be50396e4131a3",
        "IPY_MODEL_3d707c4e7afb414996e779a89c55cbb6",
        "IPY_MODEL_50d84ea15328485298bfb98701810cb7",
        "IPY_MODEL_d8f9c5ec73054601a8a53d913ed66179",
        "IPY_MODEL_a6cbf1f63b4143f1887ad44dd0b04a4d",
        "IPY_MODEL_d7b6a756ad4b467f8218ceccc9078731",
        "IPY_MODEL_c9271b7d79bb4d008daa7ad434b1afaf",
        "IPY_MODEL_744248688fab445c8f6ecd325af1c08c",
        "IPY_MODEL_d809ea4f52ec4b3793afe916e005c686",
        "IPY_MODEL_d688b0545e7940eb9f74be1e111e7f4f",
        "IPY_MODEL_046dba4bf96f4b98a8f91fefbde5ff34"
       ],
       "nodes": [
        "IPY_MODEL_42386189292c4f809780d412203d218d",
        "IPY_MODEL_127192c0b134495f9f9fe6460497dd2d",
        "IPY_MODEL_f323db44b750418d8786575bc0b812c3",
        "IPY_MODEL_4827e9a010c740c0a548633984ff0acf",
        "IPY_MODEL_93fd110b35374a2f923bbeab13e45dc9",
        "IPY_MODEL_62f1f298691341e388ff1d8757b12d38",
        "IPY_MODEL_e558a6b0cf2e438e80e5b92c5521dc17",
        "IPY_MODEL_98aa27d4cba945aaad091f98e8dbf414"
       ]
      }
     },
     "f7efdb49a9e24cf4b80bfb3e8bdd4243": {
      "model_module": "jupyter-cytoscape",
      "model_module_version": "^1.2.2",
      "model_name": "NodeModel",
      "state": {
       "_model_module_version": "^1.2.2",
       "_view_module_version": "^1.2.2",
       "data": {
        "id": "horsepower",
        "label": "horsepower"
       },
       "grabbable": true,
       "grabbed": false,
       "position": {
        "x": 579.0624766836064,
        "y": 213.55132768320664
       },
       "selectable": false
      }
     },
     "f8ca8d18c56d4f679d289d02a5bdf49e": {
      "model_module": "@jupyter-widgets/base",
      "model_module_version": "1.2.0",
      "model_name": "LayoutModel",
      "state": {}
     },
     "f90950b034bb43038cae73517b0d4903": {
      "model_module": "@jupyter-widgets/output",
      "model_module_version": "1.0.0",
      "model_name": "OutputModel",
      "state": {
       "layout": "IPY_MODEL_2df5b4d27388430e8bcad5c7394cd290"
      }
     },
     "f91f8edf9e8c4fb9b008f8ba529a83e9": {
      "model_module": "@jupyter-widgets/controls",
      "model_module_version": "1.5.0",
      "model_name": "ButtonModel",
      "state": {
       "description": "Change Direction",
       "disabled": true,
       "layout": "IPY_MODEL_436431882f62440d8afe252efdf80d7a",
       "style": "IPY_MODEL_a43b8c37ce5846ecb751c06f396d85fc"
      }
     },
     "f9377795d3014e6f973bc437b25e6895": {
      "model_module": "jupyter-cytoscape",
      "model_module_version": "^1.2.2",
      "model_name": "GraphModel",
      "state": {
       "_adj": {},
       "_model_module_version": "^1.2.2",
       "_view_module": "jupyter-cytoscape",
       "_view_module_version": "^1.2.2"
      }
     },
     "f968c5b0ed8f413db420d2ba9e316fa6": {
      "model_module": "@jupyter-widgets/base",
      "model_module_version": "1.2.0",
      "model_name": "LayoutModel",
      "state": {}
     },
     "f97281a155814ac784c066e1fb634d38": {
      "model_module": "jupyter-cytoscape",
      "model_module_version": "^1.2.2",
      "model_name": "GraphModel",
      "state": {
       "_adj": {
        "acceleration": {},
        "cylinders": {},
        "displacement": {},
        "horsepower": {},
        "model_year": {},
        "mpg": {},
        "origin": {},
        "weight": {}
       },
       "_model_module_version": "^1.2.2",
       "_view_module": "jupyter-cytoscape",
       "_view_module_version": "^1.2.2",
       "edges": [
        "IPY_MODEL_ae7c0a83b7dc495ab9a25c8b3375b75c",
        "IPY_MODEL_959ee48288314e2c8e6f0d63ac3ed9bf",
        "IPY_MODEL_7dbd2fa253ca4bda93627f11c935c1cb",
        "IPY_MODEL_52781ad9d4a44408a173a387569fe5d3",
        "IPY_MODEL_0e530093126f478281000c8a8b8a6eac",
        "IPY_MODEL_ad86637f451544b192b0a7b15e2f9499",
        "IPY_MODEL_312ad75821044766aeb3717a05f65c33",
        "IPY_MODEL_183b8e299e4d40fd9d958b949f35c378",
        "IPY_MODEL_1e164a5efa2c4563955e1b19a795d16e",
        "IPY_MODEL_3daf180fedd64348bfdb1f165b119569",
        "IPY_MODEL_d91ed3eaf7d542a38b8f173e740edd48",
        "IPY_MODEL_4e8861a339ae4695942cd1cd0999d65c",
        "IPY_MODEL_a41b64f878e5406bba0a463c0d8a95cf",
        "IPY_MODEL_23b7f30debf74b6e85ff87b45aced497",
        "IPY_MODEL_0877a98f55d94314b7a97ed7775ea1ec",
        "IPY_MODEL_d1f126dc1c5f428a8564eb9b59809324"
       ],
       "nodes": [
        "IPY_MODEL_99a773ff4c274cf7971d7165fa028cd3",
        "IPY_MODEL_e3fcc8e81dd2457aa626e380d5edc2fb",
        "IPY_MODEL_0b5903c8baf941ae8c9cca9654e18b73",
        "IPY_MODEL_4cabd0725efd4032920c36e057974a78",
        "IPY_MODEL_d5b59a27c6eb4be285f4fbce6f4b59f7",
        "IPY_MODEL_dcdb834ce40a49bca93226af9bd52846",
        "IPY_MODEL_53460c266a074dfbac22fba3400e729e",
        "IPY_MODEL_8e7c3ace8e9d4b1bb59ecba112dec6fe"
       ]
      }
     },
     "f9a6ddd346b74b52b03dfd7ab4280407": {
      "model_module": "jupyter-cytoscape",
      "model_module_version": "^1.2.2",
      "model_name": "EdgeModel",
      "state": {
       "_model_module_version": "^1.2.2",
       "_view_module_version": "^1.2.2",
       "classes": " directed  multiple_edges ",
       "data": {
        "id": "cylinders_displacement",
        "source": "cylinders",
        "target": "displacement"
       },
       "removed": true,
       "selectable": false
      }
     },
     "f9a949b503044e2fb6840e0cc2def4ec": {
      "model_module": "@jupyter-widgets/controls",
      "model_module_version": "1.5.0",
      "model_name": "ButtonStyleModel",
      "state": {}
     },
     "f9b0a364de8d4c57b52ff0e4ef749873": {
      "model_module": "jupyter-cytoscape",
      "model_module_version": "^1.2.2",
      "model_name": "EdgeModel",
      "state": {
       "_model_module_version": "^1.2.2",
       "_view_module_version": "^1.2.2",
       "classes": " directed  multiple_edges ",
       "data": {
        "id": "origin_horsepower",
        "source": "origin",
        "target": "horsepower"
       },
       "selectable": false
      }
     },
     "f9e0dc5c9c0f4ad29bdd82d9bd341bbc": {
      "model_module": "jupyter-cytoscape",
      "model_module_version": "^1.2.2",
      "model_name": "EdgeModel",
      "state": {
       "_model_module_version": "^1.2.2",
       "_view_module_version": "^1.2.2",
       "classes": " directed  multiple_edges ",
       "data": {
        "id": "displacement_weight",
        "source": "displacement",
        "target": "weight"
       },
       "removed": true,
       "selectable": false
      }
     },
     "fa62825c7f1c483ca5a4b265af92926a": {
      "model_module": "jupyter-cytoscape",
      "model_module_version": "^1.2.2",
      "model_name": "EdgeModel",
      "state": {
       "_model_module_version": "^1.2.2",
       "_view_module_version": "^1.2.2",
       "classes": " directed  multiple_edges ",
       "data": {
        "id": "weight_acceleration",
        "source": "weight",
        "target": "acceleration"
       },
       "selectable": false
      }
     },
     "fa6c04dd8c7f4a398645a4cd8ac5163a": {
      "model_module": "jupyter-cytoscape",
      "model_module_version": "^1.2.2",
      "model_name": "EdgeModel",
      "state": {
       "_model_module_version": "^1.2.2",
       "_view_module_version": "^1.2.2",
       "classes": " directed  multiple_edges ",
       "data": {
        "id": "model_year_weight",
        "source": "model_year",
        "target": "weight"
       },
       "removed": true,
       "selectable": false
      }
     },
     "fa828a1f374d44f5889456179c097359": {
      "model_module": "@jupyter-widgets/base",
      "model_module_version": "1.2.0",
      "model_name": "LayoutModel",
      "state": {}
     },
     "fa89b33c1e6d409388a27bd9b035d450": {
      "model_module": "@jupyter-widgets/base",
      "model_module_version": "1.2.0",
      "model_name": "LayoutModel",
      "state": {}
     },
     "fae029717f9c403187732db70eccd55d": {
      "model_module": "@jupyter-widgets/base",
      "model_module_version": "1.2.0",
      "model_name": "LayoutModel",
      "state": {}
     },
     "faeadc43f156495286afe593a0970a8e": {
      "model_module": "jupyter-cytoscape",
      "model_module_version": "^1.2.2",
      "model_name": "CytoscapeModel",
      "state": {
       "_interaction_handlers": {
        "edge": [
         "click"
        ],
        "node": [
         "click"
        ]
       },
       "_model_module_version": "^1.2.2",
       "_view_module_version": "^1.2.2",
       "auto_ungrabify": false,
       "autolock": false,
       "cytoscape_layout": {
        "name": "cola"
       },
       "cytoscape_style": [
        {
         "selector": "node",
         "style": {
          "background-color": "blue",
          "font-family": "arial",
          "font-size": "10px",
          "label": "data(label)"
         }
        },
        {
         "selector": "edge",
         "style": {
          "curve-style": "bezier",
          "line-color": "#9dbaea",
          "target-arrow-color": "#9dbaea",
          "target-arrow-shape": "triangle",
          "width": 4
         }
        },
        {
         "css": {
          "line-color": "red"
         },
         "selector": "edge.selected"
        },
        {
         "css": {
          "background-color": "red"
         },
         "selector": "node.selected"
        }
       ],
       "desktop_tap_threshold": 4,
       "graph": "IPY_MODEL_c2f98a6d97144aee80fd480cea2fab69",
       "headless": false,
       "hide_edges_on_viewport": false,
       "layout": "IPY_MODEL_d27633553b6a4e25bf9e60fbf7c5e444",
       "max_zoom": 1e+50,
       "min_zoom": 1e-50,
       "motion_blur": false,
       "motion_blur_opacity": 0.2,
       "panning_enabled": true,
       "pixel_ratio": "auto",
       "rendered_position": {
        "renderedPosition": {
         "x": 100,
         "y": 100
        }
       },
       "selection_type": "single",
       "style_enabled": true,
       "texture_on_viewport": false,
       "tooltip_source": "tooltip",
       "touch_tap_threshold": 8,
       "user_panning_enabled": true,
       "user_zooming_enabled": true,
       "wheel_sensitivity": 1,
       "zoom": 2,
       "zooming_enabled": true
      }
     },
     "fb30641b08344b11aa5270603a2752fb": {
      "model_module": "jupyter-cytoscape",
      "model_module_version": "^1.2.2",
      "model_name": "NodeModel",
      "state": {
       "_model_module_version": "^1.2.2",
       "_view_module_version": "^1.2.2",
       "data": {
        "id": "cylinders",
        "label": "cylinders"
       },
       "grabbable": true,
       "grabbed": false,
       "position": {
        "x": 433.0988645297568,
        "y": 243.59005208886958
       },
       "selectable": false
      }
     },
     "fb32ef47583047b4a0396d2ed4f9a3ce": {
      "model_module": "jupyter-cytoscape",
      "model_module_version": "^1.2.2",
      "model_name": "NodeModel",
      "state": {
       "_model_module_version": "^1.2.2",
       "_view_module_version": "^1.2.2",
       "data": {
        "id": "model_year",
        "label": "model_year"
       },
       "grabbable": true,
       "grabbed": false,
       "position": {
        "x": 1062.3412859858774,
        "y": 263.55132868320646
       },
       "selectable": false
      }
     },
     "fb3d15668c624648b6c4f6aa20d4f5a1": {
      "model_module": "jupyter-cytoscape",
      "model_module_version": "^1.2.2",
      "model_name": "EdgeModel",
      "state": {
       "_model_module_version": "^1.2.2",
       "_view_module_version": "^1.2.2",
       "classes": " multiple_edges directed highlighted",
       "data": {
        "id": "model_year_acceleration",
        "source": "model_year",
        "target": "acceleration"
       },
       "selectable": false
      }
     },
     "fb495f521a634111b90e9f476eea819c": {
      "model_module": "jupyter-cytoscape",
      "model_module_version": "^1.2.2",
      "model_name": "NodeModel",
      "state": {
       "_model_module_version": "^1.2.2",
       "_view_module_version": "^1.2.2",
       "data": {
        "id": "origin",
        "label": "origin"
       },
       "grabbable": true,
       "grabbed": false,
       "position": {
        "x": 617.6486811751337,
        "y": 125.00565671664661
       },
       "removed": true,
       "selectable": false
      }
     },
     "fb97838db71a4f61b5116634f6c0c9b7": {
      "model_module": "jupyter-cytoscape",
      "model_module_version": "^1.2.2",
      "model_name": "NodeModel",
      "state": {
       "_model_module_version": "^1.2.2",
       "_view_module_version": "^1.2.2",
       "data": {
        "id": "horsepower",
        "label": "horsepower"
       },
       "grabbable": true,
       "grabbed": false,
       "position": {
        "x": 579.0624766836064,
        "y": 213.55132768320664
       },
       "selectable": false
      }
     },
     "fba9c0ae4ffe427cafbd6998a4c4e38f": {
      "model_module": "jupyter-cytoscape",
      "model_module_version": "^1.2.2",
      "model_name": "EdgeModel",
      "state": {
       "_model_module_version": "^1.2.2",
       "_view_module_version": "^1.2.2",
       "classes": " directed  multiple_edges ",
       "data": {
        "id": "model_year_acceleration",
        "source": "model_year",
        "target": "acceleration"
       },
       "removed": true,
       "selectable": false
      }
     },
     "fbcb2c0ff61344b78457aa0da7158a0d": {
      "model_module": "@jupyter-widgets/controls",
      "model_module_version": "1.5.0",
      "model_name": "ButtonModel",
      "state": {
       "description": "Generate original graph",
       "layout": "IPY_MODEL_4f7f050dcc6049e49c88fb40c2e90a5f",
       "style": "IPY_MODEL_219fcdfc434446f5bd89d72b09cd0d96"
      }
     },
     "fbde6c385a8e4d95b5c73c4f75004871": {
      "model_module": "jupyter-cytoscape",
      "model_module_version": "^1.2.2",
      "model_name": "EdgeModel",
      "state": {
       "_model_module_version": "^1.2.2",
       "_view_module_version": "^1.2.2",
       "classes": " directed  multiple_edges ",
       "data": {
        "id": "weight_horsepower",
        "source": "weight",
        "target": "horsepower"
       },
       "selectable": false
      }
     },
     "fbe304fc2bdb4e66ac54724470901854": {
      "model_module": "@jupyter-widgets/output",
      "model_module_version": "1.0.0",
      "model_name": "OutputModel",
      "state": {
       "layout": "IPY_MODEL_f79d879f6509466583c3599c73219508"
      }
     },
     "fc38d03764f74a0884e519c201a6fb7a": {
      "model_module": "@jupyter-widgets/output",
      "model_module_version": "1.0.0",
      "model_name": "OutputModel",
      "state": {
       "layout": "IPY_MODEL_77477c98c5af4d5c8c82d2d1b54effec"
      }
     },
     "fc45b97288474653a484d231ccaa4318": {
      "model_module": "jupyter-cytoscape",
      "model_module_version": "^1.2.2",
      "model_name": "EdgeModel",
      "state": {
       "_model_module_version": "^1.2.2",
       "_view_module_version": "^1.2.2",
       "classes": " directed  multiple_edges ",
       "data": {
        "id": "model_year_cylinders",
        "source": "model_year",
        "target": "cylinders"
       },
       "removed": true,
       "selectable": false
      }
     },
     "fc529c7d501c4993a6b016baa4c50512": {
      "model_module": "jupyter-cytoscape",
      "model_module_version": "^1.2.2",
      "model_name": "EdgeModel",
      "state": {
       "_model_module_version": "^1.2.2",
       "_view_module_version": "^1.2.2",
       "classes": " directed  multiple_edges ",
       "data": {
        "id": "model_year_weight",
        "source": "model_year",
        "target": "weight"
       },
       "selectable": false
      }
     },
     "fc5481a0735a424caa36addc4e4c3dcb": {
      "model_module": "jupyter-cytoscape",
      "model_module_version": "^1.2.2",
      "model_name": "NodeModel",
      "state": {
       "_model_module_version": "^1.2.2",
       "_view_module_version": "^1.2.2",
       "data": {
        "id": "weight",
        "label": "weight"
       },
       "grabbable": true,
       "grabbed": false,
       "position": {
        "x": 489.85768400426787,
        "y": 178.84165511352762
       },
       "selectable": false
      }
     },
     "fc548892474a47a187f627ccc8f163e6": {
      "model_module": "jupyter-cytoscape",
      "model_module_version": "^1.2.2",
      "model_name": "EdgeModel",
      "state": {
       "_model_module_version": "^1.2.2",
       "_view_module_version": "^1.2.2",
       "classes": " directed  multiple_edges ",
       "data": {
        "id": "weight_acceleration",
        "source": "weight",
        "target": "acceleration"
       },
       "selectable": false
      }
     },
     "fc596bfbb4e44aa7a43c775445b01b4e": {
      "model_module": "@jupyter-widgets/base",
      "model_module_version": "1.2.0",
      "model_name": "LayoutModel",
      "state": {}
     },
     "fc6530c92c2541e3ab6d98267d97b6e5": {
      "model_module": "@jupyter-widgets/output",
      "model_module_version": "1.0.0",
      "model_name": "OutputModel",
      "state": {
       "layout": "IPY_MODEL_64ecbbde3f2a40cbb59188b200848551"
      }
     },
     "fc967c8df13c46089641d1f35bd70ffb": {
      "model_module": "@jupyter-widgets/base",
      "model_module_version": "1.2.0",
      "model_name": "LayoutModel",
      "state": {}
     },
     "fd19900ce1954e739a422e36d8576ae8": {
      "model_module": "jupyter-cytoscape",
      "model_module_version": "^1.2.2",
      "model_name": "NodeModel",
      "state": {
       "_model_module_version": "^1.2.2",
       "_view_module_version": "^1.2.2",
       "data": {
        "id": "model_year",
        "label": "model_year"
       },
       "grabbable": true,
       "grabbed": false,
       "position": {
        "x": 559.3412859858755,
        "y": 263.5513286832067
       },
       "selectable": false
      }
     },
     "fd501e240ca949ecb3dbf8e188a8b3c6": {
      "model_module": "jupyter-cytoscape",
      "model_module_version": "^1.2.2",
      "model_name": "EdgeModel",
      "state": {
       "_model_module_version": "^1.2.2",
       "_view_module_version": "^1.2.2",
       "classes": " directed  multiple_edges ",
       "data": {
        "id": "weight_horsepower",
        "source": "weight",
        "target": "horsepower"
       },
       "selectable": false
      }
     },
     "fd60b299f01e49fe8a32265f21f73a13": {
      "model_module": "jupyter-cytoscape",
      "model_module_version": "^1.2.2",
      "model_name": "EdgeModel",
      "state": {
       "_model_module_version": "^1.2.2",
       "_view_module_version": "^1.2.2",
       "classes": " directed  multiple_edges ",
       "data": {
        "id": "displacement_weight",
        "source": "displacement",
        "target": "weight"
       },
       "removed": true,
       "selectable": false
      }
     },
     "fd76e12dabed448b9bf5cd657c947050": {
      "model_module": "jupyter-cytoscape",
      "model_module_version": "^1.2.2",
      "model_name": "EdgeModel",
      "state": {
       "_model_module_version": "^1.2.2",
       "_view_module_version": "^1.2.2",
       "classes": " directed  multiple_edges ",
       "data": {
        "id": "weight_acceleration",
        "source": "weight",
        "target": "acceleration"
       },
       "removed": true,
       "selectable": false
      }
     },
     "fd9a82b1716e40f290456681fd0ce6f5": {
      "model_module": "jupyter-cytoscape",
      "model_module_version": "^1.2.2",
      "model_name": "EdgeModel",
      "state": {
       "_model_module_version": "^1.2.2",
       "_view_module_version": "^1.2.2",
       "classes": " directed  multiple_edges ",
       "data": {
        "id": "weight_mpg",
        "source": "weight",
        "target": "mpg"
       },
       "selectable": false
      }
     },
     "fda0c4521ef0419b8b5554f5229ba2dc": {
      "model_module": "jupyter-cytoscape",
      "model_module_version": "^1.2.2",
      "model_name": "GraphModel",
      "state": {
       "_adj": {
        "acceleration": {},
        "cylinders": {},
        "displacement": {},
        "horsepower": {},
        "model_year": {},
        "mpg": {},
        "origin": {},
        "weight": {}
       },
       "_model_module_version": "^1.2.2",
       "_view_module": "jupyter-cytoscape",
       "_view_module_version": "^1.2.2",
       "edges": [
        "IPY_MODEL_c01b7bc347064050b71b56bb0a580f74",
        "IPY_MODEL_812952bab336412e8dfeae34842d5866",
        "IPY_MODEL_c823cf5ad25940bea196c95046bb2b55",
        "IPY_MODEL_3fb445f76fde46c5971cb47518504fdf",
        "IPY_MODEL_2cbf562554e34bbab7278957839600bf",
        "IPY_MODEL_853b6f10ed694a17b7a6e8513c11aa97",
        "IPY_MODEL_7e0d88885af748e097ab39738f174dfa",
        "IPY_MODEL_7025b8572d2048a5822440ed60d91dc1",
        "IPY_MODEL_6ba1a8c0b5ed4fa7b6821cbed65cacf0",
        "IPY_MODEL_6ec0bf5682554ab088c67eb46685f94b",
        "IPY_MODEL_630d71c01f1944fa9361183b4b8d42b9",
        "IPY_MODEL_821368e9739142ed89f7eeae61e31459",
        "IPY_MODEL_df9fc8b33acd47018778b29177454a22",
        "IPY_MODEL_3cc033f243a64872bba37325a7854fd1",
        "IPY_MODEL_407938960760482dac7264b0681bd1fe",
        "IPY_MODEL_48f1119c5aad4791b1d5b54f3d5966a7"
       ],
       "nodes": [
        "IPY_MODEL_a1caf44faa4e4de4986c93606b0b19ec",
        "IPY_MODEL_b5fe058e25274d9092d0be7d8a6f783c",
        "IPY_MODEL_03dea97e8f9747bc9bccbfdad5b5f564",
        "IPY_MODEL_518ce7071ff0419dab96e7365dbd39a7",
        "IPY_MODEL_0aa257cc086146e9b9a893b077d43cd8",
        "IPY_MODEL_27eebab149ff4adb9a654646fb71ab9a",
        "IPY_MODEL_9e621bc2dc324cd18edca8df924aaf16",
        "IPY_MODEL_bf5adec7e9f74b4395b2a3f96b88f0b5"
       ]
      }
     },
     "fdaba6392ea14819b1946a6fe66930cc": {
      "model_module": "jupyter-cytoscape",
      "model_module_version": "^1.2.2",
      "model_name": "NodeModel",
      "state": {
       "_model_module_version": "^1.2.2",
       "_view_module_version": "^1.2.2",
       "data": {
        "id": "displacement",
        "label": "displacement"
       },
       "grabbable": true,
       "grabbed": false,
       "position": {
        "x": 634.1635333662906,
        "y": 245.72590677691767
       },
       "removed": true,
       "selectable": false
      }
     },
     "fdc0fb0a85c44103b7366302f39d077b": {
      "model_module": "jupyter-cytoscape",
      "model_module_version": "^1.2.2",
      "model_name": "EdgeModel",
      "state": {
       "_model_module_version": "^1.2.2",
       "_view_module_version": "^1.2.2",
       "classes": " directed  multiple_edges ",
       "data": {
        "id": "displacement_origin",
        "source": "displacement",
        "target": "origin"
       },
       "selectable": false
      }
     },
     "fddbd809872d4520a8224e92d72880f6": {
      "model_module": "jupyter-cytoscape",
      "model_module_version": "^1.2.2",
      "model_name": "EdgeModel",
      "state": {
       "_model_module_version": "^1.2.2",
       "_view_module_version": "^1.2.2",
       "classes": " directed  multiple_edges ",
       "data": {
        "id": "displacement_weight",
        "source": "displacement",
        "target": "weight"
       },
       "selectable": false
      }
     },
     "fe11ac657ae649dc98a09dc7f494e98b": {
      "model_module": "jupyter-cytoscape",
      "model_module_version": "^1.2.2",
      "model_name": "CytoscapeModel",
      "state": {
       "_interaction_handlers": {
        "edge": [
         "click"
        ],
        "node": [
         "click"
        ]
       },
       "_model_module_version": "^1.2.2",
       "_view_module_version": "^1.2.2",
       "auto_ungrabify": false,
       "autolock": false,
       "cytoscape_layout": {
        "name": "cola"
       },
       "cytoscape_style": [
        {
         "selector": "node",
         "style": {
          "background-color": "blue",
          "font-family": "arial",
          "font-size": "10px",
          "label": "data(label)"
         }
        },
        {
         "selector": "edge",
         "style": {
          "curve-style": "bezier",
          "line-color": "#9dbaea",
          "target-arrow-color": "#9dbaea",
          "target-arrow-shape": "triangle",
          "width": 4
         }
        },
        {
         "css": {
          "line-color": "red"
         },
         "selector": "edge.selected"
        },
        {
         "css": {
          "background-color": "red"
         },
         "selector": "node.selected"
        }
       ],
       "desktop_tap_threshold": 4,
       "graph": "IPY_MODEL_6af59bf1edec4e738d6f555299a19cd8",
       "headless": false,
       "hide_edges_on_viewport": false,
       "layout": "IPY_MODEL_71045e837a9243fba4dccf473205f68b",
       "max_zoom": 1e+50,
       "min_zoom": 1e-50,
       "motion_blur": false,
       "motion_blur_opacity": 0.2,
       "panning_enabled": true,
       "pixel_ratio": "auto",
       "rendered_position": {
        "renderedPosition": {
         "x": 100,
         "y": 100
        }
       },
       "selection_type": "single",
       "style_enabled": true,
       "texture_on_viewport": false,
       "tooltip_source": "tooltip",
       "touch_tap_threshold": 8,
       "user_panning_enabled": true,
       "user_zooming_enabled": true,
       "wheel_sensitivity": 1,
       "zoom": 2,
       "zooming_enabled": true
      }
     },
     "fe15018d609541b4a40be48106ef33ce": {
      "model_module": "jupyter-cytoscape",
      "model_module_version": "^1.2.2",
      "model_name": "EdgeModel",
      "state": {
       "_model_module_version": "^1.2.2",
       "_view_module_version": "^1.2.2",
       "classes": " directed  multiple_edges ",
       "data": {
        "id": "cylinders_origin",
        "source": "cylinders",
        "target": "origin"
       },
       "removed": true,
       "selectable": false
      }
     },
     "fe47907d1c1a40f2b230d6bd6507187e": {
      "model_module": "jupyter-cytoscape",
      "model_module_version": "^1.2.2",
      "model_name": "EdgeModel",
      "state": {
       "_model_module_version": "^1.2.2",
       "_view_module_version": "^1.2.2",
       "classes": " directed  multiple_edges ",
       "data": {
        "id": "model_year_mpg",
        "source": "model_year",
        "target": "mpg"
       },
       "selectable": false
      }
     },
     "fe5efe99ca0448719bba531e81026b05": {
      "model_module": "@jupyter-widgets/base",
      "model_module_version": "1.2.0",
      "model_name": "LayoutModel",
      "state": {}
     },
     "fe660731580e4894bcbde65c53631197": {
      "model_module": "jupyter-cytoscape",
      "model_module_version": "^1.2.2",
      "model_name": "GraphModel",
      "state": {
       "_adj": {},
       "_model_module_version": "^1.2.2",
       "_view_module": "jupyter-cytoscape",
       "_view_module_version": "^1.2.2"
      }
     },
     "fedad37ce4744ae48b75a3bc652c03d4": {
      "model_module": "jupyter-cytoscape",
      "model_module_version": "^1.2.2",
      "model_name": "EdgeModel",
      "state": {
       "_model_module_version": "^1.2.2",
       "_view_module_version": "^1.2.2",
       "classes": " directed  multiple_edges ",
       "data": {
        "id": "model_year_mpg",
        "source": "model_year",
        "target": "mpg"
       },
       "selectable": false
      }
     },
     "fedf5146e67a4c8ab7c680ca2b426175": {
      "model_module": "@jupyter-widgets/base",
      "model_module_version": "1.2.0",
      "model_name": "LayoutModel",
      "state": {}
     },
     "ff06c2f3583a4666ba27ad5f131c44a4": {
      "model_module": "jupyter-cytoscape",
      "model_module_version": "^1.2.2",
      "model_name": "EdgeModel",
      "state": {
       "_model_module_version": "^1.2.2",
       "_view_module_version": "^1.2.2",
       "classes": " directed  multiple_edges ",
       "data": {
        "id": "displacement_horsepower",
        "source": "displacement",
        "target": "horsepower"
       },
       "selectable": false
      }
     },
     "ff11245012f54b54aa33feff8fdbd7d4": {
      "model_module": "jupyter-cytoscape",
      "model_module_version": "^1.2.2",
      "model_name": "NodeModel",
      "state": {
       "_model_module_version": "^1.2.2",
       "_view_module_version": "^1.2.2",
       "data": {
        "id": "horsepower",
        "label": "horsepower"
       },
       "grabbable": true,
       "grabbed": false,
       "position": {
        "x": 579.0624766836064,
        "y": 213.55132768320664
       },
       "selectable": false
      }
     },
     "ff127057c15d4456ba8486bcf7db17e9": {
      "model_module": "@jupyter-widgets/controls",
      "model_module_version": "1.5.0",
      "model_name": "ButtonStyleModel",
      "state": {}
     },
     "ff67a903d22a48cfacfa6bccbdec6037": {
      "model_module": "jupyter-cytoscape",
      "model_module_version": "^1.2.2",
      "model_name": "EdgeModel",
      "state": {
       "_model_module_version": "^1.2.2",
       "_view_module_version": "^1.2.2",
       "classes": " directed  multiple_edges ",
       "data": {
        "id": "displacement_origin",
        "source": "displacement",
        "target": "origin"
       },
       "selectable": false
      }
     },
     "ff6f6f44eb4d4ed2bcde4a3e3d79a295": {
      "model_module": "@jupyter-widgets/controls",
      "model_module_version": "1.5.0",
      "model_name": "ButtonStyleModel",
      "state": {}
     },
     "ff7fee0c3a6d48bdbbc000c87cc7f13d": {
      "model_module": "jupyter-cytoscape",
      "model_module_version": "^1.2.2",
      "model_name": "EdgeModel",
      "state": {
       "_model_module_version": "^1.2.2",
       "_view_module_version": "^1.2.2",
       "classes": " directed  multiple_edges ",
       "data": {
        "id": "model_year_weight",
        "source": "model_year",
        "target": "weight"
       },
       "selectable": false
      }
     },
     "ff8124928f8f44a281778c01238fec32": {
      "model_module": "jupyter-cytoscape",
      "model_module_version": "^1.2.2",
      "model_name": "EdgeModel",
      "state": {
       "_model_module_version": "^1.2.2",
       "_view_module_version": "^1.2.2",
       "classes": " directed  multiple_edges ",
       "data": {
        "id": "model_year_cylinders",
        "source": "model_year",
        "target": "cylinders"
       },
       "selectable": false
      }
     },
     "ff85675a8b894bf28609cbd543b0b3dc": {
      "model_module": "jupyter-cytoscape",
      "model_module_version": "^1.2.2",
      "model_name": "EdgeModel",
      "state": {
       "_model_module_version": "^1.2.2",
       "_view_module_version": "^1.2.2",
       "classes": " directed  multiple_edges ",
       "data": {
        "id": "displacement_weight",
        "source": "displacement",
        "target": "weight"
       },
       "removed": true,
       "selectable": false
      }
     },
     "ffbef72b174a4ee8ab7f6a6b69e58ad3": {
      "model_module": "jupyter-cytoscape",
      "model_module_version": "^1.2.2",
      "model_name": "NodeModel",
      "state": {
       "_model_module_version": "^1.2.2",
       "_view_module_version": "^1.2.2",
       "data": {
        "id": "model_year",
        "label": "model_year"
       },
       "grabbable": true,
       "grabbed": false,
       "position": {
        "x": 1102.6931930043122,
        "y": 311.6920129440305
       },
       "removed": true,
       "selectable": false
      }
     },
     "fff74a07c0ff47b2a465a823c9964971": {
      "model_module": "jupyter-cytoscape",
      "model_module_version": "^1.2.2",
      "model_name": "EdgeModel",
      "state": {
       "_model_module_version": "^1.2.2",
       "_view_module_version": "^1.2.2",
       "classes": " directed  multiple_edges ",
       "data": {
        "id": "horsepower_acceleration",
        "source": "horsepower",
        "target": "acceleration"
       },
       "selectable": false
      }
     }
    },
    "version_major": 2,
    "version_minor": 0
   }
  }
 },
 "nbformat": 4,
 "nbformat_minor": 5
}
