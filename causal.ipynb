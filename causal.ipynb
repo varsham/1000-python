{
 "cells": [
  {
   "cell_type": "code",
   "execution_count": 25,
   "id": "6bc66f60-f3e4-4766-b2b6-e44ab9fe740f",
   "metadata": {},
   "outputs": [
    {
     "data": {
      "text/plain": [
       "'\\n!pip3 install numpy\\n!pip3 install pandas\\n!pip3 install pydot\\n!pip3 install git+https://github.com/LeeKamentsky/python-javabridge.git#egg=javabridge\\n!pip3 install ipycytoscape\\n!pip3 install git+git://github.com/bd2kccd/py-causal\\n'"
      ]
     },
     "execution_count": 25,
     "metadata": {},
     "output_type": "execute_result"
    }
   ],
   "source": [
    "\"\"\"\n",
    "!pip3 install numpy\n",
    "!pip3 install pandas\n",
    "!pip3 install pydot\n",
    "!pip3 install git+https://github.com/LeeKamentsky/python-javabridge.git#egg=javabridge\n",
    "!pip3 install ipycytoscape\n",
    "!pip3 install git+git://github.com/bd2kccd/py-causal\n",
    "\"\"\""
   ]
  },
  {
   "cell_type": "code",
   "execution_count": 26,
   "id": "c1d07f2c-5ccf-41fb-bb02-07ccd91910f9",
   "metadata": {},
   "outputs": [],
   "source": [
    "import os\n",
    "import pandas as pd\n",
    "import pydot\n",
    "import numpy as np\n",
    "from pycausal.pycausal import pycausal as pc\n",
    "from IPython.display import SVG \n",
    "import ipycytoscape\n",
    "from ipycytoscape import cytoscape\n",
    "from ipycytoscape import CytoscapeWidget\n",
    "import ipywidgets as widgets\n"
   ]
  },
  {
   "cell_type": "code",
   "execution_count": 27,
   "id": "03ae6274-3e25-4f7a-89d0-568144738571",
   "metadata": {},
   "outputs": [
    {
     "name": "stdout",
     "output_type": "stream",
     "text": [
      "/Users/varsha/Sync/Varsha/causal/auto-mpg.data\n",
      "Elapsed initializeForwardEdgesFromEmptyGraph = 1 ms\n",
      "** FORWARD EQUIVALENCE SEARCH\n",
      "1. INSERT displacement --> cylinders [] 874.7463981673739 \n",
      "1. INSERT displacement --> cylinders [] 874.7463981673739  degree = 1 indegree = 1\n",
      "2. INSERT weight --> displacement [] 754.4059569436577 \n",
      "2. INSERT weight --> displacement [] 754.4059569436577  degree = 2 indegree = 1\n",
      "3. INSERT horsepower --> displacement [] 653.9306534108664 \n",
      "3. INSERT horsepower --> displacement [] 653.9306534108664  degree = 3 indegree = 1\n",
      "4. INSERT displacement --> mpg [] 218.94778871997664 \n",
      "4. INSERT displacement --> mpg [] 218.94778871997664  degree = 4 indegree = 0\n",
      "5. INSERT model_year --> mpg [displacement] 337.94988514713486 \n",
      "5. INSERT model_year --> mpg [displacement] 337.94988514713486  degree = 4 indegree = 0\n",
      "--- Directing displacement --> mpg\n",
      "6. INSERT model_year --> acceleration [] 182.92894496622716 \n",
      "6. INSERT model_year --> acceleration [] 182.92894496622716  degree = 4 indegree = 0\n",
      "7. INSERT horsepower --> acceleration [model_year] 153.79931850393018 \n",
      "7. INSERT horsepower --> acceleration [model_year] 153.79931850393018  degree = 4 indegree = 0\n",
      "--- Directing model_year --> acceleration\n",
      "8. INSERT weight --> mpg [] 115.86572540032239 \n",
      "8. INSERT weight --> mpg [] 115.86572540032239  degree = 4 indegree = 2\n",
      "9. INSERT model_year --> weight [displacement] 111.5747790908872 \n",
      "9. INSERT model_year --> weight [displacement] 111.5747790908872  degree = 4 indegree = 0\n",
      "--- Directing displacement --> weight\n",
      "10. INSERT model_year --> cylinders [displacement] 88.56811357620535 \n",
      "10. INSERT model_year --> cylinders [displacement] 88.56811357620535  degree = 4 indegree = 0\n",
      "--- Directing displacement --> cylinders\n",
      "11. INSERT origin --> horsepower [displacement] 46.29423908691024 \n",
      "11. INSERT origin --> horsepower [displacement] 46.29423908691024  degree = 4 indegree = 0\n",
      "--- Directing displacement --> horsepower\n",
      "12. INSERT mpg --> origin [] 167.12268064317902 \n",
      "12. INSERT mpg --> origin [] 167.12268064317902  degree = 4 indegree = 1\n",
      "13. INSERT mpg --> acceleration [] 30.00000240987731 \n",
      "13. INSERT mpg --> acceleration [] 30.00000240987731  degree = 5 indegree = 1\n",
      "14. INSERT weight --> horsepower [] 14.724658401845318 \n",
      "14. INSERT weight --> horsepower [] 14.724658401845318  degree = 5 indegree = 1\n",
      "15. INSERT displacement --> origin [] 13.177351887707687 \n",
      "15. INSERT displacement --> origin [] 13.177351887707687  degree = 5 indegree = 2\n",
      "16. INSERT cylinders --> origin [] 3.2007328437507 \n",
      "16. INSERT cylinders --> origin [] 3.2007328437507  degree = 5 indegree = 3\n",
      "** BACKWARD EQUIVALENCE SEARCH\n",
      "15. DELETE displacement-->mpg H = [] NaYX = [weight] diff = [weight] (7.9087788011750035) \n",
      "** FORWARD EQUIVALENCE SEARCH\n",
      "16. INSERT weight --> acceleration [] 45.90120800483112 \n",
      "16. INSERT weight --> acceleration [] 45.90120800483112  degree = 5 indegree = 4\n",
      "17. INSERT displacement --> acceleration [] 9.210358079422463 \n",
      "17. INSERT displacement --> acceleration [] 9.210358079422463  degree = 5 indegree = 5\n",
      "** BACKWARD EQUIVALENCE SEARCH\n",
      "16. DELETE mpg-->acceleration H = [] NaYX = [] diff = [] (7.688951162415492) \n"
     ]
    }
   ],
   "source": [
    "data_dir = os.path.join(os.getcwd(), 'auto-mpg.data')\n",
    "print(data_dir)\n",
    "columns = ['mpg', 'cylinders', 'displacement', 'horsepower', 'weight', 'acceleration', 'model_year', 'origin', 'car_name']\n",
    "# Names of columns (eventually, names of nodes)\n",
    "df = pd.read_table(data_dir, delim_whitespace=True, names=columns)\n",
    "df.head()\n",
    "\n",
    "new_df = df.drop(['car_name'], axis=1)\n",
    "# Drops the column called \"car\"\n",
    "new_df.head()\n",
    "# Prints the first five values of data frame, zero-indexed\n",
    "\n",
    "new_df.loc[new_df.horsepower == '?'] = '0.0'\n",
    "# Change all of the \"?\" in the horsepower column to \"0.0\"\n",
    "new_df.describe()\n",
    "new_df.horsepower = pd.to_numeric(new_df.horsepower)\n",
    "# Change all string values in horsepower column to floats\n",
    "\n",
    "df = new_df\n",
    "#!/usr/local/bin/python\n",
    "\n",
    "from pycausal.pycausal import pycausal as pc\n",
    "pc = pc()\n",
    "pc.start_vm()\n",
    "\n",
    "from pycausal import search as s\n",
    "tetrad = s.tetradrunner()\n",
    "tetrad.run(algoId = 'fges', dfs = df, scoreId = 'sem-bic', dataType = 'continuous',\n",
    "           maxDegree = -1, faithfulnessAssumed = True, verbose = True)\n",
    "\n",
    "graph = tetrad.getTetradGraph()\n",
    "\n",
    "\n",
    "\n",
    "#print(graph)\n",
    "#print('Graph BIC: {}'.format(graph.getAttribute('BIC')))\n",
    "\n",
    "def getGraphNodeByName(g, n):\n",
    "    nodes = g.getNodes()\n",
    "    nit = nodes.iterator()\n",
    "    while nit.hasNext():\n",
    "        node = nit.next()\n",
    "        if node.getName() == n:\n",
    "            return node\n",
    "    return None\n",
    "\n",
    "def buildWidget(g, w):\n",
    "    w.graph.clear()\n",
    "    nodes = g.getNodes()\n",
    "    nit = nodes.iterator()\n",
    "    while nit.hasNext():\n",
    "        node = nit.next()\n",
    "        w.graph.add_node(cytoscape.Node(data={\"id\":node.getName(), \"label\":node.getName()}))\n",
    "        #print('Node {} BIC: {}'.format(node.getName(),node.getAttribute('BIC')))\n",
    "    \n",
    "    edges = g.getEdges()\n",
    "    eit = edges.iterator()\n",
    "\n",
    "    while eit.hasNext():\n",
    "        edge= eit.next()\n",
    "        n1 = edge.getNode1().getName()\n",
    "        n2 = edge.getNode2().getName()\n",
    "        cEdge = cytoscape.Edge(data={\"id\":f'{n1}_{n2}',\"source\": n1, \"target\": n2})\n",
    "        w.graph.add_edge(cEdge, True, True)\n",
    "    #w.set_layout(name='dagre', nodeSpacing=10, edgeLengthVal=10)\n",
    "    w.set_style([\n",
    "            {\n",
    "            'selector': 'node',\n",
    "            'style': {\n",
    "                'font-family': 'arial',\n",
    "                'font-size': '10px',\n",
    "                'label': 'data(label)',\n",
    "                'background-color': 'blue'\n",
    "                }\n",
    "            },\n",
    "            {\n",
    "                'selector': 'edge',\n",
    "                'style': {\n",
    "                    'width': 4,\n",
    "                    'line-color': '#9dbaea',\n",
    "                    'target-arrow-shape': 'triangle',\n",
    "                    'target-arrow-color': '#9dbaea',\n",
    "                    'curve-style': 'bezier'\n",
    "                }\n",
    "            },\n",
    "                {\n",
    "          \"selector\": \"edge.selected\",\n",
    "          \"css\": {\n",
    "            \"line-color\": \"red\"\n",
    "          },\n",
    "        },\n",
    "        \n",
    "        {\n",
    "            \"selector\": \"node.selected\",\n",
    "            \"css\": {\n",
    "                \"background-color\": \"red\"\n",
    "            },\n",
    "        }\n",
    "    ])\n"
   ]
  },
  {
   "cell_type": "code",
   "execution_count": null,
   "id": "65f9429e-64c9-4238-b1c8-01ca26fc7b1c",
   "metadata": {},
   "outputs": [],
   "source": []
  },
  {
   "cell_type": "code",
   "execution_count": 28,
   "id": "0b768849-bce1-43c1-aad7-6cd7422b2999",
   "metadata": {},
   "outputs": [],
   "source": [
    "selectedNodes = []\n",
    "selectedEdges = []\n",
    "\n",
    "def getCytoGraphEdge(id):\n",
    "    for ne in widget1.graph.edges:\n",
    "        if ne.data[\"id\"] == id:\n",
    "            return ne\n",
    "    return None\n",
    "\n",
    "def getCytoGraphNode(id):\n",
    "    for nd in widget1.graph.nodes:\n",
    "        if nd.data[\"id\"] == id:\n",
    "            return nd\n",
    "    return None\n",
    "\n",
    "def toggleCytoGraphEdgeClass(id, className, add):\n",
    "    cEdge = getCytoGraphEdge(id)\n",
    "    toggleCytoGraphClass(cEdge, className, add)\n",
    "\n",
    "def toggleCytoGraphNodeClass(id, className, add):\n",
    "    cNode = getCytoGraphNode(id)\n",
    "    toggleCytoGraphClass(cNode, className, add)\n",
    "    \n",
    "def toggleCytoGraphClass(el, className, add):\n",
    "    classes = set(el.classes.split(\" \"))\n",
    "    if add:\n",
    "        classes.add(className)\n",
    "    else:\n",
    "        if className in classes:\n",
    "            classes.remove(className)\n",
    "        \n",
    "    el.classes = \" \".join(classes)\n",
    "\n",
    "\n",
    "deletebtn = widgets.Button(description=\"Delete Edge\", disabled=True)\n",
    "changebtn = widgets.Button(description=\"Change Direction\", disabled=True)\n",
    "addbtn = widgets.Button(description=\"Add Edge\", disabled=True)\n",
    "widget1 = ipycytoscape.CytoscapeWidget()\n",
    "buildWidget(graph, widget1)"
   ]
  },
  {
   "cell_type": "code",
   "execution_count": 29,
   "id": "996e827d-d956-4ef8-b928-6c7b85396714",
   "metadata": {},
   "outputs": [],
   "source": [
    "from ipywidgets import Output\n",
    "from IPython.display import display\n",
    "from pprint import pformat\n",
    "\n",
    "out = Output()\n",
    "\n",
    "def edge_selected(e):\n",
    "    \n",
    "    if len(selectedEdges) == 0:\n",
    "        selectedEdges.append(e)\n",
    "        with out:\n",
    "            print(f'selected: {pformat(e[\"data\"])}')\n",
    "    else:\n",
    "        toggleCytoGraphEdgeClass(selectedEdges[0][\"data\"][\"id\"], \"selected\", False)\n",
    "        if selectedEdges[0][\"data\"][\"id\"] == e[\"data\"][\"id\"]:\n",
    "            selectedEdges.clear()\n",
    "        else:\n",
    "            selectedEdges[0] = e\n",
    "        \n",
    "        \n",
    "    empty = len(selectedEdges) == 0\n",
    "    if not empty:\n",
    "        toggleCytoGraphEdgeClass(selectedEdges[0][\"data\"][\"id\"], \"selected\", True)\n",
    "    \n",
    "    deletebtn.disabled = empty\n",
    "    changebtn.disabled = empty\n",
    "    addbtn.disabled = empty\n",
    "    \n",
    "def node_selected(n):\n",
    "    for nd in selectedNodes:\n",
    "        if nd[\"data\"][\"id\"] == n[\"data\"][\"id\"]:\n",
    "            toggleCytoGraphNodeClass(n[\"data\"][\"id\"], \"selected\", False)\n",
    "            selectedNodes.remove(nd)\n",
    "            return\n",
    "    if len(selectedNodes) < 2:\n",
    "        selectedNodes.append(n)\n",
    "        with out:\n",
    "            print(f'selected: {pformat(n[\"data\"])}')\n",
    "        toggleCytoGraphNodeClass(n[\"data\"][\"id\"], \"selected\", True)\n",
    "    if len(selectedNodes) == 2:\n",
    "        addbtn.disabled=False\n",
    "    \n",
    "def clearSelectedNodes():\n",
    "    for nd in selectedNodes:\n",
    "        toggleCytoGraphNodeClass(nd[\"data\"][\"id\"], \"selected\", False)\n",
    "    selectedNodes.clear()\n",
    "    addbtn.disabled = True\n",
    "    \n",
    "def clearSelectedEdges():\n",
    "    selectedEdges.clear()\n",
    "    deletebtn.disabled = True\n",
    "    changebtn.disabled = True\n",
    "\n",
    "def addEdge(b):\n",
    "    if len(selectedNodes) != 2:\n",
    "        return\n",
    "    n1id = selectedNodes[0][\"data\"][\"id\"]\n",
    "    n2id = selectedNodes[1][\"data\"][\"id\"]\n",
    "     \n",
    "    n1 = getGraphNodeByName(graph, n1id)\n",
    "    n2 = getGraphNodeByName(graph, n2id)\n",
    "    \n",
    "    exists = graph.existsDirectedPathFromTo(n1, n2) or graph.existsDirectedPathFromTo(n2, n1)\n",
    "    with out:\n",
    "        print(exists)\n",
    "    \n",
    "    if not exists:\n",
    "        graph.addDirectedEdge(n1, n2)\n",
    "        with out:\n",
    "            print(f'adding edge between: {n1id}, {n2id}')\n",
    "        buildWidget(graph, widget1)\n",
    "    else:\n",
    "        with out:\n",
    "            print(f'edge already exists between {n1id}, {n2id}')\n",
    "    clearSelectedNodes()\n",
    "    \n",
    "        \n",
    "    \n",
    "def log_clicks(node):\n",
    "    with out:\n",
    "        print(f'clicked: {pformat(node)}')\n",
    "    if length(newEdge) == 2:\n",
    "        deletebtn[disabled] = True\n",
    "    else:\n",
    "        newEdge.append(node[\"id\"])\n",
    "\n",
    "    \n",
    "def removeEdge(b):\n",
    "    if len(selectedEdges) == 1:\n",
    "        e = selectedEdges[0]\n",
    "        with out:\n",
    "            print(f'removing: {pformat(e[\"data\"])}')\n",
    "        graph.removeEdge(getGraphNodeByName(graph, e[\"data\"][\"source\"]), getGraphNodeByName(graph, e[\"data\"][\"target\"]))\n",
    "        clearSelectedEdges()\n",
    "        buildWidget(graph, widget1)\n",
    "        \n",
    "\n",
    "def changeDirection(b):\n",
    "    if len(selectedEdges) == 1:\n",
    "        e = selectedEdges[0]\n",
    "        source = e[\"data\"][\"source\"]\n",
    "        target = e[\"data\"][\"target\"]\n",
    "        n1 = getGraphNodeByName(graph, source)\n",
    "        n2 = getGraphNodeByName(graph, target)\n",
    "        graph.removeEdge(n1, n2)\n",
    "        graph.addDirectedEdge(n2, n1)\n",
    "        clearSelectedEdges()\n",
    "        buildWidget(graph, widget1)\n",
    "        ne = getCytoGraphEdge(f'{target}_{source}')\n",
    "        with out:\n",
    "            print(f'edge with new direction: {pformat(ne.data)}')\n",
    "\n",
    "\"\"\"\n",
    "def log_mouseovers(node):\n",
    "    with out:\n",
    "        print(f'mouseover: {pformat(node)}')\n",
    "\"\"\"\n",
    "\n",
    "\"\"\"\n",
    "\n",
    "dot_str = pc.tetradGraphToDot(graph)\n",
    "graphs = pydot.graph_from_dot_data(dot_str)\n",
    "graphs[0].write_svg('fges-continuous.svg')\n",
    "\"\"\"\n",
    "widget1.on('edge', 'click', edge_selected)\n",
    "widget1.on('node', 'click', node_selected)\n",
    "#widget1.on('node', 'mouseover', log_mouseovers)\n",
    "deletebtn.on_click(callback=removeEdge)\n",
    "changebtn.on_click(callback=changeDirection)\n",
    "addbtn.on_click(callback=addEdge)\n",
    "# pc.stop_vm()"
   ]
  },
  {
   "cell_type": "code",
   "execution_count": 30,
   "id": "34c71928-2bca-4ac9-87d0-498bbe47af45",
   "metadata": {},
   "outputs": [
    {
     "data": {
      "application/vnd.jupyter.widget-view+json": {
       "model_id": "daf4c374e106489caa67cf0c831386e8",
       "version_major": 2,
       "version_minor": 0
      },
      "text/plain": [
       "CytoscapeWidget(cytoscape_layout={'name': 'cola'}, cytoscape_style=[{'selector': 'node', 'style': {'font-famil…"
      ]
     },
     "metadata": {},
     "output_type": "display_data"
    },
    {
     "data": {
      "application/vnd.jupyter.widget-view+json": {
       "model_id": "c5e3fa143eaf40289f0d1b7aab47db42",
       "version_major": 2,
       "version_minor": 0
      },
      "text/plain": [
       "Button(description='Delete Edge', disabled=True, style=ButtonStyle())"
      ]
     },
     "metadata": {},
     "output_type": "display_data"
    },
    {
     "data": {
      "application/vnd.jupyter.widget-view+json": {
       "model_id": "97ad19cba0be4f5dbda893bf1ab85cbc",
       "version_major": 2,
       "version_minor": 0
      },
      "text/plain": [
       "Button(description='Change Direction', disabled=True, style=ButtonStyle())"
      ]
     },
     "metadata": {},
     "output_type": "display_data"
    },
    {
     "data": {
      "application/vnd.jupyter.widget-view+json": {
       "model_id": "a4565fae8a0347e097379cb66c1b1f2b",
       "version_major": 2,
       "version_minor": 0
      },
      "text/plain": [
       "Button(description='Add Edge', disabled=True, style=ButtonStyle())"
      ]
     },
     "metadata": {},
     "output_type": "display_data"
    },
    {
     "data": {
      "application/vnd.jupyter.widget-view+json": {
       "model_id": "7e4359f945814bcdb93450dcfaf87baa",
       "version_major": 2,
       "version_minor": 0
      },
      "text/plain": [
       "Output()"
      ]
     },
     "metadata": {},
     "output_type": "display_data"
    },
    {
     "data": {
      "text/plain": [
       "'\\nOriginal graph:\\n\\nwww3.cs.stonybrook.edu/~mueller/papers/causalAnalyst.pdf\\n'"
      ]
     },
     "execution_count": 30,
     "metadata": {},
     "output_type": "execute_result"
    }
   ],
   "source": [
    "\n",
    "display(widget1)\n",
    "display(deletebtn)\n",
    "display(changebtn)\n",
    "display(addbtn)\n",
    "display(out)\n",
    "\n",
    "\"\"\"\n",
    "Original graph:\n",
    "\n",
    "www3.cs.stonybrook.edu/~mueller/papers/causalAnalyst.pdf\n",
    "\"\"\""
   ]
  },
  {
   "cell_type": "code",
   "execution_count": null,
   "id": "584cc82d-2d21-4bb1-be2d-73512c7e8ac2",
   "metadata": {},
   "outputs": [],
   "source": []
  }
 ],
 "metadata": {
  "kernelspec": {
   "display_name": "Python 3 (ipykernel)",
   "language": "python",
   "name": "python3"
  },
  "language_info": {
   "codemirror_mode": {
    "name": "ipython",
    "version": 3
   },
   "file_extension": ".py",
   "mimetype": "text/x-python",
   "name": "python",
   "nbconvert_exporter": "python",
   "pygments_lexer": "ipython3",
   "version": "3.9.6"
  },
  "widgets": {
   "application/vnd.jupyter.widget-state+json": {
    "state": {
     "00e56f4916f54c94b1f3f923349b6dc7": {
      "model_module": "jupyter-cytoscape",
      "model_module_version": "^1.2.2",
      "model_name": "NodeModel",
      "state": {
       "_model_module_version": "^1.2.2",
       "_view_module_version": "^1.2.2",
       "data": {
        "id": "horsepower",
        "label": "horsepower"
       },
       "grabbable": true,
       "grabbed": false,
       "position": {
        "x": 1057.1051152147072,
        "y": 108.13394745454634
       },
       "removed": true,
       "selectable": false
      }
     },
     "013a92fc26c647e5965de0f9f943ffe7": {
      "model_module": "jupyter-cytoscape",
      "model_module_version": "^1.2.2",
      "model_name": "NodeModel",
      "state": {
       "_model_module_version": "^1.2.2",
       "_view_module_version": "^1.2.2",
       "data": {
        "id": "acceleration",
        "label": "acceleration"
       },
       "grabbable": true,
       "grabbed": false,
       "position": {
        "x": 1156.1201864309708,
        "y": 95.24513256002568
       },
       "removed": true,
       "selectable": false
      }
     },
     "01d82eb41cbd4a5fb9c4f3175553a19d": {
      "model_module": "@jupyter-widgets/controls",
      "model_module_version": "1.5.0",
      "model_name": "ButtonStyleModel",
      "state": {}
     },
     "021f91afa48049769db2a8e11f12e86a": {
      "model_module": "jupyter-cytoscape",
      "model_module_version": "^1.2.2",
      "model_name": "EdgeModel",
      "state": {
       "_model_module_version": "^1.2.2",
       "_view_module_version": "^1.2.2",
       "classes": " directed  multiple_edges ",
       "data": {
        "id": "weight_horsepower",
        "source": "weight",
        "target": "horsepower"
       },
       "removed": true,
       "selectable": false
      }
     },
     "0284277497c44948b74011f7522cc16f": {
      "model_module": "jupyter-cytoscape",
      "model_module_version": "^1.2.2",
      "model_name": "EdgeModel",
      "state": {
       "_model_module_version": "^1.2.2",
       "_view_module_version": "^1.2.2",
       "classes": " directed  multiple_edges ",
       "data": {
        "id": "displacement_horsepower",
        "source": "displacement",
        "target": "horsepower"
       },
       "removed": true,
       "selectable": false
      }
     },
     "031609753a374dd3a235595c7a069973": {
      "model_module": "@jupyter-widgets/controls",
      "model_module_version": "1.5.0",
      "model_name": "ButtonModel",
      "state": {
       "description": "Delete Edge",
       "disabled": true,
       "layout": "IPY_MODEL_1ac7b7ff57644447839f8f12f95daab3",
       "style": "IPY_MODEL_9c3a1dda8b71462a8fd93f736fab2a9f"
      }
     },
     "036fb26f8f16458dbe9f1ec81f1857de": {
      "model_module": "jupyter-cytoscape",
      "model_module_version": "^1.2.2",
      "model_name": "EdgeModel",
      "state": {
       "_model_module_version": "^1.2.2",
       "_view_module_version": "^1.2.2",
       "classes": " directed  multiple_edges ",
       "data": {
        "id": "model_year_weight",
        "source": "model_year",
        "target": "weight"
       },
       "selectable": false
      }
     },
     "03dea97e8f9747bc9bccbfdad5b5f564": {
      "model_module": "jupyter-cytoscape",
      "model_module_version": "^1.2.2",
      "model_name": "NodeModel",
      "state": {
       "_model_module_version": "^1.2.2",
       "_view_module_version": "^1.2.2",
       "data": {
        "id": "displacement",
        "label": "displacement"
       },
       "grabbable": true,
       "grabbed": false,
       "position": {
        "x": 1012.3412849858775,
        "y": 284.24756931696896
       },
       "selectable": false
      }
     },
     "040a5ceb0ab64840b5caa090eea26d8a": {
      "model_module": "@jupyter-widgets/controls",
      "model_module_version": "1.5.0",
      "model_name": "ButtonStyleModel",
      "state": {}
     },
     "04237ee578da4be19740184c5ff21196": {
      "model_module": "@jupyter-widgets/controls",
      "model_module_version": "1.5.0",
      "model_name": "ButtonModel",
      "state": {
       "description": "Change Direction",
       "disabled": true,
       "layout": "IPY_MODEL_e154b9abd3b74998849e72642a961665",
       "style": "IPY_MODEL_b1f9502870db4879b367c850ac273302"
      }
     },
     "0442d536ac604ba9b32313089d1e4604": {
      "model_module": "@jupyter-widgets/output",
      "model_module_version": "1.0.0",
      "model_name": "OutputModel",
      "state": {
       "layout": "IPY_MODEL_ddadefc09819475aa9b892cf0bb317f0",
       "outputs": [
        {
         "name": "stdout",
         "output_type": "stream",
         "text": "selected: {'id': 'model_year', 'label': 'model_year'}\nselected: {'id': 'displacement', 'label': 'displacement'}\nselected: {'id': 'displacement_cylinders',\n 'source': 'displacement',\n 'target': 'cylinders'}\n"
        }
       ]
      }
     },
     "0487f37c16c14ac9a89fa07da4b20bd5": {
      "model_module": "jupyter-cytoscape",
      "model_module_version": "^1.2.2",
      "model_name": "NodeModel",
      "state": {
       "_model_module_version": "^1.2.2",
       "_view_module_version": "^1.2.2",
       "data": {
        "id": "displacement",
        "label": "displacement"
       },
       "grabbable": true,
       "grabbed": false,
       "position": {
        "x": 1012.3412849858775,
        "y": 284.24756931696896
       },
       "selectable": false
      }
     },
     "0523cbfaa4224a84a4a1ccc88818289f": {
      "model_module": "jupyter-cytoscape",
      "model_module_version": "^1.2.2",
      "model_name": "EdgeModel",
      "state": {
       "_model_module_version": "^1.2.2",
       "_view_module_version": "^1.2.2",
       "classes": " directed  multiple_edges ",
       "data": {
        "id": "model_year_mpg",
        "source": "model_year",
        "target": "mpg"
       },
       "removed": true,
       "selectable": false
      }
     },
     "0565964c3e9e48da8176f89a416b0da2": {
      "model_module": "jupyter-cytoscape",
      "model_module_version": "^1.2.2",
      "model_name": "EdgeModel",
      "state": {
       "_model_module_version": "^1.2.2",
       "_view_module_version": "^1.2.2",
       "classes": " directed  multiple_edges ",
       "data": {
        "id": "weight_horsepower",
        "source": "weight",
        "target": "horsepower"
       },
       "removed": true,
       "selectable": false
      }
     },
     "057c33209f004564a70f7876d661aca5": {
      "model_module": "jupyter-cytoscape",
      "model_module_version": "^1.2.2",
      "model_name": "EdgeModel",
      "state": {
       "_model_module_version": "^1.2.2",
       "_view_module_version": "^1.2.2",
       "classes": " directed  multiple_edges ",
       "data": {
        "id": "displacement_horsepower",
        "source": "displacement",
        "target": "horsepower"
       },
       "removed": true,
       "selectable": false
      }
     },
     "05e9abbd86c2482b99b2cd874173fa66": {
      "model_module": "jupyter-cytoscape",
      "model_module_version": "^1.2.2",
      "model_name": "EdgeModel",
      "state": {
       "_model_module_version": "^1.2.2",
       "_view_module_version": "^1.2.2",
       "classes": " directed  multiple_edges ",
       "data": {
        "id": "weight_horsepower",
        "source": "weight",
        "target": "horsepower"
       },
       "removed": true,
       "selectable": false
      }
     },
     "06908984111940e0b94c004629276f82": {
      "model_module": "jupyter-cytoscape",
      "model_module_version": "^1.2.2",
      "model_name": "NodeModel",
      "state": {
       "_model_module_version": "^1.2.2",
       "_view_module_version": "^1.2.2",
       "data": {
        "id": "acceleration",
        "label": "acceleration"
       },
       "grabbable": true,
       "grabbed": false,
       "position": {
        "x": 1077.6018264060392,
        "y": 48.21118931595049
       },
       "removed": true,
       "selectable": false
      }
     },
     "08b496012db14a7982f76840837a503f": {
      "model_module": "jupyter-cytoscape",
      "model_module_version": "^1.2.2",
      "model_name": "EdgeModel",
      "state": {
       "_model_module_version": "^1.2.2",
       "_view_module_version": "^1.2.2",
       "classes": " multiple_edges directed selected",
       "data": {
        "id": "displacement_origin",
        "source": "displacement",
        "target": "origin"
       },
       "removed": true,
       "selectable": false
      }
     },
     "08cdc8f884494e919d1c2de9b85b9827": {
      "model_module": "jupyter-cytoscape",
      "model_module_version": "^1.2.2",
      "model_name": "EdgeModel",
      "state": {
       "_model_module_version": "^1.2.2",
       "_view_module_version": "^1.2.2",
       "classes": " directed  multiple_edges ",
       "data": {
        "id": "weight_mpg",
        "source": "weight",
        "target": "mpg"
       },
       "selectable": false
      }
     },
     "09401c78034c4536a72f9d0a50b6c908": {
      "model_module": "jupyter-cytoscape",
      "model_module_version": "^1.2.2",
      "model_name": "NodeModel",
      "state": {
       "_model_module_version": "^1.2.2",
       "_view_module_version": "^1.2.2",
       "data": {
        "id": "horsepower",
        "label": "horsepower"
       },
       "grabbable": true,
       "grabbed": false,
       "position": {
        "x": 1098.4072363143414,
        "y": 106.80882163788613
       },
       "removed": true,
       "selectable": false
      }
     },
     "098cdb3efc174580afe2ee4869e77aed": {
      "model_module": "jupyter-cytoscape",
      "model_module_version": "^1.2.2",
      "model_name": "EdgeModel",
      "state": {
       "_model_module_version": "^1.2.2",
       "_view_module_version": "^1.2.2",
       "classes": " directed  multiple_edges ",
       "data": {
        "id": "horsepower_acceleration",
        "source": "horsepower",
        "target": "acceleration"
       },
       "selectable": false
      }
     },
     "099f80c6bb7f4fbeb092ffeb6dcccc76": {
      "model_module": "@jupyter-widgets/base",
      "model_module_version": "1.2.0",
      "model_name": "LayoutModel",
      "state": {}
     },
     "0aa257cc086146e9b9a893b077d43cd8": {
      "model_module": "jupyter-cytoscape",
      "model_module_version": "^1.2.2",
      "model_name": "NodeModel",
      "state": {
       "_model_module_version": "^1.2.2",
       "_view_module_version": "^1.2.2",
       "data": {
        "id": "weight",
        "label": "weight"
       },
       "grabbable": true,
       "grabbed": false,
       "position": {
        "x": 1147.1038596983974,
        "y": 255.94921684087447
       },
       "selectable": false
      }
     },
     "0accfcbb9322426a9d810c28c0fb016b": {
      "model_module": "jupyter-cytoscape",
      "model_module_version": "^1.2.2",
      "model_name": "NodeModel",
      "state": {
       "_model_module_version": "^1.2.2",
       "_view_module_version": "^1.2.2",
       "data": {
        "id": "model_year",
        "label": "model_year"
       },
       "grabbable": true,
       "grabbed": false,
       "position": {
        "x": 849.3290098946818,
        "y": 219.9736966784859
       },
       "selectable": false
      }
     },
     "0b060852cc624252bea388cb65e5ca0d": {
      "model_module": "@jupyter-widgets/base",
      "model_module_version": "1.2.0",
      "model_name": "LayoutModel",
      "state": {}
     },
     "0b54af37ebba4eba9450b2b5b3f920a5": {
      "model_module": "jupyter-cytoscape",
      "model_module_version": "^1.2.2",
      "model_name": "EdgeModel",
      "state": {
       "_model_module_version": "^1.2.2",
       "_view_module_version": "^1.2.2",
       "classes": " directed  multiple_edges ",
       "data": {
        "id": "displacement_cylinders",
        "source": "displacement",
        "target": "cylinders"
       },
       "removed": true,
       "selectable": false
      }
     },
     "0b781455bf3045be9a20242fd7a0445f": {
      "model_module": "jupyter-cytoscape",
      "model_module_version": "^1.2.2",
      "model_name": "EdgeModel",
      "state": {
       "_model_module_version": "^1.2.2",
       "_view_module_version": "^1.2.2",
       "classes": " directed  multiple_edges ",
       "data": {
        "id": "weight_acceleration",
        "source": "weight",
        "target": "acceleration"
       },
       "removed": true,
       "selectable": false
      }
     },
     "0b7df1a60b18430f8f902077bf114523": {
      "model_module": "jupyter-cytoscape",
      "model_module_version": "^1.2.2",
      "model_name": "EdgeModel",
      "state": {
       "_model_module_version": "^1.2.2",
       "_view_module_version": "^1.2.2",
       "classes": " multiple_edges directed selected",
       "data": {
        "id": "model_year_acceleration",
        "source": "model_year",
        "target": "acceleration"
       },
       "removed": true,
       "selectable": false
      }
     },
     "0bc384c82ac04395b9dc76f5c436e49f": {
      "model_module": "@jupyter-widgets/controls",
      "model_module_version": "1.5.0",
      "model_name": "ButtonModel",
      "state": {
       "description": "red edges",
       "layout": "IPY_MODEL_60aab14a79d74e6b894e7018d3a8ba5f",
       "style": "IPY_MODEL_d81a573d1f464a13b64b3f4c2516112b"
      }
     },
     "0c9270807022480589eced48c0e21aea": {
      "model_module": "@jupyter-widgets/controls",
      "model_module_version": "1.5.0",
      "model_name": "ButtonModel",
      "state": {
       "description": "Add Edge",
       "disabled": true,
       "layout": "IPY_MODEL_1b7aa530853c4252a8b05440f14b088c",
       "style": "IPY_MODEL_dc625913d5fd4423a8d334a54083e404"
      }
     },
     "0f40184441ed4b29bdab0f6894ea52b2": {
      "model_module": "jupyter-cytoscape",
      "model_module_version": "^1.2.2",
      "model_name": "NodeModel",
      "state": {
       "_model_module_version": "^1.2.2",
       "_view_module_version": "^1.2.2",
       "data": {
        "id": "horsepower",
        "label": "horsepower"
       },
       "grabbable": true,
       "grabbed": false,
       "position": {
        "x": 1047.018591159714,
        "y": 312.90315197982
       },
       "removed": true,
       "selectable": false
      }
     },
     "10149b7f0b504e9fa46a69db42c877fb": {
      "model_module": "jupyter-cytoscape",
      "model_module_version": "^1.2.2",
      "model_name": "EdgeModel",
      "state": {
       "_model_module_version": "^1.2.2",
       "_view_module_version": "^1.2.2",
       "classes": " directed  multiple_edges ",
       "data": {
        "id": "displacement_horsepower",
        "source": "displacement",
        "target": "horsepower"
       },
       "selectable": false
      }
     },
     "1048f1029701460caecdd721cddae5ad": {
      "model_module": "jupyter-cytoscape",
      "model_module_version": "^1.2.2",
      "model_name": "NodeModel",
      "state": {
       "_model_module_version": "^1.2.2",
       "_view_module_version": "^1.2.2",
       "data": {
        "id": "model_year",
        "label": "model_year"
       },
       "grabbable": true,
       "grabbed": false,
       "position": {
        "x": 902.1635343662903,
        "y": 225.07364057090456
       },
       "removed": true,
       "selectable": false
      }
     },
     "106103109177487f80dc2cd9ea1e5a7d": {
      "model_module": "jupyter-cytoscape",
      "model_module_version": "^1.2.2",
      "model_name": "NodeModel",
      "state": {
       "_model_module_version": "^1.2.2",
       "_view_module_version": "^1.2.2",
       "data": {
        "id": "horsepower",
        "label": "horsepower"
       },
       "grabbable": true,
       "grabbed": false,
       "position": {
        "x": 946.3039622199349,
        "y": 103.90337540622617
       },
       "removed": true,
       "selectable": false
      }
     },
     "10ba808622374538a29e75f20c3617c1": {
      "model_module": "@jupyter-widgets/controls",
      "model_module_version": "1.5.0",
      "model_name": "ButtonModel",
      "state": {
       "description": "Delete Edge",
       "disabled": true,
       "layout": "IPY_MODEL_fae029717f9c403187732db70eccd55d",
       "style": "IPY_MODEL_410c040e7a094f07b1901d95189c278e"
      }
     },
     "10dd03d1bb7542b683f0aec9cb4ec628": {
      "model_module": "jupyter-cytoscape",
      "model_module_version": "^1.2.2",
      "model_name": "EdgeModel",
      "state": {
       "_model_module_version": "^1.2.2",
       "_view_module_version": "^1.2.2",
       "classes": " directed  multiple_edges ",
       "data": {
        "id": "horsepower_acceleration",
        "source": "horsepower",
        "target": "acceleration"
       },
       "removed": true,
       "selectable": false
      }
     },
     "121b03b68c7f4193b237c93d4c823a53": {
      "model_module": "@jupyter-widgets/controls",
      "model_module_version": "1.5.0",
      "model_name": "ButtonModel",
      "state": {
       "description": "Change Direction",
       "disabled": true,
       "layout": "IPY_MODEL_f3c5e99a411b4b509ad5448870517fb5",
       "style": "IPY_MODEL_48aba4ed1f494263905a44633ea15b21"
      }
     },
     "12e7e4ee3fa04d61b44aa0db4ad00c3c": {
      "model_module": "@jupyter-widgets/controls",
      "model_module_version": "1.5.0",
      "model_name": "ButtonModel",
      "state": {
       "description": "red edges",
       "layout": "IPY_MODEL_cf0318474f00428f9e4b25eeef2fc394",
       "style": "IPY_MODEL_f9a949b503044e2fb6840e0cc2def4ec"
      }
     },
     "1389de3598c94394b568a510610db69a": {
      "model_module": "jupyter-cytoscape",
      "model_module_version": "^1.2.2",
      "model_name": "EdgeModel",
      "state": {
       "_model_module_version": "^1.2.2",
       "_view_module_version": "^1.2.2",
       "classes": " directed  multiple_edges ",
       "data": {
        "id": "horsepower_acceleration",
        "source": "horsepower",
        "target": "acceleration"
       },
       "removed": true,
       "selectable": false
      }
     },
     "13a5fe84ff3a438dbf9ffbfddef97556": {
      "model_module": "jupyter-cytoscape",
      "model_module_version": "^1.2.2",
      "model_name": "EdgeModel",
      "state": {
       "_model_module_version": "^1.2.2",
       "_view_module_version": "^1.2.2",
       "classes": " directed  multiple_edges ",
       "data": {
        "id": "displacement_weight",
        "source": "displacement",
        "target": "weight"
       },
       "selectable": false
      }
     },
     "143f534373f148d39a50985a0cea0282": {
      "model_module": "jupyter-cytoscape",
      "model_module_version": "^1.2.2",
      "model_name": "EdgeModel",
      "state": {
       "_model_module_version": "^1.2.2",
       "_view_module_version": "^1.2.2",
       "classes": " multiple_edges directed selected",
       "data": {
        "id": "origin_horsepower",
        "source": "origin",
        "target": "horsepower"
       },
       "removed": true,
       "selectable": false
      }
     },
     "1596348b69b549a3b0ee3eb070db27a3": {
      "model_module": "jupyter-cytoscape",
      "model_module_version": "^1.2.2",
      "model_name": "NodeModel",
      "state": {
       "_model_module_version": "^1.2.2",
       "_view_module_version": "^1.2.2",
       "data": {
        "id": "weight",
        "label": "weight"
       },
       "grabbable": true,
       "grabbed": false,
       "position": {
        "x": 1147.1038596983974,
        "y": 255.94921684087447
       },
       "selectable": false
      }
     },
     "15cae9869a8d49b7a5f98429615a16a8": {
      "model_module": "jupyter-cytoscape",
      "model_module_version": "^1.2.2",
      "model_name": "NodeModel",
      "state": {
       "_model_module_version": "^1.2.2",
       "_view_module_version": "^1.2.2",
       "data": {
        "id": "mpg",
        "label": "mpg"
       },
       "grabbable": true,
       "grabbed": false,
       "position": {
        "x": 1007.3215469105813,
        "y": 71.32636464484067
       },
       "removed": true,
       "selectable": false
      }
     },
     "15fd9236686041a4a9b635f61d21fa91": {
      "model_module": "jupyter-cytoscape",
      "model_module_version": "^1.2.2",
      "model_name": "EdgeModel",
      "state": {
       "_model_module_version": "^1.2.2",
       "_view_module_version": "^1.2.2",
       "classes": " directed  multiple_edges ",
       "data": {
        "id": "weight_mpg",
        "source": "weight",
        "target": "mpg"
       },
       "selectable": false
      }
     },
     "1646879dbf204354bd0e223367c9cadc": {
      "model_module": "jupyter-cytoscape",
      "model_module_version": "^1.2.2",
      "model_name": "EdgeModel",
      "state": {
       "_model_module_version": "^1.2.2",
       "_view_module_version": "^1.2.2",
       "classes": " directed  multiple_edges ",
       "data": {
        "id": "origin_horsepower",
        "source": "origin",
        "target": "horsepower"
       },
       "removed": true,
       "selectable": false
      }
     },
     "1646bdc20d1f4dddb143e7be868549d6": {
      "model_module": "jupyter-cytoscape",
      "model_module_version": "^1.2.2",
      "model_name": "NodeModel",
      "state": {
       "_model_module_version": "^1.2.2",
       "_view_module_version": "^1.2.2",
       "data": {
        "id": "weight",
        "label": "weight"
       },
       "grabbable": true,
       "grabbed": false,
       "position": {
        "x": 986.9397278953298,
        "y": 217.53500807231845
       },
       "removed": true,
       "selectable": false
      }
     },
     "16551df2ac5d468dbb563e082a3557e6": {
      "model_module": "jupyter-cytoscape",
      "model_module_version": "^1.2.2",
      "model_name": "NodeModel",
      "state": {
       "_model_module_version": "^1.2.2",
       "_view_module_version": "^1.2.2",
       "data": {
        "id": "horsepower",
        "label": "horsepower"
       },
       "grabbable": true,
       "grabbed": false,
       "position": {
        "x": 985.2260068647391,
        "y": 275.4799684084076
       },
       "removed": true,
       "selectable": false
      }
     },
     "185c8371d0124fc38b985e538a06ea74": {
      "model_module": "jupyter-cytoscape",
      "model_module_version": "^1.2.2",
      "model_name": "EdgeModel",
      "state": {
       "_model_module_version": "^1.2.2",
       "_view_module_version": "^1.2.2",
       "classes": " directed  multiple_edges ",
       "data": {
        "id": "weight_acceleration",
        "source": "weight",
        "target": "acceleration"
       },
       "removed": true,
       "selectable": false
      }
     },
     "189ed7e62b734682a0f90c5fba1ca5b1": {
      "model_module": "jupyter-cytoscape",
      "model_module_version": "^1.2.2",
      "model_name": "NodeModel",
      "state": {
       "_model_module_version": "^1.2.2",
       "_view_module_version": "^1.2.2",
       "data": {
        "id": "cylinders",
        "label": "cylinders"
       },
       "grabbable": true,
       "grabbed": false,
       "position": {
        "x": 983.0949511467562,
        "y": 298.226546468093
       },
       "removed": true,
       "selectable": false
      }
     },
     "18d63226e02546d0a563fa0fde67ae7e": {
      "model_module": "jupyter-cytoscape",
      "model_module_version": "^1.2.2",
      "model_name": "NodeModel",
      "state": {
       "_model_module_version": "^1.2.2",
       "_view_module_version": "^1.2.2",
       "data": {
        "id": "cylinders",
        "label": "cylinders"
       },
       "grabbable": true,
       "grabbed": false,
       "position": {
        "x": 865.4096034933356,
        "y": 304.1420619769289
       },
       "selectable": false
      }
     },
     "1ac7b7ff57644447839f8f12f95daab3": {
      "model_module": "@jupyter-widgets/base",
      "model_module_version": "1.2.0",
      "model_name": "LayoutModel",
      "state": {}
     },
     "1b3bc3865e774a24b92ecc55d27723fa": {
      "model_module": "jupyter-cytoscape",
      "model_module_version": "^1.2.2",
      "model_name": "NodeModel",
      "state": {
       "_model_module_version": "^1.2.2",
       "_view_module_version": "^1.2.2",
       "data": {
        "id": "cylinders",
        "label": "cylinders"
       },
       "grabbable": true,
       "grabbed": false,
       "position": {
        "x": 795.4474791279353,
        "y": 284.8240606871562
       },
       "removed": true,
       "selectable": false
      }
     },
     "1b7aa530853c4252a8b05440f14b088c": {
      "model_module": "@jupyter-widgets/base",
      "model_module_version": "1.2.0",
      "model_name": "LayoutModel",
      "state": {}
     },
     "1c753b22bdb846848048cc73d25b9f2b": {
      "model_module": "jupyter-cytoscape",
      "model_module_version": "^1.2.2",
      "model_name": "EdgeModel",
      "state": {
       "_model_module_version": "^1.2.2",
       "_view_module_version": "^1.2.2",
       "classes": " directed  multiple_edges ",
       "data": {
        "id": "weight_acceleration",
        "source": "weight",
        "target": "acceleration"
       },
       "removed": true,
       "selectable": false
      }
     },
     "1cc01959d29843d58397f9f49a9e2b6d": {
      "model_module": "jupyter-cytoscape",
      "model_module_version": "^1.2.2",
      "model_name": "NodeModel",
      "state": {
       "_model_module_version": "^1.2.2",
       "_view_module_version": "^1.2.2",
       "data": {
        "id": "origin",
        "label": "origin"
       },
       "grabbable": true,
       "grabbed": false,
       "position": {
        "x": 816.3397312291651,
        "y": 165.17939780635567
       },
       "removed": true,
       "selectable": false
      }
     },
     "1d14f107730a4536b505ae571f20cbee": {
      "model_module": "jupyter-cytoscape",
      "model_module_version": "^1.2.2",
      "model_name": "EdgeModel",
      "state": {
       "_model_module_version": "^1.2.2",
       "_view_module_version": "^1.2.2",
       "classes": " directed  multiple_edges ",
       "data": {
        "id": "origin_horsepower",
        "source": "origin",
        "target": "horsepower"
       },
       "removed": true,
       "selectable": false
      }
     },
     "1d8a7cfe301145798abccb5b502b232a": {
      "model_module": "jupyter-cytoscape",
      "model_module_version": "^1.2.2",
      "model_name": "EdgeModel",
      "state": {
       "_model_module_version": "^1.2.2",
       "_view_module_version": "^1.2.2",
       "classes": " directed  multiple_edges ",
       "data": {
        "id": "cylinders_displacement",
        "source": "cylinders",
        "target": "displacement"
       },
       "removed": true,
       "selectable": false
      }
     },
     "1d9b940bfa834a639888fc0f137ed5f4": {
      "model_module": "jupyter-cytoscape",
      "model_module_version": "^1.2.2",
      "model_name": "NodeModel",
      "state": {
       "_model_module_version": "^1.2.2",
       "_view_module_version": "^1.2.2",
       "data": {
        "id": "horsepower",
        "label": "horsepower"
       },
       "grabbable": true,
       "grabbed": false,
       "position": {
        "x": 1138.9604756153049,
        "y": 129.11663644100295
       },
       "selectable": false
      }
     },
     "1e6b693fa85c4738afbf9ccb3b232858": {
      "model_module": "jupyter-cytoscape",
      "model_module_version": "^1.2.2",
      "model_name": "NodeModel",
      "state": {
       "_model_module_version": "^1.2.2",
       "_view_module_version": "^1.2.2",
       "data": {
        "id": "origin",
        "label": "origin"
       },
       "grabbable": true,
       "grabbed": false,
       "position": {
        "x": 994.6486811751338,
        "y": 125.00565671664653
       },
       "removed": true,
       "selectable": false
      }
     },
     "1ef64ecfbe5040ff9cbdbe69ee5c82d1": {
      "model_module": "jupyter-cytoscape",
      "model_module_version": "^1.2.2",
      "model_name": "EdgeModel",
      "state": {
       "_model_module_version": "^1.2.2",
       "_view_module_version": "^1.2.2",
       "classes": " directed  multiple_edges ",
       "data": {
        "id": "cylinders_origin",
        "source": "cylinders",
        "target": "origin"
       },
       "removed": true,
       "selectable": false
      }
     },
     "1fdfb9d9b3ec44b5ba57f06efb267168": {
      "model_module": "jupyter-cytoscape",
      "model_module_version": "^1.2.2",
      "model_name": "EdgeModel",
      "state": {
       "_model_module_version": "^1.2.2",
       "_view_module_version": "^1.2.2",
       "classes": " directed  multiple_edges ",
       "data": {
        "id": "cylinders_origin",
        "source": "cylinders",
        "target": "origin"
       },
       "removed": true,
       "selectable": false
      }
     },
     "20b5129f370d400f9e2fbdcfec297d83": {
      "model_module": "jupyter-cytoscape",
      "model_module_version": "^1.2.2",
      "model_name": "EdgeModel",
      "state": {
       "_model_module_version": "^1.2.2",
       "_view_module_version": "^1.2.2",
       "classes": " directed  multiple_edges ",
       "data": {
        "id": "displacement_weight",
        "source": "displacement",
        "target": "weight"
       },
       "removed": true,
       "selectable": false
      }
     },
     "216e04f022e548e88ceab0964371ef3c": {
      "model_module": "jupyter-cytoscape",
      "model_module_version": "^1.2.2",
      "model_name": "NodeModel",
      "state": {
       "_model_module_version": "^1.2.2",
       "_view_module_version": "^1.2.2",
       "data": {
        "id": "displacement",
        "label": "displacement"
       },
       "grabbable": true,
       "grabbed": false,
       "position": {
        "x": 999.517130580014,
        "y": 153.02007757718562
       },
       "removed": true,
       "selectable": false
      }
     },
     "219f3c06d28041fbbf00b8fb52573784": {
      "model_module": "jupyter-cytoscape",
      "model_module_version": "^1.2.2",
      "model_name": "EdgeModel",
      "state": {
       "_model_module_version": "^1.2.2",
       "_view_module_version": "^1.2.2",
       "classes": " directed  multiple_edges ",
       "data": {
        "id": "weight_mpg",
        "source": "weight",
        "target": "mpg"
       },
       "removed": true,
       "selectable": false
      }
     },
     "2215a3d7e27141fa9233eaa2275e9750": {
      "model_module": "@jupyter-widgets/base",
      "model_module_version": "1.2.0",
      "model_name": "LayoutModel",
      "state": {}
     },
     "22586c5689d34248a0671ca2262b7d5d": {
      "model_module": "@jupyter-widgets/base",
      "model_module_version": "1.2.0",
      "model_name": "LayoutModel",
      "state": {}
     },
     "23be95104c1642ecae357fa60d5c3396": {
      "model_module": "jupyter-cytoscape",
      "model_module_version": "^1.2.2",
      "model_name": "EdgeModel",
      "state": {
       "_model_module_version": "^1.2.2",
       "_view_module_version": "^1.2.2",
       "classes": " directed  multiple_edges ",
       "data": {
        "id": "displacement_weight",
        "source": "displacement",
        "target": "weight"
       },
       "removed": true,
       "selectable": false
      }
     },
     "24409b48cff64f668e5f3dbb4c5860fd": {
      "model_module": "@jupyter-widgets/controls",
      "model_module_version": "1.5.0",
      "model_name": "ButtonStyleModel",
      "state": {}
     },
     "25ee1b9594b648579abf98ed09e04ae0": {
      "model_module": "jupyter-cytoscape",
      "model_module_version": "^1.2.2",
      "model_name": "NodeModel",
      "state": {
       "_model_module_version": "^1.2.2",
       "_view_module_version": "^1.2.2",
       "data": {
        "id": "weight",
        "label": "weight"
       },
       "grabbable": true,
       "grabbed": false,
       "position": {
        "x": 1103.5735798481062,
        "y": 193.80477019364324
       },
       "removed": true,
       "selectable": false
      }
     },
     "25f438de361f44c1a09871d18d0e6a3e": {
      "model_module": "jupyter-cytoscape",
      "model_module_version": "^1.2.2",
      "model_name": "EdgeModel",
      "state": {
       "_model_module_version": "^1.2.2",
       "_view_module_version": "^1.2.2",
       "classes": " directed  multiple_edges ",
       "data": {
        "id": "model_year_cylinders",
        "source": "model_year",
        "target": "cylinders"
       },
       "removed": true,
       "selectable": false
      }
     },
     "25f5a3d6633b43729e3841d8826763ea": {
      "model_module": "jupyter-cytoscape",
      "model_module_version": "^1.2.2",
      "model_name": "EdgeModel",
      "state": {
       "_model_module_version": "^1.2.2",
       "_view_module_version": "^1.2.2",
       "classes": " directed  multiple_edges ",
       "data": {
        "id": "displacement_weight",
        "source": "displacement",
        "target": "weight"
       },
       "removed": true,
       "selectable": false
      }
     },
     "2732c471452f425d8a39050d4d731e31": {
      "model_module": "jupyter-cytoscape",
      "model_module_version": "^1.2.2",
      "model_name": "NodeModel",
      "state": {
       "_model_module_version": "^1.2.2",
       "_view_module_version": "^1.2.2",
       "data": {
        "id": "displacement",
        "label": "displacement"
       },
       "grabbable": true,
       "grabbed": false,
       "position": {
        "x": 1085.3844640285313,
        "y": 259.456770322571
       },
       "removed": true,
       "selectable": false
      }
     },
     "27462951702e4a1eb599f37919f9b389": {
      "model_module": "jupyter-cytoscape",
      "model_module_version": "^1.2.2",
      "model_name": "EdgeModel",
      "state": {
       "_model_module_version": "^1.2.2",
       "_view_module_version": "^1.2.2",
       "classes": " directed  multiple_edges ",
       "data": {
        "id": "weight_mpg",
        "source": "weight",
        "target": "mpg"
       },
       "removed": true,
       "selectable": false
      }
     },
     "27eebab149ff4adb9a654646fb71ab9a": {
      "model_module": "jupyter-cytoscape",
      "model_module_version": "^1.2.2",
      "model_name": "NodeModel",
      "state": {
       "_model_module_version": "^1.2.2",
       "_view_module_version": "^1.2.2",
       "data": {
        "id": "acceleration",
        "label": "acceleration"
       },
       "grabbable": true,
       "grabbed": false,
       "position": {
        "x": 1101.656574071263,
        "y": 336.32518780799865
       },
       "selectable": false
      }
     },
     "284a5c80013c49229e3cbb1595774888": {
      "model_module": "jupyter-cytoscape",
      "model_module_version": "^1.2.2",
      "model_name": "EdgeModel",
      "state": {
       "_model_module_version": "^1.2.2",
       "_view_module_version": "^1.2.2",
       "classes": " directed  multiple_edges ",
       "data": {
        "id": "displacement_horsepower",
        "source": "displacement",
        "target": "horsepower"
       },
       "removed": true,
       "selectable": false
      }
     },
     "29ed17cf74284191a107228ca1be9330": {
      "model_module": "jupyter-cytoscape",
      "model_module_version": "^1.2.2",
      "model_name": "NodeModel",
      "state": {
       "_model_module_version": "^1.2.2",
       "_view_module_version": "^1.2.2",
       "data": {
        "id": "displacement",
        "label": "displacement"
       },
       "grabbable": true,
       "grabbed": false,
       "position": {
        "x": 852.1635333662903,
        "y": 245.7259067769174
       },
       "removed": true,
       "selectable": false
      }
     },
     "2aa0b5c80e3044bab8339056854594ad": {
      "model_module": "jupyter-cytoscape",
      "model_module_version": "^1.2.2",
      "model_name": "EdgeModel",
      "state": {
       "_model_module_version": "^1.2.2",
       "_view_module_version": "^1.2.2",
       "classes": " directed  multiple_edges ",
       "data": {
        "id": "model_year_mpg",
        "source": "model_year",
        "target": "mpg"
       },
       "removed": true,
       "selectable": false
      }
     },
     "2b1c58c3eb6744a1925d652c33a6b50f": {
      "model_module": "jupyter-cytoscape",
      "model_module_version": "^1.2.2",
      "model_name": "NodeModel",
      "state": {
       "_model_module_version": "^1.2.2",
       "_view_module_version": "^1.2.2",
       "data": {
        "id": "model_year",
        "label": "model_year"
       },
       "grabbable": true,
       "grabbed": false,
       "position": {
        "x": 1062.3412859858774,
        "y": 263.55132868320646
       },
       "selectable": false
      }
     },
     "2ba83cb1e5444f7dae2eabe9b6c58f95": {
      "model_module": "jupyter-cytoscape",
      "model_module_version": "^1.2.2",
      "model_name": "GraphModel",
      "state": {
       "_adj": {},
       "_model_module_version": "^1.2.2",
       "_view_module": "jupyter-cytoscape",
       "_view_module_version": "^1.2.2"
      }
     },
     "2bb75536566748fb8914491edd9f21eb": {
      "model_module": "jupyter-cytoscape",
      "model_module_version": "^1.2.2",
      "model_name": "EdgeModel",
      "state": {
       "_model_module_version": "^1.2.2",
       "_view_module_version": "^1.2.2",
       "classes": " directed  multiple_edges ",
       "data": {
        "id": "mpg_origin",
        "source": "mpg",
        "target": "origin"
       },
       "removed": true,
       "selectable": false
      }
     },
     "2c249d647f2344b5b6c5dac1d2f1f0a2": {
      "model_module": "@jupyter-widgets/controls",
      "model_module_version": "1.5.0",
      "model_name": "ButtonModel",
      "state": {
       "description": "Delete Edge",
       "disabled": true,
       "layout": "IPY_MODEL_0b060852cc624252bea388cb65e5ca0d",
       "style": "IPY_MODEL_a3df98ab9e224d3088a9219c756debc5"
      }
     },
     "2cbf562554e34bbab7278957839600bf": {
      "model_module": "jupyter-cytoscape",
      "model_module_version": "^1.2.2",
      "model_name": "EdgeModel",
      "state": {
       "_model_module_version": "^1.2.2",
       "_view_module_version": "^1.2.2",
       "classes": " multiple_edges directed",
       "data": {
        "id": "displacement_cylinders",
        "source": "displacement",
        "target": "cylinders"
       },
       "selectable": false
      }
     },
     "2df7e2a5334b41939ec303b4c792c2ab": {
      "model_module": "jupyter-cytoscape",
      "model_module_version": "^1.2.2",
      "model_name": "NodeModel",
      "state": {
       "_model_module_version": "^1.2.2",
       "_view_module_version": "^1.2.2",
       "data": {
        "id": "horsepower",
        "label": "horsepower"
       },
       "grabbable": true,
       "grabbed": false,
       "position": {
        "x": 1025.841052214569,
        "y": 298.37340003444973
       },
       "removed": true,
       "selectable": false
      }
     },
     "2e2055a81cfb49f992d4ad5fcffa38ac": {
      "model_module": "jupyter-cytoscape",
      "model_module_version": "^1.2.2",
      "model_name": "EdgeModel",
      "state": {
       "_model_module_version": "^1.2.2",
       "_view_module_version": "^1.2.2",
       "classes": " directed  multiple_edges ",
       "data": {
        "id": "mpg_origin",
        "source": "mpg",
        "target": "origin"
       },
       "removed": true,
       "selectable": false
      }
     },
     "2e6f93059d2d473aa8b6f6fbe64f3cfa": {
      "model_module": "jupyter-cytoscape",
      "model_module_version": "^1.2.2",
      "model_name": "NodeModel",
      "state": {
       "_model_module_version": "^1.2.2",
       "_view_module_version": "^1.2.2",
       "data": {
        "id": "weight",
        "label": "weight"
       },
       "grabbable": true,
       "grabbed": false,
       "position": {
        "x": 999.0697025418257,
        "y": 242.16850483824552
       },
       "removed": true,
       "selectable": false
      }
     },
     "2eb2e4ed21ca47dba28432e88ac39c63": {
      "model_module": "jupyter-cytoscape",
      "model_module_version": "^1.2.2",
      "model_name": "NodeModel",
      "state": {
       "_model_module_version": "^1.2.2",
       "_view_module_version": "^1.2.2",
       "data": {
        "id": "displacement",
        "label": "displacement"
       },
       "grabbable": true,
       "grabbed": false,
       "position": {
        "x": 1011.1635333662907,
        "y": 245.72590677691755
       },
       "removed": true,
       "selectable": false
      }
     },
     "2f0dc317dd10470d9adebfc3bbca3007": {
      "model_module": "jupyter-cytoscape",
      "model_module_version": "^1.2.2",
      "model_name": "EdgeModel",
      "state": {
       "_model_module_version": "^1.2.2",
       "_view_module_version": "^1.2.2",
       "classes": " multiple_edges directed selected",
       "data": {
        "id": "displacement_acceleration",
        "source": "displacement",
        "target": "acceleration"
       },
       "removed": true,
       "selectable": false
      }
     },
     "2f14beda1ce74bc9903291a21d18d286": {
      "model_module": "jupyter-cytoscape",
      "model_module_version": "^1.2.2",
      "model_name": "EdgeModel",
      "state": {
       "_model_module_version": "^1.2.2",
       "_view_module_version": "^1.2.2",
       "classes": " directed  multiple_edges ",
       "data": {
        "id": "displacement_origin",
        "source": "displacement",
        "target": "origin"
       },
       "selectable": false
      }
     },
     "2f5bedbfaa1c4045b60a7678726a5351": {
      "model_module": "jupyter-cytoscape",
      "model_module_version": "^1.2.2",
      "model_name": "EdgeModel",
      "state": {
       "_model_module_version": "^1.2.2",
       "_view_module_version": "^1.2.2",
       "classes": " directed  multiple_edges ",
       "data": {
        "id": "cylinders_origin",
        "source": "cylinders",
        "target": "origin"
       },
       "selectable": false
      }
     },
     "300fd957f6d4405395a73097a23bfb7b": {
      "model_module": "jupyter-cytoscape",
      "model_module_version": "^1.2.2",
      "model_name": "EdgeModel",
      "state": {
       "_model_module_version": "^1.2.2",
       "_view_module_version": "^1.2.2",
       "classes": " directed  multiple_edges ",
       "data": {
        "id": "origin_horsepower",
        "source": "origin",
        "target": "horsepower"
       },
       "selectable": false
      }
     },
     "303783e9a4fa49c0bec5ab0d6bb00bbd": {
      "model_module": "jupyter-cytoscape",
      "model_module_version": "^1.2.2",
      "model_name": "EdgeModel",
      "state": {
       "_model_module_version": "^1.2.2",
       "_view_module_version": "^1.2.2",
       "classes": " directed  multiple_edges ",
       "data": {
        "id": "mpg_origin",
        "source": "mpg",
        "target": "origin"
       },
       "selectable": false
      }
     },
     "3039f718e4364a17a1ddf569dbf9955f": {
      "model_module": "jupyter-cytoscape",
      "model_module_version": "^1.2.2",
      "model_name": "EdgeModel",
      "state": {
       "_model_module_version": "^1.2.2",
       "_view_module_version": "^1.2.2",
       "classes": " directed  multiple_edges ",
       "data": {
        "id": "weight_horsepower",
        "source": "weight",
        "target": "horsepower"
       },
       "removed": true,
       "selectable": false
      }
     },
     "30f23d89ffb249e89799b9073ca5660b": {
      "model_module": "jupyter-cytoscape",
      "model_module_version": "^1.2.2",
      "model_name": "NodeModel",
      "state": {
       "_model_module_version": "^1.2.2",
       "_view_module_version": "^1.2.2",
       "data": {
        "id": "acceleration",
        "label": "acceleration"
       },
       "grabbable": true,
       "grabbed": false,
       "position": {
        "x": 1077.6825976745754,
        "y": 47.20935510704543
       },
       "selectable": false
      }
     },
     "32549e991e3349cb87abfef888c8b2ba": {
      "model_module": "jupyter-cytoscape",
      "model_module_version": "^1.2.2",
      "model_name": "EdgeModel",
      "state": {
       "_model_module_version": "^1.2.2",
       "_view_module_version": "^1.2.2",
       "classes": " directed  multiple_edges ",
       "data": {
        "id": "displacement_acceleration",
        "source": "displacement",
        "target": "acceleration"
       },
       "selectable": false
      }
     },
     "33772bbdfc124b93b9272eb57b8aeb95": {
      "model_module": "jupyter-cytoscape",
      "model_module_version": "^1.2.2",
      "model_name": "NodeModel",
      "state": {
       "_model_module_version": "^1.2.2",
       "_view_module_version": "^1.2.2",
       "data": {
        "id": "mpg",
        "label": "mpg"
       },
       "grabbable": true,
       "grabbed": false,
       "position": {
        "x": 1106.7678640767556,
        "y": 108.70878986322505
       },
       "removed": true,
       "selectable": false
      }
     },
     "34065d5923f84af1bde75a015a03c214": {
      "model_module": "jupyter-cytoscape",
      "model_module_version": "^1.2.2",
      "model_name": "EdgeModel",
      "state": {
       "_model_module_version": "^1.2.2",
       "_view_module_version": "^1.2.2",
       "classes": " directed  multiple_edges ",
       "data": {
        "id": "model_year_acceleration",
        "source": "model_year",
        "target": "acceleration"
       },
       "selectable": false
      }
     },
     "37b86c36cbb14da495049e9cebe56835": {
      "model_module": "jupyter-cytoscape",
      "model_module_version": "^1.2.2",
      "model_name": "EdgeModel",
      "state": {
       "_model_module_version": "^1.2.2",
       "_view_module_version": "^1.2.2",
       "classes": " directed  multiple_edges ",
       "data": {
        "id": "model_year_cylinders",
        "source": "model_year",
        "target": "cylinders"
       },
       "removed": true,
       "selectable": false
      }
     },
     "3801fabfda1641c78e38aa19522da6cb": {
      "model_module": "jupyter-cytoscape",
      "model_module_version": "^1.2.2",
      "model_name": "NodeModel",
      "state": {
       "_model_module_version": "^1.2.2",
       "_view_module_version": "^1.2.2",
       "data": {
        "id": "mpg",
        "label": "mpg"
       },
       "grabbable": true,
       "grabbed": false,
       "position": {
        "x": 955.6135635422594,
        "y": 216.36709342445963
       },
       "selectable": false
      }
     },
     "3a26505315b2455ebaa664131bdf28ae": {
      "model_module": "jupyter-cytoscape",
      "model_module_version": "^1.2.2",
      "model_name": "EdgeModel",
      "state": {
       "_model_module_version": "^1.2.2",
       "_view_module_version": "^1.2.2",
       "classes": " directed  multiple_edges ",
       "data": {
        "id": "displacement_horsepower",
        "source": "displacement",
        "target": "horsepower"
       },
       "removed": true,
       "selectable": false
      }
     },
     "3ababb6d9d9c49e6a21e8acf1411457c": {
      "model_module": "jupyter-cytoscape",
      "model_module_version": "^1.2.2",
      "model_name": "GraphModel",
      "state": {
       "_adj": {
        "acceleration": {},
        "cylinders": {},
        "displacement": {},
        "horsepower": {},
        "model_year": {},
        "mpg": {},
        "origin": {},
        "weight": {}
       },
       "_model_module_version": "^1.2.2",
       "_view_module": "jupyter-cytoscape",
       "_view_module_version": "^1.2.2",
       "edges": [
        "IPY_MODEL_300fd957f6d4405395a73097a23bfb7b",
        "IPY_MODEL_9470d92433c7484595e90a91e1daadbf",
        "IPY_MODEL_579724e68f8343429f2f4b67fda6f4f1",
        "IPY_MODEL_32549e991e3349cb87abfef888c8b2ba",
        "IPY_MODEL_303783e9a4fa49c0bec5ab0d6bb00bbd",
        "IPY_MODEL_fe47907d1c1a40f2b230d6bd6507187e",
        "IPY_MODEL_15fd9236686041a4a9b635f61d21fa91",
        "IPY_MODEL_ac775bfa61e94198a0208d98b377df03",
        "IPY_MODEL_d526e82dd1e240168f23b4a037a517c5",
        "IPY_MODEL_2f14beda1ce74bc9903291a21d18d286",
        "IPY_MODEL_098cdb3efc174580afe2ee4869e77aed",
        "IPY_MODEL_865d7aa9e5db496db94d5fe41a0e87e0",
        "IPY_MODEL_e0e0ea1c267b499c96526addd3cd218a",
        "IPY_MODEL_3f1b496de4424f5584f88356b217fdde"
       ],
       "nodes": [
        "IPY_MODEL_c460ab0cb03748a8a65d9313754b3313",
        "IPY_MODEL_18d63226e02546d0a563fa0fde67ae7e",
        "IPY_MODEL_7f3efeb4467a442c833ce5a61a09bf5c",
        "IPY_MODEL_52ce25ac629d4df8852e1cb566860b0d",
        "IPY_MODEL_711dfdd396e5437ca20b9d495f7d9b7d",
        "IPY_MODEL_47f9d26460d945d98689a7161f0f7dec",
        "IPY_MODEL_5c8c05be00bd44bdb15d763b8349f946",
        "IPY_MODEL_e0fcfc55b93e45b9ade77ad3fb69f11f"
       ]
      }
     },
     "3b061e6be4764b34a330502ce23e7287": {
      "model_module": "jupyter-cytoscape",
      "model_module_version": "^1.2.2",
      "model_name": "NodeModel",
      "state": {
       "_model_module_version": "^1.2.2",
       "_view_module_version": "^1.2.2",
       "data": {
        "id": "acceleration",
        "label": "acceleration"
       },
       "grabbable": true,
       "grabbed": false,
       "position": {
        "x": 926.3377602020022,
        "y": 283.1085107794279
       },
       "removed": true,
       "selectable": false
      }
     },
     "3b391612768e48d3b8152719fdf5dcaa": {
      "model_module": "jupyter-cytoscape",
      "model_module_version": "^1.2.2",
      "model_name": "EdgeModel",
      "state": {
       "_model_module_version": "^1.2.2",
       "_view_module_version": "^1.2.2",
       "classes": " directed  multiple_edges ",
       "data": {
        "id": "model_year_cylinders",
        "source": "model_year",
        "target": "cylinders"
       },
       "removed": true,
       "selectable": false
      }
     },
     "3bb979e1f86742d7b7c101d5e2ba5de8": {
      "model_module": "jupyter-cytoscape",
      "model_module_version": "^1.2.2",
      "model_name": "NodeModel",
      "state": {
       "_model_module_version": "^1.2.2",
       "_view_module_version": "^1.2.2",
       "data": {
        "id": "origin",
        "label": "origin"
       },
       "grabbable": true,
       "grabbed": false,
       "position": {
        "x": 995.7354850880891,
        "y": 163.5432082464874
       },
       "selectable": false
      }
     },
     "3c49a87a7f134e71b9bf369036e057fc": {
      "model_module": "jupyter-cytoscape",
      "model_module_version": "^1.2.2",
      "model_name": "EdgeModel",
      "state": {
       "_model_module_version": "^1.2.2",
       "_view_module_version": "^1.2.2",
       "classes": " directed  multiple_edges ",
       "data": {
        "id": "model_year_mpg",
        "source": "model_year",
        "target": "mpg"
       },
       "removed": true,
       "selectable": false
      }
     },
     "3cc033f243a64872bba37325a7854fd1": {
      "model_module": "jupyter-cytoscape",
      "model_module_version": "^1.2.2",
      "model_name": "EdgeModel",
      "state": {
       "_model_module_version": "^1.2.2",
       "_view_module_version": "^1.2.2",
       "classes": " directed  multiple_edges ",
       "data": {
        "id": "weight_acceleration",
        "source": "weight",
        "target": "acceleration"
       },
       "selectable": false
      }
     },
     "3d345796aba143508d90050ad0c9ab89": {
      "model_module": "jupyter-cytoscape",
      "model_module_version": "^1.2.2",
      "model_name": "NodeModel",
      "state": {
       "_model_module_version": "^1.2.2",
       "_view_module_version": "^1.2.2",
       "data": {
        "id": "displacement",
        "label": "displacement"
       },
       "grabbable": true,
       "grabbed": false,
       "position": {
        "x": 1122.963051817975,
        "y": 234.49557778363055
       },
       "selectable": false
      }
     },
     "3d91bc063d564a08a7fcba3225c0451d": {
      "model_module": "jupyter-cytoscape",
      "model_module_version": "^1.2.2",
      "model_name": "EdgeModel",
      "state": {
       "_model_module_version": "^1.2.2",
       "_view_module_version": "^1.2.2",
       "classes": " directed  multiple_edges ",
       "data": {
        "id": "model_year_mpg",
        "source": "model_year",
        "target": "mpg"
       },
       "removed": true,
       "selectable": false
      }
     },
     "3f1b496de4424f5584f88356b217fdde": {
      "model_module": "jupyter-cytoscape",
      "model_module_version": "^1.2.2",
      "model_name": "EdgeModel",
      "state": {
       "_model_module_version": "^1.2.2",
       "_view_module_version": "^1.2.2",
       "classes": " directed  multiple_edges ",
       "data": {
        "id": "model_year_acceleration",
        "source": "model_year",
        "target": "acceleration"
       },
       "selectable": false
      }
     },
     "3f5bf264d23e479c9ae227ecf3fd8d54": {
      "model_module": "jupyter-cytoscape",
      "model_module_version": "^1.2.2",
      "model_name": "EdgeModel",
      "state": {
       "_model_module_version": "^1.2.2",
       "_view_module_version": "^1.2.2",
       "classes": " directed  multiple_edges ",
       "data": {
        "id": "weight_horsepower",
        "source": "weight",
        "target": "horsepower"
       },
       "removed": true,
       "selectable": false
      }
     },
     "3f70673dacb9445c82fa56a6328e3fb4": {
      "model_module": "jupyter-cytoscape",
      "model_module_version": "^1.2.2",
      "model_name": "EdgeModel",
      "state": {
       "_model_module_version": "^1.2.2",
       "_view_module_version": "^1.2.2",
       "classes": " multiple_edges directed selected",
       "data": {
        "id": "weight_horsepower",
        "source": "weight",
        "target": "horsepower"
       },
       "removed": true,
       "selectable": false
      }
     },
     "3fb445f76fde46c5971cb47518504fdf": {
      "model_module": "jupyter-cytoscape",
      "model_module_version": "^1.2.2",
      "model_name": "EdgeModel",
      "state": {
       "_model_module_version": "^1.2.2",
       "_view_module_version": "^1.2.2",
       "classes": " directed  multiple_edges ",
       "data": {
        "id": "displacement_acceleration",
        "source": "displacement",
        "target": "acceleration"
       },
       "selectable": false
      }
     },
     "4021cf13e2c6456f8e2d1283b7cfa056": {
      "model_module": "jupyter-cytoscape",
      "model_module_version": "^1.2.2",
      "model_name": "EdgeModel",
      "state": {
       "_model_module_version": "^1.2.2",
       "_view_module_version": "^1.2.2",
       "classes": " directed  multiple_edges ",
       "data": {
        "id": "displacement_weight",
        "source": "displacement",
        "target": "weight"
       },
       "removed": true,
       "selectable": false
      }
     },
     "407938960760482dac7264b0681bd1fe": {
      "model_module": "jupyter-cytoscape",
      "model_module_version": "^1.2.2",
      "model_name": "EdgeModel",
      "state": {
       "_model_module_version": "^1.2.2",
       "_view_module_version": "^1.2.2",
       "classes": " directed  multiple_edges ",
       "data": {
        "id": "weight_horsepower",
        "source": "weight",
        "target": "horsepower"
       },
       "selectable": false
      }
     },
     "40d89b8b397747a7bd13e309cb5d804f": {
      "model_module": "jupyter-cytoscape",
      "model_module_version": "^1.2.2",
      "model_name": "EdgeModel",
      "state": {
       "_model_module_version": "^1.2.2",
       "_view_module_version": "^1.2.2",
       "classes": " directed  multiple_edges ",
       "data": {
        "id": "weight_mpg",
        "source": "weight",
        "target": "mpg"
       },
       "removed": true,
       "selectable": false
      }
     },
     "410c040e7a094f07b1901d95189c278e": {
      "model_module": "@jupyter-widgets/controls",
      "model_module_version": "1.5.0",
      "model_name": "ButtonStyleModel",
      "state": {}
     },
     "415c9bf415b04d5fa1f48c880bb29f11": {
      "model_module": "jupyter-cytoscape",
      "model_module_version": "^1.2.2",
      "model_name": "EdgeModel",
      "state": {
       "_model_module_version": "^1.2.2",
       "_view_module_version": "^1.2.2",
       "classes": " multiple_edges directed selected",
       "data": {
        "id": "displacement_cylinders",
        "source": "displacement",
        "target": "cylinders"
       },
       "removed": true,
       "selectable": false
      }
     },
     "41f42276e9994a33a8142e00fcad3d27": {
      "model_module": "jupyter-cytoscape",
      "model_module_version": "^1.2.2",
      "model_name": "NodeModel",
      "state": {
       "_model_module_version": "^1.2.2",
       "_view_module_version": "^1.2.2",
       "classes": " selected",
       "data": {
        "id": "origin",
        "label": "origin"
       },
       "grabbable": true,
       "grabbed": false,
       "position": {
        "x": 879.7666441638345,
        "y": 146.56432876855445
       },
       "removed": true,
       "selectable": false
      }
     },
     "421fd104ecff4cb39a574e9fe092f2cc": {
      "model_module": "@jupyter-widgets/base",
      "model_module_version": "1.2.0",
      "model_name": "LayoutModel",
      "state": {}
     },
     "430f03ce0c584a9bbd14290cff30f3f3": {
      "model_module": "jupyter-cytoscape",
      "model_module_version": "^1.2.2",
      "model_name": "NodeModel",
      "state": {
       "_model_module_version": "^1.2.2",
       "_view_module_version": "^1.2.2",
       "data": {
        "id": "acceleration",
        "label": "acceleration"
       },
       "grabbable": true,
       "grabbed": false,
       "position": {
        "x": 1101.656574071263,
        "y": 336.32518780799865
       },
       "selectable": false
      }
     },
     "4461d26f384a41598654f014b044cf87": {
      "model_module": "jupyter-cytoscape",
      "model_module_version": "^1.2.2",
      "model_name": "EdgeModel",
      "state": {
       "_model_module_version": "^1.2.2",
       "_view_module_version": "^1.2.2",
       "classes": " directed  multiple_edges ",
       "data": {
        "id": "displacement_horsepower",
        "source": "displacement",
        "target": "horsepower"
       },
       "removed": true,
       "selectable": false
      }
     },
     "4470edfc47f047f09d1a2f62b79c62b6": {
      "model_module": "jupyter-cytoscape",
      "model_module_version": "^1.2.2",
      "model_name": "EdgeModel",
      "state": {
       "_model_module_version": "^1.2.2",
       "_view_module_version": "^1.2.2",
       "classes": " directed  multiple_edges ",
       "data": {
        "id": "weight_mpg",
        "source": "weight",
        "target": "mpg"
       },
       "removed": true,
       "selectable": false
      }
     },
     "447e3e9561fb4729a3c80e318a20a38e": {
      "model_module": "jupyter-cytoscape",
      "model_module_version": "^1.2.2",
      "model_name": "EdgeModel",
      "state": {
       "_model_module_version": "^1.2.2",
       "_view_module_version": "^1.2.2",
       "classes": " directed  multiple_edges ",
       "data": {
        "id": "weight_mpg",
        "source": "weight",
        "target": "mpg"
       },
       "removed": true,
       "selectable": false
      }
     },
     "44d1d78d8ba944b893e666f167537be5": {
      "model_module": "jupyter-cytoscape",
      "model_module_version": "^1.2.2",
      "model_name": "NodeModel",
      "state": {
       "_model_module_version": "^1.2.2",
       "_view_module_version": "^1.2.2",
       "data": {
        "id": "acceleration",
        "label": "acceleration"
       },
       "grabbable": true,
       "grabbed": false,
       "position": {
        "x": 902.7877854533126,
        "y": 217.71133730014526
       },
       "removed": true,
       "selectable": false
      }
     },
     "44dccf7f818b4b60b1f3292d3abdc516": {
      "model_module": "jupyter-cytoscape",
      "model_module_version": "^1.2.2",
      "model_name": "NodeModel",
      "state": {
       "_model_module_version": "^1.2.2",
       "_view_module_version": "^1.2.2",
       "data": {
        "id": "cylinders",
        "label": "cylinders"
       },
       "grabbable": true,
       "grabbed": false,
       "position": {
        "x": 775.9465824813514,
        "y": 205.0060797335974
       },
       "removed": true,
       "selectable": false
      }
     },
     "4525305c7f0d4d189b337f689a8b62e2": {
      "model_module": "jupyter-cytoscape",
      "model_module_version": "^1.2.2",
      "model_name": "NodeModel",
      "state": {
       "_model_module_version": "^1.2.2",
       "_view_module_version": "^1.2.2",
       "data": {
        "id": "cylinders",
        "label": "cylinders"
       },
       "grabbable": true,
       "grabbed": false,
       "position": {
        "x": 876.9334855975536,
        "y": 156.90277540592135
       },
       "removed": true,
       "selectable": false
      }
     },
     "46182fb44fb14cd8966b09ee65df1e20": {
      "model_module": "jupyter-cytoscape",
      "model_module_version": "^1.2.2",
      "model_name": "NodeModel",
      "state": {
       "_model_module_version": "^1.2.2",
       "_view_module_version": "^1.2.2",
       "data": {
        "id": "mpg",
        "label": "mpg"
       },
       "grabbable": true,
       "grabbed": false,
       "position": {
        "x": 1096.7177770115388,
        "y": 302.20819241606057
       },
       "removed": true,
       "selectable": false
      }
     },
     "46a490cb08ed4d44b3abee0afa8162ae": {
      "model_module": "jupyter-cytoscape",
      "model_module_version": "^1.2.2",
      "model_name": "EdgeModel",
      "state": {
       "_model_module_version": "^1.2.2",
       "_view_module_version": "^1.2.2",
       "classes": " directed  multiple_edges ",
       "data": {
        "id": "mpg_origin",
        "source": "mpg",
        "target": "origin"
       },
       "selectable": false
      }
     },
     "46e4cfe4a8d04e82bbb26dbf5679b279": {
      "model_module": "jupyter-cytoscape",
      "model_module_version": "^1.2.2",
      "model_name": "EdgeModel",
      "state": {
       "_model_module_version": "^1.2.2",
       "_view_module_version": "^1.2.2",
       "classes": " directed  multiple_edges ",
       "data": {
        "id": "displacement_cylinders",
        "source": "displacement",
        "target": "cylinders"
       },
       "selectable": false
      }
     },
     "470f3a558ae040338cf32c880c4a4f78": {
      "model_module": "jupyter-cytoscape",
      "model_module_version": "^1.2.2",
      "model_name": "EdgeModel",
      "state": {
       "_model_module_version": "^1.2.2",
       "_view_module_version": "^1.2.2",
       "classes": " directed  multiple_edges ",
       "data": {
        "id": "displacement_weight",
        "source": "displacement",
        "target": "weight"
       },
       "removed": true,
       "selectable": false
      }
     },
     "4721c346f9f94caba2a8b271ad8c9324": {
      "model_module": "jupyter-cytoscape",
      "model_module_version": "^1.2.2",
      "model_name": "NodeModel",
      "state": {
       "_model_module_version": "^1.2.2",
       "_view_module_version": "^1.2.2",
       "data": {
        "id": "acceleration",
        "label": "acceleration"
       },
       "grabbable": true,
       "grabbed": false,
       "position": {
        "x": 927.8950936473672,
        "y": 113.47198858381655
       },
       "removed": true,
       "selectable": false
      }
     },
     "474895d42a7646208ac076942758625d": {
      "model_module": "jupyter-cytoscape",
      "model_module_version": "^1.2.2",
      "model_name": "EdgeModel",
      "state": {
       "_model_module_version": "^1.2.2",
       "_view_module_version": "^1.2.2",
       "classes": " directed  multiple_edges ",
       "data": {
        "id": "model_year_weight",
        "source": "model_year",
        "target": "weight"
       },
       "removed": true,
       "selectable": false
      }
     },
     "475345fdecc64b29a518c8bce2aa5974": {
      "model_module": "@jupyter-widgets/base",
      "model_module_version": "1.2.0",
      "model_name": "LayoutModel",
      "state": {}
     },
     "47f9d26460d945d98689a7161f0f7dec": {
      "model_module": "jupyter-cytoscape",
      "model_module_version": "^1.2.2",
      "model_name": "NodeModel",
      "state": {
       "_model_module_version": "^1.2.2",
       "_view_module_version": "^1.2.2",
       "data": {
        "id": "acceleration",
        "label": "acceleration"
       },
       "grabbable": true,
       "grabbed": false,
       "position": {
        "x": 942.4838916846435,
        "y": 248.19614833533706
       },
       "selectable": false
      }
     },
     "480f1ac253c64dbf951b36930dfc2ad7": {
      "model_module": "jupyter-cytoscape",
      "model_module_version": "^1.2.2",
      "model_name": "NodeModel",
      "state": {
       "_model_module_version": "^1.2.2",
       "_view_module_version": "^1.2.2",
       "data": {
        "id": "model_year",
        "label": "model_year"
       },
       "grabbable": true,
       "grabbed": false,
       "position": {
        "x": 1061.1635343662906,
        "y": 225.07364057090456
       },
       "removed": true,
       "selectable": false
      }
     },
     "48aba4ed1f494263905a44633ea15b21": {
      "model_module": "@jupyter-widgets/controls",
      "model_module_version": "1.5.0",
      "model_name": "ButtonStyleModel",
      "state": {}
     },
     "48f1119c5aad4791b1d5b54f3d5966a7": {
      "model_module": "jupyter-cytoscape",
      "model_module_version": "^1.2.2",
      "model_name": "EdgeModel",
      "state": {
       "_model_module_version": "^1.2.2",
       "_view_module_version": "^1.2.2",
       "classes": " directed  multiple_edges ",
       "data": {
        "id": "model_year_acceleration",
        "source": "model_year",
        "target": "acceleration"
       },
       "selectable": false
      }
     },
     "490d25fb8dcc4cad993be7ce54c6556c": {
      "model_module": "jupyter-cytoscape",
      "model_module_version": "^1.2.2",
      "model_name": "NodeModel",
      "state": {
       "_model_module_version": "^1.2.2",
       "_view_module_version": "^1.2.2",
       "data": {
        "id": "cylinders",
        "label": "cylinders"
       },
       "grabbable": true,
       "grabbed": false,
       "position": {
        "x": 1211.4480042822054,
        "y": 94.92194520656436
       },
       "removed": true,
       "selectable": false
      }
     },
     "497dd7a2ce5a41f88067548a58586bf9": {
      "model_module": "jupyter-cytoscape",
      "model_module_version": "^1.2.2",
      "model_name": "EdgeModel",
      "state": {
       "_model_module_version": "^1.2.2",
       "_view_module_version": "^1.2.2",
       "classes": " directed  multiple_edges ",
       "data": {
        "id": "model_year_weight",
        "source": "model_year",
        "target": "weight"
       },
       "removed": true,
       "selectable": false
      }
     },
     "49f8ce8eb81f4daeafd7974935ce2ebc": {
      "model_module": "@jupyter-widgets/controls",
      "model_module_version": "1.5.0",
      "model_name": "ButtonStyleModel",
      "state": {}
     },
     "4a7fb9f9ae464eb6b2058d3e37fd1a65": {
      "model_module": "jupyter-cytoscape",
      "model_module_version": "^1.2.2",
      "model_name": "EdgeModel",
      "state": {
       "_model_module_version": "^1.2.2",
       "_view_module_version": "^1.2.2",
       "classes": " multiple_edges directed selected",
       "data": {
        "id": "displacement_cylinders",
        "source": "displacement",
        "target": "cylinders"
       },
       "removed": true,
       "selectable": false
      }
     },
     "4b5059c8a3974a469081990137a839fe": {
      "model_module": "jupyter-cytoscape",
      "model_module_version": "^1.2.2",
      "model_name": "EdgeModel",
      "state": {
       "_model_module_version": "^1.2.2",
       "_view_module_version": "^1.2.2",
       "classes": " directed  multiple_edges ",
       "data": {
        "id": "displacement_acceleration",
        "source": "displacement",
        "target": "acceleration"
       },
       "selectable": false
      }
     },
     "4b93df360a1745de999c0712cedd47d8": {
      "model_module": "jupyter-cytoscape",
      "model_module_version": "^1.2.2",
      "model_name": "EdgeModel",
      "state": {
       "_model_module_version": "^1.2.2",
       "_view_module_version": "^1.2.2",
       "classes": " directed  multiple_edges ",
       "data": {
        "id": "displacement_origin",
        "source": "displacement",
        "target": "origin"
       },
       "removed": true,
       "selectable": false
      }
     },
     "4d18a48c9f7e46e29b759c9a707614c0": {
      "model_module": "jupyter-cytoscape",
      "model_module_version": "^1.2.2",
      "model_name": "EdgeModel",
      "state": {
       "_model_module_version": "^1.2.2",
       "_view_module_version": "^1.2.2",
       "classes": " directed  multiple_edges ",
       "data": {
        "id": "horsepower_acceleration",
        "source": "horsepower",
        "target": "acceleration"
       },
       "removed": true,
       "selectable": false
      }
     },
     "4e6a4e1b1f0142f89104793893efbd53": {
      "model_module": "jupyter-cytoscape",
      "model_module_version": "^1.2.2",
      "model_name": "NodeModel",
      "state": {
       "_model_module_version": "^1.2.2",
       "_view_module_version": "^1.2.2",
       "data": {
        "id": "horsepower",
        "label": "horsepower"
       },
       "grabbable": true,
       "grabbed": false,
       "position": {
        "x": 1138.9175363353618,
        "y": 130.08830671230896
       },
       "removed": true,
       "selectable": false
      }
     },
     "4e818cd409ca41a6a4c8caef50f99630": {
      "model_module": "jupyter-cytoscape",
      "model_module_version": "^1.2.2",
      "model_name": "EdgeModel",
      "state": {
       "_model_module_version": "^1.2.2",
       "_view_module_version": "^1.2.2",
       "classes": " directed  multiple_edges ",
       "data": {
        "id": "displacement_weight",
        "source": "displacement",
        "target": "weight"
       },
       "removed": true,
       "selectable": false
      }
     },
     "4eff10c02c9743b4a2d94d11eefd56db": {
      "model_module": "jupyter-cytoscape",
      "model_module_version": "^1.2.2",
      "model_name": "EdgeModel",
      "state": {
       "_model_module_version": "^1.2.2",
       "_view_module_version": "^1.2.2",
       "classes": " directed  multiple_edges ",
       "data": {
        "id": "displacement_horsepower",
        "source": "displacement",
        "target": "horsepower"
       },
       "removed": true,
       "selectable": false
      }
     },
     "4f8002eb1b8140939afe4cb77731d65a": {
      "model_module": "jupyter-cytoscape",
      "model_module_version": "^1.2.2",
      "model_name": "NodeModel",
      "state": {
       "_model_module_version": "^1.2.2",
       "_view_module_version": "^1.2.2",
       "data": {
        "id": "cylinders",
        "label": "cylinders"
       },
       "grabbable": true,
       "grabbed": false,
       "position": {
        "x": 1155.021483268408,
        "y": 142.06929145474962
       },
       "removed": true,
       "selectable": false
      }
     },
     "4fa90d7635af49a18c758f036bba648e": {
      "model_module": "jupyter-cytoscape",
      "model_module_version": "^1.2.2",
      "model_name": "EdgeModel",
      "state": {
       "_model_module_version": "^1.2.2",
       "_view_module_version": "^1.2.2",
       "classes": " directed  multiple_edges ",
       "data": {
        "id": "weight_mpg",
        "source": "weight",
        "target": "mpg"
       },
       "removed": true,
       "selectable": false
      }
     },
     "507b2d6b95a343c98e3d9ee65c47d1f6": {
      "model_module": "jupyter-cytoscape",
      "model_module_version": "^1.2.2",
      "model_name": "EdgeModel",
      "state": {
       "_model_module_version": "^1.2.2",
       "_view_module_version": "^1.2.2",
       "classes": " directed  multiple_edges ",
       "data": {
        "id": "displacement_weight",
        "source": "displacement",
        "target": "weight"
       },
       "removed": true,
       "selectable": false
      }
     },
     "518ce7071ff0419dab96e7365dbd39a7": {
      "model_module": "jupyter-cytoscape",
      "model_module_version": "^1.2.2",
      "model_name": "NodeModel",
      "state": {
       "_model_module_version": "^1.2.2",
       "_view_module_version": "^1.2.2",
       "data": {
        "id": "horsepower",
        "label": "horsepower"
       },
       "grabbable": true,
       "grabbed": false,
       "position": {
        "x": 1082.0624766836083,
        "y": 213.55132768320644
       },
       "selectable": false
      }
     },
     "52663e9201534f7ca5fca87dad87e8ad": {
      "model_module": "jupyter-cytoscape",
      "model_module_version": "^1.2.2",
      "model_name": "NodeModel",
      "state": {
       "_model_module_version": "^1.2.2",
       "_view_module_version": "^1.2.2",
       "data": {
        "id": "model_year",
        "label": "model_year"
       },
       "grabbable": true,
       "grabbed": false,
       "position": {
        "x": 931.6671251363705,
        "y": 291.97441008777105
       },
       "removed": true,
       "selectable": false
      }
     },
     "52ce25ac629d4df8852e1cb566860b0d": {
      "model_module": "jupyter-cytoscape",
      "model_module_version": "^1.2.2",
      "model_name": "NodeModel",
      "state": {
       "_model_module_version": "^1.2.2",
       "_view_module_version": "^1.2.2",
       "data": {
        "id": "horsepower",
        "label": "horsepower"
       },
       "grabbable": true,
       "grabbed": false,
       "position": {
        "x": 996.0596300944776,
        "y": 121.83656973705018
       },
       "selectable": false
      }
     },
     "530b07754e4046c69fc0f1e56639d431": {
      "model_module": "jupyter-cytoscape",
      "model_module_version": "^1.2.2",
      "model_name": "NodeModel",
      "state": {
       "_model_module_version": "^1.2.2",
       "_view_module_version": "^1.2.2",
       "data": {
        "id": "displacement",
        "label": "displacement"
       },
       "grabbable": true,
       "grabbed": false,
       "position": {
        "x": 1072.1704455004149,
        "y": 122.8319500227866
       },
       "removed": true,
       "selectable": false
      }
     },
     "5329df6328a040cd996daa3fcba67557": {
      "model_module": "jupyter-cytoscape",
      "model_module_version": "^1.2.2",
      "model_name": "NodeModel",
      "state": {
       "_model_module_version": "^1.2.2",
       "_view_module_version": "^1.2.2",
       "data": {
        "id": "model_year",
        "label": "model_year"
       },
       "grabbable": true,
       "grabbed": false,
       "position": {
        "x": 1120.7663095110008,
        "y": 121.71500337514466
       },
       "removed": true,
       "selectable": false
      }
     },
     "532fb37aef8e45eea122f8e330d72f1d": {
      "model_module": "@jupyter-widgets/base",
      "model_module_version": "1.2.0",
      "model_name": "LayoutModel",
      "state": {}
     },
     "537d0b819df6430cbc5c4f124db52ca7": {
      "model_module": "jupyter-cytoscape",
      "model_module_version": "^1.2.2",
      "model_name": "EdgeModel",
      "state": {
       "_model_module_version": "^1.2.2",
       "_view_module_version": "^1.2.2",
       "classes": " directed  multiple_edges ",
       "data": {
        "id": "model_year_cylinders",
        "source": "model_year",
        "target": "cylinders"
       },
       "removed": true,
       "selectable": false
      }
     },
     "5525d8e2114d4263ad7dbe784c64f7c7": {
      "model_module": "jupyter-cytoscape",
      "model_module_version": "^1.2.2",
      "model_name": "EdgeModel",
      "state": {
       "_model_module_version": "^1.2.2",
       "_view_module_version": "^1.2.2",
       "classes": " multiple_edges directed selected",
       "data": {
        "id": "model_year_weight",
        "source": "model_year",
        "target": "weight"
       },
       "removed": true,
       "selectable": false
      }
     },
     "5585272ad29c436e9b99fdf982bd7d2d": {
      "model_module": "jupyter-cytoscape",
      "model_module_version": "^1.2.2",
      "model_name": "NodeModel",
      "state": {
       "_model_module_version": "^1.2.2",
       "_view_module_version": "^1.2.2",
       "data": {
        "id": "origin",
        "label": "origin"
       },
       "grabbable": true,
       "grabbed": false,
       "position": {
        "x": 835.6486811751338,
        "y": 125.00565671664633
       },
       "removed": true,
       "selectable": false
      }
     },
     "5703ea1dd7d64f599dd1d8f1da8c8fd8": {
      "model_module": "jupyter-cytoscape",
      "model_module_version": "^1.2.2",
      "model_name": "EdgeModel",
      "state": {
       "_model_module_version": "^1.2.2",
       "_view_module_version": "^1.2.2",
       "classes": " directed  multiple_edges ",
       "data": {
        "id": "horsepower_acceleration",
        "source": "horsepower",
        "target": "acceleration"
       },
       "selectable": false
      }
     },
     "577ba87413394264a18724c752ff1806": {
      "model_module": "jupyter-cytoscape",
      "model_module_version": "^1.2.2",
      "model_name": "NodeModel",
      "state": {
       "_model_module_version": "^1.2.2",
       "_view_module_version": "^1.2.2",
       "data": {
        "id": "weight",
        "label": "weight"
       },
       "grabbable": true,
       "grabbed": false,
       "position": {
        "x": 1006.2156055621695,
        "y": 186.95709111700785
       },
       "removed": true,
       "selectable": false
      }
     },
     "579724e68f8343429f2f4b67fda6f4f1": {
      "model_module": "jupyter-cytoscape",
      "model_module_version": "^1.2.2",
      "model_name": "EdgeModel",
      "state": {
       "_model_module_version": "^1.2.2",
       "_view_module_version": "^1.2.2",
       "classes": " directed  multiple_edges ",
       "data": {
        "id": "model_year_weight",
        "source": "model_year",
        "target": "weight"
       },
       "selectable": false
      }
     },
     "58b26e58c0264b5380545d8677a3d7f9": {
      "model_module": "jupyter-cytoscape",
      "model_module_version": "^1.2.2",
      "model_name": "NodeModel",
      "state": {
       "_model_module_version": "^1.2.2",
       "_view_module_version": "^1.2.2",
       "data": {
        "id": "mpg",
        "label": "mpg"
       },
       "grabbable": true,
       "grabbed": false,
       "position": {
        "x": 1137.3958195070682,
        "y": 288.98297694818405
       },
       "removed": true,
       "selectable": false
      }
     },
     "59f0f42d17914e9a86ff127733c4b690": {
      "model_module": "jupyter-cytoscape",
      "model_module_version": "^1.2.2",
      "model_name": "EdgeModel",
      "state": {
       "_model_module_version": "^1.2.2",
       "_view_module_version": "^1.2.2",
       "classes": " directed  multiple_edges ",
       "data": {
        "id": "cylinders_origin",
        "source": "cylinders",
        "target": "origin"
       },
       "removed": true,
       "selectable": false
      }
     },
     "5ac5474ad98642a3847181c456b2a77c": {
      "model_module": "jupyter-cytoscape",
      "model_module_version": "^1.2.2",
      "model_name": "EdgeModel",
      "state": {
       "_model_module_version": "^1.2.2",
       "_view_module_version": "^1.2.2",
       "classes": " directed  multiple_edges ",
       "data": {
        "id": "displacement_origin",
        "source": "displacement",
        "target": "origin"
       },
       "removed": true,
       "selectable": false
      }
     },
     "5b903768c8f548b7a3add89f7f4be4f3": {
      "model_module": "@jupyter-widgets/base",
      "model_module_version": "1.2.0",
      "model_name": "LayoutModel",
      "state": {}
     },
     "5c1be6222528490ea43ba6e8adbe90e3": {
      "model_module": "jupyter-cytoscape",
      "model_module_version": "^1.2.2",
      "model_name": "NodeModel",
      "state": {
       "_model_module_version": "^1.2.2",
       "_view_module_version": "^1.2.2",
       "data": {
        "id": "displacement",
        "label": "displacement"
       },
       "grabbable": true,
       "grabbed": false,
       "position": {
        "x": 1094.8764463949644,
        "y": 228.64104694410887
       },
       "removed": true,
       "selectable": false
      }
     },
     "5c8c05be00bd44bdb15d763b8349f946": {
      "model_module": "jupyter-cytoscape",
      "model_module_version": "^1.2.2",
      "model_name": "NodeModel",
      "state": {
       "_model_module_version": "^1.2.2",
       "_view_module_version": "^1.2.2",
       "data": {
        "id": "model_year",
        "label": "model_year"
       },
       "grabbable": true,
       "grabbed": false,
       "position": {
        "x": 804.5132278920127,
        "y": 248.63329912079755
       },
       "selectable": false
      }
     },
     "5ce12578ec79472a92bc6ea642071c9b": {
      "model_module": "jupyter-cytoscape",
      "model_module_version": "^1.2.2",
      "model_name": "EdgeModel",
      "state": {
       "_model_module_version": "^1.2.2",
       "_view_module_version": "^1.2.2",
       "classes": " directed  multiple_edges ",
       "data": {
        "id": "model_year_weight",
        "source": "model_year",
        "target": "weight"
       },
       "removed": true,
       "selectable": false
      }
     },
     "5d46a4f6880946ea9d0bf910d35ff889": {
      "model_module": "@jupyter-widgets/controls",
      "model_module_version": "1.5.0",
      "model_name": "ButtonStyleModel",
      "state": {}
     },
     "5d57db94d852459d829de4f870c3c3ed": {
      "model_module": "jupyter-cytoscape",
      "model_module_version": "^1.2.2",
      "model_name": "GraphModel",
      "state": {
       "_adj": {},
       "_model_module_version": "^1.2.2",
       "_view_module": "jupyter-cytoscape",
       "_view_module_version": "^1.2.2"
      }
     },
     "5d7838fbfff24a42b079168818720608": {
      "model_module": "jupyter-cytoscape",
      "model_module_version": "^1.2.2",
      "model_name": "NodeModel",
      "state": {
       "_model_module_version": "^1.2.2",
       "_view_module_version": "^1.2.2",
       "data": {
        "id": "mpg",
        "label": "mpg"
       },
       "grabbable": true,
       "grabbed": false,
       "position": {
        "x": 1107.840943621376,
        "y": 147.15280318553766
       },
       "selectable": false
      }
     },
     "5e5b2bbfec7842b7ad08324b92bbfa31": {
      "model_module": "jupyter-cytoscape",
      "model_module_version": "^1.2.2",
      "model_name": "EdgeModel",
      "state": {
       "_model_module_version": "^1.2.2",
       "_view_module_version": "^1.2.2",
       "classes": " directed  multiple_edges ",
       "data": {
        "id": "displacement_origin",
        "source": "displacement",
        "target": "origin"
       },
       "removed": true,
       "selectable": false
      }
     },
     "5e8680893a1043ca948793fab85f4d27": {
      "model_module": "jupyter-cytoscape",
      "model_module_version": "^1.2.2",
      "model_name": "EdgeModel",
      "state": {
       "_model_module_version": "^1.2.2",
       "_view_module_version": "^1.2.2",
       "classes": " directed  multiple_edges ",
       "data": {
        "id": "cylinders_displacement",
        "source": "cylinders",
        "target": "displacement"
       },
       "removed": true,
       "selectable": false
      }
     },
     "6075e57243514404baa591976abbd01b": {
      "model_module": "jupyter-cytoscape",
      "model_module_version": "^1.2.2",
      "model_name": "NodeModel",
      "state": {
       "_model_module_version": "^1.2.2",
       "_view_module_version": "^1.2.2",
       "data": {
        "id": "weight",
        "label": "weight"
       },
       "grabbable": true,
       "grabbed": false,
       "position": {
        "x": 932.5932912450652,
        "y": 200.93208570003227
       },
       "removed": true,
       "selectable": false
      }
     },
     "60aab14a79d74e6b894e7018d3a8ba5f": {
      "model_module": "@jupyter-widgets/base",
      "model_module_version": "1.2.0",
      "model_name": "LayoutModel",
      "state": {}
     },
     "610fab3e226a4a3c96852495b5c00126": {
      "model_module": "jupyter-cytoscape",
      "model_module_version": "^1.2.2",
      "model_name": "EdgeModel",
      "state": {
       "_model_module_version": "^1.2.2",
       "_view_module_version": "^1.2.2",
       "classes": " directed  multiple_edges ",
       "data": {
        "id": "cylinders_displacement",
        "source": "cylinders",
        "target": "displacement"
       },
       "removed": true,
       "selectable": false
      }
     },
     "620ca7b0b258456b8fd9e20609f436d2": {
      "model_module": "@jupyter-widgets/controls",
      "model_module_version": "1.5.0",
      "model_name": "ButtonModel",
      "state": {
       "description": "red edges",
       "layout": "IPY_MODEL_f12c3ef7295c41f3ad6326d8f5a38469",
       "style": "IPY_MODEL_040a5ceb0ab64840b5caa090eea26d8a"
      }
     },
     "6277c813a9914aefb92afec0aba31ee8": {
      "model_module": "jupyter-cytoscape",
      "model_module_version": "^1.2.2",
      "model_name": "EdgeModel",
      "state": {
       "_model_module_version": "^1.2.2",
       "_view_module_version": "^1.2.2",
       "classes": " directed  multiple_edges ",
       "data": {
        "id": "displacement_acceleration",
        "source": "displacement",
        "target": "acceleration"
       },
       "removed": true,
       "selectable": false
      }
     },
     "62b31ee09de546799f99068fda52120c": {
      "model_module": "jupyter-cytoscape",
      "model_module_version": "^1.2.2",
      "model_name": "GraphModel",
      "state": {
       "_adj": {},
       "_model_module_version": "^1.2.2",
       "_view_module": "jupyter-cytoscape",
       "_view_module_version": "^1.2.2"
      }
     },
     "62b6621480874ca4a0db1db80a74e109": {
      "model_module": "@jupyter-widgets/controls",
      "model_module_version": "1.5.0",
      "model_name": "ButtonModel",
      "state": {
       "description": "Add Edge",
       "layout": "IPY_MODEL_2215a3d7e27141fa9233eaa2275e9750",
       "style": "IPY_MODEL_d5bcc1110758475bad251291020bf078"
      }
     },
     "62f7675d6bc141ee865d8ef8055f3482": {
      "model_module": "jupyter-cytoscape",
      "model_module_version": "^1.2.2",
      "model_name": "EdgeModel",
      "state": {
       "_model_module_version": "^1.2.2",
       "_view_module_version": "^1.2.2",
       "classes": " directed  multiple_edges ",
       "data": {
        "id": "mpg_origin",
        "source": "mpg",
        "target": "origin"
       },
       "selectable": false
      }
     },
     "630d71c01f1944fa9361183b4b8d42b9": {
      "model_module": "jupyter-cytoscape",
      "model_module_version": "^1.2.2",
      "model_name": "EdgeModel",
      "state": {
       "_model_module_version": "^1.2.2",
       "_view_module_version": "^1.2.2",
       "classes": " directed  multiple_edges ",
       "data": {
        "id": "displacement_origin",
        "source": "displacement",
        "target": "origin"
       },
       "selectable": false
      }
     },
     "655a8b2dee2f4ad092b6289639b1eef6": {
      "model_module": "jupyter-cytoscape",
      "model_module_version": "^1.2.2",
      "model_name": "NodeModel",
      "state": {
       "_model_module_version": "^1.2.2",
       "_view_module_version": "^1.2.2",
       "data": {
        "id": "origin",
        "label": "origin"
       },
       "grabbable": true,
       "grabbed": false,
       "position": {
        "x": 1124.8858077337452,
        "y": 206.81610165996514
       },
       "removed": true,
       "selectable": false
      }
     },
     "6608909bf1e248c4985eb5367519645f": {
      "model_module": "jupyter-cytoscape",
      "model_module_version": "^1.2.2",
      "model_name": "EdgeModel",
      "state": {
       "_model_module_version": "^1.2.2",
       "_view_module_version": "^1.2.2",
       "classes": " directed  multiple_edges ",
       "data": {
        "id": "horsepower_acceleration",
        "source": "horsepower",
        "target": "acceleration"
       },
       "removed": true,
       "selectable": false
      }
     },
     "665083201ed9407f93b5d3b14438aa65": {
      "model_module": "jupyter-cytoscape",
      "model_module_version": "^1.2.2",
      "model_name": "NodeModel",
      "state": {
       "_model_module_version": "^1.2.2",
       "_view_module_version": "^1.2.2",
       "data": {
        "id": "weight",
        "label": "weight"
       },
       "grabbable": true,
       "grabbed": false,
       "position": {
        "x": 1001.2459093809197,
        "y": 201.4968140342165
       },
       "removed": true,
       "selectable": false
      }
     },
     "66e7faefc3544e689075e76966be1477": {
      "model_module": "jupyter-cytoscape",
      "model_module_version": "^1.2.2",
      "model_name": "NodeModel",
      "state": {
       "_model_module_version": "^1.2.2",
       "_view_module_version": "^1.2.2",
       "data": {
        "id": "cylinders",
        "label": "cylinders"
       },
       "grabbable": true,
       "grabbed": false,
       "position": {
        "x": 1197.308236085646,
        "y": 189.40014585444058
       },
       "removed": true,
       "selectable": false
      }
     },
     "676a96fc33d04865803c13be1c651e1a": {
      "model_module": "jupyter-cytoscape",
      "model_module_version": "^1.2.2",
      "model_name": "EdgeModel",
      "state": {
       "_model_module_version": "^1.2.2",
       "_view_module_version": "^1.2.2",
       "classes": " directed  multiple_edges ",
       "data": {
        "id": "origin_displacement",
        "source": "origin",
        "target": "displacement"
       },
       "selectable": false
      }
     },
     "68eae8418f4f45ab93e6a927f457284a": {
      "model_module": "jupyter-cytoscape",
      "model_module_version": "^1.2.2",
      "model_name": "EdgeModel",
      "state": {
       "_model_module_version": "^1.2.2",
       "_view_module_version": "^1.2.2",
       "classes": " directed  multiple_edges ",
       "data": {
        "id": "weight_acceleration",
        "source": "weight",
        "target": "acceleration"
       },
       "removed": true,
       "selectable": false
      }
     },
     "69eb6f43cee9470fb792c190c3ee27c6": {
      "model_module": "@jupyter-widgets/base",
      "model_module_version": "1.2.0",
      "model_name": "LayoutModel",
      "state": {}
     },
     "6a21a422ed6349dc9a023312182765e6": {
      "model_module": "jupyter-cytoscape",
      "model_module_version": "^1.2.2",
      "model_name": "EdgeModel",
      "state": {
       "_model_module_version": "^1.2.2",
       "_view_module_version": "^1.2.2",
       "classes": " directed  multiple_edges ",
       "data": {
        "id": "cylinders_origin",
        "source": "cylinders",
        "target": "origin"
       },
       "removed": true,
       "selectable": false
      }
     },
     "6ac0db0cebb14af6a2f9c8022cdb64a8": {
      "model_module": "jupyter-cytoscape",
      "model_module_version": "^1.2.2",
      "model_name": "GraphModel",
      "state": {
       "_adj": {
        "acceleration": {},
        "cylinders": {},
        "displacement": {},
        "horsepower": {},
        "model_year": {},
        "mpg": {},
        "origin": {},
        "weight": {}
       },
       "_model_module_version": "^1.2.2",
       "_view_module": "jupyter-cytoscape",
       "_view_module_version": "^1.2.2",
       "edges": [
        "IPY_MODEL_8799fc92d42246babdc07918d6277ecd",
        "IPY_MODEL_10149b7f0b504e9fa46a69db42c877fb",
        "IPY_MODEL_036fb26f8f16458dbe9f1ec81f1857de",
        "IPY_MODEL_4b5059c8a3974a469081990137a839fe",
        "IPY_MODEL_46e4cfe4a8d04e82bbb26dbf5679b279",
        "IPY_MODEL_62f7675d6bc141ee865d8ef8055f3482",
        "IPY_MODEL_899aee2388914423a0fafa2578f6ca8a",
        "IPY_MODEL_08cdc8f884494e919d1c2de9b85b9827",
        "IPY_MODEL_13a5fe84ff3a438dbf9ffbfddef97556",
        "IPY_MODEL_f056a2a5800e4148ad6ba28b99ca86a4",
        "IPY_MODEL_c3f04863d62a45d4b113cf843f7d0d6c",
        "IPY_MODEL_5703ea1dd7d64f599dd1d8f1da8c8fd8",
        "IPY_MODEL_908d75b9581145ac85d78be24dfe499d",
        "IPY_MODEL_b8ef5eac2ac549ec93130233c8f1663a",
        "IPY_MODEL_7f93c932b234448d886d91b7b1d2da52",
        "IPY_MODEL_b5996ea1abb94b69b3cc692c36aa777d"
       ],
       "nodes": [
        "IPY_MODEL_5d7838fbfff24a42b079168818720608",
        "IPY_MODEL_cf34ee7514b44cf8923f1d3cb81f4644",
        "IPY_MODEL_8f36876a9f544f428bd6829468f9f706",
        "IPY_MODEL_f04e3e968e434e90b4a10db659581b0a",
        "IPY_MODEL_1596348b69b549a3b0ee3eb070db27a3",
        "IPY_MODEL_980f0ec808cd4190841a00d01fe0c503",
        "IPY_MODEL_fb32ef47583047b4a0396d2ed4f9a3ce",
        "IPY_MODEL_3bb979e1f86742d7b7c101d5e2ba5de8"
       ]
      }
     },
     "6ae25e268826481b894da4eba6e6bd8f": {
      "model_module": "jupyter-cytoscape",
      "model_module_version": "^1.2.2",
      "model_name": "EdgeModel",
      "state": {
       "_model_module_version": "^1.2.2",
       "_view_module_version": "^1.2.2",
       "classes": " directed  multiple_edges ",
       "data": {
        "id": "weight_acceleration",
        "source": "weight",
        "target": "acceleration"
       },
       "removed": true,
       "selectable": false
      }
     },
     "6ba1a8c0b5ed4fa7b6821cbed65cacf0": {
      "model_module": "jupyter-cytoscape",
      "model_module_version": "^1.2.2",
      "model_name": "EdgeModel",
      "state": {
       "_model_module_version": "^1.2.2",
       "_view_module_version": "^1.2.2",
       "classes": " directed  multiple_edges ",
       "data": {
        "id": "displacement_weight",
        "source": "displacement",
        "target": "weight"
       },
       "selectable": false
      }
     },
     "6d145afe08aa4cbcab8bde0f93f8cded": {
      "model_module": "jupyter-cytoscape",
      "model_module_version": "^1.2.2",
      "model_name": "NodeModel",
      "state": {
       "_model_module_version": "^1.2.2",
       "_view_module_version": "^1.2.2",
       "data": {
        "id": "acceleration",
        "label": "acceleration"
       },
       "grabbable": true,
       "grabbed": false,
       "position": {
        "x": 949.771147017378,
        "y": 309.5141415464861
       },
       "removed": true,
       "selectable": false
      }
     },
     "6e7b25d192e84220a021378f7bd40105": {
      "model_module": "jupyter-cytoscape",
      "model_module_version": "^1.2.2",
      "model_name": "NodeModel",
      "state": {
       "_model_module_version": "^1.2.2",
       "_view_module_version": "^1.2.2",
       "data": {
        "id": "model_year",
        "label": "model_year"
       },
       "grabbable": true,
       "grabbed": false,
       "position": {
        "x": 1053.3235217616482,
        "y": 103.23513984885882
       },
       "removed": true,
       "selectable": false
      }
     },
     "6ec0bf5682554ab088c67eb46685f94b": {
      "model_module": "jupyter-cytoscape",
      "model_module_version": "^1.2.2",
      "model_name": "EdgeModel",
      "state": {
       "_model_module_version": "^1.2.2",
       "_view_module_version": "^1.2.2",
       "classes": " directed  multiple_edges ",
       "data": {
        "id": "cylinders_origin",
        "source": "cylinders",
        "target": "origin"
       },
       "selectable": false
      }
     },
     "6ed4639ff52047d6aa7f84c4de2a6670": {
      "model_module": "jupyter-cytoscape",
      "model_module_version": "^1.2.2",
      "model_name": "NodeModel",
      "state": {
       "_model_module_version": "^1.2.2",
       "_view_module_version": "^1.2.2",
       "data": {
        "id": "model_year",
        "label": "model_year"
       },
       "grabbable": true,
       "grabbed": false,
       "position": {
        "x": 1090.6235584425165,
        "y": 304.50880183903524
       },
       "removed": true,
       "selectable": false
      }
     },
     "6ed688c9a05b433aba75582c0e0508b5": {
      "model_module": "jupyter-cytoscape",
      "model_module_version": "^1.2.2",
      "model_name": "NodeModel",
      "state": {
       "_model_module_version": "^1.2.2",
       "_view_module_version": "^1.2.2",
       "data": {
        "id": "displacement",
        "label": "displacement"
       },
       "grabbable": true,
       "grabbed": false,
       "position": {
        "x": 1108.5391808306642,
        "y": 239.63542869275298
       },
       "removed": true,
       "selectable": false
      }
     },
     "6f0cce71cad34ebb9975fef12c6ff9bb": {
      "model_module": "@jupyter-widgets/controls",
      "model_module_version": "1.5.0",
      "model_name": "ButtonModel",
      "state": {
       "description": "Delete Edge",
       "disabled": true,
       "layout": "IPY_MODEL_22586c5689d34248a0671ca2262b7d5d",
       "style": "IPY_MODEL_f417428a1a7c4e08bf6eac752dd3673b"
      }
     },
     "6f76c99d1b7b4d15ba82969658e2c7c3": {
      "model_module": "jupyter-cytoscape",
      "model_module_version": "^1.2.2",
      "model_name": "EdgeModel",
      "state": {
       "_model_module_version": "^1.2.2",
       "_view_module_version": "^1.2.2",
       "classes": " directed  multiple_edges ",
       "data": {
        "id": "displacement_weight",
        "source": "displacement",
        "target": "weight"
       },
       "selectable": false
      }
     },
     "6f80b1c08246436f8e033b6a62616d9f": {
      "model_module": "jupyter-cytoscape",
      "model_module_version": "^1.2.2",
      "model_name": "NodeModel",
      "state": {
       "_model_module_version": "^1.2.2",
       "_view_module_version": "^1.2.2",
       "data": {
        "id": "horsepower",
        "label": "horsepower"
       },
       "grabbable": true,
       "grabbed": false,
       "position": {
        "x": 1051.6899400698933,
        "y": 108.15022200919425
       },
       "removed": true,
       "selectable": false
      }
     },
     "6fa7f7404fbb44349dcf19ab1ba934c0": {
      "model_module": "@jupyter-widgets/controls",
      "model_module_version": "1.5.0",
      "model_name": "ButtonModel",
      "state": {
       "description": "Change Direction",
       "disabled": true,
       "layout": "IPY_MODEL_888b1bcd4c2c47f39397915182a0f5a4",
       "style": "IPY_MODEL_88c32bc4305740d9b8741d399725ceb6"
      }
     },
     "7025b8572d2048a5822440ed60d91dc1": {
      "model_module": "jupyter-cytoscape",
      "model_module_version": "^1.2.2",
      "model_name": "EdgeModel",
      "state": {
       "_model_module_version": "^1.2.2",
       "_view_module_version": "^1.2.2",
       "classes": " directed  multiple_edges ",
       "data": {
        "id": "weight_mpg",
        "source": "weight",
        "target": "mpg"
       },
       "selectable": false
      }
     },
     "708ec94b8f164d869cd9da2d891deb2c": {
      "model_module": "jupyter-cytoscape",
      "model_module_version": "^1.2.2",
      "model_name": "NodeModel",
      "state": {
       "_model_module_version": "^1.2.2",
       "_view_module_version": "^1.2.2",
       "data": {
        "id": "origin",
        "label": "origin"
       },
       "grabbable": true,
       "grabbed": false,
       "position": {
        "x": 1182.5495131495384,
        "y": 292.94097428218225
       },
       "removed": true,
       "selectable": false
      }
     },
     "70bab8e5f21e46af94b276b3435d597a": {
      "model_module": "jupyter-cytoscape",
      "model_module_version": "^1.2.2",
      "model_name": "NodeModel",
      "state": {
       "_model_module_version": "^1.2.2",
       "_view_module_version": "^1.2.2",
       "data": {
        "id": "weight",
        "label": "weight"
       },
       "grabbable": true,
       "grabbed": false,
       "position": {
        "x": 1145.93972789533,
        "y": 217.53500807231828
       },
       "removed": true,
       "selectable": false
      }
     },
     "70c69ea28c194b368503ca4e29882436": {
      "model_module": "@jupyter-widgets/base",
      "model_module_version": "1.2.0",
      "model_name": "LayoutModel",
      "state": {}
     },
     "711dfdd396e5437ca20b9d495f7d9b7d": {
      "model_module": "jupyter-cytoscape",
      "model_module_version": "^1.2.2",
      "model_name": "NodeModel",
      "state": {
       "_model_module_version": "^1.2.2",
       "_view_module_version": "^1.2.2",
       "data": {
        "id": "weight",
        "label": "weight"
       },
       "grabbable": true,
       "grabbed": false,
       "position": {
        "x": 870.1672697172313,
        "y": 196.3661108897683
       },
       "selectable": false
      }
     },
     "71d7275950d44692b03ce8fc6ae4c389": {
      "model_module": "jupyter-cytoscape",
      "model_module_version": "^1.2.2",
      "model_name": "NodeModel",
      "state": {
       "_model_module_version": "^1.2.2",
       "_view_module_version": "^1.2.2",
       "data": {
        "id": "displacement",
        "label": "displacement"
       },
       "grabbable": true,
       "grabbed": false,
       "position": {
        "x": 1122.9794911612553,
        "y": 235.47690353458026
       },
       "removed": true,
       "selectable": false
      }
     },
     "71dcea7c29c24ce29c9535b5fce5e669": {
      "model_module": "jupyter-cytoscape",
      "model_module_version": "^1.2.2",
      "model_name": "EdgeModel",
      "state": {
       "_model_module_version": "^1.2.2",
       "_view_module_version": "^1.2.2",
       "classes": " directed  multiple_edges ",
       "data": {
        "id": "weight_horsepower",
        "source": "weight",
        "target": "horsepower"
       },
       "removed": true,
       "selectable": false
      }
     },
     "722359fd24184c3fbc64cb4e9baee4fd": {
      "model_module": "jupyter-cytoscape",
      "model_module_version": "^1.2.2",
      "model_name": "EdgeModel",
      "state": {
       "_model_module_version": "^1.2.2",
       "_view_module_version": "^1.2.2",
       "classes": " directed  multiple_edges ",
       "data": {
        "id": "displacement_cylinders",
        "source": "displacement",
        "target": "cylinders"
       },
       "removed": true,
       "selectable": false
      }
     },
     "7252a1d7112a43cdbc352ea6bd48a5ed": {
      "model_module": "jupyter-cytoscape",
      "model_module_version": "^1.2.2",
      "model_name": "NodeModel",
      "state": {
       "_model_module_version": "^1.2.2",
       "_view_module_version": "^1.2.2",
       "data": {
        "id": "mpg",
        "label": "mpg"
       },
       "grabbable": true,
       "grabbed": false,
       "position": {
        "x": 947.7678640767557,
        "y": 108.70878986322515
       },
       "removed": true,
       "selectable": false
      }
     },
     "7277b5bb1d844fd7bdd2244be22f4f48": {
      "model_module": "jupyter-cytoscape",
      "model_module_version": "^1.2.2",
      "model_name": "NodeModel",
      "state": {
       "_model_module_version": "^1.2.2",
       "_view_module_version": "^1.2.2",
       "data": {
        "id": "cylinders",
        "label": "cylinders"
       },
       "grabbable": true,
       "grabbed": false,
       "position": {
        "x": 934.9465824813515,
        "y": 205.00607973359783
       },
       "removed": true,
       "selectable": false
      }
     },
     "72caca24c87e4b9a8a59b8788e395bde": {
      "model_module": "jupyter-cytoscape",
      "model_module_version": "^1.2.2",
      "model_name": "NodeModel",
      "state": {
       "_model_module_version": "^1.2.2",
       "_view_module_version": "^1.2.2",
       "data": {
        "id": "cylinders",
        "label": "cylinders"
       },
       "grabbable": true,
       "grabbed": false,
       "position": {
        "x": 1172.929687821065,
        "y": 205.56560651866562
       },
       "removed": true,
       "selectable": false
      }
     },
     "73c8e14253624bda817ebddfee9abdb4": {
      "model_module": "@jupyter-widgets/controls",
      "model_module_version": "1.5.0",
      "model_name": "ButtonStyleModel",
      "state": {}
     },
     "746a3b33650540aabdca7fec66c239a5": {
      "model_module": "jupyter-cytoscape",
      "model_module_version": "^1.2.2",
      "model_name": "EdgeModel",
      "state": {
       "_model_module_version": "^1.2.2",
       "_view_module_version": "^1.2.2",
       "classes": " directed  multiple_edges ",
       "data": {
        "id": "mpg_origin",
        "source": "mpg",
        "target": "origin"
       },
       "removed": true,
       "selectable": false
      }
     },
     "747b7deebf7643ab93c34f8415841e5d": {
      "model_module": "jupyter-cytoscape",
      "model_module_version": "^1.2.2",
      "model_name": "NodeModel",
      "state": {
       "_model_module_version": "^1.2.2",
       "_view_module_version": "^1.2.2",
       "data": {
        "id": "displacement",
        "label": "displacement"
       },
       "grabbable": true,
       "grabbed": false,
       "position": {
        "x": 886.7977086062543,
        "y": 111.57769669549509
       },
       "removed": true,
       "selectable": false
      }
     },
     "749ab961068b4c55957f4808e2c4ce77": {
      "model_module": "jupyter-cytoscape",
      "model_module_version": "^1.2.2",
      "model_name": "EdgeModel",
      "state": {
       "_model_module_version": "^1.2.2",
       "_view_module_version": "^1.2.2",
       "classes": " directed  multiple_edges ",
       "data": {
        "id": "displacement_acceleration",
        "source": "displacement",
        "target": "acceleration"
       },
       "selectable": false
      }
     },
     "75a4ebc0f81c49dfa6142edf5e57ca0a": {
      "model_module": "jupyter-cytoscape",
      "model_module_version": "^1.2.2",
      "model_name": "EdgeModel",
      "state": {
       "_model_module_version": "^1.2.2",
       "_view_module_version": "^1.2.2",
       "classes": " directed  multiple_edges ",
       "data": {
        "id": "cylinders_origin",
        "source": "cylinders",
        "target": "origin"
       },
       "removed": true,
       "selectable": false
      }
     },
     "77caa6eb471148c4b335b2e546049970": {
      "model_module": "jupyter-cytoscape",
      "model_module_version": "^1.2.2",
      "model_name": "NodeModel",
      "state": {
       "_model_module_version": "^1.2.2",
       "_view_module_version": "^1.2.2",
       "data": {
        "id": "acceleration",
        "label": "acceleration"
       },
       "grabbable": true,
       "grabbed": false,
       "position": {
        "x": 941.4340330361487,
        "y": 297.87127869548596
       },
       "removed": true,
       "selectable": false
      }
     },
     "79bfb549bb83480aa3954f9f4cd545b8": {
      "model_module": "jupyter-cytoscape",
      "model_module_version": "^1.2.2",
      "model_name": "EdgeModel",
      "state": {
       "_model_module_version": "^1.2.2",
       "_view_module_version": "^1.2.2",
       "classes": " directed  multiple_edges ",
       "data": {
        "id": "cylinders_origin",
        "source": "cylinders",
        "target": "origin"
       },
       "removed": true,
       "selectable": false
      }
     },
     "79e32f3aeb684528be5eee00da515487": {
      "model_module": "jupyter-cytoscape",
      "model_module_version": "^1.2.2",
      "model_name": "EdgeModel",
      "state": {
       "_model_module_version": "^1.2.2",
       "_view_module_version": "^1.2.2",
       "classes": " directed  multiple_edges ",
       "data": {
        "id": "origin_mpg",
        "source": "origin",
        "target": "mpg"
       },
       "removed": true,
       "selectable": false
      }
     },
     "7a70b7048a6140809524ac88be899653": {
      "model_module": "jupyter-cytoscape",
      "model_module_version": "^1.2.2",
      "model_name": "EdgeModel",
      "state": {
       "_model_module_version": "^1.2.2",
       "_view_module_version": "^1.2.2",
       "classes": " directed  multiple_edges ",
       "data": {
        "id": "horsepower_weight",
        "source": "horsepower",
        "target": "weight"
       },
       "selectable": false
      }
     },
     "7b113a41306e44cdbb7b5f9164367959": {
      "model_module": "jupyter-cytoscape",
      "model_module_version": "^1.2.2",
      "model_name": "EdgeModel",
      "state": {
       "_model_module_version": "^1.2.2",
       "_view_module_version": "^1.2.2",
       "classes": " directed  multiple_edges ",
       "data": {
        "id": "weight_acceleration",
        "source": "weight",
        "target": "acceleration"
       },
       "removed": true,
       "selectable": false
      }
     },
     "7b519d2dcaa0455eb364b24345e224c3": {
      "model_module": "jupyter-cytoscape",
      "model_module_version": "^1.2.2",
      "model_name": "EdgeModel",
      "state": {
       "_model_module_version": "^1.2.2",
       "_view_module_version": "^1.2.2",
       "classes": " directed  multiple_edges ",
       "data": {
        "id": "displacement_origin",
        "source": "displacement",
        "target": "origin"
       },
       "selectable": false
      }
     },
     "7bb9c3eeb9db420a93acf5196b7a9781": {
      "model_module": "jupyter-cytoscape",
      "model_module_version": "^1.2.2",
      "model_name": "EdgeModel",
      "state": {
       "_model_module_version": "^1.2.2",
       "_view_module_version": "^1.2.2",
       "classes": " directed  multiple_edges ",
       "data": {
        "id": "model_year_mpg",
        "source": "model_year",
        "target": "mpg"
       },
       "removed": true,
       "selectable": false
      }
     },
     "7c7f6576ef5b43c2badd97bbc88972ba": {
      "model_module": "jupyter-cytoscape",
      "model_module_version": "^1.2.2",
      "model_name": "EdgeModel",
      "state": {
       "_model_module_version": "^1.2.2",
       "_view_module_version": "^1.2.2",
       "classes": " directed  multiple_edges ",
       "data": {
        "id": "model_year_acceleration",
        "source": "model_year",
        "target": "acceleration"
       },
       "removed": true,
       "selectable": false
      }
     },
     "7d968b4621f24db1b6b4a94bdcd76949": {
      "model_module": "jupyter-cytoscape",
      "model_module_version": "^1.2.2",
      "model_name": "EdgeModel",
      "state": {
       "_model_module_version": "^1.2.2",
       "_view_module_version": "^1.2.2",
       "classes": " directed  multiple_edges ",
       "data": {
        "id": "displacement_origin",
        "source": "displacement",
        "target": "origin"
       },
       "removed": true,
       "selectable": false
      }
     },
     "7dbb6e23f79a433a9a69f78a76c64152": {
      "model_module": "jupyter-cytoscape",
      "model_module_version": "^1.2.2",
      "model_name": "NodeModel",
      "state": {
       "_model_module_version": "^1.2.2",
       "_view_module_version": "^1.2.2",
       "data": {
        "id": "origin",
        "label": "origin"
       },
       "grabbable": true,
       "grabbed": false,
       "position": {
        "x": 995.7354850880891,
        "y": 163.5432082464874
       },
       "selectable": false
      }
     },
     "7dff380ec9c3477c8b81eeabf53143cb": {
      "model_module": "jupyter-cytoscape",
      "model_module_version": "^1.2.2",
      "model_name": "NodeModel",
      "state": {
       "_model_module_version": "^1.2.2",
       "_view_module_version": "^1.2.2",
       "data": {
        "id": "mpg",
        "label": "mpg"
       },
       "grabbable": true,
       "grabbed": false,
       "position": {
        "x": 955.2066734201571,
        "y": 105.54893593216563
       },
       "removed": true,
       "selectable": false
      }
     },
     "7e0d88885af748e097ab39738f174dfa": {
      "model_module": "jupyter-cytoscape",
      "model_module_version": "^1.2.2",
      "model_name": "EdgeModel",
      "state": {
       "_model_module_version": "^1.2.2",
       "_view_module_version": "^1.2.2",
       "classes": " directed  multiple_edges ",
       "data": {
        "id": "model_year_mpg",
        "source": "model_year",
        "target": "mpg"
       },
       "selectable": false
      }
     },
     "7e4359f945814bcdb93450dcfaf87baa": {
      "model_module": "@jupyter-widgets/output",
      "model_module_version": "1.0.0",
      "model_name": "OutputModel",
      "state": {
       "layout": "IPY_MODEL_69eb6f43cee9470fb792c190c3ee27c6",
       "outputs": [
        {
         "name": "stdout",
         "output_type": "stream",
         "text": "selected: {'id': 'model_year_acceleration',\n 'source': 'model_year',\n 'target': 'acceleration'}\nremoving: {'id': 'model_year_acceleration',\n 'source': 'model_year',\n 'target': 'acceleration'}\nselected: {'id': 'displacement_acceleration',\n 'source': 'displacement',\n 'target': 'acceleration'}\nremoving: {'id': 'displacement_acceleration',\n 'source': 'displacement',\n 'target': 'acceleration'}\nselected: {'id': 'origin_horsepower', 'source': 'origin', 'target': 'horsepower'}\nremoving: {'id': 'origin_horsepower', 'source': 'origin', 'target': 'horsepower'}\nselected: {'id': 'mpg', 'label': 'mpg'}\nselected: {'id': 'mpg_origin', 'source': 'mpg', 'target': 'origin'}\nremoving: {'id': 'mpg_origin', 'source': 'mpg', 'target': 'origin'}\nselected: {'id': 'displacement_cylinders',\n 'source': 'displacement',\n 'target': 'cylinders'}\nedge with new direction: {'id': 'cylinders_displacement',\n 'source': 'cylinders',\n 'target': 'displacement'}\nselected: {'id': 'cylinders_origin', 'source': 'cylinders', 'target': 'origin'}\nremoving: {'id': 'cylinders_origin', 'source': 'cylinders', 'target': 'origin'}\nselected: {'id': 'origin', 'label': 'origin'}\nselected: {'id': 'mpg', 'label': 'mpg'}\nFalse\nadding edge between: origin, mpg\nselected: {'id': 'model_year_cylinders', 'source': 'model_year', 'target': 'cylinders'}\nremoving: {'id': 'model_year_cylinders', 'source': 'model_year', 'target': 'cylinders'}\nselected: {'id': 'model_year_weight', 'source': 'model_year', 'target': 'weight'}\nremoving: {'id': 'model_year_weight', 'source': 'model_year', 'target': 'weight'}\nselected: {'id': 'displacement_origin', 'source': 'displacement', 'target': 'origin'}\nedge with new direction: {'id': 'origin_displacement', 'source': 'origin', 'target': 'displacement'}\nselected: {'id': 'weight_horsepower', 'source': 'weight', 'target': 'horsepower'}\nedge with new direction: {'id': 'horsepower_weight', 'source': 'horsepower', 'target': 'weight'}\n"
        }
       ]
      }
     },
     "7f0b5602b6c0421aba408583ca6de51b": {
      "model_module": "jupyter-cytoscape",
      "model_module_version": "^1.2.2",
      "model_name": "NodeModel",
      "state": {
       "_model_module_version": "^1.2.2",
       "_view_module_version": "^1.2.2",
       "data": {
        "id": "weight",
        "label": "weight"
       },
       "grabbable": true,
       "grabbed": false,
       "position": {
        "x": 1057.3283285313846,
        "y": 202.1023400651558
       },
       "removed": true,
       "selectable": false
      }
     },
     "7f3efeb4467a442c833ce5a61a09bf5c": {
      "model_module": "jupyter-cytoscape",
      "model_module_version": "^1.2.2",
      "model_name": "NodeModel",
      "state": {
       "_model_module_version": "^1.2.2",
       "_view_module_version": "^1.2.2",
       "data": {
        "id": "displacement",
        "label": "displacement"
       },
       "grabbable": true,
       "grabbed": false,
       "position": {
        "x": 991.7032717060669,
        "y": 194.6431468860811
       },
       "selectable": false
      }
     },
     "7f6cff17c3794fccaa20e66598bf1361": {
      "model_module": "jupyter-cytoscape",
      "model_module_version": "^1.2.2",
      "model_name": "NodeModel",
      "state": {
       "_model_module_version": "^1.2.2",
       "_view_module_version": "^1.2.2",
       "data": {
        "id": "model_year",
        "label": "model_year"
       },
       "grabbable": true,
       "grabbed": false,
       "position": {
        "x": 849.3440394036814,
        "y": 220.9859328930124
       },
       "removed": true,
       "selectable": false
      }
     },
     "7f93c932b234448d886d91b7b1d2da52": {
      "model_module": "jupyter-cytoscape",
      "model_module_version": "^1.2.2",
      "model_name": "EdgeModel",
      "state": {
       "_model_module_version": "^1.2.2",
       "_view_module_version": "^1.2.2",
       "classes": " directed  multiple_edges ",
       "data": {
        "id": "weight_horsepower",
        "source": "weight",
        "target": "horsepower"
       },
       "selectable": false
      }
     },
     "7fec701cd12a40fb8e343b8b9095ae86": {
      "model_module": "jupyter-cytoscape",
      "model_module_version": "^1.2.2",
      "model_name": "NodeModel",
      "state": {
       "_model_module_version": "^1.2.2",
       "_view_module_version": "^1.2.2",
       "data": {
        "id": "model_year",
        "label": "model_year"
       },
       "grabbable": true,
       "grabbed": false,
       "position": {
        "x": 983.3363436122864,
        "y": 393.35641101076476
       },
       "removed": true,
       "selectable": false
      }
     },
     "812952bab336412e8dfeae34842d5866": {
      "model_module": "jupyter-cytoscape",
      "model_module_version": "^1.2.2",
      "model_name": "EdgeModel",
      "state": {
       "_model_module_version": "^1.2.2",
       "_view_module_version": "^1.2.2",
       "classes": " directed  multiple_edges ",
       "data": {
        "id": "displacement_horsepower",
        "source": "displacement",
        "target": "horsepower"
       },
       "selectable": false
      }
     },
     "81a2399c71c34ab391e3ba832e010de1": {
      "model_module": "@jupyter-widgets/output",
      "model_module_version": "1.0.0",
      "model_name": "OutputModel",
      "state": {
       "layout": "IPY_MODEL_ea302009b28a4ccc9d17acc4b20c778b",
       "outputs": [
        {
         "name": "stdout",
         "output_type": "stream",
         "text": "selected: {'id': 'displacement_cylinders',\n 'source': 'displacement',\n 'target': 'cylinders'}\nremoving: {'id': 'displacement_cylinders',\n 'source': 'displacement',\n 'target': 'cylinders'}\nselected: {'id': 'weight_horsepower', 'source': 'weight', 'target': 'horsepower'}\nremoving: {'id': 'weight_horsepower', 'source': 'weight', 'target': 'horsepower'}\n"
        }
       ]
      }
     },
     "821368e9739142ed89f7eeae61e31459": {
      "model_module": "jupyter-cytoscape",
      "model_module_version": "^1.2.2",
      "model_name": "EdgeModel",
      "state": {
       "_model_module_version": "^1.2.2",
       "_view_module_version": "^1.2.2",
       "classes": " directed  multiple_edges ",
       "data": {
        "id": "horsepower_acceleration",
        "source": "horsepower",
        "target": "acceleration"
       },
       "selectable": false
      }
     },
     "822d8cd2827845e9b5e9b12ff3c37071": {
      "model_module": "jupyter-cytoscape",
      "model_module_version": "^1.2.2",
      "model_name": "EdgeModel",
      "state": {
       "_model_module_version": "^1.2.2",
       "_view_module_version": "^1.2.2",
       "classes": " directed  multiple_edges ",
       "data": {
        "id": "cylinders_origin",
        "source": "cylinders",
        "target": "origin"
       },
       "removed": true,
       "selectable": false
      }
     },
     "8525ca49030446cb9fc4ea7ea3208c31": {
      "model_module": "jupyter-cytoscape",
      "model_module_version": "^1.2.2",
      "model_name": "EdgeModel",
      "state": {
       "_model_module_version": "^1.2.2",
       "_view_module_version": "^1.2.2",
       "classes": " directed  multiple_edges ",
       "data": {
        "id": "origin_horsepower",
        "source": "origin",
        "target": "horsepower"
       },
       "removed": true,
       "selectable": false
      }
     },
     "852b840c8def4487aec8e60bc81b49c9": {
      "model_module": "jupyter-cytoscape",
      "model_module_version": "^1.2.2",
      "model_name": "EdgeModel",
      "state": {
       "_model_module_version": "^1.2.2",
       "_view_module_version": "^1.2.2",
       "classes": " directed  multiple_edges ",
       "data": {
        "id": "horsepower_acceleration",
        "source": "horsepower",
        "target": "acceleration"
       },
       "removed": true,
       "selectable": false
      }
     },
     "853b6f10ed694a17b7a6e8513c11aa97": {
      "model_module": "jupyter-cytoscape",
      "model_module_version": "^1.2.2",
      "model_name": "EdgeModel",
      "state": {
       "_model_module_version": "^1.2.2",
       "_view_module_version": "^1.2.2",
       "classes": " directed  multiple_edges ",
       "data": {
        "id": "mpg_origin",
        "source": "mpg",
        "target": "origin"
       },
       "selectable": false
      }
     },
     "85818b90eaf745b2adefa7b47c19a677": {
      "model_module": "jupyter-cytoscape",
      "model_module_version": "^1.2.2",
      "model_name": "EdgeModel",
      "state": {
       "_model_module_version": "^1.2.2",
       "_view_module_version": "^1.2.2",
       "classes": " directed  multiple_edges ",
       "data": {
        "id": "weight_horsepower",
        "source": "weight",
        "target": "horsepower"
       },
       "removed": true,
       "selectable": false
      }
     },
     "85ca6335a8ff44f2b6107ac63642727e": {
      "model_module": "jupyter-cytoscape",
      "model_module_version": "^1.2.2",
      "model_name": "NodeModel",
      "state": {
       "_model_module_version": "^1.2.2",
       "_view_module_version": "^1.2.2",
       "data": {
        "id": "model_year",
        "label": "model_year"
       },
       "grabbable": true,
       "grabbed": false,
       "position": {
        "x": 1131.5366463785342,
        "y": 271.5806802142876
       },
       "removed": true,
       "selectable": false
      }
     },
     "86192b6bf60849b9a6cbf79008bbc3d4": {
      "model_module": "jupyter-cytoscape",
      "model_module_version": "^1.2.2",
      "model_name": "NodeModel",
      "state": {
       "_model_module_version": "^1.2.2",
       "_view_module_version": "^1.2.2",
       "data": {
        "id": "mpg",
        "label": "mpg"
       },
       "grabbable": true,
       "grabbed": false,
       "position": {
        "x": 1032.3059059542009,
        "y": 85.61348882909213
       },
       "removed": true,
       "selectable": false
      }
     },
     "865d7aa9e5db496db94d5fe41a0e87e0": {
      "model_module": "jupyter-cytoscape",
      "model_module_version": "^1.2.2",
      "model_name": "EdgeModel",
      "state": {
       "_model_module_version": "^1.2.2",
       "_view_module_version": "^1.2.2",
       "classes": " directed  multiple_edges ",
       "data": {
        "id": "model_year_cylinders",
        "source": "model_year",
        "target": "cylinders"
       },
       "selectable": false
      }
     },
     "8666a4a0269e4d17a650b927eed3dc1f": {
      "model_module": "jupyter-cytoscape",
      "model_module_version": "^1.2.2",
      "model_name": "EdgeModel",
      "state": {
       "_model_module_version": "^1.2.2",
       "_view_module_version": "^1.2.2",
       "classes": " directed  multiple_edges ",
       "data": {
        "id": "displacement_origin",
        "source": "displacement",
        "target": "origin"
       },
       "removed": true,
       "selectable": false
      }
     },
     "866bc9adefc7426abb0ed24f265037d9": {
      "model_module": "jupyter-cytoscape",
      "model_module_version": "^1.2.2",
      "model_name": "EdgeModel",
      "state": {
       "_model_module_version": "^1.2.2",
       "_view_module_version": "^1.2.2",
       "classes": " directed  multiple_edges ",
       "data": {
        "id": "weight_horsepower",
        "source": "weight",
        "target": "horsepower"
       },
       "removed": true,
       "selectable": false
      }
     },
     "878f53d9ca574f3c8810c358ea52092e": {
      "model_module": "jupyter-cytoscape",
      "model_module_version": "^1.2.2",
      "model_name": "EdgeModel",
      "state": {
       "_model_module_version": "^1.2.2",
       "_view_module_version": "^1.2.2",
       "classes": " directed  multiple_edges ",
       "data": {
        "id": "model_year_weight",
        "source": "model_year",
        "target": "weight"
       },
       "removed": true,
       "selectable": false
      }
     },
     "8799fc92d42246babdc07918d6277ecd": {
      "model_module": "jupyter-cytoscape",
      "model_module_version": "^1.2.2",
      "model_name": "EdgeModel",
      "state": {
       "_model_module_version": "^1.2.2",
       "_view_module_version": "^1.2.2",
       "classes": " directed  multiple_edges ",
       "data": {
        "id": "origin_horsepower",
        "source": "origin",
        "target": "horsepower"
       },
       "selectable": false
      }
     },
     "887f2289b7894c9885f08eb221f2b8a8": {
      "model_module": "jupyter-cytoscape",
      "model_module_version": "^1.2.2",
      "model_name": "NodeModel",
      "state": {
       "_model_module_version": "^1.2.2",
       "_view_module_version": "^1.2.2",
       "data": {
        "id": "horsepower",
        "label": "horsepower"
       },
       "grabbable": true,
       "grabbed": false,
       "position": {
        "x": 1028.2537225971103,
        "y": 93.7915777708788
       },
       "removed": true,
       "selectable": false
      }
     },
     "888b1bcd4c2c47f39397915182a0f5a4": {
      "model_module": "@jupyter-widgets/base",
      "model_module_version": "1.2.0",
      "model_name": "LayoutModel",
      "state": {}
     },
     "88c32bc4305740d9b8741d399725ceb6": {
      "model_module": "@jupyter-widgets/controls",
      "model_module_version": "1.5.0",
      "model_name": "ButtonStyleModel",
      "state": {}
     },
     "899aee2388914423a0fafa2578f6ca8a": {
      "model_module": "jupyter-cytoscape",
      "model_module_version": "^1.2.2",
      "model_name": "EdgeModel",
      "state": {
       "_model_module_version": "^1.2.2",
       "_view_module_version": "^1.2.2",
       "classes": " directed  multiple_edges ",
       "data": {
        "id": "model_year_mpg",
        "source": "model_year",
        "target": "mpg"
       },
       "selectable": false
      }
     },
     "8bb8aa0b522c436895b95a3ed5ed9b95": {
      "model_module": "jupyter-cytoscape",
      "model_module_version": "^1.2.2",
      "model_name": "NodeModel",
      "state": {
       "_model_module_version": "^1.2.2",
       "_view_module_version": "^1.2.2",
       "data": {
        "id": "horsepower",
        "label": "horsepower"
       },
       "grabbable": true,
       "grabbed": false,
       "position": {
        "x": 986.460505687432,
        "y": 130.02246833261395
       },
       "removed": true,
       "selectable": false
      }
     },
     "8dfff9b7ed894595b88f5993ee02de3c": {
      "model_module": "jupyter-cytoscape",
      "model_module_version": "^1.2.2",
      "model_name": "EdgeModel",
      "state": {
       "_model_module_version": "^1.2.2",
       "_view_module_version": "^1.2.2",
       "classes": " directed  multiple_edges ",
       "data": {
        "id": "horsepower_acceleration",
        "source": "horsepower",
        "target": "acceleration"
       },
       "removed": true,
       "selectable": false
      }
     },
     "8f36876a9f544f428bd6829468f9f706": {
      "model_module": "jupyter-cytoscape",
      "model_module_version": "^1.2.2",
      "model_name": "NodeModel",
      "state": {
       "_model_module_version": "^1.2.2",
       "_view_module_version": "^1.2.2",
       "data": {
        "id": "displacement",
        "label": "displacement"
       },
       "grabbable": true,
       "grabbed": false,
       "position": {
        "x": 1012.3412849858775,
        "y": 284.24756931696896
       },
       "selectable": false
      }
     },
     "8f4d77058aa94c30a5d144c5ef25d46f": {
      "model_module": "jupyter-cytoscape",
      "model_module_version": "^1.2.2",
      "model_name": "EdgeModel",
      "state": {
       "_model_module_version": "^1.2.2",
       "_view_module_version": "^1.2.2",
       "classes": " directed  multiple_edges ",
       "data": {
        "id": "model_year_mpg",
        "source": "model_year",
        "target": "mpg"
       },
       "removed": true,
       "selectable": false
      }
     },
     "8f553626f43c46528b810d4e6b0f837a": {
      "model_module": "jupyter-cytoscape",
      "model_module_version": "^1.2.2",
      "model_name": "EdgeModel",
      "state": {
       "_model_module_version": "^1.2.2",
       "_view_module_version": "^1.2.2",
       "classes": " directed  multiple_edges ",
       "data": {
        "id": "displacement_cylinders",
        "source": "displacement",
        "target": "cylinders"
       },
       "selectable": false
      }
     },
     "8ff133d682db4096b8bb23ca5d3616ae": {
      "model_module": "jupyter-cytoscape",
      "model_module_version": "^1.2.2",
      "model_name": "EdgeModel",
      "state": {
       "_model_module_version": "^1.2.2",
       "_view_module_version": "^1.2.2",
       "classes": " directed  multiple_edges ",
       "data": {
        "id": "weight_mpg",
        "source": "weight",
        "target": "mpg"
       },
       "removed": true,
       "selectable": false
      }
     },
     "905f87f3fd694a08859bcc7b7d0d045d": {
      "model_module": "jupyter-cytoscape",
      "model_module_version": "^1.2.2",
      "model_name": "EdgeModel",
      "state": {
       "_model_module_version": "^1.2.2",
       "_view_module_version": "^1.2.2",
       "classes": " directed  multiple_edges ",
       "data": {
        "id": "weight_acceleration",
        "source": "weight",
        "target": "acceleration"
       },
       "removed": true,
       "selectable": false
      }
     },
     "908d75b9581145ac85d78be24dfe499d": {
      "model_module": "jupyter-cytoscape",
      "model_module_version": "^1.2.2",
      "model_name": "EdgeModel",
      "state": {
       "_model_module_version": "^1.2.2",
       "_view_module_version": "^1.2.2",
       "classes": " directed  multiple_edges ",
       "data": {
        "id": "model_year_cylinders",
        "source": "model_year",
        "target": "cylinders"
       },
       "selectable": false
      }
     },
     "90dc83b0f0054bbdb775fe010c1d2464": {
      "model_module": "jupyter-cytoscape",
      "model_module_version": "^1.2.2",
      "model_name": "EdgeModel",
      "state": {
       "_model_module_version": "^1.2.2",
       "_view_module_version": "^1.2.2",
       "classes": " directed  multiple_edges ",
       "data": {
        "id": "model_year_mpg",
        "source": "model_year",
        "target": "mpg"
       },
       "removed": true,
       "selectable": false
      }
     },
     "91310c6edb104932a9a53e21d0eb8736": {
      "model_module": "jupyter-cytoscape",
      "model_module_version": "^1.2.2",
      "model_name": "NodeModel",
      "state": {
       "_model_module_version": "^1.2.2",
       "_view_module_version": "^1.2.2",
       "data": {
        "id": "displacement",
        "label": "displacement"
       },
       "grabbable": true,
       "grabbed": false,
       "position": {
        "x": 1116.353276371285,
        "y": 153.7986500095485
       },
       "removed": true,
       "selectable": false
      }
     },
     "916ce049397841fdaefbe2116b200208": {
      "model_module": "jupyter-cytoscape",
      "model_module_version": "^1.2.2",
      "model_name": "NodeModel",
      "state": {
       "_model_module_version": "^1.2.2",
       "_view_module_version": "^1.2.2",
       "data": {
        "id": "origin",
        "label": "origin"
       },
       "grabbable": true,
       "grabbed": false,
       "position": {
        "x": 1116.403800522354,
        "y": 118.33971127548489
       },
       "removed": true,
       "selectable": false
      }
     },
     "921638bd7cec44e492483133eef84501": {
      "model_module": "jupyter-cytoscape",
      "model_module_version": "^1.2.2",
      "model_name": "EdgeModel",
      "state": {
       "_model_module_version": "^1.2.2",
       "_view_module_version": "^1.2.2",
       "classes": " directed  multiple_edges ",
       "data": {
        "id": "model_year_weight",
        "source": "model_year",
        "target": "weight"
       },
       "selectable": false
      }
     },
     "9218b6aefff4497cb8eb8414d024f551": {
      "model_module": "jupyter-cytoscape",
      "model_module_version": "^1.2.2",
      "model_name": "EdgeModel",
      "state": {
       "_model_module_version": "^1.2.2",
       "_view_module_version": "^1.2.2",
       "classes": " directed  multiple_edges ",
       "data": {
        "id": "origin_horsepower",
        "source": "origin",
        "target": "horsepower"
       },
       "selectable": false
      }
     },
     "92680ee23ac1423186fc8981656f8d5b": {
      "model_module": "jupyter-cytoscape",
      "model_module_version": "^1.2.2",
      "model_name": "NodeModel",
      "state": {
       "_model_module_version": "^1.2.2",
       "_view_module_version": "^1.2.2",
       "data": {
        "id": "weight",
        "label": "weight"
       },
       "grabbable": true,
       "grabbed": false,
       "position": {
        "x": 1022.79602333815,
        "y": 208.53384173407872
       },
       "removed": true,
       "selectable": false
      }
     },
     "93afffff768841479286b7f1c9e2973a": {
      "model_module": "jupyter-cytoscape",
      "model_module_version": "^1.2.2",
      "model_name": "NodeModel",
      "state": {
       "_model_module_version": "^1.2.2",
       "_view_module_version": "^1.2.2",
       "data": {
        "id": "displacement",
        "label": "displacement"
       },
       "grabbable": true,
       "grabbed": false,
       "position": {
        "x": 986.0160495702135,
        "y": 184.92843370708874
       },
       "removed": true,
       "selectable": false
      }
     },
     "9470d92433c7484595e90a91e1daadbf": {
      "model_module": "jupyter-cytoscape",
      "model_module_version": "^1.2.2",
      "model_name": "EdgeModel",
      "state": {
       "_model_module_version": "^1.2.2",
       "_view_module_version": "^1.2.2",
       "classes": " directed  multiple_edges ",
       "data": {
        "id": "displacement_horsepower",
        "source": "displacement",
        "target": "horsepower"
       },
       "selectable": false
      }
     },
     "9482998c0b5641eaba8df3c6d1efa792": {
      "model_module": "jupyter-cytoscape",
      "model_module_version": "^1.2.2",
      "model_name": "NodeModel",
      "state": {
       "_model_module_version": "^1.2.2",
       "_view_module_version": "^1.2.2",
       "data": {
        "id": "mpg",
        "label": "mpg"
       },
       "grabbable": true,
       "grabbed": false,
       "position": {
        "x": 854.9568940063632,
        "y": 259.75272583656084
       },
       "removed": true,
       "selectable": false
      }
     },
     "948e99c634374d6c84efd43c02054d59": {
      "model_module": "jupyter-cytoscape",
      "model_module_version": "^1.2.2",
      "model_name": "EdgeModel",
      "state": {
       "_model_module_version": "^1.2.2",
       "_view_module_version": "^1.2.2",
       "classes": " directed  multiple_edges ",
       "data": {
        "id": "model_year_mpg",
        "source": "model_year",
        "target": "mpg"
       },
       "selectable": false
      }
     },
     "94a13cdc5d074fbb892911a7f3cca566": {
      "model_module": "jupyter-cytoscape",
      "model_module_version": "^1.2.2",
      "model_name": "NodeModel",
      "state": {
       "_model_module_version": "^1.2.2",
       "_view_module_version": "^1.2.2",
       "data": {
        "id": "cylinders",
        "label": "cylinders"
       },
       "grabbable": true,
       "grabbed": false,
       "position": {
        "x": 1170.3031156563977,
        "y": 192.62214361379904
       },
       "removed": true,
       "selectable": false
      }
     },
     "9553af787b324c2da90c5d0da4c5f43b": {
      "model_module": "jupyter-cytoscape",
      "model_module_version": "^1.2.2",
      "model_name": "EdgeModel",
      "state": {
       "_model_module_version": "^1.2.2",
       "_view_module_version": "^1.2.2",
       "classes": " multiple_edges directed selected",
       "data": {
        "id": "weight_horsepower",
        "source": "weight",
        "target": "horsepower"
       },
       "removed": true,
       "selectable": false
      }
     },
     "95d9707304324233a0b949b2ea488b10": {
      "model_module": "jupyter-cytoscape",
      "model_module_version": "^1.2.2",
      "model_name": "NodeModel",
      "state": {
       "_model_module_version": "^1.2.2",
       "_view_module_version": "^1.2.2",
       "data": {
        "id": "weight",
        "label": "weight"
       },
       "grabbable": true,
       "grabbed": false,
       "position": {
        "x": 1147.1038596983974,
        "y": 255.94921684087447
       },
       "selectable": false
      }
     },
     "960f3946071d4563b533b1f56618f5cf": {
      "model_module": "jupyter-cytoscape",
      "model_module_version": "^1.2.2",
      "model_name": "NodeModel",
      "state": {
       "_model_module_version": "^1.2.2",
       "_view_module_version": "^1.2.2",
       "data": {
        "id": "weight",
        "label": "weight"
       },
       "grabbable": true,
       "grabbed": false,
       "position": {
        "x": 1006.099953139987,
        "y": 177.7336746244115
       },
       "removed": true,
       "selectable": false
      }
     },
     "97868a7469684842b0e8f50506fbe1ce": {
      "model_module": "jupyter-cytoscape",
      "model_module_version": "^1.2.2",
      "model_name": "EdgeModel",
      "state": {
       "_model_module_version": "^1.2.2",
       "_view_module_version": "^1.2.2",
       "classes": " directed  multiple_edges ",
       "data": {
        "id": "displacement_horsepower",
        "source": "displacement",
        "target": "horsepower"
       },
       "removed": true,
       "selectable": false
      }
     },
     "97ad19cba0be4f5dbda893bf1ab85cbc": {
      "model_module": "@jupyter-widgets/controls",
      "model_module_version": "1.5.0",
      "model_name": "ButtonModel",
      "state": {
       "description": "Change Direction",
       "disabled": true,
       "layout": "IPY_MODEL_a20fcdf0d4394d8384038fca872de7a3",
       "style": "IPY_MODEL_5d46a4f6880946ea9d0bf910d35ff889"
      }
     },
     "97adab62ea3b45b9be1c3f3b854bfe05": {
      "model_module": "@jupyter-widgets/base",
      "model_module_version": "1.2.0",
      "model_name": "LayoutModel",
      "state": {}
     },
     "980f0ec808cd4190841a00d01fe0c503": {
      "model_module": "jupyter-cytoscape",
      "model_module_version": "^1.2.2",
      "model_name": "NodeModel",
      "state": {
       "_model_module_version": "^1.2.2",
       "_view_module_version": "^1.2.2",
       "data": {
        "id": "acceleration",
        "label": "acceleration"
       },
       "grabbable": true,
       "grabbed": false,
       "position": {
        "x": 1101.656574071263,
        "y": 336.32518780799865
       },
       "selectable": false
      }
     },
     "99031a29c662434a9b552f523b5f7325": {
      "model_module": "jupyter-cytoscape",
      "model_module_version": "^1.2.2",
      "model_name": "EdgeModel",
      "state": {
       "_model_module_version": "^1.2.2",
       "_view_module_version": "^1.2.2",
       "classes": " directed  multiple_edges ",
       "data": {
        "id": "horsepower_acceleration",
        "source": "horsepower",
        "target": "acceleration"
       },
       "selectable": false
      }
     },
     "9c3a1dda8b71462a8fd93f736fab2a9f": {
      "model_module": "@jupyter-widgets/controls",
      "model_module_version": "1.5.0",
      "model_name": "ButtonStyleModel",
      "state": {}
     },
     "9cf9179ea6494a9086d7952bdc6f801c": {
      "model_module": "jupyter-cytoscape",
      "model_module_version": "^1.2.2",
      "model_name": "EdgeModel",
      "state": {
       "_model_module_version": "^1.2.2",
       "_view_module_version": "^1.2.2",
       "classes": " directed  multiple_edges ",
       "data": {
        "id": "weight_horsepower",
        "source": "weight",
        "target": "horsepower"
       },
       "removed": true,
       "selectable": false
      }
     },
     "9d1d1b0b4d88466895fb72ecb5506b4a": {
      "model_module": "jupyter-cytoscape",
      "model_module_version": "^1.2.2",
      "model_name": "EdgeModel",
      "state": {
       "_model_module_version": "^1.2.2",
       "_view_module_version": "^1.2.2",
       "classes": " multiple_edges directed selected",
       "data": {
        "id": "cylinders_origin",
        "source": "cylinders",
        "target": "origin"
       },
       "removed": true,
       "selectable": false
      }
     },
     "9d2b16efbecc4fa6926d8a06db22cee0": {
      "model_module": "jupyter-cytoscape",
      "model_module_version": "^1.2.2",
      "model_name": "NodeModel",
      "state": {
       "_model_module_version": "^1.2.2",
       "_view_module_version": "^1.2.2",
       "data": {
        "id": "origin",
        "label": "origin"
       },
       "grabbable": true,
       "grabbed": false,
       "position": {
        "x": 1029.0268120092335,
        "y": 300.2504689541656
       },
       "selectable": false
      }
     },
     "9e621bc2dc324cd18edca8df924aaf16": {
      "model_module": "jupyter-cytoscape",
      "model_module_version": "^1.2.2",
      "model_name": "NodeModel",
      "state": {
       "_model_module_version": "^1.2.2",
       "_view_module_version": "^1.2.2",
       "data": {
        "id": "model_year",
        "label": "model_year"
       },
       "grabbable": true,
       "grabbed": false,
       "position": {
        "x": 919.1114284698715,
        "y": 142.76422456867672
       },
       "selectable": false
      }
     },
     "9e8c9b41d441491db253dc51c899f0dd": {
      "model_module": "jupyter-cytoscape",
      "model_module_version": "^1.2.2",
      "model_name": "EdgeModel",
      "state": {
       "_model_module_version": "^1.2.2",
       "_view_module_version": "^1.2.2",
       "classes": " directed  multiple_edges ",
       "data": {
        "id": "weight_mpg",
        "source": "weight",
        "target": "mpg"
       },
       "selectable": false
      }
     },
     "9ec7685a4d1f450895e5bb7497eb76d3": {
      "model_module": "jupyter-cytoscape",
      "model_module_version": "^1.2.2",
      "model_name": "NodeModel",
      "state": {
       "_model_module_version": "^1.2.2",
       "_view_module_version": "^1.2.2",
       "data": {
        "id": "mpg",
        "label": "mpg"
       },
       "grabbable": true,
       "grabbed": false,
       "position": {
        "x": 1027.5524053202064,
        "y": 296.7286243996993
       },
       "removed": true,
       "selectable": false
      }
     },
     "9fc4d1ecd6ea4da8ab05814779e22bfa": {
      "model_module": "jupyter-cytoscape",
      "model_module_version": "^1.2.2",
      "model_name": "EdgeModel",
      "state": {
       "_model_module_version": "^1.2.2",
       "_view_module_version": "^1.2.2",
       "classes": " directed  multiple_edges ",
       "data": {
        "id": "cylinders_displacement",
        "source": "cylinders",
        "target": "displacement"
       },
       "selectable": false
      }
     },
     "a1caf44faa4e4de4986c93606b0b19ec": {
      "model_module": "jupyter-cytoscape",
      "model_module_version": "^1.2.2",
      "model_name": "NodeModel",
      "state": {
       "_model_module_version": "^1.2.2",
       "_view_module_version": "^1.2.2",
       "data": {
        "id": "mpg",
        "label": "mpg"
       },
       "grabbable": true,
       "grabbed": false,
       "position": {
        "x": 1107.840943621376,
        "y": 147.15280318553766
       },
       "selectable": false
      }
     },
     "a2009274c0414e2782f82851b987446d": {
      "model_module": "jupyter-cytoscape",
      "model_module_version": "^1.2.2",
      "model_name": "EdgeModel",
      "state": {
       "_model_module_version": "^1.2.2",
       "_view_module_version": "^1.2.2",
       "classes": " directed  multiple_edges ",
       "data": {
        "id": "weight_acceleration",
        "source": "weight",
        "target": "acceleration"
       },
       "selectable": false
      }
     },
     "a20fcdf0d4394d8384038fca872de7a3": {
      "model_module": "@jupyter-widgets/base",
      "model_module_version": "1.2.0",
      "model_name": "LayoutModel",
      "state": {}
     },
     "a2afba3359424f898fb1787783f59fa1": {
      "model_module": "jupyter-cytoscape",
      "model_module_version": "^1.2.2",
      "model_name": "EdgeModel",
      "state": {
       "_model_module_version": "^1.2.2",
       "_view_module_version": "^1.2.2",
       "classes": " directed  multiple_edges ",
       "data": {
        "id": "displacement_acceleration",
        "source": "displacement",
        "target": "acceleration"
       },
       "removed": true,
       "selectable": false
      }
     },
     "a30d271549db46c48f532835c1544733": {
      "model_module": "jupyter-cytoscape",
      "model_module_version": "^1.2.2",
      "model_name": "EdgeModel",
      "state": {
       "_model_module_version": "^1.2.2",
       "_view_module_version": "^1.2.2",
       "classes": " directed  multiple_edges ",
       "data": {
        "id": "model_year_weight",
        "source": "model_year",
        "target": "weight"
       },
       "removed": true,
       "selectable": false
      }
     },
     "a32fa73e872d4e9184d8bd242e6b75a5": {
      "model_module": "jupyter-cytoscape",
      "model_module_version": "^1.2.2",
      "model_name": "EdgeModel",
      "state": {
       "_model_module_version": "^1.2.2",
       "_view_module_version": "^1.2.2",
       "classes": " directed  multiple_edges ",
       "data": {
        "id": "weight_mpg",
        "source": "weight",
        "target": "mpg"
       },
       "removed": true,
       "selectable": false
      }
     },
     "a3df98ab9e224d3088a9219c756debc5": {
      "model_module": "@jupyter-widgets/controls",
      "model_module_version": "1.5.0",
      "model_name": "ButtonStyleModel",
      "state": {}
     },
     "a3fc0093e16f4592893ed76f8855c2fa": {
      "model_module": "jupyter-cytoscape",
      "model_module_version": "^1.2.2",
      "model_name": "EdgeModel",
      "state": {
       "_model_module_version": "^1.2.2",
       "_view_module_version": "^1.2.2",
       "classes": " directed  multiple_edges ",
       "data": {
        "id": "cylinders_displacement",
        "source": "cylinders",
        "target": "displacement"
       },
       "removed": true,
       "selectable": false
      }
     },
     "a4565fae8a0347e097379cb66c1b1f2b": {
      "model_module": "@jupyter-widgets/controls",
      "model_module_version": "1.5.0",
      "model_name": "ButtonModel",
      "state": {
       "description": "Add Edge",
       "layout": "IPY_MODEL_099f80c6bb7f4fbeb092ffeb6dcccc76",
       "style": "IPY_MODEL_49f8ce8eb81f4daeafd7974935ce2ebc"
      }
     },
     "a5d71c0aa90a4df3943323c771ae0ab0": {
      "model_module": "jupyter-cytoscape",
      "model_module_version": "^1.2.2",
      "model_name": "NodeModel",
      "state": {
       "_model_module_version": "^1.2.2",
       "_view_module_version": "^1.2.2",
       "data": {
        "id": "acceleration",
        "label": "acceleration"
       },
       "grabbable": true,
       "grabbed": false,
       "position": {
        "x": 999.8938084289115,
        "y": 181.85624778040258
       },
       "removed": true,
       "selectable": false
      }
     },
     "a614beec42594fd9a1e4c3ad26626f93": {
      "model_module": "jupyter-cytoscape",
      "model_module_version": "^1.2.2",
      "model_name": "EdgeModel",
      "state": {
       "_model_module_version": "^1.2.2",
       "_view_module_version": "^1.2.2",
       "classes": " directed  multiple_edges ",
       "data": {
        "id": "weight_acceleration",
        "source": "weight",
        "target": "acceleration"
       },
       "removed": true,
       "selectable": false
      }
     },
     "a661c2bac362425ab4cf78b1715ba555": {
      "model_module": "jupyter-cytoscape",
      "model_module_version": "^1.2.2",
      "model_name": "EdgeModel",
      "state": {
       "_model_module_version": "^1.2.2",
       "_view_module_version": "^1.2.2",
       "classes": " directed  multiple_edges ",
       "data": {
        "id": "model_year_acceleration",
        "source": "model_year",
        "target": "acceleration"
       },
       "removed": true,
       "selectable": false
      }
     },
     "a6da02818e504ed28acfb9efa88d7764": {
      "model_module": "jupyter-cytoscape",
      "model_module_version": "^1.2.2",
      "model_name": "NodeModel",
      "state": {
       "_model_module_version": "^1.2.2",
       "_view_module_version": "^1.2.2",
       "data": {
        "id": "model_year",
        "label": "model_year"
       },
       "grabbable": true,
       "grabbed": false,
       "position": {
        "x": 1183.523136629241,
        "y": 261.09375220168016
       },
       "removed": true,
       "selectable": false
      }
     },
     "a7018bb1dce2431098ed9c53fbcc435f": {
      "model_module": "jupyter-cytoscape",
      "model_module_version": "^1.2.2",
      "model_name": "EdgeModel",
      "state": {
       "_model_module_version": "^1.2.2",
       "_view_module_version": "^1.2.2",
       "classes": " directed  multiple_edges ",
       "data": {
        "id": "model_year_mpg",
        "source": "model_year",
        "target": "mpg"
       },
       "removed": true,
       "selectable": false
      }
     },
     "a7b8b70448b34deeb84a6f4f983bfae9": {
      "model_module": "jupyter-cytoscape",
      "model_module_version": "^1.2.2",
      "model_name": "EdgeModel",
      "state": {
       "_model_module_version": "^1.2.2",
       "_view_module_version": "^1.2.2",
       "classes": " directed  multiple_edges ",
       "data": {
        "id": "displacement_horsepower",
        "source": "displacement",
        "target": "horsepower"
       },
       "removed": true,
       "selectable": false
      }
     },
     "a8126627a1fe49038aa7dad5df62d73b": {
      "model_module": "jupyter-cytoscape",
      "model_module_version": "^1.2.2",
      "model_name": "NodeModel",
      "state": {
       "_model_module_version": "^1.2.2",
       "_view_module_version": "^1.2.2",
       "data": {
        "id": "cylinders",
        "label": "cylinders"
       },
       "grabbable": true,
       "grabbed": false,
       "position": {
        "x": 978.1376300891538,
        "y": 252.07093017265086
       },
       "removed": true,
       "selectable": false
      }
     },
     "a852f45169f2467597d2510b169ec943": {
      "model_module": "jupyter-cytoscape",
      "model_module_version": "^1.2.2",
      "model_name": "EdgeModel",
      "state": {
       "_model_module_version": "^1.2.2",
       "_view_module_version": "^1.2.2",
       "classes": " directed  multiple_edges ",
       "data": {
        "id": "model_year_mpg",
        "source": "model_year",
        "target": "mpg"
       },
       "removed": true,
       "selectable": false
      }
     },
     "a942a61734d24fb1ac6d99464e998c02": {
      "model_module": "jupyter-cytoscape",
      "model_module_version": "^1.2.2",
      "model_name": "NodeModel",
      "state": {
       "_model_module_version": "^1.2.2",
       "_view_module_version": "^1.2.2",
       "data": {
        "id": "model_year",
        "label": "model_year"
       },
       "grabbable": true,
       "grabbed": false,
       "position": {
        "x": 1042.8069887493355,
        "y": 323.4086206124129
       },
       "removed": true,
       "selectable": false
      }
     },
     "a9e1747922d94205b962c344b43a4a98": {
      "model_module": "@jupyter-widgets/base",
      "model_module_version": "1.2.0",
      "model_name": "LayoutModel",
      "state": {}
     },
     "aa811bd5fb954281974b3484656cdaa3": {
      "model_module": "jupyter-cytoscape",
      "model_module_version": "^1.2.2",
      "model_name": "CytoscapeModel",
      "state": {
       "_interaction_handlers": {
        "edge": [
         "click"
        ],
        "node": [
         "click"
        ]
       },
       "_model_module_version": "^1.2.2",
       "_view_module_version": "^1.2.2",
       "auto_ungrabify": false,
       "autolock": false,
       "cytoscape_layout": {
        "name": "cola"
       },
       "cytoscape_style": [
        {
         "selector": "node",
         "style": {
          "background-color": "blue",
          "font-family": "arial",
          "font-size": "10px",
          "label": "data(label)"
         }
        },
        {
         "selector": "edge",
         "style": {
          "curve-style": "bezier",
          "line-color": "#9dbaea",
          "target-arrow-color": "#9dbaea",
          "target-arrow-shape": "triangle",
          "width": 4
         }
        },
        {
         "css": {
          "line-color": "red"
         },
         "selector": "edge.selected"
        },
        {
         "css": {
          "background-color": "red"
         },
         "selector": "node.selected"
        }
       ],
       "desktop_tap_threshold": 4,
       "graph": "IPY_MODEL_6ac0db0cebb14af6a2f9c8022cdb64a8",
       "headless": false,
       "hide_edges_on_viewport": false,
       "layout": "IPY_MODEL_421fd104ecff4cb39a574e9fe092f2cc",
       "max_zoom": 1e+50,
       "min_zoom": 1e-50,
       "motion_blur": false,
       "motion_blur_opacity": 0.2,
       "panning_enabled": true,
       "pixel_ratio": "auto",
       "rendered_position": {
        "renderedPosition": {
         "x": 100,
         "y": 100
        }
       },
       "selection_type": "single",
       "style_enabled": true,
       "texture_on_viewport": false,
       "tooltip_source": "tooltip",
       "touch_tap_threshold": 8,
       "user_panning_enabled": true,
       "user_zooming_enabled": true,
       "wheel_sensitivity": 1,
       "zoom": 2,
       "zooming_enabled": true
      }
     },
     "ac775bfa61e94198a0208d98b377df03": {
      "model_module": "jupyter-cytoscape",
      "model_module_version": "^1.2.2",
      "model_name": "EdgeModel",
      "state": {
       "_model_module_version": "^1.2.2",
       "_view_module_version": "^1.2.2",
       "classes": " directed  multiple_edges ",
       "data": {
        "id": "displacement_weight",
        "source": "displacement",
        "target": "weight"
       },
       "selectable": false
      }
     },
     "ac9b03d625564ddc88dd6145e6e304af": {
      "model_module": "jupyter-cytoscape",
      "model_module_version": "^1.2.2",
      "model_name": "EdgeModel",
      "state": {
       "_model_module_version": "^1.2.2",
       "_view_module_version": "^1.2.2",
       "classes": " directed  multiple_edges ",
       "data": {
        "id": "displacement_cylinders",
        "source": "displacement",
        "target": "cylinders"
       },
       "removed": true,
       "selectable": false
      }
     },
     "ad456d09bd1b40b3839cdf6b7ae93379": {
      "model_module": "jupyter-cytoscape",
      "model_module_version": "^1.2.2",
      "model_name": "EdgeModel",
      "state": {
       "_model_module_version": "^1.2.2",
       "_view_module_version": "^1.2.2",
       "classes": " directed  multiple_edges ",
       "data": {
        "id": "mpg_origin",
        "source": "mpg",
        "target": "origin"
       },
       "removed": true,
       "selectable": false
      }
     },
     "ad87869c755b458ea34f02e54ebaa66f": {
      "model_module": "jupyter-cytoscape",
      "model_module_version": "^1.2.2",
      "model_name": "EdgeModel",
      "state": {
       "_model_module_version": "^1.2.2",
       "_view_module_version": "^1.2.2",
       "classes": " directed  multiple_edges ",
       "data": {
        "id": "model_year_weight",
        "source": "model_year",
        "target": "weight"
       },
       "removed": true,
       "selectable": false
      }
     },
     "af34e3d7833d4e3fb9191eca5b766d30": {
      "model_module": "jupyter-cytoscape",
      "model_module_version": "^1.2.2",
      "model_name": "EdgeModel",
      "state": {
       "_model_module_version": "^1.2.2",
       "_view_module_version": "^1.2.2",
       "classes": " directed  multiple_edges ",
       "data": {
        "id": "model_year_cylinders",
        "source": "model_year",
        "target": "cylinders"
       },
       "selectable": false
      }
     },
     "af6365abc4c24953a37a8febab630a8e": {
      "model_module": "@jupyter-widgets/base",
      "model_module_version": "1.2.0",
      "model_name": "LayoutModel",
      "state": {}
     },
     "afa198ba8c76447c88dee532a7d981cf": {
      "model_module": "jupyter-cytoscape",
      "model_module_version": "^1.2.2",
      "model_name": "NodeModel",
      "state": {
       "_model_module_version": "^1.2.2",
       "_view_module_version": "^1.2.2",
       "data": {
        "id": "mpg",
        "label": "mpg"
       },
       "grabbable": true,
       "grabbed": false,
       "position": {
        "x": 1093.1936174032205,
        "y": 237.5161062675866
       },
       "removed": true,
       "selectable": false
      }
     },
     "b0e3ef3f56aa4b9f90833395ca28ed1e": {
      "model_module": "jupyter-cytoscape",
      "model_module_version": "^1.2.2",
      "model_name": "EdgeModel",
      "state": {
       "_model_module_version": "^1.2.2",
       "_view_module_version": "^1.2.2",
       "classes": " multiple_edges directed selected",
       "data": {
        "id": "model_year_cylinders",
        "source": "model_year",
        "target": "cylinders"
       },
       "removed": true,
       "selectable": false
      }
     },
     "b1144f18aeea4386bc251f4c9576ec19": {
      "model_module": "jupyter-cytoscape",
      "model_module_version": "^1.2.2",
      "model_name": "EdgeModel",
      "state": {
       "_model_module_version": "^1.2.2",
       "_view_module_version": "^1.2.2",
       "classes": " directed  multiple_edges ",
       "data": {
        "id": "origin_horsepower",
        "source": "origin",
        "target": "horsepower"
       },
       "removed": true,
       "selectable": false
      }
     },
     "b1f9502870db4879b367c850ac273302": {
      "model_module": "@jupyter-widgets/controls",
      "model_module_version": "1.5.0",
      "model_name": "ButtonStyleModel",
      "state": {}
     },
     "b2a8b014f5c94edfbb078b4a41de56aa": {
      "model_module": "jupyter-cytoscape",
      "model_module_version": "^1.2.2",
      "model_name": "EdgeModel",
      "state": {
       "_model_module_version": "^1.2.2",
       "_view_module_version": "^1.2.2",
       "classes": " directed  multiple_edges ",
       "data": {
        "id": "displacement_horsepower",
        "source": "displacement",
        "target": "horsepower"
       },
       "removed": true,
       "selectable": false
      }
     },
     "b2aaa1079286407c8d4c115f6e533a9a": {
      "model_module": "jupyter-cytoscape",
      "model_module_version": "^1.2.2",
      "model_name": "EdgeModel",
      "state": {
       "_model_module_version": "^1.2.2",
       "_view_module_version": "^1.2.2",
       "classes": " directed  multiple_edges ",
       "data": {
        "id": "displacement_horsepower",
        "source": "displacement",
        "target": "horsepower"
       },
       "removed": true,
       "selectable": false
      }
     },
     "b304917b1dac407eac473ba541281240": {
      "model_module": "jupyter-cytoscape",
      "model_module_version": "^1.2.2",
      "model_name": "EdgeModel",
      "state": {
       "_model_module_version": "^1.2.2",
       "_view_module_version": "^1.2.2",
       "classes": " directed  multiple_edges ",
       "data": {
        "id": "horsepower_acceleration",
        "source": "horsepower",
        "target": "acceleration"
       },
       "removed": true,
       "selectable": false
      }
     },
     "b4878bc862e549a4a5dbbd14c7cd4ad9": {
      "model_module": "jupyter-cytoscape",
      "model_module_version": "^1.2.2",
      "model_name": "GraphModel",
      "state": {
       "_adj": {
        "acceleration": {},
        "cylinders": {},
        "displacement": {},
        "horsepower": {},
        "model_year": {},
        "mpg": {},
        "origin": {},
        "weight": {}
       },
       "_model_module_version": "^1.2.2",
       "_view_module": "jupyter-cytoscape",
       "_view_module_version": "^1.2.2",
       "edges": [
        "IPY_MODEL_9218b6aefff4497cb8eb8414d024f551",
        "IPY_MODEL_bfea0a07c87e4fc4afece8e52b37ec17",
        "IPY_MODEL_921638bd7cec44e492483133eef84501",
        "IPY_MODEL_749ab961068b4c55957f4808e2c4ce77",
        "IPY_MODEL_8f553626f43c46528b810d4e6b0f837a",
        "IPY_MODEL_46a490cb08ed4d44b3abee0afa8162ae",
        "IPY_MODEL_948e99c634374d6c84efd43c02054d59",
        "IPY_MODEL_f4ee4edf80bb4eaeaf85969f7e4f50c6",
        "IPY_MODEL_de7cbadb53d24e9aae00f1bb57984ca4",
        "IPY_MODEL_2f5bedbfaa1c4045b60a7678726a5351",
        "IPY_MODEL_7b519d2dcaa0455eb364b24345e224c3",
        "IPY_MODEL_cc7c50bd567243c4adb470ddc6fe6523",
        "IPY_MODEL_af34e3d7833d4e3fb9191eca5b766d30",
        "IPY_MODEL_a2009274c0414e2782f82851b987446d",
        "IPY_MODEL_d7aa0947baea4b58bc72eac7fad1e6d9",
        "IPY_MODEL_34065d5923f84af1bde75a015a03c214"
       ],
       "nodes": [
        "IPY_MODEL_cee38dfba293493097187df8cd37e7c5",
        "IPY_MODEL_c3a086f2848843b8aaffab8c7bff9e94",
        "IPY_MODEL_0487f37c16c14ac9a89fa07da4b20bd5",
        "IPY_MODEL_f6ac3bb97cad409db51e547f10164ef9",
        "IPY_MODEL_95d9707304324233a0b949b2ea488b10",
        "IPY_MODEL_430f03ce0c584a9bbd14290cff30f3f3",
        "IPY_MODEL_2b1c58c3eb6744a1925d652c33a6b50f",
        "IPY_MODEL_7dbb6e23f79a433a9a69f78a76c64152"
       ]
      }
     },
     "b5763a860c5f477cb19c463f282932b6": {
      "model_module": "jupyter-cytoscape",
      "model_module_version": "^1.2.2",
      "model_name": "NodeModel",
      "state": {
       "_model_module_version": "^1.2.2",
       "_view_module_version": "^1.2.2",
       "data": {
        "id": "horsepower",
        "label": "horsepower"
       },
       "grabbable": true,
       "grabbed": false,
       "position": {
        "x": 966.7198280611588,
        "y": 123.90313684467604
       },
       "removed": true,
       "selectable": false
      }
     },
     "b5996ea1abb94b69b3cc692c36aa777d": {
      "model_module": "jupyter-cytoscape",
      "model_module_version": "^1.2.2",
      "model_name": "EdgeModel",
      "state": {
       "_model_module_version": "^1.2.2",
       "_view_module_version": "^1.2.2",
       "classes": " directed  multiple_edges ",
       "data": {
        "id": "model_year_acceleration",
        "source": "model_year",
        "target": "acceleration"
       },
       "selectable": false
      }
     },
     "b5fe058e25274d9092d0be7d8a6f783c": {
      "model_module": "jupyter-cytoscape",
      "model_module_version": "^1.2.2",
      "model_name": "NodeModel",
      "state": {
       "_model_module_version": "^1.2.2",
       "_view_module_version": "^1.2.2",
       "data": {
        "id": "cylinders",
        "label": "cylinders"
       },
       "grabbable": true,
       "grabbed": false,
       "position": {
        "x": 936.0988645297588,
        "y": 243.59005208886956
       },
       "selectable": false
      }
     },
     "b69392154f864ece950952d2c206dde5": {
      "model_module": "jupyter-cytoscape",
      "model_module_version": "^1.2.2",
      "model_name": "EdgeModel",
      "state": {
       "_model_module_version": "^1.2.2",
       "_view_module_version": "^1.2.2",
       "classes": " directed  multiple_edges ",
       "data": {
        "id": "displacement_origin",
        "source": "displacement",
        "target": "origin"
       },
       "removed": true,
       "selectable": false
      }
     },
     "b75c556ea2d94f698d03d5c24afa646a": {
      "model_module": "jupyter-cytoscape",
      "model_module_version": "^1.2.2",
      "model_name": "EdgeModel",
      "state": {
       "_model_module_version": "^1.2.2",
       "_view_module_version": "^1.2.2",
       "classes": " directed  multiple_edges ",
       "data": {
        "id": "horsepower_acceleration",
        "source": "horsepower",
        "target": "acceleration"
       },
       "removed": true,
       "selectable": false
      }
     },
     "b8ef5eac2ac549ec93130233c8f1663a": {
      "model_module": "jupyter-cytoscape",
      "model_module_version": "^1.2.2",
      "model_name": "EdgeModel",
      "state": {
       "_model_module_version": "^1.2.2",
       "_view_module_version": "^1.2.2",
       "classes": " directed  multiple_edges ",
       "data": {
        "id": "weight_acceleration",
        "source": "weight",
        "target": "acceleration"
       },
       "selectable": false
      }
     },
     "b9b458bc21b54c2cb8b8959e6f763153": {
      "model_module": "jupyter-cytoscape",
      "model_module_version": "^1.2.2",
      "model_name": "NodeModel",
      "state": {
       "_model_module_version": "^1.2.2",
       "_view_module_version": "^1.2.2",
       "data": {
        "id": "horsepower",
        "label": "horsepower"
       },
       "grabbable": true,
       "grabbed": false,
       "position": {
        "x": 921.9360436026988,
        "y": 175.07363957090456
       },
       "removed": true,
       "selectable": false
      }
     },
     "b9fba989ffd64673823ae2b1a8541c93": {
      "model_module": "jupyter-cytoscape",
      "model_module_version": "^1.2.2",
      "model_name": "EdgeModel",
      "state": {
       "_model_module_version": "^1.2.2",
       "_view_module_version": "^1.2.2",
       "classes": " directed  multiple_edges ",
       "data": {
        "id": "displacement_origin",
        "source": "displacement",
        "target": "origin"
       },
       "removed": true,
       "selectable": false
      }
     },
     "ba03f7f6ecdf4625bcbfd9be7b368174": {
      "model_module": "jupyter-cytoscape",
      "model_module_version": "^1.2.2",
      "model_name": "NodeModel",
      "state": {
       "_model_module_version": "^1.2.2",
       "_view_module_version": "^1.2.2",
       "data": {
        "id": "displacement",
        "label": "displacement"
       },
       "grabbable": true,
       "grabbed": false,
       "position": {
        "x": 985.242872952852,
        "y": 188.9940456024892
       },
       "removed": true,
       "selectable": false
      }
     },
     "ba0f37c82c4248d8aba63c929b08ebcc": {
      "model_module": "jupyter-cytoscape",
      "model_module_version": "^1.2.2",
      "model_name": "EdgeModel",
      "state": {
       "_model_module_version": "^1.2.2",
       "_view_module_version": "^1.2.2",
       "classes": " directed  multiple_edges ",
       "data": {
        "id": "model_year_cylinders",
        "source": "model_year",
        "target": "cylinders"
       },
       "removed": true,
       "selectable": false
      }
     },
     "bb7abf0e31ad4627a0d329336d6c7709": {
      "model_module": "jupyter-cytoscape",
      "model_module_version": "^1.2.2",
      "model_name": "EdgeModel",
      "state": {
       "_model_module_version": "^1.2.2",
       "_view_module_version": "^1.2.2",
       "classes": " directed  multiple_edges ",
       "data": {
        "id": "origin_mpg",
        "source": "origin",
        "target": "mpg"
       },
       "selectable": false
      }
     },
     "bba58abdf3b844d39d517c0244adfcbe": {
      "model_module": "jupyter-cytoscape",
      "model_module_version": "^1.2.2",
      "model_name": "EdgeModel",
      "state": {
       "_model_module_version": "^1.2.2",
       "_view_module_version": "^1.2.2",
       "classes": " directed  multiple_edges ",
       "data": {
        "id": "model_year_weight",
        "source": "model_year",
        "target": "weight"
       },
       "removed": true,
       "selectable": false
      }
     },
     "bbcee8db894f4e8d8feffcee3b8f6d8a": {
      "model_module": "@jupyter-widgets/controls",
      "model_module_version": "1.5.0",
      "model_name": "ButtonModel",
      "state": {
       "description": "Add Edge",
       "disabled": true,
       "layout": "IPY_MODEL_c2c04cf3368043c79b1bdaf8e804a037",
       "style": "IPY_MODEL_eb0b6fac856e428dbff72e38dff3ce30"
      }
     },
     "bc156e00b2b1484eba6bb8b81f87a770": {
      "model_module": "jupyter-cytoscape",
      "model_module_version": "^1.2.2",
      "model_name": "EdgeModel",
      "state": {
       "_model_module_version": "^1.2.2",
       "_view_module_version": "^1.2.2",
       "classes": " directed  multiple_edges ",
       "data": {
        "id": "model_year_mpg",
        "source": "model_year",
        "target": "mpg"
       },
       "removed": true,
       "selectable": false
      }
     },
     "bc7cd72b445d4130a24e68c5ed7bfd89": {
      "model_module": "jupyter-cytoscape",
      "model_module_version": "^1.2.2",
      "model_name": "EdgeModel",
      "state": {
       "_model_module_version": "^1.2.2",
       "_view_module_version": "^1.2.2",
       "classes": " directed  multiple_edges ",
       "data": {
        "id": "model_year_mpg",
        "source": "model_year",
        "target": "mpg"
       },
       "removed": true,
       "selectable": false
      }
     },
     "bd39b37d063d4723805719b995a025b3": {
      "model_module": "jupyter-cytoscape",
      "model_module_version": "^1.2.2",
      "model_name": "EdgeModel",
      "state": {
       "_model_module_version": "^1.2.2",
       "_view_module_version": "^1.2.2",
       "classes": " directed  multiple_edges ",
       "data": {
        "id": "horsepower_acceleration",
        "source": "horsepower",
        "target": "acceleration"
       },
       "removed": true,
       "selectable": false
      }
     },
     "bd65f8e45e4d49cfab57bea06d6240cf": {
      "model_module": "jupyter-cytoscape",
      "model_module_version": "^1.2.2",
      "model_name": "EdgeModel",
      "state": {
       "_model_module_version": "^1.2.2",
       "_view_module_version": "^1.2.2",
       "classes": " directed  multiple_edges ",
       "data": {
        "id": "origin_displacement",
        "source": "origin",
        "target": "displacement"
       },
       "removed": true,
       "selectable": false
      }
     },
     "bdd5ca304492472ab2d4a9184a926a78": {
      "model_module": "jupyter-cytoscape",
      "model_module_version": "^1.2.2",
      "model_name": "EdgeModel",
      "state": {
       "_model_module_version": "^1.2.2",
       "_view_module_version": "^1.2.2",
       "classes": " directed  multiple_edges ",
       "data": {
        "id": "model_year_cylinders",
        "source": "model_year",
        "target": "cylinders"
       },
       "removed": true,
       "selectable": false
      }
     },
     "be648376d8c14ddfb3b332ac9abf93d0": {
      "model_module": "@jupyter-widgets/output",
      "model_module_version": "1.0.0",
      "model_name": "OutputModel",
      "state": {
       "layout": "IPY_MODEL_97adab62ea3b45b9be1c3f3b854bfe05"
      }
     },
     "be7dbe80693c4aa6bf51e949fe940ee5": {
      "model_module": "jupyter-cytoscape",
      "model_module_version": "^1.2.2",
      "model_name": "EdgeModel",
      "state": {
       "_model_module_version": "^1.2.2",
       "_view_module_version": "^1.2.2",
       "classes": " directed  multiple_edges ",
       "data": {
        "id": "model_year_cylinders",
        "source": "model_year",
        "target": "cylinders"
       },
       "removed": true,
       "selectable": false
      }
     },
     "bea1b2816cae4451a7ad1d836c422e36": {
      "model_module": "jupyter-cytoscape",
      "model_module_version": "^1.2.2",
      "model_name": "EdgeModel",
      "state": {
       "_model_module_version": "^1.2.2",
       "_view_module_version": "^1.2.2",
       "classes": " directed  multiple_edges ",
       "data": {
        "id": "model_year_cylinders",
        "source": "model_year",
        "target": "cylinders"
       },
       "removed": true,
       "selectable": false
      }
     },
     "bf5adec7e9f74b4395b2a3f96b88f0b5": {
      "model_module": "jupyter-cytoscape",
      "model_module_version": "^1.2.2",
      "model_name": "NodeModel",
      "state": {
       "_model_module_version": "^1.2.2",
       "_view_module_version": "^1.2.2",
       "data": {
        "id": "origin",
        "label": "origin"
       },
       "grabbable": true,
       "grabbed": false,
       "position": {
        "x": 995.7354850880891,
        "y": 163.5432082464874
       },
       "selectable": false
      }
     },
     "bfea0a07c87e4fc4afece8e52b37ec17": {
      "model_module": "jupyter-cytoscape",
      "model_module_version": "^1.2.2",
      "model_name": "EdgeModel",
      "state": {
       "_model_module_version": "^1.2.2",
       "_view_module_version": "^1.2.2",
       "classes": " directed  multiple_edges ",
       "data": {
        "id": "displacement_horsepower",
        "source": "displacement",
        "target": "horsepower"
       },
       "selectable": false
      }
     },
     "c01b7bc347064050b71b56bb0a580f74": {
      "model_module": "jupyter-cytoscape",
      "model_module_version": "^1.2.2",
      "model_name": "EdgeModel",
      "state": {
       "_model_module_version": "^1.2.2",
       "_view_module_version": "^1.2.2",
       "classes": " directed  multiple_edges ",
       "data": {
        "id": "origin_horsepower",
        "source": "origin",
        "target": "horsepower"
       },
       "selectable": false
      }
     },
     "c02ccc9558394fb699e3e0c62cc8d567": {
      "model_module": "jupyter-cytoscape",
      "model_module_version": "^1.2.2",
      "model_name": "NodeModel",
      "state": {
       "_model_module_version": "^1.2.2",
       "_view_module_version": "^1.2.2",
       "data": {
        "id": "origin",
        "label": "origin"
       },
       "grabbable": true,
       "grabbed": false,
       "position": {
        "x": 1029.075939863287,
        "y": 301.28201077432726
       },
       "removed": true,
       "selectable": false
      }
     },
     "c170a4eaa9bb4c3c840913384f82300f": {
      "model_module": "jupyter-cytoscape",
      "model_module_version": "^1.2.2",
      "model_name": "EdgeModel",
      "state": {
       "_model_module_version": "^1.2.2",
       "_view_module_version": "^1.2.2",
       "classes": " directed  multiple_edges ",
       "data": {
        "id": "displacement_horsepower",
        "source": "displacement",
        "target": "horsepower"
       },
       "removed": true,
       "selectable": false
      }
     },
     "c1ee9c9247664783ac913c18fe80c94b": {
      "model_module": "jupyter-cytoscape",
      "model_module_version": "^1.2.2",
      "model_name": "NodeModel",
      "state": {
       "_model_module_version": "^1.2.2",
       "_view_module_version": "^1.2.2",
       "classes": " selected",
       "data": {
        "id": "mpg",
        "label": "mpg"
       },
       "grabbable": true,
       "grabbed": false,
       "position": {
        "x": 1179.699915182896,
        "y": 268.5880390090133
       },
       "removed": true,
       "selectable": false
      }
     },
     "c2b78fe7191c45f28c3fe5d8f63e2298": {
      "model_module": "jupyter-cytoscape",
      "model_module_version": "^1.2.2",
      "model_name": "NodeModel",
      "state": {
       "_model_module_version": "^1.2.2",
       "_view_module_version": "^1.2.2",
       "data": {
        "id": "acceleration",
        "label": "acceleration"
       },
       "grabbable": true,
       "grabbed": false,
       "position": {
        "x": 901.9561404949509,
        "y": 196.80809939718753
       },
       "removed": true,
       "selectable": false
      }
     },
     "c2c04cf3368043c79b1bdaf8e804a037": {
      "model_module": "@jupyter-widgets/base",
      "model_module_version": "1.2.0",
      "model_name": "LayoutModel",
      "state": {}
     },
     "c3a086f2848843b8aaffab8c7bff9e94": {
      "model_module": "jupyter-cytoscape",
      "model_module_version": "^1.2.2",
      "model_name": "NodeModel",
      "state": {
       "_model_module_version": "^1.2.2",
       "_view_module_version": "^1.2.2",
       "data": {
        "id": "cylinders",
        "label": "cylinders"
       },
       "grabbable": true,
       "grabbed": false,
       "position": {
        "x": 936.0988645297588,
        "y": 243.59005208886956
       },
       "selectable": false
      }
     },
     "c3f04863d62a45d4b113cf843f7d0d6c": {
      "model_module": "jupyter-cytoscape",
      "model_module_version": "^1.2.2",
      "model_name": "EdgeModel",
      "state": {
       "_model_module_version": "^1.2.2",
       "_view_module_version": "^1.2.2",
       "classes": " directed  multiple_edges ",
       "data": {
        "id": "displacement_origin",
        "source": "displacement",
        "target": "origin"
       },
       "selectable": false
      }
     },
     "c3fcf455bb674d99a4af7f7e657304ab": {
      "model_module": "jupyter-cytoscape",
      "model_module_version": "^1.2.2",
      "model_name": "EdgeModel",
      "state": {
       "_model_module_version": "^1.2.2",
       "_view_module_version": "^1.2.2",
       "classes": " directed  multiple_edges ",
       "data": {
        "id": "weight_mpg",
        "source": "weight",
        "target": "mpg"
       },
       "removed": true,
       "selectable": false
      }
     },
     "c460ab0cb03748a8a65d9313754b3313": {
      "model_module": "jupyter-cytoscape",
      "model_module_version": "^1.2.2",
      "model_name": "NodeModel",
      "state": {
       "_model_module_version": "^1.2.2",
       "_view_module_version": "^1.2.2",
       "data": {
        "id": "mpg",
        "label": "mpg"
       },
       "grabbable": true,
       "grabbed": false,
       "position": {
        "x": 793.0198012209726,
        "y": 140.00403481223276
       },
       "selectable": false
      }
     },
     "c4e7f985d9474b22a9cd1b66261f3518": {
      "model_module": "jupyter-cytoscape",
      "model_module_version": "^1.2.2",
      "model_name": "NodeModel",
      "state": {
       "_model_module_version": "^1.2.2",
       "_view_module_version": "^1.2.2",
       "data": {
        "id": "origin",
        "label": "origin"
       },
       "grabbable": true,
       "grabbed": false,
       "position": {
        "x": 1210.4844189216326,
        "y": 226.5324792233789
       },
       "removed": true,
       "selectable": false
      }
     },
     "c515cadacc734fc69fc08c22d534094d": {
      "model_module": "jupyter-cytoscape",
      "model_module_version": "^1.2.2",
      "model_name": "EdgeModel",
      "state": {
       "_model_module_version": "^1.2.2",
       "_view_module_version": "^1.2.2",
       "classes": " directed  multiple_edges ",
       "data": {
        "id": "displacement_origin",
        "source": "displacement",
        "target": "origin"
       },
       "removed": true,
       "selectable": false
      }
     },
     "c5b5be815dd0475ba25d96f238a081af": {
      "model_module": "jupyter-cytoscape",
      "model_module_version": "^1.2.2",
      "model_name": "CytoscapeModel",
      "state": {
       "_interaction_handlers": {
        "edge": [
         "click"
        ],
        "node": [
         "click"
        ]
       },
       "_model_module_version": "^1.2.2",
       "_view_module_version": "^1.2.2",
       "auto_ungrabify": false,
       "autolock": false,
       "cytoscape_layout": {
        "name": "cola"
       },
       "cytoscape_style": [
        {
         "selector": "node",
         "style": {
          "background-color": "blue",
          "font-family": "arial",
          "font-size": "10px",
          "label": "data(label)"
         }
        },
        {
         "selector": "edge",
         "style": {
          "curve-style": "bezier",
          "line-color": "#9dbaea",
          "target-arrow-color": "#9dbaea",
          "target-arrow-shape": "triangle",
          "width": 4
         }
        },
        {
         "css": {
          "line-color": "red"
         },
         "selector": "edge.highlighted"
        },
        {
         "css": {
          "background-color": "blue"
         },
         "selector": "node.highlighted"
        },
        {
         "css": {
          "line-color": "red"
         },
         "selector": "edge.selected"
        },
        {
         "css": {
          "background-color": "red"
         },
         "selector": "node.selected"
        }
       ],
       "desktop_tap_threshold": 4,
       "graph": "IPY_MODEL_fda0c4521ef0419b8b5554f5229ba2dc",
       "headless": false,
       "hide_edges_on_viewport": false,
       "layout": "IPY_MODEL_475345fdecc64b29a518c8bce2aa5974",
       "max_zoom": 1e+50,
       "min_zoom": 1e-50,
       "motion_blur": false,
       "motion_blur_opacity": 0.2,
       "panning_enabled": true,
       "pixel_ratio": "auto",
       "rendered_position": {
        "renderedPosition": {
         "x": 100,
         "y": 100
        }
       },
       "selection_type": "single",
       "style_enabled": true,
       "texture_on_viewport": false,
       "tooltip_source": "tooltip",
       "touch_tap_threshold": 8,
       "user_panning_enabled": true,
       "user_zooming_enabled": true,
       "wheel_sensitivity": 1,
       "zoom": 2,
       "zooming_enabled": true
      }
     },
     "c5b5e072e17d4d52a5c016dec486b171": {
      "model_module": "@jupyter-widgets/base",
      "model_module_version": "1.2.0",
      "model_name": "LayoutModel",
      "state": {}
     },
     "c5e3fa143eaf40289f0d1b7aab47db42": {
      "model_module": "@jupyter-widgets/controls",
      "model_module_version": "1.5.0",
      "model_name": "ButtonModel",
      "state": {
       "description": "Delete Edge",
       "disabled": true,
       "layout": "IPY_MODEL_c5b5e072e17d4d52a5c016dec486b171",
       "style": "IPY_MODEL_73c8e14253624bda817ebddfee9abdb4"
      }
     },
     "c823cf5ad25940bea196c95046bb2b55": {
      "model_module": "jupyter-cytoscape",
      "model_module_version": "^1.2.2",
      "model_name": "EdgeModel",
      "state": {
       "_model_module_version": "^1.2.2",
       "_view_module_version": "^1.2.2",
       "classes": " directed  multiple_edges ",
       "data": {
        "id": "model_year_weight",
        "source": "model_year",
        "target": "weight"
       },
       "selectable": false
      }
     },
     "c8283b19b034412f8347b4ea51c5c6fc": {
      "model_module": "jupyter-cytoscape",
      "model_module_version": "^1.2.2",
      "model_name": "NodeModel",
      "state": {
       "_model_module_version": "^1.2.2",
       "_view_module_version": "^1.2.2",
       "data": {
        "id": "acceleration",
        "label": "acceleration"
       },
       "grabbable": true,
       "grabbed": false,
       "position": {
        "x": 897.0549931544641,
        "y": 198.1180384895912
       },
       "removed": true,
       "selectable": false
      }
     },
     "c8879438d2e04f54964e237f4fd019b8": {
      "model_module": "jupyter-cytoscape",
      "model_module_version": "^1.2.2",
      "model_name": "EdgeModel",
      "state": {
       "_model_module_version": "^1.2.2",
       "_view_module_version": "^1.2.2",
       "classes": " directed  multiple_edges ",
       "data": {
        "id": "displacement_origin",
        "source": "displacement",
        "target": "origin"
       },
       "removed": true,
       "selectable": false
      }
     },
     "c94076cb3208433797aff9ae0d3812ac": {
      "model_module": "jupyter-cytoscape",
      "model_module_version": "^1.2.2",
      "model_name": "NodeModel",
      "state": {
       "_model_module_version": "^1.2.2",
       "_view_module_version": "^1.2.2",
       "data": {
        "id": "origin",
        "label": "origin"
       },
       "grabbable": true,
       "grabbed": false,
       "position": {
        "x": 971.1573405389464,
        "y": 143.67917973682913
       },
       "removed": true,
       "selectable": false
      }
     },
     "cade5ed60f014ef3b698445161259caf": {
      "model_module": "jupyter-cytoscape",
      "model_module_version": "^1.2.2",
      "model_name": "EdgeModel",
      "state": {
       "_model_module_version": "^1.2.2",
       "_view_module_version": "^1.2.2",
       "classes": " directed  multiple_edges ",
       "data": {
        "id": "weight_acceleration",
        "source": "weight",
        "target": "acceleration"
       },
       "removed": true,
       "selectable": false
      }
     },
     "cb81fe500c3b4434a74f2a04591bcbc2": {
      "model_module": "jupyter-cytoscape",
      "model_module_version": "^1.2.2",
      "model_name": "NodeModel",
      "state": {
       "_model_module_version": "^1.2.2",
       "_view_module_version": "^1.2.2",
       "data": {
        "id": "weight",
        "label": "weight"
       },
       "grabbable": true,
       "grabbed": false,
       "position": {
        "x": 1045.3877859470022,
        "y": 149.58859362283167
       },
       "selectable": false
      }
     },
     "cc3efc3ec1814358a5091ebdccd08919": {
      "model_module": "jupyter-cytoscape",
      "model_module_version": "^1.2.2",
      "model_name": "EdgeModel",
      "state": {
       "_model_module_version": "^1.2.2",
       "_view_module_version": "^1.2.2",
       "classes": " multiple_edges directed selected",
       "data": {
        "id": "mpg_origin",
        "source": "mpg",
        "target": "origin"
       },
       "removed": true,
       "selectable": false
      }
     },
     "cc7510ce8e844adc84ac46690c80add5": {
      "model_module": "jupyter-cytoscape",
      "model_module_version": "^1.2.2",
      "model_name": "NodeModel",
      "state": {
       "_model_module_version": "^1.2.2",
       "_view_module_version": "^1.2.2",
       "data": {
        "id": "cylinders",
        "label": "cylinders"
       },
       "grabbable": true,
       "grabbed": false,
       "position": {
        "x": 1182.06996368467,
        "y": 157.2354796267939
       },
       "removed": true,
       "selectable": false
      }
     },
     "cc7c50bd567243c4adb470ddc6fe6523": {
      "model_module": "jupyter-cytoscape",
      "model_module_version": "^1.2.2",
      "model_name": "EdgeModel",
      "state": {
       "_model_module_version": "^1.2.2",
       "_view_module_version": "^1.2.2",
       "classes": " directed  multiple_edges ",
       "data": {
        "id": "horsepower_acceleration",
        "source": "horsepower",
        "target": "acceleration"
       },
       "selectable": false
      }
     },
     "cc9af06bdfa5403aa078bd5cade45624": {
      "model_module": "jupyter-cytoscape",
      "model_module_version": "^1.2.2",
      "model_name": "NodeModel",
      "state": {
       "_model_module_version": "^1.2.2",
       "_view_module_version": "^1.2.2",
       "data": {
        "id": "horsepower",
        "label": "horsepower"
       },
       "grabbable": true,
       "grabbed": false,
       "position": {
        "x": 1080.936043602699,
        "y": 175.07363957090456
       },
       "removed": true,
       "selectable": false
      }
     },
     "cca23e129ae74ceba76d336d341f76c0": {
      "model_module": "jupyter-cytoscape",
      "model_module_version": "^1.2.2",
      "model_name": "NodeModel",
      "state": {
       "_model_module_version": "^1.2.2",
       "_view_module_version": "^1.2.2",
       "data": {
        "id": "acceleration",
        "label": "acceleration"
       },
       "grabbable": true,
       "grabbed": false,
       "position": {
        "x": 1015.0785366973182,
        "y": 72.73970419432278
       },
       "removed": true,
       "selectable": false
      }
     },
     "cca2c0b4dffe4a12bee4fb8e087723d0": {
      "model_module": "jupyter-cytoscape",
      "model_module_version": "^1.2.2",
      "model_name": "EdgeModel",
      "state": {
       "_model_module_version": "^1.2.2",
       "_view_module_version": "^1.2.2",
       "classes": " directed  multiple_edges ",
       "data": {
        "id": "displacement_weight",
        "source": "displacement",
        "target": "weight"
       },
       "removed": true,
       "selectable": false
      }
     },
     "cd70bd31c0d44721ace1830109dd2baf": {
      "model_module": "jupyter-cytoscape",
      "model_module_version": "^1.2.2",
      "model_name": "NodeModel",
      "state": {
       "_model_module_version": "^1.2.2",
       "_view_module_version": "^1.2.2",
       "data": {
        "id": "acceleration",
        "label": "acceleration"
       },
       "grabbable": true,
       "grabbed": false,
       "position": {
        "x": 1100.4340330361488,
        "y": 297.87127869548596
       },
       "removed": true,
       "selectable": false
      }
     },
     "cdd89feaceec465884114f5f336254b0": {
      "model_module": "@jupyter-widgets/output",
      "model_module_version": "1.0.0",
      "model_name": "OutputModel",
      "state": {
       "layout": "IPY_MODEL_eb6ea687d8854eb3ac07a72f709025b7"
      }
     },
     "cecb8dc12326447790a7fde6e2d6afab": {
      "model_module": "jupyter-cytoscape",
      "model_module_version": "^1.2.2",
      "model_name": "EdgeModel",
      "state": {
       "_model_module_version": "^1.2.2",
       "_view_module_version": "^1.2.2",
       "classes": " directed  multiple_edges ",
       "data": {
        "id": "weight_mpg",
        "source": "weight",
        "target": "mpg"
       },
       "removed": true,
       "selectable": false
      }
     },
     "cee38dfba293493097187df8cd37e7c5": {
      "model_module": "jupyter-cytoscape",
      "model_module_version": "^1.2.2",
      "model_name": "NodeModel",
      "state": {
       "_model_module_version": "^1.2.2",
       "_view_module_version": "^1.2.2",
       "data": {
        "id": "mpg",
        "label": "mpg"
       },
       "grabbable": true,
       "grabbed": false,
       "position": {
        "x": 1107.840943621376,
        "y": 147.15280318553766
       },
       "selectable": false
      }
     },
     "cf0318474f00428f9e4b25eeef2fc394": {
      "model_module": "@jupyter-widgets/base",
      "model_module_version": "1.2.0",
      "model_name": "LayoutModel",
      "state": {}
     },
     "cf34ee7514b44cf8923f1d3cb81f4644": {
      "model_module": "jupyter-cytoscape",
      "model_module_version": "^1.2.2",
      "model_name": "NodeModel",
      "state": {
       "_model_module_version": "^1.2.2",
       "_view_module_version": "^1.2.2",
       "data": {
        "id": "cylinders",
        "label": "cylinders"
       },
       "grabbable": true,
       "grabbed": false,
       "position": {
        "x": 936.0988645297588,
        "y": 243.59005208886956
       },
       "selectable": false
      }
     },
     "cf54b88afe0f429797f4c969621bbb7a": {
      "model_module": "jupyter-cytoscape",
      "model_module_version": "^1.2.2",
      "model_name": "EdgeModel",
      "state": {
       "_model_module_version": "^1.2.2",
       "_view_module_version": "^1.2.2",
       "classes": " directed  multiple_edges ",
       "data": {
        "id": "weight_mpg",
        "source": "weight",
        "target": "mpg"
       },
       "removed": true,
       "selectable": false
      }
     },
     "cffae3777a444294b54b5f3d1feedc6b": {
      "model_module": "jupyter-cytoscape",
      "model_module_version": "^1.2.2",
      "model_name": "EdgeModel",
      "state": {
       "_model_module_version": "^1.2.2",
       "_view_module_version": "^1.2.2",
       "classes": " directed  multiple_edges ",
       "data": {
        "id": "weight_horsepower",
        "source": "weight",
        "target": "horsepower"
       },
       "removed": true,
       "selectable": false
      }
     },
     "d0f2d5e435ed45c2a7f667a40dcf608d": {
      "model_module": "jupyter-cytoscape",
      "model_module_version": "^1.2.2",
      "model_name": "EdgeModel",
      "state": {
       "_model_module_version": "^1.2.2",
       "_view_module_version": "^1.2.2",
       "classes": " directed  multiple_edges ",
       "data": {
        "id": "model_year_weight",
        "source": "model_year",
        "target": "weight"
       },
       "removed": true,
       "selectable": false
      }
     },
     "d224c77278b941bda09faaae35d215b5": {
      "model_module": "jupyter-cytoscape",
      "model_module_version": "^1.2.2",
      "model_name": "EdgeModel",
      "state": {
       "_model_module_version": "^1.2.2",
       "_view_module_version": "^1.2.2",
       "classes": " directed  multiple_edges ",
       "data": {
        "id": "origin_mpg",
        "source": "origin",
        "target": "mpg"
       },
       "removed": true,
       "selectable": false
      }
     },
     "d3290cb510f94870947370c8611faa04": {
      "model_module": "jupyter-cytoscape",
      "model_module_version": "^1.2.2",
      "model_name": "EdgeModel",
      "state": {
       "_model_module_version": "^1.2.2",
       "_view_module_version": "^1.2.2",
       "classes": " directed  multiple_edges ",
       "data": {
        "id": "model_year_cylinders",
        "source": "model_year",
        "target": "cylinders"
       },
       "removed": true,
       "selectable": false
      }
     },
     "d3441fbbb3d24815bd8b9ca7555090b1": {
      "model_module": "jupyter-cytoscape",
      "model_module_version": "^1.2.2",
      "model_name": "EdgeModel",
      "state": {
       "_model_module_version": "^1.2.2",
       "_view_module_version": "^1.2.2",
       "classes": " directed  multiple_edges ",
       "data": {
        "id": "model_year_mpg",
        "source": "model_year",
        "target": "mpg"
       },
       "removed": true,
       "selectable": false
      }
     },
     "d3d4462a37d04381be7e2f68f87b7fc2": {
      "model_module": "jupyter-cytoscape",
      "model_module_version": "^1.2.2",
      "model_name": "NodeModel",
      "state": {
       "_model_module_version": "^1.2.2",
       "_view_module_version": "^1.2.2",
       "data": {
        "id": "origin",
        "label": "origin"
       },
       "grabbable": true,
       "grabbed": false,
       "position": {
        "x": 1134.9455486073687,
        "y": 266.97371190172043
       },
       "removed": true,
       "selectable": false
      }
     },
     "d48ebac421f2447e903feb6f245ccff3": {
      "model_module": "jupyter-cytoscape",
      "model_module_version": "^1.2.2",
      "model_name": "EdgeModel",
      "state": {
       "_model_module_version": "^1.2.2",
       "_view_module_version": "^1.2.2",
       "classes": " directed  multiple_edges ",
       "data": {
        "id": "displacement_horsepower",
        "source": "displacement",
        "target": "horsepower"
       },
       "removed": true,
       "selectable": false
      }
     },
     "d526e82dd1e240168f23b4a037a517c5": {
      "model_module": "jupyter-cytoscape",
      "model_module_version": "^1.2.2",
      "model_name": "EdgeModel",
      "state": {
       "_model_module_version": "^1.2.2",
       "_view_module_version": "^1.2.2",
       "classes": " directed  multiple_edges ",
       "data": {
        "id": "cylinders_origin",
        "source": "cylinders",
        "target": "origin"
       },
       "selectable": false
      }
     },
     "d5bcc1110758475bad251291020bf078": {
      "model_module": "@jupyter-widgets/controls",
      "model_module_version": "1.5.0",
      "model_name": "ButtonStyleModel",
      "state": {}
     },
     "d67f535550e840d884f3a2a8c82e33f0": {
      "model_module": "jupyter-cytoscape",
      "model_module_version": "^1.2.2",
      "model_name": "NodeModel",
      "state": {
       "_model_module_version": "^1.2.2",
       "_view_module_version": "^1.2.2",
       "data": {
        "id": "model_year",
        "label": "model_year"
       },
       "grabbable": true,
       "grabbed": false,
       "position": {
        "x": 1096.327614796913,
        "y": 112.7287668036425
       },
       "removed": true,
       "selectable": false
      }
     },
     "d697cb4dd7a74f039d5845faf14536c4": {
      "model_module": "jupyter-cytoscape",
      "model_module_version": "^1.2.2",
      "model_name": "EdgeModel",
      "state": {
       "_model_module_version": "^1.2.2",
       "_view_module_version": "^1.2.2",
       "classes": " directed  multiple_edges ",
       "data": {
        "id": "weight_horsepower",
        "source": "weight",
        "target": "horsepower"
       },
       "removed": true,
       "selectable": false
      }
     },
     "d6c6035dfa794292970f1478994937a1": {
      "model_module": "jupyter-cytoscape",
      "model_module_version": "^1.2.2",
      "model_name": "EdgeModel",
      "state": {
       "_model_module_version": "^1.2.2",
       "_view_module_version": "^1.2.2",
       "classes": " directed  multiple_edges ",
       "data": {
        "id": "model_year_mpg",
        "source": "model_year",
        "target": "mpg"
       },
       "removed": true,
       "selectable": false
      }
     },
     "d74e77402716410486215951e70b04ee": {
      "model_module": "jupyter-cytoscape",
      "model_module_version": "^1.2.2",
      "model_name": "GraphModel",
      "state": {
       "_adj": {},
       "_model_module_version": "^1.2.2",
       "_view_module": "jupyter-cytoscape",
       "_view_module_version": "^1.2.2"
      }
     },
     "d7aa0947baea4b58bc72eac7fad1e6d9": {
      "model_module": "jupyter-cytoscape",
      "model_module_version": "^1.2.2",
      "model_name": "EdgeModel",
      "state": {
       "_model_module_version": "^1.2.2",
       "_view_module_version": "^1.2.2",
       "classes": " directed  multiple_edges ",
       "data": {
        "id": "weight_horsepower",
        "source": "weight",
        "target": "horsepower"
       },
       "selectable": false
      }
     },
     "d7d4a190c0dc4e0db8c1af836fa2a80a": {
      "model_module": "jupyter-cytoscape",
      "model_module_version": "^1.2.2",
      "model_name": "EdgeModel",
      "state": {
       "_model_module_version": "^1.2.2",
       "_view_module_version": "^1.2.2",
       "classes": " directed  multiple_edges ",
       "data": {
        "id": "weight_mpg",
        "source": "weight",
        "target": "mpg"
       },
       "removed": true,
       "selectable": false
      }
     },
     "d81a573d1f464a13b64b3f4c2516112b": {
      "model_module": "@jupyter-widgets/controls",
      "model_module_version": "1.5.0",
      "model_name": "ButtonStyleModel",
      "state": {}
     },
     "d827a13ef1b74f3d83caea4054d4f012": {
      "model_module": "jupyter-cytoscape",
      "model_module_version": "^1.2.2",
      "model_name": "NodeModel",
      "state": {
       "_model_module_version": "^1.2.2",
       "_view_module_version": "^1.2.2",
       "data": {
        "id": "cylinders",
        "label": "cylinders"
       },
       "grabbable": true,
       "grabbed": false,
       "position": {
        "x": 1217.0971264744105,
        "y": 295.9108452751289
       },
       "removed": true,
       "selectable": false
      }
     },
     "d836737fa5844315970c343e90184267": {
      "model_module": "@jupyter-widgets/controls",
      "model_module_version": "1.5.0",
      "model_name": "ButtonModel",
      "state": {
       "description": "Add Edge",
       "disabled": true,
       "layout": "IPY_MODEL_532fb37aef8e45eea122f8e330d72f1d",
       "style": "IPY_MODEL_01d82eb41cbd4a5fb9c4f3175553a19d"
      }
     },
     "d912a1eaf23d44cd8952be4006415ef7": {
      "model_module": "jupyter-cytoscape",
      "model_module_version": "^1.2.2",
      "model_name": "GraphModel",
      "state": {
       "_adj": {
        "acceleration": {},
        "cylinders": {},
        "displacement": {},
        "horsepower": {},
        "model_year": {},
        "mpg": {},
        "origin": {},
        "weight": {}
       },
       "_model_module_version": "^1.2.2",
       "_view_module": "jupyter-cytoscape",
       "_view_module_version": "^1.2.2",
       "edges": [
        "IPY_MODEL_6f76c99d1b7b4d15ba82969658e2c7c3",
        "IPY_MODEL_676a96fc33d04865803c13be1c651e1a",
        "IPY_MODEL_f35ac60cf9a141cb9c7f63f7b1e91576",
        "IPY_MODEL_99031a29c662434a9b552f523b5f7325",
        "IPY_MODEL_9fc4d1ecd6ea4da8ab05814779e22bfa",
        "IPY_MODEL_bb7abf0e31ad4627a0d329336d6c7709",
        "IPY_MODEL_e321c35c0b064c8d87b5605f04b1c659",
        "IPY_MODEL_dc341a01038a4389840a95d1e5af4085",
        "IPY_MODEL_7a70b7048a6140809524ac88be899653",
        "IPY_MODEL_9e8c9b41d441491db253dc51c899f0dd"
       ],
       "nodes": [
        "IPY_MODEL_3801fabfda1641c78e38aa19522da6cb",
        "IPY_MODEL_eeda9f366ac347568c781fef6e036698",
        "IPY_MODEL_3d345796aba143508d90050ad0c9ab89",
        "IPY_MODEL_1d9b940bfa834a639888fc0f137ed5f4",
        "IPY_MODEL_cb81fe500c3b4434a74f2a04591bcbc2",
        "IPY_MODEL_30f23d89ffb249e89799b9073ca5660b",
        "IPY_MODEL_0accfcbb9322426a9d810c28c0fb016b",
        "IPY_MODEL_9d2b16efbecc4fa6926d8a06db22cee0"
       ]
      }
     },
     "d919b2008f784a3b9e2ae17d2f5a6f9b": {
      "model_module": "jupyter-cytoscape",
      "model_module_version": "^1.2.2",
      "model_name": "NodeModel",
      "state": {
       "_model_module_version": "^1.2.2",
       "_view_module_version": "^1.2.2",
       "data": {
        "id": "weight",
        "label": "weight"
       },
       "grabbable": true,
       "grabbed": false,
       "position": {
        "x": 1045.3592587947849,
        "y": 150.61005907170656
       },
       "removed": true,
       "selectable": false
      }
     },
     "daf4c374e106489caa67cf0c831386e8": {
      "model_module": "jupyter-cytoscape",
      "model_module_version": "^1.2.2",
      "model_name": "CytoscapeModel",
      "state": {
       "_interaction_handlers": {
        "edge": [
         "click"
        ],
        "node": [
         "click"
        ]
       },
       "_model_module_version": "^1.2.2",
       "_view_module_version": "^1.2.2",
       "auto_ungrabify": false,
       "autolock": false,
       "cytoscape_layout": {
        "name": "cola"
       },
       "cytoscape_style": [
        {
         "selector": "node",
         "style": {
          "background-color": "blue",
          "font-family": "arial",
          "font-size": "10px",
          "label": "data(label)"
         }
        },
        {
         "selector": "edge",
         "style": {
          "curve-style": "bezier",
          "line-color": "#9dbaea",
          "target-arrow-color": "#9dbaea",
          "target-arrow-shape": "triangle",
          "width": 4
         }
        },
        {
         "css": {
          "line-color": "red"
         },
         "selector": "edge.selected"
        },
        {
         "css": {
          "background-color": "red"
         },
         "selector": "node.selected"
        }
       ],
       "desktop_tap_threshold": 4,
       "graph": "IPY_MODEL_d912a1eaf23d44cd8952be4006415ef7",
       "headless": false,
       "hide_edges_on_viewport": false,
       "layout": "IPY_MODEL_af6365abc4c24953a37a8febab630a8e",
       "max_zoom": 1e+50,
       "min_zoom": 1e-50,
       "motion_blur": false,
       "motion_blur_opacity": 0.2,
       "panning_enabled": true,
       "pixel_ratio": "auto",
       "rendered_position": {
        "renderedPosition": {
         "x": 100,
         "y": 100
        }
       },
       "selection_type": "single",
       "style_enabled": true,
       "texture_on_viewport": false,
       "tooltip_source": "tooltip",
       "touch_tap_threshold": 8,
       "user_panning_enabled": true,
       "user_zooming_enabled": true,
       "wheel_sensitivity": 1,
       "zoom": 2,
       "zooming_enabled": true
      }
     },
     "db25029df4bb46fc9956e65f4d272865": {
      "model_module": "jupyter-cytoscape",
      "model_module_version": "^1.2.2",
      "model_name": "EdgeModel",
      "state": {
       "_model_module_version": "^1.2.2",
       "_view_module_version": "^1.2.2",
       "classes": " directed  multiple_edges ",
       "data": {
        "id": "model_year_weight",
        "source": "model_year",
        "target": "weight"
       },
       "removed": true,
       "selectable": false
      }
     },
     "dc341a01038a4389840a95d1e5af4085": {
      "model_module": "jupyter-cytoscape",
      "model_module_version": "^1.2.2",
      "model_name": "EdgeModel",
      "state": {
       "_model_module_version": "^1.2.2",
       "_view_module_version": "^1.2.2",
       "classes": " directed  multiple_edges ",
       "data": {
        "id": "model_year_mpg",
        "source": "model_year",
        "target": "mpg"
       },
       "selectable": false
      }
     },
     "dc625913d5fd4423a8d334a54083e404": {
      "model_module": "@jupyter-widgets/controls",
      "model_module_version": "1.5.0",
      "model_name": "ButtonStyleModel",
      "state": {}
     },
     "ddadefc09819475aa9b892cf0bb317f0": {
      "model_module": "@jupyter-widgets/base",
      "model_module_version": "1.2.0",
      "model_name": "LayoutModel",
      "state": {}
     },
     "de7cbadb53d24e9aae00f1bb57984ca4": {
      "model_module": "jupyter-cytoscape",
      "model_module_version": "^1.2.2",
      "model_name": "EdgeModel",
      "state": {
       "_model_module_version": "^1.2.2",
       "_view_module_version": "^1.2.2",
       "classes": " directed  multiple_edges ",
       "data": {
        "id": "displacement_weight",
        "source": "displacement",
        "target": "weight"
       },
       "selectable": false
      }
     },
     "deccd4ef0f814b92a584f86decb2b6a8": {
      "model_module": "jupyter-cytoscape",
      "model_module_version": "^1.2.2",
      "model_name": "EdgeModel",
      "state": {
       "_model_module_version": "^1.2.2",
       "_view_module_version": "^1.2.2",
       "classes": " directed  multiple_edges ",
       "data": {
        "id": "model_year_weight",
        "source": "model_year",
        "target": "weight"
       },
       "removed": true,
       "selectable": false
      }
     },
     "df1af28371ac4b3a98a52a8a333aeba2": {
      "model_module": "@jupyter-widgets/controls",
      "model_module_version": "1.5.0",
      "model_name": "ButtonModel",
      "state": {
       "description": "Change Direction",
       "disabled": true,
       "layout": "IPY_MODEL_5b903768c8f548b7a3add89f7f4be4f3",
       "style": "IPY_MODEL_24409b48cff64f668e5f3dbb4c5860fd"
      }
     },
     "df3db927245f4d98aa172efe8aa2e497": {
      "model_module": "jupyter-cytoscape",
      "model_module_version": "^1.2.2",
      "model_name": "EdgeModel",
      "state": {
       "_model_module_version": "^1.2.2",
       "_view_module_version": "^1.2.2",
       "classes": " directed  multiple_edges ",
       "data": {
        "id": "origin_mpg",
        "source": "origin",
        "target": "mpg"
       },
       "removed": true,
       "selectable": false
      }
     },
     "df676fde928a460eb17948b3efef32e5": {
      "model_module": "jupyter-cytoscape",
      "model_module_version": "^1.2.2",
      "model_name": "NodeModel",
      "state": {
       "_model_module_version": "^1.2.2",
       "_view_module_version": "^1.2.2",
       "data": {
        "id": "origin",
        "label": "origin"
       },
       "grabbable": true,
       "grabbed": false,
       "position": {
        "x": 989.0023695353442,
        "y": 302.2668247642819
       },
       "removed": true,
       "selectable": false
      }
     },
     "df9fc8b33acd47018778b29177454a22": {
      "model_module": "jupyter-cytoscape",
      "model_module_version": "^1.2.2",
      "model_name": "EdgeModel",
      "state": {
       "_model_module_version": "^1.2.2",
       "_view_module_version": "^1.2.2",
       "classes": " directed  multiple_edges ",
       "data": {
        "id": "model_year_cylinders",
        "source": "model_year",
        "target": "cylinders"
       },
       "selectable": false
      }
     },
     "dfb2b06f78df4f0fa15598e796b82077": {
      "model_module": "jupyter-cytoscape",
      "model_module_version": "^1.2.2",
      "model_name": "EdgeModel",
      "state": {
       "_model_module_version": "^1.2.2",
       "_view_module_version": "^1.2.2",
       "classes": " directed  multiple_edges ",
       "data": {
        "id": "cylinders_displacement",
        "source": "cylinders",
        "target": "displacement"
       },
       "removed": true,
       "selectable": false
      }
     },
     "dfc945f2a3e0405da40ce84c443460f5": {
      "model_module": "jupyter-cytoscape",
      "model_module_version": "^1.2.2",
      "model_name": "CytoscapeModel",
      "state": {
       "_interaction_handlers": {
        "edge": [
         "click"
        ],
        "node": [
         "click"
        ]
       },
       "_model_module_version": "^1.2.2",
       "_view_module_version": "^1.2.2",
       "auto_ungrabify": false,
       "autolock": false,
       "cytoscape_layout": {
        "name": "cola"
       },
       "cytoscape_style": [
        {
         "selector": "node",
         "style": {
          "background-color": "blue",
          "font-family": "arial",
          "font-size": "10px",
          "label": "data(label)"
         }
        },
        {
         "selector": "edge",
         "style": {
          "curve-style": "bezier",
          "line-color": "#9dbaea",
          "target-arrow-color": "#9dbaea",
          "target-arrow-shape": "triangle",
          "width": 4
         }
        },
        {
         "css": {
          "line-color": "red"
         },
         "selector": "edge.highlighted"
        },
        {
         "css": {
          "background-color": "blue"
         },
         "selector": "node.highlighted"
        },
        {
         "css": {
          "line-color": "red"
         },
         "selector": "edge.selected"
        },
        {
         "css": {
          "background-color": "red"
         },
         "selector": "node.selected"
        }
       ],
       "desktop_tap_threshold": 4,
       "graph": "IPY_MODEL_b4878bc862e549a4a5dbbd14c7cd4ad9",
       "headless": false,
       "hide_edges_on_viewport": false,
       "layout": "IPY_MODEL_70c69ea28c194b368503ca4e29882436",
       "max_zoom": 1e+50,
       "min_zoom": 1e-50,
       "motion_blur": false,
       "motion_blur_opacity": 0.2,
       "panning_enabled": true,
       "pixel_ratio": "auto",
       "rendered_position": {
        "renderedPosition": {
         "x": 100,
         "y": 100
        }
       },
       "selection_type": "single",
       "style_enabled": true,
       "texture_on_viewport": false,
       "tooltip_source": "tooltip",
       "touch_tap_threshold": 8,
       "user_panning_enabled": true,
       "user_zooming_enabled": true,
       "wheel_sensitivity": 1,
       "zoom": 2,
       "zooming_enabled": true
      }
     },
     "e063b7d29d4b41a6b68583a3b57a8149": {
      "model_module": "jupyter-cytoscape",
      "model_module_version": "^1.2.2",
      "model_name": "EdgeModel",
      "state": {
       "_model_module_version": "^1.2.2",
       "_view_module_version": "^1.2.2",
       "classes": " directed  multiple_edges ",
       "data": {
        "id": "weight_acceleration",
        "source": "weight",
        "target": "acceleration"
       },
       "removed": true,
       "selectable": false
      }
     },
     "e0d0919a17bf4ba88c6d6b31e976d857": {
      "model_module": "jupyter-cytoscape",
      "model_module_version": "^1.2.2",
      "model_name": "EdgeModel",
      "state": {
       "_model_module_version": "^1.2.2",
       "_view_module_version": "^1.2.2",
       "classes": " directed  multiple_edges ",
       "data": {
        "id": "weight_acceleration",
        "source": "weight",
        "target": "acceleration"
       },
       "removed": true,
       "selectable": false
      }
     },
     "e0e0ea1c267b499c96526addd3cd218a": {
      "model_module": "jupyter-cytoscape",
      "model_module_version": "^1.2.2",
      "model_name": "EdgeModel",
      "state": {
       "_model_module_version": "^1.2.2",
       "_view_module_version": "^1.2.2",
       "classes": " directed  multiple_edges ",
       "data": {
        "id": "weight_acceleration",
        "source": "weight",
        "target": "acceleration"
       },
       "selectable": false
      }
     },
     "e0fcfc55b93e45b9ade77ad3fb69f11f": {
      "model_module": "jupyter-cytoscape",
      "model_module_version": "^1.2.2",
      "model_name": "NodeModel",
      "state": {
       "_model_module_version": "^1.2.2",
       "_view_module_version": "^1.2.2",
       "data": {
        "id": "origin",
        "label": "origin"
       },
       "grabbable": true,
       "grabbed": false,
       "position": {
        "x": 900.64330419126,
        "y": 146.17862824180492
       },
       "selectable": false
      }
     },
     "e154b9abd3b74998849e72642a961665": {
      "model_module": "@jupyter-widgets/base",
      "model_module_version": "1.2.0",
      "model_name": "LayoutModel",
      "state": {}
     },
     "e1e2471789b2478f92df8f3fb9e67069": {
      "model_module": "jupyter-cytoscape",
      "model_module_version": "^1.2.2",
      "model_name": "EdgeModel",
      "state": {
       "_model_module_version": "^1.2.2",
       "_view_module_version": "^1.2.2",
       "classes": " directed  multiple_edges ",
       "data": {
        "id": "horsepower_acceleration",
        "source": "horsepower",
        "target": "acceleration"
       },
       "removed": true,
       "selectable": false
      }
     },
     "e321c35c0b064c8d87b5605f04b1c659": {
      "model_module": "jupyter-cytoscape",
      "model_module_version": "^1.2.2",
      "model_name": "EdgeModel",
      "state": {
       "_model_module_version": "^1.2.2",
       "_view_module_version": "^1.2.2",
       "classes": " directed  multiple_edges ",
       "data": {
        "id": "weight_acceleration",
        "source": "weight",
        "target": "acceleration"
       },
       "selectable": false
      }
     },
     "e591fb1a8cfb495d849d4eac0435ae79": {
      "model_module": "jupyter-cytoscape",
      "model_module_version": "^1.2.2",
      "model_name": "CytoscapeModel",
      "state": {
       "_interaction_handlers": {
        "edge": [
         "click"
        ],
        "node": [
         "click"
        ]
       },
       "_model_module_version": "^1.2.2",
       "_view_module_version": "^1.2.2",
       "auto_ungrabify": false,
       "autolock": false,
       "cytoscape_layout": {
        "name": "cola"
       },
       "cytoscape_style": [
        {
         "selector": "node",
         "style": {
          "background-color": "blue",
          "font-family": "arial",
          "font-size": "10px",
          "label": "data(label)"
         }
        },
        {
         "selector": "edge",
         "style": {
          "curve-style": "bezier",
          "line-color": "#9dbaea",
          "target-arrow-color": "#9dbaea",
          "target-arrow-shape": "triangle",
          "width": 4
         }
        },
        {
         "css": {
          "line-color": "red"
         },
         "selector": "edge.highlighted"
        },
        {
         "css": {
          "background-color": "blue"
         },
         "selector": "node.highlighted"
        },
        {
         "css": {
          "line-color": "red"
         },
         "selector": "edge.selected"
        },
        {
         "css": {
          "background-color": "red"
         },
         "selector": "node.selected"
        }
       ],
       "desktop_tap_threshold": 4,
       "graph": "IPY_MODEL_3ababb6d9d9c49e6a21e8acf1411457c",
       "headless": false,
       "hide_edges_on_viewport": false,
       "layout": "IPY_MODEL_a9e1747922d94205b962c344b43a4a98",
       "max_zoom": 1e+50,
       "min_zoom": 1e-50,
       "motion_blur": false,
       "motion_blur_opacity": 0.2,
       "panning_enabled": true,
       "pixel_ratio": "auto",
       "rendered_position": {
        "renderedPosition": {
         "x": 100,
         "y": 100
        }
       },
       "selection_type": "single",
       "style_enabled": true,
       "texture_on_viewport": false,
       "tooltip_source": "tooltip",
       "touch_tap_threshold": 8,
       "user_panning_enabled": true,
       "user_zooming_enabled": true,
       "wheel_sensitivity": 1,
       "zoom": 2,
       "zooming_enabled": true
      }
     },
     "e670f5473211477d8b0b5614d758319b": {
      "model_module": "jupyter-cytoscape",
      "model_module_version": "^1.2.2",
      "model_name": "EdgeModel",
      "state": {
       "_model_module_version": "^1.2.2",
       "_view_module_version": "^1.2.2",
       "classes": " directed  multiple_edges ",
       "data": {
        "id": "displacement_horsepower",
        "source": "displacement",
        "target": "horsepower"
       },
       "removed": true,
       "selectable": false
      }
     },
     "e7ea46fff5ff4cedac0cbb1f005a8060": {
      "model_module": "jupyter-cytoscape",
      "model_module_version": "^1.2.2",
      "model_name": "EdgeModel",
      "state": {
       "_model_module_version": "^1.2.2",
       "_view_module_version": "^1.2.2",
       "classes": " directed  multiple_edges ",
       "data": {
        "id": "displacement_cylinders",
        "source": "displacement",
        "target": "cylinders"
       },
       "removed": true,
       "selectable": false
      }
     },
     "e81b4d9d138346f5a8cafa65e32dcdbc": {
      "model_module": "jupyter-cytoscape",
      "model_module_version": "^1.2.2",
      "model_name": "EdgeModel",
      "state": {
       "_model_module_version": "^1.2.2",
       "_view_module_version": "^1.2.2",
       "classes": " directed  multiple_edges ",
       "data": {
        "id": "weight_mpg",
        "source": "weight",
        "target": "mpg"
       },
       "removed": true,
       "selectable": false
      }
     },
     "e94f36729d7f4269a1fddf4480a1267b": {
      "model_module": "jupyter-cytoscape",
      "model_module_version": "^1.2.2",
      "model_name": "EdgeModel",
      "state": {
       "_model_module_version": "^1.2.2",
       "_view_module_version": "^1.2.2",
       "classes": " directed  multiple_edges ",
       "data": {
        "id": "mpg_origin",
        "source": "mpg",
        "target": "origin"
       },
       "removed": true,
       "selectable": false
      }
     },
     "ea302009b28a4ccc9d17acc4b20c778b": {
      "model_module": "@jupyter-widgets/base",
      "model_module_version": "1.2.0",
      "model_name": "LayoutModel",
      "state": {}
     },
     "eb024cf7478f43d8b4a3d303cf5c4b72": {
      "model_module": "jupyter-cytoscape",
      "model_module_version": "^1.2.2",
      "model_name": "NodeModel",
      "state": {
       "_model_module_version": "^1.2.2",
       "_view_module_version": "^1.2.2",
       "data": {
        "id": "mpg",
        "label": "mpg"
       },
       "grabbable": true,
       "grabbed": false,
       "position": {
        "x": 955.6247815611831,
        "y": 217.43475242298555
       },
       "removed": true,
       "selectable": false
      }
     },
     "eb0b6fac856e428dbff72e38dff3ce30": {
      "model_module": "@jupyter-widgets/controls",
      "model_module_version": "1.5.0",
      "model_name": "ButtonStyleModel",
      "state": {}
     },
     "eb458c401a064a6586801bdbda36916b": {
      "model_module": "jupyter-cytoscape",
      "model_module_version": "^1.2.2",
      "model_name": "EdgeModel",
      "state": {
       "_model_module_version": "^1.2.2",
       "_view_module_version": "^1.2.2",
       "classes": " directed  multiple_edges ",
       "data": {
        "id": "displacement_origin",
        "source": "displacement",
        "target": "origin"
       },
       "removed": true,
       "selectable": false
      }
     },
     "eb4ff13b4cb045609e8bc5ffcc7e117f": {
      "model_module": "jupyter-cytoscape",
      "model_module_version": "^1.2.2",
      "model_name": "NodeModel",
      "state": {
       "_model_module_version": "^1.2.2",
       "_view_module_version": "^1.2.2",
       "data": {
        "id": "weight",
        "label": "weight"
       },
       "grabbable": true,
       "grabbed": false,
       "position": {
        "x": 1008.4393040993742,
        "y": 216.62295877631627
       },
       "removed": true,
       "selectable": false
      }
     },
     "eb6ea687d8854eb3ac07a72f709025b7": {
      "model_module": "@jupyter-widgets/base",
      "model_module_version": "1.2.0",
      "model_name": "LayoutModel",
      "state": {}
     },
     "ede8c30dc5bd4409a7d142432bc5caff": {
      "model_module": "jupyter-cytoscape",
      "model_module_version": "^1.2.2",
      "model_name": "EdgeModel",
      "state": {
       "_model_module_version": "^1.2.2",
       "_view_module_version": "^1.2.2",
       "classes": " directed  multiple_edges ",
       "data": {
        "id": "displacement_origin",
        "source": "displacement",
        "target": "origin"
       },
       "removed": true,
       "selectable": false
      }
     },
     "eeda9f366ac347568c781fef6e036698": {
      "model_module": "jupyter-cytoscape",
      "model_module_version": "^1.2.2",
      "model_name": "NodeModel",
      "state": {
       "_model_module_version": "^1.2.2",
       "_view_module_version": "^1.2.2",
       "data": {
        "id": "cylinders",
        "label": "cylinders"
       },
       "grabbable": true,
       "grabbed": false,
       "position": {
        "x": 1217.0367034989686,
        "y": 294.99857798838013
       },
       "selectable": false
      }
     },
     "ef9ad94dee88424191cc47ef193eb1eb": {
      "model_module": "jupyter-cytoscape",
      "model_module_version": "^1.2.2",
      "model_name": "EdgeModel",
      "state": {
       "_model_module_version": "^1.2.2",
       "_view_module_version": "^1.2.2",
       "classes": " directed  multiple_edges ",
       "data": {
        "id": "weight_acceleration",
        "source": "weight",
        "target": "acceleration"
       },
       "removed": true,
       "selectable": false
      }
     },
     "efd21d1c5219497881e2ba4d7ca4367d": {
      "model_module": "jupyter-cytoscape",
      "model_module_version": "^1.2.2",
      "model_name": "EdgeModel",
      "state": {
       "_model_module_version": "^1.2.2",
       "_view_module_version": "^1.2.2",
       "classes": " directed  multiple_edges ",
       "data": {
        "id": "horsepower_acceleration",
        "source": "horsepower",
        "target": "acceleration"
       },
       "removed": true,
       "selectable": false
      }
     },
     "f01f9f86645942a988a3d674d066de89": {
      "model_module": "jupyter-cytoscape",
      "model_module_version": "^1.2.2",
      "model_name": "GraphModel",
      "state": {
       "_adj": {},
       "_model_module_version": "^1.2.2",
       "_view_module": "jupyter-cytoscape",
       "_view_module_version": "^1.2.2"
      }
     },
     "f04e3e968e434e90b4a10db659581b0a": {
      "model_module": "jupyter-cytoscape",
      "model_module_version": "^1.2.2",
      "model_name": "NodeModel",
      "state": {
       "_model_module_version": "^1.2.2",
       "_view_module_version": "^1.2.2",
       "data": {
        "id": "horsepower",
        "label": "horsepower"
       },
       "grabbable": true,
       "grabbed": false,
       "position": {
        "x": 1082.0624766836083,
        "y": 213.55132768320644
       },
       "selectable": false
      }
     },
     "f056a2a5800e4148ad6ba28b99ca86a4": {
      "model_module": "jupyter-cytoscape",
      "model_module_version": "^1.2.2",
      "model_name": "EdgeModel",
      "state": {
       "_model_module_version": "^1.2.2",
       "_view_module_version": "^1.2.2",
       "classes": " directed  multiple_edges ",
       "data": {
        "id": "cylinders_origin",
        "source": "cylinders",
        "target": "origin"
       },
       "selectable": false
      }
     },
     "f122a6fd85ab48aca04814f50c533cca": {
      "model_module": "jupyter-cytoscape",
      "model_module_version": "^1.2.2",
      "model_name": "NodeModel",
      "state": {
       "_model_module_version": "^1.2.2",
       "_view_module_version": "^1.2.2",
       "data": {
        "id": "origin",
        "label": "origin"
       },
       "grabbable": true,
       "grabbed": false,
       "position": {
        "x": 1107.3283295313847,
        "y": 200.86652879220185
       },
       "removed": true,
       "selectable": false
      }
     },
     "f12c3ef7295c41f3ad6326d8f5a38469": {
      "model_module": "@jupyter-widgets/base",
      "model_module_version": "1.2.0",
      "model_name": "LayoutModel",
      "state": {}
     },
     "f198500cf94f411db1d38bbea67790bb": {
      "model_module": "jupyter-cytoscape",
      "model_module_version": "^1.2.2",
      "model_name": "EdgeModel",
      "state": {
       "_model_module_version": "^1.2.2",
       "_view_module_version": "^1.2.2",
       "classes": " directed  multiple_edges ",
       "data": {
        "id": "horsepower_acceleration",
        "source": "horsepower",
        "target": "acceleration"
       },
       "removed": true,
       "selectable": false
      }
     },
     "f1e0861e9c43484aa23201677f0360fb": {
      "model_module": "jupyter-cytoscape",
      "model_module_version": "^1.2.2",
      "model_name": "NodeModel",
      "state": {
       "_model_module_version": "^1.2.2",
       "_view_module_version": "^1.2.2",
       "data": {
        "id": "mpg",
        "label": "mpg"
       },
       "grabbable": true,
       "grabbed": false,
       "position": {
        "x": 1053.123011387638,
        "y": 302.891654365583
       },
       "removed": true,
       "selectable": false
      }
     },
     "f2bba472e790433b9699dd95fbeab898": {
      "model_module": "jupyter-cytoscape",
      "model_module_version": "^1.2.2",
      "model_name": "EdgeModel",
      "state": {
       "_model_module_version": "^1.2.2",
       "_view_module_version": "^1.2.2",
       "classes": " directed  multiple_edges ",
       "data": {
        "id": "displacement_acceleration",
        "source": "displacement",
        "target": "acceleration"
       },
       "removed": true,
       "selectable": false
      }
     },
     "f35ac60cf9a141cb9c7f63f7b1e91576": {
      "model_module": "jupyter-cytoscape",
      "model_module_version": "^1.2.2",
      "model_name": "EdgeModel",
      "state": {
       "_model_module_version": "^1.2.2",
       "_view_module_version": "^1.2.2",
       "classes": " directed  multiple_edges ",
       "data": {
        "id": "displacement_horsepower",
        "source": "displacement",
        "target": "horsepower"
       },
       "selectable": false
      }
     },
     "f3887e97749f479f95256c23e2e33c3b": {
      "model_module": "jupyter-cytoscape",
      "model_module_version": "^1.2.2",
      "model_name": "EdgeModel",
      "state": {
       "_model_module_version": "^1.2.2",
       "_view_module_version": "^1.2.2",
       "classes": " directed  multiple_edges ",
       "data": {
        "id": "horsepower_acceleration",
        "source": "horsepower",
        "target": "acceleration"
       },
       "removed": true,
       "selectable": false
      }
     },
     "f3c5e99a411b4b509ad5448870517fb5": {
      "model_module": "@jupyter-widgets/base",
      "model_module_version": "1.2.0",
      "model_name": "LayoutModel",
      "state": {}
     },
     "f3ef8438bfc14feaa8f4e29104cb3ccf": {
      "model_module": "jupyter-cytoscape",
      "model_module_version": "^1.2.2",
      "model_name": "EdgeModel",
      "state": {
       "_model_module_version": "^1.2.2",
       "_view_module_version": "^1.2.2",
       "classes": " directed  multiple_edges ",
       "data": {
        "id": "displacement_weight",
        "source": "displacement",
        "target": "weight"
       },
       "removed": true,
       "selectable": false
      }
     },
     "f417428a1a7c4e08bf6eac752dd3673b": {
      "model_module": "@jupyter-widgets/controls",
      "model_module_version": "1.5.0",
      "model_name": "ButtonStyleModel",
      "state": {}
     },
     "f42aae08c0b242159b025e7bc38622c6": {
      "model_module": "jupyter-cytoscape",
      "model_module_version": "^1.2.2",
      "model_name": "EdgeModel",
      "state": {
       "_model_module_version": "^1.2.2",
       "_view_module_version": "^1.2.2",
       "classes": " directed  multiple_edges ",
       "data": {
        "id": "origin_mpg",
        "source": "origin",
        "target": "mpg"
       },
       "removed": true,
       "selectable": false
      }
     },
     "f44e625b8e2642b68043a3bd87a12954": {
      "model_module": "jupyter-cytoscape",
      "model_module_version": "^1.2.2",
      "model_name": "NodeModel",
      "state": {
       "_model_module_version": "^1.2.2",
       "_view_module_version": "^1.2.2",
       "data": {
        "id": "weight",
        "label": "weight"
       },
       "grabbable": true,
       "grabbed": false,
       "position": {
        "x": 1103.1188620965092,
        "y": 190.9340907853168
       },
       "removed": true,
       "selectable": false
      }
     },
     "f4834fae3f0a4ec6ae55b3b3abc5321f": {
      "model_module": "jupyter-cytoscape",
      "model_module_version": "^1.2.2",
      "model_name": "EdgeModel",
      "state": {
       "_model_module_version": "^1.2.2",
       "_view_module_version": "^1.2.2",
       "classes": " directed  multiple_edges ",
       "data": {
        "id": "displacement_weight",
        "source": "displacement",
        "target": "weight"
       },
       "removed": true,
       "selectable": false
      }
     },
     "f4ee4edf80bb4eaeaf85969f7e4f50c6": {
      "model_module": "jupyter-cytoscape",
      "model_module_version": "^1.2.2",
      "model_name": "EdgeModel",
      "state": {
       "_model_module_version": "^1.2.2",
       "_view_module_version": "^1.2.2",
       "classes": " directed  multiple_edges ",
       "data": {
        "id": "weight_mpg",
        "source": "weight",
        "target": "mpg"
       },
       "selectable": false
      }
     },
     "f60c08462dbc4cc883e34c7f3149f0c2": {
      "model_module": "jupyter-cytoscape",
      "model_module_version": "^1.2.2",
      "model_name": "NodeModel",
      "state": {
       "_model_module_version": "^1.2.2",
       "_view_module_version": "^1.2.2",
       "data": {
        "id": "acceleration",
        "label": "acceleration"
       },
       "grabbable": true,
       "grabbed": false,
       "position": {
        "x": 1149.7715561070665,
        "y": 89.45009681505593
       },
       "removed": true,
       "selectable": false
      }
     },
     "f6ac3bb97cad409db51e547f10164ef9": {
      "model_module": "jupyter-cytoscape",
      "model_module_version": "^1.2.2",
      "model_name": "NodeModel",
      "state": {
       "_model_module_version": "^1.2.2",
       "_view_module_version": "^1.2.2",
       "data": {
        "id": "horsepower",
        "label": "horsepower"
       },
       "grabbable": true,
       "grabbed": false,
       "position": {
        "x": 1082.0624766836083,
        "y": 213.55132768320644
       },
       "selectable": false
      }
     },
     "f7bf4d87d44e4d7dbfd37121cda62dac": {
      "model_module": "jupyter-cytoscape",
      "model_module_version": "^1.2.2",
      "model_name": "NodeModel",
      "state": {
       "_model_module_version": "^1.2.2",
       "_view_module_version": "^1.2.2",
       "data": {
        "id": "displacement",
        "label": "displacement"
       },
       "grabbable": true,
       "grabbed": false,
       "position": {
        "x": 1063.2933525248386,
        "y": 157.88749042618548
       },
       "removed": true,
       "selectable": false
      }
     },
     "f9a6ddd346b74b52b03dfd7ab4280407": {
      "model_module": "jupyter-cytoscape",
      "model_module_version": "^1.2.2",
      "model_name": "EdgeModel",
      "state": {
       "_model_module_version": "^1.2.2",
       "_view_module_version": "^1.2.2",
       "classes": " directed  multiple_edges ",
       "data": {
        "id": "cylinders_displacement",
        "source": "cylinders",
        "target": "displacement"
       },
       "removed": true,
       "selectable": false
      }
     },
     "f9a949b503044e2fb6840e0cc2def4ec": {
      "model_module": "@jupyter-widgets/controls",
      "model_module_version": "1.5.0",
      "model_name": "ButtonStyleModel",
      "state": {}
     },
     "f9e0dc5c9c0f4ad29bdd82d9bd341bbc": {
      "model_module": "jupyter-cytoscape",
      "model_module_version": "^1.2.2",
      "model_name": "EdgeModel",
      "state": {
       "_model_module_version": "^1.2.2",
       "_view_module_version": "^1.2.2",
       "classes": " directed  multiple_edges ",
       "data": {
        "id": "displacement_weight",
        "source": "displacement",
        "target": "weight"
       },
       "removed": true,
       "selectable": false
      }
     },
     "fae029717f9c403187732db70eccd55d": {
      "model_module": "@jupyter-widgets/base",
      "model_module_version": "1.2.0",
      "model_name": "LayoutModel",
      "state": {}
     },
     "fb32ef47583047b4a0396d2ed4f9a3ce": {
      "model_module": "jupyter-cytoscape",
      "model_module_version": "^1.2.2",
      "model_name": "NodeModel",
      "state": {
       "_model_module_version": "^1.2.2",
       "_view_module_version": "^1.2.2",
       "data": {
        "id": "model_year",
        "label": "model_year"
       },
       "grabbable": true,
       "grabbed": false,
       "position": {
        "x": 1062.3412859858774,
        "y": 263.55132868320646
       },
       "selectable": false
      }
     },
     "fd60b299f01e49fe8a32265f21f73a13": {
      "model_module": "jupyter-cytoscape",
      "model_module_version": "^1.2.2",
      "model_name": "EdgeModel",
      "state": {
       "_model_module_version": "^1.2.2",
       "_view_module_version": "^1.2.2",
       "classes": " directed  multiple_edges ",
       "data": {
        "id": "displacement_weight",
        "source": "displacement",
        "target": "weight"
       },
       "removed": true,
       "selectable": false
      }
     },
     "fd76e12dabed448b9bf5cd657c947050": {
      "model_module": "jupyter-cytoscape",
      "model_module_version": "^1.2.2",
      "model_name": "EdgeModel",
      "state": {
       "_model_module_version": "^1.2.2",
       "_view_module_version": "^1.2.2",
       "classes": " directed  multiple_edges ",
       "data": {
        "id": "weight_acceleration",
        "source": "weight",
        "target": "acceleration"
       },
       "removed": true,
       "selectable": false
      }
     },
     "fda0c4521ef0419b8b5554f5229ba2dc": {
      "model_module": "jupyter-cytoscape",
      "model_module_version": "^1.2.2",
      "model_name": "GraphModel",
      "state": {
       "_adj": {
        "acceleration": {},
        "cylinders": {},
        "displacement": {},
        "horsepower": {},
        "model_year": {},
        "mpg": {},
        "origin": {},
        "weight": {}
       },
       "_model_module_version": "^1.2.2",
       "_view_module": "jupyter-cytoscape",
       "_view_module_version": "^1.2.2",
       "edges": [
        "IPY_MODEL_c01b7bc347064050b71b56bb0a580f74",
        "IPY_MODEL_812952bab336412e8dfeae34842d5866",
        "IPY_MODEL_c823cf5ad25940bea196c95046bb2b55",
        "IPY_MODEL_3fb445f76fde46c5971cb47518504fdf",
        "IPY_MODEL_2cbf562554e34bbab7278957839600bf",
        "IPY_MODEL_853b6f10ed694a17b7a6e8513c11aa97",
        "IPY_MODEL_7e0d88885af748e097ab39738f174dfa",
        "IPY_MODEL_7025b8572d2048a5822440ed60d91dc1",
        "IPY_MODEL_6ba1a8c0b5ed4fa7b6821cbed65cacf0",
        "IPY_MODEL_6ec0bf5682554ab088c67eb46685f94b",
        "IPY_MODEL_630d71c01f1944fa9361183b4b8d42b9",
        "IPY_MODEL_821368e9739142ed89f7eeae61e31459",
        "IPY_MODEL_df9fc8b33acd47018778b29177454a22",
        "IPY_MODEL_3cc033f243a64872bba37325a7854fd1",
        "IPY_MODEL_407938960760482dac7264b0681bd1fe",
        "IPY_MODEL_48f1119c5aad4791b1d5b54f3d5966a7"
       ],
       "nodes": [
        "IPY_MODEL_a1caf44faa4e4de4986c93606b0b19ec",
        "IPY_MODEL_b5fe058e25274d9092d0be7d8a6f783c",
        "IPY_MODEL_03dea97e8f9747bc9bccbfdad5b5f564",
        "IPY_MODEL_518ce7071ff0419dab96e7365dbd39a7",
        "IPY_MODEL_0aa257cc086146e9b9a893b077d43cd8",
        "IPY_MODEL_27eebab149ff4adb9a654646fb71ab9a",
        "IPY_MODEL_9e621bc2dc324cd18edca8df924aaf16",
        "IPY_MODEL_bf5adec7e9f74b4395b2a3f96b88f0b5"
       ]
      }
     },
     "fe47907d1c1a40f2b230d6bd6507187e": {
      "model_module": "jupyter-cytoscape",
      "model_module_version": "^1.2.2",
      "model_name": "EdgeModel",
      "state": {
       "_model_module_version": "^1.2.2",
       "_view_module_version": "^1.2.2",
       "classes": " directed  multiple_edges ",
       "data": {
        "id": "model_year_mpg",
        "source": "model_year",
        "target": "mpg"
       },
       "selectable": false
      }
     },
     "ff85675a8b894bf28609cbd543b0b3dc": {
      "model_module": "jupyter-cytoscape",
      "model_module_version": "^1.2.2",
      "model_name": "EdgeModel",
      "state": {
       "_model_module_version": "^1.2.2",
       "_view_module_version": "^1.2.2",
       "classes": " directed  multiple_edges ",
       "data": {
        "id": "displacement_weight",
        "source": "displacement",
        "target": "weight"
       },
       "removed": true,
       "selectable": false
      }
     },
     "ffbef72b174a4ee8ab7f6a6b69e58ad3": {
      "model_module": "jupyter-cytoscape",
      "model_module_version": "^1.2.2",
      "model_name": "NodeModel",
      "state": {
       "_model_module_version": "^1.2.2",
       "_view_module_version": "^1.2.2",
       "data": {
        "id": "model_year",
        "label": "model_year"
       },
       "grabbable": true,
       "grabbed": false,
       "position": {
        "x": 1102.6931930043122,
        "y": 311.6920129440305
       },
       "removed": true,
       "selectable": false
      }
     }
    },
    "version_major": 2,
    "version_minor": 0
   }
  }
 },
 "nbformat": 4,
 "nbformat_minor": 5
}
